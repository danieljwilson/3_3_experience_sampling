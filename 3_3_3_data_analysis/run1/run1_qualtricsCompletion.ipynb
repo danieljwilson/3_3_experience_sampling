{
 "cells": [
  {
   "cell_type": "markdown",
   "metadata": {},
   "source": [
    "# Setup"
   ]
  },
  {
   "cell_type": "code",
   "execution_count": 2,
   "metadata": {},
   "outputs": [],
   "source": [
    "import numpy as np\n",
    "import pandas as pd"
   ]
  },
  {
   "cell_type": "markdown",
   "metadata": {},
   "source": [
    "# Run 1"
   ]
  },
  {
   "cell_type": "markdown",
   "metadata": {},
   "source": [
    "## Offboarding"
   ]
  },
  {
   "cell_type": "markdown",
   "metadata": {},
   "source": [
    "### Load Data"
   ]
  },
  {
   "cell_type": "code",
   "execution_count": 47,
   "metadata": {},
   "outputs": [],
   "source": [
    "qualtrics = pd.read_csv('/Users/djw/Documents/pCloud_synced/Academics/Projects/2020_thesis/thesis_experiments/3_experiments/3_3_experience_sampling/3_3_1_raw_data/run_1/Qualtrics_BIGap_run1Offboarding_run2Onboarding.csv')\n",
    "\n",
    "qualtrics = qualtrics.iloc[2:,].reset_index(drop=True)\n",
    "qualtrics.Progress = pd.to_numeric(qualtrics.Progress)\n",
    "qualtrics['studentNumber'] = pd.to_numeric(qualtrics.loc[:,'consent_sonaID']).astype('Int64')"
   ]
  },
  {
   "cell_type": "code",
   "execution_count": 34,
   "metadata": {},
   "outputs": [],
   "source": [
    "qualtrics = qualtrics.loc[qualtrics.StartDate > '2022-12-15 17:20:22']"
   ]
  },
  {
   "cell_type": "code",
   "execution_count": 41,
   "metadata": {},
   "outputs": [],
   "source": [
    "df = qualtrics[['studentNumber', 'Progress']]"
   ]
  },
  {
   "cell_type": "markdown",
   "metadata": {},
   "source": [
    "### Subjects"
   ]
  },
  {
   "cell_type": "code",
   "execution_count": 16,
   "metadata": {},
   "outputs": [],
   "source": [
    "# 59 subjects that were kept in study\n",
    "run1subs = [\n",
    "    1008957265,\n",
    "    1009340394,\n",
    "    1009326971,\n",
    "    1009113576,\n",
    "    1009158091,\n",
    "    1008317536,\n",
    "    1008888125,\n",
    "    1007263907,\n",
    "    1009000091,\n",
    "    1009300604,\n",
    "    1005503643,\n",
    "    1009577995,\n",
    "    1008504717,\n",
    "    1009299536,\n",
    "    1009620234,\n",
    "    1007099202,\n",
    "    1007264283,\n",
    "    1006494125,\n",
    "    1006204796,\n",
    "    1009100811,\n",
    "    1007209343,\n",
    "    1009544049,\n",
    "    1004444942,\n",
    "    1006300922,\n",
    "    1008909102,\n",
    "    1008799622,\n",
    "    1007189445,\n",
    "    1009293293,\n",
    "    1009075233,\n",
    "    1007143663,\n",
    "    1008156488,\n",
    "    1008914864,\n",
    "    1009765620,\n",
    "    1009440632,\n",
    "    1006440870,\n",
    "    1008998462,\n",
    "    1008441642,\n",
    "    1009293970,\n",
    "    1009366687,\n",
    "    1009437995,\n",
    "    1009100688,\n",
    "    1006324470,\n",
    "    1009340508,\n",
    "    1009253594,\n",
    "    1005536724,\n",
    "    1005242088,\n",
    "    1008953642,\n",
    "    1006504294,\n",
    "    1004637244,\n",
    "    1009122334,\n",
    "    1009429272,\n",
    "    1009298555,\n",
    "    1009122619,\n",
    "    1009149011,\n",
    "    1005732655,\n",
    "    1009368435,\n",
    "    1009053266,\n",
    "    1007218422,\n",
    "    1006509761\n",
    "]"
   ]
  },
  {
   "cell_type": "markdown",
   "metadata": {},
   "source": [
    "### Subject Progress"
   ]
  },
  {
   "cell_type": "code",
   "execution_count": 17,
   "metadata": {},
   "outputs": [],
   "source": [
    "df = df.loc[df.studentNumber.isin(run1subs)]"
   ]
  },
  {
   "cell_type": "code",
   "execution_count": 18,
   "metadata": {},
   "outputs": [],
   "source": [
    "df = df.sort_values('Progress', ascending=False).drop_duplicates('studentNumber')"
   ]
  },
  {
   "cell_type": "code",
   "execution_count": 19,
   "metadata": {},
   "outputs": [],
   "source": [
    "df = df.sort_values('studentNumber')"
   ]
  },
  {
   "cell_type": "code",
   "execution_count": 43,
   "metadata": {},
   "outputs": [
    {
     "data": {
      "text/html": [
       "<div>\n",
       "<style scoped>\n",
       "    .dataframe tbody tr th:only-of-type {\n",
       "        vertical-align: middle;\n",
       "    }\n",
       "\n",
       "    .dataframe tbody tr th {\n",
       "        vertical-align: top;\n",
       "    }\n",
       "\n",
       "    .dataframe thead th {\n",
       "        text-align: right;\n",
       "    }\n",
       "</style>\n",
       "<table border=\"1\" class=\"dataframe\">\n",
       "  <thead>\n",
       "    <tr style=\"text-align: right;\">\n",
       "      <th></th>\n",
       "      <th>studentNumber</th>\n",
       "      <th>Progress</th>\n",
       "    </tr>\n",
       "  </thead>\n",
       "  <tbody>\n",
       "    <tr>\n",
       "      <th>4</th>\n",
       "      <td>1009765620</td>\n",
       "      <td>100</td>\n",
       "    </tr>\n",
       "    <tr>\n",
       "      <th>175</th>\n",
       "      <td>1009765620</td>\n",
       "      <td>100</td>\n",
       "    </tr>\n",
       "    <tr>\n",
       "      <th>197</th>\n",
       "      <td>1009765620</td>\n",
       "      <td>9</td>\n",
       "    </tr>\n",
       "  </tbody>\n",
       "</table>\n",
       "</div>"
      ],
      "text/plain": [
       "     studentNumber  Progress\n",
       "4       1009765620       100\n",
       "175     1009765620       100\n",
       "197     1009765620         9"
      ]
     },
     "execution_count": 43,
     "metadata": {},
     "output_type": "execute_result"
    }
   ],
   "source": [
    "df.loc[df.studentNumber==1009765620]"
   ]
  },
  {
   "cell_type": "code",
   "execution_count": 42,
   "metadata": {},
   "outputs": [
    {
     "data": {
      "text/html": [
       "<div>\n",
       "<style scoped>\n",
       "    .dataframe tbody tr th:only-of-type {\n",
       "        vertical-align: middle;\n",
       "    }\n",
       "\n",
       "    .dataframe tbody tr th {\n",
       "        vertical-align: top;\n",
       "    }\n",
       "\n",
       "    .dataframe thead th {\n",
       "        text-align: right;\n",
       "    }\n",
       "</style>\n",
       "<table border=\"1\" class=\"dataframe\">\n",
       "  <thead>\n",
       "    <tr style=\"text-align: right;\">\n",
       "      <th></th>\n",
       "      <th>studentNumber</th>\n",
       "      <th>Progress</th>\n",
       "    </tr>\n",
       "  </thead>\n",
       "  <tbody>\n",
       "    <tr>\n",
       "      <th>0</th>\n",
       "      <td>545454</td>\n",
       "      <td>100</td>\n",
       "    </tr>\n",
       "    <tr>\n",
       "      <th>1</th>\n",
       "      <td>1009417800</td>\n",
       "      <td>100</td>\n",
       "    </tr>\n",
       "    <tr>\n",
       "      <th>2</th>\n",
       "      <td>994767800</td>\n",
       "      <td>100</td>\n",
       "    </tr>\n",
       "    <tr>\n",
       "      <th>3</th>\n",
       "      <td>1008888125</td>\n",
       "      <td>100</td>\n",
       "    </tr>\n",
       "    <tr>\n",
       "      <th>4</th>\n",
       "      <td>1009765620</td>\n",
       "      <td>100</td>\n",
       "    </tr>\n",
       "    <tr>\n",
       "      <th>...</th>\n",
       "      <td>...</td>\n",
       "      <td>...</td>\n",
       "    </tr>\n",
       "    <tr>\n",
       "      <th>197</th>\n",
       "      <td>1009765620</td>\n",
       "      <td>9</td>\n",
       "    </tr>\n",
       "    <tr>\n",
       "      <th>198</th>\n",
       "      <td>1009366687</td>\n",
       "      <td>88</td>\n",
       "    </tr>\n",
       "    <tr>\n",
       "      <th>199</th>\n",
       "      <td>1009298555</td>\n",
       "      <td>100</td>\n",
       "    </tr>\n",
       "    <tr>\n",
       "      <th>200</th>\n",
       "      <td>1009368435</td>\n",
       "      <td>100</td>\n",
       "    </tr>\n",
       "    <tr>\n",
       "      <th>201</th>\n",
       "      <td>1009100811</td>\n",
       "      <td>5</td>\n",
       "    </tr>\n",
       "  </tbody>\n",
       "</table>\n",
       "<p>202 rows × 2 columns</p>\n",
       "</div>"
      ],
      "text/plain": [
       "     studentNumber  Progress\n",
       "0           545454       100\n",
       "1       1009417800       100\n",
       "2        994767800       100\n",
       "3       1008888125       100\n",
       "4       1009765620       100\n",
       "..             ...       ...\n",
       "197     1009765620         9\n",
       "198     1009366687        88\n",
       "199     1009298555       100\n",
       "200     1009368435       100\n",
       "201     1009100811         5\n",
       "\n",
       "[202 rows x 2 columns]"
      ]
     },
     "execution_count": 42,
     "metadata": {},
     "output_type": "execute_result"
    }
   ],
   "source": [
    "df"
   ]
  },
  {
   "cell_type": "markdown",
   "metadata": {},
   "source": [
    "# Run 2"
   ]
  },
  {
   "cell_type": "markdown",
   "metadata": {},
   "source": [
    "## Onboarding"
   ]
  },
  {
   "cell_type": "code",
   "execution_count": 4,
   "metadata": {
    "tags": []
   },
   "outputs": [],
   "source": [
    "qualtrics = pd.read_csv('/Users/djw/Documents/pCloud_synced/Academics/Projects/2020_thesis/thesis_experiments/3_experiments/3_3_experience_sampling/3_3_1_raw_data/run_2/run2_qualtricsOnboarding1.csv')\n",
    "qualtrics = qualtrics.iloc[2:,].reset_index(drop=True)\n",
    "qualtrics.Progress = pd.to_numeric(qualtrics.Progress)\n",
    "qualtrics['studentNumber'] = pd.to_numeric(qualtrics.loc[:,'consent_sonaID']).astype('Int64')"
   ]
  },
  {
   "cell_type": "code",
   "execution_count": 5,
   "metadata": {},
   "outputs": [
    {
     "data": {
      "text/plain": [
       "(207, 1843)"
      ]
     },
     "execution_count": 5,
     "metadata": {},
     "output_type": "execute_result"
    }
   ],
   "source": [
    "qualtrics.shape"
   ]
  },
  {
   "cell_type": "code",
   "execution_count": 76,
   "metadata": {},
   "outputs": [
    {
     "data": {
      "text/html": [
       "<div>\n",
       "<style scoped>\n",
       "    .dataframe tbody tr th:only-of-type {\n",
       "        vertical-align: middle;\n",
       "    }\n",
       "\n",
       "    .dataframe tbody tr th {\n",
       "        vertical-align: top;\n",
       "    }\n",
       "\n",
       "    .dataframe thead th {\n",
       "        text-align: right;\n",
       "    }\n",
       "</style>\n",
       "<table border=\"1\" class=\"dataframe\">\n",
       "  <thead>\n",
       "    <tr style=\"text-align: right;\">\n",
       "      <th></th>\n",
       "      <th>StartDate</th>\n",
       "      <th>EndDate</th>\n",
       "      <th>Status</th>\n",
       "      <th>IPAddress</th>\n",
       "      <th>Progress</th>\n",
       "      <th>Duration (in seconds)</th>\n",
       "      <th>Finished</th>\n",
       "      <th>RecordedDate</th>\n",
       "      <th>ResponseId</th>\n",
       "      <th>RecipientLastName</th>\n",
       "      <th>...</th>\n",
       "      <th>time_sec_work_ethic</th>\n",
       "      <th>time_grit_short</th>\n",
       "      <th>time_tipi</th>\n",
       "      <th>time_debrief</th>\n",
       "      <th>time_need_for_cognition</th>\n",
       "      <th>time_boredom_prone</th>\n",
       "      <th>time_ccs</th>\n",
       "      <th>time_ambition_scale_end</th>\n",
       "      <th>id</th>\n",
       "      <th>studentNumber</th>\n",
       "    </tr>\n",
       "  </thead>\n",
       "  <tbody>\n",
       "    <tr>\n",
       "      <th>0</th>\n",
       "      <td>2022-09-26 07:00:07</td>\n",
       "      <td>2022-09-26 07:19:39</td>\n",
       "      <td>1</td>\n",
       "      <td>NaN</td>\n",
       "      <td>100</td>\n",
       "      <td>1171</td>\n",
       "      <td>1</td>\n",
       "      <td>2022-09-26 07:19:40</td>\n",
       "      <td>R_0rFT1H9wRrzkBTH</td>\n",
       "      <td>NaN</td>\n",
       "      <td>...</td>\n",
       "      <td>NaN</td>\n",
       "      <td>NaN</td>\n",
       "      <td>NaN</td>\n",
       "      <td>13:19:01</td>\n",
       "      <td>NaN</td>\n",
       "      <td>NaN</td>\n",
       "      <td>NaN</td>\n",
       "      <td>NaN</td>\n",
       "      <td>NaN</td>\n",
       "      <td>545454</td>\n",
       "    </tr>\n",
       "    <tr>\n",
       "      <th>1</th>\n",
       "      <td>2022-09-26 08:25:28</td>\n",
       "      <td>2022-09-26 09:48:23</td>\n",
       "      <td>0</td>\n",
       "      <td>138.51.94.133</td>\n",
       "      <td>100</td>\n",
       "      <td>4974</td>\n",
       "      <td>1</td>\n",
       "      <td>2022-09-26 09:48:24</td>\n",
       "      <td>R_2aVplIlJAu1X4em</td>\n",
       "      <td>NaN</td>\n",
       "      <td>...</td>\n",
       "      <td>NaN</td>\n",
       "      <td>NaN</td>\n",
       "      <td>NaN</td>\n",
       "      <td>15:47:02</td>\n",
       "      <td>NaN</td>\n",
       "      <td>NaN</td>\n",
       "      <td>NaN</td>\n",
       "      <td>NaN</td>\n",
       "      <td>NaN</td>\n",
       "      <td>1009417800</td>\n",
       "    </tr>\n",
       "    <tr>\n",
       "      <th>2</th>\n",
       "      <td>2022-09-26 08:52:18</td>\n",
       "      <td>2022-09-26 09:51:50</td>\n",
       "      <td>0</td>\n",
       "      <td>99.245.152.101</td>\n",
       "      <td>100</td>\n",
       "      <td>3571</td>\n",
       "      <td>1</td>\n",
       "      <td>2022-09-26 09:51:51</td>\n",
       "      <td>R_1LS5tqowAy51kCL</td>\n",
       "      <td>NaN</td>\n",
       "      <td>...</td>\n",
       "      <td>NaN</td>\n",
       "      <td>NaN</td>\n",
       "      <td>NaN</td>\n",
       "      <td>15:51:26</td>\n",
       "      <td>NaN</td>\n",
       "      <td>NaN</td>\n",
       "      <td>NaN</td>\n",
       "      <td>NaN</td>\n",
       "      <td>NaN</td>\n",
       "      <td>994767800</td>\n",
       "    </tr>\n",
       "    <tr>\n",
       "      <th>3</th>\n",
       "      <td>2022-09-26 07:46:12</td>\n",
       "      <td>2022-09-26 09:52:25</td>\n",
       "      <td>0</td>\n",
       "      <td>99.245.134.119</td>\n",
       "      <td>100</td>\n",
       "      <td>7572</td>\n",
       "      <td>1</td>\n",
       "      <td>2022-09-26 09:52:26</td>\n",
       "      <td>R_2fwHfZs7AQcDl2x</td>\n",
       "      <td>NaN</td>\n",
       "      <td>...</td>\n",
       "      <td>NaN</td>\n",
       "      <td>NaN</td>\n",
       "      <td>NaN</td>\n",
       "      <td>18:52:18</td>\n",
       "      <td>NaN</td>\n",
       "      <td>NaN</td>\n",
       "      <td>NaN</td>\n",
       "      <td>NaN</td>\n",
       "      <td>NaN</td>\n",
       "      <td>1008888125</td>\n",
       "    </tr>\n",
       "    <tr>\n",
       "      <th>4</th>\n",
       "      <td>2022-09-26 10:39:25</td>\n",
       "      <td>2022-09-26 11:31:26</td>\n",
       "      <td>0</td>\n",
       "      <td>108.162.132.139</td>\n",
       "      <td>100</td>\n",
       "      <td>3120</td>\n",
       "      <td>1</td>\n",
       "      <td>2022-09-26 11:31:27</td>\n",
       "      <td>R_1INy8KB8KGcHFQG</td>\n",
       "      <td>NaN</td>\n",
       "      <td>...</td>\n",
       "      <td>NaN</td>\n",
       "      <td>NaN</td>\n",
       "      <td>NaN</td>\n",
       "      <td>17:31:20</td>\n",
       "      <td>NaN</td>\n",
       "      <td>NaN</td>\n",
       "      <td>NaN</td>\n",
       "      <td>NaN</td>\n",
       "      <td>NaN</td>\n",
       "      <td>1009765620</td>\n",
       "    </tr>\n",
       "  </tbody>\n",
       "</table>\n",
       "<p>5 rows × 1843 columns</p>\n",
       "</div>"
      ],
      "text/plain": [
       "             StartDate              EndDate Status        IPAddress  Progress  \\\n",
       "0  2022-09-26 07:00:07  2022-09-26 07:19:39      1              NaN       100   \n",
       "1  2022-09-26 08:25:28  2022-09-26 09:48:23      0    138.51.94.133       100   \n",
       "2  2022-09-26 08:52:18  2022-09-26 09:51:50      0   99.245.152.101       100   \n",
       "3  2022-09-26 07:46:12  2022-09-26 09:52:25      0   99.245.134.119       100   \n",
       "4  2022-09-26 10:39:25  2022-09-26 11:31:26      0  108.162.132.139       100   \n",
       "\n",
       "  Duration (in seconds) Finished         RecordedDate         ResponseId  \\\n",
       "0                  1171        1  2022-09-26 07:19:40  R_0rFT1H9wRrzkBTH   \n",
       "1                  4974        1  2022-09-26 09:48:24  R_2aVplIlJAu1X4em   \n",
       "2                  3571        1  2022-09-26 09:51:51  R_1LS5tqowAy51kCL   \n",
       "3                  7572        1  2022-09-26 09:52:26  R_2fwHfZs7AQcDl2x   \n",
       "4                  3120        1  2022-09-26 11:31:27  R_1INy8KB8KGcHFQG   \n",
       "\n",
       "  RecipientLastName  ... time_sec_work_ethic time_grit_short time_tipi  \\\n",
       "0               NaN  ...                 NaN             NaN       NaN   \n",
       "1               NaN  ...                 NaN             NaN       NaN   \n",
       "2               NaN  ...                 NaN             NaN       NaN   \n",
       "3               NaN  ...                 NaN             NaN       NaN   \n",
       "4               NaN  ...                 NaN             NaN       NaN   \n",
       "\n",
       "  time_debrief time_need_for_cognition time_boredom_prone time_ccs  \\\n",
       "0     13:19:01                     NaN                NaN      NaN   \n",
       "1     15:47:02                     NaN                NaN      NaN   \n",
       "2     15:51:26                     NaN                NaN      NaN   \n",
       "3     18:52:18                     NaN                NaN      NaN   \n",
       "4     17:31:20                     NaN                NaN      NaN   \n",
       "\n",
       "  time_ambition_scale_end   id studentNumber  \n",
       "0                     NaN  NaN        545454  \n",
       "1                     NaN  NaN    1009417800  \n",
       "2                     NaN  NaN     994767800  \n",
       "3                     NaN  NaN    1008888125  \n",
       "4                     NaN  NaN    1009765620  \n",
       "\n",
       "[5 rows x 1843 columns]"
      ]
     },
     "execution_count": 76,
     "metadata": {},
     "output_type": "execute_result"
    }
   ],
   "source": [
    "qualtrics.head()"
   ]
  },
  {
   "cell_type": "code",
   "execution_count": 6,
   "metadata": {},
   "outputs": [
    {
     "data": {
      "text/plain": [
       "0          545454\n",
       "1      1009417800\n",
       "2       994767800\n",
       "3      1008888125\n",
       "4      1009765620\n",
       "          ...    \n",
       "202    1008953642\n",
       "203    1008957265\n",
       "204    1005503643\n",
       "205     818903784\n",
       "206          <NA>\n",
       "Name: studentNumber, Length: 207, dtype: Int64"
      ]
     },
     "execution_count": 6,
     "metadata": {},
     "output_type": "execute_result"
    }
   ],
   "source": [
    "qualtrics.studentNumber"
   ]
  },
  {
   "cell_type": "markdown",
   "metadata": {},
   "source": [
    "## Retest"
   ]
  },
  {
   "cell_type": "code",
   "execution_count": 16,
   "metadata": {},
   "outputs": [
    {
     "data": {
      "text/plain": [
       "['asdf@gmail.com',\n",
       " 'zbj996891103@icloud.com',\n",
       " 'yunyi.zhang@mail.utoronto.ca',\n",
       " 'david.yenn@mail.utoronto.ca',\n",
       " 'ayeshakh.khan@mail.utoronto.ca',\n",
       " 'faaizah.lawal@mail.utoronto.ca',\n",
       " 'sierra.goveia@gmail.com',\n",
       " 'dominique.delcastillo@mail.utoronto.ca',\n",
       " 'funmi.sosanya@mail.utoronto.ca',\n",
       " 'arielle.ramgoolie@mail.utoronto.ca',\n",
       " 'reemaleilan4@gmail.com',\n",
       " 'nuzhat.azim@mail.utoronto.ca',\n",
       " 'bryanyeukyeung@gmail.com',\n",
       " 'bella.brundl@mail.utoronto.ca',\n",
       " 'janicey.lam@mail.utoronto.ca',\n",
       " '1954289908@qq.com',\n",
       " 'emilyj.choi@mail.utoronto.ca',\n",
       " 'albertsszzdd@gmail.com',\n",
       " 'yuhaoo.wang@mail.utoronto.ca',\n",
       " 'michelle.linnnnn@gmail.com',\n",
       " 'gabriel.oliver@mail.utoronto.ca',\n",
       " 'wenjun.he@mail.utoronto.ca',\n",
       " 'd.djaigbe@mail.utoronto.ca',\n",
       " 'jasminee.patel@mail.utoronto.ca',\n",
       " 'sandra2004monica@gmail.com',\n",
       " 'bita.saadat@mail.utoronto.ca',\n",
       " 'Isabellamacisaac@outlook.com',\n",
       " 'jess.kerzner@mail.utoronto.ca',\n",
       " 'liz.ogboghodo@gmail.com',\n",
       " 'ananya.mehra200418@gmail.com',\n",
       " 'denise.hsu@mail.utoronto.ca',\n",
       " 'hayahsiddiqui17@gmail.com',\n",
       " 'aishwaria.pathmanesan@mail.utoronto.ca',\n",
       " 'hafsahh.siddiqui@mail.utoronto.ca',\n",
       " 'cindy.singh@mail.utoronto.ca',\n",
       " 'Nancy.lai@mail.utoronto.ca',\n",
       " 'monica.zhuo@mail.utoronto.ca',\n",
       " 'rachel.karwel@mail.utoronto.ca',\n",
       " 'shaathana2004@gmail.com',\n",
       " 'youzhu.wang@mail.utoronto.ca',\n",
       " 'SpiderJad8@gmail.com',\n",
       " 'd.salomon.03@icloud.com',\n",
       " 'thanigah@gmail.com',\n",
       " 'manasi.goregaonkar@mail.utoronto.ca',\n",
       " 'miri.huang@mail.utoronto.ca',\n",
       " 'tianna.ntim@mail.utoronto.ca',\n",
       " 'aoyuxin@foxmail.com',\n",
       " 'theora.pui@mail.utoronto.ca',\n",
       " 'ashritha.kajendran@mail.utoronto.ca',\n",
       " 'Kaelyn16g@gmail.com',\n",
       " 'mohammad.askari@mail.utoronto.ca',\n",
       " 'lina.park@mail.utoronto.ca',\n",
       " 'itsmeapril416@gmail.com',\n",
       " 'docifunanya@gmail.com',\n",
       " 'zaira.barron@mail.utoronto.ca',\n",
       " 'mihara.guruge@mail.utoronto.ca',\n",
       " 'tanvi.mago@mail.utoronto.ca',\n",
       " 'anhadsingh.tulsi@mail.utoronto.ca',\n",
       " 'nibisha.chaudhary@gmail.com',\n",
       " 'talia.bakhat@mail.utoronto.ca',\n",
       " 'bwh20040615@163.com',\n",
       " 'nasib.tarabishy@mail.utoronto.ca',\n",
       " 'zoey.fan@mail.utoronto.ca',\n",
       " 'shada.abdulhadi29@gmail.com',\n",
       " 'marina.pavlus@mail.utoronto.ca',\n",
       " 'christine.duggan@mail.utoronto.ca',\n",
       " 'amelie.lhenaff@mail.utoronto.ca',\n",
       " 'kenneth.jarencio@mail.utoronto.ca',\n",
       " 'lingling.deng@mail.utoronto.ca',\n",
       " 'nanjiba.rakib@mail.utoronto.ca',\n",
       " 'amisha.hilchand@mail.utoronto.ca',\n",
       " 'sarah.durrani@mail.utoronto.ca',\n",
       " 'makiyo.tan@mail.utoronto.ca',\n",
       " 'smera.shirali@mail.utoronto.ca',\n",
       " 'hibba.khursheed@mail.utoronto.ca',\n",
       " 'hadia.yosofi@mail.utoronto.ca',\n",
       " 'campbja04@gmail.com',\n",
       " 'juliette.gilbert@mail.utoronto.ca',\n",
       " 'vittorioshchan@gmail.com',\n",
       " 'jahnyah24@icloud.com',\n",
       " 'nikita.sarrafpourhabibi@mail.utoronto.ca',\n",
       " 'sunshu3@mail.utoronto.ca',\n",
       " 'mahesha.mahmud@gmail.com',\n",
       " 'y9rdwn0110@gmail.com',\n",
       " 'ravskothari@gmail.com',\n",
       " 'kenjipho@gmail.com',\n",
       " 'olyvia.thomas@mail.utoronto.ca',\n",
       " 'ethan26andrada@gmail.com',\n",
       " 'kajany.prathipan@mail.utoronto.ca',\n",
       " 'bianca.anandarajah@mail.utoronto.ca',\n",
       " 'khadijah.khan32@gmail.com',\n",
       " 'marmar26341@yahoo.com',\n",
       " 'sitha.sukumar@mail.utoronto.ca',\n",
       " 'Justinwu32@outlook.com',\n",
       " 'ken.aligiannis@mail.utoronto.ca',\n",
       " 'amsa.umapathithasan@mail.utoronto.ca',\n",
       " 'enayah.shaikh@mail.utoronto.ca',\n",
       " 'sabinakuvadia@gmail.com',\n",
       " 's.ji@mail.utoronto.ca',\n",
       " 'hailey.cooper@mail.utoronto.ca',\n",
       " 'parin.patel@mail.utoronto.ca',\n",
       " 'joanes.nino105@gmail.com',\n",
       " 'precious.owoade@mail.utoronto.ca',\n",
       " 'rafiya.neki@mail.utoronto.ca',\n",
       " 'ebadimealad@gmail.com',\n",
       " 'ananyavarshneyjp@gmail.com',\n",
       " 'wuda.r.04@gmail.com',\n",
       " 'kaylakm04@gmail.com',\n",
       " 'nazia.adel@mail.utoronto.ca',\n",
       " 'iman.mansoor345@gmail.com',\n",
       " 'sumehra.choudhury@mail.utoronto.ca',\n",
       " 'haraniya.vasanthakumar@mail.utoronto.ca',\n",
       " 'liaba.aamir@mail.utoronto.ca',\n",
       " 'ericshalma28@gmail.com',\n",
       " 'lynda.dufrasne@mail.utoronto.ca',\n",
       " 'cassidyleung338@gmail.com',\n",
       " 'haj.ahmad@mail.utoronto.ca',\n",
       " 'chenqi.xu@mail.utoronto.ca',\n",
       " 'affan.abdulkhader@mail.utoronto.ca',\n",
       " 'unaisa.hassan@mail.utoronto.ca',\n",
       " 'k.quan@mail.utoronto.ca',\n",
       " 'maheerah.anwar@mail.utoronto.ca',\n",
       " 'sueroaguilar@gmail.com',\n",
       " 'Nagham.omran@mail.utoronto.ca',\n",
       " 'e.shirali@mail.utoronto.ca',\n",
       " 'romaisa.irfan@mail.utoronto.ca',\n",
       " 'achchuthan.suthakaran@mail.utoronto.ca',\n",
       " 'jack.burger@mail.utoronto.ca',\n",
       " 'kaynaat.abrar@mail.utoronto.ca',\n",
       " 'n.zegas8@gmail.com',\n",
       " 'jude.sy@mail.utoronto.ca',\n",
       " 'shenmin.dai@mail.utoronto.ca',\n",
       " 'sindujasundar85@gmail.com',\n",
       " 'ahmedsolangi7868@gmail.com',\n",
       " 'budhramshivanie@gmail.com',\n",
       " 'p.raimo@mail.utoronto.ca',\n",
       " 'mariko.nakanishi@mail.utoronto.ca',\n",
       " 'ana.botelho.leal@gmail.com',\n",
       " 'melany.wang@mail.utoronto.ca',\n",
       " 'stephanielt.chan@mail.utoronto.ca',\n",
       " 'hiba.mohammed@mail.utoronto.ca',\n",
       " 'khyati.chhabra@mail.utoronto.ca',\n",
       " 'taseen.syed@mail.utoronto.ca',\n",
       " 'Xai.brown@mail.utoronto.ca',\n",
       " 'sabrina.seecoomar@mail.utoronto.ca',\n",
       " 'preya4541@gmail.com',\n",
       " 'arabi.mahanujam@mail.utoronto.ca',\n",
       " 'zawad.khanmajlish@mail.utoronto.ca',\n",
       " 'jasongahjun.yee@mail.utoronto.ca']"
      ]
     },
     "execution_count": 16,
     "metadata": {},
     "output_type": "execute_result"
    }
   ],
   "source": [
    "df = qualtrics.loc[(qualtrics.retest_app_select_4=='1') & (qualtrics.Progress==100)]\n",
    "emailed = list(df.retest_app_email.dropna().drop_duplicates())"
   ]
  },
  {
   "cell_type": "markdown",
   "metadata": {},
   "source": [
    "## Missing Qualtrics"
   ]
  },
  {
   "cell_type": "markdown",
   "metadata": {},
   "source": [
    "Who of new sign up has completed the qualtrics survey"
   ]
  },
  {
   "cell_type": "code",
   "execution_count": 7,
   "metadata": {},
   "outputs": [],
   "source": [
    "complete = qualtrics.loc[qualtrics.Progress==100]"
   ]
  },
  {
   "cell_type": "code",
   "execution_count": 8,
   "metadata": {},
   "outputs": [],
   "source": [
    "complete = complete.studentNumber.dropna().drop_duplicates()"
   ]
  },
  {
   "cell_type": "code",
   "execution_count": 14,
   "metadata": {},
   "outputs": [],
   "source": [
    "\n",
    "run2 = [\n",
    "        1006740270,\n",
    "    1007419312,\n",
    "    1008411657,\n",
    "    1008801209,\n",
    "    1008821438,\n",
    "    1008823579,\n",
    "    1008896964,\n",
    "    1008968663,\n",
    "    1009028598,\n",
    "    1009156155,\n",
    "    1009159198,\n",
    "    1009161354,\n",
    "    1009264136,\n",
    "    1009264314,\n",
    "    1009297397,\n",
    "    1009329745,\n",
    "    1009368505,\n",
    "    1009387539,\n",
    "    1009399964,\n",
    "    1009400042,\n",
    "    1009500969,\n",
    "    1009520537,\n",
    "    1009613722\n",
    "]"
   ]
  },
  {
   "cell_type": "code",
   "execution_count": 15,
   "metadata": {},
   "outputs": [
    {
     "data": {
      "text/plain": [
       "1007419312"
      ]
     },
     "execution_count": 15,
     "metadata": {},
     "output_type": "execute_result"
    }
   ],
   "source": [
    "run2[1]"
   ]
  },
  {
   "cell_type": "code",
   "execution_count": 16,
   "metadata": {},
   "outputs": [
    {
     "data": {
      "text/plain": [
       "array([False, False, False,  True, False, False, False, False, False,\n",
       "       False, False, False, False, False, False, False, False, False,\n",
       "        True, False, False, False, False])"
      ]
     },
     "execution_count": 16,
     "metadata": {},
     "output_type": "execute_result"
    }
   ],
   "source": [
    "np.isin(run2, complete)"
   ]
  },
  {
   "cell_type": "code",
   "execution_count": 17,
   "metadata": {},
   "outputs": [
    {
     "data": {
      "text/plain": [
       "[array([ 0,  1,  2,  4,  5,  6,  7,  8,  9, 10, 11, 12, 13, 14, 15, 16, 17,\n",
       "        19, 20, 21, 22])]"
      ]
     },
     "execution_count": 17,
     "metadata": {},
     "output_type": "execute_result"
    }
   ],
   "source": [
    "list(np.where(~np.isin(run2, complete)))"
   ]
  },
  {
   "cell_type": "code",
   "execution_count": 18,
   "metadata": {},
   "outputs": [],
   "source": [
    "indices = list(np.where(np.isin(run2, complete))[0])\n",
    "\n",
    "noQualtrics = [run2[index] for index in indices]"
   ]
  },
  {
   "cell_type": "code",
   "execution_count": 19,
   "metadata": {},
   "outputs": [
    {
     "data": {
      "text/plain": [
       "[1008801209, 1009399964]"
      ]
     },
     "execution_count": 19,
     "metadata": {},
     "output_type": "execute_result"
    }
   ],
   "source": [
    "noQualtrics"
   ]
  },
  {
   "cell_type": "code",
   "execution_count": 129,
   "metadata": {},
   "outputs": [
    {
     "name": "stdout",
     "output_type": "stream",
     "text": [
      "[]\n"
     ]
    }
   ],
   "source": [
    "# duplicate subjects?\n",
    "\n",
    "duplicates = [number for number in run2 if run2.count(number) > 1]\n",
    "unique_duplicates = list(set(duplicates))\n",
    "\n",
    "print(unique_duplicates)"
   ]
  }
 ],
 "metadata": {
  "kernelspec": {
   "display_name": "Python 3 (ipykernel)",
   "language": "python",
   "name": "python3"
  },
  "language_info": {
   "codemirror_mode": {
    "name": "ipython",
    "version": 3
   },
   "file_extension": ".py",
   "mimetype": "text/x-python",
   "name": "python",
   "nbconvert_exporter": "python",
   "pygments_lexer": "ipython3",
   "version": "3.9.12"
  }
 },
 "nbformat": 4,
 "nbformat_minor": 4
}
