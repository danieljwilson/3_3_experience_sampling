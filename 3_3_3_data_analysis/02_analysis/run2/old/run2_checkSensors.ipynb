{
 "cells": [
  {
   "cell_type": "markdown",
   "metadata": {},
   "source": [
    "A file to check who we are capturing sensor data from..."
   ]
  },
  {
   "cell_type": "markdown",
   "metadata": {},
   "source": [
    "# Setup"
   ]
  },
  {
   "cell_type": "code",
   "execution_count": 3,
   "metadata": {},
   "outputs": [],
   "source": [
    "import numpy as np\n",
    "import pandas as pd"
   ]
  },
  {
   "cell_type": "code",
   "execution_count": 4,
   "metadata": {},
   "outputs": [],
   "source": [
    "import os\n",
    "import zipfile"
   ]
  },
  {
   "cell_type": "markdown",
   "metadata": {},
   "source": [
    "Need to check for:\n",
    "- all 6 sensors\n",
    "    - device usage\n",
    "    - locations\n",
    "    - keyboard\n",
    "    - message\n",
    "    - phone\n",
    "    - speech\n",
    "    \n",
    "- health kit items\n",
    "    - sleep\n",
    "    - activity ?\n",
    "    - heart rate\n",
    "    - location\n"
   ]
  },
  {
   "cell_type": "code",
   "execution_count": 5,
   "metadata": {},
   "outputs": [],
   "source": [
    "# Use your folder path \n",
    "path = '/Users/djw/Documents/pCloud_synced/Academics/Projects/2020_thesis/thesis_experiments/3_experiments/3_3_experience_sampling/3_3_1_raw_data/run_2/app_data/RK.8D1DBFAD.DJW Thesis_20230101-20230308/'"
   ]
  },
  {
   "cell_type": "code",
   "execution_count": 6,
   "metadata": {},
   "outputs": [],
   "source": [
    "files = os.listdir(os.chdir(path))"
   ]
  },
  {
   "cell_type": "code",
   "execution_count": 7,
   "metadata": {},
   "outputs": [
    {
     "data": {
      "text/plain": [
       "['SurveyResults_20230101-20230308.csv',\n",
       " 'HealthKitV2Samples_EnvironmentalAudioExposure_Deleted_20230101-20230308.csv',\n",
       " 'SurveyTasks_20230101-20230308.csv',\n",
       " 'HealthKitV2Samples_StandHourInterval_20230101-20230308.csv',\n",
       " 'HealthKitV2Samples_AudioExposureEvent_20230101-20230308.csv',\n",
       " 'sensorkit-visits',\n",
       " 'HealthKitV2Samples_Steps_20230101-20230308.csv',\n",
       " 'HealthKitV2Samples_EnvironmentalAudioExposure_20230101-20230308.csv',\n",
       " 'HealthKitV2Samples_RestingEnergyBurned_20230101-20230308.csv',\n",
       " 'HealthKitV2Samples_ToothbrushingEvent_20230101-20230308.csv',\n",
       " 'HealthKitV2Samples_AudioExposureEvent_Deleted_20230101-20230308.csv',\n",
       " 'SurveySpatialSpanMemoryResults_20230101-20230308.csv',\n",
       " 'HealthKitV2Samples_RestingHeartRate_Deleted_20230101-20230308.csv',\n",
       " 'HealthKitV2Samples_DistanceCycling_Deleted_20230101-20230308.csv',\n",
       " 'HealthKitV2Samples_DistanceWalkingRunning_Deleted_20230101-20230308.csv',\n",
       " 'sensorkit-device-usage',\n",
       " 'WeatherData_20230101-20230308.csv',\n",
       " 'HealthKitV2Samples_HeartRateVariability_Deleted_20230101-20230308.csv',\n",
       " 'HealthKitV2Samples_ActiveEnergyBurned_Deleted_20230101-20230308.csv',\n",
       " 'HealthKitActivitySummaries_20230101-20230308.csv',\n",
       " 'SurveyNormalizedReactionTimeResults_20230101-20230308.csv',\n",
       " 'HealthKitV2ActivitySummaries_20230101-20230308.csv',\n",
       " 'sensorkit-keyboard-metrics',\n",
       " 'HealthKitV2Samples_MindfulSession_Deleted_20230101-20230308.csv',\n",
       " 'HealthKitV2Samples_AppleStandTime_Deleted_20230101-20230308.csv',\n",
       " 'SurveyConsentSignatureResults_20230101-20230308.csv',\n",
       " 'HealthKitV2Samples_HeartRate_Deleted_20230101-20230308.csv',\n",
       " 'HealthKitV2Samples_RestingHeartRate_20230101-20230308.csv',\n",
       " 'HealthKitV2Samples_ToothbrushingEvent_Deleted_20230101-20230308.csv',\n",
       " 'HealthKitV2Samples_SleepAnalysisInterval_Deleted_20230101-20230308.csv',\n",
       " 'StudyParticipants_20230308.csv',\n",
       " 'HealthKitV2Samples_HeartRateVariability_20230101-20230308.csv',\n",
       " 'HealthKitV2Samples_MindfulSession_20230101-20230308.csv',\n",
       " 'SurveyStroopResults_20230101-20230308.csv',\n",
       " 'SurveyTowerOfHanoiResults_20230101-20230308.csv',\n",
       " 'HealthKitCharacteristics_20230101-20230308.csv',\n",
       " 'SurveyQuestionResults_20230101-20230308.csv',\n",
       " 'SurveyTrailmakingResults_20230101-20230308.csv',\n",
       " 'HealthKitV2Samples_DistanceCycling_20230101-20230308.csv',\n",
       " 'HealthKitV2Samples_DistanceWalkingRunning_20230101-20230308.csv',\n",
       " 'HealthKitV2Samples_WalkingSpeed_20230101-20230308.csv',\n",
       " 'SurveyData',\n",
       " 'HealthKitSamples_20230101-20230308.csv',\n",
       " 'HealthKitV2Samples_ActiveEnergyBurned_20230101-20230308.csv',\n",
       " 'HealthKitV2Samples_RestingEnergyBurned_Deleted_20230101-20230308.csv',\n",
       " 'HealthKitV2Samples_WalkingHeartRateAverage_Deleted_20230101-20230308.csv',\n",
       " 'HealthKitV2Samples_HandwashingEvent_20230101-20230308.csv',\n",
       " 'HealthKitV2Samples_AppleStandTime_20230101-20230308.csv',\n",
       " 'SurveyStepResults_20230101-20230308.csv',\n",
       " 'HealthKitV2Samples_HeadphoneAudioExposure_Deleted_20230101-20230308.csv',\n",
       " 'Manifest.csv',\n",
       " 'HealthKitV2Samples_WalkingHeartRateAverage_20230101-20230308.csv',\n",
       " 'HealthKitV2Samples_StandHourInterval_Deleted_20230101-20230308.csv',\n",
       " 'AppleLocationVisits_20230101-20230308.csv',\n",
       " 'HealthKitV2Samples_WalkingSpeed_Deleted_20230101-20230308.csv',\n",
       " 'HealthKitV2Statistics_DailySteps_20230101-20230308.csv',\n",
       " 'HealthKitV2Samples_SleepAnalysisInterval_20230101-20230308.csv',\n",
       " 'HealthKitV2Samples_Steps_Deleted_20230101-20230308.csv',\n",
       " 'SurveyReactionTimeResults_20230101-20230308.csv',\n",
       " 'sensorkit-speech-telephony',\n",
       " 'sensorkit-messages-usage',\n",
       " 'HealthKitV2Samples_HeartRate_20230101-20230308.csv',\n",
       " 'SurveyPSATResults_20230101-20230308.csv',\n",
       " 'HealthKitV2Samples_HeadphoneAudioExposure_20230101-20230308.csv',\n",
       " 'HealthKitV2Samples_HandwashingEvent_Deleted_20230101-20230308.csv']"
      ]
     },
     "execution_count": 7,
     "metadata": {},
     "output_type": "execute_result"
    }
   ],
   "source": [
    "files"
   ]
  },
  {
   "cell_type": "code",
   "execution_count": 353,
   "metadata": {},
   "outputs": [],
   "source": [
    "good_files = []\n",
    "\n",
    "# remove unwanted files\n",
    "for file in files:\n",
    "    if file.startswith('RK'):\n",
    "        good_files += [file]"
   ]
  },
  {
   "cell_type": "code",
   "execution_count": 354,
   "metadata": {},
   "outputs": [],
   "source": [
    "good_files.sort()"
   ]
  },
  {
   "cell_type": "code",
   "execution_count": 358,
   "metadata": {},
   "outputs": [],
   "source": [
    "week3 = good_files[14:21]\n",
    "week4 = good_files[21:28]"
   ]
  },
  {
   "cell_type": "code",
   "execution_count": 391,
   "metadata": {},
   "outputs": [
    {
     "data": {
      "text/plain": [
       "['RK.8D1DBFAD.DJWThesis_20221018-20221019',\n",
       " 'RK.8D1DBFAD.DJWThesis_20221019-20221020',\n",
       " 'RK.8D1DBFAD.DJWThesis_20221020-20221021',\n",
       " 'RK.8D1DBFAD.DJWThesis_20221021-20221022',\n",
       " 'RK.8D1DBFAD.DJWThesis_20221022-20221023',\n",
       " 'RK.8D1DBFAD.DJWThesis_20221023-20221024',\n",
       " 'RK.8D1DBFAD.DJWThesis_20221024-20221025']"
      ]
     },
     "execution_count": 391,
     "metadata": {},
     "output_type": "execute_result"
    }
   ],
   "source": [
    "week4"
   ]
  },
  {
   "cell_type": "markdown",
   "metadata": {},
   "source": [
    "## Study Participants"
   ]
  },
  {
   "cell_type": "code",
   "execution_count": 65,
   "metadata": {},
   "outputs": [
    {
     "data": {
      "text/plain": [
       "(93, 3)"
      ]
     },
     "execution_count": 65,
     "metadata": {},
     "output_type": "execute_result"
    }
   ],
   "source": [
    "df = pd.read_csv('/Users/djw/Documents/pCloud_synced/Academics/Projects/2020_thesis/thesis_experiments/3_experiments/3_3_experience_sampling/3_3_1_raw_data/run_2/run2_subjects.csv')\n",
    "df = df[['ParticipantIdentifier', 'SecondaryIdentifier', 'Email']]\n",
    "df.shape"
   ]
  },
  {
   "cell_type": "markdown",
   "metadata": {},
   "source": [
    "## `HealthKitSamples`"
   ]
  },
  {
   "cell_type": "code",
   "execution_count": 66,
   "metadata": {},
   "outputs": [],
   "source": [
    "# indicate how far back to go when looking at data\n",
    "date = '2023-02-26'\n",
    "\n",
    "df = df.assign(Location = 0)\n",
    "df_temp = pd.read_csv(path + 'AppleLocationVisits_20230101-20230308.csv')\n",
    "df.loc[df.ParticipantIdentifier.isin(np.unique(df_temp.loc[df_temp.InsertedDate > date].ParticipantIdentifier)), 'Location'] = 1"
   ]
  },
  {
   "cell_type": "code",
   "execution_count": 67,
   "metadata": {},
   "outputs": [
    {
     "name": "stderr",
     "output_type": "stream",
     "text": [
      "/Users/djw/opt/miniconda3/envs/thesis_env/lib/python3.8/site-packages/IPython/core/interactiveshell.py:3071: DtypeWarning: Columns (19) have mixed types.Specify dtype option on import or set low_memory=False.\n",
      "  has_raised = await self.run_ast_nodes(code_ast.body, cell_name,\n"
     ]
    }
   ],
   "source": [
    "df = df.assign(HRVar = 0)\n",
    "df_temp = pd.read_csv(path + 'HealthKitV2Samples_HeartRateVariability_20230101-20230308.csv')\n",
    "df.loc[df.ParticipantIdentifier.isin(np.unique(df_temp.loc[df_temp.InsertedDate > date].ParticipantIdentifier)), 'HRVar'] = 1\n",
    "\n",
    "df = df.assign(HKActiveEnergy = 0)\n",
    "df_temp = pd.read_csv(path + 'HealthKitV2Samples_ActiveEnergyBurned_20230101-20230308.csv')\n",
    "df.loc[df.ParticipantIdentifier.isin(np.unique(df_temp.loc[df_temp.InsertedDate > date].ParticipantIdentifier)), 'HKActiveEnergy'] = 1"
   ]
  },
  {
   "cell_type": "code",
   "execution_count": 78,
   "metadata": {},
   "outputs": [
    {
     "data": {
      "text/html": [
       "<div>\n",
       "<style scoped>\n",
       "    .dataframe tbody tr th:only-of-type {\n",
       "        vertical-align: middle;\n",
       "    }\n",
       "\n",
       "    .dataframe tbody tr th {\n",
       "        vertical-align: top;\n",
       "    }\n",
       "\n",
       "    .dataframe thead th {\n",
       "        text-align: right;\n",
       "    }\n",
       "</style>\n",
       "<table border=\"1\" class=\"dataframe\">\n",
       "  <thead>\n",
       "    <tr style=\"text-align: right;\">\n",
       "      <th></th>\n",
       "      <th>ParticipantIdentifier</th>\n",
       "      <th>SecondaryIdentifier</th>\n",
       "      <th>Email</th>\n",
       "      <th>Location</th>\n",
       "      <th>HRVar</th>\n",
       "      <th>HKActiveEnergy</th>\n",
       "      <th>SKdeviceUsage</th>\n",
       "      <th>SKkeyboardMetrics</th>\n",
       "      <th>SKmessagesUsage</th>\n",
       "      <th>SKspeechTelephony</th>\n",
       "      <th>SKvisits</th>\n",
       "    </tr>\n",
       "  </thead>\n",
       "  <tbody>\n",
       "    <tr>\n",
       "      <th>0</th>\n",
       "      <td>d5f19109-8219-40e6-9fc1-6e02c3a06dcd</td>\n",
       "      <td>recu1JXHWEL5JXhGa</td>\n",
       "      <td>keyi.huang@mail.utoronto.ca</td>\n",
       "      <td>1</td>\n",
       "      <td>1</td>\n",
       "      <td>1</td>\n",
       "      <td>1</td>\n",
       "      <td>1</td>\n",
       "      <td>1</td>\n",
       "      <td>1</td>\n",
       "      <td>1</td>\n",
       "    </tr>\n",
       "    <tr>\n",
       "      <th>1</th>\n",
       "      <td>852c24f8-36d6-4bbd-b79f-7f6fe64d1275</td>\n",
       "      <td>recPySBG195zlOcxk</td>\n",
       "      <td>yunyi.zhang@mail.utoronto.ca</td>\n",
       "      <td>0</td>\n",
       "      <td>1</td>\n",
       "      <td>1</td>\n",
       "      <td>1</td>\n",
       "      <td>1</td>\n",
       "      <td>1</td>\n",
       "      <td>1</td>\n",
       "      <td>1</td>\n",
       "    </tr>\n",
       "    <tr>\n",
       "      <th>2</th>\n",
       "      <td>35d11ffc-7034-4708-a086-cd4bd47b51fd</td>\n",
       "      <td>rec2HFeoNLSvyHlcq</td>\n",
       "      <td>irene.guerrero@mail.utoronto.ca</td>\n",
       "      <td>1</td>\n",
       "      <td>1</td>\n",
       "      <td>1</td>\n",
       "      <td>1</td>\n",
       "      <td>1</td>\n",
       "      <td>1</td>\n",
       "      <td>1</td>\n",
       "      <td>1</td>\n",
       "    </tr>\n",
       "  </tbody>\n",
       "</table>\n",
       "</div>"
      ],
      "text/plain": [
       "                  ParticipantIdentifier SecondaryIdentifier  \\\n",
       "0  d5f19109-8219-40e6-9fc1-6e02c3a06dcd   recu1JXHWEL5JXhGa   \n",
       "1  852c24f8-36d6-4bbd-b79f-7f6fe64d1275   recPySBG195zlOcxk   \n",
       "2  35d11ffc-7034-4708-a086-cd4bd47b51fd   rec2HFeoNLSvyHlcq   \n",
       "\n",
       "                             Email  Location  HRVar  HKActiveEnergy  \\\n",
       "0      keyi.huang@mail.utoronto.ca         1      1               1   \n",
       "1     yunyi.zhang@mail.utoronto.ca         0      1               1   \n",
       "2  irene.guerrero@mail.utoronto.ca         1      1               1   \n",
       "\n",
       "   SKdeviceUsage  SKkeyboardMetrics  SKmessagesUsage  SKspeechTelephony  \\\n",
       "0              1                  1                1                  1   \n",
       "1              1                  1                1                  1   \n",
       "2              1                  1                1                  1   \n",
       "\n",
       "   SKvisits  \n",
       "0         1  \n",
       "1         1  \n",
       "2         1  "
      ]
     },
     "execution_count": 78,
     "metadata": {},
     "output_type": "execute_result"
    }
   ],
   "source": [
    "df.head(3)"
   ]
  },
  {
   "cell_type": "code",
   "execution_count": 70,
   "metadata": {},
   "outputs": [],
   "source": [
    "df = df.assign(SKdeviceUsage = 0)\n",
    "\n",
    "subs = os.listdir(os.chdir(path + 'sensorkit-device-usage/iPhone'))\n",
    "\n",
    "for sub in subs:\n",
    "    device = os.listdir(os.chdir(path + 'sensorkit-device-usage/iPhone/' + sub))\n",
    "    files = os.listdir(os.chdir(path + 'sensorkit-device-usage/iPhone/' + sub + '/' + device[0]))\n",
    "    x = [file_date for file_date in files if file_date  > date]\n",
    "    if len(x) > 0:\n",
    "        df.loc[df.ParticipantIdentifier == sub, 'SKdeviceUsage'] = 1"
   ]
  },
  {
   "cell_type": "code",
   "execution_count": 71,
   "metadata": {},
   "outputs": [],
   "source": [
    "df = df.assign(SKkeyboardMetrics = 0)\n",
    "subs = os.listdir(os.chdir(path + 'sensorkit-keyboard-metrics/iPhone'))\n",
    "\n",
    "for sub in subs:\n",
    "    device = os.listdir(os.chdir(path + 'sensorkit-keyboard-metrics/iPhone/' + sub))\n",
    "    files = os.listdir(os.chdir(path + 'sensorkit-keyboard-metrics/iPhone/' + sub + '/' + device[0]))\n",
    "    x = [file_date for file_date in files if file_date  > date]\n",
    "    if len(x) > 0:\n",
    "        df.loc[df.ParticipantIdentifier == sub, 'SKkeyboardMetrics'] = 1"
   ]
  },
  {
   "cell_type": "code",
   "execution_count": 73,
   "metadata": {},
   "outputs": [],
   "source": [
    "df = df.assign(SKmessagesUsage = 0)\n",
    "\n",
    "subs = os.listdir(os.chdir(path + 'sensorkit-messages-usage/iPhone'))\n",
    "\n",
    "for sub in subs:\n",
    "    device = os.listdir(os.chdir(path + 'sensorkit-messages-usage/iPhone/' + sub))\n",
    "    files = os.listdir(os.chdir(path + 'sensorkit-messages-usage/iPhone/' + sub + '/' + device[0]))\n",
    "    x = [file_date for file_date in files if file_date  > date]\n",
    "    if len(x) > 0:\n",
    "        df.loc[df.ParticipantIdentifier == sub, 'SKmessagesUsage'] = 1"
   ]
  },
  {
   "cell_type": "code",
   "execution_count": 75,
   "metadata": {},
   "outputs": [],
   "source": [
    "df = df.assign(SKspeechTelephony = 0)\n",
    "\n",
    "subs = os.listdir(os.chdir(path + 'sensorkit-speech-telephony/iPhone'))\n",
    "\n",
    "for sub in subs:\n",
    "    device = os.listdir(os.chdir(path + 'sensorkit-speech-telephony/iPhone/' + sub))\n",
    "    files = os.listdir(os.chdir(path + 'sensorkit-speech-telephony/iPhone/' + sub + '/' + device[0]))\n",
    "    x = [file_date for file_date in files if file_date  > date]\n",
    "    if len(x) > 0:\n",
    "        df.loc[df.ParticipantIdentifier == sub, 'SKspeechTelephony'] = 1"
   ]
  },
  {
   "cell_type": "code",
   "execution_count": 77,
   "metadata": {},
   "outputs": [],
   "source": [
    "df = df.assign(SKvisits = 0)\n",
    "\n",
    "subs = os.listdir(os.chdir(path + 'sensorkit-visits/iPhone'))\n",
    "\n",
    "for sub in subs:\n",
    "    device = os.listdir(os.chdir(path + 'sensorkit-visits/iPhone/' + sub))\n",
    "    files = os.listdir(os.chdir(path + 'sensorkit-visits/iPhone/' + sub + '/' + device[0]))\n",
    "    x = [file_date for file_date in files if file_date  > date]\n",
    "    if len(x) > 0:\n",
    "        df.loc[df.ParticipantIdentifier == sub, 'SKvisits'] = 1"
   ]
  },
  {
   "cell_type": "code",
   "execution_count": 85,
   "metadata": {},
   "outputs": [],
   "source": [
    "# make email all lowercase so sorting works\n",
    "df['Email'] = df['Email'].apply(str.lower)\n",
    "# sort by email so can copy paste to Airtable\n",
    "df = df.sort_values(by = ['Email'])\n",
    "\n",
    "df.to_csv(path + 'adherenceCheck.csv', index=False)"
   ]
  },
  {
   "cell_type": "code",
   "execution_count": 87,
   "metadata": {},
   "outputs": [
    {
     "data": {
      "text/plain": [
       "ParticipantIdentifier    98f7c7df-3bbf-44bf-99be-e2995f557e91ec83dfe2-3...\n",
       "SecondaryIdentifier      rec27fWK4UmKDxN8urecS93j78tHbSdGe8recraaTSlAyl...\n",
       "Email                    abigale.richards@mail.utoronto.caabisha.jeyapa...\n",
       "Location                                                                54\n",
       "HRVar                                                                   87\n",
       "HKActiveEnergy                                                          90\n",
       "SKdeviceUsage                                                           83\n",
       "SKkeyboardMetrics                                                       68\n",
       "SKmessagesUsage                                                         91\n",
       "SKspeechTelephony                                                       76\n",
       "SKvisits                                                                78\n",
       "dtype: object"
      ]
     },
     "execution_count": 87,
     "metadata": {},
     "output_type": "execute_result"
    }
   ],
   "source": [
    "df.sum()"
   ]
  },
  {
   "cell_type": "code",
   "execution_count": null,
   "metadata": {},
   "outputs": [],
   "source": []
  }
 ],
 "metadata": {
  "kernelspec": {
   "display_name": "Python 3",
   "language": "python",
   "name": "python3"
  },
  "language_info": {
   "codemirror_mode": {
    "name": "ipython",
    "version": 3
   },
   "file_extension": ".py",
   "mimetype": "text/x-python",
   "name": "python",
   "nbconvert_exporter": "python",
   "pygments_lexer": "ipython3",
   "version": "3.8.3"
  }
 },
 "nbformat": 4,
 "nbformat_minor": 4
}
