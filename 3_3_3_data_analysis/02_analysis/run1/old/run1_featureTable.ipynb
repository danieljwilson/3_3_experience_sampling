{
 "cells": [
  {
   "cell_type": "markdown",
   "metadata": {},
   "source": [
    "# Setup"
   ]
  },
  {
   "cell_type": "code",
   "execution_count": 1,
   "metadata": {},
   "outputs": [],
   "source": [
    "import numpy as np\n",
    "import pandas as pd\n",
    "import os\n",
    "from tqdm import tqdm\n",
    "import datetime\n",
    "from dateutil import parser\n",
    "import matplotlib.pyplot as plt\n",
    "import seaborn as sns"
   ]
  },
  {
   "cell_type": "markdown",
   "metadata": {
    "tags": []
   },
   "source": [
    "## Set Paths"
   ]
  },
  {
   "cell_type": "code",
   "execution_count": 2,
   "metadata": {},
   "outputs": [],
   "source": [
    "path = '/Users/djw/Documents/pCloud_synced/Academics/Projects/2020_thesis/thesis_experiments/3_experiments/3_3_experience_sampling/3_3_1_raw_data/run_1/app_data/'\n"
   ]
  },
  {
   "cell_type": "code",
   "execution_count": 3,
   "metadata": {},
   "outputs": [],
   "source": [
    "save_path = '/Users/djw/Documents/pCloud_synced/Academics/Projects/2020_thesis/thesis_experiments/3_experiments/3_3_experience_sampling/3_3_2_processed_data/'\n"
   ]
  },
  {
   "cell_type": "code",
   "execution_count": 4,
   "metadata": {},
   "outputs": [],
   "source": [
    "# Study Participants"
   ]
  },
  {
   "cell_type": "code",
   "execution_count": 5,
   "metadata": {},
   "outputs": [],
   "source": [
    "subjects = pd.read_csv(path + '../run1_subjects.csv')\n",
    "subjects = subjects.ParticipantIdentifier"
   ]
  },
  {
   "cell_type": "markdown",
   "metadata": {},
   "source": [
    "## Import Data"
   ]
  },
  {
   "cell_type": "markdown",
   "metadata": {
    "tags": []
   },
   "source": [
    "### Survey Questions"
   ]
  },
  {
   "cell_type": "code",
   "execution_count": 501,
   "metadata": {},
   "outputs": [
    {
     "name": "stdout",
     "output_type": "stream",
     "text": [
      "deleted existing df\n"
     ]
    }
   ],
   "source": [
    "# erase df if it already exists\n",
    "if 'df' in globals():\n",
    "    del(df)\n",
    "    print('deleted existing df')"
   ]
  },
  {
   "cell_type": "code",
   "execution_count": 502,
   "metadata": {},
   "outputs": [
    {
     "name": "stderr",
     "output_type": "stream",
     "text": [
      "100%|████████████████████████████████████████████| 87/87 [00:04<00:00, 18.35it/s]\n"
     ]
    }
   ],
   "source": [
    "# loop through all days\n",
    "days = [i for i in os.listdir(path) if i.startswith('RK')]\n",
    "for day in tqdm(days):\n",
    "    files = os.listdir(path + day)\n",
    "    surveyQuestions = [i for i in files if i.startswith('SurveyQuestionResults')]\n",
    "    # there should be only one\n",
    "    for file in surveyQuestions:\n",
    "        if 'df' not in globals():\n",
    "            df = pd.read_csv(path + day + '/' + file)\n",
    "        else:\n",
    "            temp_df = pd.read_csv(path + day + '/' + file)\n",
    "            df = pd.concat([df,temp_df], axis=0)"
   ]
  },
  {
   "cell_type": "markdown",
   "metadata": {},
   "source": [
    "Note that there are 87 \"days\" as I added Dec 22, 23 and 24 due to SensorKit data often coming in with a lag...should not be relevant for active tasks"
   ]
  },
  {
   "cell_type": "code",
   "execution_count": 503,
   "metadata": {},
   "outputs": [
    {
     "data": {
      "text/plain": [
       "(597839, 8)"
      ]
     },
     "execution_count": 503,
     "metadata": {},
     "output_type": "execute_result"
    }
   ],
   "source": [
    "df.shape"
   ]
  },
  {
   "cell_type": "code",
   "execution_count": 504,
   "metadata": {},
   "outputs": [
    {
     "data": {
      "text/html": [
       "<div>\n",
       "<style scoped>\n",
       "    .dataframe tbody tr th:only-of-type {\n",
       "        vertical-align: middle;\n",
       "    }\n",
       "\n",
       "    .dataframe tbody tr th {\n",
       "        vertical-align: top;\n",
       "    }\n",
       "\n",
       "    .dataframe thead th {\n",
       "        text-align: right;\n",
       "    }\n",
       "</style>\n",
       "<table border=\"1\" class=\"dataframe\">\n",
       "  <thead>\n",
       "    <tr style=\"text-align: right;\">\n",
       "      <th></th>\n",
       "      <th>ParticipantIdentifier</th>\n",
       "      <th>ResultIdentifier</th>\n",
       "      <th>Answers</th>\n",
       "      <th>EndDate</th>\n",
       "    </tr>\n",
       "  </thead>\n",
       "  <tbody>\n",
       "    <tr>\n",
       "      <th>0</th>\n",
       "      <td>6338356d-f098-46ea-b270-10c6fff7e67e</td>\n",
       "      <td>WEEKLY_goal_report1</td>\n",
       "      <td>19</td>\n",
       "      <td>2022-10-21T21:55:56-04:00</td>\n",
       "    </tr>\n",
       "    <tr>\n",
       "      <th>1</th>\n",
       "      <td>6338356d-f098-46ea-b270-10c6fff7e67e</td>\n",
       "      <td>WEEKLY_goal_report2</td>\n",
       "      <td>2</td>\n",
       "      <td>2022-10-21T21:55:59-04:00</td>\n",
       "    </tr>\n",
       "    <tr>\n",
       "      <th>2</th>\n",
       "      <td>c62ae7a2-6fe6-4fd5-9b9e-93773b08d8b9</td>\n",
       "      <td>task_custom_bart_info1</td>\n",
       "      <td>{\"totalEarnings\":0}</td>\n",
       "      <td>2022-10-24T07:04:41-04:00</td>\n",
       "    </tr>\n",
       "    <tr>\n",
       "      <th>3</th>\n",
       "      <td>c62ae7a2-6fe6-4fd5-9b9e-93773b08d8b9</td>\n",
       "      <td>task_custom_bart_info2</td>\n",
       "      <td>{\"totalEarnings\":0}</td>\n",
       "      <td>2022-10-24T07:04:41-04:00</td>\n",
       "    </tr>\n",
       "    <tr>\n",
       "      <th>4</th>\n",
       "      <td>c62ae7a2-6fe6-4fd5-9b9e-93773b08d8b9</td>\n",
       "      <td>task_custom_bart_info3</td>\n",
       "      <td>{\"totalEarnings\":0}</td>\n",
       "      <td>2022-10-24T07:04:42-04:00</td>\n",
       "    </tr>\n",
       "  </tbody>\n",
       "</table>\n",
       "</div>"
      ],
      "text/plain": [
       "                  ParticipantIdentifier        ResultIdentifier  \\\n",
       "0  6338356d-f098-46ea-b270-10c6fff7e67e     WEEKLY_goal_report1   \n",
       "1  6338356d-f098-46ea-b270-10c6fff7e67e     WEEKLY_goal_report2   \n",
       "2  c62ae7a2-6fe6-4fd5-9b9e-93773b08d8b9  task_custom_bart_info1   \n",
       "3  c62ae7a2-6fe6-4fd5-9b9e-93773b08d8b9  task_custom_bart_info2   \n",
       "4  c62ae7a2-6fe6-4fd5-9b9e-93773b08d8b9  task_custom_bart_info3   \n",
       "\n",
       "               Answers                    EndDate  \n",
       "0                   19  2022-10-21T21:55:56-04:00  \n",
       "1                    2  2022-10-21T21:55:59-04:00  \n",
       "2  {\"totalEarnings\":0}  2022-10-24T07:04:41-04:00  \n",
       "3  {\"totalEarnings\":0}  2022-10-24T07:04:41-04:00  \n",
       "4  {\"totalEarnings\":0}  2022-10-24T07:04:42-04:00  "
      ]
     },
     "execution_count": 504,
     "metadata": {},
     "output_type": "execute_result"
    }
   ],
   "source": [
    "# select relevant columns\n",
    "df = df[['ParticipantIdentifier', 'ResultIdentifier', 'Answers', 'EndDate']]\n",
    "df = df.reset_index(drop=True)\n",
    "df.head()"
   ]
  },
  {
   "cell_type": "code",
   "execution_count": 505,
   "metadata": {},
   "outputs": [
    {
     "data": {
      "text/plain": [
       "ParticipantIdentifier     0\n",
       "ResultIdentifier          0\n",
       "Answers                   0\n",
       "EndDate                  15\n",
       "dtype: int64"
      ]
     },
     "execution_count": 505,
     "metadata": {},
     "output_type": "execute_result"
    }
   ],
   "source": [
    "# check for na dates...\n",
    "df.isna().sum()"
   ]
  },
  {
   "cell_type": "code",
   "execution_count": 506,
   "metadata": {},
   "outputs": [],
   "source": [
    "df = df.dropna(subset=['EndDate']).reset_index(drop=True)"
   ]
  },
  {
   "cell_type": "code",
   "execution_count": 507,
   "metadata": {},
   "outputs": [],
   "source": [
    "# select only subjects in run 1\n",
    "df = df.loc[df.ParticipantIdentifier.isin(subjects)].reset_index(drop=True)"
   ]
  },
  {
   "cell_type": "code",
   "execution_count": 508,
   "metadata": {
    "tags": []
   },
   "outputs": [
    {
     "name": "stderr",
     "output_type": "stream",
     "text": [
      "100%|██████████████████████████████████| 586408/586408 [02:44<00:00, 3569.25it/s]\n"
     ]
    }
   ],
   "source": [
    "# add trial date and time columns\n",
    "for i in tqdm(range(df.shape[0])):\n",
    "    dt = parser.parse(df.loc[i, 'EndDate'])\n",
    "    df.loc[i, 'datetime'] = dt\n",
    "    df.loc[i, 'trial_date'] = (dt + datetime.timedelta(hours = -4)).date() # trial day associated with sample (4am is when the day flips)\n",
    "    df.loc[i, 'time'] = dt.time()"
   ]
  },
  {
   "cell_type": "code",
   "execution_count": 509,
   "metadata": {},
   "outputs": [
    {
     "data": {
      "text/html": [
       "<div>\n",
       "<style scoped>\n",
       "    .dataframe tbody tr th:only-of-type {\n",
       "        vertical-align: middle;\n",
       "    }\n",
       "\n",
       "    .dataframe tbody tr th {\n",
       "        vertical-align: top;\n",
       "    }\n",
       "\n",
       "    .dataframe thead th {\n",
       "        text-align: right;\n",
       "    }\n",
       "</style>\n",
       "<table border=\"1\" class=\"dataframe\">\n",
       "  <thead>\n",
       "    <tr style=\"text-align: right;\">\n",
       "      <th></th>\n",
       "      <th>ParticipantIdentifier</th>\n",
       "      <th>ResultIdentifier</th>\n",
       "      <th>Answers</th>\n",
       "      <th>EndDate</th>\n",
       "      <th>datetime</th>\n",
       "      <th>trial_date</th>\n",
       "      <th>time</th>\n",
       "    </tr>\n",
       "  </thead>\n",
       "  <tbody>\n",
       "    <tr>\n",
       "      <th>0</th>\n",
       "      <td>6338356d-f098-46ea-b270-10c6fff7e67e</td>\n",
       "      <td>WEEKLY_goal_report1</td>\n",
       "      <td>19</td>\n",
       "      <td>2022-10-21T21:55:56-04:00</td>\n",
       "      <td>2022-10-21 21:55:56-04:00</td>\n",
       "      <td>2022-10-21</td>\n",
       "      <td>21:55:56</td>\n",
       "    </tr>\n",
       "    <tr>\n",
       "      <th>1</th>\n",
       "      <td>6338356d-f098-46ea-b270-10c6fff7e67e</td>\n",
       "      <td>WEEKLY_goal_report2</td>\n",
       "      <td>2</td>\n",
       "      <td>2022-10-21T21:55:59-04:00</td>\n",
       "      <td>2022-10-21 21:55:59-04:00</td>\n",
       "      <td>2022-10-21</td>\n",
       "      <td>21:55:59</td>\n",
       "    </tr>\n",
       "    <tr>\n",
       "      <th>2</th>\n",
       "      <td>c62ae7a2-6fe6-4fd5-9b9e-93773b08d8b9</td>\n",
       "      <td>task_custom_bart_info1</td>\n",
       "      <td>{\"totalEarnings\":0}</td>\n",
       "      <td>2022-10-24T07:04:41-04:00</td>\n",
       "      <td>2022-10-24 07:04:41-04:00</td>\n",
       "      <td>2022-10-24</td>\n",
       "      <td>07:04:41</td>\n",
       "    </tr>\n",
       "    <tr>\n",
       "      <th>3</th>\n",
       "      <td>c62ae7a2-6fe6-4fd5-9b9e-93773b08d8b9</td>\n",
       "      <td>task_custom_bart_info2</td>\n",
       "      <td>{\"totalEarnings\":0}</td>\n",
       "      <td>2022-10-24T07:04:41-04:00</td>\n",
       "      <td>2022-10-24 07:04:41-04:00</td>\n",
       "      <td>2022-10-24</td>\n",
       "      <td>07:04:41</td>\n",
       "    </tr>\n",
       "    <tr>\n",
       "      <th>4</th>\n",
       "      <td>c62ae7a2-6fe6-4fd5-9b9e-93773b08d8b9</td>\n",
       "      <td>task_custom_bart_info3</td>\n",
       "      <td>{\"totalEarnings\":0}</td>\n",
       "      <td>2022-10-24T07:04:42-04:00</td>\n",
       "      <td>2022-10-24 07:04:42-04:00</td>\n",
       "      <td>2022-10-24</td>\n",
       "      <td>07:04:42</td>\n",
       "    </tr>\n",
       "  </tbody>\n",
       "</table>\n",
       "</div>"
      ],
      "text/plain": [
       "                  ParticipantIdentifier        ResultIdentifier  \\\n",
       "0  6338356d-f098-46ea-b270-10c6fff7e67e     WEEKLY_goal_report1   \n",
       "1  6338356d-f098-46ea-b270-10c6fff7e67e     WEEKLY_goal_report2   \n",
       "2  c62ae7a2-6fe6-4fd5-9b9e-93773b08d8b9  task_custom_bart_info1   \n",
       "3  c62ae7a2-6fe6-4fd5-9b9e-93773b08d8b9  task_custom_bart_info2   \n",
       "4  c62ae7a2-6fe6-4fd5-9b9e-93773b08d8b9  task_custom_bart_info3   \n",
       "\n",
       "               Answers                    EndDate                   datetime  \\\n",
       "0                   19  2022-10-21T21:55:56-04:00  2022-10-21 21:55:56-04:00   \n",
       "1                    2  2022-10-21T21:55:59-04:00  2022-10-21 21:55:59-04:00   \n",
       "2  {\"totalEarnings\":0}  2022-10-24T07:04:41-04:00  2022-10-24 07:04:41-04:00   \n",
       "3  {\"totalEarnings\":0}  2022-10-24T07:04:41-04:00  2022-10-24 07:04:41-04:00   \n",
       "4  {\"totalEarnings\":0}  2022-10-24T07:04:42-04:00  2022-10-24 07:04:42-04:00   \n",
       "\n",
       "   trial_date      time  \n",
       "0  2022-10-21  21:55:56  \n",
       "1  2022-10-21  21:55:59  \n",
       "2  2022-10-24  07:04:41  \n",
       "3  2022-10-24  07:04:41  \n",
       "4  2022-10-24  07:04:42  "
      ]
     },
     "execution_count": 509,
     "metadata": {},
     "output_type": "execute_result"
    }
   ],
   "source": [
    "df.head()"
   ]
  },
  {
   "cell_type": "code",
   "execution_count": 594,
   "metadata": {},
   "outputs": [],
   "source": [
    "# save to csv\n",
    "df.to_csv(save_path + 'run1_survey_results.csv')"
   ]
  },
  {
   "cell_type": "markdown",
   "metadata": {},
   "source": [
    "# Gap App"
   ]
  },
  {
   "cell_type": "markdown",
   "metadata": {},
   "source": [
    "## Self Report"
   ]
  },
  {
   "cell_type": "markdown",
   "metadata": {},
   "source": [
    "### Affect"
   ]
  },
  {
   "cell_type": "markdown",
   "metadata": {},
   "source": [
    "#### Select Data"
   ]
  },
  {
   "cell_type": "code",
   "execution_count": 17,
   "metadata": {},
   "outputs": [],
   "source": [
    "df_affect = df.loc[df.ResultIdentifier.str.startswith('affect_')].reset_index(drop=True)\n",
    "df_affect_am = df.loc[(df.ResultIdentifier.str.startswith('affect_')) & (df.ResultIdentifier.str.endswith('am'))].reset_index(drop=True)\n",
    "df_affect_pm = df.loc[(df.ResultIdentifier.str.startswith('affect_')) & (~df.ResultIdentifier.str.endswith('am'))].reset_index(drop=True)"
   ]
  },
  {
   "cell_type": "code",
   "execution_count": 18,
   "metadata": {},
   "outputs": [
    {
     "data": {
      "text/plain": [
       "(31340, 7)"
      ]
     },
     "execution_count": 18,
     "metadata": {},
     "output_type": "execute_result"
    }
   ],
   "source": [
    "df_affect_am.shape"
   ]
  },
  {
   "cell_type": "code",
   "execution_count": 19,
   "metadata": {},
   "outputs": [
    {
     "data": {
      "text/plain": [
       "(81760, 7)"
      ]
     },
     "execution_count": 19,
     "metadata": {},
     "output_type": "execute_result"
    }
   ],
   "source": [
    "df_affect_pm.shape"
   ]
  },
  {
   "cell_type": "markdown",
   "metadata": {},
   "source": [
    "#### Convert to Wide"
   ]
  },
  {
   "cell_type": "code",
   "execution_count": 20,
   "metadata": {},
   "outputs": [],
   "source": [
    "df_affect_pm_wide = df_affect_pm.pivot_table(index=[\"ParticipantIdentifier\", \"trial_date\"], \n",
    "                    columns='ResultIdentifier', \n",
    "                    values='Answers').reset_index()\n",
    "# get rid of name on index\n",
    "df_affect_pm_wide = df_affect_pm_wide.rename_axis(None, axis=1)\n",
    "\n",
    "df_affect_am_wide = df_affect_am.pivot_table(index=[\"ParticipantIdentifier\", \"trial_date\"], \n",
    "                    columns='ResultIdentifier', \n",
    "                    values='Answers').reset_index()\n",
    "# get rid of name on index\n",
    "df_affect_am_wide = df_affect_am_wide.rename_axis(None, axis=1)"
   ]
  },
  {
   "cell_type": "code",
   "execution_count": 21,
   "metadata": {},
   "outputs": [
    {
     "data": {
      "text/html": [
       "<div>\n",
       "<style scoped>\n",
       "    .dataframe tbody tr th:only-of-type {\n",
       "        vertical-align: middle;\n",
       "    }\n",
       "\n",
       "    .dataframe tbody tr th {\n",
       "        vertical-align: top;\n",
       "    }\n",
       "\n",
       "    .dataframe thead th {\n",
       "        text-align: right;\n",
       "    }\n",
       "</style>\n",
       "<table border=\"1\" class=\"dataframe\">\n",
       "  <thead>\n",
       "    <tr style=\"text-align: right;\">\n",
       "      <th></th>\n",
       "      <th>ParticipantIdentifier</th>\n",
       "      <th>trial_date</th>\n",
       "      <th>affect_neg_angry</th>\n",
       "      <th>affect_neg_ashamed</th>\n",
       "      <th>affect_neg_bored</th>\n",
       "      <th>affect_neg_depressed</th>\n",
       "      <th>affect_neg_embarrassed</th>\n",
       "      <th>affect_neg_frustrated</th>\n",
       "      <th>affect_neg_guilty</th>\n",
       "      <th>affect_neg_lazy</th>\n",
       "      <th>...</th>\n",
       "      <th>affect_neg_sad_am</th>\n",
       "      <th>affect_neg_stressed_am</th>\n",
       "      <th>affect_pos_amused_am</th>\n",
       "      <th>affect_pos_appreciated_am</th>\n",
       "      <th>affect_pos_excited_am</th>\n",
       "      <th>affect_pos_focused_am</th>\n",
       "      <th>affect_pos_happy_am</th>\n",
       "      <th>affect_pos_hopeful_am</th>\n",
       "      <th>affect_pos_motivated_am</th>\n",
       "      <th>affect_pos_relaxedCalm_am</th>\n",
       "    </tr>\n",
       "  </thead>\n",
       "  <tbody>\n",
       "    <tr>\n",
       "      <th>0</th>\n",
       "      <td>0501ba67-3406-4779-aff1-878a0e9f7885</td>\n",
       "      <td>2022-09-30</td>\n",
       "      <td>1.0</td>\n",
       "      <td>4.0</td>\n",
       "      <td>5.0</td>\n",
       "      <td>4.0</td>\n",
       "      <td>1.0</td>\n",
       "      <td>3.0</td>\n",
       "      <td>4.0</td>\n",
       "      <td>4.0</td>\n",
       "      <td>...</td>\n",
       "      <td>NaN</td>\n",
       "      <td>NaN</td>\n",
       "      <td>NaN</td>\n",
       "      <td>NaN</td>\n",
       "      <td>NaN</td>\n",
       "      <td>NaN</td>\n",
       "      <td>NaN</td>\n",
       "      <td>NaN</td>\n",
       "      <td>NaN</td>\n",
       "      <td>NaN</td>\n",
       "    </tr>\n",
       "    <tr>\n",
       "      <th>1</th>\n",
       "      <td>0501ba67-3406-4779-aff1-878a0e9f7885</td>\n",
       "      <td>2022-10-01</td>\n",
       "      <td>1.0</td>\n",
       "      <td>2.0</td>\n",
       "      <td>1.0</td>\n",
       "      <td>1.0</td>\n",
       "      <td>1.0</td>\n",
       "      <td>3.0</td>\n",
       "      <td>3.0</td>\n",
       "      <td>3.0</td>\n",
       "      <td>...</td>\n",
       "      <td>2.0</td>\n",
       "      <td>2.0</td>\n",
       "      <td>1.0</td>\n",
       "      <td>3.0</td>\n",
       "      <td>4.0</td>\n",
       "      <td>4.0</td>\n",
       "      <td>4.0</td>\n",
       "      <td>5.0</td>\n",
       "      <td>4.0</td>\n",
       "      <td>3.0</td>\n",
       "    </tr>\n",
       "    <tr>\n",
       "      <th>2</th>\n",
       "      <td>0501ba67-3406-4779-aff1-878a0e9f7885</td>\n",
       "      <td>2022-10-02</td>\n",
       "      <td>3.0</td>\n",
       "      <td>1.0</td>\n",
       "      <td>4.0</td>\n",
       "      <td>5.0</td>\n",
       "      <td>1.0</td>\n",
       "      <td>4.0</td>\n",
       "      <td>2.0</td>\n",
       "      <td>5.0</td>\n",
       "      <td>...</td>\n",
       "      <td>NaN</td>\n",
       "      <td>NaN</td>\n",
       "      <td>NaN</td>\n",
       "      <td>NaN</td>\n",
       "      <td>NaN</td>\n",
       "      <td>NaN</td>\n",
       "      <td>NaN</td>\n",
       "      <td>NaN</td>\n",
       "      <td>NaN</td>\n",
       "      <td>NaN</td>\n",
       "    </tr>\n",
       "  </tbody>\n",
       "</table>\n",
       "<p>3 rows × 42 columns</p>\n",
       "</div>"
      ],
      "text/plain": [
       "                  ParticipantIdentifier  trial_date  affect_neg_angry  \\\n",
       "0  0501ba67-3406-4779-aff1-878a0e9f7885  2022-09-30               1.0   \n",
       "1  0501ba67-3406-4779-aff1-878a0e9f7885  2022-10-01               1.0   \n",
       "2  0501ba67-3406-4779-aff1-878a0e9f7885  2022-10-02               3.0   \n",
       "\n",
       "   affect_neg_ashamed  affect_neg_bored  affect_neg_depressed  \\\n",
       "0                 4.0               5.0                   4.0   \n",
       "1                 2.0               1.0                   1.0   \n",
       "2                 1.0               4.0                   5.0   \n",
       "\n",
       "   affect_neg_embarrassed  affect_neg_frustrated  affect_neg_guilty  \\\n",
       "0                     1.0                    3.0                4.0   \n",
       "1                     1.0                    3.0                3.0   \n",
       "2                     1.0                    4.0                2.0   \n",
       "\n",
       "   affect_neg_lazy  ...  affect_neg_sad_am  affect_neg_stressed_am  \\\n",
       "0              4.0  ...                NaN                     NaN   \n",
       "1              3.0  ...                2.0                     2.0   \n",
       "2              5.0  ...                NaN                     NaN   \n",
       "\n",
       "   affect_pos_amused_am  affect_pos_appreciated_am  affect_pos_excited_am  \\\n",
       "0                   NaN                        NaN                    NaN   \n",
       "1                   1.0                        3.0                    4.0   \n",
       "2                   NaN                        NaN                    NaN   \n",
       "\n",
       "   affect_pos_focused_am  affect_pos_happy_am  affect_pos_hopeful_am  \\\n",
       "0                    NaN                  NaN                    NaN   \n",
       "1                    4.0                  4.0                    5.0   \n",
       "2                    NaN                  NaN                    NaN   \n",
       "\n",
       "   affect_pos_motivated_am  affect_pos_relaxedCalm_am  \n",
       "0                      NaN                        NaN  \n",
       "1                      4.0                        3.0  \n",
       "2                      NaN                        NaN  \n",
       "\n",
       "[3 rows x 42 columns]"
      ]
     },
     "execution_count": 21,
     "metadata": {},
     "output_type": "execute_result"
    }
   ],
   "source": [
    "# join\n",
    "df_daily_affect_wide = df_affect_pm_wide.merge(df_affect_am_wide, how='left', on=['ParticipantIdentifier', 'trial_date'])\n",
    "\n",
    "df_daily_affect_wide.head(3)"
   ]
  },
  {
   "cell_type": "code",
   "execution_count": 22,
   "metadata": {},
   "outputs": [],
   "source": [
    "# save to csv\n",
    "df_daily_affect_wide.to_csv(save_path + 'run1_affect.csv', index=False)"
   ]
  },
  {
   "cell_type": "markdown",
   "metadata": {},
   "source": [
    "#### Autocor"
   ]
  },
  {
   "cell_type": "code",
   "execution_count": 164,
   "metadata": {},
   "outputs": [],
   "source": [
    "df_affect_pm.Answers = pd.to_numeric(df_affect_pm.Answers)"
   ]
  },
  {
   "cell_type": "code",
   "execution_count": 179,
   "metadata": {},
   "outputs": [],
   "source": [
    "counts = pd.DataFrame(df_affect_pm.groupby(['ParticipantIdentifier', 'ResultIdentifier'])['Answers'].count()).reset_index()"
   ]
  },
  {
   "cell_type": "code",
   "execution_count": 169,
   "metadata": {},
   "outputs": [
    {
     "name": "stderr",
     "output_type": "stream",
     "text": [
      "/Users/djw/opt/miniconda3/envs/battery/lib/python3.9/site-packages/numpy/lib/function_base.py:2683: RuntimeWarning:\n",
      "\n",
      "Degrees of freedom <= 0 for slice\n",
      "\n",
      "/Users/djw/opt/miniconda3/envs/battery/lib/python3.9/site-packages/numpy/lib/function_base.py:2683: RuntimeWarning:\n",
      "\n",
      "Degrees of freedom <= 0 for slice\n",
      "\n"
     ]
    }
   ],
   "source": [
    "lag1_affect = pd.DataFrame(df_affect_pm.groupby(['ParticipantIdentifier', 'ResultIdentifier'])['Answers'].apply(pd.Series.autocorr, lag=1)).reset_index()\n",
    "lag2_affect = pd.DataFrame(df_affect_pm.groupby(['ParticipantIdentifier', 'ResultIdentifier'])['Answers'].apply(pd.Series.autocorr, lag=2)).reset_index()\n",
    "lag3_affect = pd.DataFrame(df_affect_pm.groupby(['ParticipantIdentifier', 'ResultIdentifier'])['Answers'].apply(pd.Series.autocorr, lag=3)).reset_index()"
   ]
  },
  {
   "cell_type": "code",
   "execution_count": 180,
   "metadata": {},
   "outputs": [
    {
     "data": {
      "text/plain": [
       "0       35\n",
       "1       35\n",
       "2       35\n",
       "3       35\n",
       "4       35\n",
       "        ..\n",
       "1855    16\n",
       "1856    16\n",
       "1857    16\n",
       "1858    16\n",
       "1859    16\n",
       "Name: Answers, Length: 1860, dtype: int64"
      ]
     },
     "execution_count": 188,
     "metadata": {},
     "output_type": "execute_result"
    }
   ],
   "source": [
    "lag1_affect['count'] = counts.Answers"
   ]
  },
  {
   "cell_type": "code",
   "execution_count": 189,
   "metadata": {},
   "outputs": [
    {
     "data": {
      "text/html": [
       "<div>\n",
       "<style scoped>\n",
       "    .dataframe tbody tr th:only-of-type {\n",
       "        vertical-align: middle;\n",
       "    }\n",
       "\n",
       "    .dataframe tbody tr th {\n",
       "        vertical-align: top;\n",
       "    }\n",
       "\n",
       "    .dataframe thead th {\n",
       "        text-align: right;\n",
       "    }\n",
       "</style>\n",
       "<table border=\"1\" class=\"dataframe\">\n",
       "  <thead>\n",
       "    <tr style=\"text-align: right;\">\n",
       "      <th></th>\n",
       "      <th>ParticipantIdentifier</th>\n",
       "      <th>ResultIdentifier</th>\n",
       "      <th>Answers</th>\n",
       "      <th>count</th>\n",
       "    </tr>\n",
       "  </thead>\n",
       "  <tbody>\n",
       "    <tr>\n",
       "      <th>0</th>\n",
       "      <td>01801252-3a7e-4f5f-8b6d-49e8da3902f3</td>\n",
       "      <td>affect_neg_angry</td>\n",
       "      <td>-0.259259</td>\n",
       "      <td>35</td>\n",
       "    </tr>\n",
       "    <tr>\n",
       "      <th>1</th>\n",
       "      <td>01801252-3a7e-4f5f-8b6d-49e8da3902f3</td>\n",
       "      <td>affect_neg_ashamed</td>\n",
       "      <td>0.409775</td>\n",
       "      <td>35</td>\n",
       "    </tr>\n",
       "    <tr>\n",
       "      <th>2</th>\n",
       "      <td>01801252-3a7e-4f5f-8b6d-49e8da3902f3</td>\n",
       "      <td>affect_neg_bored</td>\n",
       "      <td>-0.030303</td>\n",
       "      <td>35</td>\n",
       "    </tr>\n",
       "    <tr>\n",
       "      <th>3</th>\n",
       "      <td>01801252-3a7e-4f5f-8b6d-49e8da3902f3</td>\n",
       "      <td>affect_neg_depressed</td>\n",
       "      <td>NaN</td>\n",
       "      <td>35</td>\n",
       "    </tr>\n",
       "    <tr>\n",
       "      <th>4</th>\n",
       "      <td>01801252-3a7e-4f5f-8b6d-49e8da3902f3</td>\n",
       "      <td>affect_neg_embarrassed</td>\n",
       "      <td>-0.032484</td>\n",
       "      <td>35</td>\n",
       "    </tr>\n",
       "    <tr>\n",
       "      <th>...</th>\n",
       "      <td>...</td>\n",
       "      <td>...</td>\n",
       "      <td>...</td>\n",
       "      <td>...</td>\n",
       "    </tr>\n",
       "    <tr>\n",
       "      <th>1855</th>\n",
       "      <td>ff129772-aeab-4432-8136-8f94027b8504</td>\n",
       "      <td>affect_pos_focused</td>\n",
       "      <td>0.176829</td>\n",
       "      <td>16</td>\n",
       "    </tr>\n",
       "    <tr>\n",
       "      <th>1856</th>\n",
       "      <td>ff129772-aeab-4432-8136-8f94027b8504</td>\n",
       "      <td>affect_pos_happy</td>\n",
       "      <td>0.014634</td>\n",
       "      <td>16</td>\n",
       "    </tr>\n",
       "    <tr>\n",
       "      <th>1857</th>\n",
       "      <td>ff129772-aeab-4432-8136-8f94027b8504</td>\n",
       "      <td>affect_pos_hopeful</td>\n",
       "      <td>-0.220930</td>\n",
       "      <td>16</td>\n",
       "    </tr>\n",
       "    <tr>\n",
       "      <th>1858</th>\n",
       "      <td>ff129772-aeab-4432-8136-8f94027b8504</td>\n",
       "      <td>affect_pos_motivated</td>\n",
       "      <td>-0.141019</td>\n",
       "      <td>16</td>\n",
       "    </tr>\n",
       "    <tr>\n",
       "      <th>1859</th>\n",
       "      <td>ff129772-aeab-4432-8136-8f94027b8504</td>\n",
       "      <td>affect_pos_relaxedCalm</td>\n",
       "      <td>-0.184211</td>\n",
       "      <td>16</td>\n",
       "    </tr>\n",
       "  </tbody>\n",
       "</table>\n",
       "<p>1860 rows × 4 columns</p>\n",
       "</div>"
      ],
      "text/plain": [
       "                     ParticipantIdentifier        ResultIdentifier   Answers  \\\n",
       "0     01801252-3a7e-4f5f-8b6d-49e8da3902f3        affect_neg_angry -0.259259   \n",
       "1     01801252-3a7e-4f5f-8b6d-49e8da3902f3      affect_neg_ashamed  0.409775   \n",
       "2     01801252-3a7e-4f5f-8b6d-49e8da3902f3        affect_neg_bored -0.030303   \n",
       "3     01801252-3a7e-4f5f-8b6d-49e8da3902f3    affect_neg_depressed       NaN   \n",
       "4     01801252-3a7e-4f5f-8b6d-49e8da3902f3  affect_neg_embarrassed -0.032484   \n",
       "...                                    ...                     ...       ...   \n",
       "1855  ff129772-aeab-4432-8136-8f94027b8504      affect_pos_focused  0.176829   \n",
       "1856  ff129772-aeab-4432-8136-8f94027b8504        affect_pos_happy  0.014634   \n",
       "1857  ff129772-aeab-4432-8136-8f94027b8504      affect_pos_hopeful -0.220930   \n",
       "1858  ff129772-aeab-4432-8136-8f94027b8504    affect_pos_motivated -0.141019   \n",
       "1859  ff129772-aeab-4432-8136-8f94027b8504  affect_pos_relaxedCalm -0.184211   \n",
       "\n",
       "      count  \n",
       "0        35  \n",
       "1        35  \n",
       "2        35  \n",
       "3        35  \n",
       "4        35  \n",
       "...     ...  \n",
       "1855     16  \n",
       "1856     16  \n",
       "1857     16  \n",
       "1858     16  \n",
       "1859     16  \n",
       "\n",
       "[1860 rows x 4 columns]"
      ]
     },
     "execution_count": 189,
     "metadata": {},
     "output_type": "execute_result"
    }
   ],
   "source": [
    "lag1_affect"
   ]
  },
  {
   "cell_type": "markdown",
   "metadata": {},
   "source": [
    "### Daily General and Detail"
   ]
  },
  {
   "cell_type": "code",
   "execution_count": 68,
   "metadata": {},
   "outputs": [],
   "source": [
    "df = pd.read_csv(save_path + 'run1_survey_results.csv')"
   ]
  },
  {
   "cell_type": "markdown",
   "metadata": {},
   "source": [
    "#### Select Data"
   ]
  },
  {
   "cell_type": "code",
   "execution_count": 69,
   "metadata": {},
   "outputs": [],
   "source": [
    "past24_general = [\n",
    "    'DAILY_survey_situation1_surveys',\n",
    "    'DAILY_survey_situation2_surveys',\n",
    "    'DAILY_survey_missed',\n",
    "    'DAILY_past48to24_gap',\n",
    "    'DAILY_past48to24_gapCause',\n",
    "    'DAILY_past24_ideal',\n",
    "    'DAILY_past24_satisfaction',\n",
    "    'DAILY_past24_change',\n",
    "    'DAILY_past24_productivity',\n",
    "    'DAILY_past24_procrastination',\n",
    "    'DAILY_past24_punctuality',\n",
    "    'DAILY_past24_mentalEffort',\n",
    "    'DAILY_past24_physicalEffort',\n",
    "    'DAILY_past24_values',\n",
    "    'DAILY_past24_gap',\n",
    "    'DAILY_past24_gapCause',\n",
    "    'DAILY_past24_illness',\n",
    "    'DAILY_past24_fatigue',\n",
    "    'DAILY_past24_unusualEvents'\n",
    "]\n",
    "\n",
    "past24_categories = [\n",
    "    'DAILY_past24_sleep',\n",
    "    'DAILY_past24_occupation',\n",
    "    'DAILY_past24_nonoccupation',\n",
    "    'DAILY_past24_exercise',\n",
    "    'DAILY_past24_leisureSolo',\n",
    "    'DAILY_past24_leisureSoloMental',\n",
    "    'DAILY_past24_leisureSoloPhysical',\n",
    "    'DAILY_past24_leisureNonSolo',\n",
    "    'DAILY_past24_leisureNonSoloMental',\n",
    "    'DAILY_past24_leisureNonSoloPhysical',\n",
    "    'DAILY_past24_diet',\n",
    "    'DAILY_past24_socialMedia',\n",
    "    'DAILY_past24_drinks'\n",
    "]\n",
    "\n",
    "next24_categories = [\n",
    "    'DAILY_next24_sleep',\n",
    "    'DAILY_next24_occupation',\n",
    "    'DAILY_next24_nonoccupation',\n",
    "    'DAILY_next24_leisureSolo',\n",
    "    'DAILY_next24_leisureNonSolo',\n",
    "    'DAILY_next24_exercise',\n",
    "    'DAILY_next24_socialMedia',\n",
    "    'DAILY_next24_drinks',\n",
    "    'DAILY_next24_diet'\n",
    "]\n",
    "\n",
    "specific_goals = [\n",
    "    'DAILY_goal1_report',\n",
    "    'DAILY_goal1_importance',\n",
    "    'DAILY_goal1_consequences',\n",
    "    'DAILY_goal1_motivationInternal',\n",
    "    'DAILY_goal1_motivationExternal',\n",
    "    'DAILY_goal1_confidence',\n",
    "    'DAILY_goal1_effort',\n",
    "    'DAILY_goal1_interaction_week',\n",
    "    'DAILY_goal1_interaction_month',\n",
    "    'DAILY_goal2_report',\n",
    "    'DAILY_goal2_importance',\n",
    "    'DAILY_goal2_consequences',\n",
    "    'DAILY_goal2_motivationInternal',\n",
    "    'DAILY_goal2_motivationExternal',\n",
    "    'DAILY_goal2_confidence',\n",
    "    'DAILY_goal2_effort',\n",
    "    'DAILY_goal2_interaction_week',\n",
    "    'DAILY_goal2_interaction_month',\n",
    "    'DAILY_goal2_interaction_eachOther'\n",
    "]\n",
    "\n",
    "non_numeric_cols = [\n",
    "    'ParticipantIdentifier', \n",
    "    'trial_date',\n",
    "    'DAILY_next24_diet',\n",
    "    'DAILY_past48to24_gapCause',\n",
    "    'DAILY_survey_situation1_surveys',\n",
    "    'DAILY_survey_situation2_surveys',\n",
    "    'DAILY_survey_missed',\n",
    "    'DAILY_past24_gapCause'\n",
    "]"
   ]
  },
  {
   "cell_type": "code",
   "execution_count": 70,
   "metadata": {},
   "outputs": [],
   "source": [
    "df_daily_sr = df.loc[df.ResultIdentifier.isin(past24_general + \n",
    "                                              past24_categories + \n",
    "                                              next24_categories + \n",
    "                                              specific_goals)].reset_index(drop=True)"
   ]
  },
  {
   "cell_type": "code",
   "execution_count": 71,
   "metadata": {},
   "outputs": [
    {
     "data": {
      "text/html": [
       "<div>\n",
       "<style scoped>\n",
       "    .dataframe tbody tr th:only-of-type {\n",
       "        vertical-align: middle;\n",
       "    }\n",
       "\n",
       "    .dataframe tbody tr th {\n",
       "        vertical-align: top;\n",
       "    }\n",
       "\n",
       "    .dataframe thead th {\n",
       "        text-align: right;\n",
       "    }\n",
       "</style>\n",
       "<table border=\"1\" class=\"dataframe\">\n",
       "  <thead>\n",
       "    <tr style=\"text-align: right;\">\n",
       "      <th></th>\n",
       "      <th>Unnamed: 0</th>\n",
       "      <th>ParticipantIdentifier</th>\n",
       "      <th>ResultIdentifier</th>\n",
       "      <th>Answers</th>\n",
       "      <th>EndDate</th>\n",
       "      <th>datetime</th>\n",
       "      <th>trial_date</th>\n",
       "      <th>time</th>\n",
       "    </tr>\n",
       "  </thead>\n",
       "  <tbody>\n",
       "    <tr>\n",
       "      <th>0</th>\n",
       "      <td>2097</td>\n",
       "      <td>90592e06-bcf6-4150-85b0-c5daf7e7569c</td>\n",
       "      <td>DAILY_survey_situation1_surveys</td>\n",
       "      <td>alone</td>\n",
       "      <td>2022-10-24T19:59:12-04:00</td>\n",
       "      <td>2022-10-24 19:59:12-04:00</td>\n",
       "      <td>2022-10-24</td>\n",
       "      <td>19:59:12</td>\n",
       "    </tr>\n",
       "    <tr>\n",
       "      <th>1</th>\n",
       "      <td>2098</td>\n",
       "      <td>90592e06-bcf6-4150-85b0-c5daf7e7569c</td>\n",
       "      <td>DAILY_survey_missed</td>\n",
       "      <td>did_not_miss</td>\n",
       "      <td>2022-10-24T19:59:13-04:00</td>\n",
       "      <td>2022-10-24 19:59:13-04:00</td>\n",
       "      <td>2022-10-24</td>\n",
       "      <td>19:59:13</td>\n",
       "    </tr>\n",
       "    <tr>\n",
       "      <th>2</th>\n",
       "      <td>2099</td>\n",
       "      <td>90592e06-bcf6-4150-85b0-c5daf7e7569c</td>\n",
       "      <td>DAILY_past24_ideal</td>\n",
       "      <td>13</td>\n",
       "      <td>2022-10-24T19:59:17-04:00</td>\n",
       "      <td>2022-10-24 19:59:17-04:00</td>\n",
       "      <td>2022-10-24</td>\n",
       "      <td>19:59:17</td>\n",
       "    </tr>\n",
       "  </tbody>\n",
       "</table>\n",
       "</div>"
      ],
      "text/plain": [
       "   Unnamed: 0                 ParticipantIdentifier  \\\n",
       "0        2097  90592e06-bcf6-4150-85b0-c5daf7e7569c   \n",
       "1        2098  90592e06-bcf6-4150-85b0-c5daf7e7569c   \n",
       "2        2099  90592e06-bcf6-4150-85b0-c5daf7e7569c   \n",
       "\n",
       "                  ResultIdentifier       Answers                    EndDate  \\\n",
       "0  DAILY_survey_situation1_surveys         alone  2022-10-24T19:59:12-04:00   \n",
       "1              DAILY_survey_missed  did_not_miss  2022-10-24T19:59:13-04:00   \n",
       "2               DAILY_past24_ideal            13  2022-10-24T19:59:17-04:00   \n",
       "\n",
       "                    datetime  trial_date      time  \n",
       "0  2022-10-24 19:59:12-04:00  2022-10-24  19:59:12  \n",
       "1  2022-10-24 19:59:13-04:00  2022-10-24  19:59:13  \n",
       "2  2022-10-24 19:59:17-04:00  2022-10-24  19:59:17  "
      ]
     },
     "execution_count": 71,
     "metadata": {},
     "output_type": "execute_result"
    }
   ],
   "source": [
    "df_daily_sr.head(3)"
   ]
  },
  {
   "cell_type": "markdown",
   "metadata": {},
   "source": [
    "#### Convert to Wide"
   ]
  },
  {
   "cell_type": "code",
   "execution_count": 72,
   "metadata": {},
   "outputs": [],
   "source": [
    "df_daily_sr_wide = df_daily_sr.pivot_table(index=[\"ParticipantIdentifier\", \"trial_date\"],\n",
    "                                           columns='ResultIdentifier',\n",
    "                                           values='Answers',\n",
    "                                           aggfunc=lambda x: ' '.join(x)).reset_index()\n",
    "# get rid of name on index\n",
    "df_daily_sr_wide = df_daily_sr_wide.rename_axis(None, axis=1)"
   ]
  },
  {
   "cell_type": "code",
   "execution_count": 73,
   "metadata": {},
   "outputs": [],
   "source": [
    "# convert data to numeric where appropriate\n",
    "df_daily_sr_wide.loc[:,df_daily_sr_wide.columns[~df_daily_sr_wide.columns.isin(non_numeric_cols)]] = df_daily_sr_wide.loc[:,df_daily_sr_wide.columns[~df_daily_sr_wide.columns.isin(non_numeric_cols)]].apply(pd.to_numeric, errors='coerce')"
   ]
  },
  {
   "cell_type": "code",
   "execution_count": 74,
   "metadata": {},
   "outputs": [],
   "source": [
    "# Break gap cause into two columns\n",
    "df_daily_sr_wide[['DAILY_past24_gapCause_internal', 'DAILY_past24_gapCause_external', 'drop_col']] = df_daily_sr_wide.DAILY_past24_gapCause.str.split(\"_\", expand = True)\n",
    "df_daily_sr_wide.drop(columns='drop_col', inplace=True)\n",
    "# convert to numeric 0-1\n",
    "cols = ['DAILY_past24_gapCause_internal', 'DAILY_past24_gapCause_external']\n",
    "df_daily_sr_wide[cols] = df_daily_sr_wide[cols].apply(pd.to_numeric, errors = 'coerce')\n",
    "df_daily_sr_wide[cols] = df_daily_sr_wide[cols]/100"
   ]
  },
  {
   "cell_type": "markdown",
   "metadata": {},
   "source": [
    "#### Category Gap Calculation"
   ]
  },
  {
   "cell_type": "markdown",
   "metadata": {},
   "source": [
    "<div class=\"alert alert-block alert-info\">\n",
    "<b>📝 Note:</b><br>\n",
    "    I am assuming that peoples' goals are directional in a way that MAY NOT BE ACCURATE for everyone.<br><br>\n",
    "    For example, I am assuming that people want to sleep more and drink less - in other words they have a <b>gap</b> if they have <b>more</b> drinks than planned, but for <b>sleep</b> the gap calculation is reversed since we assume a gap means that you had <b>fewer</b> hours of sleep than planned.<br><br>\n",
    "    While this may be accurate <i>in general</i> I would reasonably expect there to be exceptions.\n",
    "</div>"
   ]
  },
  {
   "cell_type": "code",
   "execution_count": 77,
   "metadata": {},
   "outputs": [],
   "source": [
    "# calculate diet gap\n",
    "df_daily_sr_wide.DAILY_past24_diet = 100 - df_daily_sr_wide.DAILY_past24_diet"
   ]
  },
  {
   "cell_type": "code",
   "execution_count": 78,
   "metadata": {},
   "outputs": [],
   "source": [
    "# take the predicted amount from the day before and subtract the actual amount...\n",
    "for i in range(df_daily_sr_wide.shape[0]-1):\n",
    "    df_daily_sr_wide.loc[i+1, 'DAILY_gap_sleep'] =  df_daily_sr_wide.loc[i, 'DAILY_next24_sleep'] - df_daily_sr_wide.loc[i+1, 'DAILY_past24_sleep']\n",
    "    df_daily_sr_wide.loc[i+1, 'DAILY_gap_occupation'] =  df_daily_sr_wide.loc[i, 'DAILY_next24_occupation'] - df_daily_sr_wide.loc[i+1, 'DAILY_past24_occupation']    \n",
    "    df_daily_sr_wide.loc[i+1, 'DAILY_gap_nonoccupation'] =  df_daily_sr_wide.loc[i, 'DAILY_next24_nonoccupation'] - df_daily_sr_wide.loc[i+1, 'DAILY_past24_nonoccupation']    \n",
    "    df_daily_sr_wide.loc[i+1, 'DAILY_gap_leisureSolo'] =  df_daily_sr_wide.loc[i+1, 'DAILY_past24_leisureSolo'] - df_daily_sr_wide.loc[i, 'DAILY_next24_leisureSolo'] # reversed\n",
    "    df_daily_sr_wide.loc[i+1, 'DAILY_gap_leisureNonSolo'] =  df_daily_sr_wide.loc[i+1, 'DAILY_past24_leisureNonSolo']  - df_daily_sr_wide.loc[i, 'DAILY_next24_leisureNonSolo'] # reversed\n",
    "    df_daily_sr_wide.loc[i+1, 'DAILY_gap_exercise'] =  df_daily_sr_wide.loc[i, 'DAILY_next24_exercise'] - df_daily_sr_wide.loc[i+1, 'DAILY_past24_exercise']    \n",
    "    df_daily_sr_wide.loc[i+1, 'DAILY_gap_socialMedia'] =  df_daily_sr_wide.loc[i+1, 'DAILY_past24_socialMedia'] - df_daily_sr_wide.loc[i, 'DAILY_next24_socialMedia'] # reversed \n",
    "    df_daily_sr_wide.loc[i+1, 'DAILY_gap_drinks'] =  df_daily_sr_wide.loc[i+1, 'DAILY_past24_drinks'] - df_daily_sr_wide.loc[i, 'DAILY_next24_drinks'] # reversed\n",
    "    "
   ]
  },
  {
   "cell_type": "code",
   "execution_count": 79,
   "metadata": {},
   "outputs": [
    {
     "data": {
      "text/plain": [
       "Index(['ParticipantIdentifier', 'trial_date', 'DAILY_goal1_confidence',\n",
       "       'DAILY_goal1_consequences', 'DAILY_goal1_effort',\n",
       "       'DAILY_goal1_importance', 'DAILY_goal1_interaction_month',\n",
       "       'DAILY_goal1_interaction_week', 'DAILY_goal1_motivationExternal',\n",
       "       'DAILY_goal1_motivationInternal', 'DAILY_goal1_report',\n",
       "       'DAILY_goal2_confidence', 'DAILY_goal2_consequences',\n",
       "       'DAILY_goal2_effort', 'DAILY_goal2_importance',\n",
       "       'DAILY_goal2_interaction_eachOther', 'DAILY_goal2_interaction_month',\n",
       "       'DAILY_goal2_interaction_week', 'DAILY_goal2_motivationExternal',\n",
       "       'DAILY_goal2_motivationInternal', 'DAILY_goal2_report',\n",
       "       'DAILY_next24_drinks', 'DAILY_next24_exercise',\n",
       "       'DAILY_next24_leisureNonSolo', 'DAILY_next24_leisureSolo',\n",
       "       'DAILY_next24_nonoccupation', 'DAILY_next24_occupation',\n",
       "       'DAILY_next24_sleep', 'DAILY_next24_socialMedia', 'DAILY_past24_change',\n",
       "       'DAILY_past24_diet', 'DAILY_past24_drinks', 'DAILY_past24_exercise',\n",
       "       'DAILY_past24_fatigue', 'DAILY_past24_gap', 'DAILY_past24_gapCause',\n",
       "       'DAILY_past24_ideal', 'DAILY_past24_illness',\n",
       "       'DAILY_past24_leisureNonSolo', 'DAILY_past24_leisureNonSoloMental',\n",
       "       'DAILY_past24_leisureNonSoloPhysical', 'DAILY_past24_leisureSolo',\n",
       "       'DAILY_past24_leisureSoloMental', 'DAILY_past24_leisureSoloPhysical',\n",
       "       'DAILY_past24_mentalEffort', 'DAILY_past24_nonoccupation',\n",
       "       'DAILY_past24_occupation', 'DAILY_past24_physicalEffort',\n",
       "       'DAILY_past24_procrastination', 'DAILY_past24_productivity',\n",
       "       'DAILY_past24_punctuality', 'DAILY_past24_satisfaction',\n",
       "       'DAILY_past24_sleep', 'DAILY_past24_socialMedia',\n",
       "       'DAILY_past24_unusualEvents', 'DAILY_past24_values',\n",
       "       'DAILY_past48to24_gap', 'DAILY_past48to24_gapCause',\n",
       "       'DAILY_survey_missed', 'DAILY_survey_situation1_surveys',\n",
       "       'DAILY_survey_situation2_surveys', 'DAILY_past24_gapCause_internal',\n",
       "       'DAILY_past24_gapCause_external', 'DAILY_gap_sleep',\n",
       "       'DAILY_gap_occupation', 'DAILY_gap_nonoccupation',\n",
       "       'DAILY_gap_leisureSolo', 'DAILY_gap_leisureNonSolo',\n",
       "       'DAILY_gap_exercise', 'DAILY_gap_socialMedia', 'DAILY_gap_drinks'],\n",
       "      dtype='object')"
      ]
     },
     "execution_count": 79,
     "metadata": {},
     "output_type": "execute_result"
    }
   ],
   "source": [
    "df_daily_sr_wide.columns"
   ]
  },
  {
   "cell_type": "code",
   "execution_count": 56,
   "metadata": {},
   "outputs": [],
   "source": [
    "# save to csv\n",
    "df_daily_sr_wide.to_csv(save_path + 'run1_selfReport.csv', index=False)"
   ]
  },
  {
   "cell_type": "markdown",
   "metadata": {},
   "source": [
    "## Custom Tasks\n"
   ]
  },
  {
   "cell_type": "markdown",
   "metadata": {},
   "source": [
    "### N-Back"
   ]
  },
  {
   "cell_type": "code",
   "execution_count": 510,
   "metadata": {},
   "outputs": [],
   "source": [
    "import json"
   ]
  },
  {
   "cell_type": "code",
   "execution_count": 511,
   "metadata": {},
   "outputs": [],
   "source": [
    "df = pd.read_csv(save_path + 'run1_survey_results.csv')"
   ]
  },
  {
   "cell_type": "code",
   "execution_count": 512,
   "metadata": {},
   "outputs": [],
   "source": [
    "nback_df = df.loc[df.ResultIdentifier == 'task_custom_nBack_results'].reset_index(drop=True)"
   ]
  },
  {
   "cell_type": "code",
   "execution_count": 513,
   "metadata": {},
   "outputs": [],
   "source": [
    "# we only need this as bids were being overwritten when the bid was NOT accepted with a 0 bid...\n",
    "# this was fixed on Feb 7, but using the actual bid value will also continue to work...\n",
    "\n",
    "nback_df_bids = df.loc[df.ResultIdentifier == 'task_custom_nBack_diffSelect'].reset_index(drop=True)"
   ]
  },
  {
   "cell_type": "code",
   "execution_count": 514,
   "metadata": {},
   "outputs": [
    {
     "data": {
      "text/plain": [
       "'{\"bid\":56,\"randomNumber\":98,\"correctness\":0.8181818181818182,\"earnings\":98,\"mode\":\"hard\",\"matched\":6,\"missed\":1,\"sequence\":[\"X\",\"Z\",\"H\",\"I\",\"S\",\"S\",\"O\",\"I\",\"S\",\"H\",\"I\",\"O\",\"I\",\"W\",\"O\",\"I\",\"I\",\"R\",\"G\",\"O\",\"V\",\"U\",\"O\",\"V\",\"U\"],\"falseAlarm\":3,\"indexOfMatchClicked\":[9,11,12,13,15,16,20,23,25]}'"
      ]
     },
     "execution_count": 514,
     "metadata": {},
     "output_type": "execute_result"
    }
   ],
   "source": [
    "nback_df.Answers[5]"
   ]
  },
  {
   "cell_type": "code",
   "execution_count": 515,
   "metadata": {},
   "outputs": [],
   "source": [
    "for i in range(nback_df.shape[0]):\n",
    "    nback_df.loc[i, 'task_nback_bid'] = json.loads(nback_df_bids.Answers[i])['bid']\n",
    "    nback_df.loc[i, 'task_nback_rndNum'] = json.loads(nback_df.Answers[i])['randomNumber']    \n",
    "    nback_df.loc[i, 'task_nback_mode'] = json.loads(nback_df.Answers[i])['mode']\n",
    "    nback_df.loc[i, 'task_nback_matched'] = json.loads(nback_df.Answers[i])['matched']    \n",
    "    nback_df.loc[i, 'task_nback_missed'] = json.loads(nback_df.Answers[i])['missed']    \n",
    "    nback_df.loc[i, 'task_nback_falseAlarm'] = json.loads(nback_df.Answers[i])['falseAlarm']\n",
    "    nback_df.loc[i, 'task_nback_accuracy'] = json.loads(nback_df.Answers[i])['correctness']"
   ]
  },
  {
   "cell_type": "code",
   "execution_count": 516,
   "metadata": {},
   "outputs": [],
   "source": [
    "nback_df = nback_df.drop(['ResultIdentifier', 'Answers', 'EndDate', 'datetime'], axis=1)\n",
    "nback_df = nback_df.rename(columns={\"time\": \"task_nback_time\"})"
   ]
  },
  {
   "cell_type": "code",
   "execution_count": 517,
   "metadata": {},
   "outputs": [],
   "source": [
    "nback_df.drop(columns='Unnamed: 0', inplace=True)"
   ]
  },
  {
   "cell_type": "markdown",
   "metadata": {
    "tags": []
   },
   "source": [
    "### GoNoGo"
   ]
  },
  {
   "cell_type": "code",
   "execution_count": 519,
   "metadata": {},
   "outputs": [],
   "source": [
    "gng_df =  df.loc[df.ResultIdentifier == 'task_custom_gonogo'].reset_index(drop=True)"
   ]
  },
  {
   "cell_type": "code",
   "execution_count": 520,
   "metadata": {
    "tags": []
   },
   "outputs": [
    {
     "data": {
      "text/plain": [
       "{'reactionTime': {'0': 453,\n",
       "  '1': 405,\n",
       "  '2': 412,\n",
       "  '3': 401,\n",
       "  '4': 375,\n",
       "  '5': 382,\n",
       "  '6': 407,\n",
       "  '7': 403,\n",
       "  '8': 410,\n",
       "  '9': 467,\n",
       "  '11': 536,\n",
       "  '12': 510,\n",
       "  '13': 500,\n",
       "  '15': 447,\n",
       "  '16': 405,\n",
       "  '18': 428,\n",
       "  '19': 458,\n",
       "  '20': 423,\n",
       "  '21': 446,\n",
       "  '24': 399,\n",
       "  '25': 423,\n",
       "  '26': 447,\n",
       "  '28': 526,\n",
       "  '29': 539,\n",
       "  '30': 571,\n",
       "  '31': 553,\n",
       "  '32': 494,\n",
       "  '33': 457,\n",
       "  '34': 497,\n",
       "  '35': 488,\n",
       "  '36': 436,\n",
       "  '37': 434,\n",
       "  '38': 425,\n",
       "  '39': 457,\n",
       "  '41': 478,\n",
       "  '42': 435,\n",
       "  '43': 466,\n",
       "  '44': 423,\n",
       "  '48': 420,\n",
       "  '49': 391},\n",
       " 'correctness': {'0': 0,\n",
       "  '1': 0,\n",
       "  '2': 0,\n",
       "  '3': 0,\n",
       "  '4': 0,\n",
       "  '5': 0,\n",
       "  '6': 0,\n",
       "  '7': 0,\n",
       "  '8': 0,\n",
       "  '9': 0,\n",
       "  '11': 0,\n",
       "  '12': 0,\n",
       "  '13': 0,\n",
       "  '15': 0,\n",
       "  '16': 0,\n",
       "  '18': 0,\n",
       "  '19': 0,\n",
       "  '20': 0,\n",
       "  '21': 0,\n",
       "  '24': 0,\n",
       "  '25': 0,\n",
       "  '26': 0,\n",
       "  '28': 0,\n",
       "  '29': 0,\n",
       "  '30': 0,\n",
       "  '31': 0,\n",
       "  '32': 0,\n",
       "  '33': 0,\n",
       "  '34': 0,\n",
       "  '35': 0,\n",
       "  '36': 0,\n",
       "  '37': 0,\n",
       "  '38': 0,\n",
       "  '39': 0,\n",
       "  '41': 0,\n",
       "  '42': 0,\n",
       "  '43': 0,\n",
       "  '44': 0,\n",
       "  '48': 0,\n",
       "  '49': 0},\n",
       " 'incorrectNoGo': 0,\n",
       " 'correctGo': 40,\n",
       " 'correctNoGo': 10,\n",
       " 'incorrectGo': 0,\n",
       " 'sequence': ['G',\n",
       "  'G',\n",
       "  'G',\n",
       "  'G',\n",
       "  'G',\n",
       "  'G',\n",
       "  'G',\n",
       "  'G',\n",
       "  'G',\n",
       "  'G',\n",
       "  'N',\n",
       "  'G',\n",
       "  'G',\n",
       "  'G',\n",
       "  'N',\n",
       "  'G',\n",
       "  'G',\n",
       "  'N',\n",
       "  'G',\n",
       "  'G',\n",
       "  'G',\n",
       "  'G',\n",
       "  'N',\n",
       "  'N',\n",
       "  'G',\n",
       "  'G',\n",
       "  'G',\n",
       "  'N',\n",
       "  'G',\n",
       "  'G',\n",
       "  'G',\n",
       "  'G',\n",
       "  'G',\n",
       "  'G',\n",
       "  'G',\n",
       "  'G',\n",
       "  'G',\n",
       "  'G',\n",
       "  'G',\n",
       "  'G',\n",
       "  'N',\n",
       "  'G',\n",
       "  'G',\n",
       "  'G',\n",
       "  'G',\n",
       "  'N',\n",
       "  'N',\n",
       "  'N',\n",
       "  'G',\n",
       "  'G'],\n",
       " 'stimDuration': 250,\n",
       " 'iti': 450,\n",
       " 'aRT': 451}"
      ]
     },
     "execution_count": 520,
     "metadata": {},
     "output_type": "execute_result"
    }
   ],
   "source": [
    "json.loads(gng_df.Answers[0])"
   ]
  },
  {
   "cell_type": "code",
   "execution_count": 521,
   "metadata": {},
   "outputs": [],
   "source": [
    "for i in range(gng_df.shape[0]):\n",
    "    gng_df.loc[i, 'task_gng_incorrectNoGo'] = json.loads(gng_df.Answers[i])['incorrectNoGo']\n",
    "    gng_df.loc[i, 'task_gng_incorrectGo'] = json.loads(gng_df.Answers[i])['incorrectGo']    \n",
    "    gng_df.loc[i, 'task_gng_correctGo'] = json.loads(gng_df.Answers[i])['correctGo']\n",
    "    gng_df.loc[i, 'task_gng_correctNoGo'] = json.loads(gng_df.Answers[i])['correctNoGo']    \n",
    "    gng_df.loc[i, 'task_gng_avgRt'] = np.mean(list(json.loads(gng_df.Answers[i])['reactionTime'].values()))"
   ]
  },
  {
   "cell_type": "code",
   "execution_count": 522,
   "metadata": {},
   "outputs": [],
   "source": [
    "gng_df['task_gng_time'] = gng_df.time"
   ]
  },
  {
   "cell_type": "code",
   "execution_count": 523,
   "metadata": {},
   "outputs": [],
   "source": [
    "gng_df = gng_df[['ParticipantIdentifier', 'trial_date',\n",
    "                 'task_gng_time',\n",
    "                 'task_gng_incorrectNoGo',\n",
    "                 'task_gng_incorrectGo',\n",
    "                 'task_gng_correctGo',\n",
    "                 'task_gng_correctNoGo',\n",
    "                 'task_gng_avgRt'\n",
    "                ]]"
   ]
  },
  {
   "cell_type": "code",
   "execution_count": 524,
   "metadata": {},
   "outputs": [
    {
     "data": {
      "text/html": [
       "<div>\n",
       "<style scoped>\n",
       "    .dataframe tbody tr th:only-of-type {\n",
       "        vertical-align: middle;\n",
       "    }\n",
       "\n",
       "    .dataframe tbody tr th {\n",
       "        vertical-align: top;\n",
       "    }\n",
       "\n",
       "    .dataframe thead th {\n",
       "        text-align: right;\n",
       "    }\n",
       "</style>\n",
       "<table border=\"1\" class=\"dataframe\">\n",
       "  <thead>\n",
       "    <tr style=\"text-align: right;\">\n",
       "      <th></th>\n",
       "      <th>ParticipantIdentifier</th>\n",
       "      <th>trial_date</th>\n",
       "      <th>task_gng_time</th>\n",
       "      <th>task_gng_incorrectNoGo</th>\n",
       "      <th>task_gng_incorrectGo</th>\n",
       "      <th>task_gng_correctGo</th>\n",
       "      <th>task_gng_correctNoGo</th>\n",
       "      <th>task_gng_avgRt</th>\n",
       "    </tr>\n",
       "  </thead>\n",
       "  <tbody>\n",
       "    <tr>\n",
       "      <th>0</th>\n",
       "      <td>c62ae7a2-6fe6-4fd5-9b9e-93773b08d8b9</td>\n",
       "      <td>2022-10-24</td>\n",
       "      <td>07:07:34</td>\n",
       "      <td>0.0</td>\n",
       "      <td>0.0</td>\n",
       "      <td>40.0</td>\n",
       "      <td>10.0</td>\n",
       "      <td>450.675000</td>\n",
       "    </tr>\n",
       "    <tr>\n",
       "      <th>1</th>\n",
       "      <td>39d785c6-9e3d-44c2-88ec-2ce14ef923f9</td>\n",
       "      <td>2022-10-24</td>\n",
       "      <td>07:08:33</td>\n",
       "      <td>4.0</td>\n",
       "      <td>0.0</td>\n",
       "      <td>40.0</td>\n",
       "      <td>6.0</td>\n",
       "      <td>343.704545</td>\n",
       "    </tr>\n",
       "  </tbody>\n",
       "</table>\n",
       "</div>"
      ],
      "text/plain": [
       "                  ParticipantIdentifier  trial_date task_gng_time  \\\n",
       "0  c62ae7a2-6fe6-4fd5-9b9e-93773b08d8b9  2022-10-24      07:07:34   \n",
       "1  39d785c6-9e3d-44c2-88ec-2ce14ef923f9  2022-10-24      07:08:33   \n",
       "\n",
       "   task_gng_incorrectNoGo  task_gng_incorrectGo  task_gng_correctGo  \\\n",
       "0                     0.0                   0.0                40.0   \n",
       "1                     4.0                   0.0                40.0   \n",
       "\n",
       "   task_gng_correctNoGo  task_gng_avgRt  \n",
       "0                  10.0      450.675000  \n",
       "1                   6.0      343.704545  "
      ]
     },
     "execution_count": 524,
     "metadata": {},
     "output_type": "execute_result"
    }
   ],
   "source": [
    "gng_df.head(2)"
   ]
  },
  {
   "cell_type": "markdown",
   "metadata": {
    "tags": []
   },
   "source": [
    "### BART"
   ]
  },
  {
   "cell_type": "markdown",
   "metadata": {},
   "source": [
    "> The primary score used to measure BART performance is the average number of pumps on unexploded balloons, with higher scores indicative of greater risk-taking propensity (Bornovalova et al. 2005; Lejuez et al. 2002)\n",
    "\n",
    "[Scoring Alternatives Paper](https://www.researchgate.net/publication/301645337_The_Multiple_Faces_of_Risk-Taking_Scoring_Alternatives_for_the_Balloon-Analogue_Risk_Task)"
   ]
  },
  {
   "cell_type": "code",
   "execution_count": 525,
   "metadata": {},
   "outputs": [],
   "source": [
    "# avg pumps\n",
    "# avg rt\n",
    "bart_trials = [\n",
    "    'task_custom_bart1',\n",
    "    'task_custom_bart2',\n",
    "    'task_custom_bart3',\n",
    "    'task_custom_bart4',\n",
    "    'task_custom_bart5',\n",
    "    'task_custom_bart6',\n",
    "    'task_custom_bart7',\n",
    "    'task_custom_bart8',\n",
    "    'task_custom_bart9',\n",
    "    'task_custom_bart10'\n",
    "]"
   ]
  },
  {
   "cell_type": "code",
   "execution_count": 526,
   "metadata": {},
   "outputs": [],
   "source": [
    "bart_df = df.loc[df.ResultIdentifier.isin(bart_trials)].reset_index(drop=True)"
   ]
  },
  {
   "cell_type": "code",
   "execution_count": 527,
   "metadata": {},
   "outputs": [
    {
     "data": {
      "text/plain": [
       "{'timingInMs': [487,\n",
       "  150,\n",
       "  185,\n",
       "  2654,\n",
       "  104,\n",
       "  380,\n",
       "  102,\n",
       "  161,\n",
       "  98,\n",
       "  103,\n",
       "  98,\n",
       "  76,\n",
       "  107,\n",
       "  84,\n",
       "  97,\n",
       "  118,\n",
       "  291],\n",
       " 'thisRoundEarnings': 0,\n",
       " 'numberOfPumps': 17,\n",
       " 'totalEarnings': 0,\n",
       " 'balloonPopsAt': 17}"
      ]
     },
     "execution_count": 527,
     "metadata": {},
     "output_type": "execute_result"
    }
   ],
   "source": [
    "json.loads(bart_df.Answers[0])"
   ]
  },
  {
   "cell_type": "code",
   "execution_count": 528,
   "metadata": {},
   "outputs": [
    {
     "name": "stderr",
     "output_type": "stream",
     "text": [
      "/Users/djw/opt/miniconda3/envs/battery/lib/python3.9/site-packages/numpy/core/fromnumeric.py:3440: RuntimeWarning: Mean of empty slice.\n",
      "  return _methods._mean(a, axis=axis, dtype=dtype,\n",
      "/Users/djw/opt/miniconda3/envs/battery/lib/python3.9/site-packages/numpy/core/_methods.py:189: RuntimeWarning: invalid value encountered in double_scalars\n",
      "  ret = ret.dtype.type(ret / rcount)\n"
     ]
    }
   ],
   "source": [
    "# avg rt\n",
    "def foo(x):\n",
    "    try:\n",
    "        return np.mean(json.loads(x)['timingInMs'][1:]) # start on second tap as people take longer on first...\n",
    "    except (ValueError, KeyError):\n",
    "        return None\n",
    "\n",
    "v = np.vectorize(foo)\n",
    "bart_df['avg_rt'] = v(bart_df.Answers)\n",
    "\n",
    "# pop?\n",
    "def foo(x):\n",
    "    try:\n",
    "        return json.loads(x)['thisRoundEarnings']\n",
    "    except (ValueError, KeyError):\n",
    "        return None\n",
    "\n",
    "v = np.vectorize(foo)\n",
    "bart_df['thisRoundEarnings'] = v(bart_df.Answers)\n",
    "    \n",
    "# numberOfPumps\n",
    "def foo(x):\n",
    "    try:\n",
    "        return json.loads(x)['numberOfPumps']\n",
    "    except (ValueError, KeyError):\n",
    "        return None\n",
    "\n",
    "v = np.vectorize(foo)\n",
    "bart_df['pumps'] = v(bart_df.Answers)"
   ]
  },
  {
   "cell_type": "code",
   "execution_count": 529,
   "metadata": {},
   "outputs": [],
   "source": [
    "# only take unpopped trials\n",
    "bart_df = bart_df.loc[bart_df.thisRoundEarnings>0]"
   ]
  },
  {
   "cell_type": "code",
   "execution_count": 530,
   "metadata": {},
   "outputs": [
    {
     "data": {
      "text/html": [
       "<div>\n",
       "<style scoped>\n",
       "    .dataframe tbody tr th:only-of-type {\n",
       "        vertical-align: middle;\n",
       "    }\n",
       "\n",
       "    .dataframe tbody tr th {\n",
       "        vertical-align: top;\n",
       "    }\n",
       "\n",
       "    .dataframe thead th {\n",
       "        text-align: right;\n",
       "    }\n",
       "</style>\n",
       "<table border=\"1\" class=\"dataframe\">\n",
       "  <thead>\n",
       "    <tr style=\"text-align: right;\">\n",
       "      <th></th>\n",
       "      <th>ParticipantIdentifier</th>\n",
       "      <th>trial_date</th>\n",
       "      <th>task_bart_unpopped_n</th>\n",
       "    </tr>\n",
       "  </thead>\n",
       "  <tbody>\n",
       "    <tr>\n",
       "      <th>0</th>\n",
       "      <td>0501ba67-3406-4779-aff1-878a0e9f7885</td>\n",
       "      <td>2022-09-30</td>\n",
       "      <td>5</td>\n",
       "    </tr>\n",
       "    <tr>\n",
       "      <th>1</th>\n",
       "      <td>0501ba67-3406-4779-aff1-878a0e9f7885</td>\n",
       "      <td>2022-10-01</td>\n",
       "      <td>3</td>\n",
       "    </tr>\n",
       "    <tr>\n",
       "      <th>2</th>\n",
       "      <td>0501ba67-3406-4779-aff1-878a0e9f7885</td>\n",
       "      <td>2022-10-02</td>\n",
       "      <td>7</td>\n",
       "    </tr>\n",
       "    <tr>\n",
       "      <th>3</th>\n",
       "      <td>0501ba67-3406-4779-aff1-878a0e9f7885</td>\n",
       "      <td>2022-10-03</td>\n",
       "      <td>6</td>\n",
       "    </tr>\n",
       "    <tr>\n",
       "      <th>4</th>\n",
       "      <td>0501ba67-3406-4779-aff1-878a0e9f7885</td>\n",
       "      <td>2022-10-04</td>\n",
       "      <td>8</td>\n",
       "    </tr>\n",
       "  </tbody>\n",
       "</table>\n",
       "</div>"
      ],
      "text/plain": [
       "                  ParticipantIdentifier  trial_date  task_bart_unpopped_n\n",
       "0  0501ba67-3406-4779-aff1-878a0e9f7885  2022-09-30                     5\n",
       "1  0501ba67-3406-4779-aff1-878a0e9f7885  2022-10-01                     3\n",
       "2  0501ba67-3406-4779-aff1-878a0e9f7885  2022-10-02                     7\n",
       "3  0501ba67-3406-4779-aff1-878a0e9f7885  2022-10-03                     6\n",
       "4  0501ba67-3406-4779-aff1-878a0e9f7885  2022-10-04                     8"
      ]
     },
     "execution_count": 530,
     "metadata": {},
     "output_type": "execute_result"
    }
   ],
   "source": [
    "pumps = pd.DataFrame(bart_df.groupby(['ParticipantIdentifier', 'trial_date'])['pumps'].sum()).reset_index()\n",
    "pumps = pumps.rename(columns={'pumps': 'task_bart_total_pumps'})\n",
    "unpopped = pd.DataFrame(bart_df.groupby(['ParticipantIdentifier', 'trial_date'])['pumps'].count()).reset_index()\n",
    "unpopped = unpopped.rename(columns={'pumps': 'task_bart_unpopped_n'})\n",
    "unpopped.head()             "
   ]
  },
  {
   "cell_type": "code",
   "execution_count": 531,
   "metadata": {},
   "outputs": [],
   "source": [
    "# get mean of pumps and mean of rt for each DAY\n",
    "bart_df = pd.DataFrame(bart_df.groupby(['ParticipantIdentifier', 'trial_date'])[['avg_rt', 'pumps']].mean()).reset_index()\n",
    "bart_df = bart_df.rename(columns={\"avg_rt\": \"task_bart_avg_rt\", 'pumps': 'task_bart_avg_pumps'})\n",
    "\n",
    "# add other data\n",
    "bart_df = bart_df.merge(pumps, how='left', on=['ParticipantIdentifier', 'trial_date'])\n",
    "bart_df = bart_df.merge(unpopped, how='left', on=['ParticipantIdentifier', 'trial_date'])\n",
    "\n",
    "# calculate score\n",
    "bart_df['task_bart_score'] = bart_df.task_bart_total_pumps * 5"
   ]
  },
  {
   "cell_type": "code",
   "execution_count": 532,
   "metadata": {},
   "outputs": [
    {
     "data": {
      "text/html": [
       "<div>\n",
       "<style scoped>\n",
       "    .dataframe tbody tr th:only-of-type {\n",
       "        vertical-align: middle;\n",
       "    }\n",
       "\n",
       "    .dataframe tbody tr th {\n",
       "        vertical-align: top;\n",
       "    }\n",
       "\n",
       "    .dataframe thead th {\n",
       "        text-align: right;\n",
       "    }\n",
       "</style>\n",
       "<table border=\"1\" class=\"dataframe\">\n",
       "  <thead>\n",
       "    <tr style=\"text-align: right;\">\n",
       "      <th></th>\n",
       "      <th>ParticipantIdentifier</th>\n",
       "      <th>trial_date</th>\n",
       "      <th>task_bart_avg_rt</th>\n",
       "      <th>task_bart_avg_pumps</th>\n",
       "      <th>task_bart_total_pumps</th>\n",
       "      <th>task_bart_unpopped_n</th>\n",
       "      <th>task_bart_score</th>\n",
       "    </tr>\n",
       "  </thead>\n",
       "  <tbody>\n",
       "    <tr>\n",
       "      <th>0</th>\n",
       "      <td>0501ba67-3406-4779-aff1-878a0e9f7885</td>\n",
       "      <td>2022-09-30</td>\n",
       "      <td>851.518690</td>\n",
       "      <td>16.800000</td>\n",
       "      <td>84</td>\n",
       "      <td>5</td>\n",
       "      <td>420</td>\n",
       "    </tr>\n",
       "    <tr>\n",
       "      <th>1</th>\n",
       "      <td>0501ba67-3406-4779-aff1-878a0e9f7885</td>\n",
       "      <td>2022-10-01</td>\n",
       "      <td>258.585139</td>\n",
       "      <td>18.666667</td>\n",
       "      <td>56</td>\n",
       "      <td>3</td>\n",
       "      <td>280</td>\n",
       "    </tr>\n",
       "  </tbody>\n",
       "</table>\n",
       "</div>"
      ],
      "text/plain": [
       "                  ParticipantIdentifier  trial_date  task_bart_avg_rt  \\\n",
       "0  0501ba67-3406-4779-aff1-878a0e9f7885  2022-09-30        851.518690   \n",
       "1  0501ba67-3406-4779-aff1-878a0e9f7885  2022-10-01        258.585139   \n",
       "\n",
       "   task_bart_avg_pumps  task_bart_total_pumps  task_bart_unpopped_n  \\\n",
       "0            16.800000                     84                     5   \n",
       "1            18.666667                     56                     3   \n",
       "\n",
       "   task_bart_score  \n",
       "0              420  \n",
       "1              280  "
      ]
     },
     "execution_count": 532,
     "metadata": {},
     "output_type": "execute_result"
    }
   ],
   "source": [
    "bart_df.head(2)"
   ]
  },
  {
   "cell_type": "markdown",
   "metadata": {
    "tags": []
   },
   "source": [
    "### EmoStroop"
   ]
  },
  {
   "cell_type": "code",
   "execution_count": 533,
   "metadata": {},
   "outputs": [],
   "source": [
    "emoStroop_df = df.loc[df.ResultIdentifier.str.contains('emoStroop_trial')].reset_index(drop=True)"
   ]
  },
  {
   "cell_type": "code",
   "execution_count": 534,
   "metadata": {},
   "outputs": [
    {
     "data": {
      "text/plain": [
       "{'emotion': 'sad',\n",
       " 'text': 'angry',\n",
       " 'startTime': 3581,\n",
       " 'endTime': 6115,\n",
       " 'chosenEmotion': 'sad',\n",
       " 'correctness': 'incorrect'}"
      ]
     },
     "execution_count": 534,
     "metadata": {},
     "output_type": "execute_result"
    }
   ],
   "source": [
    "json.loads(emoStroop_df.Answers[4])"
   ]
  },
  {
   "cell_type": "code",
   "execution_count": 535,
   "metadata": {},
   "outputs": [],
   "source": [
    "# congruent\n",
    "def foo(x):\n",
    "    try:\n",
    "        return json.loads(x)['emotion'] == json.loads(x)['text']\n",
    "    except (ValueError, KeyError):\n",
    "        return None\n",
    "\n",
    "v = np.vectorize(foo)\n",
    "emoStroop_df['task_emoStroop_congruent'] = v(emoStroop_df.Answers)\n",
    "\n",
    "# rt\n",
    "def foo(x):\n",
    "    try:\n",
    "        return json.loads(x)['endTime'] - json.loads(x)['startTime']\n",
    "    except (ValueError, KeyError):\n",
    "        return None\n",
    "\n",
    "v = np.vectorize(foo)\n",
    "emoStroop_df['task_emoStroop_rt'] = v(emoStroop_df.Answers)\n",
    "    \n",
    "# correct\n",
    "def foo(x):\n",
    "    try:\n",
    "        return json.loads(x)['emotion'] == json.loads(x)['chosenEmotion']\n",
    "    except (ValueError, KeyError):\n",
    "        return None\n",
    "\n",
    "v = np.vectorize(foo)\n",
    "emoStroop_df['task_emoStroop_correct'] = v(emoStroop_df.Answers)\n"
   ]
  },
  {
   "cell_type": "code",
   "execution_count": 536,
   "metadata": {},
   "outputs": [],
   "source": [
    "emoStroop_df = pd.DataFrame(emoStroop_df.groupby(['ParticipantIdentifier', 'trial_date', 'task_emoStroop_congruent'])\n",
    "             [['task_emoStroop_rt', 'task_emoStroop_correct']].mean()).reset_index()\n"
   ]
  },
  {
   "cell_type": "code",
   "execution_count": 537,
   "metadata": {},
   "outputs": [],
   "source": [
    "# convert to wide\n",
    "emoStroop_df = emoStroop_df.pivot_table(index = ['ParticipantIdentifier', 'trial_date'],\n",
    "                         columns = 'task_emoStroop_congruent',\n",
    "                         values = ['task_emoStroop_rt', 'task_emoStroop_correct']).reset_index()"
   ]
  },
  {
   "cell_type": "code",
   "execution_count": 538,
   "metadata": {},
   "outputs": [
    {
     "data": {
      "text/plain": [
       "MultiIndex([( 'ParticipantIdentifier',    ''),\n",
       "            (            'trial_date',    ''),\n",
       "            ('task_emoStroop_correct', False),\n",
       "            ('task_emoStroop_correct',  True),\n",
       "            (     'task_emoStroop_rt', False),\n",
       "            (     'task_emoStroop_rt',  True)],\n",
       "           names=[None, 'task_emoStroop_congruent'])"
      ]
     },
     "execution_count": 538,
     "metadata": {},
     "output_type": "execute_result"
    }
   ],
   "source": [
    "emoStroop_df.columns"
   ]
  },
  {
   "cell_type": "code",
   "execution_count": 539,
   "metadata": {},
   "outputs": [],
   "source": [
    "# create correct column names\n",
    "new_cols = []\n",
    "for i in range(emoStroop_df.shape[1]):\n",
    "    new_cols.append(emoStroop_df.columns.get_level_values(0)[i] + \n",
    "                    str(emoStroop_df.columns.get_level_values(1)[i]))\n",
    "# x.columns.get_level_values(0)[1] + str(x.columns.get_level_values(1)[1])"
   ]
  },
  {
   "cell_type": "code",
   "execution_count": 540,
   "metadata": {},
   "outputs": [],
   "source": [
    "new_cols = [\n",
    "    'ParticipantIdentifier',\n",
    "    'trial_date',\n",
    "    'task_emoStroop_accuracy_incongruent',\n",
    "    'task_emoStroop_accuracy_congruent',\n",
    "    'task_emoStroop_rt_incongruent',\n",
    "    'task_emoStroop_rt_congruent'\n",
    "]"
   ]
  },
  {
   "cell_type": "code",
   "execution_count": 541,
   "metadata": {},
   "outputs": [],
   "source": [
    "emoStroop_df.columns = emoStroop_df.columns.to_flat_index()"
   ]
  },
  {
   "cell_type": "code",
   "execution_count": 542,
   "metadata": {},
   "outputs": [],
   "source": [
    "emoStroop_df.columns = new_cols"
   ]
  },
  {
   "cell_type": "code",
   "execution_count": 543,
   "metadata": {},
   "outputs": [
    {
     "data": {
      "text/html": [
       "<div>\n",
       "<style scoped>\n",
       "    .dataframe tbody tr th:only-of-type {\n",
       "        vertical-align: middle;\n",
       "    }\n",
       "\n",
       "    .dataframe tbody tr th {\n",
       "        vertical-align: top;\n",
       "    }\n",
       "\n",
       "    .dataframe thead th {\n",
       "        text-align: right;\n",
       "    }\n",
       "</style>\n",
       "<table border=\"1\" class=\"dataframe\">\n",
       "  <thead>\n",
       "    <tr style=\"text-align: right;\">\n",
       "      <th></th>\n",
       "      <th>ParticipantIdentifier</th>\n",
       "      <th>trial_date</th>\n",
       "      <th>task_emoStroop_accuracy_incongruent</th>\n",
       "      <th>task_emoStroop_accuracy_congruent</th>\n",
       "      <th>task_emoStroop_rt_incongruent</th>\n",
       "      <th>task_emoStroop_rt_congruent</th>\n",
       "    </tr>\n",
       "  </thead>\n",
       "  <tbody>\n",
       "    <tr>\n",
       "      <th>0</th>\n",
       "      <td>0501ba67-3406-4779-aff1-878a0e9f7885</td>\n",
       "      <td>2022-09-30</td>\n",
       "      <td>1.0</td>\n",
       "      <td>1.0</td>\n",
       "      <td>1883.555556</td>\n",
       "      <td>1849.666667</td>\n",
       "    </tr>\n",
       "    <tr>\n",
       "      <th>1</th>\n",
       "      <td>0501ba67-3406-4779-aff1-878a0e9f7885</td>\n",
       "      <td>2022-10-01</td>\n",
       "      <td>1.0</td>\n",
       "      <td>1.0</td>\n",
       "      <td>3137.909091</td>\n",
       "      <td>1959.500000</td>\n",
       "    </tr>\n",
       "  </tbody>\n",
       "</table>\n",
       "</div>"
      ],
      "text/plain": [
       "                  ParticipantIdentifier  trial_date  \\\n",
       "0  0501ba67-3406-4779-aff1-878a0e9f7885  2022-09-30   \n",
       "1  0501ba67-3406-4779-aff1-878a0e9f7885  2022-10-01   \n",
       "\n",
       "   task_emoStroop_accuracy_incongruent  task_emoStroop_accuracy_congruent  \\\n",
       "0                                  1.0                                1.0   \n",
       "1                                  1.0                                1.0   \n",
       "\n",
       "   task_emoStroop_rt_incongruent  task_emoStroop_rt_congruent  \n",
       "0                    1883.555556                  1849.666667  \n",
       "1                    3137.909091                  1959.500000  "
      ]
     },
     "execution_count": 543,
     "metadata": {},
     "output_type": "execute_result"
    }
   ],
   "source": [
    "emoStroop_df.head(2)"
   ]
  },
  {
   "cell_type": "markdown",
   "metadata": {
    "tags": []
   },
   "source": [
    "### Motivation"
   ]
  },
  {
   "cell_type": "code",
   "execution_count": 544,
   "metadata": {},
   "outputs": [],
   "source": [
    "task_motivation = df.loc[df.ResultIdentifier.str.contains('task_motivation')].reset_index(drop=True)"
   ]
  },
  {
   "cell_type": "code",
   "execution_count": 545,
   "metadata": {},
   "outputs": [],
   "source": [
    "task_motivation = task_motivation[['ParticipantIdentifier', 'trial_date', 'time', 'Answers']]"
   ]
  },
  {
   "cell_type": "code",
   "execution_count": 546,
   "metadata": {},
   "outputs": [
    {
     "data": {
      "text/plain": [
       "(4296, 4)"
      ]
     },
     "execution_count": 546,
     "metadata": {},
     "output_type": "execute_result"
    }
   ],
   "source": [
    "task_motivation.shape"
   ]
  },
  {
   "cell_type": "code",
   "execution_count": 547,
   "metadata": {},
   "outputs": [],
   "source": [
    "new_cols = [\n",
    "    'ParticipantIdentifier',\n",
    "    'trial_date',\n",
    "    'task_motivation_time',\n",
    "    'task_motivation_level'\n",
    "]"
   ]
  },
  {
   "cell_type": "code",
   "execution_count": 548,
   "metadata": {},
   "outputs": [
    {
     "data": {
      "text/html": [
       "<div>\n",
       "<style scoped>\n",
       "    .dataframe tbody tr th:only-of-type {\n",
       "        vertical-align: middle;\n",
       "    }\n",
       "\n",
       "    .dataframe tbody tr th {\n",
       "        vertical-align: top;\n",
       "    }\n",
       "\n",
       "    .dataframe thead th {\n",
       "        text-align: right;\n",
       "    }\n",
       "</style>\n",
       "<table border=\"1\" class=\"dataframe\">\n",
       "  <thead>\n",
       "    <tr style=\"text-align: right;\">\n",
       "      <th></th>\n",
       "      <th>ParticipantIdentifier</th>\n",
       "      <th>trial_date</th>\n",
       "      <th>task_motivation_time</th>\n",
       "      <th>task_motivation_level</th>\n",
       "    </tr>\n",
       "  </thead>\n",
       "  <tbody>\n",
       "    <tr>\n",
       "      <th>0</th>\n",
       "      <td>6b827de8-fe47-4007-aad3-202655b954e3</td>\n",
       "      <td>2022-10-24</td>\n",
       "      <td>07:09:39</td>\n",
       "      <td>6</td>\n",
       "    </tr>\n",
       "    <tr>\n",
       "      <th>1</th>\n",
       "      <td>a33e1d38-6ee8-4da6-993b-a94a8ae7fc30</td>\n",
       "      <td>2022-10-24</td>\n",
       "      <td>08:01:46</td>\n",
       "      <td>8</td>\n",
       "    </tr>\n",
       "  </tbody>\n",
       "</table>\n",
       "</div>"
      ],
      "text/plain": [
       "                  ParticipantIdentifier  trial_date task_motivation_time  \\\n",
       "0  6b827de8-fe47-4007-aad3-202655b954e3  2022-10-24             07:09:39   \n",
       "1  a33e1d38-6ee8-4da6-993b-a94a8ae7fc30  2022-10-24             08:01:46   \n",
       "\n",
       "  task_motivation_level  \n",
       "0                     6  \n",
       "1                     8  "
      ]
     },
     "execution_count": 548,
     "metadata": {},
     "output_type": "execute_result"
    }
   ],
   "source": [
    "task_motivation.columns = new_cols\n",
    "task_motivation.head(2)"
   ]
  },
  {
   "cell_type": "markdown",
   "metadata": {
    "tags": []
   },
   "source": [
    "### NASA TLX"
   ]
  },
  {
   "cell_type": "code",
   "execution_count": 549,
   "metadata": {},
   "outputs": [],
   "source": [
    "nasa_tlx = df.loc[df.ResultIdentifier.str.contains('nasa_')].reset_index(drop=True)"
   ]
  },
  {
   "cell_type": "code",
   "execution_count": 550,
   "metadata": {},
   "outputs": [
    {
     "data": {
      "text/html": [
       "<div>\n",
       "<style scoped>\n",
       "    .dataframe tbody tr th:only-of-type {\n",
       "        vertical-align: middle;\n",
       "    }\n",
       "\n",
       "    .dataframe tbody tr th {\n",
       "        vertical-align: top;\n",
       "    }\n",
       "\n",
       "    .dataframe thead th {\n",
       "        text-align: right;\n",
       "    }\n",
       "</style>\n",
       "<table border=\"1\" class=\"dataframe\">\n",
       "  <thead>\n",
       "    <tr style=\"text-align: right;\">\n",
       "      <th></th>\n",
       "      <th>Unnamed: 0</th>\n",
       "      <th>ParticipantIdentifier</th>\n",
       "      <th>ResultIdentifier</th>\n",
       "      <th>Answers</th>\n",
       "      <th>EndDate</th>\n",
       "      <th>datetime</th>\n",
       "      <th>trial_date</th>\n",
       "      <th>time</th>\n",
       "    </tr>\n",
       "  </thead>\n",
       "  <tbody>\n",
       "    <tr>\n",
       "      <th>0</th>\n",
       "      <td>55</td>\n",
       "      <td>c62ae7a2-6fe6-4fd5-9b9e-93773b08d8b9</td>\n",
       "      <td>nasa_mental_demand</td>\n",
       "      <td>2</td>\n",
       "      <td>2022-10-24T07:09:03-04:00</td>\n",
       "      <td>2022-10-24 07:09:03-04:00</td>\n",
       "      <td>2022-10-24</td>\n",
       "      <td>07:09:03</td>\n",
       "    </tr>\n",
       "    <tr>\n",
       "      <th>1</th>\n",
       "      <td>56</td>\n",
       "      <td>c62ae7a2-6fe6-4fd5-9b9e-93773b08d8b9</td>\n",
       "      <td>nasa_temporal_demand</td>\n",
       "      <td>0</td>\n",
       "      <td>2022-10-24T07:09:04-04:00</td>\n",
       "      <td>2022-10-24 07:09:04-04:00</td>\n",
       "      <td>2022-10-24</td>\n",
       "      <td>07:09:04</td>\n",
       "    </tr>\n",
       "    <tr>\n",
       "      <th>2</th>\n",
       "      <td>57</td>\n",
       "      <td>c62ae7a2-6fe6-4fd5-9b9e-93773b08d8b9</td>\n",
       "      <td>nasa_performance</td>\n",
       "      <td>17</td>\n",
       "      <td>2022-10-24T07:09:06-04:00</td>\n",
       "      <td>2022-10-24 07:09:06-04:00</td>\n",
       "      <td>2022-10-24</td>\n",
       "      <td>07:09:06</td>\n",
       "    </tr>\n",
       "    <tr>\n",
       "      <th>3</th>\n",
       "      <td>58</td>\n",
       "      <td>c62ae7a2-6fe6-4fd5-9b9e-93773b08d8b9</td>\n",
       "      <td>nasa_effort</td>\n",
       "      <td>2</td>\n",
       "      <td>2022-10-24T07:09:10-04:00</td>\n",
       "      <td>2022-10-24 07:09:10-04:00</td>\n",
       "      <td>2022-10-24</td>\n",
       "      <td>07:09:10</td>\n",
       "    </tr>\n",
       "    <tr>\n",
       "      <th>4</th>\n",
       "      <td>59</td>\n",
       "      <td>c62ae7a2-6fe6-4fd5-9b9e-93773b08d8b9</td>\n",
       "      <td>nasa_frustration</td>\n",
       "      <td>0</td>\n",
       "      <td>2022-10-24T07:09:12-04:00</td>\n",
       "      <td>2022-10-24 07:09:12-04:00</td>\n",
       "      <td>2022-10-24</td>\n",
       "      <td>07:09:12</td>\n",
       "    </tr>\n",
       "  </tbody>\n",
       "</table>\n",
       "</div>"
      ],
      "text/plain": [
       "   Unnamed: 0                 ParticipantIdentifier      ResultIdentifier  \\\n",
       "0          55  c62ae7a2-6fe6-4fd5-9b9e-93773b08d8b9    nasa_mental_demand   \n",
       "1          56  c62ae7a2-6fe6-4fd5-9b9e-93773b08d8b9  nasa_temporal_demand   \n",
       "2          57  c62ae7a2-6fe6-4fd5-9b9e-93773b08d8b9      nasa_performance   \n",
       "3          58  c62ae7a2-6fe6-4fd5-9b9e-93773b08d8b9           nasa_effort   \n",
       "4          59  c62ae7a2-6fe6-4fd5-9b9e-93773b08d8b9      nasa_frustration   \n",
       "\n",
       "  Answers                    EndDate                   datetime  trial_date  \\\n",
       "0       2  2022-10-24T07:09:03-04:00  2022-10-24 07:09:03-04:00  2022-10-24   \n",
       "1       0  2022-10-24T07:09:04-04:00  2022-10-24 07:09:04-04:00  2022-10-24   \n",
       "2      17  2022-10-24T07:09:06-04:00  2022-10-24 07:09:06-04:00  2022-10-24   \n",
       "3       2  2022-10-24T07:09:10-04:00  2022-10-24 07:09:10-04:00  2022-10-24   \n",
       "4       0  2022-10-24T07:09:12-04:00  2022-10-24 07:09:12-04:00  2022-10-24   \n",
       "\n",
       "       time  \n",
       "0  07:09:03  \n",
       "1  07:09:04  \n",
       "2  07:09:06  \n",
       "3  07:09:10  \n",
       "4  07:09:12  "
      ]
     },
     "execution_count": 550,
     "metadata": {},
     "output_type": "execute_result"
    }
   ],
   "source": [
    "nasa_tlx.head()"
   ]
  },
  {
   "cell_type": "code",
   "execution_count": 551,
   "metadata": {},
   "outputs": [],
   "source": [
    "# convert to wide\n",
    "nasa_tlx = nasa_tlx.pivot_table(index = ['ParticipantIdentifier', 'trial_date'],\n",
    "                         columns = 'ResultIdentifier',\n",
    "                         values = 'Answers').reset_index()"
   ]
  },
  {
   "cell_type": "code",
   "execution_count": 552,
   "metadata": {},
   "outputs": [],
   "source": [
    "# remove index name\n",
    "nasa_tlx = nasa_tlx.rename_axis(None, axis=1)"
   ]
  },
  {
   "cell_type": "code",
   "execution_count": 553,
   "metadata": {},
   "outputs": [
    {
     "data": {
      "text/plain": [
       "['task_nasa_distraction',\n",
       " 'task_nasa_effort',\n",
       " 'task_nasa_frustration',\n",
       " 'task_nasa_luck',\n",
       " 'task_nasa_mental_demand',\n",
       " 'task_nasa_performance',\n",
       " 'task_nasa_temporal_demand']"
      ]
     },
     "execution_count": 553,
     "metadata": {},
     "output_type": "execute_result"
    }
   ],
   "source": [
    "# tweak column names\n",
    "list(nasa_tlx.iloc[:, 2:].add_prefix('task_').columns)"
   ]
  },
  {
   "cell_type": "code",
   "execution_count": 554,
   "metadata": {},
   "outputs": [],
   "source": [
    "new_cols = [\n",
    "    'ParticipantIdentifier',\n",
    "    'trial_date',\n",
    "    'task_nasa_distraction',\n",
    "    'task_nasa_effort',\n",
    "    'task_nasa_frustration',\n",
    "    'task_nasa_luck',\n",
    "    'task_nasa_mental_demand',\n",
    "    'task_nasa_performance',\n",
    "    'task_nasa_temporal_demand'\n",
    "]"
   ]
  },
  {
   "cell_type": "code",
   "execution_count": 555,
   "metadata": {},
   "outputs": [],
   "source": [
    "nasa_tlx.columns = new_cols"
   ]
  },
  {
   "cell_type": "code",
   "execution_count": 556,
   "metadata": {},
   "outputs": [
    {
     "data": {
      "text/html": [
       "<div>\n",
       "<style scoped>\n",
       "    .dataframe tbody tr th:only-of-type {\n",
       "        vertical-align: middle;\n",
       "    }\n",
       "\n",
       "    .dataframe tbody tr th {\n",
       "        vertical-align: top;\n",
       "    }\n",
       "\n",
       "    .dataframe thead th {\n",
       "        text-align: right;\n",
       "    }\n",
       "</style>\n",
       "<table border=\"1\" class=\"dataframe\">\n",
       "  <thead>\n",
       "    <tr style=\"text-align: right;\">\n",
       "      <th></th>\n",
       "      <th>ParticipantIdentifier</th>\n",
       "      <th>trial_date</th>\n",
       "      <th>task_nasa_distraction</th>\n",
       "      <th>task_nasa_effort</th>\n",
       "      <th>task_nasa_frustration</th>\n",
       "      <th>task_nasa_luck</th>\n",
       "      <th>task_nasa_mental_demand</th>\n",
       "      <th>task_nasa_performance</th>\n",
       "      <th>task_nasa_temporal_demand</th>\n",
       "    </tr>\n",
       "  </thead>\n",
       "  <tbody>\n",
       "    <tr>\n",
       "      <th>0</th>\n",
       "      <td>0501ba67-3406-4779-aff1-878a0e9f7885</td>\n",
       "      <td>2022-10-01</td>\n",
       "      <td>6.0</td>\n",
       "      <td>18.0</td>\n",
       "      <td>6.0</td>\n",
       "      <td>0.0</td>\n",
       "      <td>14.0</td>\n",
       "      <td>15.0</td>\n",
       "      <td>7.0</td>\n",
       "    </tr>\n",
       "    <tr>\n",
       "      <th>1</th>\n",
       "      <td>0501ba67-3406-4779-aff1-878a0e9f7885</td>\n",
       "      <td>2022-10-02</td>\n",
       "      <td>5.0</td>\n",
       "      <td>15.0</td>\n",
       "      <td>0.0</td>\n",
       "      <td>7.0</td>\n",
       "      <td>11.0</td>\n",
       "      <td>13.0</td>\n",
       "      <td>6.0</td>\n",
       "    </tr>\n",
       "  </tbody>\n",
       "</table>\n",
       "</div>"
      ],
      "text/plain": [
       "                  ParticipantIdentifier  trial_date  task_nasa_distraction  \\\n",
       "0  0501ba67-3406-4779-aff1-878a0e9f7885  2022-10-01                    6.0   \n",
       "1  0501ba67-3406-4779-aff1-878a0e9f7885  2022-10-02                    5.0   \n",
       "\n",
       "   task_nasa_effort  task_nasa_frustration  task_nasa_luck  \\\n",
       "0              18.0                    6.0             0.0   \n",
       "1              15.0                    0.0             7.0   \n",
       "\n",
       "   task_nasa_mental_demand  task_nasa_performance  task_nasa_temporal_demand  \n",
       "0                     14.0                   15.0                        7.0  \n",
       "1                     11.0                   13.0                        6.0  "
      ]
     },
     "execution_count": 556,
     "metadata": {},
     "output_type": "execute_result"
    }
   ],
   "source": [
    "nasa_tlx.head(2)"
   ]
  },
  {
   "cell_type": "markdown",
   "metadata": {
    "tags": []
   },
   "source": [
    "### Join Custom Tasks"
   ]
  },
  {
   "cell_type": "code",
   "execution_count": 557,
   "metadata": {},
   "outputs": [
    {
     "data": {
      "text/plain": [
       "(4138, 8)"
      ]
     },
     "execution_count": 557,
     "metadata": {},
     "output_type": "execute_result"
    }
   ],
   "source": [
    "gng_df.shape"
   ]
  },
  {
   "cell_type": "code",
   "execution_count": 558,
   "metadata": {},
   "outputs": [
    {
     "data": {
      "text/plain": [
       "(4105, 10)"
      ]
     },
     "execution_count": 558,
     "metadata": {},
     "output_type": "execute_result"
    }
   ],
   "source": [
    "nback_df.shape"
   ]
  },
  {
   "cell_type": "code",
   "execution_count": 559,
   "metadata": {},
   "outputs": [
    {
     "data": {
      "text/plain": [
       "(4121, 7)"
      ]
     },
     "execution_count": 559,
     "metadata": {},
     "output_type": "execute_result"
    }
   ],
   "source": [
    "bart_df.shape"
   ]
  },
  {
   "cell_type": "code",
   "execution_count": 560,
   "metadata": {},
   "outputs": [
    {
     "data": {
      "text/plain": [
       "(4088, 6)"
      ]
     },
     "execution_count": 560,
     "metadata": {},
     "output_type": "execute_result"
    }
   ],
   "source": [
    "emoStroop_df.shape"
   ]
  },
  {
   "cell_type": "code",
   "execution_count": 561,
   "metadata": {},
   "outputs": [
    {
     "data": {
      "text/plain": [
       "(4296, 4)"
      ]
     },
     "execution_count": 561,
     "metadata": {},
     "output_type": "execute_result"
    }
   ],
   "source": [
    "task_motivation.shape"
   ]
  },
  {
   "cell_type": "code",
   "execution_count": 562,
   "metadata": {},
   "outputs": [
    {
     "data": {
      "text/plain": [
       "(4090, 9)"
      ]
     },
     "execution_count": 562,
     "metadata": {},
     "output_type": "execute_result"
    }
   ],
   "source": [
    "nasa_tlx.shape"
   ]
  },
  {
   "cell_type": "code",
   "execution_count": 563,
   "metadata": {},
   "outputs": [],
   "source": [
    "custom_tasks_df = task_motivation.merge(gng_df, how='left', on=['ParticipantIdentifier', 'trial_date'])"
   ]
  },
  {
   "cell_type": "code",
   "execution_count": 564,
   "metadata": {},
   "outputs": [],
   "source": [
    "custom_tasks_df = custom_tasks_df.merge(bart_df, how='left', on=['ParticipantIdentifier', 'trial_date'])\n",
    "custom_tasks_df = custom_tasks_df.merge(emoStroop_df, how='left', on=['ParticipantIdentifier', 'trial_date'])\n",
    "custom_tasks_df = custom_tasks_df.merge(nback_df, how='left', on=['ParticipantIdentifier', 'trial_date'])\n",
    "custom_tasks_df = custom_tasks_df.merge(nasa_tlx, how='left', on=['ParticipantIdentifier', 'trial_date'])"
   ]
  },
  {
   "cell_type": "code",
   "execution_count": 565,
   "metadata": {},
   "outputs": [
    {
     "data": {
      "text/html": [
       "<div>\n",
       "<style scoped>\n",
       "    .dataframe tbody tr th:only-of-type {\n",
       "        vertical-align: middle;\n",
       "    }\n",
       "\n",
       "    .dataframe tbody tr th {\n",
       "        vertical-align: top;\n",
       "    }\n",
       "\n",
       "    .dataframe thead th {\n",
       "        text-align: right;\n",
       "    }\n",
       "</style>\n",
       "<table border=\"1\" class=\"dataframe\">\n",
       "  <thead>\n",
       "    <tr style=\"text-align: right;\">\n",
       "      <th></th>\n",
       "      <th>ParticipantIdentifier</th>\n",
       "      <th>trial_date</th>\n",
       "      <th>task_motivation_time</th>\n",
       "      <th>task_motivation_level</th>\n",
       "      <th>task_gng_time</th>\n",
       "      <th>task_gng_incorrectNoGo</th>\n",
       "      <th>task_gng_incorrectGo</th>\n",
       "      <th>task_gng_correctGo</th>\n",
       "      <th>task_gng_correctNoGo</th>\n",
       "      <th>task_gng_avgRt</th>\n",
       "      <th>...</th>\n",
       "      <th>task_nback_missed</th>\n",
       "      <th>task_nback_falseAlarm</th>\n",
       "      <th>task_nback_accuracy</th>\n",
       "      <th>task_nasa_distraction</th>\n",
       "      <th>task_nasa_effort</th>\n",
       "      <th>task_nasa_frustration</th>\n",
       "      <th>task_nasa_luck</th>\n",
       "      <th>task_nasa_mental_demand</th>\n",
       "      <th>task_nasa_performance</th>\n",
       "      <th>task_nasa_temporal_demand</th>\n",
       "    </tr>\n",
       "  </thead>\n",
       "  <tbody>\n",
       "    <tr>\n",
       "      <th>0</th>\n",
       "      <td>6b827de8-fe47-4007-aad3-202655b954e3</td>\n",
       "      <td>2022-10-24</td>\n",
       "      <td>07:09:39</td>\n",
       "      <td>6</td>\n",
       "      <td>07:20:42</td>\n",
       "      <td>3.0</td>\n",
       "      <td>2.0</td>\n",
       "      <td>38.0</td>\n",
       "      <td>7.0</td>\n",
       "      <td>450.674419</td>\n",
       "      <td>...</td>\n",
       "      <td>0.0</td>\n",
       "      <td>0.0</td>\n",
       "      <td>1.000000</td>\n",
       "      <td>3.0</td>\n",
       "      <td>15.0</td>\n",
       "      <td>2.0</td>\n",
       "      <td>5.0</td>\n",
       "      <td>15.0</td>\n",
       "      <td>18.0</td>\n",
       "      <td>14.0</td>\n",
       "    </tr>\n",
       "    <tr>\n",
       "      <th>1</th>\n",
       "      <td>a33e1d38-6ee8-4da6-993b-a94a8ae7fc30</td>\n",
       "      <td>2022-10-24</td>\n",
       "      <td>08:01:46</td>\n",
       "      <td>8</td>\n",
       "      <td>09:02:28</td>\n",
       "      <td>8.0</td>\n",
       "      <td>0.0</td>\n",
       "      <td>40.0</td>\n",
       "      <td>2.0</td>\n",
       "      <td>310.125000</td>\n",
       "      <td>...</td>\n",
       "      <td>1.0</td>\n",
       "      <td>3.0</td>\n",
       "      <td>0.818182</td>\n",
       "      <td>2.0</td>\n",
       "      <td>12.0</td>\n",
       "      <td>4.0</td>\n",
       "      <td>7.0</td>\n",
       "      <td>17.0</td>\n",
       "      <td>16.0</td>\n",
       "      <td>5.0</td>\n",
       "    </tr>\n",
       "  </tbody>\n",
       "</table>\n",
       "<p>2 rows × 34 columns</p>\n",
       "</div>"
      ],
      "text/plain": [
       "                  ParticipantIdentifier  trial_date task_motivation_time  \\\n",
       "0  6b827de8-fe47-4007-aad3-202655b954e3  2022-10-24             07:09:39   \n",
       "1  a33e1d38-6ee8-4da6-993b-a94a8ae7fc30  2022-10-24             08:01:46   \n",
       "\n",
       "  task_motivation_level task_gng_time  task_gng_incorrectNoGo  \\\n",
       "0                     6      07:20:42                     3.0   \n",
       "1                     8      09:02:28                     8.0   \n",
       "\n",
       "   task_gng_incorrectGo  task_gng_correctGo  task_gng_correctNoGo  \\\n",
       "0                   2.0                38.0                   7.0   \n",
       "1                   0.0                40.0                   2.0   \n",
       "\n",
       "   task_gng_avgRt  ...  task_nback_missed  task_nback_falseAlarm  \\\n",
       "0      450.674419  ...                0.0                    0.0   \n",
       "1      310.125000  ...                1.0                    3.0   \n",
       "\n",
       "   task_nback_accuracy  task_nasa_distraction  task_nasa_effort  \\\n",
       "0             1.000000                    3.0              15.0   \n",
       "1             0.818182                    2.0              12.0   \n",
       "\n",
       "   task_nasa_frustration  task_nasa_luck  task_nasa_mental_demand  \\\n",
       "0                    2.0             5.0                     15.0   \n",
       "1                    4.0             7.0                     17.0   \n",
       "\n",
       "   task_nasa_performance task_nasa_temporal_demand  \n",
       "0                   18.0                      14.0  \n",
       "1                   16.0                       5.0  \n",
       "\n",
       "[2 rows x 34 columns]"
      ]
     },
     "execution_count": 565,
     "metadata": {},
     "output_type": "execute_result"
    }
   ],
   "source": [
    "custom_tasks_df.head(2)"
   ]
  },
  {
   "cell_type": "markdown",
   "metadata": {
    "tags": []
   },
   "source": [
    "## HK Tasks"
   ]
  },
  {
   "cell_type": "markdown",
   "metadata": {},
   "source": [
    "### Trail Making"
   ]
  },
  {
   "cell_type": "markdown",
   "metadata": {},
   "source": [
    "[RKStudio Documentation](https://rkstudio-support.careevolution.com/hc/en-us/articles/1500002201361-Trailmaking-Active-Task-Export-Format)"
   ]
  },
  {
   "cell_type": "markdown",
   "metadata": {},
   "source": [
    "What is trailmaking task really measuring?\n",
    "\n",
    ">The Trail Making Test is a neuropsychological test of visual attention and task switching. It consists of two parts in which the subject is instructed to connect a set of 25 dots as quickly as possible while still maintaining accuracy. The test can provide information about visual search speed, scanning, speed of processing, mental flexibility, as well as executive functioning.[[1](https://doi.apa.org/doiLanding?doi=10.1037%2F1040-3590.7.2.220)]\n",
    "\n",
    "- visual attention\n",
    "- task switching\n",
    "- fluid intelligence/cognitive abilities\n",
    "\n",
    "**Reference**\n",
    "- [Salthouse, 2011](https://www.ncbi.nlm.nih.gov/pmc/articles/PMC3141679/)\n"
   ]
  },
  {
   "cell_type": "markdown",
   "metadata": {},
   "source": [
    "<div class=\"alert alert-block alert-warning\">\n",
    "<b>Note:</b> we are doing fewer trials (12) and both a number only and a letter/number version <b>but not sure how to distinguish the two</b>.<br>\n",
    "For now I am just taking the days average for time and errors...\n",
    "</div>"
   ]
  },
  {
   "cell_type": "code",
   "execution_count": 253,
   "metadata": {},
   "outputs": [
    {
     "name": "stdout",
     "output_type": "stream",
     "text": [
      "deleted existing df\n"
     ]
    }
   ],
   "source": [
    "# erase df if it already exists\n",
    "if 'df' in globals():\n",
    "    del(df)\n",
    "    print('deleted existing df')"
   ]
  },
  {
   "cell_type": "code",
   "execution_count": 254,
   "metadata": {},
   "outputs": [
    {
     "name": "stderr",
     "output_type": "stream",
     "text": [
      "100%|█████████████████████████████████████████████████████████████████████████████████████████████████| 87/87 [00:00<00:00, 250.15it/s]\n"
     ]
    }
   ],
   "source": [
    "# loop through all days\n",
    "days = [i for i in os.listdir(path) if i.startswith('RK')]\n",
    "for day in tqdm(days):\n",
    "    files = os.listdir(path + day)\n",
    "    surveyQuestions = [i for i in files if i.startswith('SurveyTrailmakingResults')]\n",
    "    # there should be only one\n",
    "    for file in surveyQuestions:\n",
    "        if 'df' not in globals():\n",
    "            df = pd.read_csv(path + day + '/' + file)\n",
    "        else:\n",
    "            temp_df = pd.read_csv(path + day + '/' + file)\n",
    "            df = pd.concat([df,temp_df], axis=0)"
   ]
  },
  {
   "cell_type": "code",
   "execution_count": 255,
   "metadata": {},
   "outputs": [
    {
     "data": {
      "text/plain": [
       "SurveyTrailmakingResultKey    0\n",
       "SurveyStepResultKey           0\n",
       "SurveyResultKey               0\n",
       "ParticipantIdentifier         0\n",
       "NumberOfErrors                0\n",
       "StartDate                     0\n",
       "EndDate                       0\n",
       "Taps                          0\n",
       "dtype: int64"
      ]
     },
     "execution_count": 255,
     "metadata": {},
     "output_type": "execute_result"
    }
   ],
   "source": [
    "# check for na dates...\n",
    "df.isna().sum()"
   ]
  },
  {
   "cell_type": "code",
   "execution_count": 256,
   "metadata": {},
   "outputs": [],
   "source": [
    "df = df.dropna(subset=['EndDate']).reset_index(drop=True)"
   ]
  },
  {
   "cell_type": "code",
   "execution_count": 257,
   "metadata": {},
   "outputs": [],
   "source": [
    "# select only subjects in run 1\n",
    "df = df.loc[df.ParticipantIdentifier.isin(subjects)].reset_index(drop=True)"
   ]
  },
  {
   "cell_type": "code",
   "execution_count": 258,
   "metadata": {
    "tags": []
   },
   "outputs": [
    {
     "name": "stderr",
     "output_type": "stream",
     "text": [
      "100%|████████████████████████████████████████████████████████████████████████████████████████████| 8384/8384 [00:01<00:00, 4959.74it/s]\n"
     ]
    }
   ],
   "source": [
    "# add trial date and time columns\n",
    "for i in tqdm(range(df.shape[0])):\n",
    "    dt = parser.parse(df.loc[i, 'EndDate'])\n",
    "    df.loc[i, 'datetime'] = dt\n",
    "    df.loc[i, 'trial_date'] = (dt + datetime.timedelta(hours = -4)).date() # trial day associated with sample (4am is when the day flips)\n",
    "    df.loc[i, 'time'] = dt.time()"
   ]
  },
  {
   "cell_type": "code",
   "execution_count": 259,
   "metadata": {},
   "outputs": [
    {
     "data": {
      "text/html": [
       "<div>\n",
       "<style scoped>\n",
       "    .dataframe tbody tr th:only-of-type {\n",
       "        vertical-align: middle;\n",
       "    }\n",
       "\n",
       "    .dataframe tbody tr th {\n",
       "        vertical-align: top;\n",
       "    }\n",
       "\n",
       "    .dataframe thead th {\n",
       "        text-align: right;\n",
       "    }\n",
       "</style>\n",
       "<table border=\"1\" class=\"dataframe\">\n",
       "  <thead>\n",
       "    <tr style=\"text-align: right;\">\n",
       "      <th></th>\n",
       "      <th>SurveyTrailmakingResultKey</th>\n",
       "      <th>SurveyStepResultKey</th>\n",
       "      <th>SurveyResultKey</th>\n",
       "      <th>ParticipantIdentifier</th>\n",
       "      <th>NumberOfErrors</th>\n",
       "      <th>StartDate</th>\n",
       "      <th>EndDate</th>\n",
       "      <th>Taps</th>\n",
       "      <th>datetime</th>\n",
       "      <th>trial_date</th>\n",
       "      <th>time</th>\n",
       "    </tr>\n",
       "  </thead>\n",
       "  <tbody>\n",
       "    <tr>\n",
       "      <th>0</th>\n",
       "      <td>0d9f0b36-8b53-ed11-aac1-0afb9334277d</td>\n",
       "      <td>f09e0b36-8b53-ed11-aac1-0afb9334277d</td>\n",
       "      <td>d69e0b36-8b53-ed11-aac1-0afb9334277d</td>\n",
       "      <td>c62ae7a2-6fe6-4fd5-9b9e-93773b08d8b9</td>\n",
       "      <td>2</td>\n",
       "      <td>2022-10-24T07:01:24-04:00</td>\n",
       "      <td>2022-10-24T07:01:33-04:00</td>\n",
       "      <td>[{\"TapTimestamp\":1.1231929063796997,\"TapIndex\"...</td>\n",
       "      <td>2022-10-24 07:01:33-04:00</td>\n",
       "      <td>2022-10-24</td>\n",
       "      <td>07:01:33</td>\n",
       "    </tr>\n",
       "    <tr>\n",
       "      <th>1</th>\n",
       "      <td>dd6cfc41-8b53-ed11-aac1-0afb9334277d</td>\n",
       "      <td>ae6cfc41-8b53-ed11-aac1-0afb9334277d</td>\n",
       "      <td>9c6cfc41-8b53-ed11-aac1-0afb9334277d</td>\n",
       "      <td>c62ae7a2-6fe6-4fd5-9b9e-93773b08d8b9</td>\n",
       "      <td>0</td>\n",
       "      <td>2022-10-24T07:01:44-04:00</td>\n",
       "      <td>2022-10-24T07:01:51-04:00</td>\n",
       "      <td>[{\"TapTimestamp\":0.93235099315643311,\"TapIndex...</td>\n",
       "      <td>2022-10-24 07:01:51-04:00</td>\n",
       "      <td>2022-10-24</td>\n",
       "      <td>07:01:51</td>\n",
       "    </tr>\n",
       "  </tbody>\n",
       "</table>\n",
       "</div>"
      ],
      "text/plain": [
       "             SurveyTrailmakingResultKey                   SurveyStepResultKey  \\\n",
       "0  0d9f0b36-8b53-ed11-aac1-0afb9334277d  f09e0b36-8b53-ed11-aac1-0afb9334277d   \n",
       "1  dd6cfc41-8b53-ed11-aac1-0afb9334277d  ae6cfc41-8b53-ed11-aac1-0afb9334277d   \n",
       "\n",
       "                        SurveyResultKey                 ParticipantIdentifier  \\\n",
       "0  d69e0b36-8b53-ed11-aac1-0afb9334277d  c62ae7a2-6fe6-4fd5-9b9e-93773b08d8b9   \n",
       "1  9c6cfc41-8b53-ed11-aac1-0afb9334277d  c62ae7a2-6fe6-4fd5-9b9e-93773b08d8b9   \n",
       "\n",
       "   NumberOfErrors                  StartDate                    EndDate  \\\n",
       "0               2  2022-10-24T07:01:24-04:00  2022-10-24T07:01:33-04:00   \n",
       "1               0  2022-10-24T07:01:44-04:00  2022-10-24T07:01:51-04:00   \n",
       "\n",
       "                                                Taps  \\\n",
       "0  [{\"TapTimestamp\":1.1231929063796997,\"TapIndex\"...   \n",
       "1  [{\"TapTimestamp\":0.93235099315643311,\"TapIndex...   \n",
       "\n",
       "                    datetime  trial_date      time  \n",
       "0  2022-10-24 07:01:33-04:00  2022-10-24  07:01:33  \n",
       "1  2022-10-24 07:01:51-04:00  2022-10-24  07:01:51  "
      ]
     },
     "execution_count": 259,
     "metadata": {},
     "output_type": "execute_result"
    }
   ],
   "source": [
    "df.head(2)"
   ]
  },
  {
   "cell_type": "markdown",
   "metadata": {},
   "source": [
    "The important data is in `Taps` where we have:\n",
    "- `TapTimestamp`\n",
    "- `TapIndex`\n",
    "- `TapIncorrect`\n",
    "\n",
    "I want to get the last `TapTimestamp` to calculate total timing"
   ]
  },
  {
   "cell_type": "code",
   "execution_count": 260,
   "metadata": {},
   "outputs": [
    {
     "data": {
      "text/plain": [
       "'[{\"TapTimestamp\":1.1231929063796997,\"TapIndex\":0,\"TapIncorrect\":false},{\"TapTimestamp\":1.3733628988265991,\"TapIndex\":1,\"TapIncorrect\":false},{\"TapTimestamp\":2.0974628925323486,\"TapIndex\":2,\"TapIncorrect\":false},{\"TapTimestamp\":2.6853359937667847,\"TapIndex\":3,\"TapIncorrect\":false},{\"TapTimestamp\":3.0811169147491455,\"TapIndex\":4,\"TapIncorrect\":false},{\"TapTimestamp\":3.5307399034500122,\"TapIndex\":5,\"TapIncorrect\":false},{\"TapTimestamp\":3.8293489217758179,\"TapIndex\":6,\"TapIncorrect\":false},{\"TapTimestamp\":4.6958400011062622,\"TapIndex\":7,\"TapIncorrect\":false},{\"TapTimestamp\":4.9455119371414185,\"TapIndex\":8,\"TapIncorrect\":false},{\"TapTimestamp\":5.1289329528808594,\"TapIndex\":9,\"TapIncorrect\":false},{\"TapTimestamp\":5.3960959911346436,\"TapIndex\":10,\"TapIncorrect\":false},{\"TapTimestamp\":5.5709859132766724,\"TapIndex\":12,\"TapIncorrect\":true},{\"TapTimestamp\":6.3530730009078979,\"TapIndex\":12,\"TapIncorrect\":true},{\"TapTimestamp\":6.8939989805221558,\"TapIndex\":11,\"TapIncorrect\":false},{\"TapTimestamp\":7.0102319717407227,\"TapIndex\":12,\"TapIncorrect\":false}]'"
      ]
     },
     "execution_count": 260,
     "metadata": {},
     "output_type": "execute_result"
    }
   ],
   "source": [
    "# Taps is a string of a list of dictionaries\n",
    "df.Taps[0]"
   ]
  },
  {
   "cell_type": "code",
   "execution_count": 261,
   "metadata": {},
   "outputs": [
    {
     "name": "stdout",
     "output_type": "stream",
     "text": [
      "{'TapTimestamp': 7.010231971740723, 'TapIndex': 12, 'TapIncorrect': False}\n"
     ]
    },
    {
     "data": {
      "text/plain": [
       "7.010231971740723"
      ]
     },
     "execution_count": 261,
     "metadata": {},
     "output_type": "execute_result"
    }
   ],
   "source": [
    "# Can convert to list of dicts and then access an individual dict\n",
    "data = json.loads(df.Taps[0])\n",
    "print(data[-1])\n",
    "data[-1]['TapTimestamp']"
   ]
  },
  {
   "cell_type": "code",
   "execution_count": 262,
   "metadata": {},
   "outputs": [
    {
     "name": "stdout",
     "output_type": "stream",
     "text": [
      "206\n"
     ]
    }
   ],
   "source": [
    "# convert string Taps to list of dicts\n",
    "df['TapsList'] = df['Taps'].apply(json.loads)\n",
    "\n",
    "# teat if any lists are empty...\n",
    "for i in range(len(df.TapsList)):\n",
    "    if df.TapsList[i]:\n",
    "        x = df.TapsList[i][-1]['TapTimestamp']\n",
    "    else:\n",
    "        print(i)"
   ]
  },
  {
   "cell_type": "code",
   "execution_count": 263,
   "metadata": {},
   "outputs": [],
   "source": [
    "# drop rows with empty lists\n",
    "df = df.drop(df.index[206])"
   ]
  },
  {
   "cell_type": "code",
   "execution_count": 264,
   "metadata": {},
   "outputs": [
    {
     "data": {
      "text/plain": [
       "(8383, 12)"
      ]
     },
     "execution_count": 264,
     "metadata": {},
     "output_type": "execute_result"
    }
   ],
   "source": [
    "df.shape"
   ]
  },
  {
   "cell_type": "code",
   "execution_count": 265,
   "metadata": {},
   "outputs": [
    {
     "data": {
      "text/html": [
       "<div>\n",
       "<style scoped>\n",
       "    .dataframe tbody tr th:only-of-type {\n",
       "        vertical-align: middle;\n",
       "    }\n",
       "\n",
       "    .dataframe tbody tr th {\n",
       "        vertical-align: top;\n",
       "    }\n",
       "\n",
       "    .dataframe thead th {\n",
       "        text-align: right;\n",
       "    }\n",
       "</style>\n",
       "<table border=\"1\" class=\"dataframe\">\n",
       "  <thead>\n",
       "    <tr style=\"text-align: right;\">\n",
       "      <th></th>\n",
       "      <th>ParticipantIdentifier</th>\n",
       "      <th>trial_date</th>\n",
       "      <th>task_trailmaking_time_avg</th>\n",
       "      <th>task_trailmaking_errors_avg</th>\n",
       "    </tr>\n",
       "  </thead>\n",
       "  <tbody>\n",
       "    <tr>\n",
       "      <th>0</th>\n",
       "      <td>0501ba67-3406-4779-aff1-878a0e9f7885</td>\n",
       "      <td>2022-09-30</td>\n",
       "      <td>17.097407</td>\n",
       "      <td>5.5</td>\n",
       "    </tr>\n",
       "    <tr>\n",
       "      <th>1</th>\n",
       "      <td>0501ba67-3406-4779-aff1-878a0e9f7885</td>\n",
       "      <td>2022-10-01</td>\n",
       "      <td>10.927568</td>\n",
       "      <td>0.5</td>\n",
       "    </tr>\n",
       "  </tbody>\n",
       "</table>\n",
       "</div>"
      ],
      "text/plain": [
       "                  ParticipantIdentifier  trial_date  \\\n",
       "0  0501ba67-3406-4779-aff1-878a0e9f7885  2022-09-30   \n",
       "1  0501ba67-3406-4779-aff1-878a0e9f7885  2022-10-01   \n",
       "\n",
       "   task_trailmaking_time_avg  task_trailmaking_errors_avg  \n",
       "0                  17.097407                          5.5  \n",
       "1                  10.927568                          0.5  "
      ]
     },
     "execution_count": 265,
     "metadata": {},
     "output_type": "execute_result"
    }
   ],
   "source": [
    "# assign new columns with final value from TapsList\n",
    "# rename column\n",
    "df = df.assign(task_trailmaking_time_avg=lambda x: x.TapsList.apply(lambda x: x[-1]['TapTimestamp']),\n",
    "               task_trailmaking_errors_avg=lambda x: x.NumberOfErrors)\n",
    "\n",
    "# keep relevant columns\n",
    "trailmaking_df = df[['ParticipantIdentifier', 'trial_date', 'time', 'task_trailmaking_time_avg', 'task_trailmaking_errors_avg']]\n",
    "\n",
    "# take average of each day since we don't know which trailmaking task is which\n",
    "trailmaking_df = pd.DataFrame(trailmaking_df.groupby(['ParticipantIdentifier', 'trial_date'])\n",
    "                              [['time', 'task_trailmaking_time_avg', 'task_trailmaking_errors_avg']].mean()).reset_index()\n",
    "trailmaking_df.head(2)"
   ]
  },
  {
   "cell_type": "code",
   "execution_count": 266,
   "metadata": {},
   "outputs": [
    {
     "data": {
      "text/plain": [
       "(4187, 4)"
      ]
     },
     "execution_count": 266,
     "metadata": {},
     "output_type": "execute_result"
    }
   ],
   "source": [
    "trailmaking_df.shape"
   ]
  },
  {
   "cell_type": "markdown",
   "metadata": {},
   "source": [
    "### Stroop\n",
    "\n",
    "[RK Studio Documentation](http://researchkit.org/docs/docs/ActiveTasks/ActiveTasks.html#stroophttp://researchkit.org/docs/docs/ActiveTasks/ActiveTasks.html#stroop)\n",
    "\n",
    "[Scarpina & Tagini, 2017](https://www.frontiersin.org/articles/10.3389/fpsyg.2017.00557/full) on scoring in their paper The Stroop Color and Words Test.\n",
    "\n",
    ">The Stroop Color and Word Test (SCWT) is a neuropsychological test extensively used to assess the ability to inhibit cognitive interference that occurs when the processing of a specific stimulus feature impedes the simultaneous processing of a second stimulus attribute, well-known as the Stroop Effect.\n",
    "\n",
    "**Interpretation**\n",
    ">While the SCWT is widelyused to measure the ability to inhibit cognitive interference; previous literature also reports itsapplication to measure other cognitive functions such as attention, processing speed, cognitive flexibility (Jensen and Rohwer, 1966), and working memory(Kane and Engle, 2003). Thus, it may be possible to use the SCWTto measure multiple cognitive functions.\n",
    "\n",
    ">According to the review, the studies with Italian normativedata present different theoretical interpretations of the SCWTscores.Amato et al. (2006)andCaffarra et al. (2002)describe theSCWT score as a measure of the fronto-executive functioning,while others use it as an index of the attentional functioning(Barbarotto et al., 1998; Valgimigli et al., 2010) or of generalcognitive efficiency (Brugnolo et al., 2015). Slowing to a responseconflict would be due to a failure of selective attention or a lack inthe cognitive efficiency instead of a failure of response inhibition(Chafetz and Matthews, 2004); however, the performance inthe SCWT is not exclusively related to concentration, attentionor cognitive effectiveness, but it relies to a more specificexecutive-frontal domain. Indeed, subjects have to processselectively a specific visual feature blocking out continuouslythe automatic processing of reading (Zajano and Gorman, 1986;Shum et al., 1990), in order to solve correctly the task. The specificinvolvement of executive processes is supported by clinical data.Patients with anterior frontal lesions, and not with posteriorcerebral damages, report significant difficulties in maintaining aconsistent activation of the intended response (Valgimigli et al.,2010). Furthermore, Parkinson’s Disease patients, characterizedby executive dysfunction due to the disruption of dopaminergicpathway (Fera et al., 2007), reported difficulties in SCWT despiteunimpaired attentional abilities (Fera et al., 2007; Djamshidianet al., 2011)."
   ]
  },
  {
   "cell_type": "code",
   "execution_count": 175,
   "metadata": {},
   "outputs": [
    {
     "name": "stdout",
     "output_type": "stream",
     "text": [
      "deleted existing df\n"
     ]
    }
   ],
   "source": [
    "# erase df if it already exists\n",
    "if 'df' in globals():\n",
    "    del(df)\n",
    "    print('deleted existing df')"
   ]
  },
  {
   "cell_type": "code",
   "execution_count": 176,
   "metadata": {},
   "outputs": [
    {
     "name": "stderr",
     "output_type": "stream",
     "text": [
      "100%|████████████████████████████████████████████████████████████████████████████████████████████████| 87/87 [00:00<00:00, 89.92it/s]\n"
     ]
    }
   ],
   "source": [
    "# loop through all days\n",
    "days = [i for i in os.listdir(path) if i.startswith('RK')]\n",
    "for day in tqdm(days):\n",
    "    files = os.listdir(path + day)\n",
    "    surveyQuestions = [i for i in files if i.startswith('SurveyStroopResults')]\n",
    "    # there should be only one\n",
    "    for file in surveyQuestions:\n",
    "        if 'df' not in globals():\n",
    "            df = pd.read_csv(path + day + '/' + file)\n",
    "        else:\n",
    "            temp_df = pd.read_csv(path + day + '/' + file)\n",
    "            df = pd.concat([df,temp_df], axis=0)"
   ]
  },
  {
   "cell_type": "code",
   "execution_count": 177,
   "metadata": {},
   "outputs": [
    {
     "data": {
      "text/plain": [
       "SurveyStroopResultKey        0\n",
       "SurveyStepResultKey          0\n",
       "SurveyResultKey              0\n",
       "ParticipantIdentifier        0\n",
       "StartTime                    0\n",
       "EndTime                      0\n",
       "ColorSelected                0\n",
       "Color                        0\n",
       "Text                         0\n",
       "StroopStyle              85044\n",
       "StartDate                    0\n",
       "EndDate                      0\n",
       "dtype: int64"
      ]
     },
     "execution_count": 177,
     "metadata": {},
     "output_type": "execute_result"
    }
   ],
   "source": [
    "# check for na dates...\n",
    "df.isna().sum()"
   ]
  },
  {
   "cell_type": "code",
   "execution_count": 178,
   "metadata": {},
   "outputs": [],
   "source": [
    "df = df.dropna(subset=['EndDate']).reset_index(drop=True)\n"
   ]
  },
  {
   "cell_type": "code",
   "execution_count": 179,
   "metadata": {},
   "outputs": [],
   "source": [
    "# select only subjects in run 1\n",
    "df = df.loc[df.ParticipantIdentifier.isin(subjects)].reset_index(drop=True)\n"
   ]
  },
  {
   "cell_type": "code",
   "execution_count": 180,
   "metadata": {
    "tags": []
   },
   "outputs": [
    {
     "name": "stderr",
     "output_type": "stream",
     "text": [
      "100%|████████████████████████████████████████████████████████████████████████████████████████| 83447/83447 [00:16<00:00, 4963.65it/s]\n"
     ]
    }
   ],
   "source": [
    "# add trial date and time columns\n",
    "for i in tqdm(range(df.shape[0])):\n",
    "    dt = parser.parse(df.loc[i, 'EndDate'])\n",
    "    df.loc[i, 'datetime'] = dt\n",
    "    df.loc[i, 'trial_date'] = (dt + datetime.timedelta(hours = -4)).date() # trial day associated with sample (4am is when the day flips)\n",
    "    df.loc[i, 'time'] = dt.time()"
   ]
  },
  {
   "cell_type": "code",
   "execution_count": 181,
   "metadata": {},
   "outputs": [
    {
     "data": {
      "text/html": [
       "<div>\n",
       "<style scoped>\n",
       "    .dataframe tbody tr th:only-of-type {\n",
       "        vertical-align: middle;\n",
       "    }\n",
       "\n",
       "    .dataframe tbody tr th {\n",
       "        vertical-align: top;\n",
       "    }\n",
       "\n",
       "    .dataframe thead th {\n",
       "        text-align: right;\n",
       "    }\n",
       "</style>\n",
       "<table border=\"1\" class=\"dataframe\">\n",
       "  <thead>\n",
       "    <tr style=\"text-align: right;\">\n",
       "      <th></th>\n",
       "      <th>SurveyStroopResultKey</th>\n",
       "      <th>SurveyStepResultKey</th>\n",
       "      <th>SurveyResultKey</th>\n",
       "      <th>ParticipantIdentifier</th>\n",
       "      <th>StartTime</th>\n",
       "      <th>EndTime</th>\n",
       "      <th>ColorSelected</th>\n",
       "      <th>Color</th>\n",
       "      <th>Text</th>\n",
       "      <th>StroopStyle</th>\n",
       "      <th>StartDate</th>\n",
       "      <th>EndDate</th>\n",
       "      <th>datetime</th>\n",
       "      <th>trial_date</th>\n",
       "      <th>time</th>\n",
       "    </tr>\n",
       "  </thead>\n",
       "  <tbody>\n",
       "    <tr>\n",
       "      <th>0</th>\n",
       "      <td>89742a1e-8b53-ed11-aac1-0afb9334277d</td>\n",
       "      <td>4e742a1e-8b53-ed11-aac1-0afb9334277d</td>\n",
       "      <td>29742a1e-8b53-ed11-aac1-0afb9334277d</td>\n",
       "      <td>c62ae7a2-6fe6-4fd5-9b9e-93773b08d8b9</td>\n",
       "      <td>309203.635967</td>\n",
       "      <td>309204.352445</td>\n",
       "      <td>GREEN</td>\n",
       "      <td>GREEN</td>\n",
       "      <td>GREEN</td>\n",
       "      <td>NaN</td>\n",
       "      <td>2022-10-24T07:00:26-04:00</td>\n",
       "      <td>2022-10-24T07:00:26-04:00</td>\n",
       "      <td>2022-10-24 07:00:26-04:00</td>\n",
       "      <td>2022-10-24</td>\n",
       "      <td>07:00:26</td>\n",
       "    </tr>\n",
       "    <tr>\n",
       "      <th>1</th>\n",
       "      <td>8f742a1e-8b53-ed11-aac1-0afb9334277d</td>\n",
       "      <td>4e742a1e-8b53-ed11-aac1-0afb9334277d</td>\n",
       "      <td>29742a1e-8b53-ed11-aac1-0afb9334277d</td>\n",
       "      <td>c62ae7a2-6fe6-4fd5-9b9e-93773b08d8b9</td>\n",
       "      <td>309204.855281</td>\n",
       "      <td>309205.381077</td>\n",
       "      <td>YELLOW</td>\n",
       "      <td>YELLOW</td>\n",
       "      <td>YELLOW</td>\n",
       "      <td>NaN</td>\n",
       "      <td>2022-10-24T07:00:27-04:00</td>\n",
       "      <td>2022-10-24T07:00:27-04:00</td>\n",
       "      <td>2022-10-24 07:00:27-04:00</td>\n",
       "      <td>2022-10-24</td>\n",
       "      <td>07:00:27</td>\n",
       "    </tr>\n",
       "  </tbody>\n",
       "</table>\n",
       "</div>"
      ],
      "text/plain": [
       "                  SurveyStroopResultKey                   SurveyStepResultKey  \\\n",
       "0  89742a1e-8b53-ed11-aac1-0afb9334277d  4e742a1e-8b53-ed11-aac1-0afb9334277d   \n",
       "1  8f742a1e-8b53-ed11-aac1-0afb9334277d  4e742a1e-8b53-ed11-aac1-0afb9334277d   \n",
       "\n",
       "                        SurveyResultKey                 ParticipantIdentifier  \\\n",
       "0  29742a1e-8b53-ed11-aac1-0afb9334277d  c62ae7a2-6fe6-4fd5-9b9e-93773b08d8b9   \n",
       "1  29742a1e-8b53-ed11-aac1-0afb9334277d  c62ae7a2-6fe6-4fd5-9b9e-93773b08d8b9   \n",
       "\n",
       "       StartTime        EndTime ColorSelected   Color    Text  StroopStyle  \\\n",
       "0  309203.635967  309204.352445         GREEN   GREEN   GREEN          NaN   \n",
       "1  309204.855281  309205.381077        YELLOW  YELLOW  YELLOW          NaN   \n",
       "\n",
       "                   StartDate                    EndDate  \\\n",
       "0  2022-10-24T07:00:26-04:00  2022-10-24T07:00:26-04:00   \n",
       "1  2022-10-24T07:00:27-04:00  2022-10-24T07:00:27-04:00   \n",
       "\n",
       "                    datetime  trial_date      time  \n",
       "0  2022-10-24 07:00:26-04:00  2022-10-24  07:00:26  \n",
       "1  2022-10-24 07:00:27-04:00  2022-10-24  07:00:27  "
      ]
     },
     "execution_count": 181,
     "metadata": {},
     "output_type": "execute_result"
    }
   ],
   "source": [
    "df.head(2)"
   ]
  },
  {
   "cell_type": "code",
   "execution_count": 182,
   "metadata": {},
   "outputs": [
    {
     "data": {
      "text/html": [
       "<div>\n",
       "<style scoped>\n",
       "    .dataframe tbody tr th:only-of-type {\n",
       "        vertical-align: middle;\n",
       "    }\n",
       "\n",
       "    .dataframe tbody tr th {\n",
       "        vertical-align: top;\n",
       "    }\n",
       "\n",
       "    .dataframe thead th {\n",
       "        text-align: right;\n",
       "    }\n",
       "</style>\n",
       "<table border=\"1\" class=\"dataframe\">\n",
       "  <thead>\n",
       "    <tr style=\"text-align: right;\">\n",
       "      <th></th>\n",
       "      <th>ParticipantIdentifier</th>\n",
       "      <th>trial_date</th>\n",
       "      <th>StartTime</th>\n",
       "      <th>EndTime</th>\n",
       "      <th>ColorSelected</th>\n",
       "      <th>Color</th>\n",
       "      <th>Text</th>\n",
       "      <th>congruent</th>\n",
       "      <th>correct</th>\n",
       "      <th>rt</th>\n",
       "    </tr>\n",
       "  </thead>\n",
       "  <tbody>\n",
       "    <tr>\n",
       "      <th>0</th>\n",
       "      <td>c62ae7a2-6fe6-4fd5-9b9e-93773b08d8b9</td>\n",
       "      <td>2022-10-24</td>\n",
       "      <td>309203.635967</td>\n",
       "      <td>309204.352445</td>\n",
       "      <td>GREEN</td>\n",
       "      <td>GREEN</td>\n",
       "      <td>GREEN</td>\n",
       "      <td>True</td>\n",
       "      <td>True</td>\n",
       "      <td>0.716479</td>\n",
       "    </tr>\n",
       "    <tr>\n",
       "      <th>1</th>\n",
       "      <td>c62ae7a2-6fe6-4fd5-9b9e-93773b08d8b9</td>\n",
       "      <td>2022-10-24</td>\n",
       "      <td>309204.855281</td>\n",
       "      <td>309205.381077</td>\n",
       "      <td>YELLOW</td>\n",
       "      <td>YELLOW</td>\n",
       "      <td>YELLOW</td>\n",
       "      <td>True</td>\n",
       "      <td>True</td>\n",
       "      <td>0.525796</td>\n",
       "    </tr>\n",
       "    <tr>\n",
       "      <th>2</th>\n",
       "      <td>c62ae7a2-6fe6-4fd5-9b9e-93773b08d8b9</td>\n",
       "      <td>2022-10-24</td>\n",
       "      <td>309205.883879</td>\n",
       "      <td>309206.448313</td>\n",
       "      <td>BLUE</td>\n",
       "      <td>BLUE</td>\n",
       "      <td>BLUE</td>\n",
       "      <td>True</td>\n",
       "      <td>True</td>\n",
       "      <td>0.564434</td>\n",
       "    </tr>\n",
       "  </tbody>\n",
       "</table>\n",
       "</div>"
      ],
      "text/plain": [
       "                  ParticipantIdentifier  trial_date      StartTime  \\\n",
       "0  c62ae7a2-6fe6-4fd5-9b9e-93773b08d8b9  2022-10-24  309203.635967   \n",
       "1  c62ae7a2-6fe6-4fd5-9b9e-93773b08d8b9  2022-10-24  309204.855281   \n",
       "2  c62ae7a2-6fe6-4fd5-9b9e-93773b08d8b9  2022-10-24  309205.883879   \n",
       "\n",
       "         EndTime ColorSelected   Color    Text  congruent  correct        rt  \n",
       "0  309204.352445         GREEN   GREEN   GREEN       True     True  0.716479  \n",
       "1  309205.381077        YELLOW  YELLOW  YELLOW       True     True  0.525796  \n",
       "2  309206.448313          BLUE    BLUE    BLUE       True     True  0.564434  "
      ]
     },
     "execution_count": 182,
     "metadata": {},
     "output_type": "execute_result"
    }
   ],
   "source": [
    "# create correct, congruous and time columns\n",
    "df = df[['ParticipantIdentifier', 'trial_date', 'StartTime', 'EndTime', 'ColorSelected', 'Color', 'Text']]\n",
    "df = df.assign(congruent=lambda x: x.Color == x.Text,\n",
    "               correct=lambda x: x.Color == x.ColorSelected,\n",
    "               rt=lambda x: (x.EndTime - x.StartTime)\n",
    "              )\n",
    "df.head(3)"
   ]
  },
  {
   "cell_type": "code",
   "execution_count": 183,
   "metadata": {},
   "outputs": [],
   "source": [
    "# should I also have columns like congruent correct rt, congruent incorrect rt, etc...\n",
    "\n",
    "# define function that returns a Series of all aggregations\n",
    "\n",
    "def f(x):\n",
    "    d = {}\n",
    "    \n",
    "    d['task_stroop_totalCorrectProp'] = x['correct'].sum()/len(x['correct'])\n",
    "    d['task_stroop_congruentCorrectProp'] = len(x.loc[(x.congruent==True) & (x.correct==True)])/x.congruent.value_counts()[1]\n",
    "    d['task_stroop_incongruentCorrectProp'] = len(x.loc[(x.congruent==False) & (x.correct==True)])/x.congruent.value_counts()[0]\n",
    "    d['task_stroop_totalAvgRT'] = x['rt'].sum()/len(x['rt'])    \n",
    "    d['task_stroop_congruentAvgRT'] = x.loc[x.congruent==True,'rt'].sum()/x.congruent.value_counts()[1]    \n",
    "    d['task_stroop_incongruentAvgRT'] = x.loc[x.congruent==False,'rt'].sum()/x.congruent.value_counts()[0]\n",
    "    \n",
    "    return pd.Series(d, index=['task_stroop_totalCorrectProp', 'task_stroop_congruentCorrectProp',\n",
    "                               'task_stroop_incongruentCorrectProp', 'task_stroop_totalAvgRT',\n",
    "                               'task_stroop_congruentAvgRT', 'task_stroop_incongruentAvgRT'\n",
    "                              ])\n",
    "\n",
    "# note that value_counts gives us the number of trues and falses for boolean columns\n",
    "# then indexing into 0 for false and 1 for true"
   ]
  },
  {
   "cell_type": "code",
   "execution_count": 184,
   "metadata": {},
   "outputs": [
    {
     "data": {
      "text/html": [
       "<div>\n",
       "<style scoped>\n",
       "    .dataframe tbody tr th:only-of-type {\n",
       "        vertical-align: middle;\n",
       "    }\n",
       "\n",
       "    .dataframe tbody tr th {\n",
       "        vertical-align: top;\n",
       "    }\n",
       "\n",
       "    .dataframe thead th {\n",
       "        text-align: right;\n",
       "    }\n",
       "</style>\n",
       "<table border=\"1\" class=\"dataframe\">\n",
       "  <thead>\n",
       "    <tr style=\"text-align: right;\">\n",
       "      <th></th>\n",
       "      <th>ParticipantIdentifier</th>\n",
       "      <th>trial_date</th>\n",
       "      <th>task_stroop_totalCorrectProp</th>\n",
       "      <th>task_stroop_congruentCorrectProp</th>\n",
       "      <th>task_stroop_incongruentCorrectProp</th>\n",
       "      <th>task_stroop_totalAvgRT</th>\n",
       "      <th>task_stroop_congruentAvgRT</th>\n",
       "      <th>task_stroop_incongruentAvgRT</th>\n",
       "    </tr>\n",
       "  </thead>\n",
       "  <tbody>\n",
       "    <tr>\n",
       "      <th>0</th>\n",
       "      <td>0501ba67-3406-4779-aff1-878a0e9f7885</td>\n",
       "      <td>2022-09-30</td>\n",
       "      <td>1.0</td>\n",
       "      <td>1.0</td>\n",
       "      <td>1.0</td>\n",
       "      <td>1.566986</td>\n",
       "      <td>1.624938</td>\n",
       "      <td>1.393131</td>\n",
       "    </tr>\n",
       "    <tr>\n",
       "      <th>1</th>\n",
       "      <td>0501ba67-3406-4779-aff1-878a0e9f7885</td>\n",
       "      <td>2022-10-01</td>\n",
       "      <td>1.0</td>\n",
       "      <td>1.0</td>\n",
       "      <td>1.0</td>\n",
       "      <td>0.991799</td>\n",
       "      <td>0.940324</td>\n",
       "      <td>1.026115</td>\n",
       "    </tr>\n",
       "    <tr>\n",
       "      <th>2</th>\n",
       "      <td>0501ba67-3406-4779-aff1-878a0e9f7885</td>\n",
       "      <td>2022-10-02</td>\n",
       "      <td>1.0</td>\n",
       "      <td>1.0</td>\n",
       "      <td>1.0</td>\n",
       "      <td>0.991220</td>\n",
       "      <td>0.927535</td>\n",
       "      <td>1.109492</td>\n",
       "    </tr>\n",
       "  </tbody>\n",
       "</table>\n",
       "</div>"
      ],
      "text/plain": [
       "                  ParticipantIdentifier  trial_date  \\\n",
       "0  0501ba67-3406-4779-aff1-878a0e9f7885  2022-09-30   \n",
       "1  0501ba67-3406-4779-aff1-878a0e9f7885  2022-10-01   \n",
       "2  0501ba67-3406-4779-aff1-878a0e9f7885  2022-10-02   \n",
       "\n",
       "   task_stroop_totalCorrectProp  task_stroop_congruentCorrectProp  \\\n",
       "0                           1.0                               1.0   \n",
       "1                           1.0                               1.0   \n",
       "2                           1.0                               1.0   \n",
       "\n",
       "   task_stroop_incongruentCorrectProp  task_stroop_totalAvgRT  \\\n",
       "0                                 1.0                1.566986   \n",
       "1                                 1.0                0.991799   \n",
       "2                                 1.0                0.991220   \n",
       "\n",
       "   task_stroop_congruentAvgRT  task_stroop_incongruentAvgRT  \n",
       "0                    1.624938                      1.393131  \n",
       "1                    0.940324                      1.026115  \n",
       "2                    0.927535                      1.109492  "
      ]
     },
     "execution_count": 184,
     "metadata": {},
     "output_type": "execute_result"
    }
   ],
   "source": [
    "stroop_df = df.groupby(['ParticipantIdentifier', 'trial_date']).apply(f).reset_index()\n",
    "stroop_df.head(3)"
   ]
  },
  {
   "cell_type": "markdown",
   "metadata": {},
   "source": [
    "#### Summary"
   ]
  },
  {
   "cell_type": "code",
   "execution_count": 185,
   "metadata": {},
   "outputs": [
    {
     "name": "stderr",
     "output_type": "stream",
     "text": [
      "/var/folders/lw/ys_1b9sj08s904m4402qr0bm0000gn/T/ipykernel_91704/2027240852.py:1: FutureWarning: Dropping of nuisance columns in DataFrame reductions (with 'numeric_only=None') is deprecated; in a future version this will raise TypeError.  Select only valid columns before calling the reduction.\n",
      "  stroop_df.mean()\n"
     ]
    },
    {
     "data": {
      "text/plain": [
       "task_stroop_totalCorrectProp          0.895491\n",
       "task_stroop_congruentCorrectProp      0.966339\n",
       "task_stroop_incongruentCorrectProp    0.822726\n",
       "task_stroop_totalAvgRT                1.057124\n",
       "task_stroop_congruentAvgRT            0.840355\n",
       "task_stroop_incongruentAvgRT          1.245894\n",
       "dtype: float64"
      ]
     },
     "execution_count": 185,
     "metadata": {},
     "output_type": "execute_result"
    }
   ],
   "source": [
    "stroop_df.mean()"
   ]
  },
  {
   "cell_type": "markdown",
   "metadata": {},
   "source": [
    "### PSAT"
   ]
  },
  {
   "cell_type": "markdown",
   "metadata": {},
   "source": [
    "[RKStudio Documentation](https://rkstudio-support.careevolution.com/hc/en-us/articles/1500002352262-Paced-Serial-Addition-Test-PSAT-Active-Task-Export-Format)"
   ]
  },
  {
   "cell_type": "code",
   "execution_count": 186,
   "metadata": {},
   "outputs": [
    {
     "name": "stdout",
     "output_type": "stream",
     "text": [
      "deleted existing df\n"
     ]
    }
   ],
   "source": [
    "# erase df if it already exists\n",
    "if 'df' in globals():\n",
    "    del(df)\n",
    "    print('deleted existing df')"
   ]
  },
  {
   "cell_type": "code",
   "execution_count": 187,
   "metadata": {},
   "outputs": [
    {
     "name": "stderr",
     "output_type": "stream",
     "text": [
      "100%|███████████████████████████████████████████████████████████████████████████████████████████████| 87/87 [00:00<00:00, 303.22it/s]\n"
     ]
    }
   ],
   "source": [
    "# loop through all days\n",
    "days = [i for i in os.listdir(path) if i.startswith('RK')]\n",
    "for day in tqdm(days):\n",
    "    files = os.listdir(path + day)\n",
    "    surveyQuestions = [i for i in files if i.startswith('SurveyPSATResults')]\n",
    "    # there should be only one\n",
    "    for file in surveyQuestions:\n",
    "        if 'df' not in globals():\n",
    "            df = pd.read_csv(path + day + '/' + file)\n",
    "        else:\n",
    "            temp_df = pd.read_csv(path + day + '/' + file)\n",
    "            df = pd.concat([df,temp_df], axis=0)"
   ]
  },
  {
   "cell_type": "code",
   "execution_count": 188,
   "metadata": {},
   "outputs": [
    {
     "data": {
      "text/plain": [
       "SurveyPSATResultKey      0\n",
       "SurveyStepResultKey      0\n",
       "SurveyResultKey          0\n",
       "ParticipantIdentifier    0\n",
       "PresentationMode         0\n",
       "InterStimulusInterval    0\n",
       "StimulusDuration         0\n",
       "Length                   0\n",
       "TotalCorrect             0\n",
       "TotalDyad                0\n",
       "TotalTime                0\n",
       "InitialDigit             0\n",
       "StartDate                0\n",
       "EndDate                  0\n",
       "Samples                  0\n",
       "dtype: int64"
      ]
     },
     "execution_count": 188,
     "metadata": {},
     "output_type": "execute_result"
    }
   ],
   "source": [
    "# check for na dates...\n",
    "df.isna().sum()"
   ]
  },
  {
   "cell_type": "code",
   "execution_count": 189,
   "metadata": {},
   "outputs": [],
   "source": [
    "df = df.dropna(subset=['EndDate']).reset_index(drop=True)"
   ]
  },
  {
   "cell_type": "code",
   "execution_count": 190,
   "metadata": {},
   "outputs": [],
   "source": [
    "# select only subjects in run 1\n",
    "df = df.loc[df.ParticipantIdentifier.isin(subjects)].reset_index(drop=True)"
   ]
  },
  {
   "cell_type": "code",
   "execution_count": 191,
   "metadata": {
    "tags": []
   },
   "outputs": [
    {
     "name": "stderr",
     "output_type": "stream",
     "text": [
      "100%|██████████████████████████████████████████████████████████████████████████████████████████| 4113/4113 [00:00<00:00, 4747.76it/s]\n"
     ]
    }
   ],
   "source": [
    "# add trial date and time columns\n",
    "for i in tqdm(range(df.shape[0])):\n",
    "    dt = parser.parse(df.loc[i, 'EndDate'])\n",
    "    df.loc[i, 'datetime'] = dt\n",
    "    df.loc[i, 'trial_date'] = (dt + datetime.timedelta(hours = -4)).date() # trial day associated with sample (4am is when the day flips)\n",
    "    df.loc[i, 'time'] = dt.time()"
   ]
  },
  {
   "cell_type": "code",
   "execution_count": 192,
   "metadata": {},
   "outputs": [
    {
     "data": {
      "text/html": [
       "<div>\n",
       "<style scoped>\n",
       "    .dataframe tbody tr th:only-of-type {\n",
       "        vertical-align: middle;\n",
       "    }\n",
       "\n",
       "    .dataframe tbody tr th {\n",
       "        vertical-align: top;\n",
       "    }\n",
       "\n",
       "    .dataframe thead th {\n",
       "        text-align: right;\n",
       "    }\n",
       "</style>\n",
       "<table border=\"1\" class=\"dataframe\">\n",
       "  <thead>\n",
       "    <tr style=\"text-align: right;\">\n",
       "      <th></th>\n",
       "      <th>SurveyPSATResultKey</th>\n",
       "      <th>SurveyStepResultKey</th>\n",
       "      <th>SurveyResultKey</th>\n",
       "      <th>ParticipantIdentifier</th>\n",
       "      <th>PresentationMode</th>\n",
       "      <th>InterStimulusInterval</th>\n",
       "      <th>StimulusDuration</th>\n",
       "      <th>Length</th>\n",
       "      <th>TotalCorrect</th>\n",
       "      <th>TotalDyad</th>\n",
       "      <th>TotalTime</th>\n",
       "      <th>InitialDigit</th>\n",
       "      <th>StartDate</th>\n",
       "      <th>EndDate</th>\n",
       "      <th>Samples</th>\n",
       "      <th>datetime</th>\n",
       "      <th>trial_date</th>\n",
       "      <th>time</th>\n",
       "    </tr>\n",
       "  </thead>\n",
       "  <tbody>\n",
       "    <tr>\n",
       "      <th>0</th>\n",
       "      <td>0440c97d-8b53-ed11-aac1-0afb9334277d</td>\n",
       "      <td>f43fc97d-8b53-ed11-aac1-0afb9334277d</td>\n",
       "      <td>ea3fc97d-8b53-ed11-aac1-0afb9334277d</td>\n",
       "      <td>c62ae7a2-6fe6-4fd5-9b9e-93773b08d8b9</td>\n",
       "      <td>Visual</td>\n",
       "      <td>3</td>\n",
       "      <td>1</td>\n",
       "      <td>30</td>\n",
       "      <td>30</td>\n",
       "      <td>29</td>\n",
       "      <td>36.382437</td>\n",
       "      <td>6</td>\n",
       "      <td>2022-10-24T07:03:37-04:00</td>\n",
       "      <td>2022-10-24T07:03:37-04:00</td>\n",
       "      <td>[{\"Answer\":15,\"Correct\":true,\"Time\":1.28411066...</td>\n",
       "      <td>2022-10-24 07:03:37-04:00</td>\n",
       "      <td>2022-10-24</td>\n",
       "      <td>07:03:37</td>\n",
       "    </tr>\n",
       "    <tr>\n",
       "      <th>1</th>\n",
       "      <td>7c2fccdd-8b53-ed11-aac1-0afb9334277d</td>\n",
       "      <td>6c2fccdd-8b53-ed11-aac1-0afb9334277d</td>\n",
       "      <td>602fccdd-8b53-ed11-aac1-0afb9334277d</td>\n",
       "      <td>39d785c6-9e3d-44c2-88ec-2ce14ef923f9</td>\n",
       "      <td>Visual</td>\n",
       "      <td>3</td>\n",
       "      <td>1</td>\n",
       "      <td>30</td>\n",
       "      <td>23</td>\n",
       "      <td>18</td>\n",
       "      <td>46.628217</td>\n",
       "      <td>2</td>\n",
       "      <td>2022-10-24T07:06:10-04:00</td>\n",
       "      <td>2022-10-24T07:06:10-04:00</td>\n",
       "      <td>[{\"Answer\":6,\"Correct\":true,\"Time\":1.073050333...</td>\n",
       "      <td>2022-10-24 07:06:10-04:00</td>\n",
       "      <td>2022-10-24</td>\n",
       "      <td>07:06:10</td>\n",
       "    </tr>\n",
       "  </tbody>\n",
       "</table>\n",
       "</div>"
      ],
      "text/plain": [
       "                    SurveyPSATResultKey                   SurveyStepResultKey  \\\n",
       "0  0440c97d-8b53-ed11-aac1-0afb9334277d  f43fc97d-8b53-ed11-aac1-0afb9334277d   \n",
       "1  7c2fccdd-8b53-ed11-aac1-0afb9334277d  6c2fccdd-8b53-ed11-aac1-0afb9334277d   \n",
       "\n",
       "                        SurveyResultKey                 ParticipantIdentifier  \\\n",
       "0  ea3fc97d-8b53-ed11-aac1-0afb9334277d  c62ae7a2-6fe6-4fd5-9b9e-93773b08d8b9   \n",
       "1  602fccdd-8b53-ed11-aac1-0afb9334277d  39d785c6-9e3d-44c2-88ec-2ce14ef923f9   \n",
       "\n",
       "  PresentationMode  InterStimulusInterval  StimulusDuration  Length  \\\n",
       "0           Visual                      3                 1      30   \n",
       "1           Visual                      3                 1      30   \n",
       "\n",
       "   TotalCorrect  TotalDyad  TotalTime  InitialDigit  \\\n",
       "0            30         29  36.382437             6   \n",
       "1            23         18  46.628217             2   \n",
       "\n",
       "                   StartDate                    EndDate  \\\n",
       "0  2022-10-24T07:03:37-04:00  2022-10-24T07:03:37-04:00   \n",
       "1  2022-10-24T07:06:10-04:00  2022-10-24T07:06:10-04:00   \n",
       "\n",
       "                                             Samples  \\\n",
       "0  [{\"Answer\":15,\"Correct\":true,\"Time\":1.28411066...   \n",
       "1  [{\"Answer\":6,\"Correct\":true,\"Time\":1.073050333...   \n",
       "\n",
       "                    datetime  trial_date      time  \n",
       "0  2022-10-24 07:03:37-04:00  2022-10-24  07:03:37  \n",
       "1  2022-10-24 07:06:10-04:00  2022-10-24  07:06:10  "
      ]
     },
     "execution_count": 192,
     "metadata": {},
     "output_type": "execute_result"
    }
   ],
   "source": [
    "df.head(2)"
   ]
  },
  {
   "cell_type": "markdown",
   "metadata": {},
   "source": [
    "---\n",
    "\n",
    "The important data is:\n",
    "- `Length` + `TotalCorrect` to determine accuracy\n",
    "- `TotalTime` / `Length` to get time/trial \n",
    "    - (use this instead of `TotalTime` in case we change number of trials"
   ]
  },
  {
   "cell_type": "code",
   "execution_count": 193,
   "metadata": {},
   "outputs": [
    {
     "data": {
      "text/html": [
       "<div>\n",
       "<style scoped>\n",
       "    .dataframe tbody tr th:only-of-type {\n",
       "        vertical-align: middle;\n",
       "    }\n",
       "\n",
       "    .dataframe tbody tr th {\n",
       "        vertical-align: top;\n",
       "    }\n",
       "\n",
       "    .dataframe thead th {\n",
       "        text-align: right;\n",
       "    }\n",
       "</style>\n",
       "<table border=\"1\" class=\"dataframe\">\n",
       "  <thead>\n",
       "    <tr style=\"text-align: right;\">\n",
       "      <th></th>\n",
       "      <th>ParticipantIdentifier</th>\n",
       "      <th>trial_date</th>\n",
       "      <th>task_psat_accuracy</th>\n",
       "      <th>task_psat_avgRT</th>\n",
       "    </tr>\n",
       "  </thead>\n",
       "  <tbody>\n",
       "    <tr>\n",
       "      <th>0</th>\n",
       "      <td>c62ae7a2-6fe6-4fd5-9b9e-93773b08d8b9</td>\n",
       "      <td>2022-10-24</td>\n",
       "      <td>1.000000</td>\n",
       "      <td>1.212748</td>\n",
       "    </tr>\n",
       "    <tr>\n",
       "      <th>1</th>\n",
       "      <td>39d785c6-9e3d-44c2-88ec-2ce14ef923f9</td>\n",
       "      <td>2022-10-24</td>\n",
       "      <td>0.766667</td>\n",
       "      <td>1.554274</td>\n",
       "    </tr>\n",
       "  </tbody>\n",
       "</table>\n",
       "</div>"
      ],
      "text/plain": [
       "                  ParticipantIdentifier  trial_date  task_psat_accuracy  \\\n",
       "0  c62ae7a2-6fe6-4fd5-9b9e-93773b08d8b9  2022-10-24            1.000000   \n",
       "1  39d785c6-9e3d-44c2-88ec-2ce14ef923f9  2022-10-24            0.766667   \n",
       "\n",
       "   task_psat_avgRT  \n",
       "0         1.212748  \n",
       "1         1.554274  "
      ]
     },
     "execution_count": 193,
     "metadata": {},
     "output_type": "execute_result"
    }
   ],
   "source": [
    "# assign new column with accuracy value\n",
    "df = df.assign(task_psat_accuracy=lambda x: x.TotalCorrect/x.Length,\n",
    "               task_psat_avgRT=lambda x: x.TotalTime/x.Length\n",
    "              )\n",
    "\n",
    "# keep relevant columns\n",
    "psat_df = df[['ParticipantIdentifier', 'trial_date', 'task_psat_accuracy', 'task_psat_avgRT']]\n",
    "psat_df.head(2)"
   ]
  },
  {
   "cell_type": "code",
   "execution_count": 418,
   "metadata": {},
   "outputs": [
    {
     "data": {
      "text/plain": [
       "<AxesSubplot:>"
      ]
     },
     "execution_count": 418,
     "metadata": {},
     "output_type": "execute_result"
    },
    {
     "data": {
      "image/png": "[encoded data removed]",
      "text/plain": [
       "<Figure size 432x288 with 1 Axes>"
      ]
     },
     "metadata": {
      "needs_background": "light"
     },
     "output_type": "display_data"
    }
   ],
   "source": [
    "psat_df.task_psat_accuracy.hist()"
   ]
  },
  {
   "cell_type": "code",
   "execution_count": 416,
   "metadata": {},
   "outputs": [
    {
     "data": {
      "text/plain": [
       "(4113, 4)"
      ]
     },
     "execution_count": 416,
     "metadata": {},
     "output_type": "execute_result"
    }
   ],
   "source": [
    "psat_df.shape"
   ]
  },
  {
   "cell_type": "code",
   "execution_count": 430,
   "metadata": {},
   "outputs": [],
   "source": [
    "x = pd.DataFrame(psat_df.groupby('ParticipantIdentifier').agg({'task_psat_accuracy': ['mean', 'std', 'count']})).reset_index()"
   ]
  },
  {
   "cell_type": "code",
   "execution_count": 431,
   "metadata": {},
   "outputs": [],
   "source": [
    "x.columns = [' '.join(col).strip() for col in x.columns.values]\n"
   ]
  },
  {
   "cell_type": "code",
   "execution_count": 436,
   "metadata": {},
   "outputs": [
    {
     "data": {
      "text/html": [
       "<div>\n",
       "<style scoped>\n",
       "    .dataframe tbody tr th:only-of-type {\n",
       "        vertical-align: middle;\n",
       "    }\n",
       "\n",
       "    .dataframe tbody tr th {\n",
       "        vertical-align: top;\n",
       "    }\n",
       "\n",
       "    .dataframe thead th {\n",
       "        text-align: right;\n",
       "    }\n",
       "</style>\n",
       "<table border=\"1\" class=\"dataframe\">\n",
       "  <thead>\n",
       "    <tr style=\"text-align: right;\">\n",
       "      <th></th>\n",
       "      <th>ParticipantIdentifier</th>\n",
       "      <th>task_psat_accuracy mean</th>\n",
       "      <th>task_psat_accuracy std</th>\n",
       "      <th>task_psat_accuracy count</th>\n",
       "    </tr>\n",
       "  </thead>\n",
       "  <tbody>\n",
       "    <tr>\n",
       "      <th>32</th>\n",
       "      <td>596d1036-bafa-47c3-9886-a588a37789bb</td>\n",
       "      <td>0.908439</td>\n",
       "      <td>0.077067</td>\n",
       "      <td>79</td>\n",
       "    </tr>\n",
       "    <tr>\n",
       "      <th>71</th>\n",
       "      <td>c62ae7a2-6fe6-4fd5-9b9e-93773b08d8b9</td>\n",
       "      <td>0.918930</td>\n",
       "      <td>0.073586</td>\n",
       "      <td>81</td>\n",
       "    </tr>\n",
       "    <tr>\n",
       "      <th>61</th>\n",
       "      <td>a8b5a9ea-b762-4f46-a431-6c530215c498</td>\n",
       "      <td>0.920675</td>\n",
       "      <td>0.087103</td>\n",
       "      <td>79</td>\n",
       "    </tr>\n",
       "    <tr>\n",
       "      <th>43</th>\n",
       "      <td>6e86c427-c679-4acd-aeb4-19ada9022b66</td>\n",
       "      <td>0.926749</td>\n",
       "      <td>0.071961</td>\n",
       "      <td>81</td>\n",
       "    </tr>\n",
       "    <tr>\n",
       "      <th>54</th>\n",
       "      <td>9330d6d9-c667-43be-b437-a3c988dd10d7</td>\n",
       "      <td>0.936992</td>\n",
       "      <td>0.082153</td>\n",
       "      <td>82</td>\n",
       "    </tr>\n",
       "    <tr>\n",
       "      <th>85</th>\n",
       "      <td>ea3e9fa2-5a64-431c-be25-3ff532f0445f</td>\n",
       "      <td>0.941880</td>\n",
       "      <td>0.078116</td>\n",
       "      <td>78</td>\n",
       "    </tr>\n",
       "    <tr>\n",
       "      <th>58</th>\n",
       "      <td>a2a8e4c2-c292-4062-8fd2-b6b5a8092cac</td>\n",
       "      <td>0.950000</td>\n",
       "      <td>0.070711</td>\n",
       "      <td>2</td>\n",
       "    </tr>\n",
       "    <tr>\n",
       "      <th>0</th>\n",
       "      <td>0501ba67-3406-4779-aff1-878a0e9f7885</td>\n",
       "      <td>0.958009</td>\n",
       "      <td>0.063844</td>\n",
       "      <td>77</td>\n",
       "    </tr>\n",
       "    <tr>\n",
       "      <th>57</th>\n",
       "      <td>a01397bb-a8a5-4cd1-af6f-6ace410f125d</td>\n",
       "      <td>0.972840</td>\n",
       "      <td>0.037680</td>\n",
       "      <td>81</td>\n",
       "    </tr>\n",
       "    <tr>\n",
       "      <th>3</th>\n",
       "      <td>146e1ab8-c4ca-4a52-9261-e108b38eea53</td>\n",
       "      <td>0.975325</td>\n",
       "      <td>0.039516</td>\n",
       "      <td>77</td>\n",
       "    </tr>\n",
       "  </tbody>\n",
       "</table>\n",
       "</div>"
      ],
      "text/plain": [
       "                   ParticipantIdentifier  task_psat_accuracy mean  \\\n",
       "32  596d1036-bafa-47c3-9886-a588a37789bb                 0.908439   \n",
       "71  c62ae7a2-6fe6-4fd5-9b9e-93773b08d8b9                 0.918930   \n",
       "61  a8b5a9ea-b762-4f46-a431-6c530215c498                 0.920675   \n",
       "43  6e86c427-c679-4acd-aeb4-19ada9022b66                 0.926749   \n",
       "54  9330d6d9-c667-43be-b437-a3c988dd10d7                 0.936992   \n",
       "85  ea3e9fa2-5a64-431c-be25-3ff532f0445f                 0.941880   \n",
       "58  a2a8e4c2-c292-4062-8fd2-b6b5a8092cac                 0.950000   \n",
       "0   0501ba67-3406-4779-aff1-878a0e9f7885                 0.958009   \n",
       "57  a01397bb-a8a5-4cd1-af6f-6ace410f125d                 0.972840   \n",
       "3   146e1ab8-c4ca-4a52-9261-e108b38eea53                 0.975325   \n",
       "\n",
       "    task_psat_accuracy std  task_psat_accuracy count  \n",
       "32                0.077067                        79  \n",
       "71                0.073586                        81  \n",
       "61                0.087103                        79  \n",
       "43                0.071961                        81  \n",
       "54                0.082153                        82  \n",
       "85                0.078116                        78  \n",
       "58                0.070711                         2  \n",
       "0                 0.063844                        77  \n",
       "57                0.037680                        81  \n",
       "3                 0.039516                        77  "
      ]
     },
     "execution_count": 436,
     "metadata": {},
     "output_type": "execute_result"
    }
   ],
   "source": [
    "x.sort_values(by = 'task_psat_accuracy mean').tail(10)"
   ]
  },
  {
   "cell_type": "code",
   "execution_count": 423,
   "metadata": {},
   "outputs": [
    {
     "data": {
      "text/plain": [
       "array([[<AxesSubplot:title={'center':'task_psat_accuracy'}>]],\n",
       "      dtype=object)"
      ]
     },
     "execution_count": 423,
     "metadata": {},
     "output_type": "execute_result"
    },
    {
     "data": {
      "image/png": "[encoded data removed]",
      "text/plain": [
       "<Figure size 432x288 with 1 Axes>"
      ]
     },
     "metadata": {
      "needs_background": "light"
     },
     "output_type": "display_data"
    }
   ],
   "source": [
    "pd.DataFrame(psat_df.groupby('ParticipantIdentifier')['task_psat_accuracy'].mean()).hist()"
   ]
  },
  {
   "cell_type": "code",
   "execution_count": 417,
   "metadata": {},
   "outputs": [
    {
     "data": {
      "text/plain": [
       "0.000000    437\n",
       "1.000000    368\n",
       "0.966667    283\n",
       "0.933333    255\n",
       "0.900000    210\n",
       "0.866667    188\n",
       "0.833333    184\n",
       "0.800000    162\n",
       "0.033333    146\n",
       "0.400000    137\n",
       "0.500000    135\n",
       "0.766667    134\n",
       "0.466667    132\n",
       "0.433333    129\n",
       "0.733333    119\n",
       "0.700000    103\n",
       "0.633333     99\n",
       "0.666667     95\n",
       "0.366667     92\n",
       "0.066667     82\n",
       "0.600000     75\n",
       "0.566667     67\n",
       "0.533333     63\n",
       "0.333333     62\n",
       "0.100000     58\n",
       "0.300000     57\n",
       "0.233333     53\n",
       "0.266667     51\n",
       "0.133333     48\n",
       "0.200000     45\n",
       "0.166667     44\n",
       "Name: task_psat_accuracy, dtype: int64"
      ]
     },
     "execution_count": 417,
     "metadata": {},
     "output_type": "execute_result"
    }
   ],
   "source": [
    "psat_df.task_psat_accuracy.value_counts()"
   ]
  },
  {
   "cell_type": "markdown",
   "metadata": {},
   "source": [
    "### Tower of Hanoi\n",
    "\n",
    "[RK Studio Documentation](http://researchkit.org/docs/docs/ActiveTasks/ActiveTasks.html#towerhttp://researchkit.org/docs/docs/ActiveTasks/ActiveTasks.html#tower)\n"
   ]
  },
  {
   "cell_type": "markdown",
   "metadata": {},
   "source": [
    ">In the Tower of Hanoi task the user is asked to solve the classic Tower of Hanoi puzzle in a minimum number of moves. To solve the puzzle, the user must move the entire stack to the highlighted platform in as few moves as possible. This task measures the user’s problem solving skills. A Tower of Hanoi task finishes when the user completes the puzzle correctly or concedes that they cannot solve the puzzle.\n",
    "\n",
    ">Data collected by this task is in the form of an ORKTowerOfHanoiResult object. It contains every move taken by the user and indicates whether the puzzle was successfully completed or not.\n",
    "\n"
   ]
  },
  {
   "cell_type": "code",
   "execution_count": 195,
   "metadata": {},
   "outputs": [
    {
     "name": "stdout",
     "output_type": "stream",
     "text": [
      "deleted existing df\n"
     ]
    }
   ],
   "source": [
    "# erase df if it already exists\n",
    "if 'df' in globals():\n",
    "    del(df)\n",
    "    print('deleted existing df')\n",
    "    "
   ]
  },
  {
   "cell_type": "code",
   "execution_count": 196,
   "metadata": {},
   "outputs": [
    {
     "name": "stderr",
     "output_type": "stream",
     "text": [
      "100%|███████████████████████████████████████████████████████████████████████████████████████████████| 87/87 [00:00<00:00, 253.75it/s]\n"
     ]
    }
   ],
   "source": [
    "# loop through all days\n",
    "days = [i for i in os.listdir(path) if i.startswith('RK')]\n",
    "for day in tqdm(days):\n",
    "    files = os.listdir(path + day)\n",
    "    surveyQuestions = [i for i in files if i.startswith('SurveyTowerOfHanoiResults')]\n",
    "    # there should be only one\n",
    "    for file in surveyQuestions:\n",
    "        if 'df' not in globals():\n",
    "            df = pd.read_csv(path + day + '/' + file)\n",
    "        else:\n",
    "            temp_df = pd.read_csv(path + day + '/' + file)\n",
    "            df = pd.concat([df,temp_df], axis=0)"
   ]
  },
  {
   "cell_type": "code",
   "execution_count": 197,
   "metadata": {},
   "outputs": [
    {
     "data": {
      "text/plain": [
       "SurveyTowerOfHanoiResultKey    0\n",
       "SurveyStepResultKey            0\n",
       "SurveyResultKey                0\n",
       "ParticipantIdentifier          0\n",
       "PuzzleWasSolved                0\n",
       "StartDate                      0\n",
       "EndDate                        0\n",
       "Moves                          0\n",
       "dtype: int64"
      ]
     },
     "execution_count": 197,
     "metadata": {},
     "output_type": "execute_result"
    }
   ],
   "source": [
    "# check for na dates...\n",
    "df.isna().sum()"
   ]
  },
  {
   "cell_type": "code",
   "execution_count": 198,
   "metadata": {},
   "outputs": [],
   "source": [
    "df = df.dropna(subset=['EndDate']).reset_index(drop=True)"
   ]
  },
  {
   "cell_type": "code",
   "execution_count": 199,
   "metadata": {},
   "outputs": [],
   "source": [
    "# select only subjects in run 1\n",
    "df = df.loc[df.ParticipantIdentifier.isin(subjects)].reset_index(drop=True)"
   ]
  },
  {
   "cell_type": "code",
   "execution_count": 200,
   "metadata": {
    "tags": []
   },
   "outputs": [
    {
     "name": "stderr",
     "output_type": "stream",
     "text": [
      "100%|██████████████████████████████████████████████████████████████████████████████████████████| 4206/4206 [00:00<00:00, 4270.22it/s]\n"
     ]
    }
   ],
   "source": [
    "# add trial date and time columns\n",
    "for i in tqdm(range(df.shape[0])):\n",
    "    dt = parser.parse(df.loc[i, 'EndDate'])\n",
    "    df.loc[i, 'datetime'] = dt\n",
    "    df.loc[i, 'trial_date'] = (dt + datetime.timedelta(hours = -4)).date() # trial day associated with sample (4am is when the day flips)\n",
    "    df.loc[i, 'time'] = dt.time()"
   ]
  },
  {
   "cell_type": "code",
   "execution_count": 201,
   "metadata": {},
   "outputs": [
    {
     "data": {
      "text/html": [
       "<div>\n",
       "<style scoped>\n",
       "    .dataframe tbody tr th:only-of-type {\n",
       "        vertical-align: middle;\n",
       "    }\n",
       "\n",
       "    .dataframe tbody tr th {\n",
       "        vertical-align: top;\n",
       "    }\n",
       "\n",
       "    .dataframe thead th {\n",
       "        text-align: right;\n",
       "    }\n",
       "</style>\n",
       "<table border=\"1\" class=\"dataframe\">\n",
       "  <thead>\n",
       "    <tr style=\"text-align: right;\">\n",
       "      <th></th>\n",
       "      <th>SurveyTowerOfHanoiResultKey</th>\n",
       "      <th>SurveyStepResultKey</th>\n",
       "      <th>SurveyResultKey</th>\n",
       "      <th>ParticipantIdentifier</th>\n",
       "      <th>PuzzleWasSolved</th>\n",
       "      <th>StartDate</th>\n",
       "      <th>EndDate</th>\n",
       "      <th>Moves</th>\n",
       "      <th>datetime</th>\n",
       "      <th>trial_date</th>\n",
       "      <th>time</th>\n",
       "    </tr>\n",
       "  </thead>\n",
       "  <tbody>\n",
       "    <tr>\n",
       "      <th>0</th>\n",
       "      <td>03111c2a-8b53-ed11-aac1-0afb9334277d</td>\n",
       "      <td>ef101c2a-8b53-ed11-aac1-0afb9334277d</td>\n",
       "      <td>dd101c2a-8b53-ed11-aac1-0afb9334277d</td>\n",
       "      <td>c62ae7a2-6fe6-4fd5-9b9e-93773b08d8b9</td>\n",
       "      <td>True</td>\n",
       "      <td>2022-10-24T07:00:57-04:00</td>\n",
       "      <td>2022-10-24T07:01:13-04:00</td>\n",
       "      <td>[{\"Timestamp\":0.0,\"DonorTowerIndex\":0,\"Recipie...</td>\n",
       "      <td>2022-10-24 07:01:13-04:00</td>\n",
       "      <td>2022-10-24</td>\n",
       "      <td>07:01:13</td>\n",
       "    </tr>\n",
       "    <tr>\n",
       "      <th>1</th>\n",
       "      <td>da3ce753-8b53-ed11-aac1-0afb9334277d</td>\n",
       "      <td>ce3ce753-8b53-ed11-aac1-0afb9334277d</td>\n",
       "      <td>c53ce753-8b53-ed11-aac1-0afb9334277d</td>\n",
       "      <td>39d785c6-9e3d-44c2-88ec-2ce14ef923f9</td>\n",
       "      <td>True</td>\n",
       "      <td>2022-10-24T07:01:31-04:00</td>\n",
       "      <td>2022-10-24T07:02:19-04:00</td>\n",
       "      <td>[{\"Timestamp\":0.0,\"DonorTowerIndex\":0,\"Recipie...</td>\n",
       "      <td>2022-10-24 07:02:19-04:00</td>\n",
       "      <td>2022-10-24</td>\n",
       "      <td>07:02:19</td>\n",
       "    </tr>\n",
       "  </tbody>\n",
       "</table>\n",
       "</div>"
      ],
      "text/plain": [
       "            SurveyTowerOfHanoiResultKey                   SurveyStepResultKey  \\\n",
       "0  03111c2a-8b53-ed11-aac1-0afb9334277d  ef101c2a-8b53-ed11-aac1-0afb9334277d   \n",
       "1  da3ce753-8b53-ed11-aac1-0afb9334277d  ce3ce753-8b53-ed11-aac1-0afb9334277d   \n",
       "\n",
       "                        SurveyResultKey                 ParticipantIdentifier  \\\n",
       "0  dd101c2a-8b53-ed11-aac1-0afb9334277d  c62ae7a2-6fe6-4fd5-9b9e-93773b08d8b9   \n",
       "1  c53ce753-8b53-ed11-aac1-0afb9334277d  39d785c6-9e3d-44c2-88ec-2ce14ef923f9   \n",
       "\n",
       "   PuzzleWasSolved                  StartDate                    EndDate  \\\n",
       "0             True  2022-10-24T07:00:57-04:00  2022-10-24T07:01:13-04:00   \n",
       "1             True  2022-10-24T07:01:31-04:00  2022-10-24T07:02:19-04:00   \n",
       "\n",
       "                                               Moves  \\\n",
       "0  [{\"Timestamp\":0.0,\"DonorTowerIndex\":0,\"Recipie...   \n",
       "1  [{\"Timestamp\":0.0,\"DonorTowerIndex\":0,\"Recipie...   \n",
       "\n",
       "                    datetime  trial_date      time  \n",
       "0  2022-10-24 07:01:13-04:00  2022-10-24  07:01:13  \n",
       "1  2022-10-24 07:02:19-04:00  2022-10-24  07:02:19  "
      ]
     },
     "execution_count": 201,
     "metadata": {},
     "output_type": "execute_result"
    }
   ],
   "source": [
    "df.head(2)"
   ]
  },
  {
   "cell_type": "markdown",
   "metadata": {},
   "source": [
    "The important data is in `Moves` where we have:\n",
    "- `TapTimestamp`\n",
    "- `TapIndex`\n",
    "- `TapIncorrect`\n",
    "\n",
    "I want to get the last `TapTimestamp` to calculate total timing"
   ]
  },
  {
   "cell_type": "code",
   "execution_count": 202,
   "metadata": {},
   "outputs": [
    {
     "data": {
      "text/plain": [
       "'[{\"Timestamp\":0.0,\"DonorTowerIndex\":0,\"RecipientTowerIndex\":2},{\"Timestamp\":0.44844293594360352,\"DonorTowerIndex\":0,\"RecipientTowerIndex\":1},{\"Timestamp\":0.79825496673583984,\"DonorTowerIndex\":2,\"RecipientTowerIndex\":1},{\"Timestamp\":1.2141859531402588,\"DonorTowerIndex\":0,\"RecipientTowerIndex\":2},{\"Timestamp\":1.6481199264526367,\"DonorTowerIndex\":1,\"RecipientTowerIndex\":0},{\"Timestamp\":2.0084099769592285,\"DonorTowerIndex\":1,\"RecipientTowerIndex\":2},{\"Timestamp\":2.4056679010391235,\"DonorTowerIndex\":0,\"RecipientTowerIndex\":2},{\"Timestamp\":2.8057299852371216,\"DonorTowerIndex\":0,\"RecipientTowerIndex\":1},{\"Timestamp\":3.2057470083236694,\"DonorTowerIndex\":2,\"RecipientTowerIndex\":1},{\"Timestamp\":3.5718460083007812,\"DonorTowerIndex\":2,\"RecipientTowerIndex\":0},{\"Timestamp\":7.4691159725189209,\"DonorTowerIndex\":1,\"RecipientTowerIndex\":0},{\"Timestamp\":7.8433569669723511,\"DonorTowerIndex\":2,\"RecipientTowerIndex\":1},{\"Timestamp\":8.24301290512085,\"DonorTowerIndex\":0,\"RecipientTowerIndex\":2},{\"Timestamp\":8.6092379093170166,\"DonorTowerIndex\":0,\"RecipientTowerIndex\":1},{\"Timestamp\":9.0175319910049438,\"DonorTowerIndex\":2,\"RecipientTowerIndex\":1},{\"Timestamp\":9.5074919462203979,\"DonorTowerIndex\":0,\"RecipientTowerIndex\":2},{\"Timestamp\":9.8993649482727051,\"DonorTowerIndex\":1,\"RecipientTowerIndex\":0},{\"Timestamp\":10.31508195400238,\"DonorTowerIndex\":1,\"RecipientTowerIndex\":2},{\"Timestamp\":10.955944895744324,\"DonorTowerIndex\":0,\"RecipientTowerIndex\":2},{\"Timestamp\":11.373016953468323,\"DonorTowerIndex\":1,\"RecipientTowerIndex\":0},{\"Timestamp\":11.781189918518066,\"DonorTowerIndex\":2,\"RecipientTowerIndex\":1},{\"Timestamp\":12.197211980819702,\"DonorTowerIndex\":2,\"RecipientTowerIndex\":0},{\"Timestamp\":12.572218894958496,\"DonorTowerIndex\":1,\"RecipientTowerIndex\":0},{\"Timestamp\":13.122085928916931,\"DonorTowerIndex\":1,\"RecipientTowerIndex\":2},{\"Timestamp\":13.5540030002594,\"DonorTowerIndex\":0,\"RecipientTowerIndex\":2},{\"Timestamp\":13.996248006820679,\"DonorTowerIndex\":0,\"RecipientTowerIndex\":1},{\"Timestamp\":14.420886993408203,\"DonorTowerIndex\":2,\"RecipientTowerIndex\":1},{\"Timestamp\":14.786671996116638,\"DonorTowerIndex\":0,\"RecipientTowerIndex\":2},{\"Timestamp\":15.27804696559906,\"DonorTowerIndex\":1,\"RecipientTowerIndex\":0},{\"Timestamp\":15.636812925338745,\"DonorTowerIndex\":1,\"RecipientTowerIndex\":2},{\"Timestamp\":15.945243000984192,\"DonorTowerIndex\":0,\"RecipientTowerIndex\":2}]'"
      ]
     },
     "execution_count": 202,
     "metadata": {},
     "output_type": "execute_result"
    }
   ],
   "source": [
    "# Taps is a string of a list of dictionaries\n",
    "df.Moves[0]"
   ]
  },
  {
   "cell_type": "code",
   "execution_count": 203,
   "metadata": {},
   "outputs": [
    {
     "name": "stdout",
     "output_type": "stream",
     "text": [
      "{'Timestamp': 15.945243000984192, 'DonorTowerIndex': 0, 'RecipientTowerIndex': 2}\n"
     ]
    },
    {
     "data": {
      "text/plain": [
       "15.945243000984192"
      ]
     },
     "execution_count": 203,
     "metadata": {},
     "output_type": "execute_result"
    }
   ],
   "source": [
    "# Can convert to list of dicts and then access an individual dict\n",
    "data = json.loads(df.Moves[0])\n",
    "\n",
    "# print last dict\n",
    "print(data[-1])\n",
    "\n",
    "# extract the time\n",
    "data[-1]['Timestamp']"
   ]
  },
  {
   "cell_type": "code",
   "execution_count": 204,
   "metadata": {},
   "outputs": [
    {
     "data": {
      "text/plain": [
       "31"
      ]
     },
     "execution_count": 204,
     "metadata": {},
     "output_type": "execute_result"
    }
   ],
   "source": [
    "# numbmer of moves\n",
    "len(data)"
   ]
  },
  {
   "cell_type": "code",
   "execution_count": 205,
   "metadata": {
    "tags": []
   },
   "outputs": [],
   "source": [
    "# convert string Taps to list of dicts\n",
    "df['MovesList'] = df['Moves'].apply(json.loads)\n",
    "\n",
    "# test if any lists are empty...this means NO MOVES\n",
    "drop_ix = []\n",
    "\n",
    "for i in range(len(df.MovesList)):\n",
    "    if df.MovesList[i]:\n",
    "        x = df.MovesList[i][-1]['Timestamp']\n",
    "    else:\n",
    "        drop_ix.append(i)"
   ]
  },
  {
   "cell_type": "code",
   "execution_count": 206,
   "metadata": {},
   "outputs": [],
   "source": [
    "# drop rows with empty move lists\n",
    "df = df.drop(df.index[drop_ix]).reset_index(drop=True)"
   ]
  },
  {
   "cell_type": "markdown",
   "metadata": {},
   "source": [
    "---\n",
    "\n",
    "The important data is:\n",
    "- `PuzzleWasSolved`\n",
    "    - just to indicate completion\n",
    "- Get total time required\n",
    "    - `Timestamp` in last dictionary\n",
    "- Get number of moves\n",
    "    - 1 dict/move so get count of dicts)"
   ]
  },
  {
   "cell_type": "code",
   "execution_count": 207,
   "metadata": {},
   "outputs": [
    {
     "data": {
      "text/html": [
       "<div>\n",
       "<style scoped>\n",
       "    .dataframe tbody tr th:only-of-type {\n",
       "        vertical-align: middle;\n",
       "    }\n",
       "\n",
       "    .dataframe tbody tr th {\n",
       "        vertical-align: top;\n",
       "    }\n",
       "\n",
       "    .dataframe thead th {\n",
       "        text-align: right;\n",
       "    }\n",
       "</style>\n",
       "<table border=\"1\" class=\"dataframe\">\n",
       "  <thead>\n",
       "    <tr style=\"text-align: right;\">\n",
       "      <th></th>\n",
       "      <th>ParticipantIdentifier</th>\n",
       "      <th>trial_date</th>\n",
       "      <th>task_hanoi_solved</th>\n",
       "      <th>task_hanoi_time</th>\n",
       "      <th>task_hanoi_moves</th>\n",
       "    </tr>\n",
       "  </thead>\n",
       "  <tbody>\n",
       "    <tr>\n",
       "      <th>0</th>\n",
       "      <td>c62ae7a2-6fe6-4fd5-9b9e-93773b08d8b9</td>\n",
       "      <td>2022-10-24</td>\n",
       "      <td>True</td>\n",
       "      <td>15.945243</td>\n",
       "      <td>31</td>\n",
       "    </tr>\n",
       "    <tr>\n",
       "      <th>1</th>\n",
       "      <td>39d785c6-9e3d-44c2-88ec-2ce14ef923f9</td>\n",
       "      <td>2022-10-24</td>\n",
       "      <td>True</td>\n",
       "      <td>48.495506</td>\n",
       "      <td>48</td>\n",
       "    </tr>\n",
       "  </tbody>\n",
       "</table>\n",
       "</div>"
      ],
      "text/plain": [
       "                  ParticipantIdentifier  trial_date  task_hanoi_solved  \\\n",
       "0  c62ae7a2-6fe6-4fd5-9b9e-93773b08d8b9  2022-10-24               True   \n",
       "1  39d785c6-9e3d-44c2-88ec-2ce14ef923f9  2022-10-24               True   \n",
       "\n",
       "   task_hanoi_time  task_hanoi_moves  \n",
       "0        15.945243                31  \n",
       "1        48.495506                48  "
      ]
     },
     "execution_count": 207,
     "metadata": {},
     "output_type": "execute_result"
    }
   ],
   "source": [
    "# assign new columns\n",
    "df = df.assign(task_hanoi_solved=lambda x: x.PuzzleWasSolved,\n",
    "               task_hanoi_time=lambda x: x.MovesList.apply(lambda x: x[-1]['Timestamp']),\n",
    "               task_hanoi_moves=[len(moves) for moves in df.MovesList] # maybe give this as a multiple on optimality (ideal = 1)?\n",
    "              )\n",
    "\n",
    "# keep relevant columns\n",
    "toh_df = df[['ParticipantIdentifier', 'trial_date', 'task_hanoi_solved', 'task_hanoi_time', 'task_hanoi_moves']]\n",
    "toh_df.head(2)"
   ]
  },
  {
   "cell_type": "code",
   "execution_count": 208,
   "metadata": {},
   "outputs": [
    {
     "data": {
      "text/plain": [
       "(3599, 5)"
      ]
     },
     "execution_count": 208,
     "metadata": {},
     "output_type": "execute_result"
    }
   ],
   "source": [
    "toh_df.shape"
   ]
  },
  {
   "cell_type": "markdown",
   "metadata": {},
   "source": [
    "### Reaction Time\n",
    "\n",
    "This was **Not Working** for at least the first half of **Run 1**.\n",
    "\n",
    "A new task has been created by RK Studio at this point.\n",
    "\n"
   ]
  },
  {
   "cell_type": "code",
   "execution_count": 209,
   "metadata": {},
   "outputs": [],
   "source": [
    "# Add info on task"
   ]
  },
  {
   "cell_type": "markdown",
   "metadata": {},
   "source": [
    "### Spatial Span Memory\n",
    "\n",
    "\n",
    "[RK Studio Documentation](http://researchkit.org/docs/docs/ActiveTasks/ActiveTasks.html#spatialhttp://researchkit.org/docs/docs/ActiveTasks/ActiveTasks.html#spatial)\n"
   ]
  },
  {
   "cell_type": "markdown",
   "metadata": {},
   "source": [
    "> In the spatial memory task the user is asked to observe and then recall pattern sequences of increasing length in a game-like environment. The task collects data that can be used to assess visuospatial memory and executive function.\n",
    "\n",
    ">The span (that is, the length of the pattern sequence) is automatically varied during the task, increasing after successful completion of a sequence, and decreasing after failures, in the range from minimumSpan to maximumSpan. The playSpeed property lets you control the speed of sequence playback, and the customTargetImage property lets you customize the shape of the tap target. The game finishes when either maxTests tests have been completed, or the user has made maxConsecutiveFailures errors in a row.\n",
    "\n",
    ">The results collected are scores derived from the game, the details of the game, and the touch inputs made by the user."
   ]
  },
  {
   "cell_type": "code",
   "execution_count": 6,
   "metadata": {},
   "outputs": [],
   "source": [
    "# erase df if it already exists\n",
    "if 'df' in globals():\n",
    "    del(df)\n",
    "    print('deleted existing df')\n",
    "    "
   ]
  },
  {
   "cell_type": "code",
   "execution_count": 7,
   "metadata": {},
   "outputs": [
    {
     "name": "stderr",
     "output_type": "stream",
     "text": [
      "100%|██████████| 87/87 [00:00<00:00, 119.75it/s]\n"
     ]
    }
   ],
   "source": [
    "# loop through all days\n",
    "days = [i for i in os.listdir(path) if i.startswith('RK')]\n",
    "for day in tqdm(days):\n",
    "    files = os.listdir(path + day)\n",
    "    surveyQuestions = [i for i in files if i.startswith('SurveySpatialSpanMemoryResults')]\n",
    "    # there should be only one\n",
    "    for file in surveyQuestions:\n",
    "        if 'df' not in globals():\n",
    "            df = pd.read_csv(path + day + '/' + file)\n",
    "        else:\n",
    "            temp_df = pd.read_csv(path + day + '/' + file)\n",
    "            df = pd.concat([df,temp_df], axis=0)"
   ]
  },
  {
   "cell_type": "code",
   "execution_count": 8,
   "metadata": {},
   "outputs": [
    {
     "data": {
      "text/plain": [
       "SurveySpatialSpanMemoryResultKey    0\n",
       "SurveyStepResultKey                 0\n",
       "SurveyResultKey                     0\n",
       "ParticipantIdentifier               0\n",
       "Score                               0\n",
       "NumberOfGames                       0\n",
       "NumberOfFailures                    0\n",
       "StartDate                           0\n",
       "EndDate                             0\n",
       "GameRecords                         0\n",
       "dtype: int64"
      ]
     },
     "execution_count": 8,
     "metadata": {},
     "output_type": "execute_result"
    }
   ],
   "source": [
    "# check for na dates...\n",
    "df.isna().sum()"
   ]
  },
  {
   "cell_type": "code",
   "execution_count": 9,
   "metadata": {},
   "outputs": [],
   "source": [
    "df = df.dropna(subset=['EndDate']).reset_index(drop=True)"
   ]
  },
  {
   "cell_type": "code",
   "execution_count": 10,
   "metadata": {},
   "outputs": [],
   "source": [
    "# select only subjects in run 1\n",
    "df = df.loc[df.ParticipantIdentifier.isin(subjects)].reset_index(drop=True)"
   ]
  },
  {
   "cell_type": "code",
   "execution_count": 11,
   "metadata": {
    "tags": []
   },
   "outputs": [
    {
     "name": "stderr",
     "output_type": "stream",
     "text": [
      "100%|██████████| 4117/4117 [00:03<00:00, 1179.02it/s]\n"
     ]
    }
   ],
   "source": [
    "# add trial date and time columns\n",
    "for i in tqdm(range(df.shape[0])):\n",
    "    dt = parser.parse(df.loc[i, 'EndDate'])\n",
    "    df.loc[i, 'datetime'] = dt\n",
    "    df.loc[i, 'trial_date'] = (dt + datetime.timedelta(hours = -4)).date() # trial day associated with sample (4am is when the day flips)\n",
    "    df.loc[i, 'time'] = dt.time()"
   ]
  },
  {
   "cell_type": "code",
   "execution_count": 12,
   "metadata": {},
   "outputs": [
    {
     "data": {
      "text/html": [
       "<div>\n",
       "<style scoped>\n",
       "    .dataframe tbody tr th:only-of-type {\n",
       "        vertical-align: middle;\n",
       "    }\n",
       "\n",
       "    .dataframe tbody tr th {\n",
       "        vertical-align: top;\n",
       "    }\n",
       "\n",
       "    .dataframe thead th {\n",
       "        text-align: right;\n",
       "    }\n",
       "</style>\n",
       "<table border=\"1\" class=\"dataframe\">\n",
       "  <thead>\n",
       "    <tr style=\"text-align: right;\">\n",
       "      <th></th>\n",
       "      <th>SurveySpatialSpanMemoryResultKey</th>\n",
       "      <th>SurveyStepResultKey</th>\n",
       "      <th>SurveyResultKey</th>\n",
       "      <th>ParticipantIdentifier</th>\n",
       "      <th>Score</th>\n",
       "      <th>NumberOfGames</th>\n",
       "      <th>NumberOfFailures</th>\n",
       "      <th>StartDate</th>\n",
       "      <th>EndDate</th>\n",
       "      <th>GameRecords</th>\n",
       "      <th>datetime</th>\n",
       "      <th>trial_date</th>\n",
       "      <th>time</th>\n",
       "    </tr>\n",
       "  </thead>\n",
       "  <tbody>\n",
       "    <tr>\n",
       "      <th>0</th>\n",
       "      <td>4c40ca9b-8b53-ed11-aac1-0afb9334277d</td>\n",
       "      <td>4040ca9b-8b53-ed11-aac1-0afb9334277d</td>\n",
       "      <td>3740ca9b-8b53-ed11-aac1-0afb9334277d</td>\n",
       "      <td>39d785c6-9e3d-44c2-88ec-2ce14ef923f9</td>\n",
       "      <td>330</td>\n",
       "      <td>6</td>\n",
       "      <td>1</td>\n",
       "      <td>2022-10-24T07:03:32-04:00</td>\n",
       "      <td>2022-10-24T07:04:19-04:00</td>\n",
       "      <td>[{\"Seed\":1595374595,\"Sequence\":[2,6,8],\"GameSi...</td>\n",
       "      <td>2022-10-24 07:04:19-04:00</td>\n",
       "      <td>2022-10-24</td>\n",
       "      <td>07:04:19</td>\n",
       "    </tr>\n",
       "    <tr>\n",
       "      <th>1</th>\n",
       "      <td>999cc2a1-8b53-ed11-aac1-0afb9334277d</td>\n",
       "      <td>8c9cc2a1-8b53-ed11-aac1-0afb9334277d</td>\n",
       "      <td>829cc2a1-8b53-ed11-aac1-0afb9334277d</td>\n",
       "      <td>c62ae7a2-6fe6-4fd5-9b9e-93773b08d8b9</td>\n",
       "      <td>385</td>\n",
       "      <td>6</td>\n",
       "      <td>1</td>\n",
       "      <td>2022-10-24T07:03:42-04:00</td>\n",
       "      <td>2022-10-24T07:04:31-04:00</td>\n",
       "      <td>[{\"Seed\":0,\"Sequence\":[6,2,1],\"GameSize\":9,\"Ga...</td>\n",
       "      <td>2022-10-24 07:04:31-04:00</td>\n",
       "      <td>2022-10-24</td>\n",
       "      <td>07:04:31</td>\n",
       "    </tr>\n",
       "  </tbody>\n",
       "</table>\n",
       "</div>"
      ],
      "text/plain": [
       "       SurveySpatialSpanMemoryResultKey                   SurveyStepResultKey  \\\n",
       "0  4c40ca9b-8b53-ed11-aac1-0afb9334277d  4040ca9b-8b53-ed11-aac1-0afb9334277d   \n",
       "1  999cc2a1-8b53-ed11-aac1-0afb9334277d  8c9cc2a1-8b53-ed11-aac1-0afb9334277d   \n",
       "\n",
       "                        SurveyResultKey                 ParticipantIdentifier  \\\n",
       "0  3740ca9b-8b53-ed11-aac1-0afb9334277d  39d785c6-9e3d-44c2-88ec-2ce14ef923f9   \n",
       "1  829cc2a1-8b53-ed11-aac1-0afb9334277d  c62ae7a2-6fe6-4fd5-9b9e-93773b08d8b9   \n",
       "\n",
       "   Score  NumberOfGames  NumberOfFailures                  StartDate  \\\n",
       "0    330              6                 1  2022-10-24T07:03:32-04:00   \n",
       "1    385              6                 1  2022-10-24T07:03:42-04:00   \n",
       "\n",
       "                     EndDate  \\\n",
       "0  2022-10-24T07:04:19-04:00   \n",
       "1  2022-10-24T07:04:31-04:00   \n",
       "\n",
       "                                         GameRecords  \\\n",
       "0  [{\"Seed\":1595374595,\"Sequence\":[2,6,8],\"GameSi...   \n",
       "1  [{\"Seed\":0,\"Sequence\":[6,2,1],\"GameSize\":9,\"Ga...   \n",
       "\n",
       "                    datetime  trial_date      time  \n",
       "0  2022-10-24 07:04:19-04:00  2022-10-24  07:04:19  \n",
       "1  2022-10-24 07:04:31-04:00  2022-10-24  07:04:31  "
      ]
     },
     "execution_count": 12,
     "metadata": {},
     "output_type": "execute_result"
    }
   ],
   "source": [
    "df.head(2)"
   ]
  },
  {
   "cell_type": "markdown",
   "metadata": {},
   "source": [
    "---\n",
    "\n",
    "To capture performance we are using:\n",
    "- `Score` \n",
    "\n",
    "**NB** | Might be worth checking out exactly how this is calculated, but for our purposes it seems to be a good proxy of how well you actually do on the task (e.g. you get a better score if you fail on the last attempt (to get 8 in a row) then if you fail on the second attempt and only make it to 6 in a row...)"
   ]
  },
  {
   "cell_type": "code",
   "execution_count": 217,
   "metadata": {},
   "outputs": [
    {
     "data": {
      "text/html": [
       "<div>\n",
       "<style scoped>\n",
       "    .dataframe tbody tr th:only-of-type {\n",
       "        vertical-align: middle;\n",
       "    }\n",
       "\n",
       "    .dataframe tbody tr th {\n",
       "        vertical-align: top;\n",
       "    }\n",
       "\n",
       "    .dataframe thead th {\n",
       "        text-align: right;\n",
       "    }\n",
       "</style>\n",
       "<table border=\"1\" class=\"dataframe\">\n",
       "  <thead>\n",
       "    <tr style=\"text-align: right;\">\n",
       "      <th></th>\n",
       "      <th>ParticipantIdentifier</th>\n",
       "      <th>trial_date</th>\n",
       "      <th>task_spatialSpan_score</th>\n",
       "      <th>task_spatialSpan_time</th>\n",
       "    </tr>\n",
       "  </thead>\n",
       "  <tbody>\n",
       "    <tr>\n",
       "      <th>0</th>\n",
       "      <td>39d785c6-9e3d-44c2-88ec-2ce14ef923f9</td>\n",
       "      <td>2022-10-24</td>\n",
       "      <td>330</td>\n",
       "      <td>07:04:19</td>\n",
       "    </tr>\n",
       "    <tr>\n",
       "      <th>1</th>\n",
       "      <td>c62ae7a2-6fe6-4fd5-9b9e-93773b08d8b9</td>\n",
       "      <td>2022-10-24</td>\n",
       "      <td>385</td>\n",
       "      <td>07:04:31</td>\n",
       "    </tr>\n",
       "  </tbody>\n",
       "</table>\n",
       "</div>"
      ],
      "text/plain": [
       "                  ParticipantIdentifier  trial_date  task_spatialSpan_score  \\\n",
       "0  39d785c6-9e3d-44c2-88ec-2ce14ef923f9  2022-10-24                     330   \n",
       "1  c62ae7a2-6fe6-4fd5-9b9e-93773b08d8b9  2022-10-24                     385   \n",
       "\n",
       "  task_spatialSpan_time  \n",
       "0              07:04:19  \n",
       "1              07:04:31  "
      ]
     },
     "execution_count": 217,
     "metadata": {},
     "output_type": "execute_result"
    }
   ],
   "source": [
    "# assign new column with accuracy value\n",
    "df = df.assign(task_spatialSpan_score=lambda x: x.Score,\n",
    "               task_spatialSpan_time=lambda x: x.time\n",
    "              )\n",
    "\n",
    "# keep relevant columns\n",
    "spatialSpan_df = df[['ParticipantIdentifier', 'trial_date', 'task_spatialSpan_score', 'task_spatialSpan_time']]\n",
    "spatialSpan_df.head(2)"
   ]
  },
  {
   "cell_type": "code",
   "execution_count": 218,
   "metadata": {},
   "outputs": [
    {
     "data": {
      "text/plain": [
       "(4335, 35)"
      ]
     },
     "execution_count": 218,
     "metadata": {},
     "output_type": "execute_result"
    }
   ],
   "source": [
    "custom_tasks_df.shape"
   ]
  },
  {
   "cell_type": "markdown",
   "metadata": {},
   "source": [
    "### Join All Tasks"
   ]
  },
  {
   "cell_type": "code",
   "execution_count": 566,
   "metadata": {
    "tags": []
   },
   "outputs": [],
   "source": [
    "# need trial_date field to be datetime date \n",
    "# first convert to datetime\n",
    "custom_tasks_df.trial_date = pd.to_datetime(custom_tasks_df.trial_date)\n",
    "# then turn into date\n",
    "custom_tasks_df.trial_date = custom_tasks_df.trial_date.dt.date"
   ]
  },
  {
   "cell_type": "code",
   "execution_count": 567,
   "metadata": {},
   "outputs": [],
   "source": [
    "all_tasks = custom_tasks_df.merge(trailmaking_df, how='left', on=['ParticipantIdentifier', 'trial_date'])"
   ]
  },
  {
   "cell_type": "code",
   "execution_count": 568,
   "metadata": {},
   "outputs": [],
   "source": [
    "all_tasks = all_tasks.merge(stroop_df, how='left', on=['ParticipantIdentifier', 'trial_date'])\n",
    "all_tasks = all_tasks.merge(psat_df, how='left', on=['ParticipantIdentifier', 'trial_date'])\n",
    "all_tasks = all_tasks.merge(toh_df, how='left', on=['ParticipantIdentifier', 'trial_date'])\n",
    "all_tasks = all_tasks.merge(spatialSpan_df, how='left', on=['ParticipantIdentifier', 'trial_date'])"
   ]
  },
  {
   "cell_type": "code",
   "execution_count": 569,
   "metadata": {},
   "outputs": [
    {
     "data": {
      "text/plain": [
       "(4469, 49)"
      ]
     },
     "execution_count": 569,
     "metadata": {},
     "output_type": "execute_result"
    }
   ],
   "source": [
    "all_tasks.shape"
   ]
  },
  {
   "cell_type": "code",
   "execution_count": 570,
   "metadata": {},
   "outputs": [
    {
     "data": {
      "text/html": [
       "<div>\n",
       "<style scoped>\n",
       "    .dataframe tbody tr th:only-of-type {\n",
       "        vertical-align: middle;\n",
       "    }\n",
       "\n",
       "    .dataframe tbody tr th {\n",
       "        vertical-align: top;\n",
       "    }\n",
       "\n",
       "    .dataframe thead th {\n",
       "        text-align: right;\n",
       "    }\n",
       "</style>\n",
       "<table border=\"1\" class=\"dataframe\">\n",
       "  <thead>\n",
       "    <tr style=\"text-align: right;\">\n",
       "      <th></th>\n",
       "      <th>ParticipantIdentifier</th>\n",
       "      <th>trial_date</th>\n",
       "      <th>task_motivation_time</th>\n",
       "      <th>task_motivation_level</th>\n",
       "      <th>task_gng_time</th>\n",
       "      <th>task_gng_incorrectNoGo</th>\n",
       "      <th>task_gng_incorrectGo</th>\n",
       "      <th>task_gng_correctGo</th>\n",
       "      <th>task_gng_correctNoGo</th>\n",
       "      <th>task_gng_avgRt</th>\n",
       "      <th>...</th>\n",
       "      <th>task_stroop_totalAvgRT</th>\n",
       "      <th>task_stroop_congruentAvgRT</th>\n",
       "      <th>task_stroop_incongruentAvgRT</th>\n",
       "      <th>task_psat_accuracy</th>\n",
       "      <th>task_psat_avgRT</th>\n",
       "      <th>task_hanoi_solved</th>\n",
       "      <th>task_hanoi_time</th>\n",
       "      <th>task_hanoi_moves</th>\n",
       "      <th>task_spatialSpan_score</th>\n",
       "      <th>task_spatialSpan_time</th>\n",
       "    </tr>\n",
       "  </thead>\n",
       "  <tbody>\n",
       "    <tr>\n",
       "      <th>0</th>\n",
       "      <td>6b827de8-fe47-4007-aad3-202655b954e3</td>\n",
       "      <td>2022-10-24</td>\n",
       "      <td>07:09:39</td>\n",
       "      <td>6</td>\n",
       "      <td>07:20:42</td>\n",
       "      <td>3.0</td>\n",
       "      <td>2.0</td>\n",
       "      <td>38.0</td>\n",
       "      <td>7.0</td>\n",
       "      <td>450.674419</td>\n",
       "      <td>...</td>\n",
       "      <td>0.791628</td>\n",
       "      <td>0.732122</td>\n",
       "      <td>0.840315</td>\n",
       "      <td>0.866667</td>\n",
       "      <td>1.649477</td>\n",
       "      <td>True</td>\n",
       "      <td>58.440441</td>\n",
       "      <td>44.0</td>\n",
       "      <td>380.0</td>\n",
       "      <td>07:17:07</td>\n",
       "    </tr>\n",
       "    <tr>\n",
       "      <th>1</th>\n",
       "      <td>a33e1d38-6ee8-4da6-993b-a94a8ae7fc30</td>\n",
       "      <td>2022-10-24</td>\n",
       "      <td>08:01:46</td>\n",
       "      <td>8</td>\n",
       "      <td>09:02:28</td>\n",
       "      <td>8.0</td>\n",
       "      <td>0.0</td>\n",
       "      <td>40.0</td>\n",
       "      <td>2.0</td>\n",
       "      <td>310.125000</td>\n",
       "      <td>...</td>\n",
       "      <td>0.941749</td>\n",
       "      <td>0.792281</td>\n",
       "      <td>1.064041</td>\n",
       "      <td>0.766667</td>\n",
       "      <td>1.920177</td>\n",
       "      <td>True</td>\n",
       "      <td>26.781238</td>\n",
       "      <td>34.0</td>\n",
       "      <td>195.0</td>\n",
       "      <td>08:54:21</td>\n",
       "    </tr>\n",
       "    <tr>\n",
       "      <th>2</th>\n",
       "      <td>c2097f36-4ca3-4537-856d-a649d1557553</td>\n",
       "      <td>2022-10-24</td>\n",
       "      <td>08:35:13</td>\n",
       "      <td>5</td>\n",
       "      <td>08:50:21</td>\n",
       "      <td>1.0</td>\n",
       "      <td>20.0</td>\n",
       "      <td>20.0</td>\n",
       "      <td>9.0</td>\n",
       "      <td>226.853659</td>\n",
       "      <td>...</td>\n",
       "      <td>1.036671</td>\n",
       "      <td>0.939082</td>\n",
       "      <td>1.264379</td>\n",
       "      <td>0.000000</td>\n",
       "      <td>3.000000</td>\n",
       "      <td>True</td>\n",
       "      <td>40.018429</td>\n",
       "      <td>69.0</td>\n",
       "      <td>255.0</td>\n",
       "      <td>08:46:18</td>\n",
       "    </tr>\n",
       "  </tbody>\n",
       "</table>\n",
       "<p>3 rows × 49 columns</p>\n",
       "</div>"
      ],
      "text/plain": [
       "                  ParticipantIdentifier  trial_date task_motivation_time  \\\n",
       "0  6b827de8-fe47-4007-aad3-202655b954e3  2022-10-24             07:09:39   \n",
       "1  a33e1d38-6ee8-4da6-993b-a94a8ae7fc30  2022-10-24             08:01:46   \n",
       "2  c2097f36-4ca3-4537-856d-a649d1557553  2022-10-24             08:35:13   \n",
       "\n",
       "  task_motivation_level task_gng_time  task_gng_incorrectNoGo  \\\n",
       "0                     6      07:20:42                     3.0   \n",
       "1                     8      09:02:28                     8.0   \n",
       "2                     5      08:50:21                     1.0   \n",
       "\n",
       "   task_gng_incorrectGo  task_gng_correctGo  task_gng_correctNoGo  \\\n",
       "0                   2.0                38.0                   7.0   \n",
       "1                   0.0                40.0                   2.0   \n",
       "2                  20.0                20.0                   9.0   \n",
       "\n",
       "   task_gng_avgRt  ...  task_stroop_totalAvgRT  task_stroop_congruentAvgRT  \\\n",
       "0      450.674419  ...                0.791628                    0.732122   \n",
       "1      310.125000  ...                0.941749                    0.792281   \n",
       "2      226.853659  ...                1.036671                    0.939082   \n",
       "\n",
       "   task_stroop_incongruentAvgRT  task_psat_accuracy  task_psat_avgRT  \\\n",
       "0                      0.840315            0.866667         1.649477   \n",
       "1                      1.064041            0.766667         1.920177   \n",
       "2                      1.264379            0.000000         3.000000   \n",
       "\n",
       "   task_hanoi_solved  task_hanoi_time  task_hanoi_moves  \\\n",
       "0               True        58.440441              44.0   \n",
       "1               True        26.781238              34.0   \n",
       "2               True        40.018429              69.0   \n",
       "\n",
       "   task_spatialSpan_score task_spatialSpan_time  \n",
       "0                   380.0              07:17:07  \n",
       "1                   195.0              08:54:21  \n",
       "2                   255.0              08:46:18  \n",
       "\n",
       "[3 rows x 49 columns]"
      ]
     },
     "execution_count": 570,
     "metadata": {},
     "output_type": "execute_result"
    }
   ],
   "source": [
    "all_tasks.head(3)"
   ]
  },
  {
   "cell_type": "markdown",
   "metadata": {},
   "source": [
    "There is some weird stuff going on with duplicated columns...\n",
    "\n",
    "Here are where the duplicates are:"
   ]
  },
  {
   "cell_type": "code",
   "execution_count": 571,
   "metadata": {},
   "outputs": [
    {
     "data": {
      "text/plain": [
       "(array([ 145,  204,  246,  289,  354,  415,  555,  556,  557,  558,  559,\n",
       "         560,  561,  562,  563,  564,  565,  566,  567,  568,  569,  629,\n",
       "         671,  694,  695,  696,  737,  784,  938,  956, 1047, 1079, 1082,\n",
       "        1109, 1164, 1220, 1321, 1399, 1407, 1408, 1409, 1410, 1411, 1412,\n",
       "        1413, 1414, 1415, 1416, 1417, 1418, 1419, 1420, 1421, 1422, 1423,\n",
       "        1424, 1425, 1426, 1427, 1428, 1429, 1430, 1431, 1432, 1433, 1434,\n",
       "        1435, 1436, 1437, 1523, 1547, 1563, 1582, 1583, 1584, 1815, 1816,\n",
       "        1817, 1818, 1819, 1820, 1821, 2051, 2069, 2082, 2084, 2151, 2323,\n",
       "        2358, 2388, 2433, 2434, 2435, 2436, 2437, 2438, 2439, 2440, 2441,\n",
       "        2442, 2443, 2444, 2445, 2446, 2447, 2487, 2488, 2489, 2490, 2491,\n",
       "        2492, 2493, 2494, 2495, 2496, 2497, 2498, 2499, 2500, 2501, 2502,\n",
       "        2503, 2504, 2505, 2506, 2507, 2508, 2509, 2510, 2511, 2512, 2513,\n",
       "        2514, 2515, 2516, 2517, 2518, 2531, 2533, 2676, 2734, 2791, 2813,\n",
       "        2814, 2815, 2816, 2817, 2818, 2819, 2897, 3010, 3064, 3181, 3242,\n",
       "        3283, 3341, 3357, 3404, 3453, 3711, 3773, 3774, 3775, 3776, 3777,\n",
       "        3778, 3779, 3780, 3781, 3782, 3783, 3784, 3785, 3786, 3787, 3788,\n",
       "        3884, 3910, 3938, 3991, 4245, 4246, 4247, 4248, 4249, 4250, 4251,\n",
       "        4252, 4253, 4268, 4307, 4332, 4358]),)"
      ]
     },
     "execution_count": 571,
     "metadata": {},
     "output_type": "execute_result"
    }
   ],
   "source": [
    "np.where(all_tasks[['ParticipantIdentifier', 'trial_date']].duplicated())"
   ]
  },
  {
   "cell_type": "markdown",
   "metadata": {},
   "source": [
    "And in some cases on certain days certain subjects have a ton of duplicates...\n",
    "\n",
    "Usually seems to be basically two values (e.g. below see `task_spatialSpan_score`, but that they are both repeated multiple times..."
   ]
  },
  {
   "cell_type": "code",
   "execution_count": 572,
   "metadata": {},
   "outputs": [
    {
     "data": {
      "text/html": [
       "<div>\n",
       "<style scoped>\n",
       "    .dataframe tbody tr th:only-of-type {\n",
       "        vertical-align: middle;\n",
       "    }\n",
       "\n",
       "    .dataframe tbody tr th {\n",
       "        vertical-align: top;\n",
       "    }\n",
       "\n",
       "    .dataframe thead th {\n",
       "        text-align: right;\n",
       "    }\n",
       "</style>\n",
       "<table border=\"1\" class=\"dataframe\">\n",
       "  <thead>\n",
       "    <tr style=\"text-align: right;\">\n",
       "      <th></th>\n",
       "      <th>ParticipantIdentifier</th>\n",
       "      <th>trial_date</th>\n",
       "      <th>task_motivation_time</th>\n",
       "      <th>task_motivation_level</th>\n",
       "      <th>task_gng_time</th>\n",
       "      <th>task_gng_incorrectNoGo</th>\n",
       "      <th>task_gng_incorrectGo</th>\n",
       "      <th>task_gng_correctGo</th>\n",
       "      <th>task_gng_correctNoGo</th>\n",
       "      <th>task_gng_avgRt</th>\n",
       "      <th>...</th>\n",
       "      <th>task_stroop_totalAvgRT</th>\n",
       "      <th>task_stroop_congruentAvgRT</th>\n",
       "      <th>task_stroop_incongruentAvgRT</th>\n",
       "      <th>task_psat_accuracy</th>\n",
       "      <th>task_psat_avgRT</th>\n",
       "      <th>task_hanoi_solved</th>\n",
       "      <th>task_hanoi_time</th>\n",
       "      <th>task_hanoi_moves</th>\n",
       "      <th>task_spatialSpan_score</th>\n",
       "      <th>task_spatialSpan_time</th>\n",
       "    </tr>\n",
       "  </thead>\n",
       "  <tbody>\n",
       "    <tr>\n",
       "      <th>2432</th>\n",
       "      <td>147400db-43d9-4155-8bf2-b85b8adf4315</td>\n",
       "      <td>2022-12-02</td>\n",
       "      <td>16:37:18</td>\n",
       "      <td>5</td>\n",
       "      <td>21:56:14</td>\n",
       "      <td>10.0</td>\n",
       "      <td>0.0</td>\n",
       "      <td>40.0</td>\n",
       "      <td>0.0</td>\n",
       "      <td>338.420000</td>\n",
       "      <td>...</td>\n",
       "      <td>2.119861</td>\n",
       "      <td>1.384686</td>\n",
       "      <td>2.785019</td>\n",
       "      <td>0.033333</td>\n",
       "      <td>2.937882</td>\n",
       "      <td>NaN</td>\n",
       "      <td>NaN</td>\n",
       "      <td>NaN</td>\n",
       "      <td>355.0</td>\n",
       "      <td>21:50:58</td>\n",
       "    </tr>\n",
       "    <tr>\n",
       "      <th>2433</th>\n",
       "      <td>147400db-43d9-4155-8bf2-b85b8adf4315</td>\n",
       "      <td>2022-12-02</td>\n",
       "      <td>16:37:18</td>\n",
       "      <td>5</td>\n",
       "      <td>21:56:14</td>\n",
       "      <td>10.0</td>\n",
       "      <td>0.0</td>\n",
       "      <td>40.0</td>\n",
       "      <td>0.0</td>\n",
       "      <td>338.420000</td>\n",
       "      <td>...</td>\n",
       "      <td>2.119861</td>\n",
       "      <td>1.384686</td>\n",
       "      <td>2.785019</td>\n",
       "      <td>0.033333</td>\n",
       "      <td>2.937882</td>\n",
       "      <td>NaN</td>\n",
       "      <td>NaN</td>\n",
       "      <td>NaN</td>\n",
       "      <td>115.0</td>\n",
       "      <td>22:15:46</td>\n",
       "    </tr>\n",
       "    <tr>\n",
       "      <th>2434</th>\n",
       "      <td>147400db-43d9-4155-8bf2-b85b8adf4315</td>\n",
       "      <td>2022-12-02</td>\n",
       "      <td>16:37:18</td>\n",
       "      <td>5</td>\n",
       "      <td>21:56:14</td>\n",
       "      <td>10.0</td>\n",
       "      <td>0.0</td>\n",
       "      <td>40.0</td>\n",
       "      <td>0.0</td>\n",
       "      <td>338.420000</td>\n",
       "      <td>...</td>\n",
       "      <td>2.119861</td>\n",
       "      <td>1.384686</td>\n",
       "      <td>2.785019</td>\n",
       "      <td>0.000000</td>\n",
       "      <td>2.989130</td>\n",
       "      <td>NaN</td>\n",
       "      <td>NaN</td>\n",
       "      <td>NaN</td>\n",
       "      <td>355.0</td>\n",
       "      <td>21:50:58</td>\n",
       "    </tr>\n",
       "    <tr>\n",
       "      <th>2435</th>\n",
       "      <td>147400db-43d9-4155-8bf2-b85b8adf4315</td>\n",
       "      <td>2022-12-02</td>\n",
       "      <td>16:37:18</td>\n",
       "      <td>5</td>\n",
       "      <td>21:56:14</td>\n",
       "      <td>10.0</td>\n",
       "      <td>0.0</td>\n",
       "      <td>40.0</td>\n",
       "      <td>0.0</td>\n",
       "      <td>338.420000</td>\n",
       "      <td>...</td>\n",
       "      <td>2.119861</td>\n",
       "      <td>1.384686</td>\n",
       "      <td>2.785019</td>\n",
       "      <td>0.000000</td>\n",
       "      <td>2.989130</td>\n",
       "      <td>NaN</td>\n",
       "      <td>NaN</td>\n",
       "      <td>NaN</td>\n",
       "      <td>115.0</td>\n",
       "      <td>22:15:46</td>\n",
       "    </tr>\n",
       "    <tr>\n",
       "      <th>2436</th>\n",
       "      <td>147400db-43d9-4155-8bf2-b85b8adf4315</td>\n",
       "      <td>2022-12-02</td>\n",
       "      <td>16:37:18</td>\n",
       "      <td>5</td>\n",
       "      <td>21:56:14</td>\n",
       "      <td>10.0</td>\n",
       "      <td>0.0</td>\n",
       "      <td>40.0</td>\n",
       "      <td>0.0</td>\n",
       "      <td>338.420000</td>\n",
       "      <td>...</td>\n",
       "      <td>2.119861</td>\n",
       "      <td>1.384686</td>\n",
       "      <td>2.785019</td>\n",
       "      <td>0.033333</td>\n",
       "      <td>2.937882</td>\n",
       "      <td>NaN</td>\n",
       "      <td>NaN</td>\n",
       "      <td>NaN</td>\n",
       "      <td>355.0</td>\n",
       "      <td>21:50:58</td>\n",
       "    </tr>\n",
       "    <tr>\n",
       "      <th>2437</th>\n",
       "      <td>147400db-43d9-4155-8bf2-b85b8adf4315</td>\n",
       "      <td>2022-12-02</td>\n",
       "      <td>16:37:18</td>\n",
       "      <td>5</td>\n",
       "      <td>21:56:14</td>\n",
       "      <td>10.0</td>\n",
       "      <td>0.0</td>\n",
       "      <td>40.0</td>\n",
       "      <td>0.0</td>\n",
       "      <td>338.420000</td>\n",
       "      <td>...</td>\n",
       "      <td>2.119861</td>\n",
       "      <td>1.384686</td>\n",
       "      <td>2.785019</td>\n",
       "      <td>0.033333</td>\n",
       "      <td>2.937882</td>\n",
       "      <td>NaN</td>\n",
       "      <td>NaN</td>\n",
       "      <td>NaN</td>\n",
       "      <td>115.0</td>\n",
       "      <td>22:15:46</td>\n",
       "    </tr>\n",
       "    <tr>\n",
       "      <th>2438</th>\n",
       "      <td>147400db-43d9-4155-8bf2-b85b8adf4315</td>\n",
       "      <td>2022-12-02</td>\n",
       "      <td>16:37:18</td>\n",
       "      <td>5</td>\n",
       "      <td>21:56:14</td>\n",
       "      <td>10.0</td>\n",
       "      <td>0.0</td>\n",
       "      <td>40.0</td>\n",
       "      <td>0.0</td>\n",
       "      <td>338.420000</td>\n",
       "      <td>...</td>\n",
       "      <td>2.119861</td>\n",
       "      <td>1.384686</td>\n",
       "      <td>2.785019</td>\n",
       "      <td>0.000000</td>\n",
       "      <td>2.989130</td>\n",
       "      <td>NaN</td>\n",
       "      <td>NaN</td>\n",
       "      <td>NaN</td>\n",
       "      <td>355.0</td>\n",
       "      <td>21:50:58</td>\n",
       "    </tr>\n",
       "    <tr>\n",
       "      <th>2439</th>\n",
       "      <td>147400db-43d9-4155-8bf2-b85b8adf4315</td>\n",
       "      <td>2022-12-02</td>\n",
       "      <td>16:37:18</td>\n",
       "      <td>5</td>\n",
       "      <td>21:56:14</td>\n",
       "      <td>10.0</td>\n",
       "      <td>0.0</td>\n",
       "      <td>40.0</td>\n",
       "      <td>0.0</td>\n",
       "      <td>338.420000</td>\n",
       "      <td>...</td>\n",
       "      <td>2.119861</td>\n",
       "      <td>1.384686</td>\n",
       "      <td>2.785019</td>\n",
       "      <td>0.000000</td>\n",
       "      <td>2.989130</td>\n",
       "      <td>NaN</td>\n",
       "      <td>NaN</td>\n",
       "      <td>NaN</td>\n",
       "      <td>115.0</td>\n",
       "      <td>22:15:46</td>\n",
       "    </tr>\n",
       "    <tr>\n",
       "      <th>2440</th>\n",
       "      <td>147400db-43d9-4155-8bf2-b85b8adf4315</td>\n",
       "      <td>2022-12-02</td>\n",
       "      <td>16:37:18</td>\n",
       "      <td>5</td>\n",
       "      <td>22:22:22</td>\n",
       "      <td>8.0</td>\n",
       "      <td>14.0</td>\n",
       "      <td>26.0</td>\n",
       "      <td>2.0</td>\n",
       "      <td>179.854167</td>\n",
       "      <td>...</td>\n",
       "      <td>2.119861</td>\n",
       "      <td>1.384686</td>\n",
       "      <td>2.785019</td>\n",
       "      <td>0.033333</td>\n",
       "      <td>2.937882</td>\n",
       "      <td>NaN</td>\n",
       "      <td>NaN</td>\n",
       "      <td>NaN</td>\n",
       "      <td>355.0</td>\n",
       "      <td>21:50:58</td>\n",
       "    </tr>\n",
       "    <tr>\n",
       "      <th>2441</th>\n",
       "      <td>147400db-43d9-4155-8bf2-b85b8adf4315</td>\n",
       "      <td>2022-12-02</td>\n",
       "      <td>16:37:18</td>\n",
       "      <td>5</td>\n",
       "      <td>22:22:22</td>\n",
       "      <td>8.0</td>\n",
       "      <td>14.0</td>\n",
       "      <td>26.0</td>\n",
       "      <td>2.0</td>\n",
       "      <td>179.854167</td>\n",
       "      <td>...</td>\n",
       "      <td>2.119861</td>\n",
       "      <td>1.384686</td>\n",
       "      <td>2.785019</td>\n",
       "      <td>0.033333</td>\n",
       "      <td>2.937882</td>\n",
       "      <td>NaN</td>\n",
       "      <td>NaN</td>\n",
       "      <td>NaN</td>\n",
       "      <td>115.0</td>\n",
       "      <td>22:15:46</td>\n",
       "    </tr>\n",
       "    <tr>\n",
       "      <th>2442</th>\n",
       "      <td>147400db-43d9-4155-8bf2-b85b8adf4315</td>\n",
       "      <td>2022-12-02</td>\n",
       "      <td>16:37:18</td>\n",
       "      <td>5</td>\n",
       "      <td>22:22:22</td>\n",
       "      <td>8.0</td>\n",
       "      <td>14.0</td>\n",
       "      <td>26.0</td>\n",
       "      <td>2.0</td>\n",
       "      <td>179.854167</td>\n",
       "      <td>...</td>\n",
       "      <td>2.119861</td>\n",
       "      <td>1.384686</td>\n",
       "      <td>2.785019</td>\n",
       "      <td>0.000000</td>\n",
       "      <td>2.989130</td>\n",
       "      <td>NaN</td>\n",
       "      <td>NaN</td>\n",
       "      <td>NaN</td>\n",
       "      <td>355.0</td>\n",
       "      <td>21:50:58</td>\n",
       "    </tr>\n",
       "    <tr>\n",
       "      <th>2443</th>\n",
       "      <td>147400db-43d9-4155-8bf2-b85b8adf4315</td>\n",
       "      <td>2022-12-02</td>\n",
       "      <td>16:37:18</td>\n",
       "      <td>5</td>\n",
       "      <td>22:22:22</td>\n",
       "      <td>8.0</td>\n",
       "      <td>14.0</td>\n",
       "      <td>26.0</td>\n",
       "      <td>2.0</td>\n",
       "      <td>179.854167</td>\n",
       "      <td>...</td>\n",
       "      <td>2.119861</td>\n",
       "      <td>1.384686</td>\n",
       "      <td>2.785019</td>\n",
       "      <td>0.000000</td>\n",
       "      <td>2.989130</td>\n",
       "      <td>NaN</td>\n",
       "      <td>NaN</td>\n",
       "      <td>NaN</td>\n",
       "      <td>115.0</td>\n",
       "      <td>22:15:46</td>\n",
       "    </tr>\n",
       "    <tr>\n",
       "      <th>2444</th>\n",
       "      <td>147400db-43d9-4155-8bf2-b85b8adf4315</td>\n",
       "      <td>2022-12-02</td>\n",
       "      <td>16:37:18</td>\n",
       "      <td>5</td>\n",
       "      <td>22:22:22</td>\n",
       "      <td>8.0</td>\n",
       "      <td>14.0</td>\n",
       "      <td>26.0</td>\n",
       "      <td>2.0</td>\n",
       "      <td>179.854167</td>\n",
       "      <td>...</td>\n",
       "      <td>2.119861</td>\n",
       "      <td>1.384686</td>\n",
       "      <td>2.785019</td>\n",
       "      <td>0.033333</td>\n",
       "      <td>2.937882</td>\n",
       "      <td>NaN</td>\n",
       "      <td>NaN</td>\n",
       "      <td>NaN</td>\n",
       "      <td>355.0</td>\n",
       "      <td>21:50:58</td>\n",
       "    </tr>\n",
       "    <tr>\n",
       "      <th>2445</th>\n",
       "      <td>147400db-43d9-4155-8bf2-b85b8adf4315</td>\n",
       "      <td>2022-12-02</td>\n",
       "      <td>16:37:18</td>\n",
       "      <td>5</td>\n",
       "      <td>22:22:22</td>\n",
       "      <td>8.0</td>\n",
       "      <td>14.0</td>\n",
       "      <td>26.0</td>\n",
       "      <td>2.0</td>\n",
       "      <td>179.854167</td>\n",
       "      <td>...</td>\n",
       "      <td>2.119861</td>\n",
       "      <td>1.384686</td>\n",
       "      <td>2.785019</td>\n",
       "      <td>0.033333</td>\n",
       "      <td>2.937882</td>\n",
       "      <td>NaN</td>\n",
       "      <td>NaN</td>\n",
       "      <td>NaN</td>\n",
       "      <td>115.0</td>\n",
       "      <td>22:15:46</td>\n",
       "    </tr>\n",
       "    <tr>\n",
       "      <th>2446</th>\n",
       "      <td>147400db-43d9-4155-8bf2-b85b8adf4315</td>\n",
       "      <td>2022-12-02</td>\n",
       "      <td>16:37:18</td>\n",
       "      <td>5</td>\n",
       "      <td>22:22:22</td>\n",
       "      <td>8.0</td>\n",
       "      <td>14.0</td>\n",
       "      <td>26.0</td>\n",
       "      <td>2.0</td>\n",
       "      <td>179.854167</td>\n",
       "      <td>...</td>\n",
       "      <td>2.119861</td>\n",
       "      <td>1.384686</td>\n",
       "      <td>2.785019</td>\n",
       "      <td>0.000000</td>\n",
       "      <td>2.989130</td>\n",
       "      <td>NaN</td>\n",
       "      <td>NaN</td>\n",
       "      <td>NaN</td>\n",
       "      <td>355.0</td>\n",
       "      <td>21:50:58</td>\n",
       "    </tr>\n",
       "    <tr>\n",
       "      <th>2447</th>\n",
       "      <td>147400db-43d9-4155-8bf2-b85b8adf4315</td>\n",
       "      <td>2022-12-02</td>\n",
       "      <td>16:37:18</td>\n",
       "      <td>5</td>\n",
       "      <td>22:22:22</td>\n",
       "      <td>8.0</td>\n",
       "      <td>14.0</td>\n",
       "      <td>26.0</td>\n",
       "      <td>2.0</td>\n",
       "      <td>179.854167</td>\n",
       "      <td>...</td>\n",
       "      <td>2.119861</td>\n",
       "      <td>1.384686</td>\n",
       "      <td>2.785019</td>\n",
       "      <td>0.000000</td>\n",
       "      <td>2.989130</td>\n",
       "      <td>NaN</td>\n",
       "      <td>NaN</td>\n",
       "      <td>NaN</td>\n",
       "      <td>115.0</td>\n",
       "      <td>22:15:46</td>\n",
       "    </tr>\n",
       "    <tr>\n",
       "      <th>2448</th>\n",
       "      <td>2baee05a-5e5a-4436-8c25-2628d46d1e08</td>\n",
       "      <td>2022-11-17</td>\n",
       "      <td>06:59:29</td>\n",
       "      <td>6</td>\n",
       "      <td>07:32:03</td>\n",
       "      <td>6.0</td>\n",
       "      <td>1.0</td>\n",
       "      <td>39.0</td>\n",
       "      <td>4.0</td>\n",
       "      <td>330.695652</td>\n",
       "      <td>...</td>\n",
       "      <td>0.593341</td>\n",
       "      <td>0.609966</td>\n",
       "      <td>0.568404</td>\n",
       "      <td>0.300000</td>\n",
       "      <td>2.204294</td>\n",
       "      <td>NaN</td>\n",
       "      <td>NaN</td>\n",
       "      <td>NaN</td>\n",
       "      <td>410.0</td>\n",
       "      <td>07:05:55</td>\n",
       "    </tr>\n",
       "    <tr>\n",
       "      <th>2449</th>\n",
       "      <td>bf670311-c590-473a-98ab-d719ebf0f2ab</td>\n",
       "      <td>2022-11-17</td>\n",
       "      <td>07:19:19</td>\n",
       "      <td>5</td>\n",
       "      <td>07:30:12</td>\n",
       "      <td>5.0</td>\n",
       "      <td>1.0</td>\n",
       "      <td>39.0</td>\n",
       "      <td>5.0</td>\n",
       "      <td>386.555556</td>\n",
       "      <td>...</td>\n",
       "      <td>0.824401</td>\n",
       "      <td>0.785613</td>\n",
       "      <td>0.845287</td>\n",
       "      <td>0.333333</td>\n",
       "      <td>2.377953</td>\n",
       "      <td>True</td>\n",
       "      <td>32.264943</td>\n",
       "      <td>41.0</td>\n",
       "      <td>330.0</td>\n",
       "      <td>07:26:36</td>\n",
       "    </tr>\n",
       "  </tbody>\n",
       "</table>\n",
       "<p>18 rows × 49 columns</p>\n",
       "</div>"
      ],
      "text/plain": [
       "                     ParticipantIdentifier  trial_date task_motivation_time  \\\n",
       "2432  147400db-43d9-4155-8bf2-b85b8adf4315  2022-12-02             16:37:18   \n",
       "2433  147400db-43d9-4155-8bf2-b85b8adf4315  2022-12-02             16:37:18   \n",
       "2434  147400db-43d9-4155-8bf2-b85b8adf4315  2022-12-02             16:37:18   \n",
       "2435  147400db-43d9-4155-8bf2-b85b8adf4315  2022-12-02             16:37:18   \n",
       "2436  147400db-43d9-4155-8bf2-b85b8adf4315  2022-12-02             16:37:18   \n",
       "2437  147400db-43d9-4155-8bf2-b85b8adf4315  2022-12-02             16:37:18   \n",
       "2438  147400db-43d9-4155-8bf2-b85b8adf4315  2022-12-02             16:37:18   \n",
       "2439  147400db-43d9-4155-8bf2-b85b8adf4315  2022-12-02             16:37:18   \n",
       "2440  147400db-43d9-4155-8bf2-b85b8adf4315  2022-12-02             16:37:18   \n",
       "2441  147400db-43d9-4155-8bf2-b85b8adf4315  2022-12-02             16:37:18   \n",
       "2442  147400db-43d9-4155-8bf2-b85b8adf4315  2022-12-02             16:37:18   \n",
       "2443  147400db-43d9-4155-8bf2-b85b8adf4315  2022-12-02             16:37:18   \n",
       "2444  147400db-43d9-4155-8bf2-b85b8adf4315  2022-12-02             16:37:18   \n",
       "2445  147400db-43d9-4155-8bf2-b85b8adf4315  2022-12-02             16:37:18   \n",
       "2446  147400db-43d9-4155-8bf2-b85b8adf4315  2022-12-02             16:37:18   \n",
       "2447  147400db-43d9-4155-8bf2-b85b8adf4315  2022-12-02             16:37:18   \n",
       "2448  2baee05a-5e5a-4436-8c25-2628d46d1e08  2022-11-17             06:59:29   \n",
       "2449  bf670311-c590-473a-98ab-d719ebf0f2ab  2022-11-17             07:19:19   \n",
       "\n",
       "     task_motivation_level task_gng_time  task_gng_incorrectNoGo  \\\n",
       "2432                     5      21:56:14                    10.0   \n",
       "2433                     5      21:56:14                    10.0   \n",
       "2434                     5      21:56:14                    10.0   \n",
       "2435                     5      21:56:14                    10.0   \n",
       "2436                     5      21:56:14                    10.0   \n",
       "2437                     5      21:56:14                    10.0   \n",
       "2438                     5      21:56:14                    10.0   \n",
       "2439                     5      21:56:14                    10.0   \n",
       "2440                     5      22:22:22                     8.0   \n",
       "2441                     5      22:22:22                     8.0   \n",
       "2442                     5      22:22:22                     8.0   \n",
       "2443                     5      22:22:22                     8.0   \n",
       "2444                     5      22:22:22                     8.0   \n",
       "2445                     5      22:22:22                     8.0   \n",
       "2446                     5      22:22:22                     8.0   \n",
       "2447                     5      22:22:22                     8.0   \n",
       "2448                     6      07:32:03                     6.0   \n",
       "2449                     5      07:30:12                     5.0   \n",
       "\n",
       "      task_gng_incorrectGo  task_gng_correctGo  task_gng_correctNoGo  \\\n",
       "2432                   0.0                40.0                   0.0   \n",
       "2433                   0.0                40.0                   0.0   \n",
       "2434                   0.0                40.0                   0.0   \n",
       "2435                   0.0                40.0                   0.0   \n",
       "2436                   0.0                40.0                   0.0   \n",
       "2437                   0.0                40.0                   0.0   \n",
       "2438                   0.0                40.0                   0.0   \n",
       "2439                   0.0                40.0                   0.0   \n",
       "2440                  14.0                26.0                   2.0   \n",
       "2441                  14.0                26.0                   2.0   \n",
       "2442                  14.0                26.0                   2.0   \n",
       "2443                  14.0                26.0                   2.0   \n",
       "2444                  14.0                26.0                   2.0   \n",
       "2445                  14.0                26.0                   2.0   \n",
       "2446                  14.0                26.0                   2.0   \n",
       "2447                  14.0                26.0                   2.0   \n",
       "2448                   1.0                39.0                   4.0   \n",
       "2449                   1.0                39.0                   5.0   \n",
       "\n",
       "      task_gng_avgRt  ...  task_stroop_totalAvgRT  task_stroop_congruentAvgRT  \\\n",
       "2432      338.420000  ...                2.119861                    1.384686   \n",
       "2433      338.420000  ...                2.119861                    1.384686   \n",
       "2434      338.420000  ...                2.119861                    1.384686   \n",
       "2435      338.420000  ...                2.119861                    1.384686   \n",
       "2436      338.420000  ...                2.119861                    1.384686   \n",
       "2437      338.420000  ...                2.119861                    1.384686   \n",
       "2438      338.420000  ...                2.119861                    1.384686   \n",
       "2439      338.420000  ...                2.119861                    1.384686   \n",
       "2440      179.854167  ...                2.119861                    1.384686   \n",
       "2441      179.854167  ...                2.119861                    1.384686   \n",
       "2442      179.854167  ...                2.119861                    1.384686   \n",
       "2443      179.854167  ...                2.119861                    1.384686   \n",
       "2444      179.854167  ...                2.119861                    1.384686   \n",
       "2445      179.854167  ...                2.119861                    1.384686   \n",
       "2446      179.854167  ...                2.119861                    1.384686   \n",
       "2447      179.854167  ...                2.119861                    1.384686   \n",
       "2448      330.695652  ...                0.593341                    0.609966   \n",
       "2449      386.555556  ...                0.824401                    0.785613   \n",
       "\n",
       "      task_stroop_incongruentAvgRT  task_psat_accuracy  task_psat_avgRT  \\\n",
       "2432                      2.785019            0.033333         2.937882   \n",
       "2433                      2.785019            0.033333         2.937882   \n",
       "2434                      2.785019            0.000000         2.989130   \n",
       "2435                      2.785019            0.000000         2.989130   \n",
       "2436                      2.785019            0.033333         2.937882   \n",
       "2437                      2.785019            0.033333         2.937882   \n",
       "2438                      2.785019            0.000000         2.989130   \n",
       "2439                      2.785019            0.000000         2.989130   \n",
       "2440                      2.785019            0.033333         2.937882   \n",
       "2441                      2.785019            0.033333         2.937882   \n",
       "2442                      2.785019            0.000000         2.989130   \n",
       "2443                      2.785019            0.000000         2.989130   \n",
       "2444                      2.785019            0.033333         2.937882   \n",
       "2445                      2.785019            0.033333         2.937882   \n",
       "2446                      2.785019            0.000000         2.989130   \n",
       "2447                      2.785019            0.000000         2.989130   \n",
       "2448                      0.568404            0.300000         2.204294   \n",
       "2449                      0.845287            0.333333         2.377953   \n",
       "\n",
       "      task_hanoi_solved  task_hanoi_time  task_hanoi_moves  \\\n",
       "2432                NaN              NaN               NaN   \n",
       "2433                NaN              NaN               NaN   \n",
       "2434                NaN              NaN               NaN   \n",
       "2435                NaN              NaN               NaN   \n",
       "2436                NaN              NaN               NaN   \n",
       "2437                NaN              NaN               NaN   \n",
       "2438                NaN              NaN               NaN   \n",
       "2439                NaN              NaN               NaN   \n",
       "2440                NaN              NaN               NaN   \n",
       "2441                NaN              NaN               NaN   \n",
       "2442                NaN              NaN               NaN   \n",
       "2443                NaN              NaN               NaN   \n",
       "2444                NaN              NaN               NaN   \n",
       "2445                NaN              NaN               NaN   \n",
       "2446                NaN              NaN               NaN   \n",
       "2447                NaN              NaN               NaN   \n",
       "2448                NaN              NaN               NaN   \n",
       "2449               True        32.264943              41.0   \n",
       "\n",
       "      task_spatialSpan_score task_spatialSpan_time  \n",
       "2432                   355.0              21:50:58  \n",
       "2433                   115.0              22:15:46  \n",
       "2434                   355.0              21:50:58  \n",
       "2435                   115.0              22:15:46  \n",
       "2436                   355.0              21:50:58  \n",
       "2437                   115.0              22:15:46  \n",
       "2438                   355.0              21:50:58  \n",
       "2439                   115.0              22:15:46  \n",
       "2440                   355.0              21:50:58  \n",
       "2441                   115.0              22:15:46  \n",
       "2442                   355.0              21:50:58  \n",
       "2443                   115.0              22:15:46  \n",
       "2444                   355.0              21:50:58  \n",
       "2445                   115.0              22:15:46  \n",
       "2446                   355.0              21:50:58  \n",
       "2447                   115.0              22:15:46  \n",
       "2448                   410.0              07:05:55  \n",
       "2449                   330.0              07:26:36  \n",
       "\n",
       "[18 rows x 49 columns]"
      ]
     },
     "execution_count": 572,
     "metadata": {},
     "output_type": "execute_result"
    }
   ],
   "source": [
    "all_tasks.iloc[2432:2450]"
   ]
  },
  {
   "cell_type": "markdown",
   "metadata": {},
   "source": [
    "For now we are just removing duplicates based on `ParticipantIdentifier` and `trial_date`"
   ]
  },
  {
   "cell_type": "code",
   "execution_count": 573,
   "metadata": {},
   "outputs": [],
   "source": [
    "all_tasks = all_tasks.drop_duplicates(subset=['ParticipantIdentifier', 'trial_date'], keep='first')"
   ]
  },
  {
   "cell_type": "code",
   "execution_count": 574,
   "metadata": {},
   "outputs": [],
   "source": [
    "# save to csv\n",
    "all_tasks.to_csv(save_path + 'run1_tasks.csv', index=False)"
   ]
  },
  {
   "cell_type": "markdown",
   "metadata": {},
   "source": [
    "# Passive"
   ]
  },
  {
   "cell_type": "markdown",
   "metadata": {},
   "source": [
    "## Health Kit"
   ]
  },
  {
   "cell_type": "code",
   "execution_count": 14,
   "metadata": {},
   "outputs": [
    {
     "name": "stdout",
     "output_type": "stream",
     "text": [
      "deleted existing df\n"
     ]
    }
   ],
   "source": [
    "# erase df if it already exists\n",
    "if 'df' in globals():\n",
    "    del(df)\n",
    "    print('deleted existing df')"
   ]
  },
  {
   "cell_type": "code",
   "execution_count": 15,
   "metadata": {
    "tags": []
   },
   "outputs": [
    {
     "name": "stderr",
     "output_type": "stream",
     "text": [
      "  0%|          | 0/87 [00:00<?, ?it/s]/Users/djw/opt/miniconda3/envs/thesis_env/lib/python3.8/site-packages/IPython/core/interactiveshell.py:3071: DtypeWarning: Columns (17) have mixed types.Specify dtype option on import or set low_memory=False.\n",
      "  has_raised = await self.run_ast_nodes(code_ast.body, cell_name,\n",
      " 33%|███▎      | 29/87 [00:38<02:13,  2.31s/it]/Users/djw/opt/miniconda3/envs/thesis_env/lib/python3.8/site-packages/IPython/core/interactiveshell.py:3071: DtypeWarning: Columns (5,17) have mixed types.Specify dtype option on import or set low_memory=False.\n",
      "  has_raised = await self.run_ast_nodes(code_ast.body, cell_name,\n",
      "100%|██████████| 87/87 [05:06<00:00,  3.52s/it]\n"
     ]
    }
   ],
   "source": [
    "# loop through all days\n",
    "days = [i for i in os.listdir(path) if i.startswith('RK')]\n",
    "for day in tqdm(days):\n",
    "    files = os.listdir(path + day)\n",
    "    surveyQuestions = [i for i in files if i.startswith('HealthKitSamples')]\n",
    "    # there should be only one\n",
    "    for file in surveyQuestions:\n",
    "        if 'df' not in globals():\n",
    "            df = pd.read_csv(path + day + '/' + file)\n",
    "        else:\n",
    "            temp_df = pd.read_csv(path + day + '/' + file)\n",
    "            df = pd.concat([df,temp_df], axis=0)"
   ]
  },
  {
   "cell_type": "code",
   "execution_count": 16,
   "metadata": {},
   "outputs": [
    {
     "data": {
      "text/html": [
       "<div>\n",
       "<style scoped>\n",
       "    .dataframe tbody tr th:only-of-type {\n",
       "        vertical-align: middle;\n",
       "    }\n",
       "\n",
       "    .dataframe tbody tr th {\n",
       "        vertical-align: top;\n",
       "    }\n",
       "\n",
       "    .dataframe thead th {\n",
       "        text-align: right;\n",
       "    }\n",
       "</style>\n",
       "<table border=\"1\" class=\"dataframe\">\n",
       "  <thead>\n",
       "    <tr style=\"text-align: right;\">\n",
       "      <th></th>\n",
       "      <th>HealthKitSampleKey</th>\n",
       "      <th>ParticipantIdentifier</th>\n",
       "      <th>StartDate</th>\n",
       "      <th>Date</th>\n",
       "      <th>Type</th>\n",
       "      <th>Value</th>\n",
       "      <th>Units</th>\n",
       "      <th>SourceIdentifier</th>\n",
       "      <th>SourceName</th>\n",
       "      <th>SourceVersion</th>\n",
       "      <th>DeviceName</th>\n",
       "      <th>DeviceModel</th>\n",
       "      <th>DeviceManufacturer</th>\n",
       "      <th>DeviceHardwareVersion</th>\n",
       "      <th>DeviceSoftwareVersion</th>\n",
       "      <th>DeviceFirmwareVersion</th>\n",
       "      <th>DeviceFDAIdentifier</th>\n",
       "      <th>DeviceLocalIdentifier</th>\n",
       "      <th>Metadata</th>\n",
       "      <th>InsertedDate</th>\n",
       "    </tr>\n",
       "  </thead>\n",
       "  <tbody>\n",
       "    <tr>\n",
       "      <th>0</th>\n",
       "      <td>0c41e753-8b53-ed11-aac1-0afb9334277d</td>\n",
       "      <td>6e86c427-c679-4acd-aeb4-19ada9022b66</td>\n",
       "      <td>2022-10-24T06:12:01-04:00</td>\n",
       "      <td>2022-10-24T06:12:01-04:00</td>\n",
       "      <td>HeartRate</td>\n",
       "      <td>71</td>\n",
       "      <td>count/min</td>\n",
       "      <td>com.apple.health.B7883FAE-4E44-4B37-B142-2D969...</td>\n",
       "      <td>Tamera’s Apple Watch</td>\n",
       "      <td>9.0.2</td>\n",
       "      <td>Apple Watch</td>\n",
       "      <td>Watch</td>\n",
       "      <td>Apple Inc.</td>\n",
       "      <td>Watch5,9</td>\n",
       "      <td>9.0.2</td>\n",
       "      <td>NaN</td>\n",
       "      <td>NaN</td>\n",
       "      <td>NaN</td>\n",
       "      <td>{\"HKMetadataKeyHeartRateMotionContext\":\"0\"}</td>\n",
       "      <td>2022-10-24T11:02:29Z</td>\n",
       "    </tr>\n",
       "    <tr>\n",
       "      <th>1</th>\n",
       "      <td>0b41e753-8b53-ed11-aac1-0afb9334277d</td>\n",
       "      <td>6e86c427-c679-4acd-aeb4-19ada9022b66</td>\n",
       "      <td>2022-10-24T06:08:16-04:00</td>\n",
       "      <td>2022-10-24T06:08:16-04:00</td>\n",
       "      <td>HeartRate</td>\n",
       "      <td>71</td>\n",
       "      <td>count/min</td>\n",
       "      <td>com.apple.health.B7883FAE-4E44-4B37-B142-2D969...</td>\n",
       "      <td>Tamera’s Apple Watch</td>\n",
       "      <td>9.0.2</td>\n",
       "      <td>Apple Watch</td>\n",
       "      <td>Watch</td>\n",
       "      <td>Apple Inc.</td>\n",
       "      <td>Watch5,9</td>\n",
       "      <td>9.0.2</td>\n",
       "      <td>NaN</td>\n",
       "      <td>NaN</td>\n",
       "      <td>NaN</td>\n",
       "      <td>{\"HKMetadataKeyHeartRateMotionContext\":\"0\"}</td>\n",
       "      <td>2022-10-24T11:02:29Z</td>\n",
       "    </tr>\n",
       "    <tr>\n",
       "      <th>2</th>\n",
       "      <td>0a41e753-8b53-ed11-aac1-0afb9334277d</td>\n",
       "      <td>6e86c427-c679-4acd-aeb4-19ada9022b66</td>\n",
       "      <td>2022-10-24T06:04:35-04:00</td>\n",
       "      <td>2022-10-24T06:04:35-04:00</td>\n",
       "      <td>HeartRate</td>\n",
       "      <td>72</td>\n",
       "      <td>count/min</td>\n",
       "      <td>com.apple.health.B7883FAE-4E44-4B37-B142-2D969...</td>\n",
       "      <td>Tamera’s Apple Watch</td>\n",
       "      <td>9.0.2</td>\n",
       "      <td>Apple Watch</td>\n",
       "      <td>Watch</td>\n",
       "      <td>Apple Inc.</td>\n",
       "      <td>Watch5,9</td>\n",
       "      <td>9.0.2</td>\n",
       "      <td>NaN</td>\n",
       "      <td>NaN</td>\n",
       "      <td>NaN</td>\n",
       "      <td>{\"HKMetadataKeyHeartRateMotionContext\":\"0\"}</td>\n",
       "      <td>2022-10-24T11:02:29Z</td>\n",
       "    </tr>\n",
       "  </tbody>\n",
       "</table>\n",
       "</div>"
      ],
      "text/plain": [
       "                     HealthKitSampleKey                 ParticipantIdentifier  \\\n",
       "0  0c41e753-8b53-ed11-aac1-0afb9334277d  6e86c427-c679-4acd-aeb4-19ada9022b66   \n",
       "1  0b41e753-8b53-ed11-aac1-0afb9334277d  6e86c427-c679-4acd-aeb4-19ada9022b66   \n",
       "2  0a41e753-8b53-ed11-aac1-0afb9334277d  6e86c427-c679-4acd-aeb4-19ada9022b66   \n",
       "\n",
       "                   StartDate                       Date       Type Value  \\\n",
       "0  2022-10-24T06:12:01-04:00  2022-10-24T06:12:01-04:00  HeartRate    71   \n",
       "1  2022-10-24T06:08:16-04:00  2022-10-24T06:08:16-04:00  HeartRate    71   \n",
       "2  2022-10-24T06:04:35-04:00  2022-10-24T06:04:35-04:00  HeartRate    72   \n",
       "\n",
       "       Units                                   SourceIdentifier  \\\n",
       "0  count/min  com.apple.health.B7883FAE-4E44-4B37-B142-2D969...   \n",
       "1  count/min  com.apple.health.B7883FAE-4E44-4B37-B142-2D969...   \n",
       "2  count/min  com.apple.health.B7883FAE-4E44-4B37-B142-2D969...   \n",
       "\n",
       "             SourceName SourceVersion   DeviceName DeviceModel  \\\n",
       "0  Tamera’s Apple Watch         9.0.2  Apple Watch       Watch   \n",
       "1  Tamera’s Apple Watch         9.0.2  Apple Watch       Watch   \n",
       "2  Tamera’s Apple Watch         9.0.2  Apple Watch       Watch   \n",
       "\n",
       "  DeviceManufacturer DeviceHardwareVersion DeviceSoftwareVersion  \\\n",
       "0         Apple Inc.              Watch5,9                 9.0.2   \n",
       "1         Apple Inc.              Watch5,9                 9.0.2   \n",
       "2         Apple Inc.              Watch5,9                 9.0.2   \n",
       "\n",
       "   DeviceFirmwareVersion  DeviceFDAIdentifier DeviceLocalIdentifier  \\\n",
       "0                    NaN                  NaN                   NaN   \n",
       "1                    NaN                  NaN                   NaN   \n",
       "2                    NaN                  NaN                   NaN   \n",
       "\n",
       "                                      Metadata          InsertedDate  \n",
       "0  {\"HKMetadataKeyHeartRateMotionContext\":\"0\"}  2022-10-24T11:02:29Z  \n",
       "1  {\"HKMetadataKeyHeartRateMotionContext\":\"0\"}  2022-10-24T11:02:29Z  \n",
       "2  {\"HKMetadataKeyHeartRateMotionContext\":\"0\"}  2022-10-24T11:02:29Z  "
      ]
     },
     "execution_count": 16,
     "metadata": {},
     "output_type": "execute_result"
    }
   ],
   "source": [
    "df.head(3)"
   ]
  },
  {
   "cell_type": "code",
   "execution_count": 17,
   "metadata": {},
   "outputs": [
    {
     "data": {
      "text/plain": [
       "Index(['HealthKitSampleKey', 'ParticipantIdentifier', 'StartDate', 'Date',\n",
       "       'Type', 'Value', 'Units', 'SourceIdentifier', 'SourceName',\n",
       "       'SourceVersion', 'DeviceName', 'DeviceModel', 'DeviceManufacturer',\n",
       "       'DeviceHardwareVersion', 'DeviceSoftwareVersion',\n",
       "       'DeviceFirmwareVersion', 'DeviceFDAIdentifier', 'DeviceLocalIdentifier',\n",
       "       'Metadata', 'InsertedDate'],\n",
       "      dtype='object')"
      ]
     },
     "execution_count": 17,
     "metadata": {},
     "output_type": "execute_result"
    }
   ],
   "source": [
    "df.columns"
   ]
  },
  {
   "cell_type": "code",
   "execution_count": 18,
   "metadata": {},
   "outputs": [],
   "source": [
    "# rename Date to EndDate\n",
    "df.rename(columns={'Date': 'EndDate'}, inplace=True)"
   ]
  },
  {
   "cell_type": "code",
   "execution_count": 19,
   "metadata": {},
   "outputs": [],
   "source": [
    "keep_cols = [\n",
    "    'ParticipantIdentifier', \n",
    "    'StartDate',\n",
    "    'EndDate',\n",
    "    'Type', \n",
    "    'Value', \n",
    "    'Units',       \n",
    "    'SourceVersion', \n",
    "    'DeviceName', \n",
    "    'DeviceModel'\n",
    "]"
   ]
  },
  {
   "cell_type": "code",
   "execution_count": 20,
   "metadata": {},
   "outputs": [],
   "source": [
    "df = df[keep_cols]"
   ]
  },
  {
   "cell_type": "code",
   "execution_count": 21,
   "metadata": {},
   "outputs": [
    {
     "data": {
      "text/plain": [
       "ParticipantIdentifier         0\n",
       "StartDate                     0\n",
       "EndDate                       0\n",
       "Type                          0\n",
       "Value                         0\n",
       "Units                    110826\n",
       "SourceVersion              6653\n",
       "DeviceName               217698\n",
       "DeviceModel              237851\n",
       "dtype: int64"
      ]
     },
     "execution_count": 21,
     "metadata": {},
     "output_type": "execute_result"
    }
   ],
   "source": [
    "# check for na dates...\n",
    "df.isna().sum()"
   ]
  },
  {
   "cell_type": "code",
   "execution_count": 22,
   "metadata": {},
   "outputs": [],
   "source": [
    "# select only subjects in run 1\n",
    "df = df.loc[df.ParticipantIdentifier.isin(subjects)].reset_index(drop=True)"
   ]
  },
  {
   "cell_type": "code",
   "execution_count": 23,
   "metadata": {},
   "outputs": [
    {
     "data": {
      "text/plain": [
       "(7560564, 9)"
      ]
     },
     "execution_count": 23,
     "metadata": {},
     "output_type": "execute_result"
    }
   ],
   "source": [
    "df.shape"
   ]
  },
  {
   "cell_type": "code",
   "execution_count": 24,
   "metadata": {},
   "outputs": [
    {
     "name": "stdout",
     "output_type": "stream",
     "text": [
      "CPU times: user 6min 59s, sys: 9.24 s, total: 7min 8s\n",
      "Wall time: 7min 30s\n"
     ]
    }
   ],
   "source": [
    "%%time\n",
    "\n",
    "# vectorized version\n",
    "\n",
    "# datetime col based on EndDate\n",
    "def foo(x):\n",
    "    try:\n",
    "        return parser.parse(x)\n",
    "    except (ValueError, KeyError):\n",
    "        return None\n",
    "\n",
    "v = np.vectorize(foo)\n",
    "df['datetime'] = v(df.StartDate)\n",
    "\n",
    "# trial_date col, based on sleep before 6pm...\n",
    "def foo(x):\n",
    "    try:\n",
    "        return (x + datetime.timedelta(hours = -4)).date()\n",
    "    except (ValueError, KeyError):\n",
    "        return None\n",
    "\n",
    "v = np.vectorize(foo)\n",
    "df['trial_date'] = v(df.datetime)\n",
    "\n",
    "# time col\n",
    "def foo(x):\n",
    "    try:\n",
    "        return x.time()\n",
    "    except (ValueError, KeyError):\n",
    "        return None\n",
    "\n",
    "v = np.vectorize(foo)\n",
    "df['time'] = v(df.datetime)"
   ]
  },
  {
   "cell_type": "code",
   "execution_count": 25,
   "metadata": {},
   "outputs": [
    {
     "data": {
      "text/plain": [
       "array(['ActiveEnergyBurned', 'AppleStandTime', 'AudioExposureEvent',\n",
       "       'DailySteps', 'DistanceCycling', 'DistanceWalkingRunning',\n",
       "       'EnvironmentalAudioExposure', 'HandwashingEvent',\n",
       "       'HeadphoneAudioExposure', 'HeartRate', 'HeartRateVariability',\n",
       "       'MindfulSession', 'RestingEnergyBurned', 'RestingHeartRate',\n",
       "       'SleepAnalysisInterval', 'StandHourInterval', 'Steps',\n",
       "       'WalkingHeartRateAverage', 'WalkingSpeed'], dtype=object)"
      ]
     },
     "execution_count": 25,
     "metadata": {},
     "output_type": "execute_result"
    }
   ],
   "source": [
    "np.unique(df.Type)"
   ]
  },
  {
   "cell_type": "markdown",
   "metadata": {},
   "source": [
    "### Activity"
   ]
  },
  {
   "cell_type": "markdown",
   "metadata": {},
   "source": [
    "We will take:\n",
    "\n",
    "- `ActiveEnergyBurned`\n",
    "- `RestingEnergyBurned`\n",
    "- `DistanceWalkingRunning`\n",
    "- `DistanceCycling`\n",
    "- `AppleStandTime`\n",
    "- `WalkingSpeed`\n",
    "- `Steps`"
   ]
  },
  {
   "cell_type": "markdown",
   "metadata": {},
   "source": [
    "Note that for some of these it makes sense to take the daily sum (e.g. `AppleStandTime`) while others make more sense as a daily average (e.g. `WalkingSpeed`)"
   ]
  },
  {
   "cell_type": "code",
   "execution_count": 60,
   "metadata": {},
   "outputs": [
    {
     "data": {
      "text/html": [
       "<div>\n",
       "<style scoped>\n",
       "    .dataframe tbody tr th:only-of-type {\n",
       "        vertical-align: middle;\n",
       "    }\n",
       "\n",
       "    .dataframe tbody tr th {\n",
       "        vertical-align: top;\n",
       "    }\n",
       "\n",
       "    .dataframe thead th {\n",
       "        text-align: right;\n",
       "    }\n",
       "</style>\n",
       "<table border=\"1\" class=\"dataframe\">\n",
       "  <thead>\n",
       "    <tr style=\"text-align: right;\">\n",
       "      <th></th>\n",
       "      <th>ParticipantIdentifier</th>\n",
       "      <th>StartDate</th>\n",
       "      <th>EndDate</th>\n",
       "      <th>Type</th>\n",
       "      <th>Value</th>\n",
       "      <th>Units</th>\n",
       "      <th>SourceVersion</th>\n",
       "      <th>DeviceName</th>\n",
       "      <th>DeviceModel</th>\n",
       "      <th>datetime</th>\n",
       "      <th>trial_date</th>\n",
       "      <th>time</th>\n",
       "    </tr>\n",
       "  </thead>\n",
       "  <tbody>\n",
       "    <tr>\n",
       "      <th>0</th>\n",
       "      <td>fed3a16b-c5a3-4a84-a111-32b7574e04b5</td>\n",
       "      <td>2022-10-24T06:01:08-04:00</td>\n",
       "      <td>2022-10-24T06:01:18-04:00</td>\n",
       "      <td>DistanceWalkingRunning</td>\n",
       "      <td>4.9299999999930151</td>\n",
       "      <td>m</td>\n",
       "      <td>9.0.2</td>\n",
       "      <td>Apple Watch</td>\n",
       "      <td>Watch</td>\n",
       "      <td>2022-10-24 06:01:08-04:00</td>\n",
       "      <td>2022-10-24</td>\n",
       "      <td>06:01:08</td>\n",
       "    </tr>\n",
       "    <tr>\n",
       "      <th>1</th>\n",
       "      <td>fed3a16b-c5a3-4a84-a111-32b7574e04b5</td>\n",
       "      <td>2022-10-24T06:04:55-04:00</td>\n",
       "      <td>2022-10-24T06:05:44-04:00</td>\n",
       "      <td>DistanceWalkingRunning</td>\n",
       "      <td>18.272000026714522</td>\n",
       "      <td>m</td>\n",
       "      <td>9.0.2</td>\n",
       "      <td>Apple Watch</td>\n",
       "      <td>Watch</td>\n",
       "      <td>2022-10-24 06:04:55-04:00</td>\n",
       "      <td>2022-10-24</td>\n",
       "      <td>06:04:55</td>\n",
       "    </tr>\n",
       "    <tr>\n",
       "      <th>2</th>\n",
       "      <td>fed3a16b-c5a3-4a84-a111-32b7574e04b5</td>\n",
       "      <td>2022-10-24T06:06:04-04:00</td>\n",
       "      <td>2022-10-24T06:06:17-04:00</td>\n",
       "      <td>DistanceWalkingRunning</td>\n",
       "      <td>20.730000000010477</td>\n",
       "      <td>m</td>\n",
       "      <td>9.0.2</td>\n",
       "      <td>Apple Watch</td>\n",
       "      <td>Watch</td>\n",
       "      <td>2022-10-24 06:06:04-04:00</td>\n",
       "      <td>2022-10-24</td>\n",
       "      <td>06:06:04</td>\n",
       "    </tr>\n",
       "  </tbody>\n",
       "</table>\n",
       "</div>"
      ],
      "text/plain": [
       "                  ParticipantIdentifier                  StartDate  \\\n",
       "0  fed3a16b-c5a3-4a84-a111-32b7574e04b5  2022-10-24T06:01:08-04:00   \n",
       "1  fed3a16b-c5a3-4a84-a111-32b7574e04b5  2022-10-24T06:04:55-04:00   \n",
       "2  fed3a16b-c5a3-4a84-a111-32b7574e04b5  2022-10-24T06:06:04-04:00   \n",
       "\n",
       "                     EndDate                    Type               Value  \\\n",
       "0  2022-10-24T06:01:18-04:00  DistanceWalkingRunning  4.9299999999930151   \n",
       "1  2022-10-24T06:05:44-04:00  DistanceWalkingRunning  18.272000026714522   \n",
       "2  2022-10-24T06:06:17-04:00  DistanceWalkingRunning  20.730000000010477   \n",
       "\n",
       "  Units SourceVersion   DeviceName DeviceModel                   datetime  \\\n",
       "0     m         9.0.2  Apple Watch       Watch  2022-10-24 06:01:08-04:00   \n",
       "1     m         9.0.2  Apple Watch       Watch  2022-10-24 06:04:55-04:00   \n",
       "2     m         9.0.2  Apple Watch       Watch  2022-10-24 06:06:04-04:00   \n",
       "\n",
       "   trial_date      time  \n",
       "0  2022-10-24  06:01:08  \n",
       "1  2022-10-24  06:04:55  \n",
       "2  2022-10-24  06:06:04  "
      ]
     },
     "execution_count": 60,
     "metadata": {},
     "output_type": "execute_result"
    }
   ],
   "source": [
    "type_vals_mean = ['WalkingSpeed']\n",
    "\n",
    "type_vals_sum = ['ActiveEnergyBurned', 'RestingEnergyBurned', 'DistanceWalkingRunning',\n",
    "                  'DistanceCycling', 'AppleStandTime', 'Steps']\n",
    "\n",
    "df_activity_mean = df.loc[df.Type.isin(type_vals_mean)].reset_index(drop=True)\n",
    "df_activity_sum = df.loc[df.Type.isin(type_vals_sum)].reset_index(drop=True)\n",
    "\n",
    "df_activity_sum.head(3)"
   ]
  },
  {
   "cell_type": "code",
   "execution_count": 61,
   "metadata": {},
   "outputs": [],
   "source": [
    "# cast Value to numeric\n",
    "df_activity_mean.Value = pd.to_numeric(df_activity_mean.Value)\n",
    "df_activity_sum.Value = pd.to_numeric(df_activity_sum.Value)\n",
    "\n",
    "# Calculate sums and means\n",
    "df_activity_mean = pd.DataFrame(df_activity_mean.groupby(['trial_date','ParticipantIdentifier', 'Type'])['Value'].mean()).reset_index()\n",
    "df_activity_sum = pd.DataFrame(df_activity_sum.groupby(['trial_date','ParticipantIdentifier', 'Type'])['Value'].sum()).reset_index()\n",
    "\n",
    "# convert from long to wide\n",
    "df_activity_mean = df_activity_mean.pivot_table(index=['trial_date', 'ParticipantIdentifier'],\n",
    "                                                columns='Type', \n",
    "                                                values='Value').reset_index()\n",
    "df_activity_sum = df_activity_sum.pivot_table(index=['trial_date', 'ParticipantIdentifier'],\n",
    "                                              columns='Type', \n",
    "                                              values='Value').reset_index()\n"
   ]
  },
  {
   "cell_type": "code",
   "execution_count": 62,
   "metadata": {},
   "outputs": [],
   "source": [
    "# Get rid of index name (set to \"Type\")\n",
    "df_activity_mean.columns.name = None\n",
    "df_activity_sum.columns.name = None\n",
    "\n",
    "# Rename columns\n",
    "df_activity_mean.rename(columns={'WalkingSpeed': 'passive_hk_activity_averageWalkingSpeed'\n",
    "                                }, inplace=True)\n",
    "\n",
    "df_activity_sum.rename(columns={'ActiveEnergyBurned': 'passive_hk_activity_activeEnergyBurned',\n",
    "                                'RestingEnergyBurned': 'passive_hk_activity_restingEnergyBurned',\n",
    "                                'DistanceWalkingRunning': 'passive_hk_activity_distanceWalkingRunning',\n",
    "                                'DistanceCycling': 'passive_hk_activity_distanceCycling',\n",
    "                                'AppleStandTime': 'passive_hk_activity_appleStandTime',\n",
    "                                'Steps': 'passive_hk_activity_steps'\n",
    "                       }, inplace=True)"
   ]
  },
  {
   "cell_type": "code",
   "execution_count": 63,
   "metadata": {},
   "outputs": [
    {
     "data": {
      "text/html": [
       "<div>\n",
       "<style scoped>\n",
       "    .dataframe tbody tr th:only-of-type {\n",
       "        vertical-align: middle;\n",
       "    }\n",
       "\n",
       "    .dataframe tbody tr th {\n",
       "        vertical-align: top;\n",
       "    }\n",
       "\n",
       "    .dataframe thead th {\n",
       "        text-align: right;\n",
       "    }\n",
       "</style>\n",
       "<table border=\"1\" class=\"dataframe\">\n",
       "  <thead>\n",
       "    <tr style=\"text-align: right;\">\n",
       "      <th></th>\n",
       "      <th>trial_date</th>\n",
       "      <th>ParticipantIdentifier</th>\n",
       "      <th>passive_hk_activity_activeEnergyBurned</th>\n",
       "      <th>passive_hk_activity_appleStandTime</th>\n",
       "      <th>passive_hk_activity_distanceCycling</th>\n",
       "      <th>passive_hk_activity_distanceWalkingRunning</th>\n",
       "      <th>passive_hk_activity_restingEnergyBurned</th>\n",
       "      <th>passive_hk_activity_steps</th>\n",
       "    </tr>\n",
       "  </thead>\n",
       "  <tbody>\n",
       "    <tr>\n",
       "      <th>0</th>\n",
       "      <td>2022-09-08</td>\n",
       "      <td>b032c7ad-4287-4c23-8078-f75d3da262b8</td>\n",
       "      <td>NaN</td>\n",
       "      <td>NaN</td>\n",
       "      <td>NaN</td>\n",
       "      <td>346.660000</td>\n",
       "      <td>NaN</td>\n",
       "      <td>545.0</td>\n",
       "    </tr>\n",
       "    <tr>\n",
       "      <th>1</th>\n",
       "      <td>2022-09-09</td>\n",
       "      <td>147400db-43d9-4155-8bf2-b85b8adf4315</td>\n",
       "      <td>194.443</td>\n",
       "      <td>71.0</td>\n",
       "      <td>NaN</td>\n",
       "      <td>4002.801667</td>\n",
       "      <td>948.472</td>\n",
       "      <td>6043.0</td>\n",
       "    </tr>\n",
       "    <tr>\n",
       "      <th>2</th>\n",
       "      <td>2022-09-09</td>\n",
       "      <td>25ca39d7-4279-48fd-903f-d0927adadb77</td>\n",
       "      <td>8.030</td>\n",
       "      <td>1.0</td>\n",
       "      <td>NaN</td>\n",
       "      <td>51.543363</td>\n",
       "      <td>784.065</td>\n",
       "      <td>61.0</td>\n",
       "    </tr>\n",
       "  </tbody>\n",
       "</table>\n",
       "</div>"
      ],
      "text/plain": [
       "   trial_date                 ParticipantIdentifier  \\\n",
       "0  2022-09-08  b032c7ad-4287-4c23-8078-f75d3da262b8   \n",
       "1  2022-09-09  147400db-43d9-4155-8bf2-b85b8adf4315   \n",
       "2  2022-09-09  25ca39d7-4279-48fd-903f-d0927adadb77   \n",
       "\n",
       "   passive_hk_activity_activeEnergyBurned  passive_hk_activity_appleStandTime  \\\n",
       "0                                     NaN                                 NaN   \n",
       "1                                 194.443                                71.0   \n",
       "2                                   8.030                                 1.0   \n",
       "\n",
       "   passive_hk_activity_distanceCycling  \\\n",
       "0                                  NaN   \n",
       "1                                  NaN   \n",
       "2                                  NaN   \n",
       "\n",
       "   passive_hk_activity_distanceWalkingRunning  \\\n",
       "0                                  346.660000   \n",
       "1                                 4002.801667   \n",
       "2                                   51.543363   \n",
       "\n",
       "   passive_hk_activity_restingEnergyBurned  passive_hk_activity_steps  \n",
       "0                                      NaN                      545.0  \n",
       "1                                  948.472                     6043.0  \n",
       "2                                  784.065                       61.0  "
      ]
     },
     "execution_count": 63,
     "metadata": {},
     "output_type": "execute_result"
    }
   ],
   "source": [
    "df_activity_sum.head(3)"
   ]
  },
  {
   "cell_type": "code",
   "execution_count": 64,
   "metadata": {},
   "outputs": [
    {
     "data": {
      "text/html": [
       "<div>\n",
       "<style scoped>\n",
       "    .dataframe tbody tr th:only-of-type {\n",
       "        vertical-align: middle;\n",
       "    }\n",
       "\n",
       "    .dataframe tbody tr th {\n",
       "        vertical-align: top;\n",
       "    }\n",
       "\n",
       "    .dataframe thead th {\n",
       "        text-align: right;\n",
       "    }\n",
       "</style>\n",
       "<table border=\"1\" class=\"dataframe\">\n",
       "  <thead>\n",
       "    <tr style=\"text-align: right;\">\n",
       "      <th></th>\n",
       "      <th>trial_date</th>\n",
       "      <th>ParticipantIdentifier</th>\n",
       "      <th>passive_hk_activity_activeEnergyBurned</th>\n",
       "      <th>passive_hk_activity_appleStandTime</th>\n",
       "      <th>passive_hk_activity_distanceCycling</th>\n",
       "      <th>passive_hk_activity_distanceWalkingRunning</th>\n",
       "      <th>passive_hk_activity_restingEnergyBurned</th>\n",
       "      <th>passive_hk_activity_steps</th>\n",
       "      <th>passive_hk_activity_averageWalkingSpeed</th>\n",
       "    </tr>\n",
       "  </thead>\n",
       "  <tbody>\n",
       "    <tr>\n",
       "      <th>0</th>\n",
       "      <td>2022-09-08</td>\n",
       "      <td>b032c7ad-4287-4c23-8078-f75d3da262b8</td>\n",
       "      <td>NaN</td>\n",
       "      <td>NaN</td>\n",
       "      <td>NaN</td>\n",
       "      <td>346.660000</td>\n",
       "      <td>NaN</td>\n",
       "      <td>545.0</td>\n",
       "      <td>0.895</td>\n",
       "    </tr>\n",
       "    <tr>\n",
       "      <th>1</th>\n",
       "      <td>2022-09-09</td>\n",
       "      <td>147400db-43d9-4155-8bf2-b85b8adf4315</td>\n",
       "      <td>194.443</td>\n",
       "      <td>71.0</td>\n",
       "      <td>NaN</td>\n",
       "      <td>4002.801667</td>\n",
       "      <td>948.472</td>\n",
       "      <td>6043.0</td>\n",
       "      <td>1.009</td>\n",
       "    </tr>\n",
       "    <tr>\n",
       "      <th>2</th>\n",
       "      <td>2022-09-09</td>\n",
       "      <td>25ca39d7-4279-48fd-903f-d0927adadb77</td>\n",
       "      <td>8.030</td>\n",
       "      <td>1.0</td>\n",
       "      <td>NaN</td>\n",
       "      <td>51.543363</td>\n",
       "      <td>784.065</td>\n",
       "      <td>61.0</td>\n",
       "      <td>NaN</td>\n",
       "    </tr>\n",
       "  </tbody>\n",
       "</table>\n",
       "</div>"
      ],
      "text/plain": [
       "   trial_date                 ParticipantIdentifier  \\\n",
       "0  2022-09-08  b032c7ad-4287-4c23-8078-f75d3da262b8   \n",
       "1  2022-09-09  147400db-43d9-4155-8bf2-b85b8adf4315   \n",
       "2  2022-09-09  25ca39d7-4279-48fd-903f-d0927adadb77   \n",
       "\n",
       "   passive_hk_activity_activeEnergyBurned  passive_hk_activity_appleStandTime  \\\n",
       "0                                     NaN                                 NaN   \n",
       "1                                 194.443                                71.0   \n",
       "2                                   8.030                                 1.0   \n",
       "\n",
       "   passive_hk_activity_distanceCycling  \\\n",
       "0                                  NaN   \n",
       "1                                  NaN   \n",
       "2                                  NaN   \n",
       "\n",
       "   passive_hk_activity_distanceWalkingRunning  \\\n",
       "0                                  346.660000   \n",
       "1                                 4002.801667   \n",
       "2                                   51.543363   \n",
       "\n",
       "   passive_hk_activity_restingEnergyBurned  passive_hk_activity_steps  \\\n",
       "0                                      NaN                      545.0   \n",
       "1                                  948.472                     6043.0   \n",
       "2                                  784.065                       61.0   \n",
       "\n",
       "   passive_hk_activity_averageWalkingSpeed  \n",
       "0                                    0.895  \n",
       "1                                    1.009  \n",
       "2                                      NaN  "
      ]
     },
     "execution_count": 64,
     "metadata": {},
     "output_type": "execute_result"
    }
   ],
   "source": [
    "# join\n",
    "df_activity = df_activity_sum.merge(df_activity_mean, how='left', on=['ParticipantIdentifier', 'trial_date'])\n",
    "df_activity.head(3)"
   ]
  },
  {
   "cell_type": "markdown",
   "metadata": {},
   "source": [
    "### Heart Rate"
   ]
  },
  {
   "cell_type": "markdown",
   "metadata": {},
   "source": [
    "We will take:\n",
    "\n",
    "- `RestingHeartRate`\n",
    "- `WalkingHeartRateAverage`\n",
    "- `HeartRateVariability`\n",
    "\n",
    "Should we consider max heart rate?"
   ]
  },
  {
   "cell_type": "code",
   "execution_count": 65,
   "metadata": {},
   "outputs": [
    {
     "data": {
      "text/html": [
       "<div>\n",
       "<style scoped>\n",
       "    .dataframe tbody tr th:only-of-type {\n",
       "        vertical-align: middle;\n",
       "    }\n",
       "\n",
       "    .dataframe tbody tr th {\n",
       "        vertical-align: top;\n",
       "    }\n",
       "\n",
       "    .dataframe thead th {\n",
       "        text-align: right;\n",
       "    }\n",
       "</style>\n",
       "<table border=\"1\" class=\"dataframe\">\n",
       "  <thead>\n",
       "    <tr style=\"text-align: right;\">\n",
       "      <th></th>\n",
       "      <th>ParticipantIdentifier</th>\n",
       "      <th>StartDate</th>\n",
       "      <th>EndDate</th>\n",
       "      <th>Type</th>\n",
       "      <th>Value</th>\n",
       "      <th>Units</th>\n",
       "      <th>SourceVersion</th>\n",
       "      <th>DeviceName</th>\n",
       "      <th>DeviceModel</th>\n",
       "      <th>datetime</th>\n",
       "      <th>trial_date</th>\n",
       "      <th>time</th>\n",
       "    </tr>\n",
       "  </thead>\n",
       "  <tbody>\n",
       "    <tr>\n",
       "      <th>0</th>\n",
       "      <td>0ca43379-41b5-47fb-90ba-0a22e6bf5586</td>\n",
       "      <td>2022-10-24T00:03:22-04:00</td>\n",
       "      <td>2022-10-24T10:51:30-04:00</td>\n",
       "      <td>RestingHeartRate</td>\n",
       "      <td>73</td>\n",
       "      <td>count/min</td>\n",
       "      <td>8.5.1</td>\n",
       "      <td>NaN</td>\n",
       "      <td>NaN</td>\n",
       "      <td>2022-10-24 00:03:22-04:00</td>\n",
       "      <td>2022-10-23</td>\n",
       "      <td>00:03:22</td>\n",
       "    </tr>\n",
       "    <tr>\n",
       "      <th>1</th>\n",
       "      <td>ff129772-aeab-4432-8136-8f94027b8504</td>\n",
       "      <td>2022-10-24T09:36:36-04:00</td>\n",
       "      <td>2022-10-24T11:07:55-04:00</td>\n",
       "      <td>RestingHeartRate</td>\n",
       "      <td>82</td>\n",
       "      <td>count/min</td>\n",
       "      <td>8.5.1</td>\n",
       "      <td>NaN</td>\n",
       "      <td>NaN</td>\n",
       "      <td>2022-10-24 09:36:36-04:00</td>\n",
       "      <td>2022-10-24</td>\n",
       "      <td>09:36:36</td>\n",
       "    </tr>\n",
       "    <tr>\n",
       "      <th>2</th>\n",
       "      <td>d11241a0-932e-4931-83ee-f3d28f66875f</td>\n",
       "      <td>2022-10-24T00:02:28-04:00</td>\n",
       "      <td>2022-10-24T10:35:58-04:00</td>\n",
       "      <td>RestingHeartRate</td>\n",
       "      <td>76</td>\n",
       "      <td>count/min</td>\n",
       "      <td>9.0.2</td>\n",
       "      <td>NaN</td>\n",
       "      <td>NaN</td>\n",
       "      <td>2022-10-24 00:02:28-04:00</td>\n",
       "      <td>2022-10-23</td>\n",
       "      <td>00:02:28</td>\n",
       "    </tr>\n",
       "  </tbody>\n",
       "</table>\n",
       "</div>"
      ],
      "text/plain": [
       "                  ParticipantIdentifier                  StartDate  \\\n",
       "0  0ca43379-41b5-47fb-90ba-0a22e6bf5586  2022-10-24T00:03:22-04:00   \n",
       "1  ff129772-aeab-4432-8136-8f94027b8504  2022-10-24T09:36:36-04:00   \n",
       "2  d11241a0-932e-4931-83ee-f3d28f66875f  2022-10-24T00:02:28-04:00   \n",
       "\n",
       "                     EndDate              Type Value      Units SourceVersion  \\\n",
       "0  2022-10-24T10:51:30-04:00  RestingHeartRate    73  count/min         8.5.1   \n",
       "1  2022-10-24T11:07:55-04:00  RestingHeartRate    82  count/min         8.5.1   \n",
       "2  2022-10-24T10:35:58-04:00  RestingHeartRate    76  count/min         9.0.2   \n",
       "\n",
       "  DeviceName DeviceModel                   datetime  trial_date      time  \n",
       "0        NaN         NaN  2022-10-24 00:03:22-04:00  2022-10-23  00:03:22  \n",
       "1        NaN         NaN  2022-10-24 09:36:36-04:00  2022-10-24  09:36:36  \n",
       "2        NaN         NaN  2022-10-24 00:02:28-04:00  2022-10-23  00:02:28  "
      ]
     },
     "execution_count": 65,
     "metadata": {},
     "output_type": "execute_result"
    }
   ],
   "source": [
    "type_vals = ['RestingHeartRate', 'WalkingHeartRateAverage', 'HeartRateVariability']\n",
    "\n",
    "df_hr = df.loc[df.Type.isin(type_vals)].reset_index(drop=True)\n",
    "df_hr.head(3)"
   ]
  },
  {
   "cell_type": "code",
   "execution_count": 66,
   "metadata": {},
   "outputs": [],
   "source": [
    "# cast Value to numeric\n",
    "df_hr.Value = pd.to_numeric(df_hr.Value)\n",
    "\n",
    "# Get mean for each type for each participant for each day\n",
    "df_hr = pd.DataFrame(df_hr.groupby(['trial_date','ParticipantIdentifier', 'Type'])['Value'].mean()).reset_index()\n",
    "\n",
    "# convert from long to wide\n",
    "df_hr = df_hr.pivot_table(index=['trial_date', 'ParticipantIdentifier'],\n",
    "                          columns='Type', \n",
    "                          values='Value').reset_index()"
   ]
  },
  {
   "cell_type": "code",
   "execution_count": 67,
   "metadata": {},
   "outputs": [
    {
     "data": {
      "text/html": [
       "<div>\n",
       "<style scoped>\n",
       "    .dataframe tbody tr th:only-of-type {\n",
       "        vertical-align: middle;\n",
       "    }\n",
       "\n",
       "    .dataframe tbody tr th {\n",
       "        vertical-align: top;\n",
       "    }\n",
       "\n",
       "    .dataframe thead th {\n",
       "        text-align: right;\n",
       "    }\n",
       "</style>\n",
       "<table border=\"1\" class=\"dataframe\">\n",
       "  <thead>\n",
       "    <tr style=\"text-align: right;\">\n",
       "      <th></th>\n",
       "      <th>trial_date</th>\n",
       "      <th>ParticipantIdentifier</th>\n",
       "      <th>passive_hk_hr_variability</th>\n",
       "      <th>passive_hk_hr_resting</th>\n",
       "      <th>passive_hk_hr_averageWalking</th>\n",
       "    </tr>\n",
       "  </thead>\n",
       "  <tbody>\n",
       "    <tr>\n",
       "      <th>0</th>\n",
       "      <td>2022-09-09</td>\n",
       "      <td>147400db-43d9-4155-8bf2-b85b8adf4315</td>\n",
       "      <td>27.943125</td>\n",
       "      <td>NaN</td>\n",
       "      <td>NaN</td>\n",
       "    </tr>\n",
       "    <tr>\n",
       "      <th>1</th>\n",
       "      <td>2022-09-10</td>\n",
       "      <td>147400db-43d9-4155-8bf2-b85b8adf4315</td>\n",
       "      <td>32.898518</td>\n",
       "      <td>71.0</td>\n",
       "      <td>95.0</td>\n",
       "    </tr>\n",
       "    <tr>\n",
       "      <th>2</th>\n",
       "      <td>2022-09-11</td>\n",
       "      <td>147400db-43d9-4155-8bf2-b85b8adf4315</td>\n",
       "      <td>31.765743</td>\n",
       "      <td>68.0</td>\n",
       "      <td>88.5</td>\n",
       "    </tr>\n",
       "  </tbody>\n",
       "</table>\n",
       "</div>"
      ],
      "text/plain": [
       "   trial_date                 ParticipantIdentifier  \\\n",
       "0  2022-09-09  147400db-43d9-4155-8bf2-b85b8adf4315   \n",
       "1  2022-09-10  147400db-43d9-4155-8bf2-b85b8adf4315   \n",
       "2  2022-09-11  147400db-43d9-4155-8bf2-b85b8adf4315   \n",
       "\n",
       "   passive_hk_hr_variability  passive_hk_hr_resting  \\\n",
       "0                  27.943125                    NaN   \n",
       "1                  32.898518                   71.0   \n",
       "2                  31.765743                   68.0   \n",
       "\n",
       "   passive_hk_hr_averageWalking  \n",
       "0                           NaN  \n",
       "1                          95.0  \n",
       "2                          88.5  "
      ]
     },
     "execution_count": 67,
     "metadata": {},
     "output_type": "execute_result"
    }
   ],
   "source": [
    "# Get rid of index name (set to \"Type\")\n",
    "df_hr.columns.name = None\n",
    "\n",
    "# Rename columns\n",
    "df_hr.rename(columns={'HeartRateVariability': 'passive_hk_hr_variability',\n",
    "                      'RestingHeartRate' : 'passive_hk_hr_resting',\n",
    "                      'WalkingHeartRateAverage':'passive_hk_hr_averageWalking'\n",
    "                     }, inplace=True)\n",
    "\n",
    "df_hr.head(3)"
   ]
  },
  {
   "cell_type": "markdown",
   "metadata": {},
   "source": [
    "### Sleep"
   ]
  },
  {
   "cell_type": "markdown",
   "metadata": {},
   "source": [
    "Apple `HKCategoryValueSleepAnalysis` [documentation](https://developer.apple.com/documentation/healthkit/hkcategoryvaluesleepanalysis)\n",
    "\n",
    "- `awake`: The user is awake.\n",
    "- `inBed`: The user is in bed.\n",
    "- `asleepCore`: The user is in light or intermediate sleep.\n",
    "> This value corresponds to stage N2 of the American Academy of Sleep Medicine’s scoring model. Stage N2 is also referred to as light or intermediate sleep. It accounts for a major part of the time spent asleep. It also includes stage N1, which makes up only a small portion of the night.\n",
    "- `asleepDeep`: The user is in deep sleep.\n",
    "> This value corresponds to stage N3 of the American Academy of Sleep Medicine’s scoring model.\n",
    "- `asleepREM`: The user is in REM sleep.\n",
    "> This value corresponds to the rapid eye movement (REM) stage of the American Academy of Sleep Medicine’s scoring model.\n",
    "\n",
    "---\n",
    "\n",
    "Note that final dataframe is in **minutes**"
   ]
  },
  {
   "cell_type": "code",
   "execution_count": 68,
   "metadata": {},
   "outputs": [
    {
     "data": {
      "text/html": [
       "<div>\n",
       "<style scoped>\n",
       "    .dataframe tbody tr th:only-of-type {\n",
       "        vertical-align: middle;\n",
       "    }\n",
       "\n",
       "    .dataframe tbody tr th {\n",
       "        vertical-align: top;\n",
       "    }\n",
       "\n",
       "    .dataframe thead th {\n",
       "        text-align: right;\n",
       "    }\n",
       "</style>\n",
       "<table border=\"1\" class=\"dataframe\">\n",
       "  <thead>\n",
       "    <tr style=\"text-align: right;\">\n",
       "      <th></th>\n",
       "      <th>ParticipantIdentifier</th>\n",
       "      <th>StartDate</th>\n",
       "      <th>EndDate</th>\n",
       "      <th>Type</th>\n",
       "      <th>Value</th>\n",
       "      <th>Units</th>\n",
       "      <th>SourceVersion</th>\n",
       "      <th>DeviceName</th>\n",
       "      <th>DeviceModel</th>\n",
       "      <th>datetime</th>\n",
       "      <th>trial_date</th>\n",
       "      <th>time</th>\n",
       "    </tr>\n",
       "  </thead>\n",
       "  <tbody>\n",
       "    <tr>\n",
       "      <th>0</th>\n",
       "      <td>2db37fd7-2694-4b46-80f9-9f4b58d57bfa</td>\n",
       "      <td>2022-10-23T22:21:00-04:00</td>\n",
       "      <td>2022-10-23T22:31:55-04:00</td>\n",
       "      <td>SleepAnalysisInterval</td>\n",
       "      <td>InBed</td>\n",
       "      <td>NaN</td>\n",
       "      <td>16.0.2</td>\n",
       "      <td>NaN</td>\n",
       "      <td>NaN</td>\n",
       "      <td>2022-10-23 22:21:00-04:00</td>\n",
       "      <td>2022-10-23</td>\n",
       "      <td>22:21:00</td>\n",
       "    </tr>\n",
       "    <tr>\n",
       "      <th>1</th>\n",
       "      <td>2db37fd7-2694-4b46-80f9-9f4b58d57bfa</td>\n",
       "      <td>2022-10-23T22:35:33-04:00</td>\n",
       "      <td>2022-10-23T22:39:29-04:00</td>\n",
       "      <td>SleepAnalysisInterval</td>\n",
       "      <td>InBed</td>\n",
       "      <td>NaN</td>\n",
       "      <td>16.0.2</td>\n",
       "      <td>NaN</td>\n",
       "      <td>NaN</td>\n",
       "      <td>2022-10-23 22:35:33-04:00</td>\n",
       "      <td>2022-10-23</td>\n",
       "      <td>22:35:33</td>\n",
       "    </tr>\n",
       "    <tr>\n",
       "      <th>2</th>\n",
       "      <td>2db37fd7-2694-4b46-80f9-9f4b58d57bfa</td>\n",
       "      <td>2022-10-23T22:43:53-04:00</td>\n",
       "      <td>2022-10-23T22:45:53-04:00</td>\n",
       "      <td>SleepAnalysisInterval</td>\n",
       "      <td>InBed</td>\n",
       "      <td>NaN</td>\n",
       "      <td>16.0.2</td>\n",
       "      <td>NaN</td>\n",
       "      <td>NaN</td>\n",
       "      <td>2022-10-23 22:43:53-04:00</td>\n",
       "      <td>2022-10-23</td>\n",
       "      <td>22:43:53</td>\n",
       "    </tr>\n",
       "  </tbody>\n",
       "</table>\n",
       "</div>"
      ],
      "text/plain": [
       "                  ParticipantIdentifier                  StartDate  \\\n",
       "0  2db37fd7-2694-4b46-80f9-9f4b58d57bfa  2022-10-23T22:21:00-04:00   \n",
       "1  2db37fd7-2694-4b46-80f9-9f4b58d57bfa  2022-10-23T22:35:33-04:00   \n",
       "2  2db37fd7-2694-4b46-80f9-9f4b58d57bfa  2022-10-23T22:43:53-04:00   \n",
       "\n",
       "                     EndDate                   Type  Value Units  \\\n",
       "0  2022-10-23T22:31:55-04:00  SleepAnalysisInterval  InBed   NaN   \n",
       "1  2022-10-23T22:39:29-04:00  SleepAnalysisInterval  InBed   NaN   \n",
       "2  2022-10-23T22:45:53-04:00  SleepAnalysisInterval  InBed   NaN   \n",
       "\n",
       "  SourceVersion DeviceName DeviceModel                   datetime  trial_date  \\\n",
       "0        16.0.2        NaN         NaN  2022-10-23 22:21:00-04:00  2022-10-23   \n",
       "1        16.0.2        NaN         NaN  2022-10-23 22:35:33-04:00  2022-10-23   \n",
       "2        16.0.2        NaN         NaN  2022-10-23 22:43:53-04:00  2022-10-23   \n",
       "\n",
       "       time  \n",
       "0  22:21:00  \n",
       "1  22:35:33  \n",
       "2  22:43:53  "
      ]
     },
     "execution_count": 68,
     "metadata": {},
     "output_type": "execute_result"
    }
   ],
   "source": [
    "type_vals = ['SleepAnalysisInterval']\n",
    "\n",
    "sleep_df = df.loc[df.Type.isin(type_vals)].reset_index(drop=True)\n",
    "sleep_df.head(3)"
   ]
  },
  {
   "cell_type": "markdown",
   "metadata": {},
   "source": [
    "---\n",
    "Sleep is a bit tricky as:\n",
    "1. Sleeping often bridges two days\n",
    "2. There are people that sleep in late and/or nap\n",
    "\n",
    "To try and deal with this we label all sleep that **starts** before 6pm as belonging to the **previous day**"
   ]
  },
  {
   "cell_type": "code",
   "execution_count": 69,
   "metadata": {},
   "outputs": [],
   "source": [
    "# sleep date col\n",
    "def foo(x):\n",
    "    try:\n",
    "        return (x + datetime.timedelta(hours = -18)).date()\n",
    "    except (ValueError, KeyError):\n",
    "        return None\n",
    "\n",
    "v = np.vectorize(foo)\n",
    "sleep_df['trial_date'] = v(sleep_df.datetime)"
   ]
  },
  {
   "cell_type": "markdown",
   "metadata": {},
   "source": [
    "---\n",
    "Now we want to calculate the duration of each `InBed` and `Asleep` `Value`...\n"
   ]
  },
  {
   "cell_type": "code",
   "execution_count": 70,
   "metadata": {},
   "outputs": [],
   "source": [
    "sleep_df['duration'] = [(datetime.datetime.fromisoformat(finish) - \n",
    "                         datetime.datetime.fromisoformat(start)).seconds/60\n",
    "                        for start,finish in zip(sleep_df['StartDate'],sleep_df['EndDate'])]\n"
   ]
  },
  {
   "cell_type": "code",
   "execution_count": 71,
   "metadata": {},
   "outputs": [],
   "source": [
    "# Get sum for each value (InBed, Asleep) for each participant for each SLEEP day\n",
    "sleep_df = pd.DataFrame(sleep_df.groupby(['trial_date','ParticipantIdentifier', 'Value'])['duration'].sum()).reset_index()\n",
    "\n",
    "# convert from long to wide\n",
    "sleep_df = sleep_df.pivot_table(index=['trial_date', 'ParticipantIdentifier'],\n",
    "                    columns='Value', \n",
    "                    values='duration').reset_index()"
   ]
  },
  {
   "cell_type": "markdown",
   "metadata": {},
   "source": [
    "---\n",
    "`SleepDay` was essentially a proxy for `StudyDay` but with additional hours (until 18h00) to account for long sleepers and naps.\n",
    "\n",
    "So we will change it back to `SleepDay` to join later."
   ]
  },
  {
   "cell_type": "code",
   "execution_count": 72,
   "metadata": {},
   "outputs": [
    {
     "data": {
      "text/plain": [
       "Index(['trial_date', 'ParticipantIdentifier', 'Asleep', 'AsleepCore',\n",
       "       'AsleepDeep', 'AsleepREM', 'Awake', 'InBed'],\n",
       "      dtype='object', name='Value')"
      ]
     },
     "execution_count": 72,
     "metadata": {},
     "output_type": "execute_result"
    }
   ],
   "source": [
    "sleep_df.columns"
   ]
  },
  {
   "cell_type": "code",
   "execution_count": 73,
   "metadata": {},
   "outputs": [
    {
     "data": {
      "text/html": [
       "<div>\n",
       "<style scoped>\n",
       "    .dataframe tbody tr th:only-of-type {\n",
       "        vertical-align: middle;\n",
       "    }\n",
       "\n",
       "    .dataframe tbody tr th {\n",
       "        vertical-align: top;\n",
       "    }\n",
       "\n",
       "    .dataframe thead th {\n",
       "        text-align: right;\n",
       "    }\n",
       "</style>\n",
       "<table border=\"1\" class=\"dataframe\">\n",
       "  <thead>\n",
       "    <tr style=\"text-align: right;\">\n",
       "      <th></th>\n",
       "      <th>trial_date</th>\n",
       "      <th>ParticipantIdentifier</th>\n",
       "      <th>passive_hk_sleep_asleep</th>\n",
       "      <th>passive_hk_sleep_core</th>\n",
       "      <th>passive_hk_sleep_deep</th>\n",
       "      <th>passive_hk_sleep_REM</th>\n",
       "      <th>passive_hk_sleep_awake</th>\n",
       "      <th>passive_hk_sleep_inBed</th>\n",
       "    </tr>\n",
       "  </thead>\n",
       "  <tbody>\n",
       "    <tr>\n",
       "      <th>0</th>\n",
       "      <td>2022-09-08</td>\n",
       "      <td>b032c7ad-4287-4c23-8078-f75d3da262b8</td>\n",
       "      <td>NaN</td>\n",
       "      <td>NaN</td>\n",
       "      <td>NaN</td>\n",
       "      <td>NaN</td>\n",
       "      <td>NaN</td>\n",
       "      <td>225.050000</td>\n",
       "    </tr>\n",
       "    <tr>\n",
       "      <th>1</th>\n",
       "      <td>2022-09-09</td>\n",
       "      <td>b032c7ad-4287-4c23-8078-f75d3da262b8</td>\n",
       "      <td>NaN</td>\n",
       "      <td>NaN</td>\n",
       "      <td>NaN</td>\n",
       "      <td>NaN</td>\n",
       "      <td>NaN</td>\n",
       "      <td>430.266667</td>\n",
       "    </tr>\n",
       "    <tr>\n",
       "      <th>2</th>\n",
       "      <td>2022-09-10</td>\n",
       "      <td>b032c7ad-4287-4c23-8078-f75d3da262b8</td>\n",
       "      <td>NaN</td>\n",
       "      <td>NaN</td>\n",
       "      <td>NaN</td>\n",
       "      <td>NaN</td>\n",
       "      <td>NaN</td>\n",
       "      <td>438.116667</td>\n",
       "    </tr>\n",
       "  </tbody>\n",
       "</table>\n",
       "</div>"
      ],
      "text/plain": [
       "   trial_date                 ParticipantIdentifier  passive_hk_sleep_asleep  \\\n",
       "0  2022-09-08  b032c7ad-4287-4c23-8078-f75d3da262b8                      NaN   \n",
       "1  2022-09-09  b032c7ad-4287-4c23-8078-f75d3da262b8                      NaN   \n",
       "2  2022-09-10  b032c7ad-4287-4c23-8078-f75d3da262b8                      NaN   \n",
       "\n",
       "   passive_hk_sleep_core  passive_hk_sleep_deep  passive_hk_sleep_REM  \\\n",
       "0                    NaN                    NaN                   NaN   \n",
       "1                    NaN                    NaN                   NaN   \n",
       "2                    NaN                    NaN                   NaN   \n",
       "\n",
       "   passive_hk_sleep_awake  passive_hk_sleep_inBed  \n",
       "0                     NaN              225.050000  \n",
       "1                     NaN              430.266667  \n",
       "2                     NaN              438.116667  "
      ]
     },
     "execution_count": 73,
     "metadata": {},
     "output_type": "execute_result"
    }
   ],
   "source": [
    "# Get rid of index name (set to \"Value\")\n",
    "sleep_df.columns.name = None\n",
    "\n",
    "# Rename columns\n",
    "sleep_df.rename(columns={'Asleep': 'passive_hk_sleep_asleep',\n",
    "                         'InBed' : 'passive_hk_sleep_inBed',\n",
    "                         'AsleepCore': 'passive_hk_sleep_core',\n",
    "                         'AsleepDeep': 'passive_hk_sleep_deep',\n",
    "                         'AsleepREM': 'passive_hk_sleep_REM',\n",
    "                         'Awake': 'passive_hk_sleep_awake'\n",
    "                         \n",
    "                  }, inplace=True)\n",
    "\n",
    "sleep_df.head(3)"
   ]
  },
  {
   "cell_type": "markdown",
   "metadata": {},
   "source": [
    "### Join HK"
   ]
  },
  {
   "cell_type": "code",
   "execution_count": 75,
   "metadata": {},
   "outputs": [
    {
     "data": {
      "text/html": [
       "<div>\n",
       "<style scoped>\n",
       "    .dataframe tbody tr th:only-of-type {\n",
       "        vertical-align: middle;\n",
       "    }\n",
       "\n",
       "    .dataframe tbody tr th {\n",
       "        vertical-align: top;\n",
       "    }\n",
       "\n",
       "    .dataframe thead th {\n",
       "        text-align: right;\n",
       "    }\n",
       "</style>\n",
       "<table border=\"1\" class=\"dataframe\">\n",
       "  <thead>\n",
       "    <tr style=\"text-align: right;\">\n",
       "      <th></th>\n",
       "      <th>trial_date</th>\n",
       "      <th>ParticipantIdentifier</th>\n",
       "      <th>passive_hk_activity_activeEnergyBurned</th>\n",
       "      <th>passive_hk_activity_appleStandTime</th>\n",
       "      <th>passive_hk_activity_distanceCycling</th>\n",
       "      <th>passive_hk_activity_distanceWalkingRunning</th>\n",
       "      <th>passive_hk_activity_restingEnergyBurned</th>\n",
       "      <th>passive_hk_activity_steps</th>\n",
       "      <th>passive_hk_activity_averageWalkingSpeed</th>\n",
       "      <th>passive_hk_hr_variability</th>\n",
       "      <th>passive_hk_hr_resting</th>\n",
       "      <th>passive_hk_hr_averageWalking</th>\n",
       "      <th>passive_hk_sleep_asleep</th>\n",
       "      <th>passive_hk_sleep_core</th>\n",
       "      <th>passive_hk_sleep_deep</th>\n",
       "      <th>passive_hk_sleep_REM</th>\n",
       "      <th>passive_hk_sleep_awake</th>\n",
       "      <th>passive_hk_sleep_inBed</th>\n",
       "    </tr>\n",
       "  </thead>\n",
       "  <tbody>\n",
       "    <tr>\n",
       "      <th>0</th>\n",
       "      <td>2022-09-08</td>\n",
       "      <td>b032c7ad-4287-4c23-8078-f75d3da262b8</td>\n",
       "      <td>NaN</td>\n",
       "      <td>NaN</td>\n",
       "      <td>NaN</td>\n",
       "      <td>346.660000</td>\n",
       "      <td>NaN</td>\n",
       "      <td>545.0</td>\n",
       "      <td>0.895</td>\n",
       "      <td>NaN</td>\n",
       "      <td>NaN</td>\n",
       "      <td>NaN</td>\n",
       "      <td>NaN</td>\n",
       "      <td>NaN</td>\n",
       "      <td>NaN</td>\n",
       "      <td>NaN</td>\n",
       "      <td>NaN</td>\n",
       "      <td>225.05</td>\n",
       "    </tr>\n",
       "    <tr>\n",
       "      <th>1</th>\n",
       "      <td>2022-09-09</td>\n",
       "      <td>147400db-43d9-4155-8bf2-b85b8adf4315</td>\n",
       "      <td>194.443</td>\n",
       "      <td>71.0</td>\n",
       "      <td>NaN</td>\n",
       "      <td>4002.801667</td>\n",
       "      <td>948.472</td>\n",
       "      <td>6043.0</td>\n",
       "      <td>1.009</td>\n",
       "      <td>27.943125</td>\n",
       "      <td>NaN</td>\n",
       "      <td>NaN</td>\n",
       "      <td>NaN</td>\n",
       "      <td>NaN</td>\n",
       "      <td>NaN</td>\n",
       "      <td>NaN</td>\n",
       "      <td>NaN</td>\n",
       "      <td>NaN</td>\n",
       "    </tr>\n",
       "    <tr>\n",
       "      <th>2</th>\n",
       "      <td>2022-09-09</td>\n",
       "      <td>25ca39d7-4279-48fd-903f-d0927adadb77</td>\n",
       "      <td>8.030</td>\n",
       "      <td>1.0</td>\n",
       "      <td>NaN</td>\n",
       "      <td>51.543363</td>\n",
       "      <td>784.065</td>\n",
       "      <td>61.0</td>\n",
       "      <td>NaN</td>\n",
       "      <td>NaN</td>\n",
       "      <td>NaN</td>\n",
       "      <td>NaN</td>\n",
       "      <td>NaN</td>\n",
       "      <td>NaN</td>\n",
       "      <td>NaN</td>\n",
       "      <td>NaN</td>\n",
       "      <td>NaN</td>\n",
       "      <td>NaN</td>\n",
       "    </tr>\n",
       "  </tbody>\n",
       "</table>\n",
       "</div>"
      ],
      "text/plain": [
       "   trial_date                 ParticipantIdentifier  \\\n",
       "0  2022-09-08  b032c7ad-4287-4c23-8078-f75d3da262b8   \n",
       "1  2022-09-09  147400db-43d9-4155-8bf2-b85b8adf4315   \n",
       "2  2022-09-09  25ca39d7-4279-48fd-903f-d0927adadb77   \n",
       "\n",
       "   passive_hk_activity_activeEnergyBurned  passive_hk_activity_appleStandTime  \\\n",
       "0                                     NaN                                 NaN   \n",
       "1                                 194.443                                71.0   \n",
       "2                                   8.030                                 1.0   \n",
       "\n",
       "   passive_hk_activity_distanceCycling  \\\n",
       "0                                  NaN   \n",
       "1                                  NaN   \n",
       "2                                  NaN   \n",
       "\n",
       "   passive_hk_activity_distanceWalkingRunning  \\\n",
       "0                                  346.660000   \n",
       "1                                 4002.801667   \n",
       "2                                   51.543363   \n",
       "\n",
       "   passive_hk_activity_restingEnergyBurned  passive_hk_activity_steps  \\\n",
       "0                                      NaN                      545.0   \n",
       "1                                  948.472                     6043.0   \n",
       "2                                  784.065                       61.0   \n",
       "\n",
       "   passive_hk_activity_averageWalkingSpeed  passive_hk_hr_variability  \\\n",
       "0                                    0.895                        NaN   \n",
       "1                                    1.009                  27.943125   \n",
       "2                                      NaN                        NaN   \n",
       "\n",
       "   passive_hk_hr_resting  passive_hk_hr_averageWalking  \\\n",
       "0                    NaN                           NaN   \n",
       "1                    NaN                           NaN   \n",
       "2                    NaN                           NaN   \n",
       "\n",
       "   passive_hk_sleep_asleep  passive_hk_sleep_core  passive_hk_sleep_deep  \\\n",
       "0                      NaN                    NaN                    NaN   \n",
       "1                      NaN                    NaN                    NaN   \n",
       "2                      NaN                    NaN                    NaN   \n",
       "\n",
       "   passive_hk_sleep_REM  passive_hk_sleep_awake  passive_hk_sleep_inBed  \n",
       "0                   NaN                     NaN                  225.05  \n",
       "1                   NaN                     NaN                     NaN  \n",
       "2                   NaN                     NaN                     NaN  "
      ]
     },
     "execution_count": 75,
     "metadata": {},
     "output_type": "execute_result"
    }
   ],
   "source": [
    "# join\n",
    "df_passive_hk = df_activity.merge(df_hr, how='left', on=['ParticipantIdentifier', 'trial_date'])\n",
    "df_passive_hk = df_passive_hk.merge(sleep_df, how='left', on=['ParticipantIdentifier', 'trial_date'])\n",
    "df_passive_hk.head(3)"
   ]
  },
  {
   "cell_type": "code",
   "execution_count": 77,
   "metadata": {},
   "outputs": [],
   "source": [
    "# save to csv\n",
    "df_passive_hk.to_csv(save_path + 'run1_hkPassive.csv', index=False)"
   ]
  },
  {
   "cell_type": "markdown",
   "metadata": {},
   "source": [
    "## Sensor Kit"
   ]
  },
  {
   "cell_type": "markdown",
   "metadata": {},
   "source": [
    "### Device Usage"
   ]
  },
  {
   "cell_type": "code",
   "execution_count": 249,
   "metadata": {},
   "outputs": [],
   "source": [
    "sk_device = pd.read_csv(save_path + 'run1_sk_deviceUsage.csv')"
   ]
  },
  {
   "cell_type": "code",
   "execution_count": 250,
   "metadata": {},
   "outputs": [
    {
     "data": {
      "text/plain": [
       "(478557, 68)"
      ]
     },
     "execution_count": 250,
     "metadata": {},
     "output_type": "execute_result"
    }
   ],
   "source": [
    "sk_device.shape"
   ]
  },
  {
   "cell_type": "code",
   "execution_count": 251,
   "metadata": {},
   "outputs": [
    {
     "data": {
      "text/plain": [
       "'2022-12-23'"
      ]
     },
     "execution_count": 251,
     "metadata": {},
     "output_type": "execute_result"
    }
   ],
   "source": [
    "sk_device.trial_date.max()"
   ]
  },
  {
   "cell_type": "code",
   "execution_count": 252,
   "metadata": {},
   "outputs": [
    {
     "data": {
      "text/html": [
       "<div>\n",
       "<style scoped>\n",
       "    .dataframe tbody tr th:only-of-type {\n",
       "        vertical-align: middle;\n",
       "    }\n",
       "\n",
       "    .dataframe tbody tr th {\n",
       "        vertical-align: top;\n",
       "    }\n",
       "\n",
       "    .dataframe thead th {\n",
       "        text-align: right;\n",
       "    }\n",
       "</style>\n",
       "<table border=\"1\" class=\"dataframe\">\n",
       "  <thead>\n",
       "    <tr style=\"text-align: right;\">\n",
       "      <th></th>\n",
       "      <th>Unnamed: 0</th>\n",
       "      <th>ParticipantIdentifier</th>\n",
       "      <th>datetime</th>\n",
       "      <th>trial_date</th>\n",
       "      <th>time</th>\n",
       "      <th>duration</th>\n",
       "      <th>total_unlocks</th>\n",
       "      <th>total_unlock_duration</th>\n",
       "      <th>app_usage_books</th>\n",
       "      <th>app_usage_business</th>\n",
       "      <th>...</th>\n",
       "      <th>web_usage_reference</th>\n",
       "      <th>web_usage_shopping</th>\n",
       "      <th>web_usage_social_networking</th>\n",
       "      <th>web_usage_sports</th>\n",
       "      <th>web_usage_stickers</th>\n",
       "      <th>web_usage_travel</th>\n",
       "      <th>web_usage_utilities</th>\n",
       "      <th>web_usage_weather</th>\n",
       "      <th>app_usage_social_network</th>\n",
       "      <th>web_usage_utilities_miscellaneous</th>\n",
       "    </tr>\n",
       "  </thead>\n",
       "  <tbody>\n",
       "    <tr>\n",
       "      <th>45480</th>\n",
       "      <td>45480</td>\n",
       "      <td>5e509967-0d3b-4fe1-a275-231ba42473d5</td>\n",
       "      <td>2022-11-05 04:00:00-04:00</td>\n",
       "      <td>2022-11-05</td>\n",
       "      <td>04:00:00</td>\n",
       "      <td>900</td>\n",
       "      <td>0</td>\n",
       "      <td>0.0</td>\n",
       "      <td>NaN</td>\n",
       "      <td>NaN</td>\n",
       "      <td>...</td>\n",
       "      <td>NaN</td>\n",
       "      <td>NaN</td>\n",
       "      <td>NaN</td>\n",
       "      <td>NaN</td>\n",
       "      <td>NaN</td>\n",
       "      <td>NaN</td>\n",
       "      <td>NaN</td>\n",
       "      <td>NaN</td>\n",
       "      <td>NaN</td>\n",
       "      <td>NaN</td>\n",
       "    </tr>\n",
       "    <tr>\n",
       "      <th>45481</th>\n",
       "      <td>45481</td>\n",
       "      <td>5e509967-0d3b-4fe1-a275-231ba42473d5</td>\n",
       "      <td>2022-11-05 04:15:00-04:00</td>\n",
       "      <td>2022-11-05</td>\n",
       "      <td>04:15:00</td>\n",
       "      <td>900</td>\n",
       "      <td>0</td>\n",
       "      <td>0.0</td>\n",
       "      <td>NaN</td>\n",
       "      <td>NaN</td>\n",
       "      <td>...</td>\n",
       "      <td>NaN</td>\n",
       "      <td>NaN</td>\n",
       "      <td>NaN</td>\n",
       "      <td>NaN</td>\n",
       "      <td>NaN</td>\n",
       "      <td>NaN</td>\n",
       "      <td>NaN</td>\n",
       "      <td>NaN</td>\n",
       "      <td>NaN</td>\n",
       "      <td>NaN</td>\n",
       "    </tr>\n",
       "    <tr>\n",
       "      <th>45482</th>\n",
       "      <td>45482</td>\n",
       "      <td>5e509967-0d3b-4fe1-a275-231ba42473d5</td>\n",
       "      <td>2022-11-05 04:30:00-04:00</td>\n",
       "      <td>2022-11-05</td>\n",
       "      <td>04:30:00</td>\n",
       "      <td>900</td>\n",
       "      <td>0</td>\n",
       "      <td>0.0</td>\n",
       "      <td>NaN</td>\n",
       "      <td>NaN</td>\n",
       "      <td>...</td>\n",
       "      <td>NaN</td>\n",
       "      <td>NaN</td>\n",
       "      <td>NaN</td>\n",
       "      <td>NaN</td>\n",
       "      <td>NaN</td>\n",
       "      <td>NaN</td>\n",
       "      <td>NaN</td>\n",
       "      <td>NaN</td>\n",
       "      <td>NaN</td>\n",
       "      <td>NaN</td>\n",
       "    </tr>\n",
       "    <tr>\n",
       "      <th>45483</th>\n",
       "      <td>45483</td>\n",
       "      <td>5e509967-0d3b-4fe1-a275-231ba42473d5</td>\n",
       "      <td>2022-11-05 04:45:00-04:00</td>\n",
       "      <td>2022-11-05</td>\n",
       "      <td>04:45:00</td>\n",
       "      <td>900</td>\n",
       "      <td>0</td>\n",
       "      <td>0.0</td>\n",
       "      <td>NaN</td>\n",
       "      <td>NaN</td>\n",
       "      <td>...</td>\n",
       "      <td>NaN</td>\n",
       "      <td>NaN</td>\n",
       "      <td>NaN</td>\n",
       "      <td>NaN</td>\n",
       "      <td>NaN</td>\n",
       "      <td>NaN</td>\n",
       "      <td>NaN</td>\n",
       "      <td>NaN</td>\n",
       "      <td>NaN</td>\n",
       "      <td>NaN</td>\n",
       "    </tr>\n",
       "    <tr>\n",
       "      <th>45484</th>\n",
       "      <td>45484</td>\n",
       "      <td>5e509967-0d3b-4fe1-a275-231ba42473d5</td>\n",
       "      <td>2022-11-05 05:00:00-04:00</td>\n",
       "      <td>2022-11-05</td>\n",
       "      <td>05:00:00</td>\n",
       "      <td>900</td>\n",
       "      <td>0</td>\n",
       "      <td>0.0</td>\n",
       "      <td>NaN</td>\n",
       "      <td>NaN</td>\n",
       "      <td>...</td>\n",
       "      <td>NaN</td>\n",
       "      <td>NaN</td>\n",
       "      <td>NaN</td>\n",
       "      <td>NaN</td>\n",
       "      <td>NaN</td>\n",
       "      <td>NaN</td>\n",
       "      <td>NaN</td>\n",
       "      <td>NaN</td>\n",
       "      <td>NaN</td>\n",
       "      <td>NaN</td>\n",
       "    </tr>\n",
       "    <tr>\n",
       "      <th>...</th>\n",
       "      <td>...</td>\n",
       "      <td>...</td>\n",
       "      <td>...</td>\n",
       "      <td>...</td>\n",
       "      <td>...</td>\n",
       "      <td>...</td>\n",
       "      <td>...</td>\n",
       "      <td>...</td>\n",
       "      <td>...</td>\n",
       "      <td>...</td>\n",
       "      <td>...</td>\n",
       "      <td>...</td>\n",
       "      <td>...</td>\n",
       "      <td>...</td>\n",
       "      <td>...</td>\n",
       "      <td>...</td>\n",
       "      <td>...</td>\n",
       "      <td>...</td>\n",
       "      <td>...</td>\n",
       "      <td>...</td>\n",
       "      <td>...</td>\n",
       "    </tr>\n",
       "    <tr>\n",
       "      <th>266917</th>\n",
       "      <td>266917</td>\n",
       "      <td>92863208-10a4-443b-a225-18630552f5cc</td>\n",
       "      <td>2022-11-06 02:45:00-05:00</td>\n",
       "      <td>2022-11-05</td>\n",
       "      <td>02:45:00</td>\n",
       "      <td>900</td>\n",
       "      <td>0</td>\n",
       "      <td>0.0</td>\n",
       "      <td>NaN</td>\n",
       "      <td>NaN</td>\n",
       "      <td>...</td>\n",
       "      <td>NaN</td>\n",
       "      <td>NaN</td>\n",
       "      <td>NaN</td>\n",
       "      <td>NaN</td>\n",
       "      <td>NaN</td>\n",
       "      <td>NaN</td>\n",
       "      <td>NaN</td>\n",
       "      <td>NaN</td>\n",
       "      <td>NaN</td>\n",
       "      <td>NaN</td>\n",
       "    </tr>\n",
       "    <tr>\n",
       "      <th>266918</th>\n",
       "      <td>266918</td>\n",
       "      <td>92863208-10a4-443b-a225-18630552f5cc</td>\n",
       "      <td>2022-11-06 03:00:00-05:00</td>\n",
       "      <td>2022-11-05</td>\n",
       "      <td>03:00:00</td>\n",
       "      <td>900</td>\n",
       "      <td>0</td>\n",
       "      <td>0.0</td>\n",
       "      <td>NaN</td>\n",
       "      <td>NaN</td>\n",
       "      <td>...</td>\n",
       "      <td>NaN</td>\n",
       "      <td>NaN</td>\n",
       "      <td>NaN</td>\n",
       "      <td>NaN</td>\n",
       "      <td>NaN</td>\n",
       "      <td>NaN</td>\n",
       "      <td>NaN</td>\n",
       "      <td>NaN</td>\n",
       "      <td>NaN</td>\n",
       "      <td>NaN</td>\n",
       "    </tr>\n",
       "    <tr>\n",
       "      <th>266919</th>\n",
       "      <td>266919</td>\n",
       "      <td>92863208-10a4-443b-a225-18630552f5cc</td>\n",
       "      <td>2022-11-06 03:15:00-05:00</td>\n",
       "      <td>2022-11-05</td>\n",
       "      <td>03:15:00</td>\n",
       "      <td>900</td>\n",
       "      <td>0</td>\n",
       "      <td>0.0</td>\n",
       "      <td>NaN</td>\n",
       "      <td>NaN</td>\n",
       "      <td>...</td>\n",
       "      <td>NaN</td>\n",
       "      <td>NaN</td>\n",
       "      <td>NaN</td>\n",
       "      <td>NaN</td>\n",
       "      <td>NaN</td>\n",
       "      <td>NaN</td>\n",
       "      <td>NaN</td>\n",
       "      <td>NaN</td>\n",
       "      <td>NaN</td>\n",
       "      <td>NaN</td>\n",
       "    </tr>\n",
       "    <tr>\n",
       "      <th>266920</th>\n",
       "      <td>266920</td>\n",
       "      <td>92863208-10a4-443b-a225-18630552f5cc</td>\n",
       "      <td>2022-11-06 03:30:00-05:00</td>\n",
       "      <td>2022-11-05</td>\n",
       "      <td>03:30:00</td>\n",
       "      <td>900</td>\n",
       "      <td>0</td>\n",
       "      <td>0.0</td>\n",
       "      <td>NaN</td>\n",
       "      <td>NaN</td>\n",
       "      <td>...</td>\n",
       "      <td>NaN</td>\n",
       "      <td>NaN</td>\n",
       "      <td>NaN</td>\n",
       "      <td>NaN</td>\n",
       "      <td>NaN</td>\n",
       "      <td>NaN</td>\n",
       "      <td>NaN</td>\n",
       "      <td>NaN</td>\n",
       "      <td>NaN</td>\n",
       "      <td>NaN</td>\n",
       "    </tr>\n",
       "    <tr>\n",
       "      <th>266921</th>\n",
       "      <td>266921</td>\n",
       "      <td>92863208-10a4-443b-a225-18630552f5cc</td>\n",
       "      <td>2022-11-06 03:45:00-05:00</td>\n",
       "      <td>2022-11-05</td>\n",
       "      <td>03:45:00</td>\n",
       "      <td>900</td>\n",
       "      <td>0</td>\n",
       "      <td>0.0</td>\n",
       "      <td>NaN</td>\n",
       "      <td>NaN</td>\n",
       "      <td>...</td>\n",
       "      <td>NaN</td>\n",
       "      <td>NaN</td>\n",
       "      <td>NaN</td>\n",
       "      <td>NaN</td>\n",
       "      <td>NaN</td>\n",
       "      <td>NaN</td>\n",
       "      <td>NaN</td>\n",
       "      <td>NaN</td>\n",
       "      <td>NaN</td>\n",
       "      <td>NaN</td>\n",
       "    </tr>\n",
       "  </tbody>\n",
       "</table>\n",
       "<p>10207 rows × 68 columns</p>\n",
       "</div>"
      ],
      "text/plain": [
       "        Unnamed: 0                 ParticipantIdentifier  \\\n",
       "45480        45480  5e509967-0d3b-4fe1-a275-231ba42473d5   \n",
       "45481        45481  5e509967-0d3b-4fe1-a275-231ba42473d5   \n",
       "45482        45482  5e509967-0d3b-4fe1-a275-231ba42473d5   \n",
       "45483        45483  5e509967-0d3b-4fe1-a275-231ba42473d5   \n",
       "45484        45484  5e509967-0d3b-4fe1-a275-231ba42473d5   \n",
       "...            ...                                   ...   \n",
       "266917      266917  92863208-10a4-443b-a225-18630552f5cc   \n",
       "266918      266918  92863208-10a4-443b-a225-18630552f5cc   \n",
       "266919      266919  92863208-10a4-443b-a225-18630552f5cc   \n",
       "266920      266920  92863208-10a4-443b-a225-18630552f5cc   \n",
       "266921      266921  92863208-10a4-443b-a225-18630552f5cc   \n",
       "\n",
       "                         datetime  trial_date      time  duration  \\\n",
       "45480   2022-11-05 04:00:00-04:00  2022-11-05  04:00:00       900   \n",
       "45481   2022-11-05 04:15:00-04:00  2022-11-05  04:15:00       900   \n",
       "45482   2022-11-05 04:30:00-04:00  2022-11-05  04:30:00       900   \n",
       "45483   2022-11-05 04:45:00-04:00  2022-11-05  04:45:00       900   \n",
       "45484   2022-11-05 05:00:00-04:00  2022-11-05  05:00:00       900   \n",
       "...                           ...         ...       ...       ...   \n",
       "266917  2022-11-06 02:45:00-05:00  2022-11-05  02:45:00       900   \n",
       "266918  2022-11-06 03:00:00-05:00  2022-11-05  03:00:00       900   \n",
       "266919  2022-11-06 03:15:00-05:00  2022-11-05  03:15:00       900   \n",
       "266920  2022-11-06 03:30:00-05:00  2022-11-05  03:30:00       900   \n",
       "266921  2022-11-06 03:45:00-05:00  2022-11-05  03:45:00       900   \n",
       "\n",
       "        total_unlocks  total_unlock_duration  app_usage_books  \\\n",
       "45480               0                    0.0              NaN   \n",
       "45481               0                    0.0              NaN   \n",
       "45482               0                    0.0              NaN   \n",
       "45483               0                    0.0              NaN   \n",
       "45484               0                    0.0              NaN   \n",
       "...               ...                    ...              ...   \n",
       "266917              0                    0.0              NaN   \n",
       "266918              0                    0.0              NaN   \n",
       "266919              0                    0.0              NaN   \n",
       "266920              0                    0.0              NaN   \n",
       "266921              0                    0.0              NaN   \n",
       "\n",
       "        app_usage_business  ...  web_usage_reference  web_usage_shopping  \\\n",
       "45480                  NaN  ...                  NaN                 NaN   \n",
       "45481                  NaN  ...                  NaN                 NaN   \n",
       "45482                  NaN  ...                  NaN                 NaN   \n",
       "45483                  NaN  ...                  NaN                 NaN   \n",
       "45484                  NaN  ...                  NaN                 NaN   \n",
       "...                    ...  ...                  ...                 ...   \n",
       "266917                 NaN  ...                  NaN                 NaN   \n",
       "266918                 NaN  ...                  NaN                 NaN   \n",
       "266919                 NaN  ...                  NaN                 NaN   \n",
       "266920                 NaN  ...                  NaN                 NaN   \n",
       "266921                 NaN  ...                  NaN                 NaN   \n",
       "\n",
       "        web_usage_social_networking  web_usage_sports  web_usage_stickers  \\\n",
       "45480                           NaN               NaN                 NaN   \n",
       "45481                           NaN               NaN                 NaN   \n",
       "45482                           NaN               NaN                 NaN   \n",
       "45483                           NaN               NaN                 NaN   \n",
       "45484                           NaN               NaN                 NaN   \n",
       "...                             ...               ...                 ...   \n",
       "266917                          NaN               NaN                 NaN   \n",
       "266918                          NaN               NaN                 NaN   \n",
       "266919                          NaN               NaN                 NaN   \n",
       "266920                          NaN               NaN                 NaN   \n",
       "266921                          NaN               NaN                 NaN   \n",
       "\n",
       "        web_usage_travel  web_usage_utilities  web_usage_weather  \\\n",
       "45480                NaN                  NaN                NaN   \n",
       "45481                NaN                  NaN                NaN   \n",
       "45482                NaN                  NaN                NaN   \n",
       "45483                NaN                  NaN                NaN   \n",
       "45484                NaN                  NaN                NaN   \n",
       "...                  ...                  ...                ...   \n",
       "266917               NaN                  NaN                NaN   \n",
       "266918               NaN                  NaN                NaN   \n",
       "266919               NaN                  NaN                NaN   \n",
       "266920               NaN                  NaN                NaN   \n",
       "266921               NaN                  NaN                NaN   \n",
       "\n",
       "        app_usage_social_network  web_usage_utilities_miscellaneous  \n",
       "45480                        NaN                                NaN  \n",
       "45481                        NaN                                NaN  \n",
       "45482                        NaN                                NaN  \n",
       "45483                        NaN                                NaN  \n",
       "45484                        NaN                                NaN  \n",
       "...                          ...                                ...  \n",
       "266917                       NaN                                NaN  \n",
       "266918                       NaN                                NaN  \n",
       "266919                       NaN                                NaN  \n",
       "266920                       NaN                                NaN  \n",
       "266921                       NaN                                NaN  \n",
       "\n",
       "[10207 rows x 68 columns]"
      ]
     },
     "execution_count": 252,
     "metadata": {},
     "output_type": "execute_result"
    }
   ],
   "source": [
    "sk_device.loc[sk_device.trial_date == '2022-11-05']"
   ]
  },
  {
   "cell_type": "code",
   "execution_count": 253,
   "metadata": {},
   "outputs": [
    {
     "data": {
      "text/plain": [
       "Index(['Unnamed: 0', 'ParticipantIdentifier', 'datetime', 'trial_date', 'time',\n",
       "       'duration', 'total_unlocks', 'total_unlock_duration', 'app_usage_books',\n",
       "       'app_usage_business', 'app_usage_catalogs', 'app_usage_developer_tools',\n",
       "       'app_usage_education', 'app_usage_entertainment', 'app_usage_finance',\n",
       "       'app_usage_food_and_drink', 'app_usage_games',\n",
       "       'app_usage_graphics_and_design', 'app_usage_health_and_fitness',\n",
       "       'app_usage_kids', 'app_usage_lifestyle', 'app_usage_medical',\n",
       "       'app_usage_miscellaneous', 'app_usage_music', 'app_usage_navigation',\n",
       "       'app_usage_news', 'app_usage_newsstand', 'app_usage_photo_and_video',\n",
       "       'app_usage_productivity', 'app_usage_reference', 'app_usage_shopping',\n",
       "       'app_usage_social_networking', 'app_usage_sports', 'app_usage_stickers',\n",
       "       'app_usage_travel', 'app_usage_utilities', 'app_usage_weather',\n",
       "       'web_usage_books', 'web_usage_business', 'web_usage_catalogs',\n",
       "       'web_usage_developer_tools', 'web_usage_education',\n",
       "       'web_usage_entertainment', 'web_usage_finance',\n",
       "       'web_usage_food_and_drink', 'web_usage_games',\n",
       "       'web_usage_graphics_and_design', 'web_usage_health_and_fitness',\n",
       "       'web_usage_kids', 'web_usage_lifestyle', 'web_usage_medical',\n",
       "       'web_usage_miscellaneous', 'web_usage_music', 'web_usage_navigation',\n",
       "       'web_usage_news', 'web_usage_newsstand', 'web_usage_photo_and_video',\n",
       "       'web_usage_productivity', 'web_usage_reference', 'web_usage_shopping',\n",
       "       'web_usage_social_networking', 'web_usage_sports', 'web_usage_stickers',\n",
       "       'web_usage_travel', 'web_usage_utilities', 'web_usage_weather',\n",
       "       'app_usage_social_network', 'web_usage_utilities_miscellaneous'],\n",
       "      dtype='object')"
      ]
     },
     "execution_count": 253,
     "metadata": {},
     "output_type": "execute_result"
    }
   ],
   "source": [
    "sk_device.columns"
   ]
  },
  {
   "cell_type": "code",
   "execution_count": 254,
   "metadata": {},
   "outputs": [],
   "source": [
    "agg_cols = ['total_unlocks', 'total_unlock_duration', 'app_usage_books',\n",
    "       'app_usage_business', 'app_usage_catalogs', 'app_usage_developer_tools',\n",
    "       'app_usage_education', 'app_usage_entertainment', 'app_usage_finance',\n",
    "       'app_usage_food_and_drink', 'app_usage_games',\n",
    "       'app_usage_graphics_and_design', 'app_usage_health_and_fitness',\n",
    "       'app_usage_kids', 'app_usage_lifestyle', 'app_usage_medical',\n",
    "       'app_usage_miscellaneous', 'app_usage_music', 'app_usage_navigation',\n",
    "       'app_usage_news', 'app_usage_newsstand', 'app_usage_photo_and_video',\n",
    "       'app_usage_productivity', 'app_usage_reference', 'app_usage_shopping',\n",
    "       'app_usage_social_networking', 'app_usage_sports', 'app_usage_stickers',\n",
    "       'app_usage_travel', 'app_usage_utilities', 'app_usage_weather',\n",
    "       'web_usage_books', 'web_usage_business', 'web_usage_catalogs',\n",
    "       'web_usage_developer_tools', 'web_usage_education',\n",
    "       'web_usage_entertainment', 'web_usage_finance',\n",
    "       'web_usage_food_and_drink', 'web_usage_games',\n",
    "       'web_usage_graphics_and_design', 'web_usage_health_and_fitness',\n",
    "       'web_usage_kids', 'web_usage_lifestyle', 'web_usage_medical',\n",
    "       'web_usage_miscellaneous', 'web_usage_music', 'web_usage_navigation',\n",
    "       'web_usage_news', 'web_usage_newsstand', 'web_usage_photo_and_video',\n",
    "       'web_usage_productivity', 'web_usage_reference', 'web_usage_shopping',\n",
    "       'web_usage_social_networking', 'web_usage_sports', 'web_usage_stickers',\n",
    "       'web_usage_travel', 'web_usage_utilities', 'web_usage_weather',\n",
    "       'app_usage_social_network', 'web_usage_utilities_miscellaneous'\n",
    "]"
   ]
  },
  {
   "cell_type": "code",
   "execution_count": 255,
   "metadata": {},
   "outputs": [],
   "source": [
    "sk_device = pd.DataFrame(sk_device.groupby(['trial_date','ParticipantIdentifier'])[agg_cols].sum()).reset_index()"
   ]
  },
  {
   "cell_type": "code",
   "execution_count": 256,
   "metadata": {},
   "outputs": [
    {
     "data": {
      "text/html": [
       "<div>\n",
       "<style scoped>\n",
       "    .dataframe tbody tr th:only-of-type {\n",
       "        vertical-align: middle;\n",
       "    }\n",
       "\n",
       "    .dataframe tbody tr th {\n",
       "        vertical-align: top;\n",
       "    }\n",
       "\n",
       "    .dataframe thead th {\n",
       "        text-align: right;\n",
       "    }\n",
       "</style>\n",
       "<table border=\"1\" class=\"dataframe\">\n",
       "  <thead>\n",
       "    <tr style=\"text-align: right;\">\n",
       "      <th></th>\n",
       "      <th>trial_date</th>\n",
       "      <th>ParticipantIdentifier</th>\n",
       "      <th>passive_sk_deviceUsage_total_unlocks</th>\n",
       "      <th>passive_sk_deviceUsage_total_unlock_duration</th>\n",
       "      <th>passive_sk_deviceUsage_app_usage_books</th>\n",
       "      <th>passive_sk_deviceUsage_app_usage_business</th>\n",
       "      <th>passive_sk_deviceUsage_app_usage_catalogs</th>\n",
       "      <th>passive_sk_deviceUsage_app_usage_developer_tools</th>\n",
       "      <th>passive_sk_deviceUsage_app_usage_education</th>\n",
       "      <th>passive_sk_deviceUsage_app_usage_entertainment</th>\n",
       "      <th>...</th>\n",
       "      <th>passive_sk_deviceUsage_web_usage_reference</th>\n",
       "      <th>passive_sk_deviceUsage_web_usage_shopping</th>\n",
       "      <th>passive_sk_deviceUsage_web_usage_social_networking</th>\n",
       "      <th>passive_sk_deviceUsage_web_usage_sports</th>\n",
       "      <th>passive_sk_deviceUsage_web_usage_stickers</th>\n",
       "      <th>passive_sk_deviceUsage_web_usage_travel</th>\n",
       "      <th>passive_sk_deviceUsage_web_usage_utilities</th>\n",
       "      <th>passive_sk_deviceUsage_web_usage_weather</th>\n",
       "      <th>passive_sk_deviceUsage_app_usage_social_network</th>\n",
       "      <th>passive_sk_deviceUsage_web_usage_utilities_miscellaneous</th>\n",
       "    </tr>\n",
       "  </thead>\n",
       "  <tbody>\n",
       "    <tr>\n",
       "      <th>0</th>\n",
       "      <td>2022-09-22</td>\n",
       "      <td>099765a5-a9c9-4fff-b297-a39eab517267</td>\n",
       "      <td>120</td>\n",
       "      <td>10269.0</td>\n",
       "      <td>0.0</td>\n",
       "      <td>0.0</td>\n",
       "      <td>0.0</td>\n",
       "      <td>0.0</td>\n",
       "      <td>0.0</td>\n",
       "      <td>1590.0</td>\n",
       "      <td>...</td>\n",
       "      <td>0.0</td>\n",
       "      <td>0.0</td>\n",
       "      <td>0.0</td>\n",
       "      <td>0.0</td>\n",
       "      <td>0.0</td>\n",
       "      <td>0.0</td>\n",
       "      <td>0.0</td>\n",
       "      <td>0.0</td>\n",
       "      <td>446.0</td>\n",
       "      <td>26.0</td>\n",
       "    </tr>\n",
       "    <tr>\n",
       "      <th>1</th>\n",
       "      <td>2022-09-23</td>\n",
       "      <td>099765a5-a9c9-4fff-b297-a39eab517267</td>\n",
       "      <td>163</td>\n",
       "      <td>20769.0</td>\n",
       "      <td>50.0</td>\n",
       "      <td>0.0</td>\n",
       "      <td>0.0</td>\n",
       "      <td>0.0</td>\n",
       "      <td>96.0</td>\n",
       "      <td>2268.0</td>\n",
       "      <td>...</td>\n",
       "      <td>0.0</td>\n",
       "      <td>0.0</td>\n",
       "      <td>2.0</td>\n",
       "      <td>0.0</td>\n",
       "      <td>0.0</td>\n",
       "      <td>0.0</td>\n",
       "      <td>0.0</td>\n",
       "      <td>0.0</td>\n",
       "      <td>264.0</td>\n",
       "      <td>81.0</td>\n",
       "    </tr>\n",
       "    <tr>\n",
       "      <th>2</th>\n",
       "      <td>2022-09-23</td>\n",
       "      <td>2dd6e3c2-398e-4de2-bce3-280069760001</td>\n",
       "      <td>6</td>\n",
       "      <td>7796.0</td>\n",
       "      <td>0.0</td>\n",
       "      <td>0.0</td>\n",
       "      <td>0.0</td>\n",
       "      <td>0.0</td>\n",
       "      <td>0.0</td>\n",
       "      <td>0.0</td>\n",
       "      <td>...</td>\n",
       "      <td>0.0</td>\n",
       "      <td>0.0</td>\n",
       "      <td>0.0</td>\n",
       "      <td>0.0</td>\n",
       "      <td>0.0</td>\n",
       "      <td>0.0</td>\n",
       "      <td>0.0</td>\n",
       "      <td>0.0</td>\n",
       "      <td>0.0</td>\n",
       "      <td>0.0</td>\n",
       "    </tr>\n",
       "  </tbody>\n",
       "</table>\n",
       "<p>3 rows × 64 columns</p>\n",
       "</div>"
      ],
      "text/plain": [
       "   trial_date                 ParticipantIdentifier  \\\n",
       "0  2022-09-22  099765a5-a9c9-4fff-b297-a39eab517267   \n",
       "1  2022-09-23  099765a5-a9c9-4fff-b297-a39eab517267   \n",
       "2  2022-09-23  2dd6e3c2-398e-4de2-bce3-280069760001   \n",
       "\n",
       "   passive_sk_deviceUsage_total_unlocks  \\\n",
       "0                                   120   \n",
       "1                                   163   \n",
       "2                                     6   \n",
       "\n",
       "   passive_sk_deviceUsage_total_unlock_duration  \\\n",
       "0                                       10269.0   \n",
       "1                                       20769.0   \n",
       "2                                        7796.0   \n",
       "\n",
       "   passive_sk_deviceUsage_app_usage_books  \\\n",
       "0                                     0.0   \n",
       "1                                    50.0   \n",
       "2                                     0.0   \n",
       "\n",
       "   passive_sk_deviceUsage_app_usage_business  \\\n",
       "0                                        0.0   \n",
       "1                                        0.0   \n",
       "2                                        0.0   \n",
       "\n",
       "   passive_sk_deviceUsage_app_usage_catalogs  \\\n",
       "0                                        0.0   \n",
       "1                                        0.0   \n",
       "2                                        0.0   \n",
       "\n",
       "   passive_sk_deviceUsage_app_usage_developer_tools  \\\n",
       "0                                               0.0   \n",
       "1                                               0.0   \n",
       "2                                               0.0   \n",
       "\n",
       "   passive_sk_deviceUsage_app_usage_education  \\\n",
       "0                                         0.0   \n",
       "1                                        96.0   \n",
       "2                                         0.0   \n",
       "\n",
       "   passive_sk_deviceUsage_app_usage_entertainment  ...  \\\n",
       "0                                          1590.0  ...   \n",
       "1                                          2268.0  ...   \n",
       "2                                             0.0  ...   \n",
       "\n",
       "   passive_sk_deviceUsage_web_usage_reference  \\\n",
       "0                                         0.0   \n",
       "1                                         0.0   \n",
       "2                                         0.0   \n",
       "\n",
       "   passive_sk_deviceUsage_web_usage_shopping  \\\n",
       "0                                        0.0   \n",
       "1                                        0.0   \n",
       "2                                        0.0   \n",
       "\n",
       "   passive_sk_deviceUsage_web_usage_social_networking  \\\n",
       "0                                                0.0    \n",
       "1                                                2.0    \n",
       "2                                                0.0    \n",
       "\n",
       "   passive_sk_deviceUsage_web_usage_sports  \\\n",
       "0                                      0.0   \n",
       "1                                      0.0   \n",
       "2                                      0.0   \n",
       "\n",
       "   passive_sk_deviceUsage_web_usage_stickers  \\\n",
       "0                                        0.0   \n",
       "1                                        0.0   \n",
       "2                                        0.0   \n",
       "\n",
       "   passive_sk_deviceUsage_web_usage_travel  \\\n",
       "0                                      0.0   \n",
       "1                                      0.0   \n",
       "2                                      0.0   \n",
       "\n",
       "   passive_sk_deviceUsage_web_usage_utilities  \\\n",
       "0                                         0.0   \n",
       "1                                         0.0   \n",
       "2                                         0.0   \n",
       "\n",
       "   passive_sk_deviceUsage_web_usage_weather  \\\n",
       "0                                       0.0   \n",
       "1                                       0.0   \n",
       "2                                       0.0   \n",
       "\n",
       "   passive_sk_deviceUsage_app_usage_social_network  \\\n",
       "0                                            446.0   \n",
       "1                                            264.0   \n",
       "2                                              0.0   \n",
       "\n",
       "   passive_sk_deviceUsage_web_usage_utilities_miscellaneous  \n",
       "0                                               26.0         \n",
       "1                                               81.0         \n",
       "2                                                0.0         \n",
       "\n",
       "[3 rows x 64 columns]"
      ]
     },
     "execution_count": 256,
     "metadata": {},
     "output_type": "execute_result"
    }
   ],
   "source": [
    "sk_device = sk_device.add_prefix('passive_sk_deviceUsage_')\n",
    "\n",
    "# Rename columns\n",
    "sk_device.rename(columns={'passive_sk_deviceUsage_trial_date': 'trial_date',\n",
    "                          'passive_sk_deviceUsage_ParticipantIdentifier' : 'ParticipantIdentifier'                         \n",
    "                  }, inplace=True)\n",
    "\n",
    "sk_device.head(3)"
   ]
  },
  {
   "cell_type": "markdown",
   "metadata": {},
   "source": [
    "### Keyboard Metrics"
   ]
  },
  {
   "cell_type": "code",
   "execution_count": 257,
   "metadata": {},
   "outputs": [],
   "source": [
    "sk_keyboard = pd.read_csv(save_path + 'run1_sk_keyboard.csv')"
   ]
  },
  {
   "cell_type": "code",
   "execution_count": 258,
   "metadata": {},
   "outputs": [
    {
     "data": {
      "text/plain": [
       "(27420, 33)"
      ]
     },
     "execution_count": 258,
     "metadata": {},
     "output_type": "execute_result"
    }
   ],
   "source": [
    "sk_keyboard.shape"
   ]
  },
  {
   "cell_type": "code",
   "execution_count": 259,
   "metadata": {},
   "outputs": [
    {
     "data": {
      "text/plain": [
       "Index(['ParticipantIdentifier', 'datetime', 'trial_date', 'time', 'duration',\n",
       "       'keyboard_total_words', 'keyboard_total_autocorrections',\n",
       "       'keyboard_total_typing_duration', 'keyboard_total_emojis',\n",
       "       'keyboard_total_deletes', 'keyboard_typing_speed',\n",
       "       'keyboard_total_pauses', 'keyboard_total_typing_episodes',\n",
       "       'keyboard_sentiment_emoji_absolutist', 'keyboard_sentiment_emoji_down',\n",
       "       'keyboard_sentiment_emoji_death', 'keyboard_sentiment_emoji_anxiety',\n",
       "       'keyboard_sentiment_emoji_anger', 'keyboard_sentiment_emoji_health',\n",
       "       'keyboard_sentiment_emoji_positive', 'keyboard_sentiment_emoji_sad',\n",
       "       'keyboard_sentiment_emoji_lowEnergy',\n",
       "       'keyboard_sentiment_emoji_confused',\n",
       "       'keyboard_sentiment_word_absolutist', 'keyboard_sentiment_word_down',\n",
       "       'keyboard_sentiment_word_death', 'keyboard_sentiment_word_anxiety',\n",
       "       'keyboard_sentiment_word_anger', 'keyboard_sentiment_word_health',\n",
       "       'keyboard_sentiment_word_positive', 'keyboard_sentiment_word_sad',\n",
       "       'keyboard_sentiment_word_lowEnergy',\n",
       "       'keyboard_sentiment_word_confused'],\n",
       "      dtype='object')"
      ]
     },
     "execution_count": 259,
     "metadata": {},
     "output_type": "execute_result"
    }
   ],
   "source": [
    "sk_keyboard.columns"
   ]
  },
  {
   "cell_type": "code",
   "execution_count": 260,
   "metadata": {},
   "outputs": [],
   "source": [
    "agg_cols = ['duration',\n",
    "            'keyboard_total_words', 'keyboard_total_autocorrections',\n",
    "            'keyboard_total_typing_duration', 'keyboard_total_emojis',\n",
    "            'keyboard_total_deletes', 'keyboard_typing_speed',\n",
    "            'keyboard_total_pauses', 'keyboard_total_typing_episodes',\n",
    "            'keyboard_sentiment_emoji_absolutist', 'keyboard_sentiment_emoji_down',\n",
    "            'keyboard_sentiment_emoji_death', 'keyboard_sentiment_emoji_anxiety',\n",
    "            'keyboard_sentiment_emoji_anger', 'keyboard_sentiment_emoji_health',\n",
    "            'keyboard_sentiment_emoji_positive', 'keyboard_sentiment_emoji_sad',\n",
    "            'keyboard_sentiment_emoji_lowEnergy',\n",
    "            'keyboard_sentiment_emoji_confused',\n",
    "            'keyboard_sentiment_word_absolutist', 'keyboard_sentiment_word_down',\n",
    "            'keyboard_sentiment_word_death', 'keyboard_sentiment_word_anxiety',\n",
    "            'keyboard_sentiment_word_anger', 'keyboard_sentiment_word_health',\n",
    "            'keyboard_sentiment_word_positive', 'keyboard_sentiment_word_sad',\n",
    "            'keyboard_sentiment_word_lowEnergy',\n",
    "            'keyboard_sentiment_word_confused'\n",
    "]"
   ]
  },
  {
   "cell_type": "code",
   "execution_count": 261,
   "metadata": {},
   "outputs": [],
   "source": [
    "sk_keyboard = pd.DataFrame(sk_keyboard.groupby(['trial_date','ParticipantIdentifier'])[agg_cols].sum()).reset_index()"
   ]
  },
  {
   "cell_type": "code",
   "execution_count": 262,
   "metadata": {},
   "outputs": [
    {
     "data": {
      "text/html": [
       "<div>\n",
       "<style scoped>\n",
       "    .dataframe tbody tr th:only-of-type {\n",
       "        vertical-align: middle;\n",
       "    }\n",
       "\n",
       "    .dataframe tbody tr th {\n",
       "        vertical-align: top;\n",
       "    }\n",
       "\n",
       "    .dataframe thead th {\n",
       "        text-align: right;\n",
       "    }\n",
       "</style>\n",
       "<table border=\"1\" class=\"dataframe\">\n",
       "  <thead>\n",
       "    <tr style=\"text-align: right;\">\n",
       "      <th></th>\n",
       "      <th>trial_date</th>\n",
       "      <th>ParticipantIdentifier</th>\n",
       "      <th>duration</th>\n",
       "      <th>keyboard_total_words</th>\n",
       "      <th>keyboard_total_autocorrections</th>\n",
       "      <th>keyboard_total_typing_duration</th>\n",
       "      <th>keyboard_total_emojis</th>\n",
       "      <th>keyboard_total_deletes</th>\n",
       "      <th>keyboard_typing_speed</th>\n",
       "      <th>keyboard_total_pauses</th>\n",
       "      <th>...</th>\n",
       "      <th>keyboard_sentiment_word_absolutist</th>\n",
       "      <th>keyboard_sentiment_word_down</th>\n",
       "      <th>keyboard_sentiment_word_death</th>\n",
       "      <th>keyboard_sentiment_word_anxiety</th>\n",
       "      <th>keyboard_sentiment_word_anger</th>\n",
       "      <th>keyboard_sentiment_word_health</th>\n",
       "      <th>keyboard_sentiment_word_positive</th>\n",
       "      <th>keyboard_sentiment_word_sad</th>\n",
       "      <th>keyboard_sentiment_word_lowEnergy</th>\n",
       "      <th>keyboard_sentiment_word_confused</th>\n",
       "    </tr>\n",
       "  </thead>\n",
       "  <tbody>\n",
       "    <tr>\n",
       "      <th>0</th>\n",
       "      <td>2022-09-23</td>\n",
       "      <td>099765a5-a9c9-4fff-b297-a39eab517267</td>\n",
       "      <td>0.0</td>\n",
       "      <td>24</td>\n",
       "      <td>0</td>\n",
       "      <td>30.0</td>\n",
       "      <td>0</td>\n",
       "      <td>10</td>\n",
       "      <td>4.509361</td>\n",
       "      <td>8.0</td>\n",
       "      <td>...</td>\n",
       "      <td>0.0</td>\n",
       "      <td>0.0</td>\n",
       "      <td>0.0</td>\n",
       "      <td>0.0</td>\n",
       "      <td>0.0</td>\n",
       "      <td>0.0</td>\n",
       "      <td>0.0</td>\n",
       "      <td>0.0</td>\n",
       "      <td>0.0</td>\n",
       "      <td>0.0</td>\n",
       "    </tr>\n",
       "    <tr>\n",
       "      <th>1</th>\n",
       "      <td>2022-09-23</td>\n",
       "      <td>3b692f4d-2f21-4869-b87f-c134c918e18f</td>\n",
       "      <td>0.0</td>\n",
       "      <td>58</td>\n",
       "      <td>0</td>\n",
       "      <td>34.0</td>\n",
       "      <td>0</td>\n",
       "      <td>6</td>\n",
       "      <td>15.272168</td>\n",
       "      <td>0.0</td>\n",
       "      <td>...</td>\n",
       "      <td>0.0</td>\n",
       "      <td>0.0</td>\n",
       "      <td>0.0</td>\n",
       "      <td>0.0</td>\n",
       "      <td>0.0</td>\n",
       "      <td>0.0</td>\n",
       "      <td>0.0</td>\n",
       "      <td>0.0</td>\n",
       "      <td>0.0</td>\n",
       "      <td>0.0</td>\n",
       "    </tr>\n",
       "    <tr>\n",
       "      <th>2</th>\n",
       "      <td>2022-09-24</td>\n",
       "      <td>156895d9-0f71-4844-92dd-3fb298f84f2b</td>\n",
       "      <td>0.0</td>\n",
       "      <td>61</td>\n",
       "      <td>16</td>\n",
       "      <td>118.0</td>\n",
       "      <td>0</td>\n",
       "      <td>46</td>\n",
       "      <td>6.813186</td>\n",
       "      <td>12.0</td>\n",
       "      <td>...</td>\n",
       "      <td>0.0</td>\n",
       "      <td>0.0</td>\n",
       "      <td>0.0</td>\n",
       "      <td>0.0</td>\n",
       "      <td>0.0</td>\n",
       "      <td>0.0</td>\n",
       "      <td>0.0</td>\n",
       "      <td>0.0</td>\n",
       "      <td>0.0</td>\n",
       "      <td>0.0</td>\n",
       "    </tr>\n",
       "  </tbody>\n",
       "</table>\n",
       "<p>3 rows × 31 columns</p>\n",
       "</div>"
      ],
      "text/plain": [
       "   trial_date                 ParticipantIdentifier  duration  \\\n",
       "0  2022-09-23  099765a5-a9c9-4fff-b297-a39eab517267       0.0   \n",
       "1  2022-09-23  3b692f4d-2f21-4869-b87f-c134c918e18f       0.0   \n",
       "2  2022-09-24  156895d9-0f71-4844-92dd-3fb298f84f2b       0.0   \n",
       "\n",
       "   keyboard_total_words  keyboard_total_autocorrections  \\\n",
       "0                    24                               0   \n",
       "1                    58                               0   \n",
       "2                    61                              16   \n",
       "\n",
       "   keyboard_total_typing_duration  keyboard_total_emojis  \\\n",
       "0                            30.0                      0   \n",
       "1                            34.0                      0   \n",
       "2                           118.0                      0   \n",
       "\n",
       "   keyboard_total_deletes  keyboard_typing_speed  keyboard_total_pauses  ...  \\\n",
       "0                      10               4.509361                    8.0  ...   \n",
       "1                       6              15.272168                    0.0  ...   \n",
       "2                      46               6.813186                   12.0  ...   \n",
       "\n",
       "   keyboard_sentiment_word_absolutist  keyboard_sentiment_word_down  \\\n",
       "0                                 0.0                           0.0   \n",
       "1                                 0.0                           0.0   \n",
       "2                                 0.0                           0.0   \n",
       "\n",
       "   keyboard_sentiment_word_death  keyboard_sentiment_word_anxiety  \\\n",
       "0                            0.0                              0.0   \n",
       "1                            0.0                              0.0   \n",
       "2                            0.0                              0.0   \n",
       "\n",
       "   keyboard_sentiment_word_anger  keyboard_sentiment_word_health  \\\n",
       "0                            0.0                             0.0   \n",
       "1                            0.0                             0.0   \n",
       "2                            0.0                             0.0   \n",
       "\n",
       "   keyboard_sentiment_word_positive  keyboard_sentiment_word_sad  \\\n",
       "0                               0.0                          0.0   \n",
       "1                               0.0                          0.0   \n",
       "2                               0.0                          0.0   \n",
       "\n",
       "   keyboard_sentiment_word_lowEnergy  keyboard_sentiment_word_confused  \n",
       "0                                0.0                               0.0  \n",
       "1                                0.0                               0.0  \n",
       "2                                0.0                               0.0  \n",
       "\n",
       "[3 rows x 31 columns]"
      ]
     },
     "execution_count": 262,
     "metadata": {},
     "output_type": "execute_result"
    }
   ],
   "source": [
    "sk_keyboard.head(3)"
   ]
  },
  {
   "cell_type": "code",
   "execution_count": 263,
   "metadata": {},
   "outputs": [
    {
     "data": {
      "text/html": [
       "<div>\n",
       "<style scoped>\n",
       "    .dataframe tbody tr th:only-of-type {\n",
       "        vertical-align: middle;\n",
       "    }\n",
       "\n",
       "    .dataframe tbody tr th {\n",
       "        vertical-align: top;\n",
       "    }\n",
       "\n",
       "    .dataframe thead th {\n",
       "        text-align: right;\n",
       "    }\n",
       "</style>\n",
       "<table border=\"1\" class=\"dataframe\">\n",
       "  <thead>\n",
       "    <tr style=\"text-align: right;\">\n",
       "      <th></th>\n",
       "      <th>trial_date</th>\n",
       "      <th>ParticipantIdentifier</th>\n",
       "      <th>passive_sk_keyboard_duration</th>\n",
       "      <th>passive_sk_keyboard_keyboard_total_words</th>\n",
       "      <th>passive_sk_keyboard_keyboard_total_autocorrections</th>\n",
       "      <th>passive_sk_keyboard_keyboard_total_typing_duration</th>\n",
       "      <th>passive_sk_keyboard_keyboard_total_emojis</th>\n",
       "      <th>passive_sk_keyboard_keyboard_total_deletes</th>\n",
       "      <th>passive_sk_keyboard_keyboard_typing_speed</th>\n",
       "      <th>passive_sk_keyboard_keyboard_total_pauses</th>\n",
       "      <th>...</th>\n",
       "      <th>passive_sk_keyboard_keyboard_sentiment_word_absolutist</th>\n",
       "      <th>passive_sk_keyboard_keyboard_sentiment_word_down</th>\n",
       "      <th>passive_sk_keyboard_keyboard_sentiment_word_death</th>\n",
       "      <th>passive_sk_keyboard_keyboard_sentiment_word_anxiety</th>\n",
       "      <th>passive_sk_keyboard_keyboard_sentiment_word_anger</th>\n",
       "      <th>passive_sk_keyboard_keyboard_sentiment_word_health</th>\n",
       "      <th>passive_sk_keyboard_keyboard_sentiment_word_positive</th>\n",
       "      <th>passive_sk_keyboard_keyboard_sentiment_word_sad</th>\n",
       "      <th>passive_sk_keyboard_keyboard_sentiment_word_lowEnergy</th>\n",
       "      <th>passive_sk_keyboard_keyboard_sentiment_word_confused</th>\n",
       "    </tr>\n",
       "  </thead>\n",
       "  <tbody>\n",
       "    <tr>\n",
       "      <th>0</th>\n",
       "      <td>2022-09-23</td>\n",
       "      <td>099765a5-a9c9-4fff-b297-a39eab517267</td>\n",
       "      <td>0.0</td>\n",
       "      <td>24</td>\n",
       "      <td>0</td>\n",
       "      <td>30.0</td>\n",
       "      <td>0</td>\n",
       "      <td>10</td>\n",
       "      <td>4.509361</td>\n",
       "      <td>8.0</td>\n",
       "      <td>...</td>\n",
       "      <td>0.0</td>\n",
       "      <td>0.0</td>\n",
       "      <td>0.0</td>\n",
       "      <td>0.0</td>\n",
       "      <td>0.0</td>\n",
       "      <td>0.0</td>\n",
       "      <td>0.0</td>\n",
       "      <td>0.0</td>\n",
       "      <td>0.0</td>\n",
       "      <td>0.0</td>\n",
       "    </tr>\n",
       "    <tr>\n",
       "      <th>1</th>\n",
       "      <td>2022-09-23</td>\n",
       "      <td>3b692f4d-2f21-4869-b87f-c134c918e18f</td>\n",
       "      <td>0.0</td>\n",
       "      <td>58</td>\n",
       "      <td>0</td>\n",
       "      <td>34.0</td>\n",
       "      <td>0</td>\n",
       "      <td>6</td>\n",
       "      <td>15.272168</td>\n",
       "      <td>0.0</td>\n",
       "      <td>...</td>\n",
       "      <td>0.0</td>\n",
       "      <td>0.0</td>\n",
       "      <td>0.0</td>\n",
       "      <td>0.0</td>\n",
       "      <td>0.0</td>\n",
       "      <td>0.0</td>\n",
       "      <td>0.0</td>\n",
       "      <td>0.0</td>\n",
       "      <td>0.0</td>\n",
       "      <td>0.0</td>\n",
       "    </tr>\n",
       "    <tr>\n",
       "      <th>2</th>\n",
       "      <td>2022-09-24</td>\n",
       "      <td>156895d9-0f71-4844-92dd-3fb298f84f2b</td>\n",
       "      <td>0.0</td>\n",
       "      <td>61</td>\n",
       "      <td>16</td>\n",
       "      <td>118.0</td>\n",
       "      <td>0</td>\n",
       "      <td>46</td>\n",
       "      <td>6.813186</td>\n",
       "      <td>12.0</td>\n",
       "      <td>...</td>\n",
       "      <td>0.0</td>\n",
       "      <td>0.0</td>\n",
       "      <td>0.0</td>\n",
       "      <td>0.0</td>\n",
       "      <td>0.0</td>\n",
       "      <td>0.0</td>\n",
       "      <td>0.0</td>\n",
       "      <td>0.0</td>\n",
       "      <td>0.0</td>\n",
       "      <td>0.0</td>\n",
       "    </tr>\n",
       "  </tbody>\n",
       "</table>\n",
       "<p>3 rows × 31 columns</p>\n",
       "</div>"
      ],
      "text/plain": [
       "   trial_date                 ParticipantIdentifier  \\\n",
       "0  2022-09-23  099765a5-a9c9-4fff-b297-a39eab517267   \n",
       "1  2022-09-23  3b692f4d-2f21-4869-b87f-c134c918e18f   \n",
       "2  2022-09-24  156895d9-0f71-4844-92dd-3fb298f84f2b   \n",
       "\n",
       "   passive_sk_keyboard_duration  passive_sk_keyboard_keyboard_total_words  \\\n",
       "0                           0.0                                        24   \n",
       "1                           0.0                                        58   \n",
       "2                           0.0                                        61   \n",
       "\n",
       "   passive_sk_keyboard_keyboard_total_autocorrections  \\\n",
       "0                                                  0    \n",
       "1                                                  0    \n",
       "2                                                 16    \n",
       "\n",
       "   passive_sk_keyboard_keyboard_total_typing_duration  \\\n",
       "0                                               30.0    \n",
       "1                                               34.0    \n",
       "2                                              118.0    \n",
       "\n",
       "   passive_sk_keyboard_keyboard_total_emojis  \\\n",
       "0                                          0   \n",
       "1                                          0   \n",
       "2                                          0   \n",
       "\n",
       "   passive_sk_keyboard_keyboard_total_deletes  \\\n",
       "0                                          10   \n",
       "1                                           6   \n",
       "2                                          46   \n",
       "\n",
       "   passive_sk_keyboard_keyboard_typing_speed  \\\n",
       "0                                   4.509361   \n",
       "1                                  15.272168   \n",
       "2                                   6.813186   \n",
       "\n",
       "   passive_sk_keyboard_keyboard_total_pauses  ...  \\\n",
       "0                                        8.0  ...   \n",
       "1                                        0.0  ...   \n",
       "2                                       12.0  ...   \n",
       "\n",
       "   passive_sk_keyboard_keyboard_sentiment_word_absolutist  \\\n",
       "0                                                0.0        \n",
       "1                                                0.0        \n",
       "2                                                0.0        \n",
       "\n",
       "   passive_sk_keyboard_keyboard_sentiment_word_down  \\\n",
       "0                                               0.0   \n",
       "1                                               0.0   \n",
       "2                                               0.0   \n",
       "\n",
       "   passive_sk_keyboard_keyboard_sentiment_word_death  \\\n",
       "0                                                0.0   \n",
       "1                                                0.0   \n",
       "2                                                0.0   \n",
       "\n",
       "   passive_sk_keyboard_keyboard_sentiment_word_anxiety  \\\n",
       "0                                                0.0     \n",
       "1                                                0.0     \n",
       "2                                                0.0     \n",
       "\n",
       "   passive_sk_keyboard_keyboard_sentiment_word_anger  \\\n",
       "0                                                0.0   \n",
       "1                                                0.0   \n",
       "2                                                0.0   \n",
       "\n",
       "   passive_sk_keyboard_keyboard_sentiment_word_health  \\\n",
       "0                                                0.0    \n",
       "1                                                0.0    \n",
       "2                                                0.0    \n",
       "\n",
       "   passive_sk_keyboard_keyboard_sentiment_word_positive  \\\n",
       "0                                                0.0      \n",
       "1                                                0.0      \n",
       "2                                                0.0      \n",
       "\n",
       "   passive_sk_keyboard_keyboard_sentiment_word_sad  \\\n",
       "0                                              0.0   \n",
       "1                                              0.0   \n",
       "2                                              0.0   \n",
       "\n",
       "   passive_sk_keyboard_keyboard_sentiment_word_lowEnergy  \\\n",
       "0                                                0.0       \n",
       "1                                                0.0       \n",
       "2                                                0.0       \n",
       "\n",
       "   passive_sk_keyboard_keyboard_sentiment_word_confused  \n",
       "0                                                0.0     \n",
       "1                                                0.0     \n",
       "2                                                0.0     \n",
       "\n",
       "[3 rows x 31 columns]"
      ]
     },
     "execution_count": 263,
     "metadata": {},
     "output_type": "execute_result"
    }
   ],
   "source": [
    "sk_keyboard = sk_keyboard.add_prefix('passive_sk_keyboard_')\n",
    "\n",
    "# Rename columns\n",
    "sk_keyboard.rename(columns={'passive_sk_keyboard_trial_date': 'trial_date',\n",
    "                            'passive_sk_keyboard_ParticipantIdentifier' : 'ParticipantIdentifier'                         \n",
    "                  }, inplace=True)\n",
    "\n",
    "sk_keyboard.head(3)"
   ]
  },
  {
   "cell_type": "markdown",
   "metadata": {},
   "source": [
    "### Visits"
   ]
  },
  {
   "cell_type": "code",
   "execution_count": 264,
   "metadata": {},
   "outputs": [],
   "source": [
    "sk_visits = pd.read_csv(save_path + 'run1_sk_visits.csv')"
   ]
  },
  {
   "cell_type": "code",
   "execution_count": 265,
   "metadata": {},
   "outputs": [
    {
     "data": {
      "text/plain": [
       "(20308, 19)"
      ]
     },
     "execution_count": 265,
     "metadata": {},
     "output_type": "execute_result"
    }
   ],
   "source": [
    "sk_visits.shape"
   ]
  },
  {
   "cell_type": "code",
   "execution_count": 266,
   "metadata": {},
   "outputs": [
    {
     "data": {
      "text/plain": [
       "Index(['ParticipantIdentifier', 'datetime', 'trial_date', 'time',\n",
       "       'visits_gym_elapsedTime', 'visits_gym_startTime', 'visits_gym_distance',\n",
       "       'visits_home_elapsedTime', 'visits_home_startTime',\n",
       "       'visits_home_distance', 'visits_school_startTime',\n",
       "       'visits_school_elapsedTime', 'visits_school_distance',\n",
       "       'visits_unknown_startTime', 'visits_unknown_elapsedTime',\n",
       "       'visits_unknown_distance', 'visits_work_startTime',\n",
       "       'visits_work_elapsedTime', 'visits_work_distance'],\n",
       "      dtype='object')"
      ]
     },
     "execution_count": 266,
     "metadata": {},
     "output_type": "execute_result"
    }
   ],
   "source": [
    "sk_visits.columns"
   ]
  },
  {
   "cell_type": "code",
   "execution_count": 267,
   "metadata": {},
   "outputs": [],
   "source": [
    "agg_cols = ['visits_gym_elapsedTime', 'visits_gym_distance',\n",
    "            'visits_home_elapsedTime',\n",
    "            'visits_home_distance',\n",
    "            'visits_school_elapsedTime', 'visits_school_distance',\n",
    "            'visits_unknown_elapsedTime',\n",
    "            'visits_unknown_distance',\n",
    "            'visits_work_elapsedTime', 'visits_work_distance'\n",
    "]"
   ]
  },
  {
   "cell_type": "code",
   "execution_count": 268,
   "metadata": {},
   "outputs": [],
   "source": [
    "sk_visits = pd.DataFrame(sk_visits.groupby(['trial_date','ParticipantIdentifier'])[agg_cols].sum()).reset_index()"
   ]
  },
  {
   "cell_type": "code",
   "execution_count": 269,
   "metadata": {},
   "outputs": [
    {
     "data": {
      "text/html": [
       "<div>\n",
       "<style scoped>\n",
       "    .dataframe tbody tr th:only-of-type {\n",
       "        vertical-align: middle;\n",
       "    }\n",
       "\n",
       "    .dataframe tbody tr th {\n",
       "        vertical-align: top;\n",
       "    }\n",
       "\n",
       "    .dataframe thead th {\n",
       "        text-align: right;\n",
       "    }\n",
       "</style>\n",
       "<table border=\"1\" class=\"dataframe\">\n",
       "  <thead>\n",
       "    <tr style=\"text-align: right;\">\n",
       "      <th></th>\n",
       "      <th>trial_date</th>\n",
       "      <th>ParticipantIdentifier</th>\n",
       "      <th>visits_gym_elapsedTime</th>\n",
       "      <th>visits_gym_distance</th>\n",
       "      <th>visits_home_elapsedTime</th>\n",
       "      <th>visits_home_distance</th>\n",
       "      <th>visits_school_elapsedTime</th>\n",
       "      <th>visits_school_distance</th>\n",
       "      <th>visits_unknown_elapsedTime</th>\n",
       "      <th>visits_unknown_distance</th>\n",
       "      <th>visits_work_elapsedTime</th>\n",
       "      <th>visits_work_distance</th>\n",
       "    </tr>\n",
       "  </thead>\n",
       "  <tbody>\n",
       "    <tr>\n",
       "      <th>0</th>\n",
       "      <td>2022-09-19</td>\n",
       "      <td>bfc23509-915e-4c0a-bbad-8ed6fe3df8f1</td>\n",
       "      <td>0.0</td>\n",
       "      <td>0.0</td>\n",
       "      <td>67500.0</td>\n",
       "      <td>0.0</td>\n",
       "      <td>0.0</td>\n",
       "      <td>0.0</td>\n",
       "      <td>0.0</td>\n",
       "      <td>0.0</td>\n",
       "      <td>0.0</td>\n",
       "      <td>0.0</td>\n",
       "    </tr>\n",
       "    <tr>\n",
       "      <th>1</th>\n",
       "      <td>2022-09-19</td>\n",
       "      <td>d99872af-3068-4840-9118-3e5724df83b8</td>\n",
       "      <td>0.0</td>\n",
       "      <td>0.0</td>\n",
       "      <td>60300.0</td>\n",
       "      <td>0.0</td>\n",
       "      <td>0.0</td>\n",
       "      <td>0.0</td>\n",
       "      <td>0.0</td>\n",
       "      <td>0.0</td>\n",
       "      <td>0.0</td>\n",
       "      <td>0.0</td>\n",
       "    </tr>\n",
       "    <tr>\n",
       "      <th>2</th>\n",
       "      <td>2022-09-20</td>\n",
       "      <td>74b5736e-0605-4d41-a046-7fcb7c59e816</td>\n",
       "      <td>0.0</td>\n",
       "      <td>0.0</td>\n",
       "      <td>50400.0</td>\n",
       "      <td>0.0</td>\n",
       "      <td>0.0</td>\n",
       "      <td>0.0</td>\n",
       "      <td>0.0</td>\n",
       "      <td>0.0</td>\n",
       "      <td>0.0</td>\n",
       "      <td>0.0</td>\n",
       "    </tr>\n",
       "  </tbody>\n",
       "</table>\n",
       "</div>"
      ],
      "text/plain": [
       "   trial_date                 ParticipantIdentifier  visits_gym_elapsedTime  \\\n",
       "0  2022-09-19  bfc23509-915e-4c0a-bbad-8ed6fe3df8f1                     0.0   \n",
       "1  2022-09-19  d99872af-3068-4840-9118-3e5724df83b8                     0.0   \n",
       "2  2022-09-20  74b5736e-0605-4d41-a046-7fcb7c59e816                     0.0   \n",
       "\n",
       "   visits_gym_distance  visits_home_elapsedTime  visits_home_distance  \\\n",
       "0                  0.0                  67500.0                   0.0   \n",
       "1                  0.0                  60300.0                   0.0   \n",
       "2                  0.0                  50400.0                   0.0   \n",
       "\n",
       "   visits_school_elapsedTime  visits_school_distance  \\\n",
       "0                        0.0                     0.0   \n",
       "1                        0.0                     0.0   \n",
       "2                        0.0                     0.0   \n",
       "\n",
       "   visits_unknown_elapsedTime  visits_unknown_distance  \\\n",
       "0                         0.0                      0.0   \n",
       "1                         0.0                      0.0   \n",
       "2                         0.0                      0.0   \n",
       "\n",
       "   visits_work_elapsedTime  visits_work_distance  \n",
       "0                      0.0                   0.0  \n",
       "1                      0.0                   0.0  \n",
       "2                      0.0                   0.0  "
      ]
     },
     "execution_count": 269,
     "metadata": {},
     "output_type": "execute_result"
    }
   ],
   "source": [
    "sk_visits.head(3)"
   ]
  },
  {
   "cell_type": "code",
   "execution_count": 270,
   "metadata": {},
   "outputs": [
    {
     "data": {
      "text/html": [
       "<div>\n",
       "<style scoped>\n",
       "    .dataframe tbody tr th:only-of-type {\n",
       "        vertical-align: middle;\n",
       "    }\n",
       "\n",
       "    .dataframe tbody tr th {\n",
       "        vertical-align: top;\n",
       "    }\n",
       "\n",
       "    .dataframe thead th {\n",
       "        text-align: right;\n",
       "    }\n",
       "</style>\n",
       "<table border=\"1\" class=\"dataframe\">\n",
       "  <thead>\n",
       "    <tr style=\"text-align: right;\">\n",
       "      <th></th>\n",
       "      <th>trial_date</th>\n",
       "      <th>ParticipantIdentifier</th>\n",
       "      <th>passive_sk_visits_gym_elapsedTime</th>\n",
       "      <th>passive_sk_visits_gym_distance</th>\n",
       "      <th>passive_sk_visits_home_elapsedTime</th>\n",
       "      <th>passive_sk_visits_home_distance</th>\n",
       "      <th>passive_sk_visits_school_elapsedTime</th>\n",
       "      <th>passive_sk_visits_school_distance</th>\n",
       "      <th>passive_sk_visits_unknown_elapsedTime</th>\n",
       "      <th>passive_sk_visits_unknown_distance</th>\n",
       "      <th>passive_sk_visits_work_elapsedTime</th>\n",
       "      <th>passive_sk_visits_work_distance</th>\n",
       "    </tr>\n",
       "  </thead>\n",
       "  <tbody>\n",
       "    <tr>\n",
       "      <th>0</th>\n",
       "      <td>2022-09-19</td>\n",
       "      <td>bfc23509-915e-4c0a-bbad-8ed6fe3df8f1</td>\n",
       "      <td>0.0</td>\n",
       "      <td>0.0</td>\n",
       "      <td>67500.0</td>\n",
       "      <td>0.0</td>\n",
       "      <td>0.0</td>\n",
       "      <td>0.0</td>\n",
       "      <td>0.0</td>\n",
       "      <td>0.0</td>\n",
       "      <td>0.0</td>\n",
       "      <td>0.0</td>\n",
       "    </tr>\n",
       "    <tr>\n",
       "      <th>1</th>\n",
       "      <td>2022-09-19</td>\n",
       "      <td>d99872af-3068-4840-9118-3e5724df83b8</td>\n",
       "      <td>0.0</td>\n",
       "      <td>0.0</td>\n",
       "      <td>60300.0</td>\n",
       "      <td>0.0</td>\n",
       "      <td>0.0</td>\n",
       "      <td>0.0</td>\n",
       "      <td>0.0</td>\n",
       "      <td>0.0</td>\n",
       "      <td>0.0</td>\n",
       "      <td>0.0</td>\n",
       "    </tr>\n",
       "    <tr>\n",
       "      <th>2</th>\n",
       "      <td>2022-09-20</td>\n",
       "      <td>74b5736e-0605-4d41-a046-7fcb7c59e816</td>\n",
       "      <td>0.0</td>\n",
       "      <td>0.0</td>\n",
       "      <td>50400.0</td>\n",
       "      <td>0.0</td>\n",
       "      <td>0.0</td>\n",
       "      <td>0.0</td>\n",
       "      <td>0.0</td>\n",
       "      <td>0.0</td>\n",
       "      <td>0.0</td>\n",
       "      <td>0.0</td>\n",
       "    </tr>\n",
       "  </tbody>\n",
       "</table>\n",
       "</div>"
      ],
      "text/plain": [
       "   trial_date                 ParticipantIdentifier  \\\n",
       "0  2022-09-19  bfc23509-915e-4c0a-bbad-8ed6fe3df8f1   \n",
       "1  2022-09-19  d99872af-3068-4840-9118-3e5724df83b8   \n",
       "2  2022-09-20  74b5736e-0605-4d41-a046-7fcb7c59e816   \n",
       "\n",
       "   passive_sk_visits_gym_elapsedTime  passive_sk_visits_gym_distance  \\\n",
       "0                                0.0                             0.0   \n",
       "1                                0.0                             0.0   \n",
       "2                                0.0                             0.0   \n",
       "\n",
       "   passive_sk_visits_home_elapsedTime  passive_sk_visits_home_distance  \\\n",
       "0                             67500.0                              0.0   \n",
       "1                             60300.0                              0.0   \n",
       "2                             50400.0                              0.0   \n",
       "\n",
       "   passive_sk_visits_school_elapsedTime  passive_sk_visits_school_distance  \\\n",
       "0                                   0.0                                0.0   \n",
       "1                                   0.0                                0.0   \n",
       "2                                   0.0                                0.0   \n",
       "\n",
       "   passive_sk_visits_unknown_elapsedTime  passive_sk_visits_unknown_distance  \\\n",
       "0                                    0.0                                 0.0   \n",
       "1                                    0.0                                 0.0   \n",
       "2                                    0.0                                 0.0   \n",
       "\n",
       "   passive_sk_visits_work_elapsedTime  passive_sk_visits_work_distance  \n",
       "0                                 0.0                              0.0  \n",
       "1                                 0.0                              0.0  \n",
       "2                                 0.0                              0.0  "
      ]
     },
     "execution_count": 270,
     "metadata": {},
     "output_type": "execute_result"
    }
   ],
   "source": [
    "sk_visits = sk_visits.add_prefix('passive_sk_')\n",
    "\n",
    "# Rename columns\n",
    "sk_visits.rename(columns={'passive_sk_trial_date': 'trial_date',\n",
    "                          'passive_sk_ParticipantIdentifier' : 'ParticipantIdentifier'                         \n",
    "                  }, inplace=True)\n",
    "\n",
    "sk_visits.head(3)"
   ]
  },
  {
   "cell_type": "code",
   "execution_count": 271,
   "metadata": {},
   "outputs": [],
   "source": [
    "# join sk\n",
    "df_passive_sk = sk_device.merge(sk_keyboard, how='left', on=['ParticipantIdentifier', 'trial_date'])\n",
    "df_passive_sk = df_passive_sk.merge(sk_visits, how='left', on=['ParticipantIdentifier', 'trial_date'])"
   ]
  },
  {
   "cell_type": "markdown",
   "metadata": {},
   "source": [
    "### Join all Passive"
   ]
  },
  {
   "cell_type": "code",
   "execution_count": 272,
   "metadata": {},
   "outputs": [],
   "source": [
    "all_passive = df_passive_hk.merge(df_passive_sk, how='left', on=['ParticipantIdentifier', 'trial_date'])"
   ]
  },
  {
   "cell_type": "code",
   "execution_count": 273,
   "metadata": {},
   "outputs": [],
   "source": [
    "# save to csv\n",
    "all_passive.to_csv(save_path + 'run1_passive.csv', index=False)"
   ]
  },
  {
   "cell_type": "code",
   "execution_count": 274,
   "metadata": {},
   "outputs": [
    {
     "data": {
      "text/html": [
       "<div>\n",
       "<style scoped>\n",
       "    .dataframe tbody tr th:only-of-type {\n",
       "        vertical-align: middle;\n",
       "    }\n",
       "\n",
       "    .dataframe tbody tr th {\n",
       "        vertical-align: top;\n",
       "    }\n",
       "\n",
       "    .dataframe thead th {\n",
       "        text-align: right;\n",
       "    }\n",
       "</style>\n",
       "<table border=\"1\" class=\"dataframe\">\n",
       "  <thead>\n",
       "    <tr style=\"text-align: right;\">\n",
       "      <th></th>\n",
       "      <th>trial_date</th>\n",
       "      <th>ParticipantIdentifier</th>\n",
       "      <th>passive_hk_activity_activeEnergyBurned</th>\n",
       "      <th>passive_hk_activity_appleStandTime</th>\n",
       "      <th>passive_hk_activity_distanceCycling</th>\n",
       "      <th>passive_hk_activity_distanceWalkingRunning</th>\n",
       "      <th>passive_hk_activity_restingEnergyBurned</th>\n",
       "      <th>Steps</th>\n",
       "      <th>passive_hk_activity_averageWalkingSpeed</th>\n",
       "      <th>passive_hk_hr_variability</th>\n",
       "      <th>...</th>\n",
       "      <th>passive_sk_visits_gym_elapsedTime</th>\n",
       "      <th>passive_sk_visits_gym_distance</th>\n",
       "      <th>passive_sk_visits_home_elapsedTime</th>\n",
       "      <th>passive_sk_visits_home_distance</th>\n",
       "      <th>passive_sk_visits_school_elapsedTime</th>\n",
       "      <th>passive_sk_visits_school_distance</th>\n",
       "      <th>passive_sk_visits_unknown_elapsedTime</th>\n",
       "      <th>passive_sk_visits_unknown_distance</th>\n",
       "      <th>passive_sk_visits_work_elapsedTime</th>\n",
       "      <th>passive_sk_visits_work_distance</th>\n",
       "    </tr>\n",
       "  </thead>\n",
       "  <tbody>\n",
       "    <tr>\n",
       "      <th>0</th>\n",
       "      <td>2022-09-08</td>\n",
       "      <td>b032c7ad-4287-4c23-8078-f75d3da262b8</td>\n",
       "      <td>NaN</td>\n",
       "      <td>NaN</td>\n",
       "      <td>NaN</td>\n",
       "      <td>346.660000</td>\n",
       "      <td>NaN</td>\n",
       "      <td>545.0</td>\n",
       "      <td>0.895000</td>\n",
       "      <td>NaN</td>\n",
       "      <td>...</td>\n",
       "      <td>NaN</td>\n",
       "      <td>NaN</td>\n",
       "      <td>NaN</td>\n",
       "      <td>NaN</td>\n",
       "      <td>NaN</td>\n",
       "      <td>NaN</td>\n",
       "      <td>NaN</td>\n",
       "      <td>NaN</td>\n",
       "      <td>NaN</td>\n",
       "      <td>NaN</td>\n",
       "    </tr>\n",
       "    <tr>\n",
       "      <th>1</th>\n",
       "      <td>2022-09-09</td>\n",
       "      <td>147400db-43d9-4155-8bf2-b85b8adf4315</td>\n",
       "      <td>194.443</td>\n",
       "      <td>71.0</td>\n",
       "      <td>NaN</td>\n",
       "      <td>4002.801667</td>\n",
       "      <td>948.472</td>\n",
       "      <td>6043.0</td>\n",
       "      <td>1.009000</td>\n",
       "      <td>27.943125</td>\n",
       "      <td>...</td>\n",
       "      <td>NaN</td>\n",
       "      <td>NaN</td>\n",
       "      <td>NaN</td>\n",
       "      <td>NaN</td>\n",
       "      <td>NaN</td>\n",
       "      <td>NaN</td>\n",
       "      <td>NaN</td>\n",
       "      <td>NaN</td>\n",
       "      <td>NaN</td>\n",
       "      <td>NaN</td>\n",
       "    </tr>\n",
       "    <tr>\n",
       "      <th>2</th>\n",
       "      <td>2022-09-09</td>\n",
       "      <td>25ca39d7-4279-48fd-903f-d0927adadb77</td>\n",
       "      <td>8.030</td>\n",
       "      <td>1.0</td>\n",
       "      <td>NaN</td>\n",
       "      <td>51.543363</td>\n",
       "      <td>784.065</td>\n",
       "      <td>61.0</td>\n",
       "      <td>NaN</td>\n",
       "      <td>NaN</td>\n",
       "      <td>...</td>\n",
       "      <td>NaN</td>\n",
       "      <td>NaN</td>\n",
       "      <td>NaN</td>\n",
       "      <td>NaN</td>\n",
       "      <td>NaN</td>\n",
       "      <td>NaN</td>\n",
       "      <td>NaN</td>\n",
       "      <td>NaN</td>\n",
       "      <td>NaN</td>\n",
       "      <td>NaN</td>\n",
       "    </tr>\n",
       "    <tr>\n",
       "      <th>3</th>\n",
       "      <td>2022-09-09</td>\n",
       "      <td>b032c7ad-4287-4c23-8078-f75d3da262b8</td>\n",
       "      <td>NaN</td>\n",
       "      <td>NaN</td>\n",
       "      <td>NaN</td>\n",
       "      <td>6244.359959</td>\n",
       "      <td>NaN</td>\n",
       "      <td>10253.0</td>\n",
       "      <td>1.096757</td>\n",
       "      <td>NaN</td>\n",
       "      <td>...</td>\n",
       "      <td>NaN</td>\n",
       "      <td>NaN</td>\n",
       "      <td>NaN</td>\n",
       "      <td>NaN</td>\n",
       "      <td>NaN</td>\n",
       "      <td>NaN</td>\n",
       "      <td>NaN</td>\n",
       "      <td>NaN</td>\n",
       "      <td>NaN</td>\n",
       "      <td>NaN</td>\n",
       "    </tr>\n",
       "    <tr>\n",
       "      <th>4</th>\n",
       "      <td>2022-09-09</td>\n",
       "      <td>d973b82f-367b-4871-94a9-181421f870e8</td>\n",
       "      <td>NaN</td>\n",
       "      <td>NaN</td>\n",
       "      <td>NaN</td>\n",
       "      <td>314.630000</td>\n",
       "      <td>NaN</td>\n",
       "      <td>519.0</td>\n",
       "      <td>NaN</td>\n",
       "      <td>NaN</td>\n",
       "      <td>...</td>\n",
       "      <td>NaN</td>\n",
       "      <td>NaN</td>\n",
       "      <td>NaN</td>\n",
       "      <td>NaN</td>\n",
       "      <td>NaN</td>\n",
       "      <td>NaN</td>\n",
       "      <td>NaN</td>\n",
       "      <td>NaN</td>\n",
       "      <td>NaN</td>\n",
       "      <td>NaN</td>\n",
       "    </tr>\n",
       "  </tbody>\n",
       "</table>\n",
       "<p>5 rows × 119 columns</p>\n",
       "</div>"
      ],
      "text/plain": [
       "   trial_date                 ParticipantIdentifier  \\\n",
       "0  2022-09-08  b032c7ad-4287-4c23-8078-f75d3da262b8   \n",
       "1  2022-09-09  147400db-43d9-4155-8bf2-b85b8adf4315   \n",
       "2  2022-09-09  25ca39d7-4279-48fd-903f-d0927adadb77   \n",
       "3  2022-09-09  b032c7ad-4287-4c23-8078-f75d3da262b8   \n",
       "4  2022-09-09  d973b82f-367b-4871-94a9-181421f870e8   \n",
       "\n",
       "   passive_hk_activity_activeEnergyBurned  passive_hk_activity_appleStandTime  \\\n",
       "0                                     NaN                                 NaN   \n",
       "1                                 194.443                                71.0   \n",
       "2                                   8.030                                 1.0   \n",
       "3                                     NaN                                 NaN   \n",
       "4                                     NaN                                 NaN   \n",
       "\n",
       "   passive_hk_activity_distanceCycling  \\\n",
       "0                                  NaN   \n",
       "1                                  NaN   \n",
       "2                                  NaN   \n",
       "3                                  NaN   \n",
       "4                                  NaN   \n",
       "\n",
       "   passive_hk_activity_distanceWalkingRunning  \\\n",
       "0                                  346.660000   \n",
       "1                                 4002.801667   \n",
       "2                                   51.543363   \n",
       "3                                 6244.359959   \n",
       "4                                  314.630000   \n",
       "\n",
       "   passive_hk_activity_restingEnergyBurned    Steps  \\\n",
       "0                                      NaN    545.0   \n",
       "1                                  948.472   6043.0   \n",
       "2                                  784.065     61.0   \n",
       "3                                      NaN  10253.0   \n",
       "4                                      NaN    519.0   \n",
       "\n",
       "   passive_hk_activity_averageWalkingSpeed  passive_hk_hr_variability  ...  \\\n",
       "0                                 0.895000                        NaN  ...   \n",
       "1                                 1.009000                  27.943125  ...   \n",
       "2                                      NaN                        NaN  ...   \n",
       "3                                 1.096757                        NaN  ...   \n",
       "4                                      NaN                        NaN  ...   \n",
       "\n",
       "   passive_sk_visits_gym_elapsedTime  passive_sk_visits_gym_distance  \\\n",
       "0                                NaN                             NaN   \n",
       "1                                NaN                             NaN   \n",
       "2                                NaN                             NaN   \n",
       "3                                NaN                             NaN   \n",
       "4                                NaN                             NaN   \n",
       "\n",
       "   passive_sk_visits_home_elapsedTime  passive_sk_visits_home_distance  \\\n",
       "0                                 NaN                              NaN   \n",
       "1                                 NaN                              NaN   \n",
       "2                                 NaN                              NaN   \n",
       "3                                 NaN                              NaN   \n",
       "4                                 NaN                              NaN   \n",
       "\n",
       "   passive_sk_visits_school_elapsedTime  passive_sk_visits_school_distance  \\\n",
       "0                                   NaN                                NaN   \n",
       "1                                   NaN                                NaN   \n",
       "2                                   NaN                                NaN   \n",
       "3                                   NaN                                NaN   \n",
       "4                                   NaN                                NaN   \n",
       "\n",
       "   passive_sk_visits_unknown_elapsedTime  passive_sk_visits_unknown_distance  \\\n",
       "0                                    NaN                                 NaN   \n",
       "1                                    NaN                                 NaN   \n",
       "2                                    NaN                                 NaN   \n",
       "3                                    NaN                                 NaN   \n",
       "4                                    NaN                                 NaN   \n",
       "\n",
       "   passive_sk_visits_work_elapsedTime  passive_sk_visits_work_distance  \n",
       "0                                 NaN                              NaN  \n",
       "1                                 NaN                              NaN  \n",
       "2                                 NaN                              NaN  \n",
       "3                                 NaN                              NaN  \n",
       "4                                 NaN                              NaN  \n",
       "\n",
       "[5 rows x 119 columns]"
      ]
     },
     "execution_count": 274,
     "metadata": {},
     "output_type": "execute_result"
    }
   ],
   "source": [
    "all_passive.head()"
   ]
  },
  {
   "cell_type": "markdown",
   "metadata": {},
   "source": [
    "# Export DF"
   ]
  },
  {
   "cell_type": "code",
   "execution_count": 63,
   "metadata": {},
   "outputs": [],
   "source": [
    "df_tasks.to_csv('data/features/task_features.csv')"
   ]
  },
  {
   "cell_type": "markdown",
   "metadata": {},
   "source": [
    "# Plot"
   ]
  },
  {
   "cell_type": "code",
   "execution_count": 64,
   "metadata": {},
   "outputs": [],
   "source": [
    "import seaborn as sns\n",
    "import matplotlib.pyplot as plt"
   ]
  },
  {
   "cell_type": "code",
   "execution_count": 65,
   "metadata": {},
   "outputs": [],
   "source": [
    "sns.set_theme(style=\"white\")"
   ]
  },
  {
   "cell_type": "code",
   "execution_count": 66,
   "metadata": {},
   "outputs": [
    {
     "data": {
      "image/png": "[encoded data removed]",
      "text/plain": [
       "<Figure size 792x648 with 2 Axes>"
      ]
     },
     "metadata": {},
     "output_type": "display_data"
    }
   ],
   "source": [
    "# Compute the correlation matrix\n",
    "corr = df_tasks.iloc[:,2:].corr()\n",
    "\n",
    "# Generate a mask for the upper triangle\n",
    "mask = np.triu(np.ones_like(corr, dtype=bool))\n",
    "\n",
    "# Set up the matplotlib figure\n",
    "f, ax = plt.subplots(figsize=(11, 9))\n",
    "\n",
    "# Generate a custom diverging colormap\n",
    "cmap = sns.diverging_palette(220, 20, n=9, as_cmap=True)\n",
    "\n",
    "# Draw the heatmap with the mask and correct aspect ratio\n",
    "_ = sns.heatmap(corr, cmap=cmap)"
   ]
  }
 ],
 "metadata": {
  "kernelspec": {
   "display_name": "Python 3",
   "language": "python",
   "name": "python3"
  },
  "language_info": {
   "codemirror_mode": {
    "name": "ipython",
    "version": 3
   },
   "file_extension": ".py",
   "mimetype": "text/x-python",
   "name": "python",
   "nbconvert_exporter": "python",
   "pygments_lexer": "ipython3",
   "version": "3.8.3"
  }
 },
 "nbformat": 4,
 "nbformat_minor": 5
}
