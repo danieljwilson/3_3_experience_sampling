{
 "cells": [
  {
   "cell_type": "code",
   "execution_count": 2,
   "id": "ffb03545-4ae2-485f-89e3-71a5b0327be9",
   "metadata": {},
   "outputs": [],
   "source": [
    "import numpy as np\n",
    "import pandas as pd\n",
    "import seaborn as sns"
   ]
  },
  {
   "cell_type": "markdown",
   "id": "099b9e4b-0013-475a-9f13-777c8c844632",
   "metadata": {},
   "source": [
    "## Lottery + Daily + Streak"
   ]
  },
  {
   "cell_type": "markdown",
   "id": "70e8be62-88ca-49c6-9347-ec656d5bdce5",
   "metadata": {},
   "source": [
    "### Import Data"
   ]
  },
  {
   "cell_type": "code",
   "execution_count": 3,
   "id": "d9643b04-a87d-49b9-b0b0-7ef86a89f623",
   "metadata": {},
   "outputs": [],
   "source": [
    "path = '/Users/djw/Documents/pCloud_synced/Academics/Projects/2020_thesis/thesis_experiments/3_experiments/3_3_experience_sampling/3_3_2_processed_data/'"
   ]
  },
  {
   "cell_type": "code",
   "execution_count": 4,
   "id": "36410e9f-c8e2-4343-bb9a-40fa2940c038",
   "metadata": {},
   "outputs": [],
   "source": [
    "df = pd.read_csv(path + 'run1_earnings.csv')"
   ]
  },
  {
   "cell_type": "code",
   "execution_count": 5,
   "id": "03f6e6e8-902a-4c7e-9847-c4eef0d92440",
   "metadata": {},
   "outputs": [
    {
     "data": {
      "text/html": [
       "<div>\n",
       "<style scoped>\n",
       "    .dataframe tbody tr th:only-of-type {\n",
       "        vertical-align: middle;\n",
       "    }\n",
       "\n",
       "    .dataframe tbody tr th {\n",
       "        vertical-align: top;\n",
       "    }\n",
       "\n",
       "    .dataframe thead th {\n",
       "        text-align: right;\n",
       "    }\n",
       "</style>\n",
       "<table border=\"1\" class=\"dataframe\">\n",
       "  <thead>\n",
       "    <tr style=\"text-align: right;\">\n",
       "      <th></th>\n",
       "      <th>Unique Identifier</th>\n",
       "      <th>ParticipantIdentifier</th>\n",
       "      <th>Date</th>\n",
       "      <th>Type</th>\n",
       "      <th>Reward</th>\n",
       "      <th>Link to Subjects</th>\n",
       "    </tr>\n",
       "  </thead>\n",
       "  <tbody>\n",
       "    <tr>\n",
       "      <th>0</th>\n",
       "      <td>recxBE5s2I8FJEE88</td>\n",
       "      <td>79939a12-9002-468d-a41b-15c3b66d3de5</td>\n",
       "      <td>12/20/2022</td>\n",
       "      <td>DailyAdherence</td>\n",
       "      <td>$0.00</td>\n",
       "      <td>NaN</td>\n",
       "    </tr>\n",
       "    <tr>\n",
       "      <th>1</th>\n",
       "      <td>recxdrVJKIBMHxr44</td>\n",
       "      <td>156895d9-0f71-4844-92dd-3fb298f84f2b</td>\n",
       "      <td>12/20/2022</td>\n",
       "      <td>DailyAdherence</td>\n",
       "      <td>$1.65</td>\n",
       "      <td>NaN</td>\n",
       "    </tr>\n",
       "    <tr>\n",
       "      <th>2</th>\n",
       "      <td>recEQtwoQAi20C4zq</td>\n",
       "      <td>3bb57dd9-1d69-471c-b769-b3323748bb9f</td>\n",
       "      <td>12/20/2022</td>\n",
       "      <td>DailyAdherence</td>\n",
       "      <td>$1.65</td>\n",
       "      <td>NaN</td>\n",
       "    </tr>\n",
       "    <tr>\n",
       "      <th>3</th>\n",
       "      <td>recGtrYf8whMx8uZE</td>\n",
       "      <td>92863208-10a4-443b-a225-18630552f5cc</td>\n",
       "      <td>12/20/2022</td>\n",
       "      <td>DailyAdherence</td>\n",
       "      <td>$0.00</td>\n",
       "      <td>NaN</td>\n",
       "    </tr>\n",
       "    <tr>\n",
       "      <th>4</th>\n",
       "      <td>recGdRMHDPsxIPruT</td>\n",
       "      <td>151eec8c-0ba1-48ba-afc8-f2874dad3a2b</td>\n",
       "      <td>12/20/2022</td>\n",
       "      <td>DailyAdherence</td>\n",
       "      <td>$0.00</td>\n",
       "      <td>NaN</td>\n",
       "    </tr>\n",
       "  </tbody>\n",
       "</table>\n",
       "</div>"
      ],
      "text/plain": [
       "   Unique Identifier                 ParticipantIdentifier        Date  \\\n",
       "0  recxBE5s2I8FJEE88  79939a12-9002-468d-a41b-15c3b66d3de5  12/20/2022   \n",
       "1  recxdrVJKIBMHxr44  156895d9-0f71-4844-92dd-3fb298f84f2b  12/20/2022   \n",
       "2  recEQtwoQAi20C4zq  3bb57dd9-1d69-471c-b769-b3323748bb9f  12/20/2022   \n",
       "3  recGtrYf8whMx8uZE  92863208-10a4-443b-a225-18630552f5cc  12/20/2022   \n",
       "4  recGdRMHDPsxIPruT  151eec8c-0ba1-48ba-afc8-f2874dad3a2b  12/20/2022   \n",
       "\n",
       "             Type Reward  Link to Subjects  \n",
       "0  DailyAdherence  $0.00               NaN  \n",
       "1  DailyAdherence  $1.65               NaN  \n",
       "2  DailyAdherence  $1.65               NaN  \n",
       "3  DailyAdherence  $0.00               NaN  \n",
       "4  DailyAdherence  $0.00               NaN  "
      ]
     },
     "execution_count": 5,
     "metadata": {},
     "output_type": "execute_result"
    }
   ],
   "source": [
    "df.head()"
   ]
  },
  {
   "cell_type": "markdown",
   "id": "e214208d-a9f7-4672-830d-f3010c990db3",
   "metadata": {},
   "source": [
    "### Select Participants"
   ]
  },
  {
   "cell_type": "code",
   "execution_count": 6,
   "id": "b3780801-9728-49e8-b91c-11128790414c",
   "metadata": {},
   "outputs": [],
   "source": [
    "# select actual run 1 study participants\n",
    "path = '/Users/djw/Documents/pCloud_synced/Academics/Projects/2020_thesis/thesis_experiments/3_experiments/3_3_experience_sampling/3_3_1_raw_data/testing/run1_check_adherence/'\n",
    "\n",
    "subjects = pd.read_csv(path + 'run1_participants.csv')\n",
    "subjects = subjects.ParticipantIdentifier\n",
    "\n",
    "# filter\n",
    "df = df.loc[df.ParticipantIdentifier.isin(subjects)]"
   ]
  },
  {
   "cell_type": "markdown",
   "id": "a23b2be7-e978-4ec8-baeb-5f6175608484",
   "metadata": {},
   "source": [
    "### Clean/Format"
   ]
  },
  {
   "cell_type": "code",
   "execution_count": 7,
   "id": "eb60f856-a7a3-469c-bde6-ca6adf058fc0",
   "metadata": {},
   "outputs": [],
   "source": [
    "# make Reward numeric\n",
    "df['Reward'] = df['Reward'].replace('\\$|,', '', regex=True)\n",
    "df['Reward'] = pd.to_numeric(df['Reward'])"
   ]
  },
  {
   "cell_type": "code",
   "execution_count": 8,
   "id": "55132d84-ed93-4d03-8321-4ef8c22bd673",
   "metadata": {},
   "outputs": [],
   "source": [
    "# sum rewards over categories and types\n",
    "df = pd.DataFrame(df.groupby(['ParticipantIdentifier', 'Type'])['Reward'].sum()).reset_index()"
   ]
  },
  {
   "cell_type": "code",
   "execution_count": 9,
   "id": "4d91eb63-6ec9-4400-b9bb-b35567eeb4a8",
   "metadata": {},
   "outputs": [
    {
     "data": {
      "text/html": [
       "<div>\n",
       "<style scoped>\n",
       "    .dataframe tbody tr th:only-of-type {\n",
       "        vertical-align: middle;\n",
       "    }\n",
       "\n",
       "    .dataframe tbody tr th {\n",
       "        vertical-align: top;\n",
       "    }\n",
       "\n",
       "    .dataframe thead th {\n",
       "        text-align: right;\n",
       "    }\n",
       "</style>\n",
       "<table border=\"1\" class=\"dataframe\">\n",
       "  <thead>\n",
       "    <tr style=\"text-align: right;\">\n",
       "      <th>Type</th>\n",
       "      <th>ParticipantIdentifier</th>\n",
       "      <th>DailyAdherence</th>\n",
       "      <th>Lottery</th>\n",
       "      <th>Streak</th>\n",
       "    </tr>\n",
       "  </thead>\n",
       "  <tbody>\n",
       "    <tr>\n",
       "      <th>0</th>\n",
       "      <td>0501ba67-3406-4779-aff1-878a0e9f7885</td>\n",
       "      <td>235.45</td>\n",
       "      <td>200.0</td>\n",
       "      <td>70.0</td>\n",
       "    </tr>\n",
       "    <tr>\n",
       "      <th>1</th>\n",
       "      <td>099765a5-a9c9-4fff-b297-a39eab517267</td>\n",
       "      <td>59.13</td>\n",
       "      <td>0.0</td>\n",
       "      <td>0.0</td>\n",
       "    </tr>\n",
       "    <tr>\n",
       "      <th>2</th>\n",
       "      <td>0ca43379-41b5-47fb-90ba-0a22e6bf5586</td>\n",
       "      <td>245.76</td>\n",
       "      <td>200.0</td>\n",
       "      <td>70.0</td>\n",
       "    </tr>\n",
       "    <tr>\n",
       "      <th>3</th>\n",
       "      <td>146e1ab8-c4ca-4a52-9261-e108b38eea53</td>\n",
       "      <td>231.42</td>\n",
       "      <td>0.0</td>\n",
       "      <td>49.0</td>\n",
       "    </tr>\n",
       "    <tr>\n",
       "      <th>4</th>\n",
       "      <td>147400db-43d9-4155-8bf2-b85b8adf4315</td>\n",
       "      <td>246.27</td>\n",
       "      <td>100.0</td>\n",
       "      <td>70.0</td>\n",
       "    </tr>\n",
       "    <tr>\n",
       "      <th>...</th>\n",
       "      <td>...</td>\n",
       "      <td>...</td>\n",
       "      <td>...</td>\n",
       "      <td>...</td>\n",
       "    </tr>\n",
       "    <tr>\n",
       "      <th>87</th>\n",
       "      <td>ed16354a-961a-4e5e-83de-ce9a17b25a2f</td>\n",
       "      <td>111.30</td>\n",
       "      <td>0.0</td>\n",
       "      <td>35.0</td>\n",
       "    </tr>\n",
       "    <tr>\n",
       "      <th>88</th>\n",
       "      <td>f889f1a4-9754-456e-ae08-092f992d3359</td>\n",
       "      <td>63.45</td>\n",
       "      <td>0.0</td>\n",
       "      <td>0.0</td>\n",
       "    </tr>\n",
       "    <tr>\n",
       "      <th>89</th>\n",
       "      <td>fa996c7b-fd1c-4cba-990a-336f4cefaeb4</td>\n",
       "      <td>76.62</td>\n",
       "      <td>0.0</td>\n",
       "      <td>21.0</td>\n",
       "    </tr>\n",
       "    <tr>\n",
       "      <th>90</th>\n",
       "      <td>fed3a16b-c5a3-4a84-a111-32b7574e04b5</td>\n",
       "      <td>247.65</td>\n",
       "      <td>100.0</td>\n",
       "      <td>70.0</td>\n",
       "    </tr>\n",
       "    <tr>\n",
       "      <th>91</th>\n",
       "      <td>ff129772-aeab-4432-8136-8f94027b8504</td>\n",
       "      <td>46.14</td>\n",
       "      <td>0.0</td>\n",
       "      <td>0.0</td>\n",
       "    </tr>\n",
       "  </tbody>\n",
       "</table>\n",
       "<p>92 rows × 4 columns</p>\n",
       "</div>"
      ],
      "text/plain": [
       "Type                 ParticipantIdentifier  DailyAdherence  Lottery  Streak\n",
       "0     0501ba67-3406-4779-aff1-878a0e9f7885          235.45    200.0    70.0\n",
       "1     099765a5-a9c9-4fff-b297-a39eab517267           59.13      0.0     0.0\n",
       "2     0ca43379-41b5-47fb-90ba-0a22e6bf5586          245.76    200.0    70.0\n",
       "3     146e1ab8-c4ca-4a52-9261-e108b38eea53          231.42      0.0    49.0\n",
       "4     147400db-43d9-4155-8bf2-b85b8adf4315          246.27    100.0    70.0\n",
       "..                                     ...             ...      ...     ...\n",
       "87    ed16354a-961a-4e5e-83de-ce9a17b25a2f          111.30      0.0    35.0\n",
       "88    f889f1a4-9754-456e-ae08-092f992d3359           63.45      0.0     0.0\n",
       "89    fa996c7b-fd1c-4cba-990a-336f4cefaeb4           76.62      0.0    21.0\n",
       "90    fed3a16b-c5a3-4a84-a111-32b7574e04b5          247.65    100.0    70.0\n",
       "91    ff129772-aeab-4432-8136-8f94027b8504           46.14      0.0     0.0\n",
       "\n",
       "[92 rows x 4 columns]"
      ]
     },
     "execution_count": 9,
     "metadata": {},
     "output_type": "execute_result"
    }
   ],
   "source": [
    "# convert from long to wide\n",
    "df = pd.pivot(df, index='ParticipantIdentifier', columns='Type', values='Reward').fillna(0).reset_index()\n",
    "\n",
    "# note that this sort does not match the airtable sort method - so sort in temp airtable table\n",
    "df.sort_values(by='ParticipantIdentifier')"
   ]
  },
  {
   "cell_type": "markdown",
   "id": "ef230443-eac7-4715-b00d-619124270400",
   "metadata": {},
   "source": [
    "## BART + Spatial Span"
   ]
  },
  {
   "cell_type": "markdown",
   "id": "8729997f-044c-4923-b8db-5a0e37e409b2",
   "metadata": {},
   "source": [
    "### Import Data"
   ]
  },
  {
   "cell_type": "code",
   "execution_count": 10,
   "id": "b28bc04b-9b1c-44be-8db2-b8a1680ece45",
   "metadata": {},
   "outputs": [],
   "source": [
    "bss = pd.read_csv('../../3_3_2_processed_data/run1_tasks.csv')"
   ]
  },
  {
   "cell_type": "markdown",
   "id": "d39222f4-d656-4887-9b30-6502bfaefb99",
   "metadata": {},
   "source": [
    "### Select Participants"
   ]
  },
  {
   "cell_type": "code",
   "execution_count": 11,
   "id": "6b7a8277-88c9-4cdb-9908-bdc3c0aba814",
   "metadata": {},
   "outputs": [],
   "source": [
    "# select actual run 1 study participants\n",
    "path = '/Users/djw/Documents/pCloud_synced/Academics/Projects/2020_thesis/thesis_experiments/3_experiments/3_3_experience_sampling/3_3_1_raw_data/testing/run1_check_adherence/'\n",
    "\n",
    "subjects = pd.read_csv(path + 'run1_participants.csv')\n",
    "subjects = subjects.ParticipantIdentifier\n",
    "\n",
    "# filter\n",
    "bss = bss.loc[bss.ParticipantIdentifier.isin(subjects)]"
   ]
  },
  {
   "cell_type": "code",
   "execution_count": 12,
   "id": "0f40a9c3-74f0-457b-a107-c94fdb031002",
   "metadata": {},
   "outputs": [
    {
     "data": {
      "text/html": [
       "<div>\n",
       "<style scoped>\n",
       "    .dataframe tbody tr th:only-of-type {\n",
       "        vertical-align: middle;\n",
       "    }\n",
       "\n",
       "    .dataframe tbody tr th {\n",
       "        vertical-align: top;\n",
       "    }\n",
       "\n",
       "    .dataframe thead th {\n",
       "        text-align: right;\n",
       "    }\n",
       "</style>\n",
       "<table border=\"1\" class=\"dataframe\">\n",
       "  <thead>\n",
       "    <tr style=\"text-align: right;\">\n",
       "      <th></th>\n",
       "      <th>ParticipantIdentifier</th>\n",
       "      <th>trial_date</th>\n",
       "      <th>task_motivation_time</th>\n",
       "      <th>task_motivation_level</th>\n",
       "      <th>task_gng_time</th>\n",
       "      <th>task_gng_incorrectNoGo</th>\n",
       "      <th>task_gng_incorrectGo</th>\n",
       "      <th>task_gng_correctGo</th>\n",
       "      <th>task_gng_correctNoGo</th>\n",
       "      <th>task_gng_avgRt</th>\n",
       "      <th>...</th>\n",
       "      <th>task_stroop_totalAvgRT</th>\n",
       "      <th>task_stroop_congruentAvgRT</th>\n",
       "      <th>task_stroop_incongruentAvgRT</th>\n",
       "      <th>task_psat_accuracy</th>\n",
       "      <th>task_psat_avgRT</th>\n",
       "      <th>task_hanoi_solved</th>\n",
       "      <th>task_hanoi_time</th>\n",
       "      <th>task_hanoi_moves</th>\n",
       "      <th>task_spatialSpan_score</th>\n",
       "      <th>task_spatialSpan_time</th>\n",
       "    </tr>\n",
       "  </thead>\n",
       "  <tbody>\n",
       "    <tr>\n",
       "      <th>0</th>\n",
       "      <td>6b827de8-fe47-4007-aad3-202655b954e3</td>\n",
       "      <td>2022-10-24</td>\n",
       "      <td>07:09:39</td>\n",
       "      <td>6</td>\n",
       "      <td>07:20:42</td>\n",
       "      <td>3.0</td>\n",
       "      <td>2.0</td>\n",
       "      <td>38.0</td>\n",
       "      <td>7.0</td>\n",
       "      <td>450.674419</td>\n",
       "      <td>...</td>\n",
       "      <td>0.791628</td>\n",
       "      <td>0.732122</td>\n",
       "      <td>0.840315</td>\n",
       "      <td>0.866667</td>\n",
       "      <td>1.649477</td>\n",
       "      <td>True</td>\n",
       "      <td>58.440441</td>\n",
       "      <td>44.0</td>\n",
       "      <td>380.0</td>\n",
       "      <td>07:17:07</td>\n",
       "    </tr>\n",
       "    <tr>\n",
       "      <th>1</th>\n",
       "      <td>a33e1d38-6ee8-4da6-993b-a94a8ae7fc30</td>\n",
       "      <td>2022-10-24</td>\n",
       "      <td>08:01:46</td>\n",
       "      <td>8</td>\n",
       "      <td>09:02:28</td>\n",
       "      <td>8.0</td>\n",
       "      <td>0.0</td>\n",
       "      <td>40.0</td>\n",
       "      <td>2.0</td>\n",
       "      <td>310.125000</td>\n",
       "      <td>...</td>\n",
       "      <td>0.941749</td>\n",
       "      <td>0.792281</td>\n",
       "      <td>1.064041</td>\n",
       "      <td>0.766667</td>\n",
       "      <td>1.920177</td>\n",
       "      <td>True</td>\n",
       "      <td>26.781238</td>\n",
       "      <td>34.0</td>\n",
       "      <td>195.0</td>\n",
       "      <td>08:54:21</td>\n",
       "    </tr>\n",
       "    <tr>\n",
       "      <th>2</th>\n",
       "      <td>c2097f36-4ca3-4537-856d-a649d1557553</td>\n",
       "      <td>2022-10-24</td>\n",
       "      <td>08:35:13</td>\n",
       "      <td>5</td>\n",
       "      <td>08:50:21</td>\n",
       "      <td>1.0</td>\n",
       "      <td>20.0</td>\n",
       "      <td>20.0</td>\n",
       "      <td>9.0</td>\n",
       "      <td>226.853659</td>\n",
       "      <td>...</td>\n",
       "      <td>1.036671</td>\n",
       "      <td>0.939082</td>\n",
       "      <td>1.264379</td>\n",
       "      <td>0.000000</td>\n",
       "      <td>3.000000</td>\n",
       "      <td>True</td>\n",
       "      <td>40.018429</td>\n",
       "      <td>69.0</td>\n",
       "      <td>255.0</td>\n",
       "      <td>08:46:18</td>\n",
       "    </tr>\n",
       "    <tr>\n",
       "      <th>3</th>\n",
       "      <td>bf670311-c590-473a-98ab-d719ebf0f2ab</td>\n",
       "      <td>2022-10-24</td>\n",
       "      <td>08:45:24</td>\n",
       "      <td>5</td>\n",
       "      <td>08:56:59</td>\n",
       "      <td>5.0</td>\n",
       "      <td>0.0</td>\n",
       "      <td>40.0</td>\n",
       "      <td>5.0</td>\n",
       "      <td>361.733333</td>\n",
       "      <td>...</td>\n",
       "      <td>0.772919</td>\n",
       "      <td>0.708396</td>\n",
       "      <td>0.892746</td>\n",
       "      <td>0.333333</td>\n",
       "      <td>2.259841</td>\n",
       "      <td>False</td>\n",
       "      <td>33.449983</td>\n",
       "      <td>36.0</td>\n",
       "      <td>380.0</td>\n",
       "      <td>08:53:13</td>\n",
       "    </tr>\n",
       "    <tr>\n",
       "      <th>4</th>\n",
       "      <td>f889f1a4-9754-456e-ae08-092f992d3359</td>\n",
       "      <td>2022-10-24</td>\n",
       "      <td>08:48:48</td>\n",
       "      <td>2</td>\n",
       "      <td>09:02:03</td>\n",
       "      <td>1.0</td>\n",
       "      <td>0.0</td>\n",
       "      <td>40.0</td>\n",
       "      <td>9.0</td>\n",
       "      <td>398.804878</td>\n",
       "      <td>...</td>\n",
       "      <td>0.833122</td>\n",
       "      <td>0.754119</td>\n",
       "      <td>0.885791</td>\n",
       "      <td>0.433333</td>\n",
       "      <td>2.331362</td>\n",
       "      <td>True</td>\n",
       "      <td>78.185885</td>\n",
       "      <td>49.0</td>\n",
       "      <td>430.0</td>\n",
       "      <td>08:57:05</td>\n",
       "    </tr>\n",
       "  </tbody>\n",
       "</table>\n",
       "<p>5 rows × 47 columns</p>\n",
       "</div>"
      ],
      "text/plain": [
       "                  ParticipantIdentifier  trial_date task_motivation_time  \\\n",
       "0  6b827de8-fe47-4007-aad3-202655b954e3  2022-10-24             07:09:39   \n",
       "1  a33e1d38-6ee8-4da6-993b-a94a8ae7fc30  2022-10-24             08:01:46   \n",
       "2  c2097f36-4ca3-4537-856d-a649d1557553  2022-10-24             08:35:13   \n",
       "3  bf670311-c590-473a-98ab-d719ebf0f2ab  2022-10-24             08:45:24   \n",
       "4  f889f1a4-9754-456e-ae08-092f992d3359  2022-10-24             08:48:48   \n",
       "\n",
       "   task_motivation_level task_gng_time  task_gng_incorrectNoGo  \\\n",
       "0                      6      07:20:42                     3.0   \n",
       "1                      8      09:02:28                     8.0   \n",
       "2                      5      08:50:21                     1.0   \n",
       "3                      5      08:56:59                     5.0   \n",
       "4                      2      09:02:03                     1.0   \n",
       "\n",
       "   task_gng_incorrectGo  task_gng_correctGo  task_gng_correctNoGo  \\\n",
       "0                   2.0                38.0                   7.0   \n",
       "1                   0.0                40.0                   2.0   \n",
       "2                  20.0                20.0                   9.0   \n",
       "3                   0.0                40.0                   5.0   \n",
       "4                   0.0                40.0                   9.0   \n",
       "\n",
       "   task_gng_avgRt  ...  task_stroop_totalAvgRT  task_stroop_congruentAvgRT  \\\n",
       "0      450.674419  ...                0.791628                    0.732122   \n",
       "1      310.125000  ...                0.941749                    0.792281   \n",
       "2      226.853659  ...                1.036671                    0.939082   \n",
       "3      361.733333  ...                0.772919                    0.708396   \n",
       "4      398.804878  ...                0.833122                    0.754119   \n",
       "\n",
       "   task_stroop_incongruentAvgRT  task_psat_accuracy  task_psat_avgRT  \\\n",
       "0                      0.840315            0.866667         1.649477   \n",
       "1                      1.064041            0.766667         1.920177   \n",
       "2                      1.264379            0.000000         3.000000   \n",
       "3                      0.892746            0.333333         2.259841   \n",
       "4                      0.885791            0.433333         2.331362   \n",
       "\n",
       "   task_hanoi_solved  task_hanoi_time  task_hanoi_moves  \\\n",
       "0               True        58.440441              44.0   \n",
       "1               True        26.781238              34.0   \n",
       "2               True        40.018429              69.0   \n",
       "3              False        33.449983              36.0   \n",
       "4               True        78.185885              49.0   \n",
       "\n",
       "   task_spatialSpan_score task_spatialSpan_time  \n",
       "0                   380.0              07:17:07  \n",
       "1                   195.0              08:54:21  \n",
       "2                   255.0              08:46:18  \n",
       "3                   380.0              08:53:13  \n",
       "4                   430.0              08:57:05  \n",
       "\n",
       "[5 rows x 47 columns]"
      ]
     },
     "execution_count": 12,
     "metadata": {},
     "output_type": "execute_result"
    }
   ],
   "source": [
    "bss.head()"
   ]
  },
  {
   "cell_type": "markdown",
   "id": "3d95d6ec-140b-47cd-8ffa-5f6ed9b6a355",
   "metadata": {},
   "source": [
    "### Clean/Format Data"
   ]
  },
  {
   "cell_type": "code",
   "execution_count": 13,
   "id": "1a478abc-6075-4f4b-b0bf-3beeaf00ef2f",
   "metadata": {},
   "outputs": [],
   "source": [
    "# select bart\n",
    "bart = bss[['ParticipantIdentifier', 'trial_date', 'task_bart_score']]\n",
    "# select spatial span\n",
    "sspan = bss[['ParticipantIdentifier', 'trial_date', 'task_spatialSpan_score']]"
   ]
  },
  {
   "cell_type": "code",
   "execution_count": 14,
   "id": "83bd8afc-cc31-475f-8993-81e8b910f095",
   "metadata": {},
   "outputs": [],
   "source": [
    "perf_tasks = bart.merge(sspan, how='left', on=['ParticipantIdentifier', 'trial_date'])"
   ]
  },
  {
   "cell_type": "code",
   "execution_count": 15,
   "id": "3c515cb9-c5b6-456d-a660-7b7c02f753fd",
   "metadata": {},
   "outputs": [
    {
     "data": {
      "text/html": [
       "<div>\n",
       "<style scoped>\n",
       "    .dataframe tbody tr th:only-of-type {\n",
       "        vertical-align: middle;\n",
       "    }\n",
       "\n",
       "    .dataframe tbody tr th {\n",
       "        vertical-align: top;\n",
       "    }\n",
       "\n",
       "    .dataframe thead th {\n",
       "        text-align: right;\n",
       "    }\n",
       "</style>\n",
       "<table border=\"1\" class=\"dataframe\">\n",
       "  <thead>\n",
       "    <tr style=\"text-align: right;\">\n",
       "      <th></th>\n",
       "      <th>ParticipantIdentifier</th>\n",
       "      <th>trial_date</th>\n",
       "      <th>task_bart_score</th>\n",
       "      <th>task_spatialSpan_score</th>\n",
       "    </tr>\n",
       "  </thead>\n",
       "  <tbody>\n",
       "    <tr>\n",
       "      <th>0</th>\n",
       "      <td>6b827de8-fe47-4007-aad3-202655b954e3</td>\n",
       "      <td>2022-10-24</td>\n",
       "      <td>485.0</td>\n",
       "      <td>380.0</td>\n",
       "    </tr>\n",
       "    <tr>\n",
       "      <th>1</th>\n",
       "      <td>a33e1d38-6ee8-4da6-993b-a94a8ae7fc30</td>\n",
       "      <td>2022-10-24</td>\n",
       "      <td>765.0</td>\n",
       "      <td>195.0</td>\n",
       "    </tr>\n",
       "    <tr>\n",
       "      <th>2</th>\n",
       "      <td>c2097f36-4ca3-4537-856d-a649d1557553</td>\n",
       "      <td>2022-10-24</td>\n",
       "      <td>615.0</td>\n",
       "      <td>255.0</td>\n",
       "    </tr>\n",
       "    <tr>\n",
       "      <th>3</th>\n",
       "      <td>bf670311-c590-473a-98ab-d719ebf0f2ab</td>\n",
       "      <td>2022-10-24</td>\n",
       "      <td>630.0</td>\n",
       "      <td>380.0</td>\n",
       "    </tr>\n",
       "    <tr>\n",
       "      <th>4</th>\n",
       "      <td>f889f1a4-9754-456e-ae08-092f992d3359</td>\n",
       "      <td>2022-10-24</td>\n",
       "      <td>455.0</td>\n",
       "      <td>430.0</td>\n",
       "    </tr>\n",
       "    <tr>\n",
       "      <th>...</th>\n",
       "      <td>...</td>\n",
       "      <td>...</td>\n",
       "      <td>...</td>\n",
       "      <td>...</td>\n",
       "    </tr>\n",
       "    <tr>\n",
       "      <th>4271</th>\n",
       "      <td>1e7aef96-16cc-43f8-95d4-e3bc582eb6d3</td>\n",
       "      <td>2022-12-18</td>\n",
       "      <td>675.0</td>\n",
       "      <td>430.0</td>\n",
       "    </tr>\n",
       "    <tr>\n",
       "      <th>4272</th>\n",
       "      <td>a8b5a9ea-b762-4f46-a431-6c530215c498</td>\n",
       "      <td>2022-12-18</td>\n",
       "      <td>485.0</td>\n",
       "      <td>405.0</td>\n",
       "    </tr>\n",
       "    <tr>\n",
       "      <th>4273</th>\n",
       "      <td>596d1036-bafa-47c3-9886-a588a37789bb</td>\n",
       "      <td>2022-12-18</td>\n",
       "      <td>680.0</td>\n",
       "      <td>410.0</td>\n",
       "    </tr>\n",
       "    <tr>\n",
       "      <th>4274</th>\n",
       "      <td>156895d9-0f71-4844-92dd-3fb298f84f2b</td>\n",
       "      <td>2022-12-18</td>\n",
       "      <td>400.0</td>\n",
       "      <td>440.0</td>\n",
       "    </tr>\n",
       "    <tr>\n",
       "      <th>4275</th>\n",
       "      <td>b62eaadd-1819-41da-a70b-a46d4151db72</td>\n",
       "      <td>2022-12-18</td>\n",
       "      <td>610.0</td>\n",
       "      <td>NaN</td>\n",
       "    </tr>\n",
       "  </tbody>\n",
       "</table>\n",
       "<p>4276 rows × 4 columns</p>\n",
       "</div>"
      ],
      "text/plain": [
       "                     ParticipantIdentifier  trial_date  task_bart_score  \\\n",
       "0     6b827de8-fe47-4007-aad3-202655b954e3  2022-10-24            485.0   \n",
       "1     a33e1d38-6ee8-4da6-993b-a94a8ae7fc30  2022-10-24            765.0   \n",
       "2     c2097f36-4ca3-4537-856d-a649d1557553  2022-10-24            615.0   \n",
       "3     bf670311-c590-473a-98ab-d719ebf0f2ab  2022-10-24            630.0   \n",
       "4     f889f1a4-9754-456e-ae08-092f992d3359  2022-10-24            455.0   \n",
       "...                                    ...         ...              ...   \n",
       "4271  1e7aef96-16cc-43f8-95d4-e3bc582eb6d3  2022-12-18            675.0   \n",
       "4272  a8b5a9ea-b762-4f46-a431-6c530215c498  2022-12-18            485.0   \n",
       "4273  596d1036-bafa-47c3-9886-a588a37789bb  2022-12-18            680.0   \n",
       "4274  156895d9-0f71-4844-92dd-3fb298f84f2b  2022-12-18            400.0   \n",
       "4275  b62eaadd-1819-41da-a70b-a46d4151db72  2022-12-18            610.0   \n",
       "\n",
       "      task_spatialSpan_score  \n",
       "0                      380.0  \n",
       "1                      195.0  \n",
       "2                      255.0  \n",
       "3                      380.0  \n",
       "4                      430.0  \n",
       "...                      ...  \n",
       "4271                   430.0  \n",
       "4272                   405.0  \n",
       "4273                   410.0  \n",
       "4274                   440.0  \n",
       "4275                     NaN  \n",
       "\n",
       "[4276 rows x 4 columns]"
      ]
     },
     "execution_count": 15,
     "metadata": {},
     "output_type": "execute_result"
    }
   ],
   "source": [
    "perf_tasks"
   ]
  },
  {
   "cell_type": "code",
   "execution_count": 16,
   "id": "294ab297-b8e8-4bc7-aa96-ee93507f7b7d",
   "metadata": {},
   "outputs": [
    {
     "data": {
      "text/html": [
       "<div>\n",
       "<style scoped>\n",
       "    .dataframe tbody tr th:only-of-type {\n",
       "        vertical-align: middle;\n",
       "    }\n",
       "\n",
       "    .dataframe tbody tr th {\n",
       "        vertical-align: top;\n",
       "    }\n",
       "\n",
       "    .dataframe thead th {\n",
       "        text-align: right;\n",
       "    }\n",
       "</style>\n",
       "<table border=\"1\" class=\"dataframe\">\n",
       "  <thead>\n",
       "    <tr style=\"text-align: right;\">\n",
       "      <th></th>\n",
       "      <th>ParticipantIdentifier</th>\n",
       "      <th>task_spatialSpan_score</th>\n",
       "      <th>task_bart_score</th>\n",
       "    </tr>\n",
       "  </thead>\n",
       "  <tbody>\n",
       "    <tr>\n",
       "      <th>0</th>\n",
       "      <td>0501ba67-3406-4779-aff1-878a0e9f7885</td>\n",
       "      <td>31185.0</td>\n",
       "      <td>35915.0</td>\n",
       "    </tr>\n",
       "    <tr>\n",
       "      <th>1</th>\n",
       "      <td>099765a5-a9c9-4fff-b297-a39eab517267</td>\n",
       "      <td>7170.0</td>\n",
       "      <td>4390.0</td>\n",
       "    </tr>\n",
       "    <tr>\n",
       "      <th>2</th>\n",
       "      <td>0ca43379-41b5-47fb-90ba-0a22e6bf5586</td>\n",
       "      <td>24835.0</td>\n",
       "      <td>42620.0</td>\n",
       "    </tr>\n",
       "    <tr>\n",
       "      <th>3</th>\n",
       "      <td>146e1ab8-c4ca-4a52-9261-e108b38eea53</td>\n",
       "      <td>38045.0</td>\n",
       "      <td>44045.0</td>\n",
       "    </tr>\n",
       "    <tr>\n",
       "      <th>4</th>\n",
       "      <td>147400db-43d9-4155-8bf2-b85b8adf4315</td>\n",
       "      <td>20215.0</td>\n",
       "      <td>44455.0</td>\n",
       "    </tr>\n",
       "  </tbody>\n",
       "</table>\n",
       "</div>"
      ],
      "text/plain": [
       "                  ParticipantIdentifier  task_spatialSpan_score  \\\n",
       "0  0501ba67-3406-4779-aff1-878a0e9f7885                 31185.0   \n",
       "1  099765a5-a9c9-4fff-b297-a39eab517267                  7170.0   \n",
       "2  0ca43379-41b5-47fb-90ba-0a22e6bf5586                 24835.0   \n",
       "3  146e1ab8-c4ca-4a52-9261-e108b38eea53                 38045.0   \n",
       "4  147400db-43d9-4155-8bf2-b85b8adf4315                 20215.0   \n",
       "\n",
       "   task_bart_score  \n",
       "0          35915.0  \n",
       "1           4390.0  \n",
       "2          42620.0  \n",
       "3          44045.0  \n",
       "4          44455.0  "
      ]
     },
     "execution_count": 16,
     "metadata": {},
     "output_type": "execute_result"
    }
   ],
   "source": [
    "perf_tasks_sum = pd.DataFrame(perf_tasks.groupby(['ParticipantIdentifier'])[['task_spatialSpan_score', 'task_bart_score']].sum()).reset_index()\n",
    "perf_tasks_sum.head(5)"
   ]
  },
  {
   "cell_type": "markdown",
   "id": "627daef9-a928-4249-9b99-0c18cbacf1eb",
   "metadata": {},
   "source": [
    "### Plot Data"
   ]
  },
  {
   "cell_type": "code",
   "execution_count": 17,
   "id": "23a7e654-0daf-4712-acf5-572e32825996",
   "metadata": {},
   "outputs": [],
   "source": [
    "sns.set_context(context='talk')"
   ]
  },
  {
   "cell_type": "markdown",
   "id": "35bf8ba0-f675-4e37-a862-550fbd3b8be3",
   "metadata": {},
   "source": [
    "#### Totals"
   ]
  },
  {
   "cell_type": "code",
   "execution_count": 18,
   "id": "3efca6bc-07d4-41a7-acce-b7ecb7304f13",
   "metadata": {},
   "outputs": [
    {
     "data": {
      "image/png": "[encoded data removed]",
      "text/plain": [
       "<Figure size 432x288 with 1 Axes>"
      ]
     },
     "metadata": {
      "needs_background": "light"
     },
     "output_type": "display_data"
    }
   ],
   "source": [
    "sns.histplot(data=perf_tasks_sum, x='task_spatialSpan_score').set(title='Total Spatial Span Scores');"
   ]
  },
  {
   "cell_type": "code",
   "execution_count": 19,
   "id": "9fb1d701-157f-4ffb-a68d-d6c70238cf84",
   "metadata": {},
   "outputs": [
    {
     "data": {
      "image/png": "[encoded data removed]",
      "text/plain": [
       "<Figure size 432x288 with 1 Axes>"
      ]
     },
     "metadata": {
      "needs_background": "light"
     },
     "output_type": "display_data"
    }
   ],
   "source": [
    "sns.histplot(data=perf_tasks_sum, x='task_bart_score').set(title='Total Bart Scores');"
   ]
  },
  {
   "cell_type": "markdown",
   "id": "85739406-0538-449c-9906-881ca74d3651",
   "metadata": {},
   "source": [
    "#### Averages"
   ]
  },
  {
   "cell_type": "code",
   "execution_count": 20,
   "id": "360d4d00-1f8e-4506-8883-ab882f602ed8",
   "metadata": {},
   "outputs": [
    {
     "data": {
      "text/html": [
       "<div>\n",
       "<style scoped>\n",
       "    .dataframe tbody tr th:only-of-type {\n",
       "        vertical-align: middle;\n",
       "    }\n",
       "\n",
       "    .dataframe tbody tr th {\n",
       "        vertical-align: top;\n",
       "    }\n",
       "\n",
       "    .dataframe thead th {\n",
       "        text-align: right;\n",
       "    }\n",
       "</style>\n",
       "<table border=\"1\" class=\"dataframe\">\n",
       "  <thead>\n",
       "    <tr style=\"text-align: right;\">\n",
       "      <th></th>\n",
       "      <th>ParticipantIdentifier_</th>\n",
       "      <th>task_spatialSpan_score_mean</th>\n",
       "      <th>task_spatialSpan_score_std</th>\n",
       "      <th>task_bart_score_mean</th>\n",
       "      <th>task_bart_score_std</th>\n",
       "    </tr>\n",
       "  </thead>\n",
       "  <tbody>\n",
       "    <tr>\n",
       "      <th>46</th>\n",
       "      <td>76acef3c-d659-4fdd-b258-3668a1597584</td>\n",
       "      <td>407.098765</td>\n",
       "      <td>89.113215</td>\n",
       "      <td>570.185185</td>\n",
       "      <td>90.278889</td>\n",
       "    </tr>\n",
       "    <tr>\n",
       "      <th>57</th>\n",
       "      <td>a01397bb-a8a5-4cd1-af6f-6ace410f125d</td>\n",
       "      <td>454.074074</td>\n",
       "      <td>70.267841</td>\n",
       "      <td>528.703704</td>\n",
       "      <td>123.808768</td>\n",
       "    </tr>\n",
       "    <tr>\n",
       "      <th>23</th>\n",
       "      <td>39efadc3-7957-4b75-b560-d0d6c89cfe8b</td>\n",
       "      <td>409.722222</td>\n",
       "      <td>86.124179</td>\n",
       "      <td>501.862745</td>\n",
       "      <td>142.256672</td>\n",
       "    </tr>\n",
       "    <tr>\n",
       "      <th>32</th>\n",
       "      <td>596d1036-bafa-47c3-9886-a588a37789bb</td>\n",
       "      <td>391.075949</td>\n",
       "      <td>79.059661</td>\n",
       "      <td>513.354430</td>\n",
       "      <td>53.088711</td>\n",
       "    </tr>\n",
       "    <tr>\n",
       "      <th>41</th>\n",
       "      <td>6c1b2b3c-3c06-4238-830d-65b76904e8b5</td>\n",
       "      <td>436.824324</td>\n",
       "      <td>81.335490</td>\n",
       "      <td>560.135135</td>\n",
       "      <td>77.207127</td>\n",
       "    </tr>\n",
       "  </tbody>\n",
       "</table>\n",
       "</div>"
      ],
      "text/plain": [
       "                  ParticipantIdentifier_  task_spatialSpan_score_mean  \\\n",
       "46  76acef3c-d659-4fdd-b258-3668a1597584                   407.098765   \n",
       "57  a01397bb-a8a5-4cd1-af6f-6ace410f125d                   454.074074   \n",
       "23  39efadc3-7957-4b75-b560-d0d6c89cfe8b                   409.722222   \n",
       "32  596d1036-bafa-47c3-9886-a588a37789bb                   391.075949   \n",
       "41  6c1b2b3c-3c06-4238-830d-65b76904e8b5                   436.824324   \n",
       "\n",
       "    task_spatialSpan_score_std  task_bart_score_mean  task_bart_score_std  \n",
       "46                   89.113215            570.185185            90.278889  \n",
       "57                   70.267841            528.703704           123.808768  \n",
       "23                   86.124179            501.862745           142.256672  \n",
       "32                   79.059661            513.354430            53.088711  \n",
       "41                   81.335490            560.135135            77.207127  "
      ]
     },
     "execution_count": 20,
     "metadata": {},
     "output_type": "execute_result"
    }
   ],
   "source": [
    "perf_tasks_summary = pd.DataFrame(perf_tasks.groupby(['ParticipantIdentifier']).agg({'task_spatialSpan_score': ['mean', 'std'], 'task_bart_score': ['mean', 'std']})).reset_index()\n",
    "perf_tasks_summary.columns = [\"_\".join(a) for a in perf_tasks_summary.columns.to_flat_index()]\n",
    "perf_tasks_summary.sample(5)"
   ]
  },
  {
   "cell_type": "code",
   "execution_count": 21,
   "id": "71f345f2-8c17-41bd-9af4-7e834354d8b6",
   "metadata": {},
   "outputs": [
    {
     "data": {
      "image/png": "[encoded data removed]",
      "text/plain": [
       "<Figure size 432x288 with 1 Axes>"
      ]
     },
     "metadata": {
      "needs_background": "light"
     },
     "output_type": "display_data"
    }
   ],
   "source": [
    "sns.histplot(data=perf_tasks_summary, x='task_bart_score_mean').set(title='Mean Bart Scores');"
   ]
  },
  {
   "cell_type": "code",
   "execution_count": 22,
   "id": "27f6cedc-348e-44bc-a792-6327b922223a",
   "metadata": {},
   "outputs": [
    {
     "data": {
      "image/png": "[encoded data removed]",
      "text/plain": [
       "<Figure size 432x288 with 1 Axes>"
      ]
     },
     "metadata": {
      "needs_background": "light"
     },
     "output_type": "display_data"
    }
   ],
   "source": [
    "sns.histplot(data=perf_tasks_summary, x='task_spatialSpan_score_mean').set(title='Mean Spatial Span Scores');"
   ]
  },
  {
   "cell_type": "markdown",
   "id": "86739672-5698-4608-8517-cee5a974b900",
   "metadata": {},
   "source": [
    "#### Variance"
   ]
  },
  {
   "cell_type": "code",
   "execution_count": 23,
   "id": "26877d3e-e57f-4aca-983c-75164b0e273c",
   "metadata": {},
   "outputs": [
    {
     "data": {
      "image/png": "[encoded data removed]",
      "text/plain": [
       "<Figure size 432x288 with 1 Axes>"
      ]
     },
     "metadata": {
      "needs_background": "light"
     },
     "output_type": "display_data"
    }
   ],
   "source": [
    "sns.histplot(data=perf_tasks_summary, x='task_bart_score_std').set(title='SD Bart Scores');"
   ]
  },
  {
   "cell_type": "code",
   "execution_count": 24,
   "id": "c0383f85-ba82-416d-af2a-7373e21d617f",
   "metadata": {},
   "outputs": [
    {
     "data": {
      "image/png": "[encoded data removed]",
      "text/plain": [
       "<Figure size 432x288 with 1 Axes>"
      ]
     },
     "metadata": {
      "needs_background": "light"
     },
     "output_type": "display_data"
    }
   ],
   "source": [
    "sns.histplot(data=perf_tasks_summary, x='task_spatialSpan_score_std').set(title='SD Spatial Span Scores');"
   ]
  },
  {
   "cell_type": "markdown",
   "id": "1c1d3b49-52c2-4df6-a28c-63d8984a53f3",
   "metadata": {},
   "source": [
    "#### Average vs. Variance"
   ]
  },
  {
   "cell_type": "code",
   "execution_count": 25,
   "id": "878689d1-e567-4221-91b2-9ac2a0b08853",
   "metadata": {},
   "outputs": [
    {
     "data": {
      "image/png": "[encoded data removed]",
      "text/plain": [
       "<Figure size 432x432 with 3 Axes>"
      ]
     },
     "metadata": {
      "needs_background": "light"
     },
     "output_type": "display_data"
    }
   ],
   "source": [
    "sns.jointplot(perf_tasks_summary, x=\"task_bart_score_mean\", y=\"task_bart_score_std\");"
   ]
  },
  {
   "cell_type": "code",
   "execution_count": 26,
   "id": "50e4ac97-108f-487c-886f-7087bab9ca07",
   "metadata": {},
   "outputs": [
    {
     "data": {
      "image/png": "[encoded data removed]",
      "text/plain": [
       "<Figure size 360x360 with 1 Axes>"
      ]
     },
     "metadata": {
      "needs_background": "light"
     },
     "output_type": "display_data"
    }
   ],
   "source": [
    "sns.displot(perf_tasks_summary, x=\"task_bart_score_mean\", y=\"task_bart_score_std\", kind='kde');"
   ]
  },
  {
   "cell_type": "code",
   "execution_count": 27,
   "id": "971d7945-f53b-4403-89bc-9a3d47dc5156",
   "metadata": {},
   "outputs": [
    {
     "data": {
      "image/png": "[encoded data removed]",
      "text/plain": [
       "<Figure size 432x432 with 3 Axes>"
      ]
     },
     "metadata": {
      "needs_background": "light"
     },
     "output_type": "display_data"
    }
   ],
   "source": [
    "sns.jointplot(perf_tasks_summary, x=\"task_spatialSpan_score_mean\", y=\"task_spatialSpan_score_std\");"
   ]
  },
  {
   "cell_type": "code",
   "execution_count": 28,
   "id": "838c26f0-d7b6-45e3-903c-06e8cde78aad",
   "metadata": {},
   "outputs": [
    {
     "data": {
      "image/png": "[encoded data removed]",
      "text/plain": [
       "<Figure size 360x360 with 1 Axes>"
      ]
     },
     "metadata": {
      "needs_background": "light"
     },
     "output_type": "display_data"
    }
   ],
   "source": [
    "sns.displot(perf_tasks_summary, x=\"task_spatialSpan_score_mean\", y=\"task_spatialSpan_score_std\", kind='kde');"
   ]
  },
  {
   "cell_type": "markdown",
   "id": "1d0f163c-35a1-40a0-907d-9d650a6c0ff3",
   "metadata": {},
   "source": [
    "**QUESTION**\n",
    "\n",
    "What would be the optimal strategy for BART - and what would be the variance/sd of that strategy?"
   ]
  },
  {
   "cell_type": "markdown",
   "id": "91073335-3e21-4bf0-a158-c593925efacc",
   "metadata": {},
   "source": [
    "### Convert to Dollars"
   ]
  },
  {
   "cell_type": "code",
   "execution_count": 29,
   "id": "1cfc743e-f71e-4e46-8f29-b17f6aa9c02f",
   "metadata": {},
   "outputs": [
    {
     "data": {
      "text/html": [
       "<div>\n",
       "<style scoped>\n",
       "    .dataframe tbody tr th:only-of-type {\n",
       "        vertical-align: middle;\n",
       "    }\n",
       "\n",
       "    .dataframe tbody tr th {\n",
       "        vertical-align: top;\n",
       "    }\n",
       "\n",
       "    .dataframe thead th {\n",
       "        text-align: right;\n",
       "    }\n",
       "</style>\n",
       "<table border=\"1\" class=\"dataframe\">\n",
       "  <thead>\n",
       "    <tr style=\"text-align: right;\">\n",
       "      <th></th>\n",
       "      <th>ParticipantIdentifier</th>\n",
       "      <th>task_spatialSpan_score</th>\n",
       "      <th>task_bart_score</th>\n",
       "    </tr>\n",
       "  </thead>\n",
       "  <tbody>\n",
       "    <tr>\n",
       "      <th>0</th>\n",
       "      <td>0501ba67-3406-4779-aff1-878a0e9f7885</td>\n",
       "      <td>31185.0</td>\n",
       "      <td>35915.0</td>\n",
       "    </tr>\n",
       "    <tr>\n",
       "      <th>1</th>\n",
       "      <td>099765a5-a9c9-4fff-b297-a39eab517267</td>\n",
       "      <td>7170.0</td>\n",
       "      <td>4390.0</td>\n",
       "    </tr>\n",
       "    <tr>\n",
       "      <th>2</th>\n",
       "      <td>0ca43379-41b5-47fb-90ba-0a22e6bf5586</td>\n",
       "      <td>24835.0</td>\n",
       "      <td>42620.0</td>\n",
       "    </tr>\n",
       "    <tr>\n",
       "      <th>3</th>\n",
       "      <td>146e1ab8-c4ca-4a52-9261-e108b38eea53</td>\n",
       "      <td>38045.0</td>\n",
       "      <td>44045.0</td>\n",
       "    </tr>\n",
       "    <tr>\n",
       "      <th>4</th>\n",
       "      <td>147400db-43d9-4155-8bf2-b85b8adf4315</td>\n",
       "      <td>20215.0</td>\n",
       "      <td>44455.0</td>\n",
       "    </tr>\n",
       "  </tbody>\n",
       "</table>\n",
       "</div>"
      ],
      "text/plain": [
       "                  ParticipantIdentifier  task_spatialSpan_score  \\\n",
       "0  0501ba67-3406-4779-aff1-878a0e9f7885                 31185.0   \n",
       "1  099765a5-a9c9-4fff-b297-a39eab517267                  7170.0   \n",
       "2  0ca43379-41b5-47fb-90ba-0a22e6bf5586                 24835.0   \n",
       "3  146e1ab8-c4ca-4a52-9261-e108b38eea53                 38045.0   \n",
       "4  147400db-43d9-4155-8bf2-b85b8adf4315                 20215.0   \n",
       "\n",
       "   task_bart_score  \n",
       "0          35915.0  \n",
       "1           4390.0  \n",
       "2          42620.0  \n",
       "3          44045.0  \n",
       "4          44455.0  "
      ]
     },
     "execution_count": 29,
     "metadata": {},
     "output_type": "execute_result"
    }
   ],
   "source": [
    "perf_tasks_sum.head()"
   ]
  },
  {
   "cell_type": "code",
   "execution_count": 30,
   "id": "c23b70da-7b94-4f4d-a769-912498d3ce51",
   "metadata": {},
   "outputs": [],
   "source": [
    "amt_per_task = 1000\n",
    "\n",
    "perf_tasks_sum['bart_earnings'] = (perf_tasks_sum.task_bart_score / perf_tasks_sum.task_bart_score.sum()) * amt_per_task\n",
    "perf_tasks_sum['spatialSpan_earnings'] = (perf_tasks_sum.task_spatialSpan_score / perf_tasks_sum.task_spatialSpan_score.sum()) * amt_per_task"
   ]
  },
  {
   "cell_type": "code",
   "execution_count": 31,
   "id": "6c6a8916-c68c-4f3f-9ced-4074b3539198",
   "metadata": {},
   "outputs": [
    {
     "data": {
      "text/html": [
       "<div>\n",
       "<style scoped>\n",
       "    .dataframe tbody tr th:only-of-type {\n",
       "        vertical-align: middle;\n",
       "    }\n",
       "\n",
       "    .dataframe tbody tr th {\n",
       "        vertical-align: top;\n",
       "    }\n",
       "\n",
       "    .dataframe thead th {\n",
       "        text-align: right;\n",
       "    }\n",
       "</style>\n",
       "<table border=\"1\" class=\"dataframe\">\n",
       "  <thead>\n",
       "    <tr style=\"text-align: right;\">\n",
       "      <th></th>\n",
       "      <th>ParticipantIdentifier</th>\n",
       "      <th>bart_earnings</th>\n",
       "      <th>spatialSpan_earnings</th>\n",
       "    </tr>\n",
       "  </thead>\n",
       "  <tbody>\n",
       "    <tr>\n",
       "      <th>33</th>\n",
       "      <td>5bbaec14-546b-4fdb-985a-4065b4742339</td>\n",
       "      <td>2.298499</td>\n",
       "      <td>2.001922</td>\n",
       "    </tr>\n",
       "    <tr>\n",
       "      <th>74</th>\n",
       "      <td>d1b92e8e-c6b8-49d5-9dfd-8aacea8cd493</td>\n",
       "      <td>15.373565</td>\n",
       "      <td>13.459588</td>\n",
       "    </tr>\n",
       "    <tr>\n",
       "      <th>80</th>\n",
       "      <td>d99872af-3068-4840-9118-3e5724df83b8</td>\n",
       "      <td>7.561966</td>\n",
       "      <td>8.464793</td>\n",
       "    </tr>\n",
       "    <tr>\n",
       "      <th>83</th>\n",
       "      <td>deaf9ec8-984d-41bb-aab6-ef213452c297</td>\n",
       "      <td>6.440977</td>\n",
       "      <td>5.355141</td>\n",
       "    </tr>\n",
       "    <tr>\n",
       "      <th>78</th>\n",
       "      <td>d92cdaf1-cc3e-4408-bcdf-7be602cc5c3b</td>\n",
       "      <td>2.760082</td>\n",
       "      <td>2.725950</td>\n",
       "    </tr>\n",
       "    <tr>\n",
       "      <th>46</th>\n",
       "      <td>76acef3c-d659-4fdd-b258-3668a1597584</td>\n",
       "      <td>21.753312</td>\n",
       "      <td>22.004458</td>\n",
       "    </tr>\n",
       "  </tbody>\n",
       "</table>\n",
       "</div>"
      ],
      "text/plain": [
       "                   ParticipantIdentifier  bart_earnings  spatialSpan_earnings\n",
       "33  5bbaec14-546b-4fdb-985a-4065b4742339       2.298499              2.001922\n",
       "74  d1b92e8e-c6b8-49d5-9dfd-8aacea8cd493      15.373565             13.459588\n",
       "80  d99872af-3068-4840-9118-3e5724df83b8       7.561966              8.464793\n",
       "83  deaf9ec8-984d-41bb-aab6-ef213452c297       6.440977              5.355141\n",
       "78  d92cdaf1-cc3e-4408-bcdf-7be602cc5c3b       2.760082              2.725950\n",
       "46  76acef3c-d659-4fdd-b258-3668a1597584      21.753312             22.004458"
      ]
     },
     "execution_count": 31,
     "metadata": {},
     "output_type": "execute_result"
    }
   ],
   "source": [
    "payment = perf_tasks_sum[['ParticipantIdentifier', 'bart_earnings', 'spatialSpan_earnings']]\n",
    "payment.sample(6)"
   ]
  },
  {
   "cell_type": "code",
   "execution_count": 32,
   "id": "3012bc04-b881-47c8-89d9-529b91c98163",
   "metadata": {},
   "outputs": [
    {
     "data": {
      "text/html": [
       "<div>\n",
       "<style scoped>\n",
       "    .dataframe tbody tr th:only-of-type {\n",
       "        vertical-align: middle;\n",
       "    }\n",
       "\n",
       "    .dataframe tbody tr th {\n",
       "        vertical-align: top;\n",
       "    }\n",
       "\n",
       "    .dataframe thead th {\n",
       "        text-align: right;\n",
       "    }\n",
       "</style>\n",
       "<table border=\"1\" class=\"dataframe\">\n",
       "  <thead>\n",
       "    <tr style=\"text-align: right;\">\n",
       "      <th></th>\n",
       "      <th>task_spatialSpan_score</th>\n",
       "      <th>task_bart_score</th>\n",
       "      <th>bart_earnings</th>\n",
       "      <th>spatialSpan_earnings</th>\n",
       "    </tr>\n",
       "  </thead>\n",
       "  <tbody>\n",
       "    <tr>\n",
       "      <th>count</th>\n",
       "      <td>91.000000</td>\n",
       "      <td>91.000000</td>\n",
       "      <td>91.000000</td>\n",
       "      <td>91.000000</td>\n",
       "    </tr>\n",
       "    <tr>\n",
       "      <th>mean</th>\n",
       "      <td>16467.692308</td>\n",
       "      <td>23331.043956</td>\n",
       "      <td>10.989011</td>\n",
       "      <td>10.989011</td>\n",
       "    </tr>\n",
       "    <tr>\n",
       "      <th>std</th>\n",
       "      <td>11432.588370</td>\n",
       "      <td>15305.142500</td>\n",
       "      <td>7.208781</td>\n",
       "      <td>7.629049</td>\n",
       "    </tr>\n",
       "    <tr>\n",
       "      <th>min</th>\n",
       "      <td>240.000000</td>\n",
       "      <td>305.000000</td>\n",
       "      <td>0.143656</td>\n",
       "      <td>0.160154</td>\n",
       "    </tr>\n",
       "    <tr>\n",
       "      <th>25%</th>\n",
       "      <td>6790.000000</td>\n",
       "      <td>11077.500000</td>\n",
       "      <td>5.217545</td>\n",
       "      <td>4.531016</td>\n",
       "    </tr>\n",
       "    <tr>\n",
       "      <th>50%</th>\n",
       "      <td>13860.000000</td>\n",
       "      <td>21195.000000</td>\n",
       "      <td>9.982926</td>\n",
       "      <td>9.248879</td>\n",
       "    </tr>\n",
       "    <tr>\n",
       "      <th>75%</th>\n",
       "      <td>27470.000000</td>\n",
       "      <td>39645.000000</td>\n",
       "      <td>18.672947</td>\n",
       "      <td>18.330931</td>\n",
       "    </tr>\n",
       "    <tr>\n",
       "      <th>max</th>\n",
       "      <td>39320.000000</td>\n",
       "      <td>56000.000000</td>\n",
       "      <td>26.376214</td>\n",
       "      <td>26.238522</td>\n",
       "    </tr>\n",
       "  </tbody>\n",
       "</table>\n",
       "</div>"
      ],
      "text/plain": [
       "       task_spatialSpan_score  task_bart_score  bart_earnings  \\\n",
       "count               91.000000        91.000000      91.000000   \n",
       "mean             16467.692308     23331.043956      10.989011   \n",
       "std              11432.588370     15305.142500       7.208781   \n",
       "min                240.000000       305.000000       0.143656   \n",
       "25%               6790.000000     11077.500000       5.217545   \n",
       "50%              13860.000000     21195.000000       9.982926   \n",
       "75%              27470.000000     39645.000000      18.672947   \n",
       "max              39320.000000     56000.000000      26.376214   \n",
       "\n",
       "       spatialSpan_earnings  \n",
       "count             91.000000  \n",
       "mean              10.989011  \n",
       "std                7.629049  \n",
       "min                0.160154  \n",
       "25%                4.531016  \n",
       "50%                9.248879  \n",
       "75%               18.330931  \n",
       "max               26.238522  "
      ]
     },
     "execution_count": 32,
     "metadata": {},
     "output_type": "execute_result"
    }
   ],
   "source": [
    "perf_tasks_sum.describe()"
   ]
  },
  {
   "cell_type": "markdown",
   "id": "a564c818-bc17-416d-9f89-ded8cc572f36",
   "metadata": {},
   "source": [
    "## Save Data"
   ]
  },
  {
   "cell_type": "code",
   "execution_count": 39,
   "id": "a744a91e-d71a-400b-a85a-b9bbc2d8c9c7",
   "metadata": {},
   "outputs": [],
   "source": [
    "# Export to processed data folder\n",
    "df.to_csv('../../3_3_2_processed_data/run1_earningsSummary.csv')"
   ]
  },
  {
   "cell_type": "code",
   "execution_count": 33,
   "id": "6b058f74-4f66-47f5-bc4b-97aef522b0e4",
   "metadata": {},
   "outputs": [],
   "source": [
    "perf_tasks_sum.to_csv('../../3_3_2_processed_data/run1_earningsTasks.csv')"
   ]
  },
  {
   "cell_type": "code",
   "execution_count": null,
   "id": "ee8f08ee-5532-404d-8e57-ce366f9d197a",
   "metadata": {},
   "outputs": [],
   "source": []
  },
  {
   "cell_type": "markdown",
   "id": "ee8b29a5-4460-45c5-8bc9-c2ea5c33018b",
   "metadata": {},
   "source": [
    "### Montreal Data\n"
   ]
  },
  {
   "cell_type": "code",
   "execution_count": 36,
   "id": "dde50c2e-5271-45cc-ba5b-aa825a309069",
   "metadata": {},
   "outputs": [
    {
     "data": {
      "text/plain": [
       "array([1998, 1999, 2000, 2001, 2002, 2003, 2004, 2005, 2006, 2007, 2008,\n",
       "       2009, 2010, 2011, 2012, 2013, 2014, 2015, 2016, 2017, 2018, 2019,\n",
       "       2020, 2021, 2022])"
      ]
     },
     "execution_count": 36,
     "metadata": {},
     "output_type": "execute_result"
    }
   ],
   "source": [
    "np.arange(1998, 2023,1)"
   ]
  },
  {
   "cell_type": "code",
   "execution_count": 39,
   "id": "941ca616-fadf-4859-abe5-95c45786165f",
   "metadata": {},
   "outputs": [],
   "source": [
    "years = pd.Series(np.arange(1998, 2023,1), name='year')\n",
    "mean_temp = pd.Series([8.8,\n",
    "             8.5,\n",
    "             6.7,\n",
    "             8.4,\n",
    "             7.8,\n",
    "             6.7,\n",
    "             6.6,\n",
    "             7.8,\n",
    "             8.4,\n",
    "             7.2,\n",
    "             7.3,\n",
    "             6.9,\n",
    "             8.6,\n",
    "             8.2,\n",
    "             8.8,\n",
    "             7.3,\n",
    "             7.0,\n",
    "             7.4,\n",
    "             8.3,\n",
    "             7.8,\n",
    "             7.6,\n",
    "             6.9,\n",
    "             8.5,\n",
    "             8.9,\n",
    "             8.0\n",
    "            ], name='mean_temp')\n",
    "\n",
    "df = pd.concat([years, mean_temp], axis = 1)"
   ]
  },
  {
   "cell_type": "code",
   "execution_count": 41,
   "id": "5f311b40-cfa3-471b-bebc-f06f6cdc9298",
   "metadata": {},
   "outputs": [
    {
     "data": {
      "text/plain": [
       "<AxesSubplot:xlabel='year', ylabel='mean_temp'>"
      ]
     },
     "execution_count": 41,
     "metadata": {},
     "output_type": "execute_result"
    },
    {
     "data": {
      "image/png": "[encoded data removed]",
      "text/plain": [
       "<Figure size 432x288 with 1 Axes>"
      ]
     },
     "metadata": {
      "needs_background": "light"
     },
     "output_type": "display_data"
    }
   ],
   "source": [
    "sns.regplot(data=df, x='year', y='mean_temp')"
   ]
  },
  {
   "cell_type": "code",
   "execution_count": 44,
   "id": "5b895031-e843-476e-ace0-dbd3d24fa912",
   "metadata": {},
   "outputs": [
    {
     "data": {
      "text/html": [
       "<table class=\"simpletable\">\n",
       "<caption>OLS Regression Results</caption>\n",
       "<tr>\n",
       "  <th>Dep. Variable:</th>        <td>mean_temp</td>    <th>  R-squared (uncentered):</th>      <td>   0.991</td>\n",
       "</tr>\n",
       "<tr>\n",
       "  <th>Model:</th>                   <td>OLS</td>       <th>  Adj. R-squared (uncentered):</th> <td>   0.991</td>\n",
       "</tr>\n",
       "<tr>\n",
       "  <th>Method:</th>             <td>Least Squares</td>  <th>  F-statistic:       </th>          <td>   2772.</td>\n",
       "</tr>\n",
       "<tr>\n",
       "  <th>Date:</th>             <td>Tue, 10 Jan 2023</td> <th>  Prob (F-statistic):</th>          <td>2.59e-26</td>\n",
       "</tr>\n",
       "<tr>\n",
       "  <th>Time:</th>                 <td>10:23:27</td>     <th>  Log-Likelihood:    </th>          <td> -27.383</td>\n",
       "</tr>\n",
       "<tr>\n",
       "  <th>No. Observations:</th>      <td>    25</td>      <th>  AIC:               </th>          <td>   56.77</td>\n",
       "</tr>\n",
       "<tr>\n",
       "  <th>Df Residuals:</th>          <td>    24</td>      <th>  BIC:               </th>          <td>   57.99</td>\n",
       "</tr>\n",
       "<tr>\n",
       "  <th>Df Model:</th>              <td>     1</td>      <th>                     </th>              <td> </td>   \n",
       "</tr>\n",
       "<tr>\n",
       "  <th>Covariance Type:</th>      <td>nonrobust</td>    <th>                     </th>              <td> </td>   \n",
       "</tr>\n",
       "</table>\n",
       "<table class=\"simpletable\">\n",
       "<tr>\n",
       "    <td></td>      <th>coef</th>     <th>std err</th>      <th>t</th>      <th>P>|t|</th>  <th>[0.025</th>    <th>0.975]</th>  \n",
       "</tr>\n",
       "<tr>\n",
       "  <th>year</th> <td>    0.0039</td> <td> 7.35e-05</td> <td>   52.652</td> <td> 0.000</td> <td>    0.004</td> <td>    0.004</td>\n",
       "</tr>\n",
       "</table>\n",
       "<table class=\"simpletable\">\n",
       "<tr>\n",
       "  <th>Omnibus:</th>       <td> 7.158</td> <th>  Durbin-Watson:     </th> <td>   1.700</td>\n",
       "</tr>\n",
       "<tr>\n",
       "  <th>Prob(Omnibus):</th> <td> 0.028</td> <th>  Jarque-Bera (JB):  </th> <td>   1.935</td>\n",
       "</tr>\n",
       "<tr>\n",
       "  <th>Skew:</th>          <td>-0.059</td> <th>  Prob(JB):          </th> <td>   0.380</td>\n",
       "</tr>\n",
       "<tr>\n",
       "  <th>Kurtosis:</th>      <td> 1.642</td> <th>  Cond. No.          </th> <td>    1.00</td>\n",
       "</tr>\n",
       "</table><br/><br/>Notes:<br/>[1] R² is computed without centering (uncentered) since the model does not contain a constant.<br/>[2] Standard Errors assume that the covariance matrix of the errors is correctly specified."
      ],
      "text/plain": [
       "<class 'statsmodels.iolib.summary.Summary'>\n",
       "\"\"\"\n",
       "                                 OLS Regression Results                                \n",
       "=======================================================================================\n",
       "Dep. Variable:              mean_temp   R-squared (uncentered):                   0.991\n",
       "Model:                            OLS   Adj. R-squared (uncentered):              0.991\n",
       "Method:                 Least Squares   F-statistic:                              2772.\n",
       "Date:                Tue, 10 Jan 2023   Prob (F-statistic):                    2.59e-26\n",
       "Time:                        10:23:27   Log-Likelihood:                         -27.383\n",
       "No. Observations:                  25   AIC:                                      56.77\n",
       "Df Residuals:                      24   BIC:                                      57.99\n",
       "Df Model:                           1                                                  \n",
       "Covariance Type:            nonrobust                                                  \n",
       "==============================================================================\n",
       "                 coef    std err          t      P>|t|      [0.025      0.975]\n",
       "------------------------------------------------------------------------------\n",
       "year           0.0039   7.35e-05     52.652      0.000       0.004       0.004\n",
       "==============================================================================\n",
       "Omnibus:                        7.158   Durbin-Watson:                   1.700\n",
       "Prob(Omnibus):                  0.028   Jarque-Bera (JB):                1.935\n",
       "Skew:                          -0.059   Prob(JB):                        0.380\n",
       "Kurtosis:                       1.642   Cond. No.                         1.00\n",
       "==============================================================================\n",
       "\n",
       "Notes:\n",
       "[1] R² is computed without centering (uncentered) since the model does not contain a constant.\n",
       "[2] Standard Errors assume that the covariance matrix of the errors is correctly specified.\n",
       "\"\"\""
      ]
     },
     "execution_count": 44,
     "metadata": {},
     "output_type": "execute_result"
    }
   ],
   "source": [
    "import statsmodels.api as sm\n",
    "\n",
    "model = sm.OLS(df['mean_temp'], df['year'], missing='drop')\n",
    "model_result = model.fit()\n",
    "model_result.summary()"
   ]
  },
  {
   "cell_type": "code",
   "execution_count": null,
   "id": "1e1daee6-6aef-40f5-9b90-c3b095a239c3",
   "metadata": {},
   "outputs": [],
   "source": []
  }
 ],
 "metadata": {
  "kernelspec": {
   "display_name": "Python 3 (ipykernel)",
   "language": "python",
   "name": "python3"
  },
  "language_info": {
   "codemirror_mode": {
    "name": "ipython",
    "version": 3
   },
   "file_extension": ".py",
   "mimetype": "text/x-python",
   "name": "python",
   "nbconvert_exporter": "python",
   "pygments_lexer": "ipython3",
   "version": "3.9.12"
  }
 },
 "nbformat": 4,
 "nbformat_minor": 5
}
