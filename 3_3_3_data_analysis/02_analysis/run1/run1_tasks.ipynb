{
 "cells": [
  {
   "cell_type": "markdown",
   "id": "21c3c4cc-c7ec-4bdd-99d5-113e0ff69be0",
   "metadata": {},
   "source": [
    "# Setup"
   ]
  },
  {
   "cell_type": "markdown",
   "id": "923b3d47-ee28-474a-a030-b34faf084e74",
   "metadata": {},
   "source": [
    "## Libraries"
   ]
  },
  {
   "cell_type": "code",
   "execution_count": 1,
   "id": "b213f16a-423a-42b6-a24f-a54ffdc4336b",
   "metadata": {},
   "outputs": [],
   "source": [
    "import pandas as pd\n",
    "import numpy as np\n",
    "\n",
    "import matplotlib.pyplot as plt\n",
    "import seaborn as sns\n",
    "# import dtale"
   ]
  },
  {
   "cell_type": "markdown",
   "id": "d6229bf2-e64f-4e37-92ba-7460a0f52fd1",
   "metadata": {},
   "source": [
    "## Load Data"
   ]
  },
  {
   "cell_type": "code",
   "execution_count": 2,
   "id": "6a7bf6d4-4d86-4047-80b3-717978471050",
   "metadata": {},
   "outputs": [],
   "source": [
    "df_task = pd.read_csv('../../3_3_2_processed_data/run1_tasks.csv')\n",
    "df_affect = pd.read_csv('../../3_3_2_processed_data/run1_affect.csv')\n",
    "df_sr = pd.read_csv('../../3_3_2_processed_data/run1_selfReport.csv')"
   ]
  },
  {
   "cell_type": "markdown",
   "id": "1b6e00e3-6fcd-444a-adae-0e33d72d96c1",
   "metadata": {},
   "source": [
    "### Merge"
   ]
  },
  {
   "cell_type": "code",
   "execution_count": 3,
   "id": "7bc013fd-02b0-4b70-aa30-237066942740",
   "metadata": {},
   "outputs": [],
   "source": [
    "df = df_task.merge(df_affect, how='left', on=['ParticipantIdentifier', 'trial_date'])\n",
    "df = df.merge(df_sr, how='left', on=['ParticipantIdentifier', 'trial_date'])"
   ]
  },
  {
   "cell_type": "code",
   "execution_count": 4,
   "id": "556a0c99-cc13-46cd-acc6-0d1445aa649e",
   "metadata": {},
   "outputs": [
    {
     "data": {
      "text/plain": [
       "(4276, 159)"
      ]
     },
     "execution_count": 4,
     "metadata": {},
     "output_type": "execute_result"
    }
   ],
   "source": [
    "df.shape"
   ]
  },
  {
   "cell_type": "markdown",
   "id": "a34beeab-c31a-428c-803d-d112b794fa16",
   "metadata": {},
   "source": [
    "### Clean"
   ]
  },
  {
   "cell_type": "code",
   "execution_count": 5,
   "id": "653aee5b-6cb7-4ca4-99fa-e26cfc1d13ca",
   "metadata": {},
   "outputs": [],
   "source": [
    "good_subjects = pd.DataFrame(df.groupby('ParticipantIdentifier')['trial_date'].count()).reset_index()"
   ]
  },
  {
   "cell_type": "code",
   "execution_count": 6,
   "id": "aa9c9ce9-03f0-4924-9301-3abe99d56cf8",
   "metadata": {},
   "outputs": [
    {
     "name": "stdout",
     "output_type": "stream",
     "text": [
      "There are 46 subjects with more than 50% adherence\n"
     ]
    }
   ],
   "source": [
    "good_subjects = list(good_subjects.loc[good_subjects.trial_date>=42].ParticipantIdentifier)\n",
    "print(f'There are {len(good_subjects)} subjects with more than 50% adherence')"
   ]
  },
  {
   "cell_type": "code",
   "execution_count": 7,
   "id": "41790d39-82dc-44f7-8f42-6aceef48a3fe",
   "metadata": {},
   "outputs": [],
   "source": [
    "df = df.loc[df.ParticipantIdentifier.isin(good_subjects)]"
   ]
  },
  {
   "cell_type": "markdown",
   "id": "85b4ffc6-9dfb-484c-824c-f5adf236a1ee",
   "metadata": {
    "jp-MarkdownHeadingCollapsed": true,
    "tags": []
   },
   "source": [
    "# Explore"
   ]
  },
  {
   "cell_type": "markdown",
   "id": "7460e0a2-6281-4b13-9b42-b6f19cc2b5ce",
   "metadata": {},
   "source": [
    "## D-Tale"
   ]
  },
  {
   "cell_type": "code",
   "execution_count": null,
   "id": "6bbd83dd-46bf-472c-80b4-aa9341a69bcd",
   "metadata": {},
   "outputs": [],
   "source": [
    "df.ParticipantIdentifier"
   ]
  },
  {
   "cell_type": "code",
   "execution_count": 13,
   "id": "da3d1a7e-3961-4862-8744-beb7ffb52c78",
   "metadata": {},
   "outputs": [
    {
     "name": "stderr",
     "output_type": "stream",
     "text": [
      "/Users/djw/opt/miniconda3/envs/battery/lib/python3.9/site-packages/dtale/views.py:725: FutureWarning:\n",
      "\n",
      "['task_gng_time', 'task_nback_time', 'task_nback_mode', 'task_spatialSpan_time', 'DAILY_past24_gapCause', 'DAILY_past48to24_gapCause', 'DAILY_survey_missed', 'DAILY_survey_situation1_surveys'] did not aggregate successfully. If any error is raised this will raise in a future version of pandas. Drop these columns/ops to avoid this warning.\n",
      "\n"
     ]
    }
   ],
   "source": [
    "d = dtale.show(df)"
   ]
  },
  {
   "cell_type": "code",
   "execution_count": 14,
   "id": "1ba026a8-84af-4228-884f-9678dbe8aa95",
   "metadata": {},
   "outputs": [
    {
     "data": {
      "text/html": [
       "\n",
       "        <iframe\n",
       "            width=\"100%\"\n",
       "            height=\"475\"\n",
       "            src=\"http://Daniels-MacBook-Pro.local:40000/dtale/iframe/1\"\n",
       "            frameborder=\"0\"\n",
       "            allowfullscreen\n",
       "            \n",
       "        ></iframe>\n",
       "        "
      ],
      "text/plain": [
       "<IPython.lib.display.IFrame at 0x7fd5886b78b0>"
      ]
     },
     "metadata": {},
     "output_type": "display_data"
    },
    {
     "data": {
      "text/plain": []
     },
     "execution_count": 14,
     "metadata": {},
     "output_type": "execute_result"
    },
    {
     "name": "stdout",
     "output_type": "stream",
     "text": [
      "Executing shutdown due to inactivity...\n",
      "Executing shutdown due to inactivity...\n"
     ]
    },
    {
     "name": "stderr",
     "output_type": "stream",
     "text": [
      "2023-01-23 20:58:30,328 - INFO     - Executing shutdown due to inactivity...\n"
     ]
    },
    {
     "name": "stdout",
     "output_type": "stream",
     "text": [
      "Executing shutdown...\n",
      "Executing shutdown...\n"
     ]
    },
    {
     "name": "stderr",
     "output_type": "stream",
     "text": [
      "2023-01-23 20:58:30,398 - INFO     - Executing shutdown...\n",
      "/Users/djw/opt/miniconda3/envs/battery/lib/python3.9/site-packages/dtale/app.py:422: UserWarning:\n",
      "\n",
      "The 'environ['werkzeug.server.shutdown']' function is deprecated and will be removed in Werkzeug 2.1.\n",
      "\n"
     ]
    }
   ],
   "source": [
    "d"
   ]
  },
  {
   "cell_type": "markdown",
   "id": "e85da95b-51e1-44c7-a069-d631ac066776",
   "metadata": {},
   "source": [
    "# Tasks"
   ]
  },
  {
   "cell_type": "markdown",
   "id": "e31255e5-a87e-4e08-8267-d7fed5154bcb",
   "metadata": {},
   "source": [
    "## EmoStroop"
   ]
  },
  {
   "cell_type": "code",
   "execution_count": 17,
   "id": "ce734be0-0838-4ebb-9222-b94ad9df154e",
   "metadata": {},
   "outputs": [],
   "source": [
    "import statsmodels.api as sm\n",
    "import statsmodels.formula.api as smf"
   ]
  },
  {
   "cell_type": "code",
   "execution_count": 8,
   "id": "f18c933a-165d-4732-93d5-3bf20966a92e",
   "metadata": {},
   "outputs": [
    {
     "data": {
      "text/plain": [
       "46"
      ]
     },
     "execution_count": 8,
     "metadata": {},
     "output_type": "execute_result"
    }
   ],
   "source": [
    "len(np.unique(df.ParticipantIdentifier))"
   ]
  },
  {
   "cell_type": "code",
   "execution_count": 75,
   "id": "62b8f358-ced8-4b92-b9e2-7e876e5dc507",
   "metadata": {},
   "outputs": [
    {
     "data": {
      "text/html": [
       "<div>\n",
       "<style scoped>\n",
       "    .dataframe tbody tr th:only-of-type {\n",
       "        vertical-align: middle;\n",
       "    }\n",
       "\n",
       "    .dataframe tbody tr th {\n",
       "        vertical-align: top;\n",
       "    }\n",
       "\n",
       "    .dataframe thead th {\n",
       "        text-align: right;\n",
       "    }\n",
       "</style>\n",
       "<table border=\"1\" class=\"dataframe\">\n",
       "  <thead>\n",
       "    <tr style=\"text-align: right;\">\n",
       "      <th></th>\n",
       "      <th>ParticipantIdentifier</th>\n",
       "      <th>trial_date</th>\n",
       "      <th>task_emoStroop_accuracy_incongruent</th>\n",
       "      <th>task_emoStroop_accuracy_congruent</th>\n",
       "      <th>task_emoStroop_rt_incongruent</th>\n",
       "      <th>task_emoStroop_rt_congruent</th>\n",
       "    </tr>\n",
       "  </thead>\n",
       "  <tbody>\n",
       "    <tr>\n",
       "      <th>1</th>\n",
       "      <td>a33e1d38-6ee8-4da6-993b-a94a8ae7fc30</td>\n",
       "      <td>2022-10-24</td>\n",
       "      <td>1.000000</td>\n",
       "      <td>1.0</td>\n",
       "      <td>2660.714286</td>\n",
       "      <td>1663.0</td>\n",
       "    </tr>\n",
       "    <tr>\n",
       "      <th>2</th>\n",
       "      <td>c2097f36-4ca3-4537-856d-a649d1557553</td>\n",
       "      <td>2022-10-24</td>\n",
       "      <td>1.000000</td>\n",
       "      <td>1.0</td>\n",
       "      <td>2452.846154</td>\n",
       "      <td>2203.5</td>\n",
       "    </tr>\n",
       "    <tr>\n",
       "      <th>3</th>\n",
       "      <td>bf670311-c590-473a-98ab-d719ebf0f2ab</td>\n",
       "      <td>2022-10-24</td>\n",
       "      <td>0.909091</td>\n",
       "      <td>1.0</td>\n",
       "      <td>1443.000000</td>\n",
       "      <td>1422.5</td>\n",
       "    </tr>\n",
       "  </tbody>\n",
       "</table>\n",
       "</div>"
      ],
      "text/plain": [
       "                  ParticipantIdentifier  trial_date  \\\n",
       "1  a33e1d38-6ee8-4da6-993b-a94a8ae7fc30  2022-10-24   \n",
       "2  c2097f36-4ca3-4537-856d-a649d1557553  2022-10-24   \n",
       "3  bf670311-c590-473a-98ab-d719ebf0f2ab  2022-10-24   \n",
       "\n",
       "   task_emoStroop_accuracy_incongruent  task_emoStroop_accuracy_congruent  \\\n",
       "1                             1.000000                                1.0   \n",
       "2                             1.000000                                1.0   \n",
       "3                             0.909091                                1.0   \n",
       "\n",
       "   task_emoStroop_rt_incongruent  task_emoStroop_rt_congruent  \n",
       "1                    2660.714286                       1663.0  \n",
       "2                    2452.846154                       2203.5  \n",
       "3                    1443.000000                       1422.5  "
      ]
     },
     "execution_count": 75,
     "metadata": {},
     "output_type": "execute_result"
    }
   ],
   "source": [
    "cols = ['ParticipantIdentifier', 'trial_date'] + list(df.filter(like='emoStroop').columns)\n",
    "emoStroop_df = df.loc[:, cols]\n",
    "emoStroop_df.head(3)"
   ]
  },
  {
   "cell_type": "code",
   "execution_count": 76,
   "id": "b1bf8600-395e-4d9b-8c5f-07092a8423fc",
   "metadata": {},
   "outputs": [
    {
     "name": "stdout",
     "output_type": "stream",
     "text": [
      "<class 'pandas.core.frame.DataFrame'>\n",
      "Int64Index: 3319 entries, 1 to 4274\n",
      "Data columns (total 6 columns):\n",
      " #   Column                               Non-Null Count  Dtype  \n",
      "---  ------                               --------------  -----  \n",
      " 0   ParticipantIdentifier                3319 non-null   object \n",
      " 1   trial_date                           3319 non-null   object \n",
      " 2   task_emoStroop_accuracy_incongruent  3226 non-null   float64\n",
      " 3   task_emoStroop_accuracy_congruent    3217 non-null   float64\n",
      " 4   task_emoStroop_rt_incongruent        3226 non-null   float64\n",
      " 5   task_emoStroop_rt_congruent          3217 non-null   float64\n",
      "dtypes: float64(4), object(2)\n",
      "memory usage: 181.5+ KB\n"
     ]
    }
   ],
   "source": [
    "emoStroop_df.info()"
   ]
  },
  {
   "cell_type": "code",
   "execution_count": 77,
   "id": "24fadae4-64a2-4aff-8004-625603fd7f0b",
   "metadata": {},
   "outputs": [
    {
     "data": {
      "text/html": [
       "<div>\n",
       "<style scoped>\n",
       "    .dataframe tbody tr th:only-of-type {\n",
       "        vertical-align: middle;\n",
       "    }\n",
       "\n",
       "    .dataframe tbody tr th {\n",
       "        vertical-align: top;\n",
       "    }\n",
       "\n",
       "    .dataframe thead th {\n",
       "        text-align: right;\n",
       "    }\n",
       "</style>\n",
       "<table border=\"1\" class=\"dataframe\">\n",
       "  <thead>\n",
       "    <tr style=\"text-align: right;\">\n",
       "      <th></th>\n",
       "      <th>task_emoStroop_accuracy_incongruent</th>\n",
       "      <th>task_emoStroop_accuracy_congruent</th>\n",
       "      <th>task_emoStroop_rt_incongruent</th>\n",
       "      <th>task_emoStroop_rt_congruent</th>\n",
       "    </tr>\n",
       "  </thead>\n",
       "  <tbody>\n",
       "    <tr>\n",
       "      <th>count</th>\n",
       "      <td>3226.000000</td>\n",
       "      <td>3217.000000</td>\n",
       "      <td>3226.000000</td>\n",
       "      <td>3.217000e+03</td>\n",
       "    </tr>\n",
       "    <tr>\n",
       "      <th>mean</th>\n",
       "      <td>0.883439</td>\n",
       "      <td>0.937345</td>\n",
       "      <td>2842.395205</td>\n",
       "      <td>3.341755e+03</td>\n",
       "    </tr>\n",
       "    <tr>\n",
       "      <th>std</th>\n",
       "      <td>0.172557</td>\n",
       "      <td>0.155553</td>\n",
       "      <td>10869.506794</td>\n",
       "      <td>5.204734e+04</td>\n",
       "    </tr>\n",
       "    <tr>\n",
       "      <th>min</th>\n",
       "      <td>0.000000</td>\n",
       "      <td>0.000000</td>\n",
       "      <td>57.166667</td>\n",
       "      <td>9.225000e+01</td>\n",
       "    </tr>\n",
       "    <tr>\n",
       "      <th>25%</th>\n",
       "      <td>0.833333</td>\n",
       "      <td>1.000000</td>\n",
       "      <td>1368.893939</td>\n",
       "      <td>1.214000e+03</td>\n",
       "    </tr>\n",
       "    <tr>\n",
       "      <th>50%</th>\n",
       "      <td>0.916667</td>\n",
       "      <td>1.000000</td>\n",
       "      <td>1710.954545</td>\n",
       "      <td>1.509667e+03</td>\n",
       "    </tr>\n",
       "    <tr>\n",
       "      <th>75%</th>\n",
       "      <td>1.000000</td>\n",
       "      <td>1.000000</td>\n",
       "      <td>2441.644886</td>\n",
       "      <td>2.084500e+03</td>\n",
       "    </tr>\n",
       "    <tr>\n",
       "      <th>max</th>\n",
       "      <td>1.000000</td>\n",
       "      <td>1.000000</td>\n",
       "      <td>475763.500000</td>\n",
       "      <td>2.928034e+06</td>\n",
       "    </tr>\n",
       "  </tbody>\n",
       "</table>\n",
       "</div>"
      ],
      "text/plain": [
       "       task_emoStroop_accuracy_incongruent  task_emoStroop_accuracy_congruent  \\\n",
       "count                          3226.000000                        3217.000000   \n",
       "mean                              0.883439                           0.937345   \n",
       "std                               0.172557                           0.155553   \n",
       "min                               0.000000                           0.000000   \n",
       "25%                               0.833333                           1.000000   \n",
       "50%                               0.916667                           1.000000   \n",
       "75%                               1.000000                           1.000000   \n",
       "max                               1.000000                           1.000000   \n",
       "\n",
       "       task_emoStroop_rt_incongruent  task_emoStroop_rt_congruent  \n",
       "count                    3226.000000                 3.217000e+03  \n",
       "mean                     2842.395205                 3.341755e+03  \n",
       "std                     10869.506794                 5.204734e+04  \n",
       "min                        57.166667                 9.225000e+01  \n",
       "25%                      1368.893939                 1.214000e+03  \n",
       "50%                      1710.954545                 1.509667e+03  \n",
       "75%                      2441.644886                 2.084500e+03  \n",
       "max                    475763.500000                 2.928034e+06  "
      ]
     },
     "execution_count": 77,
     "metadata": {},
     "output_type": "execute_result"
    }
   ],
   "source": [
    "emoStroop_df.describe()"
   ]
  },
  {
   "cell_type": "markdown",
   "id": "80482dab-d97f-424f-9b50-33d1a8308170",
   "metadata": {},
   "source": [
    "### Remove NAs"
   ]
  },
  {
   "cell_type": "code",
   "execution_count": 78,
   "id": "63437839-1e6c-4cbd-a8b3-df15a85a6511",
   "metadata": {},
   "outputs": [
    {
     "data": {
      "text/plain": [
       "ParticipantIdentifier                    0\n",
       "trial_date                               0\n",
       "task_emoStroop_accuracy_incongruent     93\n",
       "task_emoStroop_accuracy_congruent      102\n",
       "task_emoStroop_rt_incongruent           93\n",
       "task_emoStroop_rt_congruent            102\n",
       "dtype: int64"
      ]
     },
     "execution_count": 78,
     "metadata": {},
     "output_type": "execute_result"
    }
   ],
   "source": [
    "emoStroop_df.isna().sum()"
   ]
  },
  {
   "cell_type": "code",
   "execution_count": 79,
   "id": "8af783ca-f0bc-45ba-9564-047bf216d9ec",
   "metadata": {},
   "outputs": [],
   "source": [
    "emoStroop_df = emoStroop_df.dropna().reset_index(drop=True)"
   ]
  },
  {
   "cell_type": "markdown",
   "id": "98f9e905-95a6-4d1e-b765-a7eecabb8bf0",
   "metadata": {},
   "source": [
    "### Look at Variable Distribution"
   ]
  },
  {
   "cell_type": "code",
   "execution_count": 80,
   "id": "cbe2b385-d9ba-458d-95aa-cf0f277ad205",
   "metadata": {},
   "outputs": [
    {
     "data": {
      "image/png": "[encoded data removed]",
      "text/plain": [
       "<Figure size 432x288 with 1 Axes>"
      ]
     },
     "metadata": {
      "needs_background": "light"
     },
     "output_type": "display_data"
    }
   ],
   "source": [
    "sns.kdeplot(data=emoStroop_df, x=\"task_emoStroop_rt_incongruent\");"
   ]
  },
  {
   "cell_type": "code",
   "execution_count": 81,
   "id": "c24480f7-c7ab-49be-9afd-b082209d0a43",
   "metadata": {},
   "outputs": [
    {
     "data": {
      "image/png": "[encoded data removed]",
      "text/plain": [
       "<Figure size 432x288 with 1 Axes>"
      ]
     },
     "metadata": {
      "needs_background": "light"
     },
     "output_type": "display_data"
    }
   ],
   "source": [
    "sns.kdeplot(data=emoStroop_df, x=\"task_emoStroop_rt_congruent\");"
   ]
  },
  {
   "cell_type": "markdown",
   "id": "473a7a3d-8b2c-4c0d-991f-e79e8625ecfa",
   "metadata": {},
   "source": [
    "### Remove Outliers"
   ]
  },
  {
   "cell_type": "markdown",
   "id": "89f42c77-9004-4521-ab44-9b2134549492",
   "metadata": {},
   "source": [
    "Using IQR method since right skewed"
   ]
  },
  {
   "cell_type": "code",
   "execution_count": 82,
   "id": "800f43fa-cf20-4664-a72d-30757295e9ce",
   "metadata": {},
   "outputs": [],
   "source": [
    "iqr_n = 1.5\n",
    "\n",
    "q3, q1 = np.percentile(emoStroop_df.task_emoStroop_rt_congruent, [75, 25])\n",
    "iqr = q3 - q1\n",
    "upper_bound_c = q3 + iqr_n * iqr\n",
    "lower_bound_c = q1 - iqr_n * iqr"
   ]
  },
  {
   "cell_type": "code",
   "execution_count": 83,
   "id": "2fcf02cf-2b9c-4ab2-83e1-f4ce2129e747",
   "metadata": {},
   "outputs": [
    {
     "data": {
      "text/plain": [
       "870.5"
      ]
     },
     "execution_count": 83,
     "metadata": {},
     "output_type": "execute_result"
    }
   ],
   "source": [
    "iqr"
   ]
  },
  {
   "cell_type": "code",
   "execution_count": 84,
   "id": "7ed7dcaa-5326-4d40-937a-a69cb647011a",
   "metadata": {},
   "outputs": [
    {
     "data": {
      "text/plain": [
       "3390.25"
      ]
     },
     "execution_count": 84,
     "metadata": {},
     "output_type": "execute_result"
    }
   ],
   "source": [
    "upper_bound_c"
   ]
  },
  {
   "cell_type": "code",
   "execution_count": 85,
   "id": "c828865e-45e1-4b8c-afb9-46a66b8875e0",
   "metadata": {},
   "outputs": [],
   "source": [
    "q3, q1 = np.percentile(emoStroop_df.task_emoStroop_rt_incongruent, [75, 25])\n",
    "iqr = q3 - q1\n",
    "upper_bound_ic = q3 + iqr_n * iqr\n",
    "lower_bound_ic = q1 - iqr_n * iqr"
   ]
  },
  {
   "cell_type": "code",
   "execution_count": 86,
   "id": "1d73ab22-8d5c-40b2-9f3c-35a278e61281",
   "metadata": {},
   "outputs": [],
   "source": [
    "emoStroop_df = emoStroop_df.loc[(emoStroop_df.task_emoStroop_rt_congruent < upper_bound_c) &\n",
    "                                (emoStroop_df.task_emoStroop_rt_congruent > lower_bound_c)\n",
    "                               ]\n",
    "\n",
    "emoStroop_df = emoStroop_df.loc[(emoStroop_df.task_emoStroop_rt_incongruent < upper_bound_ic) &\n",
    "                                (emoStroop_df.task_emoStroop_rt_incongruent > lower_bound_ic)\n",
    "                               ].reset_index(drop=True)"
   ]
  },
  {
   "cell_type": "code",
   "execution_count": 88,
   "id": "cb44477f-30de-4d3e-bac3-e6379d9de4d6",
   "metadata": {},
   "outputs": [
    {
     "name": "stdout",
     "output_type": "stream",
     "text": [
      "ttest_ind: t=14.1367 p-value/2 =6.90084e-45\n",
      "ttest_rel: t=21.7838 p-value = 4.22352e-97 p-value/2 =2.11176e-97\n"
     ]
    }
   ],
   "source": [
    "from scipy.stats import ttest_ind\n",
    "t_val, p_val = ttest_ind(emoStroop_df.task_emoStroop_rt_incongruent, emoStroop_df.task_emoStroop_rt_congruent)\n",
    "print(\"ttest_ind: t=%g p-value/2 =%g\" % (t_val, p_val/2))\n",
    "\n",
    "from scipy.stats import ttest_rel\n",
    "t_val, p_val = ttest_rel(emoStroop_df.task_emoStroop_rt_incongruent, emoStroop_df.task_emoStroop_rt_congruent)\n",
    "print(\"ttest_rel: t=%g p-value = %g p-value/2 =%g\" % (t_val, p_val, p_val/2))"
   ]
  },
  {
   "cell_type": "code",
   "execution_count": 89,
   "id": "955c40e4-3cd5-4c17-bc2e-854df7913ffc",
   "metadata": {},
   "outputs": [],
   "source": [
    "emoStroop_df_long = pd.melt(emoStroop_df, id_vars=['ParticipantIdentifier', 'trial_date'], value_vars=['task_emoStroop_rt_incongruent', 'task_emoStroop_rt_congruent'])"
   ]
  },
  {
   "cell_type": "code",
   "execution_count": 92,
   "id": "66a84cfb-10ec-4a63-a8c2-e2784f8ee2f4",
   "metadata": {},
   "outputs": [
    {
     "data": {
      "image/png": "[encoded data removed]",
      "text/plain": [
       "<Figure size 432x288 with 1 Axes>"
      ]
     },
     "metadata": {
      "needs_background": "light"
     },
     "output_type": "display_data"
    }
   ],
   "source": [
    "sns.violinplot(data=emoStroop_df_long, x=\"value\", y=\"variable\");"
   ]
  },
  {
   "cell_type": "code",
   "execution_count": 93,
   "id": "8449cc0c-8fdf-4074-b6da-e045e34139b4",
   "metadata": {},
   "outputs": [
    {
     "data": {
      "text/html": [
       "<div>\n",
       "<style scoped>\n",
       "    .dataframe tbody tr th:only-of-type {\n",
       "        vertical-align: middle;\n",
       "    }\n",
       "\n",
       "    .dataframe tbody tr th {\n",
       "        vertical-align: top;\n",
       "    }\n",
       "\n",
       "    .dataframe thead th {\n",
       "        text-align: right;\n",
       "    }\n",
       "</style>\n",
       "<table border=\"1\" class=\"dataframe\">\n",
       "  <thead>\n",
       "    <tr style=\"text-align: right;\">\n",
       "      <th></th>\n",
       "      <th>task_emoStroop_accuracy_incongruent</th>\n",
       "      <th>task_emoStroop_accuracy_congruent</th>\n",
       "      <th>task_emoStroop_rt_incongruent</th>\n",
       "      <th>task_emoStroop_rt_congruent</th>\n",
       "    </tr>\n",
       "  </thead>\n",
       "  <tbody>\n",
       "    <tr>\n",
       "      <th>count</th>\n",
       "      <td>2718.000000</td>\n",
       "      <td>2718.000000</td>\n",
       "      <td>2718.000000</td>\n",
       "      <td>2718.000000</td>\n",
       "    </tr>\n",
       "    <tr>\n",
       "      <th>mean</th>\n",
       "      <td>0.886985</td>\n",
       "      <td>0.937416</td>\n",
       "      <td>1747.247918</td>\n",
       "      <td>1530.214386</td>\n",
       "    </tr>\n",
       "    <tr>\n",
       "      <th>std</th>\n",
       "      <td>0.169233</td>\n",
       "      <td>0.156217</td>\n",
       "      <td>611.723409</td>\n",
       "      <td>516.159723</td>\n",
       "    </tr>\n",
       "    <tr>\n",
       "      <th>min</th>\n",
       "      <td>0.000000</td>\n",
       "      <td>0.000000</td>\n",
       "      <td>57.166667</td>\n",
       "      <td>92.250000</td>\n",
       "    </tr>\n",
       "    <tr>\n",
       "      <th>25%</th>\n",
       "      <td>0.846154</td>\n",
       "      <td>1.000000</td>\n",
       "      <td>1324.415385</td>\n",
       "      <td>1171.273810</td>\n",
       "    </tr>\n",
       "    <tr>\n",
       "      <th>50%</th>\n",
       "      <td>0.923077</td>\n",
       "      <td>1.000000</td>\n",
       "      <td>1590.909091</td>\n",
       "      <td>1408.733333</td>\n",
       "    </tr>\n",
       "    <tr>\n",
       "      <th>75%</th>\n",
       "      <td>1.000000</td>\n",
       "      <td>1.000000</td>\n",
       "      <td>2011.493056</td>\n",
       "      <td>1762.087500</td>\n",
       "    </tr>\n",
       "    <tr>\n",
       "      <th>max</th>\n",
       "      <td>1.000000</td>\n",
       "      <td>1.000000</td>\n",
       "      <td>4050.750000</td>\n",
       "      <td>3381.750000</td>\n",
       "    </tr>\n",
       "  </tbody>\n",
       "</table>\n",
       "</div>"
      ],
      "text/plain": [
       "       task_emoStroop_accuracy_incongruent  task_emoStroop_accuracy_congruent  \\\n",
       "count                          2718.000000                        2718.000000   \n",
       "mean                              0.886985                           0.937416   \n",
       "std                               0.169233                           0.156217   \n",
       "min                               0.000000                           0.000000   \n",
       "25%                               0.846154                           1.000000   \n",
       "50%                               0.923077                           1.000000   \n",
       "75%                               1.000000                           1.000000   \n",
       "max                               1.000000                           1.000000   \n",
       "\n",
       "       task_emoStroop_rt_incongruent  task_emoStroop_rt_congruent  \n",
       "count                    2718.000000                  2718.000000  \n",
       "mean                     1747.247918                  1530.214386  \n",
       "std                       611.723409                   516.159723  \n",
       "min                        57.166667                    92.250000  \n",
       "25%                      1324.415385                  1171.273810  \n",
       "50%                      1590.909091                  1408.733333  \n",
       "75%                      2011.493056                  1762.087500  \n",
       "max                      4050.750000                  3381.750000  "
      ]
     },
     "execution_count": 93,
     "metadata": {},
     "output_type": "execute_result"
    }
   ],
   "source": [
    "emoStroop_df.describe()"
   ]
  },
  {
   "cell_type": "code",
   "execution_count": null,
   "id": "e3dc3556-30ee-42a2-8364-6e2e3b10c5e5",
   "metadata": {},
   "outputs": [],
   "source": []
  }
 ],
 "metadata": {
  "kernelspec": {
   "display_name": "Python 3 (ipykernel)",
   "language": "python",
   "name": "python3"
  },
  "language_info": {
   "codemirror_mode": {
    "name": "ipython",
    "version": 3
   },
   "file_extension": ".py",
   "mimetype": "text/x-python",
   "name": "python",
   "nbconvert_exporter": "python",
   "pygments_lexer": "ipython3",
   "version": "3.9.12"
  }
 },
 "nbformat": 4,
 "nbformat_minor": 5
}
