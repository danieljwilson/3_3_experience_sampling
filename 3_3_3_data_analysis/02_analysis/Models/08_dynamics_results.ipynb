{
 "cells": [
  {
   "cell_type": "markdown",
   "metadata": {},
   "source": [
    "# Imports"
   ]
  },
  {
   "cell_type": "code",
   "execution_count": 1,
   "metadata": {},
   "outputs": [],
   "source": [
    "# Data\n",
    "import pandas as pd\n",
    "import numpy as np"
   ]
  },
  {
   "cell_type": "markdown",
   "metadata": {},
   "source": [
    "**Baseline Model**\n",
    "- Continuous Prediction\n",
    "    - It is a bit better...is that good?\n",
    "- High/Low Gap Prediction\n",
    "    - Rudimentary information that could be useful\n",
    "- Day to day change prediction\n",
    "    - Could be useful...pattern of increases?\n",
    "\n",
    "1. MLM\n",
    "2. XGBoost\n",
    "3. Deep NN\n",
    "4. LLM"
   ]
  },
  {
   "cell_type": "markdown",
   "metadata": {},
   "source": [
    "### Tomorrow\n",
    "\n",
    "**Recreate Eisenberg paper metrics**\n",
    "- Load in data for battery\n",
    "- Load in demographic data\n",
    "    - Load in data for grades and weight\n",
    "\n",
    "- Redo basic analysis\n",
    "\n",
    "- Check if we get anything new with embeddings of goals?\n",
    "    - Categorize goals\n",
    "    - Evaluate expressiveness/detail of goals within subject\n",
    "    - Evaluate variation of goals within subject\n",
    "    - Evaluate success rate on goal categories\n",
    "\n",
    "**New Models for Dynamics**\n",
    "- Deep NN\n",
    "- LLM\n",
    "\n"
   ]
  },
  {
   "cell_type": "markdown",
   "metadata": {},
   "source": []
  }
 ],
 "metadata": {
  "kernelspec": {
   "display_name": ".venv",
   "language": "python",
   "name": "python3"
  },
  "language_info": {
   "codemirror_mode": {
    "name": "ipython",
    "version": 3
   },
   "file_extension": ".py",
   "mimetype": "text/x-python",
   "name": "python",
   "nbconvert_exporter": "python",
   "pygments_lexer": "ipython3",
   "version": "3.11.4"
  }
 },
 "nbformat": 4,
 "nbformat_minor": 2
}
