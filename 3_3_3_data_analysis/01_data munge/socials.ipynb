{
 "cells": [
  {
   "cell_type": "code",
   "execution_count": null,
   "metadata": {},
   "outputs": [],
   "source": [
    "import pandas as pd\n",
    "import numpy as np"
   ]
  },
  {
   "cell_type": "markdown",
   "metadata": {},
   "source": [
    "### Social Media"
   ]
  },
  {
   "cell_type": "code",
   "execution_count": null,
   "metadata": {},
   "outputs": [],
   "source": [
    "test = pd.read_csv('/Users/djw/Documents/pCloud_synced/Academics/Projects/2020_thesis/thesis_experiments/3_experiments/3_3_experience_sampling/3_3_1_raw_data/run_1/run1_qualtrics_onboardingOffboarding.csv')"
   ]
  },
  {
   "cell_type": "code",
   "execution_count": null,
   "metadata": {},
   "outputs": [],
   "source": [
    "subjects_full = pd.read_csv(path + 'run1_subjects.csv')\n",
    "subjects_full = subjects_full[['ParticipantIdentifier', 'Student Number']]"
   ]
  },
  {
   "cell_type": "code",
   "execution_count": null,
   "metadata": {},
   "outputs": [],
   "source": [
    "x = test.loc[2:, ['consent_sonaID', 'social_media_1', 'social_media_2', 'social_media_3', 'social_media_4']].reset_index(drop=True)\n",
    "x = x.rename(columns={\"social_media_1\": \"facebook\",\n",
    "                  \"social_media_2\": \"instagram\",\n",
    "                  'social_media_3': 'twitter',\n",
    "                  'social_media_4': 'tiktok'\n",
    "                 })\n",
    "x.consent_sonaID = x.consent_sonaID.astype('float64')\n",
    "\n",
    "social = subjects_full.merge(x, how='left', left_on='Student Number', right_on='consent_sonaID')\n",
    "social = social.drop_duplicates(subset=['ParticipantIdentifier'], keep='last').reset_index(drop=True)\n",
    "social.drop(columns=['Student Number', 'consent_sonaID'], inplace=True)"
   ]
  },
  {
   "cell_type": "code",
   "execution_count": null,
   "metadata": {},
   "outputs": [],
   "source": [
    "social.to_csv('socials.csv')"
   ]
  }
 ],
 "metadata": {
  "language_info": {
   "name": "python"
  },
  "orig_nbformat": 4
 },
 "nbformat": 4,
 "nbformat_minor": 2
}
