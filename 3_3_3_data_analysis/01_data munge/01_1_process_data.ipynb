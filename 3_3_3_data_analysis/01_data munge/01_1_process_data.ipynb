{
 "cells": [
  {
   "cell_type": "markdown",
   "metadata": {},
   "source": [
    "# Setup"
   ]
  },
  {
   "cell_type": "markdown",
   "metadata": {},
   "source": [
    "## Imports"
   ]
  },
  {
   "cell_type": "code",
   "execution_count": 1,
   "metadata": {},
   "outputs": [],
   "source": [
    "import numpy as np\n",
    "import pandas as pd\n",
    "import os\n",
    "from tqdm import tqdm\n",
    "import datetime\n",
    "from dateutil import parser\n",
    "import matplotlib.pyplot as plt\n",
    "import seaborn as sns"
   ]
  },
  {
   "cell_type": "markdown",
   "metadata": {},
   "source": [
    "## Set Paths"
   ]
  },
  {
   "cell_type": "code",
   "execution_count": 21,
   "metadata": {},
   "outputs": [],
   "source": [
    "# set run\n",
    "run_num = 1\n",
    "\n",
    "if run_num ==1:\n",
    "    # run 1\n",
    "    path = '/Users/djw/Documents/pCloud_synced/Academics/Projects/2020_thesis/thesis_experiments/3_experiments/3_3_experience_sampling/3_3_1_raw_data/run_1/app_data/'\n",
    "    save_path = '/Users/djw/Documents/pCloud_synced/Academics/Projects/2020_thesis/thesis_experiments/3_experiments/3_3_experience_sampling/3_3_2_processed_data/run_1/'\n",
    "    subjects_run1 = pd.read_csv(path + '../run1_subjects.csv')\n",
    "    subjects = subjects_run1.ParticipantIdentifier\n",
    "elif run_num ==2:\n",
    "    # run 2\n",
    "    path = '/Users/djw/Documents/pCloud_synced/Academics/Projects/2020_thesis/thesis_experiments/3_experiments/3_3_experience_sampling/3_3_1_raw_data/run_2/app_data/'\n",
    "    save_path = '/Users/djw/Documents/pCloud_synced/Academics/Projects/2020_thesis/thesis_experiments/3_experiments/3_3_experience_sampling/3_3_2_processed_data/run_2/'\n",
    "    subjects_run2 = pd.read_csv(path + '../run2_subjects.csv')\n",
    "    subjects = subjects_run2.ParticipantIdentifier\n",
    "    \n",
    "eda_reports_path = '/Users/djw/Documents/pCloud_synced/Academics/Projects/2020_thesis/thesis_experiments/3_experiments/3_3_experience_sampling/3_3_4_outputs/EDA/'"
   ]
  },
  {
   "cell_type": "markdown",
   "metadata": {},
   "source": [
    "# Active Data"
   ]
  },
  {
   "cell_type": "markdown",
   "metadata": {},
   "source": [
    "## Import Data"
   ]
  },
  {
   "cell_type": "code",
   "execution_count": 3,
   "metadata": {},
   "outputs": [],
   "source": [
    "# erase df if it already exists\n",
    "if 'df' in globals():\n",
    "    del(df)\n",
    "    print('deleted existing df')"
   ]
  },
  {
   "cell_type": "code",
   "execution_count": 4,
   "metadata": {},
   "outputs": [
    {
     "name": "stderr",
     "output_type": "stream",
     "text": [
      "  0%|          | 0/87 [00:00<?, ?it/s]"
     ]
    },
    {
     "name": "stderr",
     "output_type": "stream",
     "text": [
      "100%|██████████| 87/87 [00:02<00:00, 31.59it/s]\n"
     ]
    }
   ],
   "source": [
    "# loop through all days\n",
    "days = [i for i in os.listdir(path) if i.startswith('RK')]\n",
    "for day in tqdm(days):\n",
    "    files = os.listdir(path + day)\n",
    "    surveyQuestions = [i for i in files if i.startswith('SurveyQuestionResults')]\n",
    "    # there should be only one\n",
    "    for file in surveyQuestions:\n",
    "        if 'df' not in globals():\n",
    "            df = pd.read_csv(path + day + '/' + file)\n",
    "        else:\n",
    "            temp_df = pd.read_csv(path + day + '/' + file)\n",
    "            df = pd.concat([df,temp_df], axis=0)"
   ]
  },
  {
   "cell_type": "code",
   "execution_count": 5,
   "metadata": {},
   "outputs": [
    {
     "data": {
      "text/plain": [
       "(597839, 8)"
      ]
     },
     "execution_count": 5,
     "metadata": {},
     "output_type": "execute_result"
    }
   ],
   "source": [
    "df.shape"
   ]
  },
  {
   "cell_type": "code",
   "execution_count": 6,
   "metadata": {},
   "outputs": [
    {
     "data": {
      "text/html": [
       "<div>\n",
       "<style scoped>\n",
       "    .dataframe tbody tr th:only-of-type {\n",
       "        vertical-align: middle;\n",
       "    }\n",
       "\n",
       "    .dataframe tbody tr th {\n",
       "        vertical-align: top;\n",
       "    }\n",
       "\n",
       "    .dataframe thead th {\n",
       "        text-align: right;\n",
       "    }\n",
       "</style>\n",
       "<table border=\"1\" class=\"dataframe\">\n",
       "  <thead>\n",
       "    <tr style=\"text-align: right;\">\n",
       "      <th></th>\n",
       "      <th>ParticipantIdentifier</th>\n",
       "      <th>ResultIdentifier</th>\n",
       "      <th>Answers</th>\n",
       "      <th>EndDate</th>\n",
       "    </tr>\n",
       "  </thead>\n",
       "  <tbody>\n",
       "    <tr>\n",
       "      <th>0</th>\n",
       "      <td>6338356d-f098-46ea-b270-10c6fff7e67e</td>\n",
       "      <td>WEEKLY_goal_report1</td>\n",
       "      <td>19</td>\n",
       "      <td>2022-10-21T21:55:56-04:00</td>\n",
       "    </tr>\n",
       "    <tr>\n",
       "      <th>1</th>\n",
       "      <td>6338356d-f098-46ea-b270-10c6fff7e67e</td>\n",
       "      <td>WEEKLY_goal_report2</td>\n",
       "      <td>2</td>\n",
       "      <td>2022-10-21T21:55:59-04:00</td>\n",
       "    </tr>\n",
       "    <tr>\n",
       "      <th>2</th>\n",
       "      <td>c62ae7a2-6fe6-4fd5-9b9e-93773b08d8b9</td>\n",
       "      <td>task_custom_bart_info1</td>\n",
       "      <td>{\"totalEarnings\":0}</td>\n",
       "      <td>2022-10-24T07:04:41-04:00</td>\n",
       "    </tr>\n",
       "    <tr>\n",
       "      <th>3</th>\n",
       "      <td>c62ae7a2-6fe6-4fd5-9b9e-93773b08d8b9</td>\n",
       "      <td>task_custom_bart_info2</td>\n",
       "      <td>{\"totalEarnings\":0}</td>\n",
       "      <td>2022-10-24T07:04:41-04:00</td>\n",
       "    </tr>\n",
       "    <tr>\n",
       "      <th>4</th>\n",
       "      <td>c62ae7a2-6fe6-4fd5-9b9e-93773b08d8b9</td>\n",
       "      <td>task_custom_bart_info3</td>\n",
       "      <td>{\"totalEarnings\":0}</td>\n",
       "      <td>2022-10-24T07:04:42-04:00</td>\n",
       "    </tr>\n",
       "  </tbody>\n",
       "</table>\n",
       "</div>"
      ],
      "text/plain": [
       "                  ParticipantIdentifier        ResultIdentifier  \\\n",
       "0  6338356d-f098-46ea-b270-10c6fff7e67e     WEEKLY_goal_report1   \n",
       "1  6338356d-f098-46ea-b270-10c6fff7e67e     WEEKLY_goal_report2   \n",
       "2  c62ae7a2-6fe6-4fd5-9b9e-93773b08d8b9  task_custom_bart_info1   \n",
       "3  c62ae7a2-6fe6-4fd5-9b9e-93773b08d8b9  task_custom_bart_info2   \n",
       "4  c62ae7a2-6fe6-4fd5-9b9e-93773b08d8b9  task_custom_bart_info3   \n",
       "\n",
       "               Answers                    EndDate  \n",
       "0                   19  2022-10-21T21:55:56-04:00  \n",
       "1                    2  2022-10-21T21:55:59-04:00  \n",
       "2  {\"totalEarnings\":0}  2022-10-24T07:04:41-04:00  \n",
       "3  {\"totalEarnings\":0}  2022-10-24T07:04:41-04:00  \n",
       "4  {\"totalEarnings\":0}  2022-10-24T07:04:42-04:00  "
      ]
     },
     "execution_count": 6,
     "metadata": {},
     "output_type": "execute_result"
    }
   ],
   "source": [
    "# select relevant columns\n",
    "df = df[['ParticipantIdentifier', 'ResultIdentifier', 'Answers', 'EndDate']]\n",
    "df = df.reset_index(drop=True)\n",
    "df.head()"
   ]
  },
  {
   "cell_type": "code",
   "execution_count": 7,
   "metadata": {},
   "outputs": [
    {
     "data": {
      "text/plain": [
       "ParticipantIdentifier     0\n",
       "ResultIdentifier          0\n",
       "Answers                   2\n",
       "EndDate                  15\n",
       "dtype: int64"
      ]
     },
     "execution_count": 7,
     "metadata": {},
     "output_type": "execute_result"
    }
   ],
   "source": [
    "df.isna().sum()"
   ]
  },
  {
   "cell_type": "code",
   "execution_count": 8,
   "metadata": {},
   "outputs": [],
   "source": [
    "# Remove rows without valid EndDate value\n",
    "df = df.dropna(subset=['EndDate']).reset_index(drop=True)\n",
    "\n",
    "# Select relevant subjects\n",
    "df = df.loc[df.ParticipantIdentifier.isin(subjects)].reset_index(drop=True)"
   ]
  },
  {
   "cell_type": "code",
   "execution_count": 9,
   "metadata": {},
   "outputs": [
    {
     "name": "stderr",
     "output_type": "stream",
     "text": [
      "100%|██████████| 586408/586408 [01:00<00:00, 9686.29it/s]\n"
     ]
    }
   ],
   "source": [
    "# add trial date and time columns\n",
    "for i in tqdm(range(df.shape[0])):\n",
    "    dt = parser.parse(df.loc[i, 'EndDate'])\n",
    "    df.loc[i, 'datetime'] = dt\n",
    "    df.loc[i, 'trial_date'] = (dt + datetime.timedelta(hours = -4.75)).date() # trial day associated with sample (4:45am is when the day flips)\n",
    "    df.loc[i, 'time'] = dt.time()"
   ]
  },
  {
   "cell_type": "code",
   "execution_count": null,
   "metadata": {},
   "outputs": [],
   "source": [
    "# save to csv\n",
    "if run_num ==1:\n",
    "    # run 1\n",
    "    df.to_csv(save_path + 'run1_survey_results.csv', index=False)\n",
    "if run_num ==2:\n",
    "    # run 2\n",
    "    df.to_csv(save_path + 'run2_survey_results.csv', index=False)"
   ]
  },
  {
   "cell_type": "markdown",
   "metadata": {},
   "source": [
    "# Gap App"
   ]
  },
  {
   "cell_type": "markdown",
   "metadata": {},
   "source": [
    "## Self Report"
   ]
  },
  {
   "cell_type": "markdown",
   "metadata": {},
   "source": [
    "### Affect"
   ]
  },
  {
   "cell_type": "markdown",
   "metadata": {},
   "source": [
    "#### Select Data"
   ]
  },
  {
   "cell_type": "code",
   "execution_count": 10,
   "metadata": {},
   "outputs": [],
   "source": [
    "df_affect = df.loc[df.ResultIdentifier.str.startswith('affect_')].reset_index(drop=True)\n",
    "df_affect_am = df.loc[(df.ResultIdentifier.str.startswith('affect_')) & (df.ResultIdentifier.str.endswith('am'))].reset_index(drop=True)\n",
    "df_affect_pm = df.loc[(df.ResultIdentifier.str.startswith('affect_')) & (~df.ResultIdentifier.str.endswith('am'))].reset_index(drop=True)"
   ]
  },
  {
   "cell_type": "markdown",
   "metadata": {},
   "source": [
    "#### Convert to Wide"
   ]
  },
  {
   "cell_type": "code",
   "execution_count": 15,
   "metadata": {},
   "outputs": [],
   "source": [
    "df_affect_pm_wide = df_affect_pm.pivot_table(index=[\"ParticipantIdentifier\", \"trial_date\"], \n",
    "                    columns='ResultIdentifier', \n",
    "                    values='Answers').reset_index()\n",
    "# get rid of name on index\n",
    "df_affect_pm_wide = df_affect_pm_wide.rename_axis(None, axis=1)\n",
    "\n",
    "df_affect_am_wide = df_affect_am.pivot_table(index=[\"ParticipantIdentifier\", \"trial_date\"], \n",
    "                    columns='ResultIdentifier', \n",
    "                    values='Answers').reset_index()\n",
    "# get rid of name on index\n",
    "df_affect_am_wide = df_affect_am_wide.rename_axis(None, axis=1)"
   ]
  },
  {
   "cell_type": "code",
   "execution_count": 16,
   "metadata": {},
   "outputs": [
    {
     "data": {
      "text/html": [
       "<div>\n",
       "<style scoped>\n",
       "    .dataframe tbody tr th:only-of-type {\n",
       "        vertical-align: middle;\n",
       "    }\n",
       "\n",
       "    .dataframe tbody tr th {\n",
       "        vertical-align: top;\n",
       "    }\n",
       "\n",
       "    .dataframe thead th {\n",
       "        text-align: right;\n",
       "    }\n",
       "</style>\n",
       "<table border=\"1\" class=\"dataframe\">\n",
       "  <thead>\n",
       "    <tr style=\"text-align: right;\">\n",
       "      <th></th>\n",
       "      <th>ParticipantIdentifier</th>\n",
       "      <th>trial_date</th>\n",
       "      <th>affect_neg_angry</th>\n",
       "      <th>affect_neg_ashamed</th>\n",
       "      <th>affect_neg_bored</th>\n",
       "      <th>affect_neg_depressed</th>\n",
       "      <th>affect_neg_embarrassed</th>\n",
       "      <th>affect_neg_frustrated</th>\n",
       "      <th>affect_neg_guilty</th>\n",
       "      <th>affect_neg_lazy</th>\n",
       "      <th>...</th>\n",
       "      <th>affect_neg_sad_am</th>\n",
       "      <th>affect_neg_stressed_am</th>\n",
       "      <th>affect_pos_amused_am</th>\n",
       "      <th>affect_pos_appreciated_am</th>\n",
       "      <th>affect_pos_excited_am</th>\n",
       "      <th>affect_pos_focused_am</th>\n",
       "      <th>affect_pos_happy_am</th>\n",
       "      <th>affect_pos_hopeful_am</th>\n",
       "      <th>affect_pos_motivated_am</th>\n",
       "      <th>affect_pos_relaxedCalm_am</th>\n",
       "    </tr>\n",
       "  </thead>\n",
       "  <tbody>\n",
       "    <tr>\n",
       "      <th>0</th>\n",
       "      <td>0501ba67-3406-4779-aff1-878a0e9f7885</td>\n",
       "      <td>2022-09-30</td>\n",
       "      <td>1.0</td>\n",
       "      <td>4.0</td>\n",
       "      <td>5.0</td>\n",
       "      <td>4.0</td>\n",
       "      <td>1.0</td>\n",
       "      <td>3.0</td>\n",
       "      <td>4.0</td>\n",
       "      <td>4.0</td>\n",
       "      <td>...</td>\n",
       "      <td>NaN</td>\n",
       "      <td>NaN</td>\n",
       "      <td>NaN</td>\n",
       "      <td>NaN</td>\n",
       "      <td>NaN</td>\n",
       "      <td>NaN</td>\n",
       "      <td>NaN</td>\n",
       "      <td>NaN</td>\n",
       "      <td>NaN</td>\n",
       "      <td>NaN</td>\n",
       "    </tr>\n",
       "    <tr>\n",
       "      <th>1</th>\n",
       "      <td>0501ba67-3406-4779-aff1-878a0e9f7885</td>\n",
       "      <td>2022-10-01</td>\n",
       "      <td>1.0</td>\n",
       "      <td>2.0</td>\n",
       "      <td>1.0</td>\n",
       "      <td>1.0</td>\n",
       "      <td>1.0</td>\n",
       "      <td>3.0</td>\n",
       "      <td>3.0</td>\n",
       "      <td>3.0</td>\n",
       "      <td>...</td>\n",
       "      <td>2.0</td>\n",
       "      <td>2.0</td>\n",
       "      <td>1.0</td>\n",
       "      <td>3.0</td>\n",
       "      <td>4.0</td>\n",
       "      <td>4.0</td>\n",
       "      <td>4.0</td>\n",
       "      <td>5.0</td>\n",
       "      <td>4.0</td>\n",
       "      <td>3.0</td>\n",
       "    </tr>\n",
       "    <tr>\n",
       "      <th>2</th>\n",
       "      <td>0501ba67-3406-4779-aff1-878a0e9f7885</td>\n",
       "      <td>2022-10-02</td>\n",
       "      <td>3.0</td>\n",
       "      <td>1.0</td>\n",
       "      <td>4.0</td>\n",
       "      <td>5.0</td>\n",
       "      <td>1.0</td>\n",
       "      <td>4.0</td>\n",
       "      <td>2.0</td>\n",
       "      <td>5.0</td>\n",
       "      <td>...</td>\n",
       "      <td>NaN</td>\n",
       "      <td>NaN</td>\n",
       "      <td>NaN</td>\n",
       "      <td>NaN</td>\n",
       "      <td>NaN</td>\n",
       "      <td>NaN</td>\n",
       "      <td>NaN</td>\n",
       "      <td>NaN</td>\n",
       "      <td>NaN</td>\n",
       "      <td>NaN</td>\n",
       "    </tr>\n",
       "  </tbody>\n",
       "</table>\n",
       "<p>3 rows × 42 columns</p>\n",
       "</div>"
      ],
      "text/plain": [
       "                  ParticipantIdentifier  trial_date affect_neg_angry  \\\n",
       "0  0501ba67-3406-4779-aff1-878a0e9f7885  2022-09-30              1.0   \n",
       "1  0501ba67-3406-4779-aff1-878a0e9f7885  2022-10-01              1.0   \n",
       "2  0501ba67-3406-4779-aff1-878a0e9f7885  2022-10-02              3.0   \n",
       "\n",
       "  affect_neg_ashamed affect_neg_bored affect_neg_depressed  \\\n",
       "0                4.0              5.0                  4.0   \n",
       "1                2.0              1.0                  1.0   \n",
       "2                1.0              4.0                  5.0   \n",
       "\n",
       "  affect_neg_embarrassed affect_neg_frustrated affect_neg_guilty  \\\n",
       "0                    1.0                   3.0               4.0   \n",
       "1                    1.0                   3.0               3.0   \n",
       "2                    1.0                   4.0               2.0   \n",
       "\n",
       "  affect_neg_lazy  ... affect_neg_sad_am affect_neg_stressed_am  \\\n",
       "0             4.0  ...               NaN                    NaN   \n",
       "1             3.0  ...               2.0                    2.0   \n",
       "2             5.0  ...               NaN                    NaN   \n",
       "\n",
       "  affect_pos_amused_am affect_pos_appreciated_am affect_pos_excited_am  \\\n",
       "0                  NaN                       NaN                   NaN   \n",
       "1                  1.0                       3.0                   4.0   \n",
       "2                  NaN                       NaN                   NaN   \n",
       "\n",
       "  affect_pos_focused_am affect_pos_happy_am affect_pos_hopeful_am  \\\n",
       "0                   NaN                 NaN                   NaN   \n",
       "1                   4.0                 4.0                   5.0   \n",
       "2                   NaN                 NaN                   NaN   \n",
       "\n",
       "  affect_pos_motivated_am affect_pos_relaxedCalm_am  \n",
       "0                     NaN                       NaN  \n",
       "1                     4.0                       3.0  \n",
       "2                     NaN                       NaN  \n",
       "\n",
       "[3 rows x 42 columns]"
      ]
     },
     "execution_count": 16,
     "metadata": {},
     "output_type": "execute_result"
    }
   ],
   "source": [
    "# join\n",
    "df_daily_affect_wide = df_affect_pm_wide.merge(df_affect_am_wide, how='left', on=['ParticipantIdentifier', 'trial_date'])\n",
    "\n",
    "df_daily_affect_wide.head(3)"
   ]
  },
  {
   "cell_type": "code",
   "execution_count": 47,
   "metadata": {},
   "outputs": [
    {
     "data": {
      "text/plain": [
       "datetime.date(2022, 9, 27)"
      ]
     },
     "execution_count": 47,
     "metadata": {},
     "output_type": "execute_result"
    }
   ],
   "source": [
    "df_complete_idDate.trial_date[0].date()"
   ]
  },
  {
   "cell_type": "code",
   "execution_count": 45,
   "metadata": {},
   "outputs": [
    {
     "data": {
      "text/plain": [
       "datetime.date(2022, 9, 30)"
      ]
     },
     "execution_count": 45,
     "metadata": {},
     "output_type": "execute_result"
    }
   ],
   "source": [
    "df_daily_affect_wide.trial_date[0]"
   ]
  },
  {
   "cell_type": "code",
   "execution_count": 48,
   "metadata": {},
   "outputs": [],
   "source": [
    "# Create df with one participant ID for every trial_date\n",
    "\n",
    "# Create a series of dates from '2022-09-27' to '2022-12-20'\n",
    "date_series = pd.date_range(start='2022-09-27', end='2022-12-20')\n",
    "ids_series = subjects\n",
    "\n",
    "# Create a dataframe using a cartesian product of the two series\n",
    "df_complete_idDate = pd.DataFrame({\n",
    "    'ParticipantIdentifier': np.repeat(ids_series, len(date_series)),\n",
    "    'trial_date': date_series.tolist() * len(ids_series)\n",
    "}).reset_index(drop=True)\n",
    "\n",
    "# Convert trial_date to datetime.date\n",
    "df_complete_idDate['trial_date'] = pd.to_datetime(df_complete_idDate['trial_date']).dt.date\n",
    "\n",
    "# Join with affect df\n",
    "df_daily_affect_wide = df_complete_idDate.merge(df_daily_affect_wide, how='left', on=['ParticipantIdentifier', 'trial_date'])"
   ]
  },
  {
   "cell_type": "markdown",
   "metadata": {},
   "source": [
    "#### EDA Profiling"
   ]
  },
  {
   "cell_type": "code",
   "execution_count": 17,
   "metadata": {},
   "outputs": [
    {
     "name": "stderr",
     "output_type": "stream",
     "text": [
      "/Users/djw/Documents/pCloud_synced/Academics/Projects/2020_thesis/thesis_experiments/3_experiments/3_3_experience_sampling/.venv/lib/python3.11/site-packages/tqdm/auto.py:21: TqdmWarning: IProgress not found. Please update jupyter and ipywidgets. See https://ipywidgets.readthedocs.io/en/stable/user_install.html\n",
      "  from .autonotebook import tqdm as notebook_tqdm\n"
     ]
    }
   ],
   "source": [
    "from ydata_profiling import ProfileReport"
   ]
  },
  {
   "cell_type": "code",
   "execution_count": 52,
   "metadata": {},
   "outputs": [
    {
     "name": "stderr",
     "output_type": "stream",
     "text": [
      "Summarize dataset:   0%|          | 0/5 [00:00<?, ?it/s]"
     ]
    },
    {
     "name": "stderr",
     "output_type": "stream",
     "text": [
      "Summarize dataset: 100%|██████████| 450/450 [00:23<00:00, 19.24it/s, Completed]                                                   \n",
      "Generate report structure: 100%|██████████| 1/1 [00:04<00:00,  4.49s/it]\n",
      "Render HTML: 100%|██████████| 1/1 [00:03<00:00,  3.50s/it]\n",
      "Export report to file: 100%|██████████| 1/1 [00:00<00:00, 37.65it/s]\n"
     ]
    }
   ],
   "source": [
    "profile = ProfileReport(df_daily_affect_wide.iloc[:,2:], title=\"Affect | Pandas Profiling Report\")\n",
    "profile.to_file(eda_reports_path + \"affect_report2.html\")"
   ]
  },
  {
   "cell_type": "code",
   "execution_count": 20,
   "metadata": {},
   "outputs": [
    {
     "data": {
      "text/html": [
       "<div>\n",
       "<style scoped>\n",
       "    .dataframe tbody tr th:only-of-type {\n",
       "        vertical-align: middle;\n",
       "    }\n",
       "\n",
       "    .dataframe tbody tr th {\n",
       "        vertical-align: top;\n",
       "    }\n",
       "\n",
       "    .dataframe thead th {\n",
       "        text-align: right;\n",
       "    }\n",
       "</style>\n",
       "<table border=\"1\" class=\"dataframe\">\n",
       "  <thead>\n",
       "    <tr style=\"text-align: right;\">\n",
       "      <th></th>\n",
       "      <th>ParticipantIdentifier</th>\n",
       "      <th>trial_date</th>\n",
       "      <th>affect_neg_angry</th>\n",
       "      <th>affect_neg_ashamed</th>\n",
       "      <th>affect_neg_bored</th>\n",
       "      <th>affect_neg_depressed</th>\n",
       "      <th>affect_neg_embarrassed</th>\n",
       "      <th>affect_neg_frustrated</th>\n",
       "      <th>affect_neg_guilty</th>\n",
       "      <th>affect_neg_lazy</th>\n",
       "      <th>...</th>\n",
       "      <th>affect_neg_sad_am</th>\n",
       "      <th>affect_neg_stressed_am</th>\n",
       "      <th>affect_pos_amused_am</th>\n",
       "      <th>affect_pos_appreciated_am</th>\n",
       "      <th>affect_pos_excited_am</th>\n",
       "      <th>affect_pos_focused_am</th>\n",
       "      <th>affect_pos_happy_am</th>\n",
       "      <th>affect_pos_hopeful_am</th>\n",
       "      <th>affect_pos_motivated_am</th>\n",
       "      <th>affect_pos_relaxedCalm_am</th>\n",
       "    </tr>\n",
       "  </thead>\n",
       "  <tbody>\n",
       "    <tr>\n",
       "      <th>321</th>\n",
       "      <td>147400db-43d9-4155-8bf2-b85b8adf4315</td>\n",
       "      <td>2022-12-02</td>\n",
       "      <td>16.5</td>\n",
       "      <td>16.5</td>\n",
       "      <td>16.5</td>\n",
       "      <td>16.5</td>\n",
       "      <td>16.5</td>\n",
       "      <td>16.5</td>\n",
       "      <td>16.5</td>\n",
       "      <td>16.5</td>\n",
       "      <td>...</td>\n",
       "      <td>NaN</td>\n",
       "      <td>NaN</td>\n",
       "      <td>NaN</td>\n",
       "      <td>NaN</td>\n",
       "      <td>NaN</td>\n",
       "      <td>NaN</td>\n",
       "      <td>NaN</td>\n",
       "      <td>NaN</td>\n",
       "      <td>NaN</td>\n",
       "      <td>NaN</td>\n",
       "    </tr>\n",
       "    <tr>\n",
       "      <th>424</th>\n",
       "      <td>156895d9-0f71-4844-92dd-3fb298f84f2b</td>\n",
       "      <td>2022-12-17</td>\n",
       "      <td>11.0</td>\n",
       "      <td>2.0</td>\n",
       "      <td>10.5</td>\n",
       "      <td>10.5</td>\n",
       "      <td>10.5</td>\n",
       "      <td>2.0</td>\n",
       "      <td>16.0</td>\n",
       "      <td>20.5</td>\n",
       "      <td>...</td>\n",
       "      <td>1.0</td>\n",
       "      <td>1.0</td>\n",
       "      <td>1.0</td>\n",
       "      <td>1.0</td>\n",
       "      <td>1.0</td>\n",
       "      <td>2.0</td>\n",
       "      <td>4.0</td>\n",
       "      <td>3.0</td>\n",
       "      <td>2.0</td>\n",
       "      <td>4.0</td>\n",
       "    </tr>\n",
       "    <tr>\n",
       "      <th>505</th>\n",
       "      <td>1e7aef96-16cc-43f8-95d4-e3bc582eb6d3</td>\n",
       "      <td>2022-10-04</td>\n",
       "      <td>5.5</td>\n",
       "      <td>5.5</td>\n",
       "      <td>5.5</td>\n",
       "      <td>5.5</td>\n",
       "      <td>5.5</td>\n",
       "      <td>7.0</td>\n",
       "      <td>5.5</td>\n",
       "      <td>27.0</td>\n",
       "      <td>...</td>\n",
       "      <td>1.0</td>\n",
       "      <td>2.0</td>\n",
       "      <td>2.0</td>\n",
       "      <td>3.0</td>\n",
       "      <td>1.0</td>\n",
       "      <td>1.0</td>\n",
       "      <td>5.0</td>\n",
       "      <td>2.0</td>\n",
       "      <td>1.0</td>\n",
       "      <td>4.0</td>\n",
       "    </tr>\n",
       "    <tr>\n",
       "      <th>790</th>\n",
       "      <td>2db37fd7-2694-4b46-80f9-9f4b58d57bfa</td>\n",
       "      <td>2022-09-29</td>\n",
       "      <td>12.0</td>\n",
       "      <td>22.0</td>\n",
       "      <td>12.0</td>\n",
       "      <td>12.0</td>\n",
       "      <td>12.0</td>\n",
       "      <td>12.0</td>\n",
       "      <td>7.0</td>\n",
       "      <td>12.0</td>\n",
       "      <td>...</td>\n",
       "      <td>NaN</td>\n",
       "      <td>NaN</td>\n",
       "      <td>NaN</td>\n",
       "      <td>NaN</td>\n",
       "      <td>NaN</td>\n",
       "      <td>NaN</td>\n",
       "      <td>NaN</td>\n",
       "      <td>NaN</td>\n",
       "      <td>NaN</td>\n",
       "      <td>NaN</td>\n",
       "    </tr>\n",
       "    <tr>\n",
       "      <th>2206</th>\n",
       "      <td>852b45ca-f506-42b2-b5bd-2b0072b1b28b</td>\n",
       "      <td>2022-10-03</td>\n",
       "      <td>5.5</td>\n",
       "      <td>11.5</td>\n",
       "      <td>17.5</td>\n",
       "      <td>5.5</td>\n",
       "      <td>17.0</td>\n",
       "      <td>22.0</td>\n",
       "      <td>22.0</td>\n",
       "      <td>22.5</td>\n",
       "      <td>...</td>\n",
       "      <td>NaN</td>\n",
       "      <td>NaN</td>\n",
       "      <td>NaN</td>\n",
       "      <td>NaN</td>\n",
       "      <td>NaN</td>\n",
       "      <td>NaN</td>\n",
       "      <td>NaN</td>\n",
       "      <td>NaN</td>\n",
       "      <td>NaN</td>\n",
       "      <td>NaN</td>\n",
       "    </tr>\n",
       "    <tr>\n",
       "      <th>2658</th>\n",
       "      <td>a57c95d0-1fcc-4a16-aba7-294259f89fd7</td>\n",
       "      <td>2022-10-08</td>\n",
       "      <td>21.5</td>\n",
       "      <td>16.0</td>\n",
       "      <td>6.0</td>\n",
       "      <td>27.0</td>\n",
       "      <td>17.0</td>\n",
       "      <td>27.5</td>\n",
       "      <td>12.0</td>\n",
       "      <td>12.5</td>\n",
       "      <td>...</td>\n",
       "      <td>NaN</td>\n",
       "      <td>NaN</td>\n",
       "      <td>NaN</td>\n",
       "      <td>NaN</td>\n",
       "      <td>NaN</td>\n",
       "      <td>NaN</td>\n",
       "      <td>NaN</td>\n",
       "      <td>NaN</td>\n",
       "      <td>NaN</td>\n",
       "      <td>NaN</td>\n",
       "    </tr>\n",
       "    <tr>\n",
       "      <th>2704</th>\n",
       "      <td>a57c95d0-1fcc-4a16-aba7-294259f89fd7</td>\n",
       "      <td>2022-12-14</td>\n",
       "      <td>16.0</td>\n",
       "      <td>11.0</td>\n",
       "      <td>22.0</td>\n",
       "      <td>11.0</td>\n",
       "      <td>11.5</td>\n",
       "      <td>16.5</td>\n",
       "      <td>16.5</td>\n",
       "      <td>21.0</td>\n",
       "      <td>...</td>\n",
       "      <td>NaN</td>\n",
       "      <td>NaN</td>\n",
       "      <td>NaN</td>\n",
       "      <td>NaN</td>\n",
       "      <td>NaN</td>\n",
       "      <td>NaN</td>\n",
       "      <td>NaN</td>\n",
       "      <td>NaN</td>\n",
       "      <td>NaN</td>\n",
       "      <td>NaN</td>\n",
       "    </tr>\n",
       "    <tr>\n",
       "      <th>3949</th>\n",
       "      <td>f889f1a4-9754-456e-ae08-092f992d3359</td>\n",
       "      <td>2022-10-09</td>\n",
       "      <td>5.5</td>\n",
       "      <td>5.5</td>\n",
       "      <td>20.5</td>\n",
       "      <td>5.5</td>\n",
       "      <td>5.5</td>\n",
       "      <td>17.0</td>\n",
       "      <td>5.5</td>\n",
       "      <td>22.0</td>\n",
       "      <td>...</td>\n",
       "      <td>NaN</td>\n",
       "      <td>NaN</td>\n",
       "      <td>NaN</td>\n",
       "      <td>NaN</td>\n",
       "      <td>NaN</td>\n",
       "      <td>NaN</td>\n",
       "      <td>NaN</td>\n",
       "      <td>NaN</td>\n",
       "      <td>NaN</td>\n",
       "      <td>NaN</td>\n",
       "    </tr>\n",
       "  </tbody>\n",
       "</table>\n",
       "<p>8 rows × 42 columns</p>\n",
       "</div>"
      ],
      "text/plain": [
       "                     ParticipantIdentifier  trial_date affect_neg_angry  \\\n",
       "321   147400db-43d9-4155-8bf2-b85b8adf4315  2022-12-02             16.5   \n",
       "424   156895d9-0f71-4844-92dd-3fb298f84f2b  2022-12-17             11.0   \n",
       "505   1e7aef96-16cc-43f8-95d4-e3bc582eb6d3  2022-10-04              5.5   \n",
       "790   2db37fd7-2694-4b46-80f9-9f4b58d57bfa  2022-09-29             12.0   \n",
       "2206  852b45ca-f506-42b2-b5bd-2b0072b1b28b  2022-10-03              5.5   \n",
       "2658  a57c95d0-1fcc-4a16-aba7-294259f89fd7  2022-10-08             21.5   \n",
       "2704  a57c95d0-1fcc-4a16-aba7-294259f89fd7  2022-12-14             16.0   \n",
       "3949  f889f1a4-9754-456e-ae08-092f992d3359  2022-10-09              5.5   \n",
       "\n",
       "     affect_neg_ashamed affect_neg_bored affect_neg_depressed  \\\n",
       "321                16.5             16.5                 16.5   \n",
       "424                 2.0             10.5                 10.5   \n",
       "505                 5.5              5.5                  5.5   \n",
       "790                22.0             12.0                 12.0   \n",
       "2206               11.5             17.5                  5.5   \n",
       "2658               16.0              6.0                 27.0   \n",
       "2704               11.0             22.0                 11.0   \n",
       "3949                5.5             20.5                  5.5   \n",
       "\n",
       "     affect_neg_embarrassed affect_neg_frustrated affect_neg_guilty  \\\n",
       "321                    16.5                  16.5              16.5   \n",
       "424                    10.5                   2.0              16.0   \n",
       "505                     5.5                   7.0               5.5   \n",
       "790                    12.0                  12.0               7.0   \n",
       "2206                   17.0                  22.0              22.0   \n",
       "2658                   17.0                  27.5              12.0   \n",
       "2704                   11.5                  16.5              16.5   \n",
       "3949                    5.5                  17.0               5.5   \n",
       "\n",
       "     affect_neg_lazy  ... affect_neg_sad_am affect_neg_stressed_am  \\\n",
       "321             16.5  ...               NaN                    NaN   \n",
       "424             20.5  ...               1.0                    1.0   \n",
       "505             27.0  ...               1.0                    2.0   \n",
       "790             12.0  ...               NaN                    NaN   \n",
       "2206            22.5  ...               NaN                    NaN   \n",
       "2658            12.5  ...               NaN                    NaN   \n",
       "2704            21.0  ...               NaN                    NaN   \n",
       "3949            22.0  ...               NaN                    NaN   \n",
       "\n",
       "     affect_pos_amused_am affect_pos_appreciated_am affect_pos_excited_am  \\\n",
       "321                   NaN                       NaN                   NaN   \n",
       "424                   1.0                       1.0                   1.0   \n",
       "505                   2.0                       3.0                   1.0   \n",
       "790                   NaN                       NaN                   NaN   \n",
       "2206                  NaN                       NaN                   NaN   \n",
       "2658                  NaN                       NaN                   NaN   \n",
       "2704                  NaN                       NaN                   NaN   \n",
       "3949                  NaN                       NaN                   NaN   \n",
       "\n",
       "     affect_pos_focused_am affect_pos_happy_am affect_pos_hopeful_am  \\\n",
       "321                    NaN                 NaN                   NaN   \n",
       "424                    2.0                 4.0                   3.0   \n",
       "505                    1.0                 5.0                   2.0   \n",
       "790                    NaN                 NaN                   NaN   \n",
       "2206                   NaN                 NaN                   NaN   \n",
       "2658                   NaN                 NaN                   NaN   \n",
       "2704                   NaN                 NaN                   NaN   \n",
       "3949                   NaN                 NaN                   NaN   \n",
       "\n",
       "     affect_pos_motivated_am affect_pos_relaxedCalm_am  \n",
       "321                      NaN                       NaN  \n",
       "424                      2.0                       4.0  \n",
       "505                      1.0                       4.0  \n",
       "790                      NaN                       NaN  \n",
       "2206                     NaN                       NaN  \n",
       "2658                     NaN                       NaN  \n",
       "2704                     NaN                       NaN  \n",
       "3949                     NaN                       NaN  \n",
       "\n",
       "[8 rows x 42 columns]"
      ]
     },
     "execution_count": 20,
     "metadata": {},
     "output_type": "execute_result"
    }
   ],
   "source": [
    "df_daily_affect_wide.loc[df_daily_affect_wide['affect_neg_angry']>5]"
   ]
  },
  {
   "cell_type": "markdown",
   "metadata": {},
   "source": [
    "#### Save"
   ]
  },
  {
   "cell_type": "code",
   "execution_count": null,
   "metadata": {},
   "outputs": [],
   "source": [
    "# save to csv\n",
    "df_daily_affect_wide.to_csv(save_path + 'run2_affect.csv', index=False)"
   ]
  }
 ],
 "metadata": {
  "kernelspec": {
   "display_name": ".venv",
   "language": "python",
   "name": "python3"
  },
  "language_info": {
   "codemirror_mode": {
    "name": "ipython",
    "version": 3
   },
   "file_extension": ".py",
   "mimetype": "text/x-python",
   "name": "python",
   "nbconvert_exporter": "python",
   "pygments_lexer": "ipython3",
   "version": "3.11.4"
  },
  "orig_nbformat": 4
 },
 "nbformat": 4,
 "nbformat_minor": 2
}
