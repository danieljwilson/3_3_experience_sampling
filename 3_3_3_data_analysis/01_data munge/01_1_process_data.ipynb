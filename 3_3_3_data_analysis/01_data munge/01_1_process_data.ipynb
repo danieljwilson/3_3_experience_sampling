{
 "cells": [
  {
   "cell_type": "markdown",
   "metadata": {},
   "source": [
    "# Setup"
   ]
  },
  {
   "cell_type": "markdown",
   "metadata": {},
   "source": [
    "## Imports"
   ]
  },
  {
   "cell_type": "code",
   "execution_count": 2,
   "metadata": {},
   "outputs": [],
   "source": [
    "import numpy as np\n",
    "import pandas as pd\n",
    "import os\n",
    "from tqdm import tqdm\n",
    "import datetime\n",
    "from dateutil import parser\n",
    "import matplotlib.pyplot as plt\n",
    "import seaborn as sns"
   ]
  },
  {
   "cell_type": "markdown",
   "metadata": {},
   "source": [
    "## Set Paths"
   ]
  },
  {
   "cell_type": "code",
   "execution_count": 4,
   "metadata": {},
   "outputs": [],
   "source": [
    "# set run\n",
    "run_num = 1\n",
    "\n",
    "if run_num ==1:\n",
    "    # run 1\n",
    "    path = '/Users/djw/Documents/pCloud_synced/Academics/Projects/2020_thesis/thesis_experiments/3_experiments/3_3_experience_sampling/3_3_1_raw_data/run_1/app_data/'\n",
    "    save_path = '/Users/djw/Documents/pCloud_synced/Academics/Projects/2020_thesis/thesis_experiments/3_experiments/3_3_experience_sampling/3_3_2_processed_data/run_1/'\n",
    "    subjects_run1 = pd.read_csv(path + '../run1_subjects.csv')\n",
    "    subjects = subjects_run1.ParticipantIdentifier\n",
    "elif run_num ==2:\n",
    "    # run 2\n",
    "    path = '/Users/djw/Documents/pCloud_synced/Academics/Projects/2020_thesis/thesis_experiments/3_experiments/3_3_experience_sampling/3_3_1_raw_data/run_2/app_data/'\n",
    "    save_path = '/Users/djw/Documents/pCloud_synced/Academics/Projects/2020_thesis/thesis_experiments/3_experiments/3_3_experience_sampling/3_3_2_processed_data/run_2/'\n",
    "    subjects_run2 = pd.read_csv(path + '../run2_subjects.csv')\n",
    "    subjects = subjects_run2.ParticipantIdentifier"
   ]
  },
  {
   "cell_type": "markdown",
   "metadata": {},
   "source": [
    "# Active Data"
   ]
  },
  {
   "cell_type": "markdown",
   "metadata": {},
   "source": [
    "## Import Data"
   ]
  },
  {
   "cell_type": "code",
   "execution_count": 3,
   "metadata": {},
   "outputs": [],
   "source": [
    "# erase df if it already exists\n",
    "if 'df' in globals():\n",
    "    del(df)\n",
    "    print('deleted existing df')"
   ]
  },
  {
   "cell_type": "code",
   "execution_count": 5,
   "metadata": {},
   "outputs": [
    {
     "name": "stderr",
     "output_type": "stream",
     "text": [
      "100%|██████████| 87/87 [00:02<00:00, 31.07it/s]\n"
     ]
    }
   ],
   "source": [
    "# loop through all days\n",
    "days = [i for i in os.listdir(path) if i.startswith('RK')]\n",
    "for day in tqdm(days):\n",
    "    files = os.listdir(path + day)\n",
    "    surveyQuestions = [i for i in files if i.startswith('SurveyQuestionResults')]\n",
    "    # there should be only one\n",
    "    for file in surveyQuestions:\n",
    "        if 'df' not in globals():\n",
    "            df = pd.read_csv(path + day + '/' + file)\n",
    "        else:\n",
    "            temp_df = pd.read_csv(path + day + '/' + file)\n",
    "            df = pd.concat([df,temp_df], axis=0)"
   ]
  },
  {
   "cell_type": "code",
   "execution_count": 6,
   "metadata": {},
   "outputs": [
    {
     "data": {
      "text/plain": [
       "(597839, 8)"
      ]
     },
     "execution_count": 6,
     "metadata": {},
     "output_type": "execute_result"
    }
   ],
   "source": [
    "df.shape"
   ]
  },
  {
   "cell_type": "code",
   "execution_count": 9,
   "metadata": {},
   "outputs": [
    {
     "data": {
      "text/html": [
       "<div>\n",
       "<style scoped>\n",
       "    .dataframe tbody tr th:only-of-type {\n",
       "        vertical-align: middle;\n",
       "    }\n",
       "\n",
       "    .dataframe tbody tr th {\n",
       "        vertical-align: top;\n",
       "    }\n",
       "\n",
       "    .dataframe thead th {\n",
       "        text-align: right;\n",
       "    }\n",
       "</style>\n",
       "<table border=\"1\" class=\"dataframe\">\n",
       "  <thead>\n",
       "    <tr style=\"text-align: right;\">\n",
       "      <th></th>\n",
       "      <th>ParticipantIdentifier</th>\n",
       "      <th>ResultIdentifier</th>\n",
       "      <th>Answers</th>\n",
       "      <th>EndDate</th>\n",
       "    </tr>\n",
       "  </thead>\n",
       "  <tbody>\n",
       "    <tr>\n",
       "      <th>0</th>\n",
       "      <td>6338356d-f098-46ea-b270-10c6fff7e67e</td>\n",
       "      <td>WEEKLY_goal_report1</td>\n",
       "      <td>19</td>\n",
       "      <td>2022-10-21T21:55:56-04:00</td>\n",
       "    </tr>\n",
       "    <tr>\n",
       "      <th>1</th>\n",
       "      <td>6338356d-f098-46ea-b270-10c6fff7e67e</td>\n",
       "      <td>WEEKLY_goal_report2</td>\n",
       "      <td>2</td>\n",
       "      <td>2022-10-21T21:55:59-04:00</td>\n",
       "    </tr>\n",
       "    <tr>\n",
       "      <th>2</th>\n",
       "      <td>c62ae7a2-6fe6-4fd5-9b9e-93773b08d8b9</td>\n",
       "      <td>task_custom_bart_info1</td>\n",
       "      <td>{\"totalEarnings\":0}</td>\n",
       "      <td>2022-10-24T07:04:41-04:00</td>\n",
       "    </tr>\n",
       "    <tr>\n",
       "      <th>3</th>\n",
       "      <td>c62ae7a2-6fe6-4fd5-9b9e-93773b08d8b9</td>\n",
       "      <td>task_custom_bart_info2</td>\n",
       "      <td>{\"totalEarnings\":0}</td>\n",
       "      <td>2022-10-24T07:04:41-04:00</td>\n",
       "    </tr>\n",
       "    <tr>\n",
       "      <th>4</th>\n",
       "      <td>c62ae7a2-6fe6-4fd5-9b9e-93773b08d8b9</td>\n",
       "      <td>task_custom_bart_info3</td>\n",
       "      <td>{\"totalEarnings\":0}</td>\n",
       "      <td>2022-10-24T07:04:42-04:00</td>\n",
       "    </tr>\n",
       "  </tbody>\n",
       "</table>\n",
       "</div>"
      ],
      "text/plain": [
       "                  ParticipantIdentifier        ResultIdentifier  \\\n",
       "0  6338356d-f098-46ea-b270-10c6fff7e67e     WEEKLY_goal_report1   \n",
       "1  6338356d-f098-46ea-b270-10c6fff7e67e     WEEKLY_goal_report2   \n",
       "2  c62ae7a2-6fe6-4fd5-9b9e-93773b08d8b9  task_custom_bart_info1   \n",
       "3  c62ae7a2-6fe6-4fd5-9b9e-93773b08d8b9  task_custom_bart_info2   \n",
       "4  c62ae7a2-6fe6-4fd5-9b9e-93773b08d8b9  task_custom_bart_info3   \n",
       "\n",
       "               Answers                    EndDate  \n",
       "0                   19  2022-10-21T21:55:56-04:00  \n",
       "1                    2  2022-10-21T21:55:59-04:00  \n",
       "2  {\"totalEarnings\":0}  2022-10-24T07:04:41-04:00  \n",
       "3  {\"totalEarnings\":0}  2022-10-24T07:04:41-04:00  \n",
       "4  {\"totalEarnings\":0}  2022-10-24T07:04:42-04:00  "
      ]
     },
     "execution_count": 9,
     "metadata": {},
     "output_type": "execute_result"
    }
   ],
   "source": [
    "# select relevant columns\n",
    "df = df[['ParticipantIdentifier', 'ResultIdentifier', 'Answers', 'EndDate']]\n",
    "df = df.reset_index(drop=True)\n",
    "df.head()"
   ]
  },
  {
   "cell_type": "code",
   "execution_count": 10,
   "metadata": {},
   "outputs": [
    {
     "data": {
      "text/plain": [
       "ParticipantIdentifier     0\n",
       "ResultIdentifier          0\n",
       "Answers                   2\n",
       "EndDate                  15\n",
       "dtype: int64"
      ]
     },
     "execution_count": 10,
     "metadata": {},
     "output_type": "execute_result"
    }
   ],
   "source": [
    "df.isna().sum()"
   ]
  },
  {
   "cell_type": "code",
   "execution_count": null,
   "metadata": {},
   "outputs": [],
   "source": [
    "# Remove rows without valid EndDate value\n",
    "df = df.dropna(subset=['EndDate']).reset_index(drop=True)\n",
    "\n",
    "# Select relevant subjects\n",
    "df = df.loc[df.ParticipantIdentifier.isin(subjects)].reset_index(drop=True)"
   ]
  }
 ],
 "metadata": {
  "kernelspec": {
   "display_name": ".venv",
   "language": "python",
   "name": "python3"
  },
  "language_info": {
   "codemirror_mode": {
    "name": "ipython",
    "version": 3
   },
   "file_extension": ".py",
   "mimetype": "text/x-python",
   "name": "python",
   "nbconvert_exporter": "python",
   "pygments_lexer": "ipython3",
   "version": "3.11.4"
  },
  "orig_nbformat": 4
 },
 "nbformat": 4,
 "nbformat_minor": 2
}
