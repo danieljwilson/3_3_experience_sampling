{
 "cells": [
  {
   "cell_type": "markdown",
   "metadata": {},
   "source": [
    "# Setup"
   ]
  },
  {
   "cell_type": "markdown",
   "metadata": {},
   "source": [
    "## Imports"
   ]
  },
  {
   "cell_type": "code",
   "execution_count": 1,
   "metadata": {},
   "outputs": [],
   "source": [
    "import numpy as np\n",
    "import pandas as pd\n",
    "import os\n",
    "from tqdm import tqdm\n",
    "import json\n",
    "import datetime\n",
    "from dateutil import parser\n",
    "import matplotlib.pyplot as plt\n",
    "import seaborn as sns\n",
    "from ydata_profiling import ProfileReport\n",
    "from importlib import reload\n",
    "import utils"
   ]
  },
  {
   "cell_type": "markdown",
   "metadata": {},
   "source": [
    "## Set Paths"
   ]
  },
  {
   "cell_type": "code",
   "execution_count": 2,
   "metadata": {},
   "outputs": [],
   "source": [
    "# set run\n",
    "run_num = 1\n",
    "\n",
    "if run_num ==1:\n",
    "    # run 1\n",
    "    path = '/Users/djw/Documents/pCloud_synced/Academics/Projects/2020_thesis/thesis_experiments/3_experiments/3_3_experience_sampling/3_3_1_raw_data/run_1/app_data/'\n",
    "    save_path = '/Users/djw/Documents/pCloud_synced/Academics/Projects/2020_thesis/thesis_experiments/3_experiments/3_3_experience_sampling/3_3_2_processed_data/run_1/'\n",
    "    subjects_run1 = pd.read_csv(path + '../run1_subjects.csv')\n",
    "    subjects = subjects_run1.ParticipantIdentifier\n",
    "elif run_num ==2:\n",
    "    # run 2\n",
    "    path = '/Users/djw/Documents/pCloud_synced/Academics/Projects/2020_thesis/thesis_experiments/3_experiments/3_3_experience_sampling/3_3_1_raw_data/run_2/app_data/'\n",
    "    save_path = '/Users/djw/Documents/pCloud_synced/Academics/Projects/2020_thesis/thesis_experiments/3_experiments/3_3_experience_sampling/3_3_2_processed_data/run_2/'\n",
    "    subjects_run2 = pd.read_csv(path + '../run2_subjects.csv')\n",
    "    subjects = subjects_run2.ParticipantIdentifier\n",
    "    \n",
    "eda_reports_path = '/Users/djw/Documents/pCloud_synced/Academics/Projects/2020_thesis/thesis_experiments/3_experiments/3_3_experience_sampling/3_3_4_outputs/EDA/'"
   ]
  },
  {
   "cell_type": "markdown",
   "metadata": {},
   "source": [
    "# Active Data"
   ]
  },
  {
   "cell_type": "markdown",
   "metadata": {},
   "source": [
    "## Import Data"
   ]
  },
  {
   "cell_type": "code",
   "execution_count": 3,
   "metadata": {},
   "outputs": [],
   "source": [
    "# erase df if it already exists\n",
    "if 'df' in globals():\n",
    "    del(df)\n",
    "    print('deleted existing df')"
   ]
  },
  {
   "cell_type": "code",
   "execution_count": 4,
   "metadata": {},
   "outputs": [
    {
     "name": "stderr",
     "output_type": "stream",
     "text": [
      "  0%|          | 0/87 [00:00<?, ?it/s]"
     ]
    },
    {
     "name": "stderr",
     "output_type": "stream",
     "text": [
      "100%|██████████| 87/87 [00:02<00:00, 29.97it/s]\n"
     ]
    }
   ],
   "source": [
    "# loop through all days\n",
    "days = [i for i in os.listdir(path) if i.startswith('RK')]\n",
    "for day in tqdm(days):\n",
    "    files = os.listdir(path + day)\n",
    "    surveyQuestions = [i for i in files if i.startswith('SurveyQuestionResults')]\n",
    "    # there should be only one\n",
    "    for file in surveyQuestions:\n",
    "        if 'df' not in globals():\n",
    "            df = pd.read_csv(path + day + '/' + file)\n",
    "        else:\n",
    "            temp_df = pd.read_csv(path + day + '/' + file)\n",
    "            df = pd.concat([df,temp_df], axis=0)"
   ]
  },
  {
   "cell_type": "code",
   "execution_count": 5,
   "metadata": {},
   "outputs": [
    {
     "data": {
      "text/plain": [
       "(597839, 8)"
      ]
     },
     "execution_count": 5,
     "metadata": {},
     "output_type": "execute_result"
    }
   ],
   "source": [
    "df.shape"
   ]
  },
  {
   "cell_type": "code",
   "execution_count": 6,
   "metadata": {},
   "outputs": [
    {
     "data": {
      "text/html": [
       "<div>\n",
       "<style scoped>\n",
       "    .dataframe tbody tr th:only-of-type {\n",
       "        vertical-align: middle;\n",
       "    }\n",
       "\n",
       "    .dataframe tbody tr th {\n",
       "        vertical-align: top;\n",
       "    }\n",
       "\n",
       "    .dataframe thead th {\n",
       "        text-align: right;\n",
       "    }\n",
       "</style>\n",
       "<table border=\"1\" class=\"dataframe\">\n",
       "  <thead>\n",
       "    <tr style=\"text-align: right;\">\n",
       "      <th></th>\n",
       "      <th>ParticipantIdentifier</th>\n",
       "      <th>ResultIdentifier</th>\n",
       "      <th>Answers</th>\n",
       "      <th>EndDate</th>\n",
       "    </tr>\n",
       "  </thead>\n",
       "  <tbody>\n",
       "    <tr>\n",
       "      <th>0</th>\n",
       "      <td>6338356d-f098-46ea-b270-10c6fff7e67e</td>\n",
       "      <td>WEEKLY_goal_report1</td>\n",
       "      <td>19</td>\n",
       "      <td>2022-10-21T21:55:56-04:00</td>\n",
       "    </tr>\n",
       "    <tr>\n",
       "      <th>1</th>\n",
       "      <td>6338356d-f098-46ea-b270-10c6fff7e67e</td>\n",
       "      <td>WEEKLY_goal_report2</td>\n",
       "      <td>2</td>\n",
       "      <td>2022-10-21T21:55:59-04:00</td>\n",
       "    </tr>\n",
       "    <tr>\n",
       "      <th>2</th>\n",
       "      <td>c62ae7a2-6fe6-4fd5-9b9e-93773b08d8b9</td>\n",
       "      <td>task_custom_bart_info1</td>\n",
       "      <td>{\"totalEarnings\":0}</td>\n",
       "      <td>2022-10-24T07:04:41-04:00</td>\n",
       "    </tr>\n",
       "    <tr>\n",
       "      <th>3</th>\n",
       "      <td>c62ae7a2-6fe6-4fd5-9b9e-93773b08d8b9</td>\n",
       "      <td>task_custom_bart_info2</td>\n",
       "      <td>{\"totalEarnings\":0}</td>\n",
       "      <td>2022-10-24T07:04:41-04:00</td>\n",
       "    </tr>\n",
       "    <tr>\n",
       "      <th>4</th>\n",
       "      <td>c62ae7a2-6fe6-4fd5-9b9e-93773b08d8b9</td>\n",
       "      <td>task_custom_bart_info3</td>\n",
       "      <td>{\"totalEarnings\":0}</td>\n",
       "      <td>2022-10-24T07:04:42-04:00</td>\n",
       "    </tr>\n",
       "  </tbody>\n",
       "</table>\n",
       "</div>"
      ],
      "text/plain": [
       "                  ParticipantIdentifier        ResultIdentifier  \\\n",
       "0  6338356d-f098-46ea-b270-10c6fff7e67e     WEEKLY_goal_report1   \n",
       "1  6338356d-f098-46ea-b270-10c6fff7e67e     WEEKLY_goal_report2   \n",
       "2  c62ae7a2-6fe6-4fd5-9b9e-93773b08d8b9  task_custom_bart_info1   \n",
       "3  c62ae7a2-6fe6-4fd5-9b9e-93773b08d8b9  task_custom_bart_info2   \n",
       "4  c62ae7a2-6fe6-4fd5-9b9e-93773b08d8b9  task_custom_bart_info3   \n",
       "\n",
       "               Answers                    EndDate  \n",
       "0                   19  2022-10-21T21:55:56-04:00  \n",
       "1                    2  2022-10-21T21:55:59-04:00  \n",
       "2  {\"totalEarnings\":0}  2022-10-24T07:04:41-04:00  \n",
       "3  {\"totalEarnings\":0}  2022-10-24T07:04:41-04:00  \n",
       "4  {\"totalEarnings\":0}  2022-10-24T07:04:42-04:00  "
      ]
     },
     "execution_count": 6,
     "metadata": {},
     "output_type": "execute_result"
    }
   ],
   "source": [
    "# select relevant columns\n",
    "df = df[['ParticipantIdentifier', 'ResultIdentifier', 'Answers', 'EndDate']]\n",
    "df = df.reset_index(drop=True)\n",
    "df.head()"
   ]
  },
  {
   "cell_type": "code",
   "execution_count": 7,
   "metadata": {},
   "outputs": [
    {
     "data": {
      "text/plain": [
       "ParticipantIdentifier     0\n",
       "ResultIdentifier          0\n",
       "Answers                   2\n",
       "EndDate                  15\n",
       "dtype: int64"
      ]
     },
     "execution_count": 7,
     "metadata": {},
     "output_type": "execute_result"
    }
   ],
   "source": [
    "df.isna().sum()"
   ]
  },
  {
   "cell_type": "code",
   "execution_count": 8,
   "metadata": {},
   "outputs": [],
   "source": [
    "# Remove rows without valid EndDate value\n",
    "df = df.dropna(subset=['EndDate']).reset_index(drop=True)\n",
    "\n",
    "# Select relevant subjects\n",
    "df = df.loc[df.ParticipantIdentifier.isin(subjects)].reset_index(drop=True)"
   ]
  },
  {
   "cell_type": "code",
   "execution_count": 9,
   "metadata": {},
   "outputs": [
    {
     "name": "stderr",
     "output_type": "stream",
     "text": [
      "100%|██████████| 586408/586408 [00:59<00:00, 9920.41it/s] \n"
     ]
    }
   ],
   "source": [
    "# add trial date and time columns\n",
    "for i in tqdm(range(df.shape[0])):\n",
    "    dt = parser.parse(df.loc[i, 'EndDate'])\n",
    "    df.loc[i, 'datetime'] = dt\n",
    "    df.loc[i, 'trial_date'] = (dt + datetime.timedelta(hours = -4.75)).date() # trial day associated with sample (4:45am is when the day flips)\n",
    "    df.loc[i, 'time'] = dt.time()"
   ]
  },
  {
   "cell_type": "code",
   "execution_count": 10,
   "metadata": {},
   "outputs": [
    {
     "data": {
      "text/plain": [
       "datetime.date(2022, 10, 21)"
      ]
     },
     "execution_count": 10,
     "metadata": {},
     "output_type": "execute_result"
    }
   ],
   "source": [
    "df['trial_date'][0]"
   ]
  },
  {
   "cell_type": "code",
   "execution_count": 11,
   "metadata": {},
   "outputs": [],
   "source": [
    "# save to csv\n",
    "if run_num ==1:\n",
    "    # run 1\n",
    "    df.to_csv(save_path + 'run1_app_survey_results.csv', index=False)\n",
    "if run_num ==2:\n",
    "    # run 2\n",
    "    df.to_csv(save_path + 'run2_app_survey_results.csv', index=False)"
   ]
  },
  {
   "cell_type": "markdown",
   "metadata": {},
   "source": [
    "# Gap App"
   ]
  },
  {
   "cell_type": "markdown",
   "metadata": {},
   "source": [
    "## Self Report"
   ]
  },
  {
   "cell_type": "markdown",
   "metadata": {},
   "source": [
    "### Affect"
   ]
  },
  {
   "cell_type": "markdown",
   "metadata": {},
   "source": [
    "#### Load Data"
   ]
  },
  {
   "cell_type": "code",
   "execution_count": 12,
   "metadata": {},
   "outputs": [
    {
     "name": "stdout",
     "output_type": "stream",
     "text": [
      "deleted existing df\n"
     ]
    }
   ],
   "source": [
    "# erase df if it already exists\n",
    "if 'df' in globals():\n",
    "    del(df)\n",
    "    print('deleted existing df')\n",
    "\n",
    "if 'df_daily_affect_wide' in globals():\n",
    "    del(df_daily_affect_wide)\n",
    "    print('deleted affect df')"
   ]
  },
  {
   "cell_type": "code",
   "execution_count": 13,
   "metadata": {},
   "outputs": [],
   "source": [
    "if run_num ==1:\n",
    "    # run 1\n",
    "    df = pd.read_csv(save_path + 'run1_app_survey_results.csv')\n",
    "if run_num ==2:\n",
    "    # run 2\n",
    "    df = pd.read_csv(save_path + 'run2_app_survey_results.csv')\n",
    "    \n",
    "# Convert the date column back to datetime.date\n",
    "df['trial_date'] = pd.to_datetime(df['trial_date']).dt.date"
   ]
  },
  {
   "cell_type": "markdown",
   "metadata": {},
   "source": [
    "#### Select Data"
   ]
  },
  {
   "cell_type": "code",
   "execution_count": 14,
   "metadata": {},
   "outputs": [],
   "source": [
    "df_affect = df.loc[df.ResultIdentifier.str.startswith('affect_')].reset_index(drop=True)\n",
    "df_affect_am = df.loc[(df.ResultIdentifier.str.startswith('affect_')) & (df.ResultIdentifier.str.endswith('am'))].reset_index(drop=True)\n",
    "df_affect_pm = df.loc[(df.ResultIdentifier.str.startswith('affect_')) & (~df.ResultIdentifier.str.endswith('am'))].reset_index(drop=True)"
   ]
  },
  {
   "cell_type": "markdown",
   "metadata": {},
   "source": [
    "#### Convert to Wide"
   ]
  },
  {
   "cell_type": "code",
   "execution_count": 15,
   "metadata": {},
   "outputs": [],
   "source": [
    "df_affect_pm_wide = df_affect_pm.pivot_table(index=[\"ParticipantIdentifier\", \"trial_date\"], \n",
    "                    columns='ResultIdentifier', \n",
    "                    values='Answers').reset_index()\n",
    "# get rid of name on index\n",
    "df_affect_pm_wide = df_affect_pm_wide.rename_axis(None, axis=1)\n",
    "\n",
    "df_affect_am_wide = df_affect_am.pivot_table(index=[\"ParticipantIdentifier\", \"trial_date\"], \n",
    "                    columns='ResultIdentifier', \n",
    "                    values='Answers').reset_index()\n",
    "# get rid of name on index\n",
    "df_affect_am_wide = df_affect_am_wide.rename_axis(None, axis=1)"
   ]
  },
  {
   "cell_type": "code",
   "execution_count": 16,
   "metadata": {},
   "outputs": [
    {
     "data": {
      "text/html": [
       "<div>\n",
       "<style scoped>\n",
       "    .dataframe tbody tr th:only-of-type {\n",
       "        vertical-align: middle;\n",
       "    }\n",
       "\n",
       "    .dataframe tbody tr th {\n",
       "        vertical-align: top;\n",
       "    }\n",
       "\n",
       "    .dataframe thead th {\n",
       "        text-align: right;\n",
       "    }\n",
       "</style>\n",
       "<table border=\"1\" class=\"dataframe\">\n",
       "  <thead>\n",
       "    <tr style=\"text-align: right;\">\n",
       "      <th></th>\n",
       "      <th>ParticipantIdentifier</th>\n",
       "      <th>trial_date</th>\n",
       "      <th>affect_neg_angry</th>\n",
       "      <th>affect_neg_ashamed</th>\n",
       "      <th>affect_neg_bored</th>\n",
       "      <th>affect_neg_depressed</th>\n",
       "      <th>affect_neg_embarrassed</th>\n",
       "      <th>affect_neg_frustrated</th>\n",
       "      <th>affect_neg_guilty</th>\n",
       "      <th>affect_neg_lazy</th>\n",
       "      <th>...</th>\n",
       "      <th>affect_neg_sad_am</th>\n",
       "      <th>affect_neg_stressed_am</th>\n",
       "      <th>affect_pos_amused_am</th>\n",
       "      <th>affect_pos_appreciated_am</th>\n",
       "      <th>affect_pos_excited_am</th>\n",
       "      <th>affect_pos_focused_am</th>\n",
       "      <th>affect_pos_happy_am</th>\n",
       "      <th>affect_pos_hopeful_am</th>\n",
       "      <th>affect_pos_motivated_am</th>\n",
       "      <th>affect_pos_relaxedCalm_am</th>\n",
       "    </tr>\n",
       "  </thead>\n",
       "  <tbody>\n",
       "    <tr>\n",
       "      <th>0</th>\n",
       "      <td>0501ba67-3406-4779-aff1-878a0e9f7885</td>\n",
       "      <td>2022-09-30</td>\n",
       "      <td>1.0</td>\n",
       "      <td>4.0</td>\n",
       "      <td>5.0</td>\n",
       "      <td>4.0</td>\n",
       "      <td>1.0</td>\n",
       "      <td>3.0</td>\n",
       "      <td>4.0</td>\n",
       "      <td>4.0</td>\n",
       "      <td>...</td>\n",
       "      <td>NaN</td>\n",
       "      <td>NaN</td>\n",
       "      <td>NaN</td>\n",
       "      <td>NaN</td>\n",
       "      <td>NaN</td>\n",
       "      <td>NaN</td>\n",
       "      <td>NaN</td>\n",
       "      <td>NaN</td>\n",
       "      <td>NaN</td>\n",
       "      <td>NaN</td>\n",
       "    </tr>\n",
       "    <tr>\n",
       "      <th>1</th>\n",
       "      <td>0501ba67-3406-4779-aff1-878a0e9f7885</td>\n",
       "      <td>2022-10-01</td>\n",
       "      <td>1.0</td>\n",
       "      <td>2.0</td>\n",
       "      <td>1.0</td>\n",
       "      <td>1.0</td>\n",
       "      <td>1.0</td>\n",
       "      <td>3.0</td>\n",
       "      <td>3.0</td>\n",
       "      <td>3.0</td>\n",
       "      <td>...</td>\n",
       "      <td>2.0</td>\n",
       "      <td>2.0</td>\n",
       "      <td>1.0</td>\n",
       "      <td>3.0</td>\n",
       "      <td>4.0</td>\n",
       "      <td>4.0</td>\n",
       "      <td>4.0</td>\n",
       "      <td>5.0</td>\n",
       "      <td>4.0</td>\n",
       "      <td>3.0</td>\n",
       "    </tr>\n",
       "    <tr>\n",
       "      <th>2</th>\n",
       "      <td>0501ba67-3406-4779-aff1-878a0e9f7885</td>\n",
       "      <td>2022-10-02</td>\n",
       "      <td>3.0</td>\n",
       "      <td>1.0</td>\n",
       "      <td>4.0</td>\n",
       "      <td>5.0</td>\n",
       "      <td>1.0</td>\n",
       "      <td>4.0</td>\n",
       "      <td>2.0</td>\n",
       "      <td>5.0</td>\n",
       "      <td>...</td>\n",
       "      <td>NaN</td>\n",
       "      <td>NaN</td>\n",
       "      <td>NaN</td>\n",
       "      <td>NaN</td>\n",
       "      <td>NaN</td>\n",
       "      <td>NaN</td>\n",
       "      <td>NaN</td>\n",
       "      <td>NaN</td>\n",
       "      <td>NaN</td>\n",
       "      <td>NaN</td>\n",
       "    </tr>\n",
       "  </tbody>\n",
       "</table>\n",
       "<p>3 rows × 42 columns</p>\n",
       "</div>"
      ],
      "text/plain": [
       "                  ParticipantIdentifier  trial_date affect_neg_angry  \\\n",
       "0  0501ba67-3406-4779-aff1-878a0e9f7885  2022-09-30              1.0   \n",
       "1  0501ba67-3406-4779-aff1-878a0e9f7885  2022-10-01              1.0   \n",
       "2  0501ba67-3406-4779-aff1-878a0e9f7885  2022-10-02              3.0   \n",
       "\n",
       "  affect_neg_ashamed affect_neg_bored affect_neg_depressed  \\\n",
       "0                4.0              5.0                  4.0   \n",
       "1                2.0              1.0                  1.0   \n",
       "2                1.0              4.0                  5.0   \n",
       "\n",
       "  affect_neg_embarrassed affect_neg_frustrated affect_neg_guilty  \\\n",
       "0                    1.0                   3.0               4.0   \n",
       "1                    1.0                   3.0               3.0   \n",
       "2                    1.0                   4.0               2.0   \n",
       "\n",
       "  affect_neg_lazy  ... affect_neg_sad_am affect_neg_stressed_am  \\\n",
       "0             4.0  ...               NaN                    NaN   \n",
       "1             3.0  ...               2.0                    2.0   \n",
       "2             5.0  ...               NaN                    NaN   \n",
       "\n",
       "  affect_pos_amused_am affect_pos_appreciated_am affect_pos_excited_am  \\\n",
       "0                  NaN                       NaN                   NaN   \n",
       "1                  1.0                       3.0                   4.0   \n",
       "2                  NaN                       NaN                   NaN   \n",
       "\n",
       "  affect_pos_focused_am affect_pos_happy_am affect_pos_hopeful_am  \\\n",
       "0                   NaN                 NaN                   NaN   \n",
       "1                   4.0                 4.0                   5.0   \n",
       "2                   NaN                 NaN                   NaN   \n",
       "\n",
       "  affect_pos_motivated_am affect_pos_relaxedCalm_am  \n",
       "0                     NaN                       NaN  \n",
       "1                     4.0                       3.0  \n",
       "2                     NaN                       NaN  \n",
       "\n",
       "[3 rows x 42 columns]"
      ]
     },
     "execution_count": 16,
     "metadata": {},
     "output_type": "execute_result"
    }
   ],
   "source": [
    "# join\n",
    "df_daily_affect_wide = df_affect_pm_wide.merge(df_affect_am_wide, how='left', on=['ParticipantIdentifier', 'trial_date'])\n",
    "\n",
    "df_daily_affect_wide.head(3)"
   ]
  },
  {
   "cell_type": "markdown",
   "metadata": {},
   "source": [
    "#### EDA Profiling"
   ]
  },
  {
   "cell_type": "code",
   "execution_count": null,
   "metadata": {},
   "outputs": [
    {
     "data": {
      "application/vnd.jupyter.widget-view+json": {
       "model_id": "02b155da7b2f4b1eaeabca5ed731074b",
       "version_major": 2,
       "version_minor": 0
      },
      "text/plain": [
       "Summarize dataset:   0%|          | 0/5 [00:00<?, ?it/s]"
      ]
     },
     "metadata": {},
     "output_type": "display_data"
    },
    {
     "data": {
      "application/vnd.jupyter.widget-view+json": {
       "model_id": "20bd5cb1efa84401b04029d713113df0",
       "version_major": 2,
       "version_minor": 0
      },
      "text/plain": [
       "Generate report structure:   0%|          | 0/1 [00:00<?, ?it/s]"
      ]
     },
     "metadata": {},
     "output_type": "display_data"
    },
    {
     "data": {
      "application/vnd.jupyter.widget-view+json": {
       "model_id": "7d6d7705ec3d4b61a9dafa4ee9aca19b",
       "version_major": 2,
       "version_minor": 0
      },
      "text/plain": [
       "Render HTML:   0%|          | 0/1 [00:00<?, ?it/s]"
      ]
     },
     "metadata": {},
     "output_type": "display_data"
    },
    {
     "data": {
      "application/vnd.jupyter.widget-view+json": {
       "model_id": "9f5161f170ce4215ae81a80b9aa1bee1",
       "version_major": 2,
       "version_minor": 0
      },
      "text/plain": [
       "Export report to file:   0%|          | 0/1 [00:00<?, ?it/s]"
      ]
     },
     "metadata": {},
     "output_type": "display_data"
    }
   ],
   "source": [
    "profile = ProfileReport(df_daily_affect_wide.iloc[:,2:], title=f\"Affect Run {run_num} | Pandas Profiling Report\")\n",
    "profile.to_file(eda_reports_path + f\"affect_report_run{run_num}.html\")"
   ]
  },
  {
   "cell_type": "markdown",
   "metadata": {},
   "source": [
    "**NOTE**\n",
    "\n",
    "There are a number of variables where the maximum values are well above 5, which is the maximum option that should be available. These glitch entries should be removed"
   ]
  },
  {
   "cell_type": "markdown",
   "metadata": {},
   "source": [
    "#### Clean\n",
    "\n",
    "<div class=\"alert alert-block alert-info\">\n",
    "<b>🧹 Process:</b><br>\n",
    "For our cleaning process we do the following:<br><br>\n",
    "\n",
    "<ol>\n",
    "    <li>Remove values greater than 5, given that the Likert scale only went to 5</li>\n",
    "    <br>\n",
    "    <li>Look for zero variance <b>columns</b> (affective measures) and <b>rows</b> (days) for subjects</li></h5>\n",
    "    <br>\n",
    "    👉 If the variance was zero for three or more columns then the subject was flagged (`affect_zeroVarCols_flag = True`)<br>\n",
    "    <br>\n",
    "    👉 If the variance was zero for more than 10% of a subjects completed days then the subject was flagged (`affect_zeroVarRows_flag = True`)\n",
    "</ol>\n",
    "</div>"
   ]
  },
  {
   "cell_type": "markdown",
   "metadata": {},
   "source": [
    "##### Impossible Values"
   ]
  },
  {
   "cell_type": "code",
   "execution_count": 17,
   "metadata": {},
   "outputs": [
    {
     "data": {
      "text/plain": [
       "157"
      ]
     },
     "execution_count": 17,
     "metadata": {},
     "output_type": "execute_result"
    }
   ],
   "source": [
    "# Number of instances where the cell value is out of range (greater than 5)\n",
    "df_daily_affect_wide.iloc[:,2:][df_daily_affect_wide.iloc[:,2:] > 5].count().sum()"
   ]
  },
  {
   "cell_type": "code",
   "execution_count": 18,
   "metadata": {},
   "outputs": [],
   "source": [
    "# Replace all values below threshold with NaN\n",
    "df_daily_affect_wide.iloc[:,2:] = np.where(df_daily_affect_wide.iloc[:,2:]>5, np.nan, df_daily_affect_wide.iloc[:,2:])"
   ]
  },
  {
   "cell_type": "code",
   "execution_count": 19,
   "metadata": {},
   "outputs": [
    {
     "data": {
      "text/plain": [
       "0"
      ]
     },
     "execution_count": 19,
     "metadata": {},
     "output_type": "execute_result"
    }
   ],
   "source": [
    "# Recheck for instances above 5\n",
    "df_daily_affect_wide.iloc[:,2:][df_daily_affect_wide.iloc[:,2:] > 5].count().sum()"
   ]
  },
  {
   "cell_type": "code",
   "execution_count": null,
   "metadata": {},
   "outputs": [
    {
     "data": {
      "application/vnd.jupyter.widget-view+json": {
       "model_id": "5bd2e13e21314f6e9473c79cda533c89",
       "version_major": 2,
       "version_minor": 0
      },
      "text/plain": [
       "Summarize dataset:   0%|          | 0/5 [00:00<?, ?it/s]"
      ]
     },
     "metadata": {},
     "output_type": "display_data"
    },
    {
     "ename": "KeyboardInterrupt",
     "evalue": "",
     "output_type": "error",
     "traceback": [
      "\u001b[0;31m---------------------------------------------------------------------------\u001b[0m",
      "\u001b[0;31mKeyboardInterrupt\u001b[0m                         Traceback (most recent call last)",
      "\u001b[1;32m/Users/djw/Documents/pCloud_synced/Academics/Projects/2020_thesis/thesis_experiments/3_experiments/3_3_experience_sampling/3_3_3_data_analysis/01_data munge/01_1_process_data.ipynb Cell 35\u001b[0m line \u001b[0;36m5\n\u001b[1;32m      <a href='vscode-notebook-cell:/Users/djw/Documents/pCloud_synced/Academics/Projects/2020_thesis/thesis_experiments/3_experiments/3_3_experience_sampling/3_3_3_data_analysis/01_data%20munge/01_1_process_data.ipynb#X46sZmlsZQ%3D%3D?line=0'>1</a>\u001b[0m \u001b[39m# Rerun profiling\u001b[39;00m\n\u001b[1;32m      <a href='vscode-notebook-cell:/Users/djw/Documents/pCloud_synced/Academics/Projects/2020_thesis/thesis_experiments/3_experiments/3_3_experience_sampling/3_3_3_data_analysis/01_data%20munge/01_1_process_data.ipynb#X46sZmlsZQ%3D%3D?line=1'>2</a>\u001b[0m profile \u001b[39m=\u001b[39m ProfileReport(df_daily_affect_wide\u001b[39m.\u001b[39miloc[:,\u001b[39m2\u001b[39m:],\n\u001b[1;32m      <a href='vscode-notebook-cell:/Users/djw/Documents/pCloud_synced/Academics/Projects/2020_thesis/thesis_experiments/3_experiments/3_3_experience_sampling/3_3_3_data_analysis/01_data%20munge/01_1_process_data.ipynb#X46sZmlsZQ%3D%3D?line=2'>3</a>\u001b[0m                         title\u001b[39m=\u001b[39m\u001b[39mf\u001b[39m\u001b[39m\"\u001b[39m\u001b[39mAffect Run \u001b[39m\u001b[39m{\u001b[39;00mrun_num\u001b[39m}\u001b[39;00m\u001b[39m - Clean | Pandas Profiling Report\u001b[39m\u001b[39m\"\u001b[39m,\n\u001b[1;32m      <a href='vscode-notebook-cell:/Users/djw/Documents/pCloud_synced/Academics/Projects/2020_thesis/thesis_experiments/3_experiments/3_3_experience_sampling/3_3_3_data_analysis/01_data%20munge/01_1_process_data.ipynb#X46sZmlsZQ%3D%3D?line=3'>4</a>\u001b[0m                         infer_dtypes \u001b[39m=\u001b[39m \u001b[39mFalse\u001b[39;00m)\n\u001b[0;32m----> <a href='vscode-notebook-cell:/Users/djw/Documents/pCloud_synced/Academics/Projects/2020_thesis/thesis_experiments/3_experiments/3_3_experience_sampling/3_3_3_data_analysis/01_data%20munge/01_1_process_data.ipynb#X46sZmlsZQ%3D%3D?line=4'>5</a>\u001b[0m profile\u001b[39m.\u001b[39;49mto_file(eda_reports_path \u001b[39m+\u001b[39;49m \u001b[39mf\u001b[39;49m\u001b[39m\"\u001b[39;49m\u001b[39maffect_report_clean_run\u001b[39;49m\u001b[39m{\u001b[39;49;00mrun_num\u001b[39m}\u001b[39;49;00m\u001b[39m.html\u001b[39;49m\u001b[39m\"\u001b[39;49m)\n",
      "File \u001b[0;32m~/Documents/pCloud_synced/Academics/Projects/2020_thesis/thesis_experiments/3_experiments/3_3_experience_sampling/.venv/lib/python3.11/site-packages/ydata_profiling/profile_report.py:355\u001b[0m, in \u001b[0;36mProfileReport.to_file\u001b[0;34m(self, output_file, silent)\u001b[0m\n\u001b[1;32m    352\u001b[0m         \u001b[39mself\u001b[39m\u001b[39m.\u001b[39mconfig\u001b[39m.\u001b[39mhtml\u001b[39m.\u001b[39massets_prefix \u001b[39m=\u001b[39m \u001b[39mstr\u001b[39m(output_file\u001b[39m.\u001b[39mstem) \u001b[39m+\u001b[39m \u001b[39m\"\u001b[39m\u001b[39m_assets\u001b[39m\u001b[39m\"\u001b[39m\n\u001b[1;32m    353\u001b[0m     create_html_assets(\u001b[39mself\u001b[39m\u001b[39m.\u001b[39mconfig, output_file)\n\u001b[0;32m--> 355\u001b[0m data \u001b[39m=\u001b[39m \u001b[39mself\u001b[39;49m\u001b[39m.\u001b[39;49mto_html()\n\u001b[1;32m    357\u001b[0m \u001b[39mif\u001b[39;00m output_file\u001b[39m.\u001b[39msuffix \u001b[39m!=\u001b[39m \u001b[39m\"\u001b[39m\u001b[39m.html\u001b[39m\u001b[39m\"\u001b[39m:\n\u001b[1;32m    358\u001b[0m     suffix \u001b[39m=\u001b[39m output_file\u001b[39m.\u001b[39msuffix\n",
      "File \u001b[0;32m~/Documents/pCloud_synced/Academics/Projects/2020_thesis/thesis_experiments/3_experiments/3_3_experience_sampling/.venv/lib/python3.11/site-packages/ydata_profiling/profile_report.py:470\u001b[0m, in \u001b[0;36mProfileReport.to_html\u001b[0;34m(self)\u001b[0m\n\u001b[1;32m    462\u001b[0m \u001b[39mdef\u001b[39;00m \u001b[39mto_html\u001b[39m(\u001b[39mself\u001b[39m) \u001b[39m-\u001b[39m\u001b[39m>\u001b[39m \u001b[39mstr\u001b[39m:\n\u001b[1;32m    463\u001b[0m \u001b[39m    \u001b[39m\u001b[39m\"\"\"Generate and return complete template as lengthy string\u001b[39;00m\n\u001b[1;32m    464\u001b[0m \u001b[39m        for using with frameworks.\u001b[39;00m\n\u001b[1;32m    465\u001b[0m \n\u001b[0;32m   (...)\u001b[0m\n\u001b[1;32m    468\u001b[0m \n\u001b[1;32m    469\u001b[0m \u001b[39m    \"\"\"\u001b[39;00m\n\u001b[0;32m--> 470\u001b[0m     \u001b[39mreturn\u001b[39;00m \u001b[39mself\u001b[39;49m\u001b[39m.\u001b[39;49mhtml\n",
      "File \u001b[0;32m~/Documents/pCloud_synced/Academics/Projects/2020_thesis/thesis_experiments/3_experiments/3_3_experience_sampling/.venv/lib/python3.11/site-packages/ydata_profiling/profile_report.py:277\u001b[0m, in \u001b[0;36mProfileReport.html\u001b[0;34m(self)\u001b[0m\n\u001b[1;32m    274\u001b[0m \u001b[39m@property\u001b[39m\n\u001b[1;32m    275\u001b[0m \u001b[39mdef\u001b[39;00m \u001b[39mhtml\u001b[39m(\u001b[39mself\u001b[39m) \u001b[39m-\u001b[39m\u001b[39m>\u001b[39m \u001b[39mstr\u001b[39m:\n\u001b[1;32m    276\u001b[0m     \u001b[39mif\u001b[39;00m \u001b[39mself\u001b[39m\u001b[39m.\u001b[39m_html \u001b[39mis\u001b[39;00m \u001b[39mNone\u001b[39;00m:\n\u001b[0;32m--> 277\u001b[0m         \u001b[39mself\u001b[39m\u001b[39m.\u001b[39m_html \u001b[39m=\u001b[39m \u001b[39mself\u001b[39;49m\u001b[39m.\u001b[39;49m_render_html()\n\u001b[1;32m    278\u001b[0m     \u001b[39mreturn\u001b[39;00m \u001b[39mself\u001b[39m\u001b[39m.\u001b[39m_html\n",
      "File \u001b[0;32m~/Documents/pCloud_synced/Academics/Projects/2020_thesis/thesis_experiments/3_experiments/3_3_experience_sampling/.venv/lib/python3.11/site-packages/ydata_profiling/profile_report.py:385\u001b[0m, in \u001b[0;36mProfileReport._render_html\u001b[0;34m(self)\u001b[0m\n\u001b[1;32m    382\u001b[0m \u001b[39mdef\u001b[39;00m \u001b[39m_render_html\u001b[39m(\u001b[39mself\u001b[39m) \u001b[39m-\u001b[39m\u001b[39m>\u001b[39m \u001b[39mstr\u001b[39m:\n\u001b[1;32m    383\u001b[0m     \u001b[39mfrom\u001b[39;00m \u001b[39mydata_profiling\u001b[39;00m\u001b[39m.\u001b[39;00m\u001b[39mreport\u001b[39;00m\u001b[39m.\u001b[39;00m\u001b[39mpresentation\u001b[39;00m\u001b[39m.\u001b[39;00m\u001b[39mflavours\u001b[39;00m \u001b[39mimport\u001b[39;00m HTMLReport\n\u001b[0;32m--> 385\u001b[0m     report \u001b[39m=\u001b[39m \u001b[39mself\u001b[39;49m\u001b[39m.\u001b[39;49mreport\n\u001b[1;32m    387\u001b[0m     \u001b[39mwith\u001b[39;00m tqdm(\n\u001b[1;32m    388\u001b[0m         total\u001b[39m=\u001b[39m\u001b[39m1\u001b[39m, desc\u001b[39m=\u001b[39m\u001b[39m\"\u001b[39m\u001b[39mRender HTML\u001b[39m\u001b[39m\"\u001b[39m, disable\u001b[39m=\u001b[39m\u001b[39mnot\u001b[39;00m \u001b[39mself\u001b[39m\u001b[39m.\u001b[39mconfig\u001b[39m.\u001b[39mprogress_bar\n\u001b[1;32m    389\u001b[0m     ) \u001b[39mas\u001b[39;00m pbar:\n\u001b[1;32m    390\u001b[0m         html \u001b[39m=\u001b[39m HTMLReport(copy\u001b[39m.\u001b[39mdeepcopy(report))\u001b[39m.\u001b[39mrender(\n\u001b[1;32m    391\u001b[0m             nav\u001b[39m=\u001b[39m\u001b[39mself\u001b[39m\u001b[39m.\u001b[39mconfig\u001b[39m.\u001b[39mhtml\u001b[39m.\u001b[39mnavbar_show,\n\u001b[1;32m    392\u001b[0m             offline\u001b[39m=\u001b[39m\u001b[39mself\u001b[39m\u001b[39m.\u001b[39mconfig\u001b[39m.\u001b[39mhtml\u001b[39m.\u001b[39muse_local_assets,\n\u001b[0;32m   (...)\u001b[0m\n\u001b[1;32m    400\u001b[0m             version\u001b[39m=\u001b[39m\u001b[39mself\u001b[39m\u001b[39m.\u001b[39mdescription_set\u001b[39m.\u001b[39mpackage[\u001b[39m\"\u001b[39m\u001b[39mydata_profiling_version\u001b[39m\u001b[39m\"\u001b[39m],\n\u001b[1;32m    401\u001b[0m         )\n",
      "File \u001b[0;32m~/Documents/pCloud_synced/Academics/Projects/2020_thesis/thesis_experiments/3_experiments/3_3_experience_sampling/.venv/lib/python3.11/site-packages/ydata_profiling/profile_report.py:271\u001b[0m, in \u001b[0;36mProfileReport.report\u001b[0;34m(self)\u001b[0m\n\u001b[1;32m    268\u001b[0m \u001b[39m@property\u001b[39m\n\u001b[1;32m    269\u001b[0m \u001b[39mdef\u001b[39;00m \u001b[39mreport\u001b[39m(\u001b[39mself\u001b[39m) \u001b[39m-\u001b[39m\u001b[39m>\u001b[39m Root:\n\u001b[1;32m    270\u001b[0m     \u001b[39mif\u001b[39;00m \u001b[39mself\u001b[39m\u001b[39m.\u001b[39m_report \u001b[39mis\u001b[39;00m \u001b[39mNone\u001b[39;00m:\n\u001b[0;32m--> 271\u001b[0m         \u001b[39mself\u001b[39m\u001b[39m.\u001b[39m_report \u001b[39m=\u001b[39m get_report_structure(\u001b[39mself\u001b[39m\u001b[39m.\u001b[39mconfig, \u001b[39mself\u001b[39;49m\u001b[39m.\u001b[39;49mdescription_set)\n\u001b[1;32m    272\u001b[0m     \u001b[39mreturn\u001b[39;00m \u001b[39mself\u001b[39m\u001b[39m.\u001b[39m_report\n",
      "File \u001b[0;32m~/Documents/pCloud_synced/Academics/Projects/2020_thesis/thesis_experiments/3_experiments/3_3_experience_sampling/.venv/lib/python3.11/site-packages/ydata_profiling/profile_report.py:253\u001b[0m, in \u001b[0;36mProfileReport.description_set\u001b[0;34m(self)\u001b[0m\n\u001b[1;32m    250\u001b[0m \u001b[39m@property\u001b[39m\n\u001b[1;32m    251\u001b[0m \u001b[39mdef\u001b[39;00m \u001b[39mdescription_set\u001b[39m(\u001b[39mself\u001b[39m) \u001b[39m-\u001b[39m\u001b[39m>\u001b[39m BaseDescription:\n\u001b[1;32m    252\u001b[0m     \u001b[39mif\u001b[39;00m \u001b[39mself\u001b[39m\u001b[39m.\u001b[39m_description_set \u001b[39mis\u001b[39;00m \u001b[39mNone\u001b[39;00m:\n\u001b[0;32m--> 253\u001b[0m         \u001b[39mself\u001b[39m\u001b[39m.\u001b[39m_description_set \u001b[39m=\u001b[39m describe_df(\n\u001b[1;32m    254\u001b[0m             \u001b[39mself\u001b[39;49m\u001b[39m.\u001b[39;49mconfig,\n\u001b[1;32m    255\u001b[0m             \u001b[39mself\u001b[39;49m\u001b[39m.\u001b[39;49mdf,\n\u001b[1;32m    256\u001b[0m             \u001b[39mself\u001b[39;49m\u001b[39m.\u001b[39;49msummarizer,\n\u001b[1;32m    257\u001b[0m             \u001b[39mself\u001b[39;49m\u001b[39m.\u001b[39;49mtypeset,\n\u001b[1;32m    258\u001b[0m             \u001b[39mself\u001b[39;49m\u001b[39m.\u001b[39;49m_sample,\n\u001b[1;32m    259\u001b[0m         )\n\u001b[1;32m    260\u001b[0m     \u001b[39mreturn\u001b[39;00m \u001b[39mself\u001b[39m\u001b[39m.\u001b[39m_description_set\n",
      "File \u001b[0;32m~/Documents/pCloud_synced/Academics/Projects/2020_thesis/thesis_experiments/3_experiments/3_3_experience_sampling/.venv/lib/python3.11/site-packages/ydata_profiling/model/describe.py:130\u001b[0m, in \u001b[0;36mdescribe\u001b[0;34m(config, df, summarizer, typeset, sample)\u001b[0m\n\u001b[1;32m    126\u001b[0m scatter_matrix: Dict[Any, Dict[Any, Any]] \u001b[39m=\u001b[39m {\n\u001b[1;32m    127\u001b[0m     x: {y: \u001b[39mNone\u001b[39;00m} \u001b[39mfor\u001b[39;00m x, y \u001b[39min\u001b[39;00m scatter_tasks\n\u001b[1;32m    128\u001b[0m }\n\u001b[1;32m    129\u001b[0m \u001b[39mfor\u001b[39;00m x, y \u001b[39min\u001b[39;00m scatter_tasks:\n\u001b[0;32m--> 130\u001b[0m     scatter_matrix[x][y] \u001b[39m=\u001b[39m progress(\n\u001b[1;32m    131\u001b[0m         get_scatter_plot, pbar, \u001b[39mf\u001b[39;49m\u001b[39m\"\u001b[39;49m\u001b[39mscatter \u001b[39;49m\u001b[39m{\u001b[39;49;00mx\u001b[39m}\u001b[39;49;00m\u001b[39m, \u001b[39;49m\u001b[39m{\u001b[39;49;00my\u001b[39m}\u001b[39;49;00m\u001b[39m\"\u001b[39;49m\n\u001b[1;32m    132\u001b[0m     )(config, df, x, y, interval_columns)\n\u001b[1;32m    134\u001b[0m \u001b[39m# missing diagrams\u001b[39;00m\n\u001b[1;32m    135\u001b[0m missing_map \u001b[39m=\u001b[39m get_missing_active(config, table_stats)\n",
      "File \u001b[0;32m~/Documents/pCloud_synced/Academics/Projects/2020_thesis/thesis_experiments/3_experiments/3_3_experience_sampling/.venv/lib/python3.11/site-packages/ydata_profiling/utils/progress_bar.py:11\u001b[0m, in \u001b[0;36mprogress.<locals>.inner\u001b[0;34m(*args, **kwargs)\u001b[0m\n\u001b[1;32m      8\u001b[0m \u001b[39m@wraps\u001b[39m(fn)\n\u001b[1;32m      9\u001b[0m \u001b[39mdef\u001b[39;00m \u001b[39minner\u001b[39m(\u001b[39m*\u001b[39margs, \u001b[39m*\u001b[39m\u001b[39m*\u001b[39mkwargs) \u001b[39m-\u001b[39m\u001b[39m>\u001b[39m Any:\n\u001b[1;32m     10\u001b[0m     bar\u001b[39m.\u001b[39mset_postfix_str(message)\n\u001b[0;32m---> 11\u001b[0m     ret \u001b[39m=\u001b[39m fn(\u001b[39m*\u001b[39;49margs, \u001b[39m*\u001b[39;49m\u001b[39m*\u001b[39;49mkwargs)\n\u001b[1;32m     12\u001b[0m     bar\u001b[39m.\u001b[39mupdate()\n\u001b[1;32m     13\u001b[0m     \u001b[39mreturn\u001b[39;00m ret\n",
      "File \u001b[0;32m~/Documents/pCloud_synced/Academics/Projects/2020_thesis/thesis_experiments/3_experiments/3_3_experience_sampling/.venv/lib/python3.11/site-packages/ydata_profiling/model/pairwise.py:31\u001b[0m, in \u001b[0;36mget_scatter_plot\u001b[0;34m(config, df, x, y, continuous_variables)\u001b[0m\n\u001b[1;32m     29\u001b[0m     \u001b[39melse\u001b[39;00m:\n\u001b[1;32m     30\u001b[0m         df_temp \u001b[39m=\u001b[39m df[[x, y]]\u001b[39m.\u001b[39mdropna()\n\u001b[0;32m---> 31\u001b[0m     \u001b[39mreturn\u001b[39;00m scatter_pairwise(config, df_temp[x], df_temp[y], x, y)\n\u001b[1;32m     32\u001b[0m \u001b[39melse\u001b[39;00m:\n\u001b[1;32m     33\u001b[0m     \u001b[39mreturn\u001b[39;00m \u001b[39m\"\u001b[39m\u001b[39m\"\u001b[39m\n",
      "File \u001b[0;32m/Library/Frameworks/Python.framework/Versions/3.11/lib/python3.11/contextlib.py:81\u001b[0m, in \u001b[0;36mContextDecorator.__call__.<locals>.inner\u001b[0;34m(*args, **kwds)\u001b[0m\n\u001b[1;32m     78\u001b[0m \u001b[39m@wraps\u001b[39m(func)\n\u001b[1;32m     79\u001b[0m \u001b[39mdef\u001b[39;00m \u001b[39minner\u001b[39m(\u001b[39m*\u001b[39margs, \u001b[39m*\u001b[39m\u001b[39m*\u001b[39mkwds):\n\u001b[1;32m     80\u001b[0m     \u001b[39mwith\u001b[39;00m \u001b[39mself\u001b[39m\u001b[39m.\u001b[39m_recreate_cm():\n\u001b[0;32m---> 81\u001b[0m         \u001b[39mreturn\u001b[39;00m func(\u001b[39m*\u001b[39;49margs, \u001b[39m*\u001b[39;49m\u001b[39m*\u001b[39;49mkwds)\n",
      "File \u001b[0;32m~/Documents/pCloud_synced/Academics/Projects/2020_thesis/thesis_experiments/3_experiments/3_3_experience_sampling/.venv/lib/python3.11/site-packages/ydata_profiling/visualisation/plot.py:367\u001b[0m, in \u001b[0;36mscatter_pairwise\u001b[0;34m(config, series1, series2, x_label, y_label)\u001b[0m\n\u001b[1;32m    365\u001b[0m \u001b[39melse\u001b[39;00m:\n\u001b[1;32m    366\u001b[0m     plt\u001b[39m.\u001b[39mscatter(series1[indices], series2[indices], color\u001b[39m=\u001b[39mcolor)\n\u001b[0;32m--> 367\u001b[0m \u001b[39mreturn\u001b[39;00m plot_360_n0sc0pe(config)\n",
      "File \u001b[0;32m~/Documents/pCloud_synced/Academics/Projects/2020_thesis/thesis_experiments/3_experiments/3_3_experience_sampling/.venv/lib/python3.11/site-packages/ydata_profiling/visualisation/utils.py:73\u001b[0m, in \u001b[0;36mplot_360_n0sc0pe\u001b[0;34m(config, image_format, bbox_extra_artists, bbox_inches)\u001b[0m\n\u001b[1;32m     70\u001b[0m \u001b[39mif\u001b[39;00m image_format \u001b[39m==\u001b[39m \u001b[39m\"\u001b[39m\u001b[39msvg\u001b[39m\u001b[39m\"\u001b[39m:\n\u001b[1;32m     71\u001b[0m     image_str \u001b[39m=\u001b[39m StringIO()\n\u001b[0;32m---> 73\u001b[0m     plt\u001b[39m.\u001b[39;49msavefig(\n\u001b[1;32m     74\u001b[0m         image_str,\n\u001b[1;32m     75\u001b[0m         \u001b[39mformat\u001b[39;49m\u001b[39m=\u001b[39;49mimage_format,\n\u001b[1;32m     76\u001b[0m         bbox_extra_artists\u001b[39m=\u001b[39;49mbbox_extra_artists,\n\u001b[1;32m     77\u001b[0m         bbox_inches\u001b[39m=\u001b[39;49mbbox_inches,\n\u001b[1;32m     78\u001b[0m     )\n\u001b[1;32m     79\u001b[0m     plt\u001b[39m.\u001b[39mclose()\n\u001b[1;32m     80\u001b[0m     result_string \u001b[39m=\u001b[39m image_str\u001b[39m.\u001b[39mgetvalue()\n",
      "File \u001b[0;32m~/Documents/pCloud_synced/Academics/Projects/2020_thesis/thesis_experiments/3_experiments/3_3_experience_sampling/.venv/lib/python3.11/site-packages/matplotlib/pyplot.py:1023\u001b[0m, in \u001b[0;36msavefig\u001b[0;34m(*args, **kwargs)\u001b[0m\n\u001b[1;32m   1020\u001b[0m \u001b[39m@_copy_docstring_and_deprecators\u001b[39m(Figure\u001b[39m.\u001b[39msavefig)\n\u001b[1;32m   1021\u001b[0m \u001b[39mdef\u001b[39;00m \u001b[39msavefig\u001b[39m(\u001b[39m*\u001b[39margs, \u001b[39m*\u001b[39m\u001b[39m*\u001b[39mkwargs):\n\u001b[1;32m   1022\u001b[0m     fig \u001b[39m=\u001b[39m gcf()\n\u001b[0;32m-> 1023\u001b[0m     res \u001b[39m=\u001b[39m fig\u001b[39m.\u001b[39;49msavefig(\u001b[39m*\u001b[39;49margs, \u001b[39m*\u001b[39;49m\u001b[39m*\u001b[39;49mkwargs)\n\u001b[1;32m   1024\u001b[0m     fig\u001b[39m.\u001b[39mcanvas\u001b[39m.\u001b[39mdraw_idle()  \u001b[39m# Need this if 'transparent=True', to reset colors.\u001b[39;00m\n\u001b[1;32m   1025\u001b[0m     \u001b[39mreturn\u001b[39;00m res\n",
      "File \u001b[0;32m~/Documents/pCloud_synced/Academics/Projects/2020_thesis/thesis_experiments/3_experiments/3_3_experience_sampling/.venv/lib/python3.11/site-packages/matplotlib/figure.py:3378\u001b[0m, in \u001b[0;36mFigure.savefig\u001b[0;34m(self, fname, transparent, **kwargs)\u001b[0m\n\u001b[1;32m   3374\u001b[0m     \u001b[39mfor\u001b[39;00m ax \u001b[39min\u001b[39;00m \u001b[39mself\u001b[39m\u001b[39m.\u001b[39maxes:\n\u001b[1;32m   3375\u001b[0m         stack\u001b[39m.\u001b[39menter_context(\n\u001b[1;32m   3376\u001b[0m             ax\u001b[39m.\u001b[39mpatch\u001b[39m.\u001b[39m_cm_set(facecolor\u001b[39m=\u001b[39m\u001b[39m'\u001b[39m\u001b[39mnone\u001b[39m\u001b[39m'\u001b[39m, edgecolor\u001b[39m=\u001b[39m\u001b[39m'\u001b[39m\u001b[39mnone\u001b[39m\u001b[39m'\u001b[39m))\n\u001b[0;32m-> 3378\u001b[0m \u001b[39mself\u001b[39;49m\u001b[39m.\u001b[39;49mcanvas\u001b[39m.\u001b[39;49mprint_figure(fname, \u001b[39m*\u001b[39;49m\u001b[39m*\u001b[39;49mkwargs)\n",
      "File \u001b[0;32m~/Documents/pCloud_synced/Academics/Projects/2020_thesis/thesis_experiments/3_experiments/3_3_experience_sampling/.venv/lib/python3.11/site-packages/matplotlib/backend_bases.py:2366\u001b[0m, in \u001b[0;36mFigureCanvasBase.print_figure\u001b[0;34m(self, filename, dpi, facecolor, edgecolor, orientation, format, bbox_inches, pad_inches, bbox_extra_artists, backend, **kwargs)\u001b[0m\n\u001b[1;32m   2362\u001b[0m \u001b[39mtry\u001b[39;00m:\n\u001b[1;32m   2363\u001b[0m     \u001b[39m# _get_renderer may change the figure dpi (as vector formats\u001b[39;00m\n\u001b[1;32m   2364\u001b[0m     \u001b[39m# force the figure dpi to 72), so we need to set it again here.\u001b[39;00m\n\u001b[1;32m   2365\u001b[0m     \u001b[39mwith\u001b[39;00m cbook\u001b[39m.\u001b[39m_setattr_cm(\u001b[39mself\u001b[39m\u001b[39m.\u001b[39mfigure, dpi\u001b[39m=\u001b[39mdpi):\n\u001b[0;32m-> 2366\u001b[0m         result \u001b[39m=\u001b[39m print_method(\n\u001b[1;32m   2367\u001b[0m             filename,\n\u001b[1;32m   2368\u001b[0m             facecolor\u001b[39m=\u001b[39;49mfacecolor,\n\u001b[1;32m   2369\u001b[0m             edgecolor\u001b[39m=\u001b[39;49medgecolor,\n\u001b[1;32m   2370\u001b[0m             orientation\u001b[39m=\u001b[39;49morientation,\n\u001b[1;32m   2371\u001b[0m             bbox_inches_restore\u001b[39m=\u001b[39;49m_bbox_inches_restore,\n\u001b[1;32m   2372\u001b[0m             \u001b[39m*\u001b[39;49m\u001b[39m*\u001b[39;49mkwargs)\n\u001b[1;32m   2373\u001b[0m \u001b[39mfinally\u001b[39;00m:\n\u001b[1;32m   2374\u001b[0m     \u001b[39mif\u001b[39;00m bbox_inches \u001b[39mand\u001b[39;00m restore_bbox:\n",
      "File \u001b[0;32m~/Documents/pCloud_synced/Academics/Projects/2020_thesis/thesis_experiments/3_experiments/3_3_experience_sampling/.venv/lib/python3.11/site-packages/matplotlib/backend_bases.py:2232\u001b[0m, in \u001b[0;36mFigureCanvasBase._switch_canvas_and_return_print_method.<locals>.<lambda>\u001b[0;34m(*args, **kwargs)\u001b[0m\n\u001b[1;32m   2228\u001b[0m     optional_kws \u001b[39m=\u001b[39m {  \u001b[39m# Passed by print_figure for other renderers.\u001b[39;00m\n\u001b[1;32m   2229\u001b[0m         \u001b[39m\"\u001b[39m\u001b[39mdpi\u001b[39m\u001b[39m\"\u001b[39m, \u001b[39m\"\u001b[39m\u001b[39mfacecolor\u001b[39m\u001b[39m\"\u001b[39m, \u001b[39m\"\u001b[39m\u001b[39medgecolor\u001b[39m\u001b[39m\"\u001b[39m, \u001b[39m\"\u001b[39m\u001b[39morientation\u001b[39m\u001b[39m\"\u001b[39m,\n\u001b[1;32m   2230\u001b[0m         \u001b[39m\"\u001b[39m\u001b[39mbbox_inches_restore\u001b[39m\u001b[39m\"\u001b[39m}\n\u001b[1;32m   2231\u001b[0m     skip \u001b[39m=\u001b[39m optional_kws \u001b[39m-\u001b[39m {\u001b[39m*\u001b[39minspect\u001b[39m.\u001b[39msignature(meth)\u001b[39m.\u001b[39mparameters}\n\u001b[0;32m-> 2232\u001b[0m     print_method \u001b[39m=\u001b[39m functools\u001b[39m.\u001b[39mwraps(meth)(\u001b[39mlambda\u001b[39;00m \u001b[39m*\u001b[39margs, \u001b[39m*\u001b[39m\u001b[39m*\u001b[39mkwargs: meth(\n\u001b[1;32m   2233\u001b[0m         \u001b[39m*\u001b[39;49margs, \u001b[39m*\u001b[39;49m\u001b[39m*\u001b[39;49m{k: v \u001b[39mfor\u001b[39;49;00m k, v \u001b[39min\u001b[39;49;00m kwargs\u001b[39m.\u001b[39;49mitems() \u001b[39mif\u001b[39;49;00m k \u001b[39mnot\u001b[39;49;00m \u001b[39min\u001b[39;49;00m skip}))\n\u001b[1;32m   2234\u001b[0m \u001b[39melse\u001b[39;00m:  \u001b[39m# Let third-parties do as they see fit.\u001b[39;00m\n\u001b[1;32m   2235\u001b[0m     print_method \u001b[39m=\u001b[39m meth\n",
      "File \u001b[0;32m~/Documents/pCloud_synced/Academics/Projects/2020_thesis/thesis_experiments/3_experiments/3_3_experience_sampling/.venv/lib/python3.11/site-packages/matplotlib/backends/backend_svg.py:1369\u001b[0m, in \u001b[0;36mFigureCanvasSVG.print_svg\u001b[0;34m(self, filename, bbox_inches_restore, metadata)\u001b[0m\n\u001b[1;32m   1364\u001b[0m w, h \u001b[39m=\u001b[39m width \u001b[39m*\u001b[39m \u001b[39m72\u001b[39m, height \u001b[39m*\u001b[39m \u001b[39m72\u001b[39m\n\u001b[1;32m   1365\u001b[0m renderer \u001b[39m=\u001b[39m MixedModeRenderer(\n\u001b[1;32m   1366\u001b[0m     \u001b[39mself\u001b[39m\u001b[39m.\u001b[39mfigure, width, height, dpi,\n\u001b[1;32m   1367\u001b[0m     RendererSVG(w, h, fh, image_dpi\u001b[39m=\u001b[39mdpi, metadata\u001b[39m=\u001b[39mmetadata),\n\u001b[1;32m   1368\u001b[0m     bbox_inches_restore\u001b[39m=\u001b[39mbbox_inches_restore)\n\u001b[0;32m-> 1369\u001b[0m \u001b[39mself\u001b[39;49m\u001b[39m.\u001b[39;49mfigure\u001b[39m.\u001b[39;49mdraw(renderer)\n\u001b[1;32m   1370\u001b[0m renderer\u001b[39m.\u001b[39mfinalize()\n",
      "File \u001b[0;32m~/Documents/pCloud_synced/Academics/Projects/2020_thesis/thesis_experiments/3_experiments/3_3_experience_sampling/.venv/lib/python3.11/site-packages/matplotlib/artist.py:95\u001b[0m, in \u001b[0;36m_finalize_rasterization.<locals>.draw_wrapper\u001b[0;34m(artist, renderer, *args, **kwargs)\u001b[0m\n\u001b[1;32m     93\u001b[0m \u001b[39m@wraps\u001b[39m(draw)\n\u001b[1;32m     94\u001b[0m \u001b[39mdef\u001b[39;00m \u001b[39mdraw_wrapper\u001b[39m(artist, renderer, \u001b[39m*\u001b[39margs, \u001b[39m*\u001b[39m\u001b[39m*\u001b[39mkwargs):\n\u001b[0;32m---> 95\u001b[0m     result \u001b[39m=\u001b[39m draw(artist, renderer, \u001b[39m*\u001b[39;49margs, \u001b[39m*\u001b[39;49m\u001b[39m*\u001b[39;49mkwargs)\n\u001b[1;32m     96\u001b[0m     \u001b[39mif\u001b[39;00m renderer\u001b[39m.\u001b[39m_rasterizing:\n\u001b[1;32m     97\u001b[0m         renderer\u001b[39m.\u001b[39mstop_rasterizing()\n",
      "File \u001b[0;32m~/Documents/pCloud_synced/Academics/Projects/2020_thesis/thesis_experiments/3_experiments/3_3_experience_sampling/.venv/lib/python3.11/site-packages/matplotlib/artist.py:72\u001b[0m, in \u001b[0;36mallow_rasterization.<locals>.draw_wrapper\u001b[0;34m(artist, renderer)\u001b[0m\n\u001b[1;32m     69\u001b[0m     \u001b[39mif\u001b[39;00m artist\u001b[39m.\u001b[39mget_agg_filter() \u001b[39mis\u001b[39;00m \u001b[39mnot\u001b[39;00m \u001b[39mNone\u001b[39;00m:\n\u001b[1;32m     70\u001b[0m         renderer\u001b[39m.\u001b[39mstart_filter()\n\u001b[0;32m---> 72\u001b[0m     \u001b[39mreturn\u001b[39;00m draw(artist, renderer)\n\u001b[1;32m     73\u001b[0m \u001b[39mfinally\u001b[39;00m:\n\u001b[1;32m     74\u001b[0m     \u001b[39mif\u001b[39;00m artist\u001b[39m.\u001b[39mget_agg_filter() \u001b[39mis\u001b[39;00m \u001b[39mnot\u001b[39;00m \u001b[39mNone\u001b[39;00m:\n",
      "File \u001b[0;32m~/Documents/pCloud_synced/Academics/Projects/2020_thesis/thesis_experiments/3_experiments/3_3_experience_sampling/.venv/lib/python3.11/site-packages/matplotlib/figure.py:3175\u001b[0m, in \u001b[0;36mFigure.draw\u001b[0;34m(self, renderer)\u001b[0m\n\u001b[1;32m   3172\u001b[0m         \u001b[39m# ValueError can occur when resizing a window.\u001b[39;00m\n\u001b[1;32m   3174\u001b[0m \u001b[39mself\u001b[39m\u001b[39m.\u001b[39mpatch\u001b[39m.\u001b[39mdraw(renderer)\n\u001b[0;32m-> 3175\u001b[0m mimage\u001b[39m.\u001b[39;49m_draw_list_compositing_images(\n\u001b[1;32m   3176\u001b[0m     renderer, \u001b[39mself\u001b[39;49m, artists, \u001b[39mself\u001b[39;49m\u001b[39m.\u001b[39;49msuppressComposite)\n\u001b[1;32m   3178\u001b[0m \u001b[39mfor\u001b[39;00m sfig \u001b[39min\u001b[39;00m \u001b[39mself\u001b[39m\u001b[39m.\u001b[39msubfigs:\n\u001b[1;32m   3179\u001b[0m     sfig\u001b[39m.\u001b[39mdraw(renderer)\n",
      "File \u001b[0;32m~/Documents/pCloud_synced/Academics/Projects/2020_thesis/thesis_experiments/3_experiments/3_3_experience_sampling/.venv/lib/python3.11/site-packages/matplotlib/image.py:131\u001b[0m, in \u001b[0;36m_draw_list_compositing_images\u001b[0;34m(renderer, parent, artists, suppress_composite)\u001b[0m\n\u001b[1;32m    129\u001b[0m \u001b[39mif\u001b[39;00m not_composite \u001b[39mor\u001b[39;00m \u001b[39mnot\u001b[39;00m has_images:\n\u001b[1;32m    130\u001b[0m     \u001b[39mfor\u001b[39;00m a \u001b[39min\u001b[39;00m artists:\n\u001b[0;32m--> 131\u001b[0m         a\u001b[39m.\u001b[39;49mdraw(renderer)\n\u001b[1;32m    132\u001b[0m \u001b[39melse\u001b[39;00m:\n\u001b[1;32m    133\u001b[0m     \u001b[39m# Composite any adjacent images together\u001b[39;00m\n\u001b[1;32m    134\u001b[0m     image_group \u001b[39m=\u001b[39m []\n",
      "File \u001b[0;32m~/Documents/pCloud_synced/Academics/Projects/2020_thesis/thesis_experiments/3_experiments/3_3_experience_sampling/.venv/lib/python3.11/site-packages/matplotlib/artist.py:72\u001b[0m, in \u001b[0;36mallow_rasterization.<locals>.draw_wrapper\u001b[0;34m(artist, renderer)\u001b[0m\n\u001b[1;32m     69\u001b[0m     \u001b[39mif\u001b[39;00m artist\u001b[39m.\u001b[39mget_agg_filter() \u001b[39mis\u001b[39;00m \u001b[39mnot\u001b[39;00m \u001b[39mNone\u001b[39;00m:\n\u001b[1;32m     70\u001b[0m         renderer\u001b[39m.\u001b[39mstart_filter()\n\u001b[0;32m---> 72\u001b[0m     \u001b[39mreturn\u001b[39;00m draw(artist, renderer)\n\u001b[1;32m     73\u001b[0m \u001b[39mfinally\u001b[39;00m:\n\u001b[1;32m     74\u001b[0m     \u001b[39mif\u001b[39;00m artist\u001b[39m.\u001b[39mget_agg_filter() \u001b[39mis\u001b[39;00m \u001b[39mnot\u001b[39;00m \u001b[39mNone\u001b[39;00m:\n",
      "File \u001b[0;32m~/Documents/pCloud_synced/Academics/Projects/2020_thesis/thesis_experiments/3_experiments/3_3_experience_sampling/.venv/lib/python3.11/site-packages/matplotlib/axes/_base.py:3028\u001b[0m, in \u001b[0;36m_AxesBase.draw\u001b[0;34m(self, renderer)\u001b[0m\n\u001b[1;32m   3025\u001b[0m     \u001b[39mfor\u001b[39;00m spine \u001b[39min\u001b[39;00m \u001b[39mself\u001b[39m\u001b[39m.\u001b[39mspines\u001b[39m.\u001b[39mvalues():\n\u001b[1;32m   3026\u001b[0m         artists\u001b[39m.\u001b[39mremove(spine)\n\u001b[0;32m-> 3028\u001b[0m \u001b[39mself\u001b[39;49m\u001b[39m.\u001b[39;49m_update_title_position(renderer)\n\u001b[1;32m   3030\u001b[0m \u001b[39mif\u001b[39;00m \u001b[39mnot\u001b[39;00m \u001b[39mself\u001b[39m\u001b[39m.\u001b[39maxison:\n\u001b[1;32m   3031\u001b[0m     \u001b[39mfor\u001b[39;00m _axis \u001b[39min\u001b[39;00m \u001b[39mself\u001b[39m\u001b[39m.\u001b[39m_axis_map\u001b[39m.\u001b[39mvalues():\n",
      "File \u001b[0;32m~/Documents/pCloud_synced/Academics/Projects/2020_thesis/thesis_experiments/3_experiments/3_3_experience_sampling/.venv/lib/python3.11/site-packages/matplotlib/axes/_base.py:2963\u001b[0m, in \u001b[0;36m_AxesBase._update_title_position\u001b[0;34m(self, renderer)\u001b[0m\n\u001b[1;32m   2960\u001b[0m bb \u001b[39m=\u001b[39m \u001b[39mNone\u001b[39;00m\n\u001b[1;32m   2961\u001b[0m \u001b[39mif\u001b[39;00m (ax\u001b[39m.\u001b[39mxaxis\u001b[39m.\u001b[39mget_ticks_position() \u001b[39min\u001b[39;00m [\u001b[39m'\u001b[39m\u001b[39mtop\u001b[39m\u001b[39m'\u001b[39m, \u001b[39m'\u001b[39m\u001b[39munknown\u001b[39m\u001b[39m'\u001b[39m]\n\u001b[1;32m   2962\u001b[0m         \u001b[39mor\u001b[39;00m ax\u001b[39m.\u001b[39mxaxis\u001b[39m.\u001b[39mget_label_position() \u001b[39m==\u001b[39m \u001b[39m'\u001b[39m\u001b[39mtop\u001b[39m\u001b[39m'\u001b[39m):\n\u001b[0;32m-> 2963\u001b[0m     bb \u001b[39m=\u001b[39m ax\u001b[39m.\u001b[39;49mxaxis\u001b[39m.\u001b[39;49mget_tightbbox(renderer)\n\u001b[1;32m   2964\u001b[0m \u001b[39mif\u001b[39;00m bb \u001b[39mis\u001b[39;00m \u001b[39mNone\u001b[39;00m:\n\u001b[1;32m   2965\u001b[0m     \u001b[39mif\u001b[39;00m \u001b[39m'\u001b[39m\u001b[39moutline\u001b[39m\u001b[39m'\u001b[39m \u001b[39min\u001b[39;00m ax\u001b[39m.\u001b[39mspines:\n\u001b[1;32m   2966\u001b[0m         \u001b[39m# Special case for colorbars:\u001b[39;00m\n",
      "File \u001b[0;32m~/Documents/pCloud_synced/Academics/Projects/2020_thesis/thesis_experiments/3_experiments/3_3_experience_sampling/.venv/lib/python3.11/site-packages/matplotlib/axis.py:1337\u001b[0m, in \u001b[0;36mAxis.get_tightbbox\u001b[0;34m(self, renderer, for_layout_only)\u001b[0m\n\u001b[1;32m   1334\u001b[0m     renderer \u001b[39m=\u001b[39m \u001b[39mself\u001b[39m\u001b[39m.\u001b[39mfigure\u001b[39m.\u001b[39m_get_renderer()\n\u001b[1;32m   1335\u001b[0m ticks_to_draw \u001b[39m=\u001b[39m \u001b[39mself\u001b[39m\u001b[39m.\u001b[39m_update_ticks()\n\u001b[0;32m-> 1337\u001b[0m \u001b[39mself\u001b[39;49m\u001b[39m.\u001b[39;49m_update_label_position(renderer)\n\u001b[1;32m   1339\u001b[0m \u001b[39m# go back to just this axis's tick labels\u001b[39;00m\n\u001b[1;32m   1340\u001b[0m tlb1, tlb2 \u001b[39m=\u001b[39m \u001b[39mself\u001b[39m\u001b[39m.\u001b[39m_get_ticklabel_bboxes(ticks_to_draw, renderer)\n",
      "File \u001b[0;32m~/Documents/pCloud_synced/Academics/Projects/2020_thesis/thesis_experiments/3_experiments/3_3_experience_sampling/.venv/lib/python3.11/site-packages/matplotlib/axis.py:2353\u001b[0m, in \u001b[0;36mXAxis._update_label_position\u001b[0;34m(self, renderer)\u001b[0m\n\u001b[1;32m   2349\u001b[0m     \u001b[39mreturn\u001b[39;00m\n\u001b[1;32m   2351\u001b[0m \u001b[39m# get bounding boxes for this axis and any siblings\u001b[39;00m\n\u001b[1;32m   2352\u001b[0m \u001b[39m# that have been set by `fig.align_xlabels()`\u001b[39;00m\n\u001b[0;32m-> 2353\u001b[0m bboxes, bboxes2 \u001b[39m=\u001b[39m \u001b[39mself\u001b[39;49m\u001b[39m.\u001b[39;49m_get_tick_boxes_siblings(renderer\u001b[39m=\u001b[39;49mrenderer)\n\u001b[1;32m   2355\u001b[0m x, y \u001b[39m=\u001b[39m \u001b[39mself\u001b[39m\u001b[39m.\u001b[39mlabel\u001b[39m.\u001b[39mget_position()\n\u001b[1;32m   2356\u001b[0m \u001b[39mif\u001b[39;00m \u001b[39mself\u001b[39m\u001b[39m.\u001b[39mlabel_position \u001b[39m==\u001b[39m \u001b[39m'\u001b[39m\u001b[39mbottom\u001b[39m\u001b[39m'\u001b[39m:\n",
      "File \u001b[0;32m~/Documents/pCloud_synced/Academics/Projects/2020_thesis/thesis_experiments/3_experiments/3_3_experience_sampling/.venv/lib/python3.11/site-packages/matplotlib/axis.py:2149\u001b[0m, in \u001b[0;36mAxis._get_tick_boxes_siblings\u001b[0;34m(self, renderer)\u001b[0m\n\u001b[1;32m   2147\u001b[0m axis \u001b[39m=\u001b[39m \u001b[39mgetattr\u001b[39m(ax, \u001b[39mf\u001b[39m\u001b[39m\"\u001b[39m\u001b[39m{\u001b[39;00maxis_name\u001b[39m}\u001b[39;00m\u001b[39maxis\u001b[39m\u001b[39m\"\u001b[39m)\n\u001b[1;32m   2148\u001b[0m ticks_to_draw \u001b[39m=\u001b[39m axis\u001b[39m.\u001b[39m_update_ticks()\n\u001b[0;32m-> 2149\u001b[0m tlb, tlb2 \u001b[39m=\u001b[39m axis\u001b[39m.\u001b[39;49m_get_ticklabel_bboxes(ticks_to_draw, renderer)\n\u001b[1;32m   2150\u001b[0m bboxes\u001b[39m.\u001b[39mextend(tlb)\n\u001b[1;32m   2151\u001b[0m bboxes2\u001b[39m.\u001b[39mextend(tlb2)\n",
      "File \u001b[0;32m~/Documents/pCloud_synced/Academics/Projects/2020_thesis/thesis_experiments/3_experiments/3_3_experience_sampling/.venv/lib/python3.11/site-packages/matplotlib/axis.py:1316\u001b[0m, in \u001b[0;36mAxis._get_ticklabel_bboxes\u001b[0;34m(self, ticks, renderer)\u001b[0m\n\u001b[1;32m   1314\u001b[0m \u001b[39mif\u001b[39;00m renderer \u001b[39mis\u001b[39;00m \u001b[39mNone\u001b[39;00m:\n\u001b[1;32m   1315\u001b[0m     renderer \u001b[39m=\u001b[39m \u001b[39mself\u001b[39m\u001b[39m.\u001b[39mfigure\u001b[39m.\u001b[39m_get_renderer()\n\u001b[0;32m-> 1316\u001b[0m \u001b[39mreturn\u001b[39;00m ([tick\u001b[39m.\u001b[39;49mlabel1\u001b[39m.\u001b[39;49mget_window_extent(renderer)\n\u001b[1;32m   1317\u001b[0m          \u001b[39mfor\u001b[39;49;00m tick \u001b[39min\u001b[39;49;00m ticks \u001b[39mif\u001b[39;49;00m tick\u001b[39m.\u001b[39;49mlabel1\u001b[39m.\u001b[39;49mget_visible()],\n\u001b[1;32m   1318\u001b[0m         [tick\u001b[39m.\u001b[39mlabel2\u001b[39m.\u001b[39mget_window_extent(renderer)\n\u001b[1;32m   1319\u001b[0m          \u001b[39mfor\u001b[39;00m tick \u001b[39min\u001b[39;00m ticks \u001b[39mif\u001b[39;00m tick\u001b[39m.\u001b[39mlabel2\u001b[39m.\u001b[39mget_visible()])\n",
      "File \u001b[0;32m~/Documents/pCloud_synced/Academics/Projects/2020_thesis/thesis_experiments/3_experiments/3_3_experience_sampling/.venv/lib/python3.11/site-packages/matplotlib/axis.py:1316\u001b[0m, in \u001b[0;36m<listcomp>\u001b[0;34m(.0)\u001b[0m\n\u001b[1;32m   1314\u001b[0m \u001b[39mif\u001b[39;00m renderer \u001b[39mis\u001b[39;00m \u001b[39mNone\u001b[39;00m:\n\u001b[1;32m   1315\u001b[0m     renderer \u001b[39m=\u001b[39m \u001b[39mself\u001b[39m\u001b[39m.\u001b[39mfigure\u001b[39m.\u001b[39m_get_renderer()\n\u001b[0;32m-> 1316\u001b[0m \u001b[39mreturn\u001b[39;00m ([tick\u001b[39m.\u001b[39;49mlabel1\u001b[39m.\u001b[39;49mget_window_extent(renderer)\n\u001b[1;32m   1317\u001b[0m          \u001b[39mfor\u001b[39;00m tick \u001b[39min\u001b[39;00m ticks \u001b[39mif\u001b[39;00m tick\u001b[39m.\u001b[39mlabel1\u001b[39m.\u001b[39mget_visible()],\n\u001b[1;32m   1318\u001b[0m         [tick\u001b[39m.\u001b[39mlabel2\u001b[39m.\u001b[39mget_window_extent(renderer)\n\u001b[1;32m   1319\u001b[0m          \u001b[39mfor\u001b[39;00m tick \u001b[39min\u001b[39;00m ticks \u001b[39mif\u001b[39;00m tick\u001b[39m.\u001b[39mlabel2\u001b[39m.\u001b[39mget_visible()])\n",
      "File \u001b[0;32m~/Documents/pCloud_synced/Academics/Projects/2020_thesis/thesis_experiments/3_experiments/3_3_experience_sampling/.venv/lib/python3.11/site-packages/matplotlib/text.py:959\u001b[0m, in \u001b[0;36mText.get_window_extent\u001b[0;34m(self, renderer, dpi)\u001b[0m\n\u001b[1;32m    954\u001b[0m     \u001b[39mraise\u001b[39;00m \u001b[39mRuntimeError\u001b[39;00m(\n\u001b[1;32m    955\u001b[0m         \u001b[39m\"\u001b[39m\u001b[39mCannot get window extent of text w/o renderer. You likely \u001b[39m\u001b[39m\"\u001b[39m\n\u001b[1;32m    956\u001b[0m         \u001b[39m\"\u001b[39m\u001b[39mwant to call \u001b[39m\u001b[39m'\u001b[39m\u001b[39mfigure.draw_without_rendering()\u001b[39m\u001b[39m'\u001b[39m\u001b[39m first.\u001b[39m\u001b[39m\"\u001b[39m)\n\u001b[1;32m    958\u001b[0m \u001b[39mwith\u001b[39;00m cbook\u001b[39m.\u001b[39m_setattr_cm(\u001b[39mself\u001b[39m\u001b[39m.\u001b[39mfigure, dpi\u001b[39m=\u001b[39mdpi):\n\u001b[0;32m--> 959\u001b[0m     bbox, info, descent \u001b[39m=\u001b[39m \u001b[39mself\u001b[39;49m\u001b[39m.\u001b[39;49m_get_layout(\u001b[39mself\u001b[39;49m\u001b[39m.\u001b[39;49m_renderer)\n\u001b[1;32m    960\u001b[0m     x, y \u001b[39m=\u001b[39m \u001b[39mself\u001b[39m\u001b[39m.\u001b[39mget_unitless_position()\n\u001b[1;32m    961\u001b[0m     x, y \u001b[39m=\u001b[39m \u001b[39mself\u001b[39m\u001b[39m.\u001b[39mget_transform()\u001b[39m.\u001b[39mtransform((x, y))\n",
      "File \u001b[0;32m~/Documents/pCloud_synced/Academics/Projects/2020_thesis/thesis_experiments/3_experiments/3_3_experience_sampling/.venv/lib/python3.11/site-packages/matplotlib/text.py:386\u001b[0m, in \u001b[0;36mText._get_layout\u001b[0;34m(self, renderer)\u001b[0m\n\u001b[1;32m    384\u001b[0m clean_line, ismath \u001b[39m=\u001b[39m \u001b[39mself\u001b[39m\u001b[39m.\u001b[39m_preprocess_math(line)\n\u001b[1;32m    385\u001b[0m \u001b[39mif\u001b[39;00m clean_line:\n\u001b[0;32m--> 386\u001b[0m     w, h, d \u001b[39m=\u001b[39m _get_text_metrics_with_cache(\n\u001b[1;32m    387\u001b[0m         renderer, clean_line, \u001b[39mself\u001b[39;49m\u001b[39m.\u001b[39;49m_fontproperties,\n\u001b[1;32m    388\u001b[0m         ismath\u001b[39m=\u001b[39;49mismath, dpi\u001b[39m=\u001b[39;49m\u001b[39mself\u001b[39;49m\u001b[39m.\u001b[39;49mfigure\u001b[39m.\u001b[39;49mdpi)\n\u001b[1;32m    389\u001b[0m \u001b[39melse\u001b[39;00m:\n\u001b[1;32m    390\u001b[0m     w \u001b[39m=\u001b[39m h \u001b[39m=\u001b[39m d \u001b[39m=\u001b[39m \u001b[39m0\u001b[39m\n",
      "File \u001b[0;32m~/Documents/pCloud_synced/Academics/Projects/2020_thesis/thesis_experiments/3_experiments/3_3_experience_sampling/.venv/lib/python3.11/site-packages/matplotlib/text.py:97\u001b[0m, in \u001b[0;36m_get_text_metrics_with_cache\u001b[0;34m(renderer, text, fontprop, ismath, dpi)\u001b[0m\n\u001b[1;32m     94\u001b[0m \u001b[39m\u001b[39m\u001b[39m\"\"\"Call ``renderer.get_text_width_height_descent``, caching the results.\"\"\"\u001b[39;00m\n\u001b[1;32m     95\u001b[0m \u001b[39m# Cached based on a copy of fontprop so that later in-place mutations of\u001b[39;00m\n\u001b[1;32m     96\u001b[0m \u001b[39m# the passed-in argument do not mess up the cache.\u001b[39;00m\n\u001b[0;32m---> 97\u001b[0m \u001b[39mreturn\u001b[39;00m _get_text_metrics_with_cache_impl(\n\u001b[1;32m     98\u001b[0m     weakref\u001b[39m.\u001b[39;49mref(renderer), text, fontprop\u001b[39m.\u001b[39;49mcopy(), ismath, dpi)\n",
      "File \u001b[0;32m~/Documents/pCloud_synced/Academics/Projects/2020_thesis/thesis_experiments/3_experiments/3_3_experience_sampling/.venv/lib/python3.11/site-packages/matplotlib/text.py:105\u001b[0m, in \u001b[0;36m_get_text_metrics_with_cache_impl\u001b[0;34m(renderer_ref, text, fontprop, ismath, dpi)\u001b[0m\n\u001b[1;32m    101\u001b[0m \u001b[39m@functools\u001b[39m\u001b[39m.\u001b[39mlru_cache(\u001b[39m4096\u001b[39m)\n\u001b[1;32m    102\u001b[0m \u001b[39mdef\u001b[39;00m \u001b[39m_get_text_metrics_with_cache_impl\u001b[39m(\n\u001b[1;32m    103\u001b[0m         renderer_ref, text, fontprop, ismath, dpi):\n\u001b[1;32m    104\u001b[0m     \u001b[39m# dpi is unused, but participates in cache invalidation (via the renderer).\u001b[39;00m\n\u001b[0;32m--> 105\u001b[0m     \u001b[39mreturn\u001b[39;00m renderer_ref()\u001b[39m.\u001b[39;49mget_text_width_height_descent(text, fontprop, ismath)\n",
      "File \u001b[0;32m~/Documents/pCloud_synced/Academics/Projects/2020_thesis/thesis_experiments/3_experiments/3_3_experience_sampling/.venv/lib/python3.11/site-packages/matplotlib/backends/backend_svg.py:1317\u001b[0m, in \u001b[0;36mRendererSVG.get_text_width_height_descent\u001b[0;34m(self, s, prop, ismath)\u001b[0m\n\u001b[1;32m   1315\u001b[0m \u001b[39mdef\u001b[39;00m \u001b[39mget_text_width_height_descent\u001b[39m(\u001b[39mself\u001b[39m, s, prop, ismath):\n\u001b[1;32m   1316\u001b[0m     \u001b[39m# docstring inherited\u001b[39;00m\n\u001b[0;32m-> 1317\u001b[0m     \u001b[39mreturn\u001b[39;00m \u001b[39mself\u001b[39;49m\u001b[39m.\u001b[39;49m_text2path\u001b[39m.\u001b[39;49mget_text_width_height_descent(s, prop, ismath)\n",
      "File \u001b[0;32m~/Documents/pCloud_synced/Academics/Projects/2020_thesis/thesis_experiments/3_experiments/3_3_experience_sampling/.venv/lib/python3.11/site-packages/matplotlib/textpath.py:64\u001b[0m, in \u001b[0;36mTextToPath.get_text_width_height_descent\u001b[0;34m(self, s, prop, ismath)\u001b[0m\n\u001b[1;32m     61\u001b[0m     \u001b[39mreturn\u001b[39;00m width \u001b[39m*\u001b[39m scale, height \u001b[39m*\u001b[39m scale, descent \u001b[39m*\u001b[39m scale\n\u001b[1;32m     63\u001b[0m font \u001b[39m=\u001b[39m \u001b[39mself\u001b[39m\u001b[39m.\u001b[39m_get_font(prop)\n\u001b[0;32m---> 64\u001b[0m font\u001b[39m.\u001b[39;49mset_text(s, \u001b[39m0.0\u001b[39;49m, flags\u001b[39m=\u001b[39;49mLOAD_NO_HINTING)\n\u001b[1;32m     65\u001b[0m w, h \u001b[39m=\u001b[39m font\u001b[39m.\u001b[39mget_width_height()\n\u001b[1;32m     66\u001b[0m w \u001b[39m/\u001b[39m\u001b[39m=\u001b[39m \u001b[39m64.0\u001b[39m  \u001b[39m# convert from subpixels\u001b[39;00m\n",
      "\u001b[0;31mKeyboardInterrupt\u001b[0m: "
     ]
    }
   ],
   "source": [
    "# Rerun profiling\n",
    "profile = ProfileReport(df_daily_affect_wide.iloc[:,2:],\n",
    "                        title=f\"Affect Run {run_num} - Clean | Pandas Profiling Report\",\n",
    "                        infer_dtypes = False)\n",
    "profile.to_file(eda_reports_path + f\"affect_report_clean_run{run_num}.html\")"
   ]
  },
  {
   "cell_type": "markdown",
   "metadata": {},
   "source": [
    "##### Variance"
   ]
  },
  {
   "cell_type": "markdown",
   "metadata": {},
   "source": [
    "We can see that there are a number of participants who have no variance in a given category.\n",
    "\n",
    "This is obviously a problem for some analyses..."
   ]
  },
  {
   "cell_type": "code",
   "execution_count": 20,
   "metadata": {},
   "outputs": [
    {
     "data": {
      "text/html": [
       "<div>\n",
       "<style scoped>\n",
       "    .dataframe tbody tr th:only-of-type {\n",
       "        vertical-align: middle;\n",
       "    }\n",
       "\n",
       "    .dataframe tbody tr th {\n",
       "        vertical-align: top;\n",
       "    }\n",
       "\n",
       "    .dataframe thead th {\n",
       "        text-align: right;\n",
       "    }\n",
       "</style>\n",
       "<table border=\"1\" class=\"dataframe\">\n",
       "  <thead>\n",
       "    <tr style=\"text-align: right;\">\n",
       "      <th></th>\n",
       "      <th>ParticipantIdentifier</th>\n",
       "      <th>ZeroVariance</th>\n",
       "      <th>Count</th>\n",
       "    </tr>\n",
       "  </thead>\n",
       "  <tbody>\n",
       "    <tr>\n",
       "      <th>0</th>\n",
       "      <td>27329533-d0a4-4605-9da5-0eb857154cae</td>\n",
       "      <td>affect_neg_angry</td>\n",
       "      <td>4</td>\n",
       "    </tr>\n",
       "    <tr>\n",
       "      <th>1</th>\n",
       "      <td>329e2c06-a903-44ce-a409-8ed8c580b124</td>\n",
       "      <td>affect_neg_angry</td>\n",
       "      <td>25</td>\n",
       "    </tr>\n",
       "    <tr>\n",
       "      <th>2</th>\n",
       "      <td>d11241a0-932e-4931-83ee-f3d28f66875f</td>\n",
       "      <td>affect_neg_angry</td>\n",
       "      <td>4</td>\n",
       "    </tr>\n",
       "    <tr>\n",
       "      <th>3</th>\n",
       "      <td>7272fab8-c4e7-45bb-ba42-e9f6a06801c0</td>\n",
       "      <td>affect_neg_ashamed</td>\n",
       "      <td>3</td>\n",
       "    </tr>\n",
       "    <tr>\n",
       "      <th>4</th>\n",
       "      <td>27329533-d0a4-4605-9da5-0eb857154cae</td>\n",
       "      <td>affect_neg_bored</td>\n",
       "      <td>4</td>\n",
       "    </tr>\n",
       "    <tr>\n",
       "      <th>...</th>\n",
       "      <td>...</td>\n",
       "      <td>...</td>\n",
       "      <td>...</td>\n",
       "    </tr>\n",
       "    <tr>\n",
       "      <th>182</th>\n",
       "      <td>90592e06-bcf6-4150-85b0-c5daf7e7569c</td>\n",
       "      <td>affect_pos_motivated_am</td>\n",
       "      <td>66</td>\n",
       "    </tr>\n",
       "    <tr>\n",
       "      <th>183</th>\n",
       "      <td>a8b5a9ea-b762-4f46-a431-6c530215c498</td>\n",
       "      <td>affect_pos_motivated_am</td>\n",
       "      <td>81</td>\n",
       "    </tr>\n",
       "    <tr>\n",
       "      <th>184</th>\n",
       "      <td>afbd4906-0513-42b1-91ce-d25065842f55</td>\n",
       "      <td>affect_pos_motivated_am</td>\n",
       "      <td>25</td>\n",
       "    </tr>\n",
       "    <tr>\n",
       "      <th>185</th>\n",
       "      <td>27f7805e-5951-47b4-9f42-4c6200001cc6</td>\n",
       "      <td>affect_pos_relaxedCalm_am</td>\n",
       "      <td>45</td>\n",
       "    </tr>\n",
       "    <tr>\n",
       "      <th>186</th>\n",
       "      <td>3223b573-6de0-4aeb-b005-dd2e467b1e62</td>\n",
       "      <td>affect_pos_relaxedCalm_am</td>\n",
       "      <td>54</td>\n",
       "    </tr>\n",
       "  </tbody>\n",
       "</table>\n",
       "<p>187 rows × 3 columns</p>\n",
       "</div>"
      ],
      "text/plain": [
       "                    ParticipantIdentifier               ZeroVariance  Count\n",
       "0    27329533-d0a4-4605-9da5-0eb857154cae           affect_neg_angry      4\n",
       "1    329e2c06-a903-44ce-a409-8ed8c580b124           affect_neg_angry     25\n",
       "2    d11241a0-932e-4931-83ee-f3d28f66875f           affect_neg_angry      4\n",
       "3    7272fab8-c4e7-45bb-ba42-e9f6a06801c0         affect_neg_ashamed      3\n",
       "4    27329533-d0a4-4605-9da5-0eb857154cae           affect_neg_bored      4\n",
       "..                                    ...                        ...    ...\n",
       "182  90592e06-bcf6-4150-85b0-c5daf7e7569c    affect_pos_motivated_am     66\n",
       "183  a8b5a9ea-b762-4f46-a431-6c530215c498    affect_pos_motivated_am     81\n",
       "184  afbd4906-0513-42b1-91ce-d25065842f55    affect_pos_motivated_am     25\n",
       "185  27f7805e-5951-47b4-9f42-4c6200001cc6  affect_pos_relaxedCalm_am     45\n",
       "186  3223b573-6de0-4aeb-b005-dd2e467b1e62  affect_pos_relaxedCalm_am     54\n",
       "\n",
       "[187 rows x 3 columns]"
      ]
     },
     "execution_count": 20,
     "metadata": {},
     "output_type": "execute_result"
    }
   ],
   "source": [
    "# Drop 'trial_date' column\n",
    "data = df_daily_affect_wide.drop(columns='trial_date', errors='ignore')\n",
    "\n",
    "# Group by 'ParticipantIdentifier' and compute the variance\n",
    "grouped_variance = data.groupby('ParticipantIdentifier').var()\n",
    "\n",
    "# Filter the grouped_variance dataframe to only include columns with 0 variance for any participant\n",
    "zero_variance_df = grouped_variance[grouped_variance == 0].dropna(how='all')\n",
    "\n",
    "# Melt the dataframe to have ParticipantIdentifier, Column with 0 variance\n",
    "melted_zero_variance_df = zero_variance_df.reset_index().melt(id_vars=['ParticipantIdentifier'], value_name='Variance')\n",
    "final_zero_variance_df = melted_zero_variance_df.dropna(subset=['Variance']).drop(columns='Variance')\n",
    "\n",
    "# Count the number of values present in the variable column for each participant\n",
    "value_counts = data.groupby('ParticipantIdentifier').count()\n",
    "\n",
    "# Merge the value counts with the final_zero_variance_df\n",
    "merged_df = final_zero_variance_df.merge(value_counts, on='ParticipantIdentifier', how='left')\n",
    "\n",
    "# Extract only the relevant columns\n",
    "result_df = merged_df[['ParticipantIdentifier', 'variable', 'affect_neg_angry']]\n",
    "result_df.columns = ['ParticipantIdentifier', 'ZeroVariance', 'Count']\n",
    "\n",
    "result_df"
   ]
  },
  {
   "cell_type": "markdown",
   "metadata": {},
   "source": [
    "Some subjects had mulitple categories without any variance."
   ]
  },
  {
   "cell_type": "code",
   "execution_count": 21,
   "metadata": {},
   "outputs": [
    {
     "data": {
      "text/html": [
       "<div>\n",
       "<style scoped>\n",
       "    .dataframe tbody tr th:only-of-type {\n",
       "        vertical-align: middle;\n",
       "    }\n",
       "\n",
       "    .dataframe tbody tr th {\n",
       "        vertical-align: top;\n",
       "    }\n",
       "\n",
       "    .dataframe thead th {\n",
       "        text-align: right;\n",
       "    }\n",
       "</style>\n",
       "<table border=\"1\" class=\"dataframe\">\n",
       "  <thead>\n",
       "    <tr style=\"text-align: right;\">\n",
       "      <th></th>\n",
       "      <th>ParticipantIdentifier</th>\n",
       "      <th>affect_zeroVar_cols</th>\n",
       "      <th>total_count</th>\n",
       "      <th>affect_zeroVarCols_flag</th>\n",
       "    </tr>\n",
       "  </thead>\n",
       "  <tbody>\n",
       "    <tr>\n",
       "      <th>0</th>\n",
       "      <td>27f7805e-5951-47b4-9f42-4c6200001cc6</td>\n",
       "      <td>15</td>\n",
       "      <td>45</td>\n",
       "      <td>True</td>\n",
       "    </tr>\n",
       "    <tr>\n",
       "      <th>1</th>\n",
       "      <td>d520094e-39dc-47da-b764-049277fa48ad</td>\n",
       "      <td>12</td>\n",
       "      <td>72</td>\n",
       "      <td>True</td>\n",
       "    </tr>\n",
       "    <tr>\n",
       "      <th>2</th>\n",
       "      <td>27329533-d0a4-4605-9da5-0eb857154cae</td>\n",
       "      <td>8</td>\n",
       "      <td>4</td>\n",
       "      <td>True</td>\n",
       "    </tr>\n",
       "    <tr>\n",
       "      <th>3</th>\n",
       "      <td>2f32cd19-e9c5-4aad-8999-6f4646169ab6</td>\n",
       "      <td>8</td>\n",
       "      <td>8</td>\n",
       "      <td>True</td>\n",
       "    </tr>\n",
       "    <tr>\n",
       "      <th>4</th>\n",
       "      <td>ff129772-aeab-4432-8136-8f94027b8504</td>\n",
       "      <td>8</td>\n",
       "      <td>16</td>\n",
       "      <td>True</td>\n",
       "    </tr>\n",
       "    <tr>\n",
       "      <th>5</th>\n",
       "      <td>38bcd1b2-f8bc-48ee-bff2-5bca24012983</td>\n",
       "      <td>8</td>\n",
       "      <td>36</td>\n",
       "      <td>True</td>\n",
       "    </tr>\n",
       "    <tr>\n",
       "      <th>6</th>\n",
       "      <td>7272fab8-c4e7-45bb-ba42-e9f6a06801c0</td>\n",
       "      <td>7</td>\n",
       "      <td>3</td>\n",
       "      <td>True</td>\n",
       "    </tr>\n",
       "    <tr>\n",
       "      <th>7</th>\n",
       "      <td>3bb57dd9-1d69-471c-b769-b3323748bb9f</td>\n",
       "      <td>7</td>\n",
       "      <td>75</td>\n",
       "      <td>True</td>\n",
       "    </tr>\n",
       "    <tr>\n",
       "      <th>8</th>\n",
       "      <td>f889f1a4-9754-456e-ae08-092f992d3359</td>\n",
       "      <td>7</td>\n",
       "      <td>18</td>\n",
       "      <td>True</td>\n",
       "    </tr>\n",
       "    <tr>\n",
       "      <th>9</th>\n",
       "      <td>9330d6d9-c667-43be-b437-a3c988dd10d7</td>\n",
       "      <td>7</td>\n",
       "      <td>83</td>\n",
       "      <td>True</td>\n",
       "    </tr>\n",
       "    <tr>\n",
       "      <th>10</th>\n",
       "      <td>90592e06-bcf6-4150-85b0-c5daf7e7569c</td>\n",
       "      <td>6</td>\n",
       "      <td>66</td>\n",
       "      <td>True</td>\n",
       "    </tr>\n",
       "    <tr>\n",
       "      <th>11</th>\n",
       "      <td>a8b5a9ea-b762-4f46-a431-6c530215c498</td>\n",
       "      <td>6</td>\n",
       "      <td>81</td>\n",
       "      <td>True</td>\n",
       "    </tr>\n",
       "    <tr>\n",
       "      <th>12</th>\n",
       "      <td>dc75ed11-fb0f-4f28-a74e-9d08d2f6c26a</td>\n",
       "      <td>6</td>\n",
       "      <td>7</td>\n",
       "      <td>True</td>\n",
       "    </tr>\n",
       "    <tr>\n",
       "      <th>13</th>\n",
       "      <td>afbd4906-0513-42b1-91ce-d25065842f55</td>\n",
       "      <td>5</td>\n",
       "      <td>25</td>\n",
       "      <td>True</td>\n",
       "    </tr>\n",
       "    <tr>\n",
       "      <th>14</th>\n",
       "      <td>d11241a0-932e-4931-83ee-f3d28f66875f</td>\n",
       "      <td>5</td>\n",
       "      <td>4</td>\n",
       "      <td>True</td>\n",
       "    </tr>\n",
       "    <tr>\n",
       "      <th>15</th>\n",
       "      <td>db5e0fe0-e3bf-4aab-82f9-a3bfff92e1a3</td>\n",
       "      <td>4</td>\n",
       "      <td>29</td>\n",
       "      <td>True</td>\n",
       "    </tr>\n",
       "    <tr>\n",
       "      <th>16</th>\n",
       "      <td>3bda5c1a-959c-4f73-b27a-96c8a8801a3c</td>\n",
       "      <td>4</td>\n",
       "      <td>16</td>\n",
       "      <td>True</td>\n",
       "    </tr>\n",
       "    <tr>\n",
       "      <th>17</th>\n",
       "      <td>6b0c7ed3-b1ae-47b4-8034-c3c40dd5b29b</td>\n",
       "      <td>3</td>\n",
       "      <td>20</td>\n",
       "      <td>True</td>\n",
       "    </tr>\n",
       "    <tr>\n",
       "      <th>18</th>\n",
       "      <td>156895d9-0f71-4844-92dd-3fb298f84f2b</td>\n",
       "      <td>3</td>\n",
       "      <td>67</td>\n",
       "      <td>True</td>\n",
       "    </tr>\n",
       "    <tr>\n",
       "      <th>19</th>\n",
       "      <td>3223b573-6de0-4aeb-b005-dd2e467b1e62</td>\n",
       "      <td>3</td>\n",
       "      <td>54</td>\n",
       "      <td>True</td>\n",
       "    </tr>\n",
       "    <tr>\n",
       "      <th>20</th>\n",
       "      <td>1b9b62f1-095b-4819-92a0-ea8e7abee884</td>\n",
       "      <td>3</td>\n",
       "      <td>70</td>\n",
       "      <td>True</td>\n",
       "    </tr>\n",
       "    <tr>\n",
       "      <th>21</th>\n",
       "      <td>099765a5-a9c9-4fff-b297-a39eab517267</td>\n",
       "      <td>3</td>\n",
       "      <td>18</td>\n",
       "      <td>True</td>\n",
       "    </tr>\n",
       "    <tr>\n",
       "      <th>22</th>\n",
       "      <td>6d9ce034-4fcd-407e-9e35-9dd9caafe1fe</td>\n",
       "      <td>3</td>\n",
       "      <td>24</td>\n",
       "      <td>True</td>\n",
       "    </tr>\n",
       "    <tr>\n",
       "      <th>23</th>\n",
       "      <td>fa996c7b-fd1c-4cba-990a-336f4cefaeb4</td>\n",
       "      <td>3</td>\n",
       "      <td>26</td>\n",
       "      <td>True</td>\n",
       "    </tr>\n",
       "    <tr>\n",
       "      <th>24</th>\n",
       "      <td>a9de00be-460d-4b74-bed3-bf013fe2052a</td>\n",
       "      <td>3</td>\n",
       "      <td>63</td>\n",
       "      <td>True</td>\n",
       "    </tr>\n",
       "    <tr>\n",
       "      <th>25</th>\n",
       "      <td>43adea65-466c-4891-8bd9-301c4d6560c8</td>\n",
       "      <td>3</td>\n",
       "      <td>50</td>\n",
       "      <td>True</td>\n",
       "    </tr>\n",
       "    <tr>\n",
       "      <th>26</th>\n",
       "      <td>329e2c06-a903-44ce-a409-8ed8c580b124</td>\n",
       "      <td>3</td>\n",
       "      <td>25</td>\n",
       "      <td>True</td>\n",
       "    </tr>\n",
       "    <tr>\n",
       "      <th>27</th>\n",
       "      <td>deaf9ec8-984d-41bb-aab6-ef213452c297</td>\n",
       "      <td>3</td>\n",
       "      <td>30</td>\n",
       "      <td>True</td>\n",
       "    </tr>\n",
       "    <tr>\n",
       "      <th>28</th>\n",
       "      <td>92863208-10a4-443b-a225-18630552f5cc</td>\n",
       "      <td>3</td>\n",
       "      <td>10</td>\n",
       "      <td>True</td>\n",
       "    </tr>\n",
       "    <tr>\n",
       "      <th>29</th>\n",
       "      <td>151eec8c-0ba1-48ba-afc8-f2874dad3a2b</td>\n",
       "      <td>2</td>\n",
       "      <td>13</td>\n",
       "      <td>False</td>\n",
       "    </tr>\n",
       "    <tr>\n",
       "      <th>30</th>\n",
       "      <td>837ea159-60c6-4bde-b3ba-2c107844a9bb</td>\n",
       "      <td>2</td>\n",
       "      <td>37</td>\n",
       "      <td>False</td>\n",
       "    </tr>\n",
       "    <tr>\n",
       "      <th>31</th>\n",
       "      <td>4dce333c-4a55-4531-860a-3ec0babdd176</td>\n",
       "      <td>2</td>\n",
       "      <td>8</td>\n",
       "      <td>False</td>\n",
       "    </tr>\n",
       "    <tr>\n",
       "      <th>32</th>\n",
       "      <td>c62ae7a2-6fe6-4fd5-9b9e-93773b08d8b9</td>\n",
       "      <td>2</td>\n",
       "      <td>83</td>\n",
       "      <td>False</td>\n",
       "    </tr>\n",
       "    <tr>\n",
       "      <th>33</th>\n",
       "      <td>d92cdaf1-cc3e-4408-bcdf-7be602cc5c3b</td>\n",
       "      <td>2</td>\n",
       "      <td>7</td>\n",
       "      <td>False</td>\n",
       "    </tr>\n",
       "    <tr>\n",
       "      <th>34</th>\n",
       "      <td>c8b323ca-be8b-4374-ab2c-b4788e4a0e3d</td>\n",
       "      <td>2</td>\n",
       "      <td>61</td>\n",
       "      <td>False</td>\n",
       "    </tr>\n",
       "    <tr>\n",
       "      <th>35</th>\n",
       "      <td>7d501571-5d23-4f09-9266-1644f4f71add</td>\n",
       "      <td>2</td>\n",
       "      <td>81</td>\n",
       "      <td>False</td>\n",
       "    </tr>\n",
       "    <tr>\n",
       "      <th>36</th>\n",
       "      <td>39efadc3-7957-4b75-b560-d0d6c89cfe8b</td>\n",
       "      <td>2</td>\n",
       "      <td>61</td>\n",
       "      <td>False</td>\n",
       "    </tr>\n",
       "    <tr>\n",
       "      <th>37</th>\n",
       "      <td>ed16354a-961a-4e5e-83de-ce9a17b25a2f</td>\n",
       "      <td>1</td>\n",
       "      <td>37</td>\n",
       "      <td>False</td>\n",
       "    </tr>\n",
       "    <tr>\n",
       "      <th>38</th>\n",
       "      <td>3ae93375-05c4-494d-9ed1-b5fbd3340507</td>\n",
       "      <td>1</td>\n",
       "      <td>20</td>\n",
       "      <td>False</td>\n",
       "    </tr>\n",
       "    <tr>\n",
       "      <th>39</th>\n",
       "      <td>147400db-43d9-4155-8bf2-b85b8adf4315</td>\n",
       "      <td>1</td>\n",
       "      <td>81</td>\n",
       "      <td>False</td>\n",
       "    </tr>\n",
       "    <tr>\n",
       "      <th>40</th>\n",
       "      <td>0501ba67-3406-4779-aff1-878a0e9f7885</td>\n",
       "      <td>1</td>\n",
       "      <td>79</td>\n",
       "      <td>False</td>\n",
       "    </tr>\n",
       "    <tr>\n",
       "      <th>41</th>\n",
       "      <td>ea3d6bc5-1a3b-4542-a06a-6c6c9328e0fa</td>\n",
       "      <td>1</td>\n",
       "      <td>24</td>\n",
       "      <td>False</td>\n",
       "    </tr>\n",
       "    <tr>\n",
       "      <th>42</th>\n",
       "      <td>1e7aef96-16cc-43f8-95d4-e3bc582eb6d3</td>\n",
       "      <td>1</td>\n",
       "      <td>54</td>\n",
       "      <td>False</td>\n",
       "    </tr>\n",
       "    <tr>\n",
       "      <th>43</th>\n",
       "      <td>596d1036-bafa-47c3-9886-a588a37789bb</td>\n",
       "      <td>1</td>\n",
       "      <td>78</td>\n",
       "      <td>False</td>\n",
       "    </tr>\n",
       "    <tr>\n",
       "      <th>44</th>\n",
       "      <td>d77924dd-6dcf-4288-bb01-186fa08cfd0b</td>\n",
       "      <td>1</td>\n",
       "      <td>65</td>\n",
       "      <td>False</td>\n",
       "    </tr>\n",
       "    <tr>\n",
       "      <th>45</th>\n",
       "      <td>78caed8d-d47f-4e39-92be-eaf545d56772</td>\n",
       "      <td>1</td>\n",
       "      <td>4</td>\n",
       "      <td>False</td>\n",
       "    </tr>\n",
       "    <tr>\n",
       "      <th>46</th>\n",
       "      <td>14b58072-ae3b-491e-a8ca-207f0d27ccf6</td>\n",
       "      <td>1</td>\n",
       "      <td>9</td>\n",
       "      <td>False</td>\n",
       "    </tr>\n",
       "    <tr>\n",
       "      <th>47</th>\n",
       "      <td>32c4b5db-3371-4b5d-b035-3c790cb76a37</td>\n",
       "      <td>1</td>\n",
       "      <td>5</td>\n",
       "      <td>False</td>\n",
       "    </tr>\n",
       "    <tr>\n",
       "      <th>48</th>\n",
       "      <td>2dd6e3c2-398e-4de2-bce3-280069760001</td>\n",
       "      <td>1</td>\n",
       "      <td>17</td>\n",
       "      <td>False</td>\n",
       "    </tr>\n",
       "  </tbody>\n",
       "</table>\n",
       "</div>"
      ],
      "text/plain": [
       "                   ParticipantIdentifier  affect_zeroVar_cols  total_count  \\\n",
       "0   27f7805e-5951-47b4-9f42-4c6200001cc6                   15           45   \n",
       "1   d520094e-39dc-47da-b764-049277fa48ad                   12           72   \n",
       "2   27329533-d0a4-4605-9da5-0eb857154cae                    8            4   \n",
       "3   2f32cd19-e9c5-4aad-8999-6f4646169ab6                    8            8   \n",
       "4   ff129772-aeab-4432-8136-8f94027b8504                    8           16   \n",
       "5   38bcd1b2-f8bc-48ee-bff2-5bca24012983                    8           36   \n",
       "6   7272fab8-c4e7-45bb-ba42-e9f6a06801c0                    7            3   \n",
       "7   3bb57dd9-1d69-471c-b769-b3323748bb9f                    7           75   \n",
       "8   f889f1a4-9754-456e-ae08-092f992d3359                    7           18   \n",
       "9   9330d6d9-c667-43be-b437-a3c988dd10d7                    7           83   \n",
       "10  90592e06-bcf6-4150-85b0-c5daf7e7569c                    6           66   \n",
       "11  a8b5a9ea-b762-4f46-a431-6c530215c498                    6           81   \n",
       "12  dc75ed11-fb0f-4f28-a74e-9d08d2f6c26a                    6            7   \n",
       "13  afbd4906-0513-42b1-91ce-d25065842f55                    5           25   \n",
       "14  d11241a0-932e-4931-83ee-f3d28f66875f                    5            4   \n",
       "15  db5e0fe0-e3bf-4aab-82f9-a3bfff92e1a3                    4           29   \n",
       "16  3bda5c1a-959c-4f73-b27a-96c8a8801a3c                    4           16   \n",
       "17  6b0c7ed3-b1ae-47b4-8034-c3c40dd5b29b                    3           20   \n",
       "18  156895d9-0f71-4844-92dd-3fb298f84f2b                    3           67   \n",
       "19  3223b573-6de0-4aeb-b005-dd2e467b1e62                    3           54   \n",
       "20  1b9b62f1-095b-4819-92a0-ea8e7abee884                    3           70   \n",
       "21  099765a5-a9c9-4fff-b297-a39eab517267                    3           18   \n",
       "22  6d9ce034-4fcd-407e-9e35-9dd9caafe1fe                    3           24   \n",
       "23  fa996c7b-fd1c-4cba-990a-336f4cefaeb4                    3           26   \n",
       "24  a9de00be-460d-4b74-bed3-bf013fe2052a                    3           63   \n",
       "25  43adea65-466c-4891-8bd9-301c4d6560c8                    3           50   \n",
       "26  329e2c06-a903-44ce-a409-8ed8c580b124                    3           25   \n",
       "27  deaf9ec8-984d-41bb-aab6-ef213452c297                    3           30   \n",
       "28  92863208-10a4-443b-a225-18630552f5cc                    3           10   \n",
       "29  151eec8c-0ba1-48ba-afc8-f2874dad3a2b                    2           13   \n",
       "30  837ea159-60c6-4bde-b3ba-2c107844a9bb                    2           37   \n",
       "31  4dce333c-4a55-4531-860a-3ec0babdd176                    2            8   \n",
       "32  c62ae7a2-6fe6-4fd5-9b9e-93773b08d8b9                    2           83   \n",
       "33  d92cdaf1-cc3e-4408-bcdf-7be602cc5c3b                    2            7   \n",
       "34  c8b323ca-be8b-4374-ab2c-b4788e4a0e3d                    2           61   \n",
       "35  7d501571-5d23-4f09-9266-1644f4f71add                    2           81   \n",
       "36  39efadc3-7957-4b75-b560-d0d6c89cfe8b                    2           61   \n",
       "37  ed16354a-961a-4e5e-83de-ce9a17b25a2f                    1           37   \n",
       "38  3ae93375-05c4-494d-9ed1-b5fbd3340507                    1           20   \n",
       "39  147400db-43d9-4155-8bf2-b85b8adf4315                    1           81   \n",
       "40  0501ba67-3406-4779-aff1-878a0e9f7885                    1           79   \n",
       "41  ea3d6bc5-1a3b-4542-a06a-6c6c9328e0fa                    1           24   \n",
       "42  1e7aef96-16cc-43f8-95d4-e3bc582eb6d3                    1           54   \n",
       "43  596d1036-bafa-47c3-9886-a588a37789bb                    1           78   \n",
       "44  d77924dd-6dcf-4288-bb01-186fa08cfd0b                    1           65   \n",
       "45  78caed8d-d47f-4e39-92be-eaf545d56772                    1            4   \n",
       "46  14b58072-ae3b-491e-a8ca-207f0d27ccf6                    1            9   \n",
       "47  32c4b5db-3371-4b5d-b035-3c790cb76a37                    1            5   \n",
       "48  2dd6e3c2-398e-4de2-bce3-280069760001                    1           17   \n",
       "\n",
       "    affect_zeroVarCols_flag  \n",
       "0                      True  \n",
       "1                      True  \n",
       "2                      True  \n",
       "3                      True  \n",
       "4                      True  \n",
       "5                      True  \n",
       "6                      True  \n",
       "7                      True  \n",
       "8                      True  \n",
       "9                      True  \n",
       "10                     True  \n",
       "11                     True  \n",
       "12                     True  \n",
       "13                     True  \n",
       "14                     True  \n",
       "15                     True  \n",
       "16                     True  \n",
       "17                     True  \n",
       "18                     True  \n",
       "19                     True  \n",
       "20                     True  \n",
       "21                     True  \n",
       "22                     True  \n",
       "23                     True  \n",
       "24                     True  \n",
       "25                     True  \n",
       "26                     True  \n",
       "27                     True  \n",
       "28                     True  \n",
       "29                    False  \n",
       "30                    False  \n",
       "31                    False  \n",
       "32                    False  \n",
       "33                    False  \n",
       "34                    False  \n",
       "35                    False  \n",
       "36                    False  \n",
       "37                    False  \n",
       "38                    False  \n",
       "39                    False  \n",
       "40                    False  \n",
       "41                    False  \n",
       "42                    False  \n",
       "43                    False  \n",
       "44                    False  \n",
       "45                    False  \n",
       "46                    False  \n",
       "47                    False  \n",
       "48                    False  "
      ]
     },
     "execution_count": 21,
     "metadata": {},
     "output_type": "execute_result"
    }
   ],
   "source": [
    "zero_var_cols = result_df.ParticipantIdentifier.value_counts().reset_index(name='affect_zeroVar_cols')\n",
    "# Remove rows where both morning and evening surveys have NaN values\n",
    "df_count = df_daily_affect_wide[~((df_daily_affect_wide['affect_neg_angry'].isnull()) & (df_daily_affect_wide['affect_neg_angry_am'].isnull()))]\n",
    "# Calculate how many completed days\n",
    "df_count =  df_count.groupby('ParticipantIdentifier').size().reset_index(name='total_count')\n",
    "\n",
    "# merge\n",
    "zero_var_cols = zero_var_cols.merge(df_count, on='ParticipantIdentifier', how='left')\n",
    "\n",
    "# add flag\n",
    "zero_var_cols['affect_zeroVarCols_flag'] = False\n",
    "zero_var_cols.loc[zero_var_cols.affect_zeroVar_cols > 2, 'affect_zeroVarCols_flag'] = True\n",
    "zero_var_cols"
   ]
  },
  {
   "cell_type": "code",
   "execution_count": 22,
   "metadata": {},
   "outputs": [],
   "source": [
    "# merge with main affect df\n",
    "df_daily_affect_wide = df_daily_affect_wide.merge(zero_var_cols.drop(columns=['total_count']), on='ParticipantIdentifier', how='left')"
   ]
  },
  {
   "cell_type": "markdown",
   "metadata": {},
   "source": [
    "How many subjects had at least one column with no variance?"
   ]
  },
  {
   "cell_type": "code",
   "execution_count": 23,
   "metadata": {},
   "outputs": [
    {
     "data": {
      "text/plain": [
       "49"
      ]
     },
     "execution_count": 23,
     "metadata": {},
     "output_type": "execute_result"
    }
   ],
   "source": [
    "len(np.unique(result_df.ParticipantIdentifier))"
   ]
  },
  {
   "cell_type": "markdown",
   "metadata": {},
   "source": [
    "Here is the subject who had 15 variables with no variance (run 1):"
   ]
  },
  {
   "cell_type": "code",
   "execution_count": 24,
   "metadata": {},
   "outputs": [
    {
     "data": {
      "text/html": [
       "<div>\n",
       "<style scoped>\n",
       "    .dataframe tbody tr th:only-of-type {\n",
       "        vertical-align: middle;\n",
       "    }\n",
       "\n",
       "    .dataframe tbody tr th {\n",
       "        vertical-align: top;\n",
       "    }\n",
       "\n",
       "    .dataframe thead th {\n",
       "        text-align: right;\n",
       "    }\n",
       "</style>\n",
       "<table border=\"1\" class=\"dataframe\">\n",
       "  <thead>\n",
       "    <tr style=\"text-align: right;\">\n",
       "      <th></th>\n",
       "      <th>ParticipantIdentifier</th>\n",
       "      <th>trial_date</th>\n",
       "      <th>affect_neg_angry</th>\n",
       "      <th>affect_neg_ashamed</th>\n",
       "      <th>affect_neg_bored</th>\n",
       "      <th>affect_neg_depressed</th>\n",
       "      <th>affect_neg_embarrassed</th>\n",
       "      <th>affect_neg_frustrated</th>\n",
       "      <th>affect_neg_guilty</th>\n",
       "      <th>affect_neg_lazy</th>\n",
       "      <th>...</th>\n",
       "      <th>affect_pos_amused_am</th>\n",
       "      <th>affect_pos_appreciated_am</th>\n",
       "      <th>affect_pos_excited_am</th>\n",
       "      <th>affect_pos_focused_am</th>\n",
       "      <th>affect_pos_happy_am</th>\n",
       "      <th>affect_pos_hopeful_am</th>\n",
       "      <th>affect_pos_motivated_am</th>\n",
       "      <th>affect_pos_relaxedCalm_am</th>\n",
       "      <th>affect_zeroVar_cols</th>\n",
       "      <th>affect_zeroVarCols_flag</th>\n",
       "    </tr>\n",
       "  </thead>\n",
       "  <tbody>\n",
       "    <tr>\n",
       "      <th>662</th>\n",
       "      <td>27f7805e-5951-47b4-9f42-4c6200001cc6</td>\n",
       "      <td>2022-09-28</td>\n",
       "      <td>1.0</td>\n",
       "      <td>1.0</td>\n",
       "      <td>1.0</td>\n",
       "      <td>1.0</td>\n",
       "      <td>1.0</td>\n",
       "      <td>2.0</td>\n",
       "      <td>1.0</td>\n",
       "      <td>3.0</td>\n",
       "      <td>...</td>\n",
       "      <td>1.0</td>\n",
       "      <td>1.0</td>\n",
       "      <td>1.0</td>\n",
       "      <td>3.0</td>\n",
       "      <td>1.0</td>\n",
       "      <td>1.0</td>\n",
       "      <td>1.0</td>\n",
       "      <td>2.0</td>\n",
       "      <td>15.0</td>\n",
       "      <td>True</td>\n",
       "    </tr>\n",
       "    <tr>\n",
       "      <th>666</th>\n",
       "      <td>27f7805e-5951-47b4-9f42-4c6200001cc6</td>\n",
       "      <td>2022-10-02</td>\n",
       "      <td>2.0</td>\n",
       "      <td>1.0</td>\n",
       "      <td>1.0</td>\n",
       "      <td>1.0</td>\n",
       "      <td>1.0</td>\n",
       "      <td>2.0</td>\n",
       "      <td>1.0</td>\n",
       "      <td>3.0</td>\n",
       "      <td>...</td>\n",
       "      <td>2.0</td>\n",
       "      <td>1.0</td>\n",
       "      <td>1.0</td>\n",
       "      <td>1.0</td>\n",
       "      <td>1.0</td>\n",
       "      <td>1.0</td>\n",
       "      <td>1.0</td>\n",
       "      <td>2.0</td>\n",
       "      <td>15.0</td>\n",
       "      <td>True</td>\n",
       "    </tr>\n",
       "  </tbody>\n",
       "</table>\n",
       "<p>2 rows × 44 columns</p>\n",
       "</div>"
      ],
      "text/plain": [
       "                    ParticipantIdentifier  trial_date affect_neg_angry  \\\n",
       "662  27f7805e-5951-47b4-9f42-4c6200001cc6  2022-09-28              1.0   \n",
       "666  27f7805e-5951-47b4-9f42-4c6200001cc6  2022-10-02              2.0   \n",
       "\n",
       "    affect_neg_ashamed affect_neg_bored affect_neg_depressed  \\\n",
       "662                1.0              1.0                  1.0   \n",
       "666                1.0              1.0                  1.0   \n",
       "\n",
       "    affect_neg_embarrassed affect_neg_frustrated affect_neg_guilty  \\\n",
       "662                    1.0                   2.0               1.0   \n",
       "666                    1.0                   2.0               1.0   \n",
       "\n",
       "    affect_neg_lazy  ... affect_pos_amused_am affect_pos_appreciated_am  \\\n",
       "662             3.0  ...                  1.0                       1.0   \n",
       "666             3.0  ...                  2.0                       1.0   \n",
       "\n",
       "    affect_pos_excited_am affect_pos_focused_am affect_pos_happy_am  \\\n",
       "662                   1.0                   3.0                 1.0   \n",
       "666                   1.0                   1.0                 1.0   \n",
       "\n",
       "    affect_pos_hopeful_am affect_pos_motivated_am affect_pos_relaxedCalm_am  \\\n",
       "662                   1.0                     1.0                       2.0   \n",
       "666                   1.0                     1.0                       2.0   \n",
       "\n",
       "    affect_zeroVar_cols affect_zeroVarCols_flag  \n",
       "662                15.0                    True  \n",
       "666                15.0                    True  \n",
       "\n",
       "[2 rows x 44 columns]"
      ]
     },
     "execution_count": 24,
     "metadata": {},
     "output_type": "execute_result"
    }
   ],
   "source": [
    "df_daily_affect_wide.loc[df_daily_affect_wide.ParticipantIdentifier == '27f7805e-5951-47b4-9f42-4c6200001cc6', :].dropna()"
   ]
  },
  {
   "cell_type": "markdown",
   "metadata": {},
   "source": [
    "But maybe variance within day is more important in terms of actually cleaning data. If someone enters the same value for every variable perhaps it is because they are not answering accurately and just trying to finish as quickly as possible."
   ]
  },
  {
   "cell_type": "code",
   "execution_count": 25,
   "metadata": {},
   "outputs": [
    {
     "data": {
      "text/html": [
       "<div>\n",
       "<style scoped>\n",
       "    .dataframe tbody tr th:only-of-type {\n",
       "        vertical-align: middle;\n",
       "    }\n",
       "\n",
       "    .dataframe tbody tr th {\n",
       "        vertical-align: top;\n",
       "    }\n",
       "\n",
       "    .dataframe thead th {\n",
       "        text-align: right;\n",
       "    }\n",
       "</style>\n",
       "<table border=\"1\" class=\"dataframe\">\n",
       "  <thead>\n",
       "    <tr style=\"text-align: right;\">\n",
       "      <th></th>\n",
       "      <th>ParticipantIdentifier</th>\n",
       "      <th>zeroVar_count</th>\n",
       "      <th>total_count</th>\n",
       "      <th>affect_pct_zeroVarRows</th>\n",
       "      <th>affect_zeroVarRows_flag</th>\n",
       "    </tr>\n",
       "  </thead>\n",
       "  <tbody>\n",
       "    <tr>\n",
       "      <th>0</th>\n",
       "      <td>25ca39d7-4279-48fd-903f-d0927adadb77</td>\n",
       "      <td>8</td>\n",
       "      <td>25</td>\n",
       "      <td>32.000000</td>\n",
       "      <td>True</td>\n",
       "    </tr>\n",
       "    <tr>\n",
       "      <th>1</th>\n",
       "      <td>412330b3-cc02-4030-96cd-f4cfdcc45fa6</td>\n",
       "      <td>3</td>\n",
       "      <td>83</td>\n",
       "      <td>3.614458</td>\n",
       "      <td>False</td>\n",
       "    </tr>\n",
       "    <tr>\n",
       "      <th>2</th>\n",
       "      <td>4217d9ff-07c0-42a5-9da9-f2e351b40709</td>\n",
       "      <td>2</td>\n",
       "      <td>44</td>\n",
       "      <td>4.545455</td>\n",
       "      <td>False</td>\n",
       "    </tr>\n",
       "    <tr>\n",
       "      <th>3</th>\n",
       "      <td>4965aa0d-a7a9-4d1c-b835-3f79a29e0d39</td>\n",
       "      <td>13</td>\n",
       "      <td>83</td>\n",
       "      <td>15.662651</td>\n",
       "      <td>True</td>\n",
       "    </tr>\n",
       "    <tr>\n",
       "      <th>4</th>\n",
       "      <td>98cb45a7-4057-4e81-b1d7-e7aede5e106e</td>\n",
       "      <td>3</td>\n",
       "      <td>30</td>\n",
       "      <td>10.000000</td>\n",
       "      <td>False</td>\n",
       "    </tr>\n",
       "    <tr>\n",
       "      <th>5</th>\n",
       "      <td>b62eaadd-1819-41da-a70b-a46d4151db72</td>\n",
       "      <td>1</td>\n",
       "      <td>29</td>\n",
       "      <td>3.448276</td>\n",
       "      <td>False</td>\n",
       "    </tr>\n",
       "    <tr>\n",
       "      <th>6</th>\n",
       "      <td>bbd82a98-a1c9-4229-afc3-cc201067b909</td>\n",
       "      <td>3</td>\n",
       "      <td>64</td>\n",
       "      <td>4.687500</td>\n",
       "      <td>False</td>\n",
       "    </tr>\n",
       "    <tr>\n",
       "      <th>7</th>\n",
       "      <td>bf670311-c590-473a-98ab-d719ebf0f2ab</td>\n",
       "      <td>42</td>\n",
       "      <td>83</td>\n",
       "      <td>50.602410</td>\n",
       "      <td>True</td>\n",
       "    </tr>\n",
       "    <tr>\n",
       "      <th>8</th>\n",
       "      <td>c2097f36-4ca3-4537-856d-a649d1557553</td>\n",
       "      <td>1</td>\n",
       "      <td>83</td>\n",
       "      <td>1.204819</td>\n",
       "      <td>False</td>\n",
       "    </tr>\n",
       "  </tbody>\n",
       "</table>\n",
       "</div>"
      ],
      "text/plain": [
       "                  ParticipantIdentifier  zeroVar_count  total_count  \\\n",
       "0  25ca39d7-4279-48fd-903f-d0927adadb77              8           25   \n",
       "1  412330b3-cc02-4030-96cd-f4cfdcc45fa6              3           83   \n",
       "2  4217d9ff-07c0-42a5-9da9-f2e351b40709              2           44   \n",
       "3  4965aa0d-a7a9-4d1c-b835-3f79a29e0d39             13           83   \n",
       "4  98cb45a7-4057-4e81-b1d7-e7aede5e106e              3           30   \n",
       "5  b62eaadd-1819-41da-a70b-a46d4151db72              1           29   \n",
       "6  bbd82a98-a1c9-4229-afc3-cc201067b909              3           64   \n",
       "7  bf670311-c590-473a-98ab-d719ebf0f2ab             42           83   \n",
       "8  c2097f36-4ca3-4537-856d-a649d1557553              1           83   \n",
       "\n",
       "   affect_pct_zeroVarRows  affect_zeroVarRows_flag  \n",
       "0               32.000000                     True  \n",
       "1                3.614458                    False  \n",
       "2                4.545455                    False  \n",
       "3               15.662651                     True  \n",
       "4               10.000000                    False  \n",
       "5                3.448276                    False  \n",
       "6                4.687500                    False  \n",
       "7               50.602410                     True  \n",
       "8                1.204819                    False  "
      ]
     },
     "execution_count": 25,
     "metadata": {},
     "output_type": "execute_result"
    }
   ],
   "source": [
    "# find rows with zero variance\n",
    "idx = np.where(df_daily_affect_wide.drop(columns=['ParticipantIdentifier', 'trial_date']).var(axis=1) == 0)[0]\n",
    "# calculate how many zero variance days per subject\n",
    "df_zeroVar = df_daily_affect_wide.iloc[idx,:].groupby('ParticipantIdentifier').size().reset_index(name='zeroVar_count')\n",
    "\n",
    "# Remove rows where both morning and evening surveys have NaN values\n",
    "df_count = df_daily_affect_wide[~((df_daily_affect_wide['affect_neg_angry'].isnull()) & (df_daily_affect_wide['affect_neg_angry_am'].isnull()))]\n",
    "# Calculate how many completed days\n",
    "df_count =  df_count.groupby('ParticipantIdentifier').size().reset_index(name='total_count')\n",
    "\n",
    "# merge\n",
    "df_zeroVar = df_zeroVar.merge(df_count, on='ParticipantIdentifier', how='left')\n",
    "df_zeroVar['affect_pct_zeroVarRows'] = (df_zeroVar.zeroVar_count / df_zeroVar.total_count) * 100\n",
    "\n",
    "# add flag\n",
    "df_zeroVar['affect_zeroVarRows_flag'] = False\n",
    "df_zeroVar.loc[df_zeroVar.affect_pct_zeroVarRows > 10, 'affect_zeroVarRows_flag'] = True\n",
    "df_zeroVar"
   ]
  },
  {
   "cell_type": "code",
   "execution_count": 26,
   "metadata": {},
   "outputs": [],
   "source": [
    "# merge with main affect df\n",
    "df_daily_affect_wide = df_daily_affect_wide.merge(df_zeroVar.drop(columns=['zeroVar_count', 'total_count']), on='ParticipantIdentifier', how='left')"
   ]
  },
  {
   "cell_type": "code",
   "execution_count": 27,
   "metadata": {},
   "outputs": [
    {
     "data": {
      "text/html": [
       "<div>\n",
       "<style scoped>\n",
       "    .dataframe tbody tr th:only-of-type {\n",
       "        vertical-align: middle;\n",
       "    }\n",
       "\n",
       "    .dataframe tbody tr th {\n",
       "        vertical-align: top;\n",
       "    }\n",
       "\n",
       "    .dataframe thead th {\n",
       "        text-align: right;\n",
       "    }\n",
       "</style>\n",
       "<table border=\"1\" class=\"dataframe\">\n",
       "  <thead>\n",
       "    <tr style=\"text-align: right;\">\n",
       "      <th></th>\n",
       "      <th>ParticipantIdentifier</th>\n",
       "      <th>trial_date</th>\n",
       "      <th>affect_neg_angry</th>\n",
       "      <th>affect_neg_ashamed</th>\n",
       "      <th>affect_neg_bored</th>\n",
       "      <th>affect_neg_depressed</th>\n",
       "      <th>affect_neg_embarrassed</th>\n",
       "      <th>affect_neg_frustrated</th>\n",
       "      <th>affect_neg_guilty</th>\n",
       "      <th>affect_neg_lazy</th>\n",
       "      <th>...</th>\n",
       "      <th>affect_pos_excited_am</th>\n",
       "      <th>affect_pos_focused_am</th>\n",
       "      <th>affect_pos_happy_am</th>\n",
       "      <th>affect_pos_hopeful_am</th>\n",
       "      <th>affect_pos_motivated_am</th>\n",
       "      <th>affect_pos_relaxedCalm_am</th>\n",
       "      <th>affect_zeroVar_cols</th>\n",
       "      <th>affect_zeroVarCols_flag</th>\n",
       "      <th>affect_pct_zeroVarRows</th>\n",
       "      <th>affect_zeroVarRows_flag</th>\n",
       "    </tr>\n",
       "  </thead>\n",
       "  <tbody>\n",
       "    <tr>\n",
       "      <th>1154</th>\n",
       "      <td>3bb57dd9-1d69-471c-b769-b3323748bb9f</td>\n",
       "      <td>2022-11-29</td>\n",
       "      <td>2.0</td>\n",
       "      <td>2.0</td>\n",
       "      <td>1.0</td>\n",
       "      <td>1.0</td>\n",
       "      <td>1.0</td>\n",
       "      <td>2.0</td>\n",
       "      <td>2.0</td>\n",
       "      <td>1.0</td>\n",
       "      <td>...</td>\n",
       "      <td>NaN</td>\n",
       "      <td>NaN</td>\n",
       "      <td>NaN</td>\n",
       "      <td>NaN</td>\n",
       "      <td>NaN</td>\n",
       "      <td>NaN</td>\n",
       "      <td>7.0</td>\n",
       "      <td>True</td>\n",
       "      <td>NaN</td>\n",
       "      <td>NaN</td>\n",
       "    </tr>\n",
       "    <tr>\n",
       "      <th>853</th>\n",
       "      <td>3223b573-6de0-4aeb-b005-dd2e467b1e62</td>\n",
       "      <td>2022-11-11</td>\n",
       "      <td>1.0</td>\n",
       "      <td>2.0</td>\n",
       "      <td>2.0</td>\n",
       "      <td>1.0</td>\n",
       "      <td>1.0</td>\n",
       "      <td>2.0</td>\n",
       "      <td>2.0</td>\n",
       "      <td>2.0</td>\n",
       "      <td>...</td>\n",
       "      <td>NaN</td>\n",
       "      <td>NaN</td>\n",
       "      <td>NaN</td>\n",
       "      <td>NaN</td>\n",
       "      <td>NaN</td>\n",
       "      <td>NaN</td>\n",
       "      <td>3.0</td>\n",
       "      <td>True</td>\n",
       "      <td>NaN</td>\n",
       "      <td>NaN</td>\n",
       "    </tr>\n",
       "    <tr>\n",
       "      <th>4041</th>\n",
       "      <td>fed3a16b-c5a3-4a84-a111-32b7574e04b5</td>\n",
       "      <td>2022-11-23</td>\n",
       "      <td>3.0</td>\n",
       "      <td>4.0</td>\n",
       "      <td>3.0</td>\n",
       "      <td>2.0</td>\n",
       "      <td>3.0</td>\n",
       "      <td>3.0</td>\n",
       "      <td>3.0</td>\n",
       "      <td>3.0</td>\n",
       "      <td>...</td>\n",
       "      <td>4.0</td>\n",
       "      <td>2.0</td>\n",
       "      <td>4.0</td>\n",
       "      <td>2.0</td>\n",
       "      <td>1.0</td>\n",
       "      <td>4.0</td>\n",
       "      <td>NaN</td>\n",
       "      <td>NaN</td>\n",
       "      <td>NaN</td>\n",
       "      <td>NaN</td>\n",
       "    </tr>\n",
       "    <tr>\n",
       "      <th>2567</th>\n",
       "      <td>a33e1d38-6ee8-4da6-993b-a94a8ae7fc30</td>\n",
       "      <td>2022-09-30</td>\n",
       "      <td>1.0</td>\n",
       "      <td>1.0</td>\n",
       "      <td>1.0</td>\n",
       "      <td>2.0</td>\n",
       "      <td>1.0</td>\n",
       "      <td>2.0</td>\n",
       "      <td>1.0</td>\n",
       "      <td>1.0</td>\n",
       "      <td>...</td>\n",
       "      <td>2.0</td>\n",
       "      <td>3.0</td>\n",
       "      <td>3.0</td>\n",
       "      <td>3.0</td>\n",
       "      <td>3.0</td>\n",
       "      <td>3.0</td>\n",
       "      <td>NaN</td>\n",
       "      <td>NaN</td>\n",
       "      <td>NaN</td>\n",
       "      <td>NaN</td>\n",
       "    </tr>\n",
       "    <tr>\n",
       "      <th>755</th>\n",
       "      <td>2baee05a-5e5a-4436-8c25-2628d46d1e08</td>\n",
       "      <td>2022-11-15</td>\n",
       "      <td>2.0</td>\n",
       "      <td>2.0</td>\n",
       "      <td>2.0</td>\n",
       "      <td>2.0</td>\n",
       "      <td>4.0</td>\n",
       "      <td>1.0</td>\n",
       "      <td>2.0</td>\n",
       "      <td>2.0</td>\n",
       "      <td>...</td>\n",
       "      <td>2.0</td>\n",
       "      <td>2.0</td>\n",
       "      <td>2.0</td>\n",
       "      <td>2.0</td>\n",
       "      <td>3.0</td>\n",
       "      <td>4.0</td>\n",
       "      <td>NaN</td>\n",
       "      <td>NaN</td>\n",
       "      <td>NaN</td>\n",
       "      <td>NaN</td>\n",
       "    </tr>\n",
       "  </tbody>\n",
       "</table>\n",
       "<p>5 rows × 46 columns</p>\n",
       "</div>"
      ],
      "text/plain": [
       "                     ParticipantIdentifier  trial_date affect_neg_angry  \\\n",
       "1154  3bb57dd9-1d69-471c-b769-b3323748bb9f  2022-11-29              2.0   \n",
       "853   3223b573-6de0-4aeb-b005-dd2e467b1e62  2022-11-11              1.0   \n",
       "4041  fed3a16b-c5a3-4a84-a111-32b7574e04b5  2022-11-23              3.0   \n",
       "2567  a33e1d38-6ee8-4da6-993b-a94a8ae7fc30  2022-09-30              1.0   \n",
       "755   2baee05a-5e5a-4436-8c25-2628d46d1e08  2022-11-15              2.0   \n",
       "\n",
       "     affect_neg_ashamed affect_neg_bored affect_neg_depressed  \\\n",
       "1154                2.0              1.0                  1.0   \n",
       "853                 2.0              2.0                  1.0   \n",
       "4041                4.0              3.0                  2.0   \n",
       "2567                1.0              1.0                  2.0   \n",
       "755                 2.0              2.0                  2.0   \n",
       "\n",
       "     affect_neg_embarrassed affect_neg_frustrated affect_neg_guilty  \\\n",
       "1154                    1.0                   2.0               2.0   \n",
       "853                     1.0                   2.0               2.0   \n",
       "4041                    3.0                   3.0               3.0   \n",
       "2567                    1.0                   2.0               1.0   \n",
       "755                     4.0                   1.0               2.0   \n",
       "\n",
       "     affect_neg_lazy  ... affect_pos_excited_am affect_pos_focused_am  \\\n",
       "1154             1.0  ...                   NaN                   NaN   \n",
       "853              2.0  ...                   NaN                   NaN   \n",
       "4041             3.0  ...                   4.0                   2.0   \n",
       "2567             1.0  ...                   2.0                   3.0   \n",
       "755              2.0  ...                   2.0                   2.0   \n",
       "\n",
       "     affect_pos_happy_am affect_pos_hopeful_am affect_pos_motivated_am  \\\n",
       "1154                 NaN                   NaN                     NaN   \n",
       "853                  NaN                   NaN                     NaN   \n",
       "4041                 4.0                   2.0                     1.0   \n",
       "2567                 3.0                   3.0                     3.0   \n",
       "755                  2.0                   2.0                     3.0   \n",
       "\n",
       "     affect_pos_relaxedCalm_am affect_zeroVar_cols affect_zeroVarCols_flag  \\\n",
       "1154                       NaN                 7.0                    True   \n",
       "853                        NaN                 3.0                    True   \n",
       "4041                       4.0                 NaN                     NaN   \n",
       "2567                       3.0                 NaN                     NaN   \n",
       "755                        4.0                 NaN                     NaN   \n",
       "\n",
       "     affect_pct_zeroVarRows affect_zeroVarRows_flag  \n",
       "1154                    NaN                     NaN  \n",
       "853                     NaN                     NaN  \n",
       "4041                    NaN                     NaN  \n",
       "2567                    NaN                     NaN  \n",
       "755                     NaN                     NaN  \n",
       "\n",
       "[5 rows x 46 columns]"
      ]
     },
     "execution_count": 27,
     "metadata": {},
     "output_type": "execute_result"
    }
   ],
   "source": [
    "df_daily_affect_wide.sample(5)"
   ]
  },
  {
   "cell_type": "markdown",
   "metadata": {},
   "source": [
    "#### Save"
   ]
  },
  {
   "cell_type": "code",
   "execution_count": 28,
   "metadata": {},
   "outputs": [],
   "source": [
    "# Create df with one participant ID for every trial_date\n",
    "\n",
    "# Create a series of dates from '2022-09-27' to '2022-12-20'\n",
    "if run_num == 1:\n",
    "    date_series = pd.date_range(start='2022-09-27', end='2022-12-20')\n",
    "elif run_num == 2:\n",
    "    date_series = pd.date_range(start='2023-01-30', end='2023-04-24')\n",
    "\n",
    "ids_series = subjects\n",
    "\n",
    "# Create a dataframe using a cartesian product of the two series\n",
    "df_complete_idDate = pd.DataFrame({\n",
    "    'ParticipantIdentifier': np.repeat(ids_series, len(date_series)),\n",
    "    'trial_date': date_series.tolist() * len(ids_series)\n",
    "}).reset_index(drop=True)\n",
    "\n",
    "# Convert trial_date to datetime.date\n",
    "df_complete_idDate['trial_date'] = pd.to_datetime(df_complete_idDate['trial_date']).dt.date\n",
    "df_daily_affect_wide['trial_date'] = pd.to_datetime(df_daily_affect_wide['trial_date']).dt.date\n",
    "\n",
    "# Join with affect df\n",
    "df_daily_affect_wide = df_complete_idDate.merge(df_daily_affect_wide, how='left', on=['ParticipantIdentifier', 'trial_date'])"
   ]
  },
  {
   "cell_type": "code",
   "execution_count": 29,
   "metadata": {},
   "outputs": [
    {
     "data": {
      "text/plain": [
       "(7820, 46)"
      ]
     },
     "execution_count": 29,
     "metadata": {},
     "output_type": "execute_result"
    }
   ],
   "source": [
    "df_daily_affect_wide.shape"
   ]
  },
  {
   "cell_type": "code",
   "execution_count": 30,
   "metadata": {},
   "outputs": [],
   "source": [
    "# save to csv\n",
    "if run_num ==1:\n",
    "    # run 1\n",
    "    df_daily_affect_wide.to_csv(save_path + 'run1_affect.csv', index=False)\n",
    "if run_num ==2:\n",
    "    # run 2\n",
    "    df_daily_affect_wide.to_csv(save_path + 'run2_affect.csv', index=False)"
   ]
  },
  {
   "cell_type": "markdown",
   "metadata": {},
   "source": [
    "### Daily General and Detail"
   ]
  },
  {
   "cell_type": "markdown",
   "metadata": {},
   "source": [
    "#### Load Data"
   ]
  },
  {
   "cell_type": "code",
   "execution_count": 31,
   "metadata": {},
   "outputs": [
    {
     "name": "stdout",
     "output_type": "stream",
     "text": [
      "deleted existing df\n"
     ]
    }
   ],
   "source": [
    "# erase df if it already exists\n",
    "if 'df' in globals():\n",
    "    del(df)\n",
    "    print('deleted existing df')\n",
    "\n",
    "if 'df_daily_sr_wide' in globals():\n",
    "    del(df_daily_sr_wide)\n",
    "    print('deleted daily self report df')"
   ]
  },
  {
   "cell_type": "code",
   "execution_count": 32,
   "metadata": {},
   "outputs": [],
   "source": [
    "if run_num ==1:\n",
    "    # run 1\n",
    "    df = pd.read_csv(save_path + 'run1_app_survey_results.csv')\n",
    "if run_num ==2:\n",
    "    # run 2\n",
    "    df = pd.read_csv(save_path + 'run2_app_survey_results.csv')\n",
    "    \n",
    "# Convert the date column back to datetime.date\n",
    "df['trial_date'] = pd.to_datetime(df['trial_date']).dt.date"
   ]
  },
  {
   "cell_type": "markdown",
   "metadata": {},
   "source": [
    "#### Select Data"
   ]
  },
  {
   "cell_type": "code",
   "execution_count": 33,
   "metadata": {},
   "outputs": [],
   "source": [
    "past24_general = [\n",
    "    'DAILY_survey_situation1_surveys',\n",
    "    'DAILY_survey_situation2_surveys',\n",
    "    'DAILY_survey_missed',\n",
    "    'DAILY_past48to24_gap',\n",
    "    'DAILY_past48to24_gapCause',\n",
    "    'DAILY_past24_ideal',\n",
    "    'DAILY_past24_satisfaction',\n",
    "    'DAILY_past24_change',\n",
    "    'DAILY_past24_productivity',\n",
    "    'DAILY_past24_procrastination',\n",
    "    'DAILY_past24_punctuality',\n",
    "    'DAILY_past24_mentalEffort',\n",
    "    'DAILY_past24_physicalEffort',\n",
    "    'DAILY_past24_values',\n",
    "    'DAILY_past24_gap',\n",
    "    'DAILY_past24_gapCause',\n",
    "    'DAILY_past24_illness',\n",
    "    'DAILY_past24_fatigue',\n",
    "    'DAILY_past24_unusualEvents'\n",
    "]\n",
    "\n",
    "past24_categories = [\n",
    "    'DAILY_past24_sleep',\n",
    "    'DAILY_past24_occupation',\n",
    "    'DAILY_past24_nonoccupation',\n",
    "    'DAILY_past24_exercise',\n",
    "    'DAILY_past24_leisureSolo',\n",
    "    'DAILY_past24_leisureSoloMental',\n",
    "    'DAILY_past24_leisureSoloPhysical',\n",
    "    'DAILY_past24_leisureNonSolo',\n",
    "    'DAILY_past24_leisureNonSoloMental',\n",
    "    'DAILY_past24_leisureNonSoloPhysical',\n",
    "    'DAILY_past24_diet',\n",
    "    'DAILY_past24_socialMedia',\n",
    "    'DAILY_past24_drinks'\n",
    "]\n",
    "\n",
    "next24_categories = [\n",
    "    'DAILY_next24_sleep',\n",
    "    'DAILY_next24_occupation',\n",
    "    'DAILY_next24_nonoccupation',\n",
    "    'DAILY_next24_leisureSolo',\n",
    "    'DAILY_next24_leisureNonSolo',\n",
    "    'DAILY_next24_exercise',\n",
    "    'DAILY_next24_socialMedia',\n",
    "    'DAILY_next24_drinks',\n",
    "    'DAILY_next24_diet'\n",
    "]\n",
    "\n",
    "monthly_goals = [\n",
    "    'MONTHLY_ib_gap_change',\n",
    "    'MONTHLY_ib_gap_change_app',\n",
    "    'MONTHLY_goal_report1',\n",
    "    'MONTHLY_goal_set1_importance',\n",
    "    'MONTHLY_goal_set1_consequences',\n",
    "    'MONTHLY_goal_set1_motivationInternal',\n",
    "    'MONTHLY_goal_set1_motivationExternal',\n",
    "    'MONTHLY_goal_set1_confidence',\n",
    "    'MONTHLY_goal_set1_effort',\n",
    "    'MONTHLY_goal_report2',\n",
    "    'MONTHLY_goal_set2_importance',\n",
    "    'MONTHLY_goal_set2_consequences',\n",
    "    'MONTHLY_goal_set2_motivationInternal',\n",
    "    'MONTHLY_goal_set2_motivationExternal',\n",
    "    'MONTHLY_goal_set2_confidence',\n",
    "    'MONTHLY_goal_set2_effort',\n",
    "    'MONTHLY_goal_set2_interaction_eachOther'\n",
    "]\n",
    "\n",
    "monthly_ideals = [\n",
    "    'IDEAL_weekday_sleep',\n",
    "    'IDEAL_weekday_occupation',\n",
    "    'IDEAL_weekday_nonoccupation',\n",
    "    'IDEAL_weekday_leisureSolo',\n",
    "    'IDEAL_weekday_leisureNonSolo',\n",
    "    'IDEAL_weekday_exercise',\n",
    "    'IDEAL_weekday_socialMedia',\n",
    "    'IDEAL_weekday_drinks',\n",
    "    'IDEAL_weekend_sleep',\n",
    "    'IDEAL_weekend_occupation',\n",
    "    'IDEAL_weekend_nonoccupation',\n",
    "    'IDEAL_weekend_leisureSolo',\n",
    "    'IDEAL_weekend_leisureNonSolo',\n",
    "    'IDEAL_weekend_exercise',\n",
    "    'IDEAL_weekend_socialMedia',\n",
    "    'IDEAL_weekend_drinks'\n",
    "]\n",
    "\n",
    "if run_num == 1:\n",
    "    specific_goals = [\n",
    "        'DAILY_goal1_report',\n",
    "        'DAILY_goal1_importance',\n",
    "        'DAILY_goal1_consequences',\n",
    "        'DAILY_goal1_motivationInternal',\n",
    "        'DAILY_goal1_motivationExternal',\n",
    "        'DAILY_goal1_confidence',\n",
    "        'DAILY_goal1_effort',\n",
    "        'DAILY_goal1_interaction_week',\n",
    "        'DAILY_goal1_interaction_month',\n",
    "        'DAILY_goal2_report',\n",
    "        'DAILY_goal2_importance',\n",
    "        'DAILY_goal2_consequences',\n",
    "        'DAILY_goal2_motivationInternal',\n",
    "        'DAILY_goal2_motivationExternal',\n",
    "        'DAILY_goal2_confidence',\n",
    "        'DAILY_goal2_effort',\n",
    "        'DAILY_goal2_interaction_week',\n",
    "        'DAILY_goal2_interaction_month',\n",
    "        'DAILY_goal2_interaction_eachOther'\n",
    "    ]\n",
    "    \n",
    "    weekly_goals = [\n",
    "        'WEEKLY_goal_report1',\n",
    "        'WEEKLY_goal_set1_importance',\n",
    "        'WEEKLY_goal_set1_consequences',\n",
    "        'WEEKLY_goal_set1_motivationInternal',\n",
    "        'WEEKLY_goal_set1_motivationExternal',\n",
    "        'WEEKLY_goal_set1_confidence',\n",
    "        'WEEKLY_goal_set1_effort',\n",
    "        'WEEKLY_goal_set1_interaction_month',\n",
    "        'WEEKLY_goal_report2',\n",
    "        'WEEKLY_goal_set2_importance',\n",
    "        'WEEKLY_goal_set2_consequences',\n",
    "        'WEEKLY_goal_set2_motivationInternal',\n",
    "        'WEEKLY_goal_set2_motivationExternal',\n",
    "        'WEEKLY_goal_set2_confidence',\n",
    "        'WEEKLY_goal_set2_effort',\n",
    "        'WEEKLY_goal_set2_interaction_month',\n",
    "        'WEEKLY_goal_set2_interaction_eachOther'\n",
    "    ]\n",
    "\n",
    "elif run_num == 2:\n",
    "    specific_goals = [\n",
    "        'DAILY_goal1_report',\n",
    "        'DAILY_goal1_importance',\n",
    "        'DAILY_goal1_consequences',\n",
    "        'DAILY_goal1_motivationInternal',\n",
    "        'DAILY_goal1_motivationExternal',\n",
    "        'DAILY_goal1_confidence',\n",
    "        'DAILY_goal1_effort',\n",
    "        'DAILY_goal1_interaction_week1',\n",
    "        'DAILY_goal1_interaction_week2',\n",
    "        'DAILY_goal1_interaction_month1',\n",
    "        'DAILY_goal1_interaction_month2',\n",
    "        'DAILY_goal2_report',\n",
    "        'DAILY_goal2_importance',\n",
    "        'DAILY_goal2_consequences',\n",
    "        'DAILY_goal2_motivationInternal',\n",
    "        'DAILY_goal2_motivationExternal',\n",
    "        'DAILY_goal2_confidence',\n",
    "        'DAILY_goal2_effort',\n",
    "        'DAILY_goal2_interaction_week1',\n",
    "        'DAILY_goal2_interaction_week2',\n",
    "        'DAILY_goal2_interaction_month1',\n",
    "        'DAILY_goal2_interaction_month2',\n",
    "        'DAILY_goal2_interaction_eachOther'\n",
    "    ]\n",
    "    \n",
    "    weekly_goals = [\n",
    "        'WEEKLY_goal_report1',\n",
    "        'WEEKLY_goal_set1_importance',\n",
    "        'WEEKLY_goal_set1_consequences',\n",
    "        'WEEKLY_goal_set1_motivationInternal',\n",
    "        'WEEKLY_goal_set1_motivationExternal',\n",
    "        'WEEKLY_goal_set1_confidence',\n",
    "        'WEEKLY_goal_set1_effort',\n",
    "        'WEEKLY_goal_set1_interaction_month1',\n",
    "        'WEEKLY_goal_set1_interaction_month2',\n",
    "        'WEEKLY_goal_report2',\n",
    "        'WEEKLY_goal_set2_importance',\n",
    "        'WEEKLY_goal_set2_consequences',\n",
    "        'WEEKLY_goal_set2_motivationInternal',\n",
    "        'WEEKLY_goal_set2_motivationExternal',\n",
    "        'WEEKLY_goal_set2_confidence',\n",
    "        'WEEKLY_goal_set2_effort',\n",
    "        'WEEKLY_goal_set2_interaction_month1',\n",
    "        'WEEKLY_goal_set2_interaction_month2',\n",
    "        'WEEKLY_goal_set2_interaction_eachOther'\n",
    "    ]\n",
    "\n",
    "non_numeric_cols = [\n",
    "    'IDEAL_values_monthly1',\n",
    "    'IDEAL_values_monthly2',\n",
    "    'IDEAL_values_monthly3',\n",
    "    'DAILY_goal1_set',\n",
    "    'DAILY_goal2_set',\n",
    "    'WEEKLY_goal_set1',\n",
    "    'WEEKLY_goal_set2',\n",
    "    'MONTHLY_goal_set1',\n",
    "    'MONTHLY_goal_set2',\n",
    "    'DAILY_next24_diet',\n",
    "    'DAILY_past48to24_gapCause',\n",
    "    'DAILY_survey_situation1_surveys',\n",
    "    'DAILY_survey_situation2_surveys',\n",
    "    'DAILY_survey_missed',\n",
    "    'DAILY_past24_gapCause',\n",
    "    'ParticipantIdentifier',\n",
    "    'trial_date'\n",
    "]"
   ]
  },
  {
   "cell_type": "code",
   "execution_count": 34,
   "metadata": {},
   "outputs": [],
   "source": [
    "df_daily_sr = df.loc[df.ResultIdentifier.isin(past24_general + \n",
    "                                              past24_categories + \n",
    "                                              next24_categories + \n",
    "                                              specific_goals +\n",
    "                                              non_numeric_cols)].reset_index(drop=True)"
   ]
  },
  {
   "cell_type": "markdown",
   "metadata": {},
   "source": [
    "#### Convert to Wide"
   ]
  },
  {
   "cell_type": "code",
   "execution_count": 35,
   "metadata": {},
   "outputs": [],
   "source": [
    "# Convert values in 'Answers' column to numeric where possible, else leave as string\n",
    "# df_daily_sr['Answers'] = pd.to_numeric(df_daily_sr['Answers'], errors='coerce').fillna(df_daily_sr['Answers'])\n",
    "\n",
    "# Pivot the data\n",
    "df_daily_sr_wide = df_daily_sr.pivot_table(index=[\"ParticipantIdentifier\", \"trial_date\"],\n",
    "                                           columns='ResultIdentifier',\n",
    "                                           values='Answers',\n",
    "                                           aggfunc=lambda x: ' '.join(map(str, x))).reset_index()\n",
    "# get rid of name on index\n",
    "df_daily_sr_wide = df_daily_sr_wide.rename_axis(None, axis=1)"
   ]
  },
  {
   "cell_type": "code",
   "execution_count": 36,
   "metadata": {},
   "outputs": [],
   "source": [
    "# convert data to numeric where appropriate\n",
    "df_daily_sr_wide.loc[:,df_daily_sr_wide.columns[~df_daily_sr_wide.columns.isin(non_numeric_cols + ['ParticipantIdentifier', 'trial_date'])]] = df_daily_sr_wide.loc[:,df_daily_sr_wide.columns[~df_daily_sr_wide.columns.isin(non_numeric_cols)]].apply(pd.to_numeric, errors='coerce')"
   ]
  },
  {
   "cell_type": "code",
   "execution_count": 37,
   "metadata": {},
   "outputs": [],
   "source": [
    "# Break gap cause into two columns\n",
    "if run_num == 1:\n",
    "    df_daily_sr_wide[['DAILY_past24_gapCause_internal', 'DAILY_past24_gapCause_external', 'drop_col']] = df_daily_sr_wide.DAILY_past24_gapCause.str.split(\"_\", expand = True)\n",
    "    df_daily_sr_wide.drop(columns='drop_col', inplace=True)\n",
    "\n",
    "elif run_num == 2:\n",
    "    df_daily_sr_wide[['DAILY_past24_gapCause_internal', 'DAILY_past24_gapCause_external', 'drop_col', 'drop_col']] = df_daily_sr_wide.DAILY_past24_gapCause.str.split(\"_\", expand = True)\n",
    "    df_daily_sr_wide.drop(columns='drop_col', inplace=True)\n",
    "\n",
    "# convert to numeric 0-1\n",
    "cols = ['DAILY_past24_gapCause_internal', 'DAILY_past24_gapCause_external']\n",
    "df_daily_sr_wide[cols] = df_daily_sr_wide[cols].apply(pd.to_numeric, errors = 'coerce')\n",
    "df_daily_sr_wide[cols] = df_daily_sr_wide[cols]/100"
   ]
  },
  {
   "cell_type": "code",
   "execution_count": 38,
   "metadata": {},
   "outputs": [],
   "source": [
    "# REPEAT FOR MISSED DAY DATA\n",
    "# Break gap cause into two columns\n",
    "df_daily_sr_wide[['DAILY_past48to24_gapCause_internal', 'DAILY_past48to24_gapCause_external']] = df_daily_sr_wide.DAILY_past48to24_gapCause.str.split(\"_\", expand = True)\n",
    "\n",
    "# convert to numeric 0-1\n",
    "cols = ['DAILY_past48to24_gapCause_internal', 'DAILY_past48to24_gapCause_external']\n",
    "df_daily_sr_wide[cols] = df_daily_sr_wide[cols].apply(pd.to_numeric, errors = 'coerce')\n",
    "df_daily_sr_wide[cols] = df_daily_sr_wide[cols]/100"
   ]
  },
  {
   "cell_type": "markdown",
   "metadata": {},
   "source": [
    "#### Category Gap Calculation\n",
    "\n",
    "⚡ Make sure that we are not calculating gaps where there was no PREDICTION MADE\n",
    "\n",
    "<div class=\"alert alert-block alert-info\">\n",
    "<b>📝 Note:</b><br>\n",
    "    I am assuming that peoples' goals are directional in a way that MAY NOT BE ACCURATE for everyone.<br><br>\n",
    "    For example, I am assuming that people want to sleep more and drink less - in other words they have a <b>gap</b> if they have <b>more</b> drinks than planned, but for <b>sleep</b> the gap calculation is reversed since we assume a gap means that you had <b>fewer</b> hours of sleep than planned.<br><br>\n",
    "    While this may be accurate <i>in general</i> I would reasonably expect there to be exceptions.\n",
    "</div>"
   ]
  },
  {
   "cell_type": "code",
   "execution_count": 39,
   "metadata": {},
   "outputs": [],
   "source": [
    "# calculate diet gap (since it is originally a success measure)\n",
    "df_daily_sr_wide['DAILY_gap_diet'] = 100 - df_daily_sr_wide.DAILY_past24_diet"
   ]
  },
  {
   "cell_type": "code",
   "execution_count": 40,
   "metadata": {},
   "outputs": [],
   "source": [
    "# take the predicted amount from the day before and subtract the actual amount...\n",
    "for i in range(df_daily_sr_wide.shape[0]-1):\n",
    "    df_daily_sr_wide.loc[i+1, 'DAILY_gap_sleep'] =  df_daily_sr_wide.loc[i, 'DAILY_next24_sleep'] - df_daily_sr_wide.loc[i+1, 'DAILY_past24_sleep']\n",
    "    df_daily_sr_wide.loc[i+1, 'DAILY_gap_occupation'] =  df_daily_sr_wide.loc[i, 'DAILY_next24_occupation'] - df_daily_sr_wide.loc[i+1, 'DAILY_past24_occupation']    \n",
    "    df_daily_sr_wide.loc[i+1, 'DAILY_gap_nonoccupation'] =  df_daily_sr_wide.loc[i, 'DAILY_next24_nonoccupation'] - df_daily_sr_wide.loc[i+1, 'DAILY_past24_nonoccupation']    \n",
    "    df_daily_sr_wide.loc[i+1, 'DAILY_gap_leisureSolo'] =  df_daily_sr_wide.loc[i+1, 'DAILY_past24_leisureSolo'] - df_daily_sr_wide.loc[i, 'DAILY_next24_leisureSolo'] # reversed\n",
    "    df_daily_sr_wide.loc[i+1, 'DAILY_gap_leisureNonSolo'] =  df_daily_sr_wide.loc[i+1, 'DAILY_past24_leisureNonSolo']  - df_daily_sr_wide.loc[i, 'DAILY_next24_leisureNonSolo'] # reversed\n",
    "    df_daily_sr_wide.loc[i+1, 'DAILY_gap_exercise'] =  df_daily_sr_wide.loc[i, 'DAILY_next24_exercise'] - df_daily_sr_wide.loc[i+1, 'DAILY_past24_exercise']    \n",
    "    df_daily_sr_wide.loc[i+1, 'DAILY_gap_socialMedia'] =  df_daily_sr_wide.loc[i+1, 'DAILY_past24_socialMedia'] - df_daily_sr_wide.loc[i, 'DAILY_next24_socialMedia'] # reversed \n",
    "    df_daily_sr_wide.loc[i+1, 'DAILY_gap_drinks'] =  df_daily_sr_wide.loc[i+1, 'DAILY_past24_drinks'] - df_daily_sr_wide.loc[i, 'DAILY_next24_drinks'] # reversed\n",
    "    "
   ]
  },
  {
   "cell_type": "markdown",
   "metadata": {},
   "source": [
    "#### EDA Profiling"
   ]
  },
  {
   "cell_type": "code",
   "execution_count": null,
   "metadata": {},
   "outputs": [
    {
     "data": {
      "application/vnd.jupyter.widget-view+json": {
       "model_id": "f9e50643c1cd4f1391f650da284c7eb0",
       "version_major": 2,
       "version_minor": 0
      },
      "text/plain": [
       "Summarize dataset:   0%|          | 0/5 [00:00<?, ?it/s]"
      ]
     },
     "metadata": {},
     "output_type": "display_data"
    },
    {
     "data": {
      "application/vnd.jupyter.widget-view+json": {
       "model_id": "683fee0b649f463a83ab8e08bdf6b963",
       "version_major": 2,
       "version_minor": 0
      },
      "text/plain": [
       "Generate report structure:   0%|          | 0/1 [00:00<?, ?it/s]"
      ]
     },
     "metadata": {},
     "output_type": "display_data"
    },
    {
     "data": {
      "application/vnd.jupyter.widget-view+json": {
       "model_id": "35779932e24a4a8db4df9629e613f067",
       "version_major": 2,
       "version_minor": 0
      },
      "text/plain": [
       "Render HTML:   0%|          | 0/1 [00:00<?, ?it/s]"
      ]
     },
     "metadata": {},
     "output_type": "display_data"
    },
    {
     "data": {
      "application/vnd.jupyter.widget-view+json": {
       "model_id": "66b92fc7d1fa41c498c4b956261655c5",
       "version_major": 2,
       "version_minor": 0
      },
      "text/plain": [
       "Export report to file:   0%|          | 0/1 [00:00<?, ?it/s]"
      ]
     },
     "metadata": {},
     "output_type": "display_data"
    }
   ],
   "source": [
    "profile = ProfileReport(df_daily_sr_wide.iloc[:,2:], title=f\"Daily Reports Run {run_num} | Pandas Profiling Report\")\n",
    "profile.to_file(eda_reports_path + f\"daily_reports_run{run_num}.html\")"
   ]
  },
  {
   "cell_type": "markdown",
   "metadata": {},
   "source": [
    "#### Clean"
   ]
  },
  {
   "cell_type": "markdown",
   "metadata": {},
   "source": [
    "##### Variance"
   ]
  },
  {
   "cell_type": "markdown",
   "metadata": {},
   "source": [
    "We can see that there are a number of participants who have no variance in a given category.\n",
    "\n",
    "This is obviously a problem for some analyses..."
   ]
  },
  {
   "cell_type": "code",
   "execution_count": 41,
   "metadata": {},
   "outputs": [],
   "source": [
    "# check for variance in numeric cols only, leaving ParticipantIdentifier for grouping\n",
    "non_numeric_cols_alt = [item for item in non_numeric_cols if item != 'ParticipantIdentifier']"
   ]
  },
  {
   "cell_type": "code",
   "execution_count": 42,
   "metadata": {},
   "outputs": [
    {
     "data": {
      "text/html": [
       "<div>\n",
       "<style scoped>\n",
       "    .dataframe tbody tr th:only-of-type {\n",
       "        vertical-align: middle;\n",
       "    }\n",
       "\n",
       "    .dataframe tbody tr th {\n",
       "        vertical-align: top;\n",
       "    }\n",
       "\n",
       "    .dataframe thead th {\n",
       "        text-align: right;\n",
       "    }\n",
       "</style>\n",
       "<table border=\"1\" class=\"dataframe\">\n",
       "  <thead>\n",
       "    <tr style=\"text-align: right;\">\n",
       "      <th></th>\n",
       "      <th>ParticipantIdentifier</th>\n",
       "      <th>dailySR_zeroVar_cols</th>\n",
       "      <th>Count</th>\n",
       "    </tr>\n",
       "  </thead>\n",
       "  <tbody>\n",
       "    <tr>\n",
       "      <th>0</th>\n",
       "      <td>27329533-d0a4-4605-9da5-0eb857154cae</td>\n",
       "      <td>13</td>\n",
       "      <td>4</td>\n",
       "    </tr>\n",
       "    <tr>\n",
       "      <th>1</th>\n",
       "      <td>7272fab8-c4e7-45bb-ba42-e9f6a06801c0</td>\n",
       "      <td>10</td>\n",
       "      <td>3</td>\n",
       "    </tr>\n",
       "    <tr>\n",
       "      <th>2</th>\n",
       "      <td>2db37fd7-2694-4b46-80f9-9f4b58d57bfa</td>\n",
       "      <td>10</td>\n",
       "      <td>3</td>\n",
       "    </tr>\n",
       "    <tr>\n",
       "      <th>3</th>\n",
       "      <td>329e2c06-a903-44ce-a409-8ed8c580b124</td>\n",
       "      <td>9</td>\n",
       "      <td>25</td>\n",
       "    </tr>\n",
       "    <tr>\n",
       "      <th>4</th>\n",
       "      <td>43adea65-466c-4891-8bd9-301c4d6560c8</td>\n",
       "      <td>6</td>\n",
       "      <td>50</td>\n",
       "    </tr>\n",
       "    <tr>\n",
       "      <th>...</th>\n",
       "      <td>...</td>\n",
       "      <td>...</td>\n",
       "      <td>...</td>\n",
       "    </tr>\n",
       "    <tr>\n",
       "      <th>75</th>\n",
       "      <td>8a5a92f3-472a-4a39-bfd8-f43f60fdcd27</td>\n",
       "      <td>1</td>\n",
       "      <td>27</td>\n",
       "    </tr>\n",
       "    <tr>\n",
       "      <th>76</th>\n",
       "      <td>a8b5a9ea-b762-4f46-a431-6c530215c498</td>\n",
       "      <td>1</td>\n",
       "      <td>80</td>\n",
       "    </tr>\n",
       "    <tr>\n",
       "      <th>77</th>\n",
       "      <td>38bcd1b2-f8bc-48ee-bff2-5bca24012983</td>\n",
       "      <td>1</td>\n",
       "      <td>33</td>\n",
       "    </tr>\n",
       "    <tr>\n",
       "      <th>78</th>\n",
       "      <td>92863208-10a4-443b-a225-18630552f5cc</td>\n",
       "      <td>1</td>\n",
       "      <td>10</td>\n",
       "    </tr>\n",
       "    <tr>\n",
       "      <th>79</th>\n",
       "      <td>0501ba67-3406-4779-aff1-878a0e9f7885</td>\n",
       "      <td>1</td>\n",
       "      <td>78</td>\n",
       "    </tr>\n",
       "  </tbody>\n",
       "</table>\n",
       "<p>80 rows × 3 columns</p>\n",
       "</div>"
      ],
      "text/plain": [
       "                   ParticipantIdentifier  dailySR_zeroVar_cols  Count\n",
       "0   27329533-d0a4-4605-9da5-0eb857154cae                    13      4\n",
       "1   7272fab8-c4e7-45bb-ba42-e9f6a06801c0                    10      3\n",
       "2   2db37fd7-2694-4b46-80f9-9f4b58d57bfa                    10      3\n",
       "3   329e2c06-a903-44ce-a409-8ed8c580b124                     9     25\n",
       "4   43adea65-466c-4891-8bd9-301c4d6560c8                     6     50\n",
       "..                                   ...                   ...    ...\n",
       "75  8a5a92f3-472a-4a39-bfd8-f43f60fdcd27                     1     27\n",
       "76  a8b5a9ea-b762-4f46-a431-6c530215c498                     1     80\n",
       "77  38bcd1b2-f8bc-48ee-bff2-5bca24012983                     1     33\n",
       "78  92863208-10a4-443b-a225-18630552f5cc                     1     10\n",
       "79  0501ba67-3406-4779-aff1-878a0e9f7885                     1     78\n",
       "\n",
       "[80 rows x 3 columns]"
      ]
     },
     "execution_count": 42,
     "metadata": {},
     "output_type": "execute_result"
    }
   ],
   "source": [
    "# Drop 'trial_date' column\n",
    "data = df_daily_sr_wide.drop(columns=non_numeric_cols_alt, errors='ignore')\n",
    "\n",
    "# Group by 'ParticipantIdentifier' and compute the variance\n",
    "grouped_variance = data.groupby('ParticipantIdentifier').var()\n",
    "\n",
    "# Filter the grouped_variance dataframe to only include columns with 0 variance for any participant\n",
    "zero_variance_df = grouped_variance[grouped_variance == 0].dropna(how='all')\n",
    "\n",
    "# Melt the dataframe to have ParticipantIdentifier, Column with 0 variance\n",
    "melted_zero_variance_df = zero_variance_df.reset_index().melt(id_vars=['ParticipantIdentifier'], value_name='Variance')\n",
    "final_zero_variance_df = melted_zero_variance_df.dropna(subset=['Variance']).drop(columns='Variance')\n",
    "final_zero_variance_df = pd.DataFrame(final_zero_variance_df.groupby('ParticipantIdentifier').count()).reset_index().sort_values(by='variable', ascending=False)\n",
    "final_zero_variance_df = final_zero_variance_df.rename(columns={'variable': 'ZeroVariance'})\n",
    "\n",
    "# Count the number of values present in the variable column for each participant\n",
    "value_counts = data.groupby('ParticipantIdentifier').count()\n",
    "\n",
    "# Merge the value counts with the final_zero_variance_df\n",
    "merged_df = final_zero_variance_df.merge(value_counts, on='ParticipantIdentifier', how='left')\n",
    "\n",
    "# Extract only the relevant columns\n",
    "result_df = merged_df[['ParticipantIdentifier', 'ZeroVariance', 'DAILY_goal1_confidence']]\n",
    "result_df.columns = ['ParticipantIdentifier', 'dailySR_zeroVar_cols', 'Count']\n",
    "\n",
    "result_df"
   ]
  },
  {
   "cell_type": "code",
   "execution_count": 43,
   "metadata": {},
   "outputs": [
    {
     "data": {
      "text/html": [
       "<div>\n",
       "<style scoped>\n",
       "    .dataframe tbody tr th:only-of-type {\n",
       "        vertical-align: middle;\n",
       "    }\n",
       "\n",
       "    .dataframe tbody tr th {\n",
       "        vertical-align: top;\n",
       "    }\n",
       "\n",
       "    .dataframe thead th {\n",
       "        text-align: right;\n",
       "    }\n",
       "</style>\n",
       "<table border=\"1\" class=\"dataframe\">\n",
       "  <thead>\n",
       "    <tr style=\"text-align: right;\">\n",
       "      <th></th>\n",
       "      <th>Variable</th>\n",
       "      <th>0</th>\n",
       "    </tr>\n",
       "  </thead>\n",
       "  <tbody>\n",
       "    <tr>\n",
       "      <th>0</th>\n",
       "      <td>DAILY_past24_drinks</td>\n",
       "      <td>49</td>\n",
       "    </tr>\n",
       "    <tr>\n",
       "      <th>1</th>\n",
       "      <td>DAILY_next24_drinks</td>\n",
       "      <td>23</td>\n",
       "    </tr>\n",
       "    <tr>\n",
       "      <th>2</th>\n",
       "      <td>DAILY_gap_drinks</td>\n",
       "      <td>21</td>\n",
       "    </tr>\n",
       "    <tr>\n",
       "      <th>3</th>\n",
       "      <td>DAILY_next24_sleep</td>\n",
       "      <td>12</td>\n",
       "    </tr>\n",
       "    <tr>\n",
       "      <th>4</th>\n",
       "      <td>DAILY_past48to24_gapCause_external</td>\n",
       "      <td>10</td>\n",
       "    </tr>\n",
       "    <tr>\n",
       "      <th>...</th>\n",
       "      <td>...</td>\n",
       "      <td>...</td>\n",
       "    </tr>\n",
       "    <tr>\n",
       "      <th>62</th>\n",
       "      <td>DAILY_past24_nonoccupation</td>\n",
       "      <td>0</td>\n",
       "    </tr>\n",
       "    <tr>\n",
       "      <th>63</th>\n",
       "      <td>DAILY_past24_physicalEffort</td>\n",
       "      <td>0</td>\n",
       "    </tr>\n",
       "    <tr>\n",
       "      <th>64</th>\n",
       "      <td>DAILY_past24_procrastination</td>\n",
       "      <td>0</td>\n",
       "    </tr>\n",
       "    <tr>\n",
       "      <th>65</th>\n",
       "      <td>DAILY_past24_productivity</td>\n",
       "      <td>0</td>\n",
       "    </tr>\n",
       "    <tr>\n",
       "      <th>66</th>\n",
       "      <td>DAILY_past24_ideal</td>\n",
       "      <td>0</td>\n",
       "    </tr>\n",
       "  </tbody>\n",
       "</table>\n",
       "<p>67 rows × 2 columns</p>\n",
       "</div>"
      ],
      "text/plain": [
       "                              Variable   0\n",
       "0                  DAILY_past24_drinks  49\n",
       "1                  DAILY_next24_drinks  23\n",
       "2                     DAILY_gap_drinks  21\n",
       "3                   DAILY_next24_sleep  12\n",
       "4   DAILY_past48to24_gapCause_external  10\n",
       "..                                 ...  ..\n",
       "62          DAILY_past24_nonoccupation   0\n",
       "63         DAILY_past24_physicalEffort   0\n",
       "64        DAILY_past24_procrastination   0\n",
       "65           DAILY_past24_productivity   0\n",
       "66                  DAILY_past24_ideal   0\n",
       "\n",
       "[67 rows x 2 columns]"
      ]
     },
     "execution_count": 43,
     "metadata": {},
     "output_type": "execute_result"
    }
   ],
   "source": [
    "# we can see that drinks have the most people with zero variance...\n",
    "pd.DataFrame(grouped_variance[grouped_variance == 0].dropna(how='all').eq(0).sum()).reset_index(names='Variable').sort_values(by=0, ascending=False).reset_index(drop=True)"
   ]
  },
  {
   "cell_type": "code",
   "execution_count": 44,
   "metadata": {},
   "outputs": [
    {
     "name": "stderr",
     "output_type": "stream",
     "text": [
      "/var/folders/lw/ys_1b9sj08s904m4402qr0bm0000gn/T/ipykernel_9812/967441405.py:4: SettingWithCopyWarning: \n",
      "A value is trying to be set on a copy of a slice from a DataFrame.\n",
      "Try using .loc[row_indexer,col_indexer] = value instead\n",
      "\n",
      "See the caveats in the documentation: https://pandas.pydata.org/pandas-docs/stable/user_guide/indexing.html#returning-a-view-versus-a-copy\n",
      "  result_df['dailySR_zeroVarCols_flag'] = False\n"
     ]
    },
    {
     "data": {
      "text/html": [
       "<div>\n",
       "<style scoped>\n",
       "    .dataframe tbody tr th:only-of-type {\n",
       "        vertical-align: middle;\n",
       "    }\n",
       "\n",
       "    .dataframe tbody tr th {\n",
       "        vertical-align: top;\n",
       "    }\n",
       "\n",
       "    .dataframe thead th {\n",
       "        text-align: right;\n",
       "    }\n",
       "</style>\n",
       "<table border=\"1\" class=\"dataframe\">\n",
       "  <thead>\n",
       "    <tr style=\"text-align: right;\">\n",
       "      <th></th>\n",
       "      <th>ParticipantIdentifier</th>\n",
       "      <th>dailySR_zeroVar_cols</th>\n",
       "      <th>Count</th>\n",
       "      <th>dailySR_zeroVarCols_flag</th>\n",
       "    </tr>\n",
       "  </thead>\n",
       "  <tbody>\n",
       "    <tr>\n",
       "      <th>0</th>\n",
       "      <td>27329533-d0a4-4605-9da5-0eb857154cae</td>\n",
       "      <td>13</td>\n",
       "      <td>4</td>\n",
       "      <td>True</td>\n",
       "    </tr>\n",
       "    <tr>\n",
       "      <th>2</th>\n",
       "      <td>2db37fd7-2694-4b46-80f9-9f4b58d57bfa</td>\n",
       "      <td>10</td>\n",
       "      <td>3</td>\n",
       "      <td>True</td>\n",
       "    </tr>\n",
       "    <tr>\n",
       "      <th>1</th>\n",
       "      <td>7272fab8-c4e7-45bb-ba42-e9f6a06801c0</td>\n",
       "      <td>10</td>\n",
       "      <td>3</td>\n",
       "      <td>True</td>\n",
       "    </tr>\n",
       "    <tr>\n",
       "      <th>3</th>\n",
       "      <td>329e2c06-a903-44ce-a409-8ed8c580b124</td>\n",
       "      <td>9</td>\n",
       "      <td>25</td>\n",
       "      <td>True</td>\n",
       "    </tr>\n",
       "    <tr>\n",
       "      <th>4</th>\n",
       "      <td>43adea65-466c-4891-8bd9-301c4d6560c8</td>\n",
       "      <td>6</td>\n",
       "      <td>50</td>\n",
       "      <td>True</td>\n",
       "    </tr>\n",
       "    <tr>\n",
       "      <th>...</th>\n",
       "      <td>...</td>\n",
       "      <td>...</td>\n",
       "      <td>...</td>\n",
       "      <td>...</td>\n",
       "    </tr>\n",
       "    <tr>\n",
       "      <th>60</th>\n",
       "      <td>146e1ab8-c4ca-4a52-9261-e108b38eea53</td>\n",
       "      <td>1</td>\n",
       "      <td>77</td>\n",
       "      <td>False</td>\n",
       "    </tr>\n",
       "    <tr>\n",
       "      <th>59</th>\n",
       "      <td>6c1b2b3c-3c06-4238-830d-65b76904e8b5</td>\n",
       "      <td>1</td>\n",
       "      <td>69</td>\n",
       "      <td>False</td>\n",
       "    </tr>\n",
       "    <tr>\n",
       "      <th>58</th>\n",
       "      <td>ed16354a-961a-4e5e-83de-ce9a17b25a2f</td>\n",
       "      <td>1</td>\n",
       "      <td>37</td>\n",
       "      <td>False</td>\n",
       "    </tr>\n",
       "    <tr>\n",
       "      <th>57</th>\n",
       "      <td>d77924dd-6dcf-4288-bb01-186fa08cfd0b</td>\n",
       "      <td>1</td>\n",
       "      <td>59</td>\n",
       "      <td>False</td>\n",
       "    </tr>\n",
       "    <tr>\n",
       "      <th>79</th>\n",
       "      <td>0501ba67-3406-4779-aff1-878a0e9f7885</td>\n",
       "      <td>1</td>\n",
       "      <td>78</td>\n",
       "      <td>False</td>\n",
       "    </tr>\n",
       "  </tbody>\n",
       "</table>\n",
       "<p>80 rows × 4 columns</p>\n",
       "</div>"
      ],
      "text/plain": [
       "                   ParticipantIdentifier  dailySR_zeroVar_cols  Count  \\\n",
       "0   27329533-d0a4-4605-9da5-0eb857154cae                    13      4   \n",
       "2   2db37fd7-2694-4b46-80f9-9f4b58d57bfa                    10      3   \n",
       "1   7272fab8-c4e7-45bb-ba42-e9f6a06801c0                    10      3   \n",
       "3   329e2c06-a903-44ce-a409-8ed8c580b124                     9     25   \n",
       "4   43adea65-466c-4891-8bd9-301c4d6560c8                     6     50   \n",
       "..                                   ...                   ...    ...   \n",
       "60  146e1ab8-c4ca-4a52-9261-e108b38eea53                     1     77   \n",
       "59  6c1b2b3c-3c06-4238-830d-65b76904e8b5                     1     69   \n",
       "58  ed16354a-961a-4e5e-83de-ce9a17b25a2f                     1     37   \n",
       "57  d77924dd-6dcf-4288-bb01-186fa08cfd0b                     1     59   \n",
       "79  0501ba67-3406-4779-aff1-878a0e9f7885                     1     78   \n",
       "\n",
       "    dailySR_zeroVarCols_flag  \n",
       "0                       True  \n",
       "2                       True  \n",
       "1                       True  \n",
       "3                       True  \n",
       "4                       True  \n",
       "..                       ...  \n",
       "60                     False  \n",
       "59                     False  \n",
       "58                     False  \n",
       "57                     False  \n",
       "79                     False  \n",
       "\n",
       "[80 rows x 4 columns]"
      ]
     },
     "execution_count": 44,
     "metadata": {},
     "output_type": "execute_result"
    }
   ],
   "source": [
    "# add flag for subjects with more than 5 zero variance columns\n",
    "flag_threshold = 5\n",
    "\n",
    "result_df['dailySR_zeroVarCols_flag'] = False\n",
    "result_df.loc[result_df.dailySR_zeroVar_cols > flag_threshold, 'dailySR_zeroVarCols_flag'] = True\n",
    "result_df.sort_values(by='dailySR_zeroVar_cols', ascending=False)"
   ]
  },
  {
   "cell_type": "code",
   "execution_count": 45,
   "metadata": {},
   "outputs": [
    {
     "data": {
      "text/html": [
       "<div>\n",
       "<style scoped>\n",
       "    .dataframe tbody tr th:only-of-type {\n",
       "        vertical-align: middle;\n",
       "    }\n",
       "\n",
       "    .dataframe tbody tr th {\n",
       "        vertical-align: top;\n",
       "    }\n",
       "\n",
       "    .dataframe thead th {\n",
       "        text-align: right;\n",
       "    }\n",
       "</style>\n",
       "<table border=\"1\" class=\"dataframe\">\n",
       "  <thead>\n",
       "    <tr style=\"text-align: right;\">\n",
       "      <th></th>\n",
       "      <th>ParticipantIdentifier</th>\n",
       "      <th>trial_date</th>\n",
       "      <th>DAILY_goal1_confidence</th>\n",
       "      <th>DAILY_goal1_consequences</th>\n",
       "      <th>DAILY_goal1_effort</th>\n",
       "      <th>DAILY_goal1_importance</th>\n",
       "      <th>DAILY_goal1_interaction_month</th>\n",
       "      <th>DAILY_goal1_interaction_week</th>\n",
       "      <th>DAILY_goal1_motivationExternal</th>\n",
       "      <th>DAILY_goal1_motivationInternal</th>\n",
       "      <th>...</th>\n",
       "      <th>DAILY_past48to24_gapCause_external</th>\n",
       "      <th>DAILY_gap_diet</th>\n",
       "      <th>DAILY_gap_sleep</th>\n",
       "      <th>DAILY_gap_occupation</th>\n",
       "      <th>DAILY_gap_nonoccupation</th>\n",
       "      <th>DAILY_gap_leisureSolo</th>\n",
       "      <th>DAILY_gap_leisureNonSolo</th>\n",
       "      <th>DAILY_gap_exercise</th>\n",
       "      <th>DAILY_gap_socialMedia</th>\n",
       "      <th>DAILY_gap_drinks</th>\n",
       "    </tr>\n",
       "  </thead>\n",
       "  <tbody>\n",
       "    <tr>\n",
       "      <th>667</th>\n",
       "      <td>27329533-d0a4-4605-9da5-0eb857154cae</td>\n",
       "      <td>2022-10-03</td>\n",
       "      <td>4.0</td>\n",
       "      <td>7.0</td>\n",
       "      <td>7.0</td>\n",
       "      <td>7.0</td>\n",
       "      <td>5.0</td>\n",
       "      <td>5.0</td>\n",
       "      <td>5.0</td>\n",
       "      <td>5.0</td>\n",
       "      <td>...</td>\n",
       "      <td>0.8</td>\n",
       "      <td>NaN</td>\n",
       "      <td>NaN</td>\n",
       "      <td>NaN</td>\n",
       "      <td>NaN</td>\n",
       "      <td>NaN</td>\n",
       "      <td>NaN</td>\n",
       "      <td>NaN</td>\n",
       "      <td>NaN</td>\n",
       "      <td>NaN</td>\n",
       "    </tr>\n",
       "    <tr>\n",
       "      <th>668</th>\n",
       "      <td>27329533-d0a4-4605-9da5-0eb857154cae</td>\n",
       "      <td>2022-10-04</td>\n",
       "      <td>4.0</td>\n",
       "      <td>7.0</td>\n",
       "      <td>7.0</td>\n",
       "      <td>7.0</td>\n",
       "      <td>4.0</td>\n",
       "      <td>5.0</td>\n",
       "      <td>3.0</td>\n",
       "      <td>4.0</td>\n",
       "      <td>...</td>\n",
       "      <td>NaN</td>\n",
       "      <td>NaN</td>\n",
       "      <td>1.0</td>\n",
       "      <td>0.0</td>\n",
       "      <td>2.0</td>\n",
       "      <td>NaN</td>\n",
       "      <td>0.0</td>\n",
       "      <td>1.0</td>\n",
       "      <td>NaN</td>\n",
       "      <td>NaN</td>\n",
       "    </tr>\n",
       "    <tr>\n",
       "      <th>669</th>\n",
       "      <td>27329533-d0a4-4605-9da5-0eb857154cae</td>\n",
       "      <td>2022-10-05</td>\n",
       "      <td>3.0</td>\n",
       "      <td>7.0</td>\n",
       "      <td>7.0</td>\n",
       "      <td>7.0</td>\n",
       "      <td>5.0</td>\n",
       "      <td>5.0</td>\n",
       "      <td>7.0</td>\n",
       "      <td>4.0</td>\n",
       "      <td>...</td>\n",
       "      <td>NaN</td>\n",
       "      <td>NaN</td>\n",
       "      <td>1.0</td>\n",
       "      <td>2.0</td>\n",
       "      <td>NaN</td>\n",
       "      <td>1.0</td>\n",
       "      <td>1.0</td>\n",
       "      <td>1.0</td>\n",
       "      <td>-28.0</td>\n",
       "      <td>NaN</td>\n",
       "    </tr>\n",
       "    <tr>\n",
       "      <th>670</th>\n",
       "      <td>27329533-d0a4-4605-9da5-0eb857154cae</td>\n",
       "      <td>2022-10-06</td>\n",
       "      <td>3.0</td>\n",
       "      <td>7.0</td>\n",
       "      <td>7.0</td>\n",
       "      <td>7.0</td>\n",
       "      <td>5.0</td>\n",
       "      <td>5.0</td>\n",
       "      <td>7.0</td>\n",
       "      <td>3.0</td>\n",
       "      <td>...</td>\n",
       "      <td>NaN</td>\n",
       "      <td>NaN</td>\n",
       "      <td>0.0</td>\n",
       "      <td>7.0</td>\n",
       "      <td>NaN</td>\n",
       "      <td>NaN</td>\n",
       "      <td>-2.0</td>\n",
       "      <td>30.0</td>\n",
       "      <td>NaN</td>\n",
       "      <td>NaN</td>\n",
       "    </tr>\n",
       "  </tbody>\n",
       "</table>\n",
       "<p>4 rows × 83 columns</p>\n",
       "</div>"
      ],
      "text/plain": [
       "                    ParticipantIdentifier  trial_date DAILY_goal1_confidence  \\\n",
       "667  27329533-d0a4-4605-9da5-0eb857154cae  2022-10-03                    4.0   \n",
       "668  27329533-d0a4-4605-9da5-0eb857154cae  2022-10-04                    4.0   \n",
       "669  27329533-d0a4-4605-9da5-0eb857154cae  2022-10-05                    3.0   \n",
       "670  27329533-d0a4-4605-9da5-0eb857154cae  2022-10-06                    3.0   \n",
       "\n",
       "    DAILY_goal1_consequences DAILY_goal1_effort DAILY_goal1_importance  \\\n",
       "667                      7.0                7.0                    7.0   \n",
       "668                      7.0                7.0                    7.0   \n",
       "669                      7.0                7.0                    7.0   \n",
       "670                      7.0                7.0                    7.0   \n",
       "\n",
       "    DAILY_goal1_interaction_month DAILY_goal1_interaction_week  \\\n",
       "667                           5.0                          5.0   \n",
       "668                           4.0                          5.0   \n",
       "669                           5.0                          5.0   \n",
       "670                           5.0                          5.0   \n",
       "\n",
       "    DAILY_goal1_motivationExternal DAILY_goal1_motivationInternal  ...  \\\n",
       "667                            5.0                            5.0  ...   \n",
       "668                            3.0                            4.0  ...   \n",
       "669                            7.0                            4.0  ...   \n",
       "670                            7.0                            3.0  ...   \n",
       "\n",
       "    DAILY_past48to24_gapCause_external DAILY_gap_diet DAILY_gap_sleep  \\\n",
       "667                                0.8            NaN             NaN   \n",
       "668                                NaN            NaN             1.0   \n",
       "669                                NaN            NaN             1.0   \n",
       "670                                NaN            NaN             0.0   \n",
       "\n",
       "    DAILY_gap_occupation DAILY_gap_nonoccupation DAILY_gap_leisureSolo  \\\n",
       "667                  NaN                     NaN                   NaN   \n",
       "668                  0.0                     2.0                   NaN   \n",
       "669                  2.0                     NaN                   1.0   \n",
       "670                  7.0                     NaN                   NaN   \n",
       "\n",
       "    DAILY_gap_leisureNonSolo DAILY_gap_exercise DAILY_gap_socialMedia  \\\n",
       "667                      NaN                NaN                   NaN   \n",
       "668                      0.0                1.0                   NaN   \n",
       "669                      1.0                1.0                 -28.0   \n",
       "670                     -2.0               30.0                   NaN   \n",
       "\n",
       "    DAILY_gap_drinks  \n",
       "667              NaN  \n",
       "668              NaN  \n",
       "669              NaN  \n",
       "670              NaN  \n",
       "\n",
       "[4 rows x 83 columns]"
      ]
     },
     "execution_count": 45,
     "metadata": {},
     "output_type": "execute_result"
    }
   ],
   "source": [
    "# look at subject with most zero var columns\n",
    "df_daily_sr_wide.loc[(df_daily_sr_wide['ParticipantIdentifier'] == '27329533-d0a4-4605-9da5-0eb857154cae') & (df_daily_sr_wide['DAILY_goal1_confidence'].notna())]"
   ]
  },
  {
   "cell_type": "code",
   "execution_count": 46,
   "metadata": {},
   "outputs": [],
   "source": [
    "# merge with main sr df\n",
    "df_daily_sr_wide = df_daily_sr_wide.merge(result_df.drop(columns=['Count']), on='ParticipantIdentifier', how='left')"
   ]
  },
  {
   "cell_type": "code",
   "execution_count": 47,
   "metadata": {},
   "outputs": [],
   "source": [
    "# Add sr prefix\n",
    "# df_daily_sr_wide.columns[2:]\n",
    "\n",
    "df_daily_sr_wide.columns = ['ParticipantIdentifier', 'trial_date'] + ['sr_' + col for col in df_daily_sr_wide.columns[2:]]"
   ]
  },
  {
   "cell_type": "markdown",
   "metadata": {},
   "source": [
    "#### Save"
   ]
  },
  {
   "cell_type": "code",
   "execution_count": 48,
   "metadata": {},
   "outputs": [],
   "source": [
    "# Create df with one participant ID for every trial_date\n",
    "\n",
    "# Create a series of dates from '2022-09-27' to '2022-12-20'\n",
    "if run_num == 1:\n",
    "    date_series = pd.date_range(start='2022-09-27', end='2022-12-20')\n",
    "elif run_num == 2:\n",
    "    date_series = pd.date_range(start='2023-01-30', end='2023-04-24')\n",
    "\n",
    "ids_series = subjects\n",
    "\n",
    "# Create a dataframe using a cartesian product of the two series\n",
    "df_complete_idDate = pd.DataFrame({\n",
    "    'ParticipantIdentifier': np.repeat(ids_series, len(date_series)),\n",
    "    'trial_date': date_series.tolist() * len(ids_series)\n",
    "}).reset_index(drop=True)\n",
    "\n",
    "# Convert trial_date to datetime.date\n",
    "df_complete_idDate['trial_date'] = pd.to_datetime(df_complete_idDate['trial_date']).dt.date\n",
    "df_daily_sr_wide['trial_date'] = pd.to_datetime(df_daily_sr_wide['trial_date']).dt.date\n",
    "\n",
    "# Join with affect df\n",
    "df_daily_sr_wide = df_complete_idDate.merge(df_daily_sr_wide, how='left', on=['ParticipantIdentifier', 'trial_date'])"
   ]
  },
  {
   "cell_type": "code",
   "execution_count": 49,
   "metadata": {},
   "outputs": [],
   "source": [
    "# save to csv\n",
    "if run_num ==1:\n",
    "    # run 1\n",
    "    df_daily_sr_wide.to_csv(save_path + 'run1_selfReport.csv', index=False)\n",
    "if run_num ==2:\n",
    "    # run 2\n",
    "    df_daily_sr_wide.to_csv(save_path + 'run2_selfReport.csv', index=False)"
   ]
  },
  {
   "cell_type": "markdown",
   "metadata": {},
   "source": [
    "### Daily/Weekly Social Support\n",
    "\n",
    "**NOTE**: These were only collected in run 2\n",
    "\n",
    "Weekly support is a 12 item scale scored on a 5 point Likert-scale (0-4).\n",
    "It is based on the The [Interpersonal Support Evaluation List](https://www.cmu.edu/common-cold-project/measures-by-study/psychological-and-social-constructs/social-relationships-loneliness-measures/social-support.html), using the [ISEL-12 version](https://www.cmu.edu/common-cold-project/measures-by-study/psychological-and-social-constructs/social-relationships-loneliness-measures/isel_12_item.pdf).\n",
    "\n",
    "Daily social support is a custom measure developed by [Leo Huang](https://www.leohuangneuro.com/about-me), [Cendri Hutcherson](https://www.linkedin.com/in/cendri-hutcherson-3327a161/?originalSubdomain=ca), and [Daniel J Wilson](https://github.com/danieljwilson).\n",
    "\n",
    "The items fall under 3 categories 👇\n",
    "\n",
    "![Example Image](../../3_3_6_inputs/images/ss_daily_items.jpg)"
   ]
  },
  {
   "cell_type": "markdown",
   "metadata": {},
   "source": [
    "#### Load Weekly Data"
   ]
  },
  {
   "cell_type": "code",
   "execution_count": 50,
   "metadata": {},
   "outputs": [],
   "source": [
    "ss_df = df.loc[df['ResultIdentifier'].str.startswith('ss_weekly_')].reset_index(drop=True)"
   ]
  },
  {
   "cell_type": "markdown",
   "metadata": {},
   "source": [
    "#### Munge Data"
   ]
  },
  {
   "cell_type": "code",
   "execution_count": 51,
   "metadata": {},
   "outputs": [],
   "source": [
    "# Make Answers numeric\n",
    "ss_df['Answers'] = pd.to_numeric(ss_df['Answers'], errors='coerce')\n",
    "\n",
    "# Reverse score the specified items\n",
    "reverse_items = ['ss_weekly_1', 'ss_weekly_4', 'ss_weekly_5', 'ss_weekly_7', 'ss_weekly_10', 'ss_weekly_12']\n",
    "ss_df.loc[ss_df['ResultIdentifier'].isin(reverse_items) & (ss_df['Answers'] != 0), 'Answers'] = 5 - ss_df['Answers']"
   ]
  },
  {
   "cell_type": "code",
   "execution_count": 52,
   "metadata": {},
   "outputs": [],
   "source": [
    "# Calculate the total score for each participant\n",
    "total_scores = ss_df.groupby(['ParticipantIdentifier', 'trial_date'])['Answers'].sum().reset_index()\n",
    "total_scores.rename(columns={'Answers': 'ss_weekly_ISEL12_totalScore'}, inplace=True)\n",
    "\n",
    "# Calculate subscale scores\n",
    "appraisal_items = ['ss_weekly_1', 'ss_weekly_2', 'ss_weekly_3', 'ss_weekly_4']\n",
    "belonging_items = ['ss_weekly_5', 'ss_weekly_6', 'ss_weekly_7', 'ss_weekly_8']\n",
    "tangible_items = ['ss_weekly_9', 'ss_weekly_10', 'ss_weekly_11', 'ss_weekly_12']\n",
    "\n",
    "appraisal_scores = ss_df[ss_df['ResultIdentifier'].isin(appraisal_items)].groupby(['ParticipantIdentifier', 'trial_date'])['Answers'].sum().reset_index()\n",
    "appraisal_scores.rename(columns={'Answers': 'ss_weekly_ISEL12_appraisal'}, inplace=True)\n",
    "\n",
    "belonging_scores = ss_df[ss_df['ResultIdentifier'].isin(belonging_items)].groupby(['ParticipantIdentifier', 'trial_date'])['Answers'].sum().reset_index()\n",
    "belonging_scores.rename(columns={'Answers': 'ss_weekly_ISEL12_belonging'}, inplace=True)\n",
    "\n",
    "tangible_scores = ss_df[ss_df['ResultIdentifier'].isin(tangible_items)].groupby(['ParticipantIdentifier', 'trial_date'])['Answers'].sum().reset_index()\n",
    "tangible_scores.rename(columns={'Answers': 'ss_weekly_ISEL12_tangible'}, inplace=True)"
   ]
  },
  {
   "cell_type": "code",
   "execution_count": 53,
   "metadata": {},
   "outputs": [],
   "source": [
    "# Merge\n",
    "ss_df = total_scores.merge(appraisal_scores, on=['ParticipantIdentifier', 'trial_date']).merge(belonging_scores, on=['ParticipantIdentifier', 'trial_date']).merge(tangible_scores, on=['ParticipantIdentifier', 'trial_date'])"
   ]
  },
  {
   "cell_type": "markdown",
   "metadata": {},
   "source": [
    "#### EDA"
   ]
  },
  {
   "cell_type": "code",
   "execution_count": null,
   "metadata": {},
   "outputs": [
    {
     "data": {
      "application/vnd.jupyter.widget-view+json": {
       "model_id": "7aa3cf46a578484a8f4552cbc7d5c37f",
       "version_major": 2,
       "version_minor": 0
      },
      "text/plain": [
       "Summarize dataset:   0%|          | 0/5 [00:00<?, ?it/s]"
      ]
     },
     "metadata": {},
     "output_type": "display_data"
    },
    {
     "data": {
      "application/vnd.jupyter.widget-view+json": {
       "model_id": "70a12c21d78f4342bd1a836457e29138",
       "version_major": 2,
       "version_minor": 0
      },
      "text/plain": [
       "Generate report structure:   0%|          | 0/1 [00:00<?, ?it/s]"
      ]
     },
     "metadata": {},
     "output_type": "display_data"
    },
    {
     "data": {
      "application/vnd.jupyter.widget-view+json": {
       "model_id": "40e16d649cb34254b819d449b3148934",
       "version_major": 2,
       "version_minor": 0
      },
      "text/plain": [
       "Render HTML:   0%|          | 0/1 [00:00<?, ?it/s]"
      ]
     },
     "metadata": {},
     "output_type": "display_data"
    },
    {
     "data": {
      "application/vnd.jupyter.widget-view+json": {
       "model_id": "2ee34a6a35154104b959c463a8b02b07",
       "version_major": 2,
       "version_minor": 0
      },
      "text/plain": [
       "Export report to file:   0%|          | 0/1 [00:00<?, ?it/s]"
      ]
     },
     "metadata": {},
     "output_type": "display_data"
    }
   ],
   "source": [
    "profile = ProfileReport(ss_df.iloc[:,2:], title=f\"ISEL 12 Social Support Weekly Run {run_num} | Pandas Profiling Report\")\n",
    "profile.to_file(eda_reports_path + f\"ss_weekly_run{run_num}.html\")"
   ]
  },
  {
   "cell_type": "markdown",
   "metadata": {},
   "source": [
    "#### Save"
   ]
  },
  {
   "cell_type": "code",
   "execution_count": 54,
   "metadata": {},
   "outputs": [
    {
     "name": "stdout",
     "output_type": "stream",
     "text": [
      "No social support weekly measure for run 1...\n"
     ]
    }
   ],
   "source": [
    "# save to csv\n",
    "if run_num ==1:\n",
    "    # run 1\n",
    "    print('No social support weekly measure for run 1...')\n",
    "if run_num ==2:\n",
    "    # run 2\n",
    "    ss_df.to_csv(save_path + 'run2_ss_weekly.csv', index=False)"
   ]
  },
  {
   "cell_type": "markdown",
   "metadata": {},
   "source": [
    "#### Load Daily Data"
   ]
  },
  {
   "cell_type": "code",
   "execution_count": 55,
   "metadata": {},
   "outputs": [],
   "source": [
    "df_daily_ss = df.loc[df['ResultIdentifier'].str.startswith('ss_')].reset_index(drop=True)\n",
    "\n",
    "# Remove weekly measures\n",
    "df_daily_ss = df_daily_ss.loc[~df_daily_ss['ResultIdentifier'].str.contains('_weekly_')].reset_index(drop=True)"
   ]
  },
  {
   "cell_type": "markdown",
   "metadata": {},
   "source": [
    "#### Convert to Wide"
   ]
  },
  {
   "cell_type": "code",
   "execution_count": 56,
   "metadata": {},
   "outputs": [],
   "source": [
    "# Convert values in 'Answers' column to numeric where possible, else leave as string\n",
    "# df_daily_sr['Answers'] = pd.to_numeric(df_daily_sr['Answers'], errors='coerce').fillna(df_daily_sr['Answers'])\n",
    "\n",
    "# Pivot the data\n",
    "df_daily_ss_wide = df_daily_ss.pivot_table(index=[\"ParticipantIdentifier\", \"trial_date\"],\n",
    "                                           columns='ResultIdentifier',\n",
    "                                           values='Answers',\n",
    "                                           aggfunc=lambda x: ' '.join(map(str, x))).reset_index()\n",
    "# get rid of name on index\n",
    "df_daily_ss_wide = df_daily_ss_wide.rename_axis(None, axis=1)"
   ]
  },
  {
   "cell_type": "code",
   "execution_count": 57,
   "metadata": {},
   "outputs": [
    {
     "data": {
      "text/html": [
       "<div>\n",
       "<style scoped>\n",
       "    .dataframe tbody tr th:only-of-type {\n",
       "        vertical-align: middle;\n",
       "    }\n",
       "\n",
       "    .dataframe tbody tr th {\n",
       "        vertical-align: top;\n",
       "    }\n",
       "\n",
       "    .dataframe thead th {\n",
       "        text-align: right;\n",
       "    }\n",
       "</style>\n",
       "<table border=\"1\" class=\"dataframe\">\n",
       "  <thead>\n",
       "    <tr style=\"text-align: right;\">\n",
       "      <th></th>\n",
       "      <th>ParticipantIdentifier</th>\n",
       "      <th>trial_date</th>\n",
       "    </tr>\n",
       "  </thead>\n",
       "  <tbody>\n",
       "  </tbody>\n",
       "</table>\n",
       "</div>"
      ],
      "text/plain": [
       "Empty DataFrame\n",
       "Columns: [ParticipantIdentifier, trial_date]\n",
       "Index: []"
      ]
     },
     "execution_count": 57,
     "metadata": {},
     "output_type": "execute_result"
    }
   ],
   "source": [
    "df_daily_ss_wide.head()"
   ]
  },
  {
   "cell_type": "code",
   "execution_count": 58,
   "metadata": {},
   "outputs": [],
   "source": [
    "# convert data to numeric where appropriate\n",
    "df_daily_ss_wide.loc[:,df_daily_ss_wide.columns[~df_daily_ss_wide.columns.isin(non_numeric_cols + ['ParticipantIdentifier', 'trial_date'])]] = df_daily_ss_wide.loc[:,df_daily_ss_wide.columns[~df_daily_ss_wide.columns.isin(non_numeric_cols)]].apply(pd.to_numeric, errors='coerce')"
   ]
  },
  {
   "cell_type": "markdown",
   "metadata": {},
   "source": [
    "#### EDA"
   ]
  },
  {
   "cell_type": "code",
   "execution_count": null,
   "metadata": {},
   "outputs": [
    {
     "name": "stderr",
     "output_type": "stream",
     "text": [
      "/Users/djw/Documents/pCloud_synced/Academics/Projects/2020_thesis/thesis_experiments/3_experiments/3_3_experience_sampling/.venv/lib/python3.11/site-packages/ydata_profiling/utils/dataframe.py:137: SettingWithCopyWarning: \n",
      "A value is trying to be set on a copy of a slice from a DataFrame\n",
      "\n",
      "See the caveats in the documentation: https://pandas.pydata.org/pandas-docs/stable/user_guide/indexing.html#returning-a-view-versus-a-copy\n",
      "  df.rename(columns={\"index\": \"df_index\"}, inplace=True)\n"
     ]
    },
    {
     "data": {
      "application/vnd.jupyter.widget-view+json": {
       "model_id": "e919846866664a80a691282a49671d69",
       "version_major": 2,
       "version_minor": 0
      },
      "text/plain": [
       "Summarize dataset:   0%|          | 0/5 [00:00<?, ?it/s]"
      ]
     },
     "metadata": {},
     "output_type": "display_data"
    },
    {
     "data": {
      "application/vnd.jupyter.widget-view+json": {
       "model_id": "8954953f2f8b4e29848a07c1a8357052",
       "version_major": 2,
       "version_minor": 0
      },
      "text/plain": [
       "Generate report structure:   0%|          | 0/1 [00:00<?, ?it/s]"
      ]
     },
     "metadata": {},
     "output_type": "display_data"
    },
    {
     "data": {
      "application/vnd.jupyter.widget-view+json": {
       "model_id": "59a1e3818df14abebe4bed0dc80c297f",
       "version_major": 2,
       "version_minor": 0
      },
      "text/plain": [
       "Render HTML:   0%|          | 0/1 [00:00<?, ?it/s]"
      ]
     },
     "metadata": {},
     "output_type": "display_data"
    },
    {
     "data": {
      "application/vnd.jupyter.widget-view+json": {
       "model_id": "dea2cc35449b43f78497d29bf9dea02b",
       "version_major": 2,
       "version_minor": 0
      },
      "text/plain": [
       "Export report to file:   0%|          | 0/1 [00:00<?, ?it/s]"
      ]
     },
     "metadata": {},
     "output_type": "display_data"
    }
   ],
   "source": [
    "profile = ProfileReport(df_daily_ss_wide.iloc[:,2:], title=f\"Social Support Daily Run {run_num} | Pandas Profiling Report\")\n",
    "profile.to_file(eda_reports_path + f\"ss_daily_run{run_num}.html\")"
   ]
  },
  {
   "cell_type": "markdown",
   "metadata": {},
   "source": [
    "#### Save"
   ]
  },
  {
   "cell_type": "code",
   "execution_count": 59,
   "metadata": {},
   "outputs": [
    {
     "name": "stdout",
     "output_type": "stream",
     "text": [
      "No social support daily measure for run 1...\n"
     ]
    }
   ],
   "source": [
    "# save to csv\n",
    "if run_num ==1:\n",
    "    # run 1\n",
    "    print('No social support daily measure for run 1...')\n",
    "if run_num ==2:\n",
    "    # run 2\n",
    "    df_daily_ss_wide.to_csv(save_path + 'run2_ss_daily.csv', index=False)"
   ]
  },
  {
   "cell_type": "markdown",
   "metadata": {},
   "source": [
    "## Custom Tasks\n"
   ]
  },
  {
   "cell_type": "markdown",
   "metadata": {},
   "source": [
    "### Food Task"
   ]
  },
  {
   "cell_type": "markdown",
   "metadata": {},
   "source": [
    "##### Load Data"
   ]
  },
  {
   "cell_type": "code",
   "execution_count": 60,
   "metadata": {},
   "outputs": [
    {
     "name": "stdout",
     "output_type": "stream",
     "text": [
      "deleted existing df\n"
     ]
    }
   ],
   "source": [
    "# erase df if it already exists\n",
    "if 'df' in globals():\n",
    "    del(df)\n",
    "    print('deleted existing df')\n",
    "\n",
    "if 'food_df' in globals():\n",
    "    del(food_df)\n",
    "    print('deleted daily food_df')"
   ]
  },
  {
   "cell_type": "code",
   "execution_count": 61,
   "metadata": {},
   "outputs": [],
   "source": [
    "if run_num ==1:\n",
    "    # run 1\n",
    "    df = pd.read_csv(save_path + 'run1_app_survey_results.csv')\n",
    "if run_num ==2:\n",
    "    # run 2\n",
    "    df = pd.read_csv(save_path + 'run2_app_survey_results.csv')\n",
    "\n",
    "# Convert the date column back to datetime.date\n",
    "df['trial_date'] = pd.to_datetime(df['trial_date']).dt.date"
   ]
  },
  {
   "cell_type": "markdown",
   "metadata": {},
   "source": [
    "##### Select Data"
   ]
  },
  {
   "cell_type": "code",
   "execution_count": 62,
   "metadata": {},
   "outputs": [],
   "source": [
    "food_df = df.loc[df['ResultIdentifier'].str.startswith('rating_')].reset_index(drop=True)\n",
    "hunger =  df.loc[df['ResultIdentifier']=='Hunger_Screen'].reset_index(drop=True)\n",
    "hunger.rename(columns={\"Answers\": \"task_food_hunger_level\"}, inplace=True)"
   ]
  },
  {
   "cell_type": "markdown",
   "metadata": {},
   "source": [
    "#### Convert to Wide"
   ]
  },
  {
   "cell_type": "code",
   "execution_count": 63,
   "metadata": {},
   "outputs": [],
   "source": [
    "# Convert the dataframe from long to wide format\n",
    "food_df_wide = food_df.pivot_table(index=[\"ParticipantIdentifier\", \"trial_date\"], \n",
    "                              columns='ResultIdentifier', \n",
    "                              values='Answers', \n",
    "                              aggfunc='first').reset_index()\n",
    "\n",
    "# get rid of name on index\n",
    "food_df_wide = food_df_wide.rename_axis(None, axis=1)"
   ]
  },
  {
   "cell_type": "code",
   "execution_count": 64,
   "metadata": {},
   "outputs": [
    {
     "data": {
      "text/html": [
       "<div>\n",
       "<style scoped>\n",
       "    .dataframe tbody tr th:only-of-type {\n",
       "        vertical-align: middle;\n",
       "    }\n",
       "\n",
       "    .dataframe tbody tr th {\n",
       "        vertical-align: top;\n",
       "    }\n",
       "\n",
       "    .dataframe thead th {\n",
       "        text-align: right;\n",
       "    }\n",
       "</style>\n",
       "<table border=\"1\" class=\"dataframe\">\n",
       "  <thead>\n",
       "    <tr style=\"text-align: right;\">\n",
       "      <th></th>\n",
       "      <th>ParticipantIdentifier</th>\n",
       "      <th>trial_date</th>\n",
       "    </tr>\n",
       "  </thead>\n",
       "  <tbody>\n",
       "  </tbody>\n",
       "</table>\n",
       "</div>"
      ],
      "text/plain": [
       "Empty DataFrame\n",
       "Columns: [ParticipantIdentifier, trial_date]\n",
       "Index: []"
      ]
     },
     "execution_count": 64,
     "metadata": {},
     "output_type": "execute_result"
    }
   ],
   "source": [
    "import json\n",
    "\n",
    "# Filter out columns that start with \"rating_\"\n",
    "rating_columns = [col for col in food_df_wide.columns if col.startswith('rating_')]\n",
    "\n",
    "# Define a function to extract required information from the 'name' value\n",
    "def extract_name_info(json_data):\n",
    "    # Check if 'name' key exists in json_data and is of type string\n",
    "    name_str = json_data.get('name', \"\")\n",
    "    \n",
    "    if not isinstance(name_str, str):\n",
    "        return None, None\n",
    "\n",
    "    # Extract task_food_item\n",
    "    item_start = name_str.rfind('_') + 1\n",
    "    item_end = name_str.rfind('.jpg')\n",
    "    task_food_item = name_str[item_start:item_end] if item_start != -1 and item_end != -1 else None\n",
    "    \n",
    "    # Extract task_food_category\n",
    "    category_start = name_str.rfind('/') + 1\n",
    "    category_end = name_str.rfind('_')\n",
    "    task_food_category = name_str[category_start:category_end] if category_start != -1 and category_end != -1 else None\n",
    "    \n",
    "    return task_food_item, task_food_category\n",
    "\n",
    "# Modify the function to handle potential strings in columns\n",
    "def parse_json(entry):\n",
    "    try:\n",
    "        return json.loads(entry)\n",
    "    except (TypeError, json.JSONDecodeError):\n",
    "        return {}\n",
    "\n",
    "# Re-parse the JSON strings using the modified function\n",
    "for col in rating_columns:\n",
    "    food_df_wide[col] = food_df_wide[col].apply(parse_json)\n",
    "\n",
    "# Re-extract the required values using the modified function\n",
    "for col in rating_columns:\n",
    "    # Extract required information\n",
    "    food_df_wide[col + '_rating'] = food_df_wide[col].apply(lambda x: x.get('rating', None))\n",
    "    food_df_wide[col + '_rt'] = food_df_wide[col].apply(lambda x: x.get('reactionTime', None))\n",
    "    food_df_wide[col + '_item'], food_df_wide[col + '_category'] = zip(*food_df_wide[col].apply(extract_name_info))\n",
    "\n",
    "# Drop the original \"rating_\" columns as they are not needed anymore\n",
    "food_df_wide = food_df_wide.drop(columns=rating_columns)\n",
    "\n",
    "# Convert all 'task_food_rating' columns to dtype int\n",
    "rating_cols_to_convert = [col for col in food_df_wide.columns if '_rating' in col]\n",
    "\n",
    "for col in rating_cols_to_convert:\n",
    "    food_df_wide[col] = food_df_wide[col].astype(np.int64)  # Using 'Int64' to handle potential NaN values\n",
    "\n",
    "# Rename columns that start with 'rating' to start with 'task_food'\n",
    "food_df_wide.columns = ['task_food' + col[len('rating'):] if col.startswith('rating') else col for col in food_df_wide.columns]\n",
    "\n",
    "food_df_wide.head()"
   ]
  },
  {
   "cell_type": "code",
   "execution_count": 65,
   "metadata": {},
   "outputs": [
    {
     "data": {
      "text/html": [
       "<div>\n",
       "<style scoped>\n",
       "    .dataframe tbody tr th:only-of-type {\n",
       "        vertical-align: middle;\n",
       "    }\n",
       "\n",
       "    .dataframe tbody tr th {\n",
       "        vertical-align: top;\n",
       "    }\n",
       "\n",
       "    .dataframe thead th {\n",
       "        text-align: right;\n",
       "    }\n",
       "</style>\n",
       "<table border=\"1\" class=\"dataframe\">\n",
       "  <thead>\n",
       "    <tr style=\"text-align: right;\">\n",
       "      <th></th>\n",
       "      <th>ParticipantIdentifier</th>\n",
       "      <th>trial_date</th>\n",
       "      <th>task_food_hunger_level</th>\n",
       "    </tr>\n",
       "  </thead>\n",
       "  <tbody>\n",
       "  </tbody>\n",
       "</table>\n",
       "</div>"
      ],
      "text/plain": [
       "Empty DataFrame\n",
       "Columns: [ParticipantIdentifier, trial_date, task_food_hunger_level]\n",
       "Index: []"
      ]
     },
     "execution_count": 65,
     "metadata": {},
     "output_type": "execute_result"
    }
   ],
   "source": [
    "# add hunger value\n",
    "food_df_wide = food_df_wide.merge(hunger[['ParticipantIdentifier', 'trial_date', 'task_food_hunger_level']],\n",
    "                                  on=['ParticipantIdentifier', 'trial_date'],\n",
    "                                  how='left')\n",
    "\n",
    "# Convert hunger to int\n",
    "food_df_wide['task_food_hunger_level'] = food_df_wide['task_food_hunger_level'].astype(np.float32)\n",
    "\n",
    "food_df_wide.head()"
   ]
  },
  {
   "cell_type": "markdown",
   "metadata": {},
   "source": [
    "#### EDA"
   ]
  },
  {
   "cell_type": "code",
   "execution_count": null,
   "metadata": {},
   "outputs": [
    {
     "data": {
      "application/vnd.jupyter.widget-view+json": {
       "model_id": "9b3ceb39c83740ff9103b8fcc0bcc27e",
       "version_major": 2,
       "version_minor": 0
      },
      "text/plain": [
       "Summarize dataset:   0%|          | 0/5 [00:00<?, ?it/s]"
      ]
     },
     "metadata": {},
     "output_type": "display_data"
    },
    {
     "data": {
      "application/vnd.jupyter.widget-view+json": {
       "model_id": "a67cf7a2b31b47c3abdf4a6e49b51c10",
       "version_major": 2,
       "version_minor": 0
      },
      "text/plain": [
       "Generate report structure:   0%|          | 0/1 [00:00<?, ?it/s]"
      ]
     },
     "metadata": {},
     "output_type": "display_data"
    },
    {
     "data": {
      "application/vnd.jupyter.widget-view+json": {
       "model_id": "06fc51944bec4836a2347b7dbe8871ab",
       "version_major": 2,
       "version_minor": 0
      },
      "text/plain": [
       "Render HTML:   0%|          | 0/1 [00:00<?, ?it/s]"
      ]
     },
     "metadata": {},
     "output_type": "display_data"
    },
    {
     "data": {
      "application/vnd.jupyter.widget-view+json": {
       "model_id": "a14682f20a594a57971b0b05fe5efce8",
       "version_major": 2,
       "version_minor": 0
      },
      "text/plain": [
       "Export report to file:   0%|          | 0/1 [00:00<?, ?it/s]"
      ]
     },
     "metadata": {},
     "output_type": "display_data"
    }
   ],
   "source": [
    "profile = ProfileReport(food_df_wide.iloc[:,2:], title=f\"Food Task Run {run_num} | Pandas Profiling Report\")\n",
    "profile.to_file(eda_reports_path + f\"task_food_run{run_num}.html\")"
   ]
  },
  {
   "cell_type": "markdown",
   "metadata": {},
   "source": [
    "#### Clean\n",
    "\n",
    "We had numerous outlier RT values.\n",
    "\n",
    "We used the $z$ transform method to flag outliers (in the column `task_food_rt_flag`) based on Berger and Kiefer ([2021](https://doi.org/10.3389/fpsyg.2021.675558)) where they tested multiple methods of removing outliers from rt data.\n",
    "\n",
    "We also set the flag threshold to 3."
   ]
  },
  {
   "cell_type": "code",
   "execution_count": 66,
   "metadata": {},
   "outputs": [],
   "source": [
    "# clean outlier rt values\n",
    "\n",
    "from scipy.stats import zscore\n",
    "\n",
    "# Step 1: Filter out rt cols\n",
    "rt_columns = [col for col in food_df_wide.columns if col.endswith('_rt')]\n",
    "\n",
    "# Step 2: Compute the z-scores for these columns\n",
    "for col in rt_columns:\n",
    "    z_col_name = col + '_z'\n",
    "    food_df_wide[z_col_name] = zscore(food_df_wide[col], nan_policy='omit')\n",
    "\n",
    "# Step 3: Check each row for values above a threshold in the '_z' columns\n",
    "threshold = 3  # Define a threshold value\n",
    "z_columns = [col + '_z' for col in rt_columns]\n",
    "food_df_wide['task_food_rt_flag'] = food_df_wide[z_columns].apply(lambda row: any(abs(val) > threshold for val in row), axis=1)\n",
    "\n",
    "z_columns_to_drop = [col for col in food_df_wide.columns if col.endswith('_z')]\n",
    "wide_df = food_df_wide.drop(columns=z_columns_to_drop)\n"
   ]
  },
  {
   "cell_type": "markdown",
   "metadata": {},
   "source": [
    "#### Save"
   ]
  },
  {
   "cell_type": "code",
   "execution_count": 67,
   "metadata": {},
   "outputs": [],
   "source": [
    "# Create df with one participant ID for every trial_date\n",
    "\n",
    "# Create a series of dates from '2022-09-27' to '2022-12-20'\n",
    "if run_num == 1:\n",
    "    date_series = pd.date_range(start='2022-09-27', end='2022-12-20')\n",
    "elif run_num == 2:\n",
    "    date_series = pd.date_range(start='2023-01-30', end='2023-04-24')\n",
    "\n",
    "ids_series = subjects\n",
    "\n",
    "# Create a dataframe using a cartesian product of the two series\n",
    "df_complete_idDate = pd.DataFrame({\n",
    "    'ParticipantIdentifier': np.repeat(ids_series, len(date_series)),\n",
    "    'trial_date': date_series.tolist() * len(ids_series)\n",
    "}).reset_index(drop=True)\n",
    "\n",
    "# Convert trial_date to datetime.date\n",
    "df_complete_idDate['trial_date'] = pd.to_datetime(df_complete_idDate['trial_date']).dt.date\n",
    "food_df_wide['trial_date'] = pd.to_datetime(food_df_wide['trial_date']).dt.date\n",
    "\n",
    "# Join with affect df\n",
    "food_df_wide = df_complete_idDate.merge(food_df_wide, how='left', on=['ParticipantIdentifier', 'trial_date'])"
   ]
  },
  {
   "cell_type": "code",
   "execution_count": 68,
   "metadata": {},
   "outputs": [
    {
     "data": {
      "text/plain": [
       "(7820, 4)"
      ]
     },
     "execution_count": 68,
     "metadata": {},
     "output_type": "execute_result"
    }
   ],
   "source": [
    "# Removing duplicate rows from the food_df dataframe based on 'ParticipantIdentifier' and 'trial_date'\n",
    "food_df_wide = food_df_wide.drop_duplicates(subset=['ParticipantIdentifier', 'trial_date'])\n",
    "food_df_wide.shape"
   ]
  },
  {
   "cell_type": "code",
   "execution_count": 69,
   "metadata": {},
   "outputs": [
    {
     "name": "stdout",
     "output_type": "stream",
     "text": [
      "Task was not part of run 1...\n"
     ]
    }
   ],
   "source": [
    "# save to csv\n",
    "if run_num == 1:\n",
    "    # run 1\n",
    "    print('Task was not part of run 1...')\n",
    "if run_num == 2:\n",
    "    # run 2\n",
    "    food_df_wide.to_csv(save_path + 'run2_task_food.csv', index=False)"
   ]
  },
  {
   "cell_type": "markdown",
   "metadata": {},
   "source": [
    "### N-Back"
   ]
  },
  {
   "cell_type": "markdown",
   "metadata": {},
   "source": [
    "The n-back sequence was created as follows (where `n` indicates whether it is 2-back or 3-back)\n",
    "\n",
    "```javascript\n",
    "function constructSequence(n) {\n",
    "    const ls = [0, 1, 2, 3, 4, 5, 6, 7, 8, 9, 10];\n",
    "    let number = 0;\n",
    "    let char = \"\";\n",
    "    const alphabet = ['A', 'B', 'C', 'D', 'E', 'F', 'G', 'H', 'I', 'J', 'K', 'L', 'M', 'N', 'O', 'P', 'Q', 'R', 'S', 'T', 'U', 'V', 'W', 'X', 'Y', 'Z'];\n",
    "    const sequence = []\n",
    "    for (let i = 0; i < SEQ_LEN; i++) {\n",
    "        number = ls[Math.floor(Math.random() * ls.length)];\n",
    "        if (i >= n && number <= 2) {\n",
    "            char = sequence[i - n];\n",
    "            //console.log(\"in if ===>\", char, sequence, i, n)\n",
    "        } else {\n",
    "            char = alphabet[Math.floor(Math.random() * alphabet.length)];\n",
    "            //console.log(\"in else ==>\", char)\n",
    "        }\n",
    "        sequence.push(char)\n",
    "\n",
    "    }\n",
    "    return sequence;\n",
    "}\n",
    "```\n",
    "\n",
    "Given that `ls` has a length of 11 this means that on average there is a 3/11 chance of having a match (for positions 3 and onward)\n"
   ]
  },
  {
   "cell_type": "code",
   "execution_count": 70,
   "metadata": {},
   "outputs": [],
   "source": [
    "import json"
   ]
  },
  {
   "cell_type": "markdown",
   "metadata": {},
   "source": [
    "#### Load Data"
   ]
  },
  {
   "cell_type": "code",
   "execution_count": 71,
   "metadata": {},
   "outputs": [],
   "source": [
    "if run_num ==1:\n",
    "    # run 1\n",
    "    df = pd.read_csv(save_path + 'run1_app_survey_results.csv')\n",
    "if run_num ==2:\n",
    "    # run 2\n",
    "    df = pd.read_csv(save_path + 'run2_app_survey_results.csv')\n",
    "    \n",
    "# Convert the date column back to datetime.date\n",
    "df['trial_date'] = pd.to_datetime(df['trial_date']).dt.date"
   ]
  },
  {
   "cell_type": "markdown",
   "metadata": {},
   "source": [
    "#### Format Data"
   ]
  },
  {
   "cell_type": "code",
   "execution_count": 72,
   "metadata": {},
   "outputs": [],
   "source": [
    "nback_df = df.loc[df.ResultIdentifier == 'task_custom_nBack_results'].reset_index(drop=True)"
   ]
  },
  {
   "cell_type": "code",
   "execution_count": 73,
   "metadata": {},
   "outputs": [],
   "source": [
    "# we only need this as bids were being overwritten when the bid was NOT accepted with a 0 bid...\n",
    "# this was fixed on Feb 7, but using the actual bid value will also continue to work...\n",
    "\n",
    "nback_df_bids = df.loc[df.ResultIdentifier == 'task_custom_nBack_diffSelect'].reset_index(drop=True)"
   ]
  },
  {
   "cell_type": "code",
   "execution_count": 74,
   "metadata": {},
   "outputs": [
    {
     "data": {
      "text/plain": [
       "'{\"bid\":56,\"randomNumber\":98,\"correctness\":0.8181818181818182,\"earnings\":98,\"mode\":\"hard\",\"matched\":6,\"missed\":1,\"sequence\":[\"X\",\"Z\",\"H\",\"I\",\"S\",\"S\",\"O\",\"I\",\"S\",\"H\",\"I\",\"O\",\"I\",\"W\",\"O\",\"I\",\"I\",\"R\",\"G\",\"O\",\"V\",\"U\",\"O\",\"V\",\"U\"],\"falseAlarm\":3,\"indexOfMatchClicked\":[9,11,12,13,15,16,20,23,25]}'"
      ]
     },
     "execution_count": 74,
     "metadata": {},
     "output_type": "execute_result"
    }
   ],
   "source": [
    "nback_df.Answers[5]"
   ]
  },
  {
   "cell_type": "code",
   "execution_count": 75,
   "metadata": {},
   "outputs": [],
   "source": [
    "# Parse json to create columns\n",
    "for i in range(nback_df.shape[0]):\n",
    "    nback_df.loc[i, 'task_nback_bid'] = json.loads(nback_df_bids.Answers[i])['bid']\n",
    "    nback_df.loc[i, 'task_nback_rndNum'] = json.loads(nback_df.Answers[i])['randomNumber']    \n",
    "    nback_df.loc[i, 'task_nback_mode'] = json.loads(nback_df.Answers[i])['mode']\n",
    "    nback_df.loc[i, 'task_nback_matched'] = json.loads(nback_df.Answers[i])['matched']    \n",
    "    nback_df.loc[i, 'task_nback_missed'] = json.loads(nback_df.Answers[i])['missed']    \n",
    "    nback_df.loc[i, 'task_nback_falseAlarm'] = json.loads(nback_df.Answers[i])['falseAlarm']\n",
    "    nback_df.loc[i, 'task_nback_trialCount'] = len(json.loads(nback_df.Answers[i])['sequence'])"
   ]
  },
  {
   "cell_type": "code",
   "execution_count": 76,
   "metadata": {},
   "outputs": [],
   "source": [
    "nback_df = nback_df.drop(['ResultIdentifier', 'Answers', 'EndDate', 'datetime'], axis=1)\n",
    "nback_df = nback_df.rename(columns={\"time\": \"task_nback_time\"})"
   ]
  },
  {
   "cell_type": "markdown",
   "metadata": {},
   "source": [
    "#### Add Features"
   ]
  },
  {
   "cell_type": "markdown",
   "metadata": {},
   "source": [
    "Adding the following metrics for Binary Classification:\n",
    "\n",
    "1. **Accuracy**: \n",
    "   The proportion of correctly predicted classifications in the total predictions made.\n",
    "   $$\n",
    "   \\text{Accuracy} = \\frac{\\text{TP} + \\text{TN}}{\\text{TP} + \\text{TN} + \\text{FP} + \\text{FN}}\n",
    "   $$\n",
    "\n",
    "2. **Precision** (or Positive Predictive Value):\n",
    "   The proportion of positive identifications that were actually correct.\n",
    "   $$\n",
    "   \\text{Precision} = \\frac{\\text{TP}}{\\text{TP} + \\text{FP}}\n",
    "   $$\n",
    "\n",
    "3. **Recall** (or Sensitivity or True Positive Rate):\n",
    "   The proportion of actual positives that were identified correctly.\n",
    "   $$\n",
    "   \\text{Recall} = \\frac{\\text{TP}}{\\text{TP} + \\text{FN}}\n",
    "   $$\n",
    "\n",
    "4. **Specificity** (or True Negative Rate):\n",
    "   The proportion of actual negatives that were identified correctly.\n",
    "   $$\n",
    "   \\text{Specificity} = \\frac{\\text{TN}}{\\text{TN} + \\text{FP}}\n",
    "   $$\n",
    "\n",
    "5. **False Alarm Rate** (or Fall-Out):\n",
    "   The proportion of actual negatives that were incorrectly classified as positive.\n",
    "   $$\n",
    "   \\text{False Alarm Rate} = \\frac{\\text{FP}}{\\text{TN} + \\text{FP}}\n",
    "   $$\n",
    "\n",
    "6. **F1 Score**:\n",
    "   The harmonic mean of precision and recall, giving a balance between the two.\n",
    "   $$\n",
    "   \\text{F1 Score} = 2 \\times \\frac{\\text{Precision} \\times \\text{Recall}}{\\text{Precision} + \\text{Recall}}\n",
    "   $$\n",
    "\n",
    "7. **Matthews Correlation Coefficient (MCC)**:\n",
    "   A metric that takes into account true and false positives and negatives and is generally regarded as a balanced measure which can be used even if the classes are of very different sizes.\n",
    "   $$\n",
    "   \\text{MCC} = \\frac{\\text{TP} \\times \\text{TN} - \\text{FP} \\times \\text{FN}}{\\sqrt{(\\text{TP} + \\text{FP})(\\text{TP} + \\text{FN})(\\text{TN} + \\text{FP})(\\text{TN} + \\text{FN})}}\n",
    "   $$\n",
    "\n",
    "8. **Bias (C or criterion)**:\n",
    "   A metric from signal detection theory that indicates the participant's response bias. A positive value indicates a bias toward saying \"no\" (\n"
   ]
  },
  {
   "cell_type": "code",
   "execution_count": 77,
   "metadata": {},
   "outputs": [
    {
     "name": "stderr",
     "output_type": "stream",
     "text": [
      "/Users/djw/Documents/pCloud_synced/Academics/Projects/2020_thesis/thesis_experiments/3_experiments/3_3_experience_sampling/.venv/lib/python3.11/site-packages/pandas/core/arraylike.py:396: RuntimeWarning: invalid value encountered in sqrt\n",
      "  result = getattr(ufunc, method)(*inputs, **kwargs)\n"
     ]
    }
   ],
   "source": [
    "truePos = nback_df.task_nback_matched\n",
    "trueNeg = nback_df.task_nback_trialCount - nback_df.task_nback_matched - nback_df.task_nback_missed - nback_df.task_nback_falseAlarm\n",
    "falsePos = nback_df.task_nback_falseAlarm\n",
    "falseNeg = nback_df.task_nback_missed\n",
    "\n",
    "# proportion of correct classifications in total predictions made\n",
    "nback_df['task_nback_accuracy'] = (truePos + trueNeg) / (truePos + trueNeg + falsePos + falseNeg)\n",
    "# positive predictive value (hit rate)\n",
    "nback_df['task_nback_precision'] = truePos / (truePos + falsePos)\n",
    "# true positive rate (sensitivity)\n",
    "nback_df['task_nback_recall'] = truePos / (truePos + falseNeg)\n",
    "# true negative rate (false_alarm_rate)\n",
    "nback_df['task_nback_specificity'] = trueNeg / (trueNeg + falsePos)\n",
    "# Proportion of times the participant incorrectly indicates an n-back match when there wasn't one.\n",
    "nback_df['task_nback_falseAlarmRate'] = falsePos / (trueNeg + falsePos)\n",
    "# Harmonic mean of precision and recall, giving a balance between the two\n",
    "nback_df['task_nback_F1'] = 2 * ((nback_df['task_nback_precision'] * nback_df['task_nback_recall'])/(nback_df['task_nback_precision'] + nback_df['task_nback_recall']))\n",
    "# Matthews Correlation Coefficient (MCC):\n",
    "# It takes into account true and false positives and negatives and is generally regarded as a balanced measure which can be used even if the classes are of very different sizes.\n",
    "nback_df['task_nback_MCC'] = ((truePos * trueNeg) - (falsePos * falseNeg)) / (np.sqrt((truePos + falsePos)*(truePos + falseNeg) * (trueNeg + falsePos) * (trueNeg + falseNeg)))"
   ]
  },
  {
   "cell_type": "code",
   "execution_count": 78,
   "metadata": {},
   "outputs": [
    {
     "name": "stderr",
     "output_type": "stream",
     "text": [
      "/var/folders/lw/ys_1b9sj08s904m4402qr0bm0000gn/T/ipykernel_9812/2420366107.py:14: RuntimeWarning: invalid value encountered in add\n",
      "  C = -0.5 * (z_hit + z_fa)\n"
     ]
    }
   ],
   "source": [
    "# metric from signal detection theory\n",
    "# indicates the participant's response bias. \n",
    "# A positive value indicates a bias toward saying \"no\" (conservative)\n",
    "# A negative value indicates a bias toward saying \"yes\" (liberal).\n",
    "\n",
    "from scipy.stats import norm\n",
    "\n",
    "def calculate_criterion(hit_rate, false_alarm_rate):\n",
    "    # Calculate the Z scores for the hit rate and false alarm rate\n",
    "    z_hit = norm.ppf(hit_rate)\n",
    "    z_fa = norm.ppf(false_alarm_rate)\n",
    "    \n",
    "    # Calculate the criterion C\n",
    "    C = -0.5 * (z_hit + z_fa)\n",
    "    \n",
    "    return C\n",
    "\n",
    "nback_df['task_nback_bias'] = calculate_criterion(nback_df['task_nback_precision'], nback_df['task_nback_falseAlarmRate'])"
   ]
  },
  {
   "cell_type": "code",
   "execution_count": 79,
   "metadata": {},
   "outputs": [],
   "source": [
    "# People that chose the easy mode (2-back instead of 3 back) were assigned a bid of ZERO\n",
    "# However, this suggests that they would have done the easy task for nothing, which is NOT the case\n",
    "# as they would not have done it for the max possible (100) points\n",
    "# I arbitrarily assign subjects in the easy condition a bid of 200\n",
    "\n",
    "nback_df.loc[nback_df.task_nback_bid == 0, 'task_nback_bid'] = 200"
   ]
  },
  {
   "cell_type": "markdown",
   "metadata": {},
   "source": [
    "#### EDA Profiling"
   ]
  },
  {
   "cell_type": "code",
   "execution_count": null,
   "metadata": {},
   "outputs": [
    {
     "data": {
      "application/vnd.jupyter.widget-view+json": {
       "model_id": "11e1b3743771412a90b94d38be6e5d3f",
       "version_major": 2,
       "version_minor": 0
      },
      "text/plain": [
       "Summarize dataset:   0%|          | 0/5 [00:00<?, ?it/s]"
      ]
     },
     "metadata": {},
     "output_type": "display_data"
    },
    {
     "name": "stderr",
     "output_type": "stream",
     "text": [
      "/Users/djw/Documents/pCloud_synced/Academics/Projects/2020_thesis/thesis_experiments/3_experiments/3_3_experience_sampling/.venv/lib/python3.11/site-packages/numpy/core/_methods.py:173: RuntimeWarning: invalid value encountered in subtract\n",
      "  x = asanyarray(arr - arrmean)\n",
      "/Users/djw/Documents/pCloud_synced/Academics/Projects/2020_thesis/thesis_experiments/3_experiments/3_3_experience_sampling/.venv/lib/python3.11/site-packages/numpy/core/_methods.py:49: RuntimeWarning: invalid value encountered in reduce\n",
      "  return umr_sum(a, axis, dtype, out, keepdims, initial, where)\n",
      "/Users/djw/Documents/pCloud_synced/Academics/Projects/2020_thesis/thesis_experiments/3_experiments/3_3_experience_sampling/.venv/lib/python3.11/site-packages/numpy/core/_methods.py:152: RuntimeWarning: invalid value encountered in reduce\n",
      "  arrmean = umr_sum(arr, axis, dtype, keepdims=True, where=where)\n",
      "/Users/djw/Documents/pCloud_synced/Academics/Projects/2020_thesis/thesis_experiments/3_experiments/3_3_experience_sampling/.venv/lib/python3.11/site-packages/ydata_profiling/model/correlations.py:66: UserWarning: There was an attempt to calculate the auto correlation, but this failed.\n",
      "To hide this warning, disable the calculation\n",
      "(using `df.profile_report(correlations={\"auto\": {\"calculate\": False}})`\n",
      "If this is problematic for your use case, please report this as an issue:\n",
      "https://github.com/ydataai/ydata-profiling/issues\n",
      "(include the error message: 'cannot specify integer `bins` when input data contains infinity')\n",
      "  warnings.warn(\n"
     ]
    },
    {
     "data": {
      "application/vnd.jupyter.widget-view+json": {
       "model_id": "e8b9073a3eda41db90f19c2e5c984438",
       "version_major": 2,
       "version_minor": 0
      },
      "text/plain": [
       "Generate report structure:   0%|          | 0/1 [00:00<?, ?it/s]"
      ]
     },
     "metadata": {},
     "output_type": "display_data"
    },
    {
     "data": {
      "application/vnd.jupyter.widget-view+json": {
       "model_id": "b76b6f83c893486088234e89c8747895",
       "version_major": 2,
       "version_minor": 0
      },
      "text/plain": [
       "Render HTML:   0%|          | 0/1 [00:00<?, ?it/s]"
      ]
     },
     "metadata": {},
     "output_type": "display_data"
    },
    {
     "data": {
      "application/vnd.jupyter.widget-view+json": {
       "model_id": "68d5de128894409098e239513b6a753c",
       "version_major": 2,
       "version_minor": 0
      },
      "text/plain": [
       "Export report to file:   0%|          | 0/1 [00:00<?, ?it/s]"
      ]
     },
     "metadata": {},
     "output_type": "display_data"
    }
   ],
   "source": [
    "profile = ProfileReport(nback_df.iloc[:,3:], title= f\"n-Back Task Run {run_num} | Pandas Profiling Report\")\n",
    "profile.to_file(eda_reports_path + f\"nback_report_run{run_num}.html\")"
   ]
  },
  {
   "cell_type": "markdown",
   "metadata": {},
   "source": [
    "**NOTES**\n",
    "\n",
    "Looking at the data it is clear that something wonky went on in some trials where people have matched values up to 67, and missed values of -56. \n",
    "\n",
    "Can calculate a super low probability number of matches and delete trials with any values above that - as well as any trials with negative \"missed\" values.\n",
    "\n",
    "False alarm also has a max of 136"
   ]
  },
  {
   "cell_type": "code",
   "execution_count": 80,
   "metadata": {},
   "outputs": [
    {
     "name": "stderr",
     "output_type": "stream",
     "text": [
      "/Users/djw/Documents/pCloud_synced/Academics/Projects/2020_thesis/thesis_experiments/3_experiments/3_3_experience_sampling/.venv/lib/python3.11/site-packages/pandas/core/arraylike.py:396: RuntimeWarning: invalid value encountered in sqrt\n",
      "  result = getattr(ufunc, method)(*inputs, **kwargs)\n"
     ]
    },
    {
     "data": {
      "text/plain": [
       "(array([  17,   90,  100,  143,  306,  363,  424,  704,  705,  720,  735,\n",
       "         932,  965, 1177, 1180, 1310, 1335, 1352, 1505, 1528, 1742, 1747,\n",
       "        1865, 1946, 1962, 1998, 2134, 2177, 2239, 2412, 2492, 2530, 2914,\n",
       "        3089, 3153, 3337, 3611, 3739, 3838, 3978, 4033]),)"
      ]
     },
     "execution_count": 80,
     "metadata": {},
     "output_type": "execute_result"
    }
   ],
   "source": [
    "np.where(np.sqrt((truePos + falsePos)*(truePos + falseNeg) * (trueNeg + falsePos) * (trueNeg + falseNeg)).isna())"
   ]
  },
  {
   "cell_type": "code",
   "execution_count": 81,
   "metadata": {},
   "outputs": [
    {
     "data": {
      "text/plain": [
       "ParticipantIdentifier        837ea159-60c6-4bde-b3ba-2c107844a9bb\n",
       "trial_date                                             2022-10-24\n",
       "task_nback_time                                          21:25:24\n",
       "task_nback_bid                                               50.0\n",
       "task_nback_rndNum                                            63.0\n",
       "task_nback_mode                                              hard\n",
       "task_nback_matched                                            4.0\n",
       "task_nback_missed                                             0.0\n",
       "task_nback_falseAlarm                                         4.0\n",
       "task_nback_trialCount                                        25.0\n",
       "task_nback_accuracy                                          0.84\n",
       "task_nback_precision                                          0.5\n",
       "task_nback_recall                                             1.0\n",
       "task_nback_specificity                                   0.809524\n",
       "task_nback_falseAlarmRate                                0.190476\n",
       "task_nback_F1                                            0.666667\n",
       "task_nback_MCC                                           0.636209\n",
       "task_nback_bias                                          0.438071\n",
       "Name: 35, dtype: object"
      ]
     },
     "execution_count": 81,
     "metadata": {},
     "output_type": "execute_result"
    }
   ],
   "source": [
    "nback_df.iloc[35]"
   ]
  },
  {
   "cell_type": "markdown",
   "metadata": {},
   "source": [
    "#### Clean\n",
    "\n",
    "The cleaning process consists of removing any entries/rows where there is an impossible or extrememly improbable value in any of the `matched`, `missed` and `false_alarm` columns.\n",
    "\n",
    "Impossible means that any of: \n",
    "\n",
    "1. $\\text{matches} > 23$, given that there were only 23 possibile maches for the 3-back (hard mode).\n",
    "⚡ However, I chose to eliminate any trials that had a likelihood of less than 1 in a million, which was $\\text{matches} > 17$\n",
    "2. $\\text{misses} < 0$, given that it is impossible.\n",
    "\n",
    "3. $\\text{false alarm} > 25$, given that it is impossible."
   ]
  },
  {
   "cell_type": "code",
   "execution_count": 82,
   "metadata": {},
   "outputs": [
    {
     "data": {
      "text/plain": [
       "(4105, 18)"
      ]
     },
     "execution_count": 82,
     "metadata": {},
     "output_type": "execute_result"
    }
   ],
   "source": [
    "nback_df.shape"
   ]
  },
  {
   "cell_type": "code",
   "execution_count": 83,
   "metadata": {},
   "outputs": [],
   "source": [
    "nback_df = nback_df.loc[nback_df.task_nback_matched <18,]"
   ]
  },
  {
   "cell_type": "code",
   "execution_count": 84,
   "metadata": {},
   "outputs": [
    {
     "data": {
      "text/plain": [
       "(4075, 18)"
      ]
     },
     "execution_count": 84,
     "metadata": {},
     "output_type": "execute_result"
    }
   ],
   "source": [
    "nback_df.shape"
   ]
  },
  {
   "cell_type": "code",
   "execution_count": 85,
   "metadata": {},
   "outputs": [],
   "source": [
    "nback_df = nback_df.loc[nback_df.task_nback_missed >= 0,]"
   ]
  },
  {
   "cell_type": "code",
   "execution_count": 86,
   "metadata": {},
   "outputs": [
    {
     "data": {
      "text/plain": [
       "(3939, 18)"
      ]
     },
     "execution_count": 86,
     "metadata": {},
     "output_type": "execute_result"
    }
   ],
   "source": [
    "nback_df.shape"
   ]
  },
  {
   "cell_type": "code",
   "execution_count": 87,
   "metadata": {},
   "outputs": [],
   "source": [
    "nback_df = nback_df.loc[nback_df.task_nback_falseAlarm <= 25,]"
   ]
  },
  {
   "cell_type": "code",
   "execution_count": 88,
   "metadata": {},
   "outputs": [
    {
     "data": {
      "text/plain": [
       "(3937, 18)"
      ]
     },
     "execution_count": 88,
     "metadata": {},
     "output_type": "execute_result"
    }
   ],
   "source": [
    "nback_df.shape"
   ]
  },
  {
   "cell_type": "code",
   "execution_count": null,
   "metadata": {},
   "outputs": [
    {
     "data": {
      "application/vnd.jupyter.widget-view+json": {
       "model_id": "cacad2de8e5d412cb18eb997c4311422",
       "version_major": 2,
       "version_minor": 0
      },
      "text/plain": [
       "Summarize dataset:   0%|          | 0/5 [00:00<?, ?it/s]"
      ]
     },
     "metadata": {},
     "output_type": "display_data"
    },
    {
     "name": "stderr",
     "output_type": "stream",
     "text": [
      "/Users/djw/Documents/pCloud_synced/Academics/Projects/2020_thesis/thesis_experiments/3_experiments/3_3_experience_sampling/.venv/lib/python3.11/site-packages/numpy/core/_methods.py:49: RuntimeWarning: invalid value encountered in reduce\n",
      "  return umr_sum(a, axis, dtype, out, keepdims, initial, where)\n",
      "/Users/djw/Documents/pCloud_synced/Academics/Projects/2020_thesis/thesis_experiments/3_experiments/3_3_experience_sampling/.venv/lib/python3.11/site-packages/numpy/core/_methods.py:152: RuntimeWarning: invalid value encountered in reduce\n",
      "  arrmean = umr_sum(arr, axis, dtype, keepdims=True, where=where)\n",
      "/Users/djw/Documents/pCloud_synced/Academics/Projects/2020_thesis/thesis_experiments/3_experiments/3_3_experience_sampling/.venv/lib/python3.11/site-packages/ydata_profiling/model/correlations.py:66: UserWarning: There was an attempt to calculate the auto correlation, but this failed.\n",
      "To hide this warning, disable the calculation\n",
      "(using `df.profile_report(correlations={\"auto\": {\"calculate\": False}})`\n",
      "If this is problematic for your use case, please report this as an issue:\n",
      "https://github.com/ydataai/ydata-profiling/issues\n",
      "(include the error message: 'cannot specify integer `bins` when input data contains infinity')\n",
      "  warnings.warn(\n"
     ]
    },
    {
     "data": {
      "application/vnd.jupyter.widget-view+json": {
       "model_id": "7ee561f1332d492284dbc055202eb8e9",
       "version_major": 2,
       "version_minor": 0
      },
      "text/plain": [
       "Generate report structure:   0%|          | 0/1 [00:00<?, ?it/s]"
      ]
     },
     "metadata": {},
     "output_type": "display_data"
    },
    {
     "data": {
      "application/vnd.jupyter.widget-view+json": {
       "model_id": "28716be7fd9847d9ab03e437acce54a7",
       "version_major": 2,
       "version_minor": 0
      },
      "text/plain": [
       "Render HTML:   0%|          | 0/1 [00:00<?, ?it/s]"
      ]
     },
     "metadata": {},
     "output_type": "display_data"
    },
    {
     "data": {
      "application/vnd.jupyter.widget-view+json": {
       "model_id": "4aff74cc3acc4d13bcddab019fc657c8",
       "version_major": 2,
       "version_minor": 0
      },
      "text/plain": [
       "Export report to file:   0%|          | 0/1 [00:00<?, ?it/s]"
      ]
     },
     "metadata": {},
     "output_type": "display_data"
    }
   ],
   "source": [
    "# rerun EDA\n",
    "profile = ProfileReport(nback_df.iloc[:,3:], title= f\"n-Back Task Run {run_num} - cleaned | Pandas Profiling Report\")\n",
    "profile.to_file(eda_reports_path + f\"nback_report_run{run_num}_clean.html\")"
   ]
  },
  {
   "cell_type": "markdown",
   "metadata": {},
   "source": [
    "### GoNoGo\n",
    "\n",
    "**Parameters**\n",
    "\n",
    "- 50 trials\n",
    "- Stimulus = 250ms\n",
    "- ITI = 450ms\n",
    "- go/no-go ratio 4:1 (40/10)\n",
    "- NOTE THAT IF YOU PRESS THE BUTTON DURING THE ITI IT STILL COUNTS FOR THAT TRIAL! So the stimulus disappears but the trial is still “on”…each trial = 250 + 450 = 700ms\n",
    "\n",
    "**Data**\n",
    "\n",
    "For each trial\n",
    "\n",
    "- `trialType` Go or NoGo trial\n",
    "- `stim` Circle color\n",
    "- `stimDuration` How long is stim on\n",
    "- `iti`\n",
    "- `RT` RT to click\n",
    "- `correct` Correct/Error\n",
    "    - Go trial = click\n",
    "    - NoGo trial = no click\n",
    "\n",
    "<div class=\"alert alert-block alert-info\">\n",
    "<b>📝 Note:</b><br>\n",
    "    According to <a href=\"https://link.springer.com/article/10.3758/s13428-017-0923-5\">this paper</a> optimal go/no-go ratios to maximize false alarms were predicted to occur for the shortest tested ITI (450 ms) and a go/no-go ratio near 4:1. \n",
    "    <br><br>These values are predicted to produce a mean of 6.4 to 8.7 false alarms per 150 trials (95% confidence interval of the mean)\n",
    "    <br><br>Given that we ran 50 trials we would expect 1/3 of this range. We found our mean false alarm rate was in this range at 2.7 (or 8.1 for 150 trials).\n",
    "</div>"
   ]
  },
  {
   "cell_type": "markdown",
   "metadata": {},
   "source": [
    "#### Load Data"
   ]
  },
  {
   "cell_type": "code",
   "execution_count": 89,
   "metadata": {},
   "outputs": [
    {
     "name": "stdout",
     "output_type": "stream",
     "text": [
      "deleted existing df\n"
     ]
    }
   ],
   "source": [
    "# erase df if it already exists\n",
    "if 'df' in globals():\n",
    "    del(df)\n",
    "    print('deleted existing df')\n",
    "\n",
    "if 'gng_df' in globals():\n",
    "    del(gng_df)\n",
    "    print('deleted gng_df')"
   ]
  },
  {
   "cell_type": "code",
   "execution_count": 90,
   "metadata": {},
   "outputs": [],
   "source": [
    "if run_num ==1:\n",
    "    # run 1\n",
    "    df = pd.read_csv(save_path + 'run1_app_survey_results.csv')\n",
    "if run_num ==2:\n",
    "    # run 2\n",
    "    df = pd.read_csv(save_path + 'run2_app_survey_results.csv')\n",
    "    \n",
    "# Convert the date column back to datetime.date\n",
    "df['trial_date'] = pd.to_datetime(df['trial_date']).dt.date"
   ]
  },
  {
   "cell_type": "code",
   "execution_count": 91,
   "metadata": {},
   "outputs": [],
   "source": [
    "gng_df =  df.loc[df.ResultIdentifier == 'task_custom_gonogo'].reset_index(drop=True)"
   ]
  },
  {
   "cell_type": "markdown",
   "metadata": {},
   "source": [
    "#### Format Data"
   ]
  },
  {
   "cell_type": "code",
   "execution_count": 92,
   "metadata": {},
   "outputs": [
    {
     "data": {
      "text/plain": [
       "{'reactionTime': {'0': 453,\n",
       "  '1': 405,\n",
       "  '2': 412,\n",
       "  '3': 401,\n",
       "  '4': 375,\n",
       "  '5': 382,\n",
       "  '6': 407,\n",
       "  '7': 403,\n",
       "  '8': 410,\n",
       "  '9': 467,\n",
       "  '11': 536,\n",
       "  '12': 510,\n",
       "  '13': 500,\n",
       "  '15': 447,\n",
       "  '16': 405,\n",
       "  '18': 428,\n",
       "  '19': 458,\n",
       "  '20': 423,\n",
       "  '21': 446,\n",
       "  '24': 399,\n",
       "  '25': 423,\n",
       "  '26': 447,\n",
       "  '28': 526,\n",
       "  '29': 539,\n",
       "  '30': 571,\n",
       "  '31': 553,\n",
       "  '32': 494,\n",
       "  '33': 457,\n",
       "  '34': 497,\n",
       "  '35': 488,\n",
       "  '36': 436,\n",
       "  '37': 434,\n",
       "  '38': 425,\n",
       "  '39': 457,\n",
       "  '41': 478,\n",
       "  '42': 435,\n",
       "  '43': 466,\n",
       "  '44': 423,\n",
       "  '48': 420,\n",
       "  '49': 391},\n",
       " 'correctness': {'0': 0,\n",
       "  '1': 0,\n",
       "  '2': 0,\n",
       "  '3': 0,\n",
       "  '4': 0,\n",
       "  '5': 0,\n",
       "  '6': 0,\n",
       "  '7': 0,\n",
       "  '8': 0,\n",
       "  '9': 0,\n",
       "  '11': 0,\n",
       "  '12': 0,\n",
       "  '13': 0,\n",
       "  '15': 0,\n",
       "  '16': 0,\n",
       "  '18': 0,\n",
       "  '19': 0,\n",
       "  '20': 0,\n",
       "  '21': 0,\n",
       "  '24': 0,\n",
       "  '25': 0,\n",
       "  '26': 0,\n",
       "  '28': 0,\n",
       "  '29': 0,\n",
       "  '30': 0,\n",
       "  '31': 0,\n",
       "  '32': 0,\n",
       "  '33': 0,\n",
       "  '34': 0,\n",
       "  '35': 0,\n",
       "  '36': 0,\n",
       "  '37': 0,\n",
       "  '38': 0,\n",
       "  '39': 0,\n",
       "  '41': 0,\n",
       "  '42': 0,\n",
       "  '43': 0,\n",
       "  '44': 0,\n",
       "  '48': 0,\n",
       "  '49': 0},\n",
       " 'incorrectNoGo': 0,\n",
       " 'correctGo': 40,\n",
       " 'correctNoGo': 10,\n",
       " 'incorrectGo': 0,\n",
       " 'sequence': ['G',\n",
       "  'G',\n",
       "  'G',\n",
       "  'G',\n",
       "  'G',\n",
       "  'G',\n",
       "  'G',\n",
       "  'G',\n",
       "  'G',\n",
       "  'G',\n",
       "  'N',\n",
       "  'G',\n",
       "  'G',\n",
       "  'G',\n",
       "  'N',\n",
       "  'G',\n",
       "  'G',\n",
       "  'N',\n",
       "  'G',\n",
       "  'G',\n",
       "  'G',\n",
       "  'G',\n",
       "  'N',\n",
       "  'N',\n",
       "  'G',\n",
       "  'G',\n",
       "  'G',\n",
       "  'N',\n",
       "  'G',\n",
       "  'G',\n",
       "  'G',\n",
       "  'G',\n",
       "  'G',\n",
       "  'G',\n",
       "  'G',\n",
       "  'G',\n",
       "  'G',\n",
       "  'G',\n",
       "  'G',\n",
       "  'G',\n",
       "  'N',\n",
       "  'G',\n",
       "  'G',\n",
       "  'G',\n",
       "  'G',\n",
       "  'N',\n",
       "  'N',\n",
       "  'N',\n",
       "  'G',\n",
       "  'G'],\n",
       " 'stimDuration': 250,\n",
       " 'iti': 450,\n",
       " 'aRT': 451}"
      ]
     },
     "execution_count": 92,
     "metadata": {},
     "output_type": "execute_result"
    }
   ],
   "source": [
    "json.loads(gng_df.Answers[0])"
   ]
  },
  {
   "cell_type": "code",
   "execution_count": 93,
   "metadata": {},
   "outputs": [],
   "source": [
    "for i in range(gng_df.shape[0]):\n",
    "    gng_df.loc[i, 'task_gng_incorrectNoGo'] = json.loads(gng_df.Answers[i])['incorrectNoGo']\n",
    "    gng_df.loc[i, 'task_gng_incorrectGo'] = json.loads(gng_df.Answers[i])['incorrectGo']    \n",
    "    gng_df.loc[i, 'task_gng_correctGo'] = json.loads(gng_df.Answers[i])['correctGo']\n",
    "    gng_df.loc[i, 'task_gng_correctNoGo'] = json.loads(gng_df.Answers[i])['correctNoGo']    \n",
    "    gng_df.loc[i, 'task_gng_avgRt'] = np.mean(list(json.loads(gng_df.Answers[i])['reactionTime'].values()))"
   ]
  },
  {
   "cell_type": "code",
   "execution_count": 94,
   "metadata": {},
   "outputs": [],
   "source": [
    "gng_df['task_gng_time'] = gng_df.time"
   ]
  },
  {
   "cell_type": "code",
   "execution_count": 95,
   "metadata": {},
   "outputs": [],
   "source": [
    "gng_df = gng_df[['ParticipantIdentifier', 'trial_date',\n",
    "                 'task_gng_time',\n",
    "                 'task_gng_incorrectNoGo',\n",
    "                 'task_gng_incorrectGo',\n",
    "                 'task_gng_correctGo',\n",
    "                 'task_gng_correctNoGo',\n",
    "                 'task_gng_avgRt'\n",
    "                ]]"
   ]
  },
  {
   "cell_type": "code",
   "execution_count": 96,
   "metadata": {},
   "outputs": [
    {
     "data": {
      "text/html": [
       "<div>\n",
       "<style scoped>\n",
       "    .dataframe tbody tr th:only-of-type {\n",
       "        vertical-align: middle;\n",
       "    }\n",
       "\n",
       "    .dataframe tbody tr th {\n",
       "        vertical-align: top;\n",
       "    }\n",
       "\n",
       "    .dataframe thead th {\n",
       "        text-align: right;\n",
       "    }\n",
       "</style>\n",
       "<table border=\"1\" class=\"dataframe\">\n",
       "  <thead>\n",
       "    <tr style=\"text-align: right;\">\n",
       "      <th></th>\n",
       "      <th>ParticipantIdentifier</th>\n",
       "      <th>trial_date</th>\n",
       "      <th>task_gng_time</th>\n",
       "      <th>task_gng_incorrectNoGo</th>\n",
       "      <th>task_gng_incorrectGo</th>\n",
       "      <th>task_gng_correctGo</th>\n",
       "      <th>task_gng_correctNoGo</th>\n",
       "      <th>task_gng_avgRt</th>\n",
       "    </tr>\n",
       "  </thead>\n",
       "  <tbody>\n",
       "    <tr>\n",
       "      <th>0</th>\n",
       "      <td>c62ae7a2-6fe6-4fd5-9b9e-93773b08d8b9</td>\n",
       "      <td>2022-10-24</td>\n",
       "      <td>07:07:34</td>\n",
       "      <td>0.0</td>\n",
       "      <td>0.0</td>\n",
       "      <td>40.0</td>\n",
       "      <td>10.0</td>\n",
       "      <td>450.675000</td>\n",
       "    </tr>\n",
       "    <tr>\n",
       "      <th>1</th>\n",
       "      <td>39d785c6-9e3d-44c2-88ec-2ce14ef923f9</td>\n",
       "      <td>2022-10-24</td>\n",
       "      <td>07:08:33</td>\n",
       "      <td>4.0</td>\n",
       "      <td>0.0</td>\n",
       "      <td>40.0</td>\n",
       "      <td>6.0</td>\n",
       "      <td>343.704545</td>\n",
       "    </tr>\n",
       "  </tbody>\n",
       "</table>\n",
       "</div>"
      ],
      "text/plain": [
       "                  ParticipantIdentifier  trial_date task_gng_time  \\\n",
       "0  c62ae7a2-6fe6-4fd5-9b9e-93773b08d8b9  2022-10-24      07:07:34   \n",
       "1  39d785c6-9e3d-44c2-88ec-2ce14ef923f9  2022-10-24      07:08:33   \n",
       "\n",
       "   task_gng_incorrectNoGo  task_gng_incorrectGo  task_gng_correctGo  \\\n",
       "0                     0.0                   0.0                40.0   \n",
       "1                     4.0                   0.0                40.0   \n",
       "\n",
       "   task_gng_correctNoGo  task_gng_avgRt  \n",
       "0                  10.0      450.675000  \n",
       "1                   6.0      343.704545  "
      ]
     },
     "execution_count": 96,
     "metadata": {},
     "output_type": "execute_result"
    }
   ],
   "source": [
    "gng_df.head(2)"
   ]
  },
  {
   "cell_type": "markdown",
   "metadata": {},
   "source": [
    "#### EDA"
   ]
  },
  {
   "cell_type": "code",
   "execution_count": null,
   "metadata": {},
   "outputs": [
    {
     "data": {
      "application/vnd.jupyter.widget-view+json": {
       "model_id": "d0a00fb987c64c68b83fe2d40af6ea09",
       "version_major": 2,
       "version_minor": 0
      },
      "text/plain": [
       "Summarize dataset:   0%|          | 0/5 [00:00<?, ?it/s]"
      ]
     },
     "metadata": {},
     "output_type": "display_data"
    },
    {
     "data": {
      "application/vnd.jupyter.widget-view+json": {
       "model_id": "52ce63f37d0b419db0905129c3a5818f",
       "version_major": 2,
       "version_minor": 0
      },
      "text/plain": [
       "Generate report structure:   0%|          | 0/1 [00:00<?, ?it/s]"
      ]
     },
     "metadata": {},
     "output_type": "display_data"
    },
    {
     "data": {
      "application/vnd.jupyter.widget-view+json": {
       "model_id": "04e57b7cc3554b0dba2c8d13d16490fd",
       "version_major": 2,
       "version_minor": 0
      },
      "text/plain": [
       "Render HTML:   0%|          | 0/1 [00:00<?, ?it/s]"
      ]
     },
     "metadata": {},
     "output_type": "display_data"
    },
    {
     "data": {
      "application/vnd.jupyter.widget-view+json": {
       "model_id": "7f43c000bc044786bf701404a5147560",
       "version_major": 2,
       "version_minor": 0
      },
      "text/plain": [
       "Export report to file:   0%|          | 0/1 [00:00<?, ?it/s]"
      ]
     },
     "metadata": {},
     "output_type": "display_data"
    }
   ],
   "source": [
    "profile = ProfileReport(gng_df.iloc[:,3:], title=f\"Go-Nogo Task Run {run_num} | Pandas Profiling Report\")\n",
    "profile.to_file(eda_reports_path + f\"task_gng_run{run_num}.html\")"
   ]
  },
  {
   "cell_type": "markdown",
   "metadata": {},
   "source": [
    "#### Clean\n",
    "\n",
    "We can see that there are 84 trials where the RT is 0. These trials are removed.\n",
    "\n",
    "We also know from the work of Luce (1984) and Whelan (2008) that RTs below 100ms are not realistic.\n",
    "\n",
    "Therefore all trials with RTs below 100 were also removed."
   ]
  },
  {
   "cell_type": "code",
   "execution_count": 97,
   "metadata": {},
   "outputs": [
    {
     "name": "stdout",
     "output_type": "stream",
     "text": [
      "117, or 2.8% of trials had RTs of 0.\n",
      "315, or 7.6% of trials had RTs of less than 100.\n"
     ]
    }
   ],
   "source": [
    "zero_trials = (gng_df.task_gng_avgRt == 0).sum()\n",
    "sub100_trials = (gng_df.task_gng_avgRt < 100).sum()\n",
    "trials_n = gng_df.shape[0]\n",
    "\n",
    "print(f'{zero_trials}, or {(zero_trials/trials_n) *100:.1f}% of trials had RTs of 0.')\n",
    "print(f'{sub100_trials}, or {(sub100_trials/trials_n) * 100:.1f}% of trials had RTs of less than 100.')"
   ]
  },
  {
   "cell_type": "code",
   "execution_count": 98,
   "metadata": {},
   "outputs": [
    {
     "data": {
      "text/plain": [
       "task_gng_incorrectNoGo      3.782504\n",
       "task_gng_incorrectGo        5.640889\n",
       "task_gng_correctGo         34.359111\n",
       "task_gng_correctNoGo        4.615273\n",
       "task_gng_avgRt            325.114669\n",
       "dtype: float64"
      ]
     },
     "execution_count": 98,
     "metadata": {},
     "output_type": "execute_result"
    }
   ],
   "source": [
    "gng_df.iloc[:,3:].mean()"
   ]
  },
  {
   "cell_type": "code",
   "execution_count": 99,
   "metadata": {},
   "outputs": [
    {
     "data": {
      "application/vnd.jupyter.widget-view+json": {
       "model_id": "579f7159f8f84808bbdbaad34eeff222",
       "version_major": 2,
       "version_minor": 0
      },
      "text/plain": [
       "Summarize dataset:   0%|          | 0/5 [00:00<?, ?it/s]"
      ]
     },
     "metadata": {},
     "output_type": "display_data"
    },
    {
     "data": {
      "application/vnd.jupyter.widget-view+json": {
       "model_id": "61c5834ff921438a8445d73830f077bd",
       "version_major": 2,
       "version_minor": 0
      },
      "text/plain": [
       "Generate report structure:   0%|          | 0/1 [00:00<?, ?it/s]"
      ]
     },
     "metadata": {},
     "output_type": "display_data"
    },
    {
     "data": {
      "application/vnd.jupyter.widget-view+json": {
       "model_id": "ae94956fc20e4ae98f8cd291ae7f5ce2",
       "version_major": 2,
       "version_minor": 0
      },
      "text/plain": [
       "Render HTML:   0%|          | 0/1 [00:00<?, ?it/s]"
      ]
     },
     "metadata": {},
     "output_type": "display_data"
    },
    {
     "data": {
      "application/vnd.jupyter.widget-view+json": {
       "model_id": "677cd8937720435bb9b57dcc6d8fa575",
       "version_major": 2,
       "version_minor": 0
      },
      "text/plain": [
       "Export report to file:   0%|          | 0/1 [00:00<?, ?it/s]"
      ]
     },
     "metadata": {},
     "output_type": "display_data"
    }
   ],
   "source": [
    "# Remove all trials with impossibly short rts\n",
    "gng_df = gng_df.loc[gng_df.task_gng_avgRt >= 100,]\n",
    "\n",
    "# Rerun EDA\n",
    "profile = ProfileReport(gng_df.iloc[:,3:], title=f\"Go-Nogo Task Run {run_num} - Clean | Pandas Profiling Report\")\n",
    "profile.to_file(eda_reports_path + f\"task_gng_run{run_num}_clean.html\")"
   ]
  },
  {
   "cell_type": "code",
   "execution_count": 100,
   "metadata": {},
   "outputs": [
    {
     "data": {
      "text/plain": [
       "task_gng_incorrectNoGo      4.037405\n",
       "task_gng_incorrectGo        3.050222\n",
       "task_gng_correctGo         36.949778\n",
       "task_gng_correctNoGo        4.373267\n",
       "task_gng_avgRt            350.201768\n",
       "dtype: float64"
      ]
     },
     "execution_count": 100,
     "metadata": {},
     "output_type": "execute_result"
    }
   ],
   "source": [
    "# Note the decrease in average incorrectGo (false alarm)\n",
    "gng_df.iloc[:,3:].mean()"
   ]
  },
  {
   "cell_type": "markdown",
   "metadata": {},
   "source": [
    "### BART\n",
    "\n",
    "> The primary score used to measure BART performance is the average number of pumps on unexploded balloons, with higher scores indicative of greater risk-taking propensity (Bornovalova et al. 2005; Lejuez et al. 2002)\n",
    "\n",
    "[Scoring Alternatives Paper](https://www.researchgate.net/publication/301645337_The_Multiple_Faces_of_Risk-Taking_Scoring_Alternatives_for_the_Balloon-Analogue_Risk_Task)"
   ]
  },
  {
   "cell_type": "markdown",
   "metadata": {},
   "source": [
    "#### Load Data"
   ]
  },
  {
   "cell_type": "code",
   "execution_count": 101,
   "metadata": {},
   "outputs": [
    {
     "name": "stdout",
     "output_type": "stream",
     "text": [
      "deleted existing df\n"
     ]
    }
   ],
   "source": [
    "# erase df if it already exists\n",
    "if 'df' in globals():\n",
    "    del(df)\n",
    "    print('deleted existing df')\n",
    "\n",
    "if 'bart_df' in globals():\n",
    "    del(bart_df)\n",
    "    print('deleted bart_df')"
   ]
  },
  {
   "cell_type": "code",
   "execution_count": 102,
   "metadata": {},
   "outputs": [],
   "source": [
    "if run_num ==1:\n",
    "    # run 1\n",
    "    df = pd.read_csv(save_path + 'run1_app_survey_results.csv')\n",
    "if run_num ==2:\n",
    "    # run 2\n",
    "    df = pd.read_csv(save_path + 'run2_app_survey_results.csv')\n",
    "    \n",
    "# Convert the date column back to datetime.date\n",
    "df['trial_date'] = pd.to_datetime(df['trial_date']).dt.date"
   ]
  },
  {
   "cell_type": "markdown",
   "metadata": {},
   "source": [
    "#### Format Data"
   ]
  },
  {
   "cell_type": "code",
   "execution_count": 103,
   "metadata": {},
   "outputs": [],
   "source": [
    "# Select rows with BART task\n",
    "bart_df = df.loc[df.ResultIdentifier.str.contains('custom_bart')].reset_index(drop=True)\n",
    "# Remove rows that are just directions\n",
    "bart_df = bart_df.loc[~bart_df.ResultIdentifier.str.contains('_info')].reset_index(drop=True)\n",
    "# Remove summary rows\n",
    "bart_df = bart_df.loc[~bart_df.ResultIdentifier.str.contains('summary')].reset_index(drop=True)"
   ]
  },
  {
   "cell_type": "code",
   "execution_count": 104,
   "metadata": {},
   "outputs": [
    {
     "data": {
      "text/plain": [
       "{'timingInMs': [487,\n",
       "  150,\n",
       "  185,\n",
       "  2654,\n",
       "  104,\n",
       "  380,\n",
       "  102,\n",
       "  161,\n",
       "  98,\n",
       "  103,\n",
       "  98,\n",
       "  76,\n",
       "  107,\n",
       "  84,\n",
       "  97,\n",
       "  118,\n",
       "  291],\n",
       " 'thisRoundEarnings': 0,\n",
       " 'numberOfPumps': 17,\n",
       " 'totalEarnings': 0,\n",
       " 'balloonPopsAt': 17}"
      ]
     },
     "execution_count": 104,
     "metadata": {},
     "output_type": "execute_result"
    }
   ],
   "source": [
    "json.loads(bart_df.Answers[0])"
   ]
  },
  {
   "cell_type": "code",
   "execution_count": 105,
   "metadata": {},
   "outputs": [
    {
     "name": "stderr",
     "output_type": "stream",
     "text": [
      "/Users/djw/Documents/pCloud_synced/Academics/Projects/2020_thesis/thesis_experiments/3_experiments/3_3_experience_sampling/.venv/lib/python3.11/site-packages/numpy/core/fromnumeric.py:3504: RuntimeWarning: Mean of empty slice.\n",
      "  return _methods._mean(a, axis=axis, dtype=dtype,\n",
      "/Users/djw/Documents/pCloud_synced/Academics/Projects/2020_thesis/thesis_experiments/3_experiments/3_3_experience_sampling/.venv/lib/python3.11/site-packages/numpy/core/_methods.py:129: RuntimeWarning: invalid value encountered in scalar divide\n",
      "  ret = ret.dtype.type(ret / rcount)\n"
     ]
    }
   ],
   "source": [
    "# avg rt\n",
    "def foo(x):\n",
    "    try:\n",
    "        return np.mean(json.loads(x)['timingInMs'][1:]) # start on second tap as people take longer on first...\n",
    "    except (ValueError, KeyError):\n",
    "        return None\n",
    "\n",
    "v = np.vectorize(foo)\n",
    "bart_df['avg_rt'] = v(bart_df.Answers)\n",
    "\n",
    "# pop?\n",
    "def foo(x):\n",
    "    try:\n",
    "        return json.loads(x)['thisRoundEarnings']\n",
    "    except (ValueError, KeyError):\n",
    "        return None\n",
    "\n",
    "v = np.vectorize(foo)\n",
    "bart_df['thisRoundEarnings'] = v(bart_df.Answers)\n",
    "    \n",
    "# numberOfPumps\n",
    "def foo(x):\n",
    "    try:\n",
    "        return json.loads(x)['numberOfPumps']\n",
    "    except (ValueError, KeyError):\n",
    "        return None\n",
    "\n",
    "v = np.vectorize(foo)\n",
    "bart_df['pumps'] = v(bart_df.Answers)"
   ]
  },
  {
   "cell_type": "code",
   "execution_count": 106,
   "metadata": {},
   "outputs": [],
   "source": [
    "# only take unpopped trials\n",
    "bart_df = bart_df.loc[bart_df.thisRoundEarnings>0]"
   ]
  },
  {
   "cell_type": "code",
   "execution_count": 107,
   "metadata": {},
   "outputs": [
    {
     "data": {
      "text/html": [
       "<div>\n",
       "<style scoped>\n",
       "    .dataframe tbody tr th:only-of-type {\n",
       "        vertical-align: middle;\n",
       "    }\n",
       "\n",
       "    .dataframe tbody tr th {\n",
       "        vertical-align: top;\n",
       "    }\n",
       "\n",
       "    .dataframe thead th {\n",
       "        text-align: right;\n",
       "    }\n",
       "</style>\n",
       "<table border=\"1\" class=\"dataframe\">\n",
       "  <thead>\n",
       "    <tr style=\"text-align: right;\">\n",
       "      <th></th>\n",
       "      <th>ParticipantIdentifier</th>\n",
       "      <th>trial_date</th>\n",
       "      <th>task_bart_unpopped_n</th>\n",
       "    </tr>\n",
       "  </thead>\n",
       "  <tbody>\n",
       "    <tr>\n",
       "      <th>0</th>\n",
       "      <td>0501ba67-3406-4779-aff1-878a0e9f7885</td>\n",
       "      <td>2022-09-30</td>\n",
       "      <td>5</td>\n",
       "    </tr>\n",
       "    <tr>\n",
       "      <th>1</th>\n",
       "      <td>0501ba67-3406-4779-aff1-878a0e9f7885</td>\n",
       "      <td>2022-10-01</td>\n",
       "      <td>3</td>\n",
       "    </tr>\n",
       "    <tr>\n",
       "      <th>2</th>\n",
       "      <td>0501ba67-3406-4779-aff1-878a0e9f7885</td>\n",
       "      <td>2022-10-02</td>\n",
       "      <td>7</td>\n",
       "    </tr>\n",
       "    <tr>\n",
       "      <th>3</th>\n",
       "      <td>0501ba67-3406-4779-aff1-878a0e9f7885</td>\n",
       "      <td>2022-10-03</td>\n",
       "      <td>6</td>\n",
       "    </tr>\n",
       "    <tr>\n",
       "      <th>4</th>\n",
       "      <td>0501ba67-3406-4779-aff1-878a0e9f7885</td>\n",
       "      <td>2022-10-04</td>\n",
       "      <td>8</td>\n",
       "    </tr>\n",
       "  </tbody>\n",
       "</table>\n",
       "</div>"
      ],
      "text/plain": [
       "                  ParticipantIdentifier  trial_date  task_bart_unpopped_n\n",
       "0  0501ba67-3406-4779-aff1-878a0e9f7885  2022-09-30                     5\n",
       "1  0501ba67-3406-4779-aff1-878a0e9f7885  2022-10-01                     3\n",
       "2  0501ba67-3406-4779-aff1-878a0e9f7885  2022-10-02                     7\n",
       "3  0501ba67-3406-4779-aff1-878a0e9f7885  2022-10-03                     6\n",
       "4  0501ba67-3406-4779-aff1-878a0e9f7885  2022-10-04                     8"
      ]
     },
     "execution_count": 107,
     "metadata": {},
     "output_type": "execute_result"
    }
   ],
   "source": [
    "pumps = pd.DataFrame(bart_df.groupby(['ParticipantIdentifier', 'trial_date'])['pumps'].sum()).reset_index()\n",
    "pumps = pumps.rename(columns={'pumps': 'task_bart_total_pumps'})\n",
    "unpopped = pd.DataFrame(bart_df.groupby(['ParticipantIdentifier', 'trial_date'])['pumps'].count()).reset_index()\n",
    "unpopped = unpopped.rename(columns={'pumps': 'task_bart_unpopped_n'})\n",
    "unpopped.head()             "
   ]
  },
  {
   "cell_type": "code",
   "execution_count": 108,
   "metadata": {},
   "outputs": [],
   "source": [
    "# get mean of pumps and mean of rt for each DAY\n",
    "bart_df = pd.DataFrame(bart_df.groupby(['ParticipantIdentifier', 'trial_date'])[['avg_rt', 'pumps']].mean()).reset_index()\n",
    "bart_df = bart_df.rename(columns={\"avg_rt\": \"task_bart_avg_rt\", 'pumps': 'task_bart_avg_pumps'})\n",
    "\n",
    "# add other data\n",
    "bart_df = bart_df.merge(pumps, how='left', on=['ParticipantIdentifier', 'trial_date'])\n",
    "bart_df = bart_df.merge(unpopped, how='left', on=['ParticipantIdentifier', 'trial_date'])\n",
    "\n",
    "# calculate score\n",
    "bart_df['task_bart_score'] = bart_df.task_bart_total_pumps * 5"
   ]
  },
  {
   "cell_type": "code",
   "execution_count": 109,
   "metadata": {},
   "outputs": [
    {
     "data": {
      "text/html": [
       "<div>\n",
       "<style scoped>\n",
       "    .dataframe tbody tr th:only-of-type {\n",
       "        vertical-align: middle;\n",
       "    }\n",
       "\n",
       "    .dataframe tbody tr th {\n",
       "        vertical-align: top;\n",
       "    }\n",
       "\n",
       "    .dataframe thead th {\n",
       "        text-align: right;\n",
       "    }\n",
       "</style>\n",
       "<table border=\"1\" class=\"dataframe\">\n",
       "  <thead>\n",
       "    <tr style=\"text-align: right;\">\n",
       "      <th></th>\n",
       "      <th>ParticipantIdentifier</th>\n",
       "      <th>trial_date</th>\n",
       "      <th>task_bart_avg_rt</th>\n",
       "      <th>task_bart_avg_pumps</th>\n",
       "      <th>task_bart_total_pumps</th>\n",
       "      <th>task_bart_unpopped_n</th>\n",
       "      <th>task_bart_score</th>\n",
       "    </tr>\n",
       "  </thead>\n",
       "  <tbody>\n",
       "    <tr>\n",
       "      <th>0</th>\n",
       "      <td>0501ba67-3406-4779-aff1-878a0e9f7885</td>\n",
       "      <td>2022-09-30</td>\n",
       "      <td>851.518690</td>\n",
       "      <td>16.800000</td>\n",
       "      <td>84</td>\n",
       "      <td>5</td>\n",
       "      <td>420</td>\n",
       "    </tr>\n",
       "    <tr>\n",
       "      <th>1</th>\n",
       "      <td>0501ba67-3406-4779-aff1-878a0e9f7885</td>\n",
       "      <td>2022-10-01</td>\n",
       "      <td>258.585139</td>\n",
       "      <td>18.666667</td>\n",
       "      <td>56</td>\n",
       "      <td>3</td>\n",
       "      <td>280</td>\n",
       "    </tr>\n",
       "  </tbody>\n",
       "</table>\n",
       "</div>"
      ],
      "text/plain": [
       "                  ParticipantIdentifier  trial_date  task_bart_avg_rt  \\\n",
       "0  0501ba67-3406-4779-aff1-878a0e9f7885  2022-09-30        851.518690   \n",
       "1  0501ba67-3406-4779-aff1-878a0e9f7885  2022-10-01        258.585139   \n",
       "\n",
       "   task_bart_avg_pumps  task_bart_total_pumps  task_bart_unpopped_n  \\\n",
       "0            16.800000                     84                     5   \n",
       "1            18.666667                     56                     3   \n",
       "\n",
       "   task_bart_score  \n",
       "0              420  \n",
       "1              280  "
      ]
     },
     "execution_count": 109,
     "metadata": {},
     "output_type": "execute_result"
    }
   ],
   "source": [
    "bart_df.head(2)"
   ]
  },
  {
   "cell_type": "markdown",
   "metadata": {},
   "source": [
    "#### EDA"
   ]
  },
  {
   "cell_type": "code",
   "execution_count": null,
   "metadata": {},
   "outputs": [
    {
     "data": {
      "application/vnd.jupyter.widget-view+json": {
       "model_id": "76f9928728ce48148378e535c33bcb7a",
       "version_major": 2,
       "version_minor": 0
      },
      "text/plain": [
       "Summarize dataset:   0%|          | 0/5 [00:00<?, ?it/s]"
      ]
     },
     "metadata": {},
     "output_type": "display_data"
    },
    {
     "data": {
      "application/vnd.jupyter.widget-view+json": {
       "model_id": "3a356ba927bb499fb268d179dedcb844",
       "version_major": 2,
       "version_minor": 0
      },
      "text/plain": [
       "Generate report structure:   0%|          | 0/1 [00:00<?, ?it/s]"
      ]
     },
     "metadata": {},
     "output_type": "display_data"
    },
    {
     "data": {
      "application/vnd.jupyter.widget-view+json": {
       "model_id": "8a4e46bdd0c444688b288c9188440b4b",
       "version_major": 2,
       "version_minor": 0
      },
      "text/plain": [
       "Render HTML:   0%|          | 0/1 [00:00<?, ?it/s]"
      ]
     },
     "metadata": {},
     "output_type": "display_data"
    },
    {
     "data": {
      "application/vnd.jupyter.widget-view+json": {
       "model_id": "bb5ee674d8804cafb317c7dd71d13387",
       "version_major": 2,
       "version_minor": 0
      },
      "text/plain": [
       "Export report to file:   0%|          | 0/1 [00:00<?, ?it/s]"
      ]
     },
     "metadata": {},
     "output_type": "display_data"
    }
   ],
   "source": [
    "profile = ProfileReport(bart_df.iloc[:,2:], title=f\"BART Task Run {run_num} | Pandas Profiling Report\")\n",
    "profile.to_file(eda_reports_path + f\"task_BART_run{run_num}.html\")"
   ]
  },
  {
   "cell_type": "markdown",
   "metadata": {},
   "source": [
    "#### Clean\n",
    "\n",
    "We can see that there are trials with VERY long average RTs. These should be removed before calculations are done.\n",
    "\n",
    "We used the $z$ transform method to flag outliers based on Berger and Kiefer ([2021](https://doi.org/10.3389/fpsyg.2021.675558)) where they tested multiple methods of removing outliers from rt data.\n",
    "\n",
    "We also set the flag threshold to 3.\n",
    "\n",
    "---\n",
    "\n",
    "We can also see that the `unpopped_n` (referring to trials where the balloon did not pop) values go up to 18 which is not possible since there are only 10 trials. Entries where there are more than 10 trials are removed."
   ]
  },
  {
   "cell_type": "code",
   "execution_count": 110,
   "metadata": {},
   "outputs": [
    {
     "data": {
      "text/plain": [
       "task_bart_avg_rt         239.729548\n",
       "task_bart_avg_pumps       14.196292\n",
       "task_bart_total_pumps    103.367426\n",
       "task_bart_unpopped_n       7.383665\n",
       "task_bart_score          516.837130\n",
       "dtype: float64"
      ]
     },
     "execution_count": 110,
     "metadata": {},
     "output_type": "execute_result"
    }
   ],
   "source": [
    "bart_df.iloc[:,2:].mean()"
   ]
  },
  {
   "cell_type": "code",
   "execution_count": 111,
   "metadata": {},
   "outputs": [],
   "source": [
    "# clean outlier rt values\n",
    "\n",
    "from scipy.stats import zscore\n",
    "\n",
    "# Step 1: Filter out rt cols\n",
    "rt_columns = [col for col in bart_df.columns if col.endswith('_rt')]\n",
    "\n",
    "# Step 2: Compute the z-scores for these columns\n",
    "for col in rt_columns:\n",
    "    z_col_name = col + '_z'\n",
    "    bart_df[z_col_name] = zscore(bart_df[col], nan_policy='omit')"
   ]
  },
  {
   "cell_type": "code",
   "execution_count": 112,
   "metadata": {},
   "outputs": [
    {
     "name": "stdout",
     "output_type": "stream",
     "text": [
      "Setting a z-score threshold of 3 removes 11 entries, or 0.3% of the total.\n"
     ]
    }
   ],
   "source": [
    "# Trial removal stats - RT\n",
    "threshold = 3  # Define a threshold value\n",
    "\n",
    "trials_removed = (abs(bart_df.task_bart_avg_rt_z) > threshold).sum()\n",
    "trials_n = bart_df.shape[0]\n",
    "\n",
    "print(f'Setting a z-score threshold of 3 removes {trials_removed} entries, or {(trials_removed/trials_n) * 100:.1f}% of the total.')\n",
    "\n",
    "# Remove trials\n",
    "bart_df = bart_df.loc[abs(bart_df.task_bart_avg_rt_z) <=threshold,]\n",
    "# Remove z-score column\n",
    "z_columns_to_drop = [col for col in bart_df.columns if col.endswith('_z')]\n",
    "bart_df = bart_df.drop(columns=z_columns_to_drop)"
   ]
  },
  {
   "cell_type": "code",
   "execution_count": 113,
   "metadata": {},
   "outputs": [
    {
     "name": "stdout",
     "output_type": "stream",
     "text": [
      "There are 2 entries, or 0.0% that have more than 10 trials.\n"
     ]
    }
   ],
   "source": [
    "# Trial removal stats - trial num\n",
    "trials_removed = (bart_df.task_bart_unpopped_n > 10).sum()\n",
    "trials_n = bart_df.shape[0]\n",
    "\n",
    "print(f'There are {trials_removed} entries, or {(trials_removed/trials_n) * 100:.1f}% that have more than 10 trials.')\n",
    "\n",
    "# Remove trials\n",
    "bart_df = bart_df.loc[bart_df.task_bart_unpopped_n <=10,]"
   ]
  },
  {
   "cell_type": "code",
   "execution_count": 96,
   "metadata": {},
   "outputs": [
    {
     "data": {
      "application/vnd.jupyter.widget-view+json": {
       "model_id": "43fe4ee06e9c4d00b3e8aa2e91699575",
       "version_major": 2,
       "version_minor": 0
      },
      "text/plain": [
       "Summarize dataset:   0%|          | 0/5 [00:00<?, ?it/s]"
      ]
     },
     "metadata": {},
     "output_type": "display_data"
    },
    {
     "data": {
      "application/vnd.jupyter.widget-view+json": {
       "model_id": "6dc597eda74e426baac48983547b8493",
       "version_major": 2,
       "version_minor": 0
      },
      "text/plain": [
       "Generate report structure:   0%|          | 0/1 [00:00<?, ?it/s]"
      ]
     },
     "metadata": {},
     "output_type": "display_data"
    },
    {
     "data": {
      "application/vnd.jupyter.widget-view+json": {
       "model_id": "850655d0ecd44c928ad337166ad95391",
       "version_major": 2,
       "version_minor": 0
      },
      "text/plain": [
       "Render HTML:   0%|          | 0/1 [00:00<?, ?it/s]"
      ]
     },
     "metadata": {},
     "output_type": "display_data"
    },
    {
     "data": {
      "application/vnd.jupyter.widget-view+json": {
       "model_id": "1bd1957bf5aa4b7595774ef18fd478a3",
       "version_major": 2,
       "version_minor": 0
      },
      "text/plain": [
       "Export report to file:   0%|          | 0/1 [00:00<?, ?it/s]"
      ]
     },
     "metadata": {},
     "output_type": "display_data"
    }
   ],
   "source": [
    "# Rerun EDA\n",
    "profile = ProfileReport(bart_df.iloc[:,2:], title=f\"BART Task Run {run_num} - Clean | Pandas Profiling Report\")\n",
    "profile.to_file(eda_reports_path + f\"task_BART_run{run_num}_clean.html\")"
   ]
  },
  {
   "cell_type": "markdown",
   "metadata": {},
   "source": [
    "### EmoStroop"
   ]
  },
  {
   "cell_type": "markdown",
   "metadata": {},
   "source": [
    "#### Load Data"
   ]
  },
  {
   "cell_type": "code",
   "execution_count": 114,
   "metadata": {},
   "outputs": [
    {
     "name": "stdout",
     "output_type": "stream",
     "text": [
      "deleted existing df\n"
     ]
    }
   ],
   "source": [
    "# erase df if it already exists\n",
    "if 'df' in globals():\n",
    "    del(df)\n",
    "    print('deleted existing df')\n",
    "\n",
    "if 'emoStroop_df' in globals():\n",
    "    del(emoStroop_df)\n",
    "    print('deleted emoStroop_df')"
   ]
  },
  {
   "cell_type": "code",
   "execution_count": 115,
   "metadata": {},
   "outputs": [],
   "source": [
    "if run_num ==1:\n",
    "    # run 1\n",
    "    df = pd.read_csv(save_path + 'run1_app_survey_results.csv')\n",
    "if run_num ==2:\n",
    "    # run 2\n",
    "    df = pd.read_csv(save_path + 'run2_app_survey_results.csv')\n",
    "    \n",
    "# Convert the date column back to datetime.date\n",
    "df['trial_date'] = pd.to_datetime(df['trial_date']).dt.date"
   ]
  },
  {
   "cell_type": "code",
   "execution_count": 116,
   "metadata": {},
   "outputs": [],
   "source": [
    "emoStroop_df = df.loc[df.ResultIdentifier.str.contains('emoStroop_trial')].reset_index(drop=True)"
   ]
  },
  {
   "cell_type": "markdown",
   "metadata": {},
   "source": [
    "#### Format Data"
   ]
  },
  {
   "cell_type": "code",
   "execution_count": 117,
   "metadata": {},
   "outputs": [
    {
     "data": {
      "text/plain": [
       "{'emotion': 'sad',\n",
       " 'text': 'angry',\n",
       " 'startTime': 3581,\n",
       " 'endTime': 6115,\n",
       " 'chosenEmotion': 'sad',\n",
       " 'correctness': 'incorrect'}"
      ]
     },
     "execution_count": 117,
     "metadata": {},
     "output_type": "execute_result"
    }
   ],
   "source": [
    "json.loads(emoStroop_df.Answers[4])"
   ]
  },
  {
   "cell_type": "code",
   "execution_count": 118,
   "metadata": {},
   "outputs": [],
   "source": [
    "# congruent\n",
    "def foo(x):\n",
    "    try:\n",
    "        return json.loads(x)['emotion'] == json.loads(x)['text']\n",
    "    except (ValueError, KeyError):\n",
    "        return None\n",
    "\n",
    "v = np.vectorize(foo)\n",
    "emoStroop_df['task_emoStroop_congruent'] = v(emoStroop_df.Answers)\n",
    "\n",
    "# rt\n",
    "def foo(x):\n",
    "    try:\n",
    "        return json.loads(x)['endTime'] - json.loads(x)['startTime']\n",
    "    except (ValueError, KeyError):\n",
    "        return None\n",
    "\n",
    "v = np.vectorize(foo)\n",
    "emoStroop_df['task_emoStroop_rt'] = v(emoStroop_df.Answers)\n",
    "    \n",
    "# correct\n",
    "def foo(x):\n",
    "    try:\n",
    "        return json.loads(x)['emotion'] == json.loads(x)['chosenEmotion']\n",
    "    except (ValueError, KeyError):\n",
    "        return None\n",
    "\n",
    "v = np.vectorize(foo)\n",
    "emoStroop_df['task_emoStroop_correct'] = v(emoStroop_df.Answers)\n"
   ]
  },
  {
   "cell_type": "code",
   "execution_count": 119,
   "metadata": {},
   "outputs": [],
   "source": [
    "emoStroop_df = pd.DataFrame(emoStroop_df.groupby(['ParticipantIdentifier', 'trial_date', 'task_emoStroop_congruent'])\n",
    "             [['task_emoStroop_rt', 'task_emoStroop_correct']].mean()).reset_index()\n"
   ]
  },
  {
   "cell_type": "code",
   "execution_count": 120,
   "metadata": {},
   "outputs": [],
   "source": [
    "# convert to wide\n",
    "emoStroop_df = emoStroop_df.pivot_table(index = ['ParticipantIdentifier', 'trial_date'],\n",
    "                         columns = 'task_emoStroop_congruent',\n",
    "                         values = ['task_emoStroop_rt', 'task_emoStroop_correct']).reset_index()"
   ]
  },
  {
   "cell_type": "code",
   "execution_count": 121,
   "metadata": {},
   "outputs": [
    {
     "data": {
      "text/plain": [
       "MultiIndex([( 'ParticipantIdentifier',    ''),\n",
       "            (            'trial_date',    ''),\n",
       "            ('task_emoStroop_correct', False),\n",
       "            ('task_emoStroop_correct',  True),\n",
       "            (     'task_emoStroop_rt', False),\n",
       "            (     'task_emoStroop_rt',  True)],\n",
       "           names=[None, 'task_emoStroop_congruent'])"
      ]
     },
     "execution_count": 121,
     "metadata": {},
     "output_type": "execute_result"
    }
   ],
   "source": [
    "emoStroop_df.columns"
   ]
  },
  {
   "cell_type": "code",
   "execution_count": 122,
   "metadata": {},
   "outputs": [],
   "source": [
    "# create correct column names\n",
    "new_cols = []\n",
    "for i in range(emoStroop_df.shape[1]):\n",
    "    new_cols.append(emoStroop_df.columns.get_level_values(0)[i] + \n",
    "                    str(emoStroop_df.columns.get_level_values(1)[i]))\n",
    "# x.columns.get_level_values(0)[1] + str(x.columns.get_level_values(1)[1])"
   ]
  },
  {
   "cell_type": "code",
   "execution_count": 123,
   "metadata": {},
   "outputs": [],
   "source": [
    "new_cols = [\n",
    "    'ParticipantIdentifier',\n",
    "    'trial_date',\n",
    "    'task_emoStroop_accuracy_incongruent',\n",
    "    'task_emoStroop_accuracy_congruent',\n",
    "    'task_emoStroop_rt_incongruent',\n",
    "    'task_emoStroop_rt_congruent'\n",
    "]"
   ]
  },
  {
   "cell_type": "code",
   "execution_count": 124,
   "metadata": {},
   "outputs": [],
   "source": [
    "emoStroop_df.columns = emoStroop_df.columns.to_flat_index()"
   ]
  },
  {
   "cell_type": "code",
   "execution_count": 125,
   "metadata": {},
   "outputs": [],
   "source": [
    "emoStroop_df.columns = new_cols"
   ]
  },
  {
   "cell_type": "code",
   "execution_count": 126,
   "metadata": {},
   "outputs": [
    {
     "data": {
      "text/html": [
       "<div>\n",
       "<style scoped>\n",
       "    .dataframe tbody tr th:only-of-type {\n",
       "        vertical-align: middle;\n",
       "    }\n",
       "\n",
       "    .dataframe tbody tr th {\n",
       "        vertical-align: top;\n",
       "    }\n",
       "\n",
       "    .dataframe thead th {\n",
       "        text-align: right;\n",
       "    }\n",
       "</style>\n",
       "<table border=\"1\" class=\"dataframe\">\n",
       "  <thead>\n",
       "    <tr style=\"text-align: right;\">\n",
       "      <th></th>\n",
       "      <th>ParticipantIdentifier</th>\n",
       "      <th>trial_date</th>\n",
       "      <th>task_emoStroop_accuracy_incongruent</th>\n",
       "      <th>task_emoStroop_accuracy_congruent</th>\n",
       "      <th>task_emoStroop_rt_incongruent</th>\n",
       "      <th>task_emoStroop_rt_congruent</th>\n",
       "    </tr>\n",
       "  </thead>\n",
       "  <tbody>\n",
       "    <tr>\n",
       "      <th>0</th>\n",
       "      <td>0501ba67-3406-4779-aff1-878a0e9f7885</td>\n",
       "      <td>2022-09-30</td>\n",
       "      <td>1.0</td>\n",
       "      <td>1.0</td>\n",
       "      <td>1883.555556</td>\n",
       "      <td>1849.666667</td>\n",
       "    </tr>\n",
       "    <tr>\n",
       "      <th>1</th>\n",
       "      <td>0501ba67-3406-4779-aff1-878a0e9f7885</td>\n",
       "      <td>2022-10-01</td>\n",
       "      <td>1.0</td>\n",
       "      <td>1.0</td>\n",
       "      <td>3137.909091</td>\n",
       "      <td>1959.500000</td>\n",
       "    </tr>\n",
       "  </tbody>\n",
       "</table>\n",
       "</div>"
      ],
      "text/plain": [
       "                  ParticipantIdentifier  trial_date  \\\n",
       "0  0501ba67-3406-4779-aff1-878a0e9f7885  2022-09-30   \n",
       "1  0501ba67-3406-4779-aff1-878a0e9f7885  2022-10-01   \n",
       "\n",
       "   task_emoStroop_accuracy_incongruent  task_emoStroop_accuracy_congruent  \\\n",
       "0                                  1.0                                1.0   \n",
       "1                                  1.0                                1.0   \n",
       "\n",
       "   task_emoStroop_rt_incongruent  task_emoStroop_rt_congruent  \n",
       "0                    1883.555556                  1849.666667  \n",
       "1                    3137.909091                  1959.500000  "
      ]
     },
     "execution_count": 126,
     "metadata": {},
     "output_type": "execute_result"
    }
   ],
   "source": [
    "emoStroop_df.head(2)"
   ]
  },
  {
   "cell_type": "markdown",
   "metadata": {},
   "source": [
    "#### EDA"
   ]
  },
  {
   "cell_type": "code",
   "execution_count": null,
   "metadata": {},
   "outputs": [
    {
     "data": {
      "application/vnd.jupyter.widget-view+json": {
       "model_id": "98823168bbe949ddaa09b057971914a6",
       "version_major": 2,
       "version_minor": 0
      },
      "text/plain": [
       "Summarize dataset:   0%|          | 0/5 [00:00<?, ?it/s]"
      ]
     },
     "metadata": {},
     "output_type": "display_data"
    },
    {
     "data": {
      "application/vnd.jupyter.widget-view+json": {
       "model_id": "2526d092b23840b795e3adaa10417edc",
       "version_major": 2,
       "version_minor": 0
      },
      "text/plain": [
       "Generate report structure:   0%|          | 0/1 [00:00<?, ?it/s]"
      ]
     },
     "metadata": {},
     "output_type": "display_data"
    },
    {
     "data": {
      "application/vnd.jupyter.widget-view+json": {
       "model_id": "86a8ee34f4c749169bef8a66772edfc8",
       "version_major": 2,
       "version_minor": 0
      },
      "text/plain": [
       "Render HTML:   0%|          | 0/1 [00:00<?, ?it/s]"
      ]
     },
     "metadata": {},
     "output_type": "display_data"
    },
    {
     "data": {
      "application/vnd.jupyter.widget-view+json": {
       "model_id": "813f90dbb97c4a3b9a3dacaa9806112a",
       "version_major": 2,
       "version_minor": 0
      },
      "text/plain": [
       "Export report to file:   0%|          | 0/1 [00:00<?, ?it/s]"
      ]
     },
     "metadata": {},
     "output_type": "display_data"
    }
   ],
   "source": [
    "profile = ProfileReport(emoStroop_df.iloc[:,2:], title=f\"EmoStroop Task Run {run_num} | Pandas Profiling Report\")\n",
    "profile.to_file(eda_reports_path + f\"task_emoStroop_run{run_num}.html\")"
   ]
  },
  {
   "cell_type": "markdown",
   "metadata": {},
   "source": [
    "#### Clean\n",
    "\n",
    "We can see that there are entries with VERY long average `rt_congruent` and `rt_incongruent` values. These should be removed before calculations are done.\n",
    "\n",
    "We used the Median Absolute Deviation (MAD) with a threshold of 3 to remove rt outliers ([Leys et al., 2014](https://www.sciencedirect.com/science/article/abs/pii/S0022103113000668)).\n",
    "\n",
    "Use rule of thumb of 10 seconds...\n"
   ]
  },
  {
   "cell_type": "code",
   "execution_count": 127,
   "metadata": {},
   "outputs": [],
   "source": [
    "emoStroop_df.to_csv('emostroop.csv', index=False)"
   ]
  },
  {
   "cell_type": "code",
   "execution_count": 128,
   "metadata": {},
   "outputs": [],
   "source": [
    "# Filter rows where the absolute deviation from the median is above 3 times the MAD\n",
    "emoStroop_df = emoStroop_df[emoStroop_df['task_emoStroop_rt_incongruent'] <= 10000]\n",
    "emoStroop_df = emoStroop_df[emoStroop_df['task_emoStroop_rt_congruent'] <= 10000]"
   ]
  },
  {
   "cell_type": "code",
   "execution_count": 129,
   "metadata": {},
   "outputs": [
    {
     "name": "stdout",
     "output_type": "stream",
     "text": [
      "Cleaning using MAD with a threshold of 3 removed 860 entries, or 21.8%.\n"
     ]
    }
   ],
   "source": [
    "from scipy.stats import median_abs_deviation\n",
    "\n",
    "# Original size\n",
    "n_original = emoStroop_df.shape[0]\n",
    "\n",
    "# Clean outlier rt values\n",
    "threshold = 3  # Define a threshold value\n",
    "\n",
    "# Compute the MAD using scipy\n",
    "mad_i = median_abs_deviation(emoStroop_df['task_emoStroop_rt_incongruent'], nan_policy='omit')\n",
    "mad_c = median_abs_deviation(emoStroop_df['task_emoStroop_rt_congruent'], nan_policy='omit')\n",
    "\n",
    "# Compute the median value of the 'reaction time' column\n",
    "median_val_i = emoStroop_df['task_emoStroop_rt_incongruent'].median()\n",
    "median_val_c = emoStroop_df['task_emoStroop_rt_congruent'].median()\n",
    "\n",
    "# Filter rows where the absolute deviation from the median is above 3 times the MAD\n",
    "emoStroop_df = emoStroop_df[(emoStroop_df['task_emoStroop_rt_incongruent'] - median_val_i).abs() <= threshold * mad_i]\n",
    "emoStroop_df = emoStroop_df[(emoStroop_df['task_emoStroop_rt_congruent'] - median_val_c).abs() <= threshold * mad_c]\n",
    "\n",
    "n_clean = emoStroop_df.shape[0]\n",
    "\n",
    "print(f'Cleaning using MAD with a threshold of {threshold} removed {n_original - n_clean} entries, or {((n_original - n_clean) / n_original) * 100:.1f}%.')"
   ]
  },
  {
   "cell_type": "code",
   "execution_count": null,
   "metadata": {},
   "outputs": [
    {
     "data": {
      "application/vnd.jupyter.widget-view+json": {
       "model_id": "4fb08338d7c747118233ebe12e9803a9",
       "version_major": 2,
       "version_minor": 0
      },
      "text/plain": [
       "Summarize dataset:   0%|          | 0/5 [00:00<?, ?it/s]"
      ]
     },
     "metadata": {},
     "output_type": "display_data"
    },
    {
     "data": {
      "application/vnd.jupyter.widget-view+json": {
       "model_id": "ef48b6480e274f0298f89602d728c975",
       "version_major": 2,
       "version_minor": 0
      },
      "text/plain": [
       "Generate report structure:   0%|          | 0/1 [00:00<?, ?it/s]"
      ]
     },
     "metadata": {},
     "output_type": "display_data"
    },
    {
     "data": {
      "application/vnd.jupyter.widget-view+json": {
       "model_id": "c636077e65664108bfa175bef700b986",
       "version_major": 2,
       "version_minor": 0
      },
      "text/plain": [
       "Render HTML:   0%|          | 0/1 [00:00<?, ?it/s]"
      ]
     },
     "metadata": {},
     "output_type": "display_data"
    },
    {
     "data": {
      "application/vnd.jupyter.widget-view+json": {
       "model_id": "97f828529fbf480981e73ac81f712476",
       "version_major": 2,
       "version_minor": 0
      },
      "text/plain": [
       "Export report to file:   0%|          | 0/1 [00:00<?, ?it/s]"
      ]
     },
     "metadata": {},
     "output_type": "display_data"
    }
   ],
   "source": [
    "# Rerun EDA\n",
    "profile = ProfileReport(emoStroop_df.iloc[:,2:], title=f\"EmoStroop Task Run {run_num} - Clean | Pandas Profiling Report\")\n",
    "profile.to_file(eda_reports_path + f\"task_emoStroop_run{run_num}_clean.html\")"
   ]
  },
  {
   "cell_type": "markdown",
   "metadata": {},
   "source": [
    "### Motivation"
   ]
  },
  {
   "cell_type": "markdown",
   "metadata": {},
   "source": [
    "#### Load Data"
   ]
  },
  {
   "cell_type": "code",
   "execution_count": 130,
   "metadata": {},
   "outputs": [
    {
     "name": "stdout",
     "output_type": "stream",
     "text": [
      "deleted existing df\n"
     ]
    }
   ],
   "source": [
    "# erase df if it already exists\n",
    "if 'df' in globals():\n",
    "    del(df)\n",
    "    print('deleted existing df')\n",
    "\n",
    "if 'task_motivation' in globals():\n",
    "    del(task_motivation)\n",
    "    print('deleted task_motivation')"
   ]
  },
  {
   "cell_type": "code",
   "execution_count": 131,
   "metadata": {},
   "outputs": [],
   "source": [
    "if run_num ==1:\n",
    "    # run 1\n",
    "    df = pd.read_csv(save_path + 'run1_app_survey_results.csv')\n",
    "if run_num ==2:\n",
    "    # run 2\n",
    "    df = pd.read_csv(save_path + 'run2_app_survey_results.csv')\n",
    "    \n",
    "# Convert the date column back to datetime.date\n",
    "df['trial_date'] = pd.to_datetime(df['trial_date']).dt.date"
   ]
  },
  {
   "cell_type": "code",
   "execution_count": 132,
   "metadata": {},
   "outputs": [],
   "source": [
    "task_motivation = df.loc[df.ResultIdentifier.str.contains('task_motivation')].reset_index(drop=True)"
   ]
  },
  {
   "cell_type": "markdown",
   "metadata": {},
   "source": [
    "#### Format Data"
   ]
  },
  {
   "cell_type": "code",
   "execution_count": 133,
   "metadata": {},
   "outputs": [],
   "source": [
    "task_motivation = task_motivation[['ParticipantIdentifier', 'trial_date', 'time', 'Answers']]"
   ]
  },
  {
   "cell_type": "code",
   "execution_count": 134,
   "metadata": {},
   "outputs": [
    {
     "data": {
      "text/plain": [
       "(4296, 4)"
      ]
     },
     "execution_count": 134,
     "metadata": {},
     "output_type": "execute_result"
    }
   ],
   "source": [
    "task_motivation.shape"
   ]
  },
  {
   "cell_type": "code",
   "execution_count": 135,
   "metadata": {},
   "outputs": [],
   "source": [
    "new_cols = [\n",
    "    'ParticipantIdentifier',\n",
    "    'trial_date',\n",
    "    'task_motivation_time',\n",
    "    'task_motivation_level'\n",
    "]"
   ]
  },
  {
   "cell_type": "code",
   "execution_count": 136,
   "metadata": {},
   "outputs": [
    {
     "data": {
      "text/html": [
       "<div>\n",
       "<style scoped>\n",
       "    .dataframe tbody tr th:only-of-type {\n",
       "        vertical-align: middle;\n",
       "    }\n",
       "\n",
       "    .dataframe tbody tr th {\n",
       "        vertical-align: top;\n",
       "    }\n",
       "\n",
       "    .dataframe thead th {\n",
       "        text-align: right;\n",
       "    }\n",
       "</style>\n",
       "<table border=\"1\" class=\"dataframe\">\n",
       "  <thead>\n",
       "    <tr style=\"text-align: right;\">\n",
       "      <th></th>\n",
       "      <th>ParticipantIdentifier</th>\n",
       "      <th>trial_date</th>\n",
       "      <th>task_motivation_time</th>\n",
       "      <th>task_motivation_level</th>\n",
       "    </tr>\n",
       "  </thead>\n",
       "  <tbody>\n",
       "    <tr>\n",
       "      <th>0</th>\n",
       "      <td>6b827de8-fe47-4007-aad3-202655b954e3</td>\n",
       "      <td>2022-10-24</td>\n",
       "      <td>07:09:39</td>\n",
       "      <td>6</td>\n",
       "    </tr>\n",
       "    <tr>\n",
       "      <th>1</th>\n",
       "      <td>a33e1d38-6ee8-4da6-993b-a94a8ae7fc30</td>\n",
       "      <td>2022-10-24</td>\n",
       "      <td>08:01:46</td>\n",
       "      <td>8</td>\n",
       "    </tr>\n",
       "  </tbody>\n",
       "</table>\n",
       "</div>"
      ],
      "text/plain": [
       "                  ParticipantIdentifier  trial_date task_motivation_time  \\\n",
       "0  6b827de8-fe47-4007-aad3-202655b954e3  2022-10-24             07:09:39   \n",
       "1  a33e1d38-6ee8-4da6-993b-a94a8ae7fc30  2022-10-24             08:01:46   \n",
       "\n",
       "  task_motivation_level  \n",
       "0                     6  \n",
       "1                     8  "
      ]
     },
     "execution_count": 136,
     "metadata": {},
     "output_type": "execute_result"
    }
   ],
   "source": [
    "task_motivation.columns = new_cols\n",
    "task_motivation.head(2)"
   ]
  },
  {
   "cell_type": "markdown",
   "metadata": {},
   "source": [
    "#### EDA"
   ]
  },
  {
   "cell_type": "code",
   "execution_count": 120,
   "metadata": {},
   "outputs": [
    {
     "name": "stderr",
     "output_type": "stream",
     "text": [
      "/Users/djw/Documents/pCloud_synced/Academics/Projects/2020_thesis/thesis_experiments/3_experiments/3_3_experience_sampling/.venv/lib/python3.11/site-packages/ydata_profiling/utils/dataframe.py:137: SettingWithCopyWarning: \n",
      "A value is trying to be set on a copy of a slice from a DataFrame\n",
      "\n",
      "See the caveats in the documentation: https://pandas.pydata.org/pandas-docs/stable/user_guide/indexing.html#returning-a-view-versus-a-copy\n",
      "  df.rename(columns={\"index\": \"df_index\"}, inplace=True)\n"
     ]
    },
    {
     "data": {
      "application/vnd.jupyter.widget-view+json": {
       "model_id": "bcd571feed1b45998650262fc61a1886",
       "version_major": 2,
       "version_minor": 0
      },
      "text/plain": [
       "Summarize dataset:   0%|          | 0/5 [00:00<?, ?it/s]"
      ]
     },
     "metadata": {},
     "output_type": "display_data"
    },
    {
     "data": {
      "application/vnd.jupyter.widget-view+json": {
       "model_id": "75c71910e5fd48f0a4d3decfb15f32ee",
       "version_major": 2,
       "version_minor": 0
      },
      "text/plain": [
       "Generate report structure:   0%|          | 0/1 [00:00<?, ?it/s]"
      ]
     },
     "metadata": {},
     "output_type": "display_data"
    },
    {
     "data": {
      "application/vnd.jupyter.widget-view+json": {
       "model_id": "03bd9dea040b4277899e515212ad3932",
       "version_major": 2,
       "version_minor": 0
      },
      "text/plain": [
       "Render HTML:   0%|          | 0/1 [00:00<?, ?it/s]"
      ]
     },
     "metadata": {},
     "output_type": "display_data"
    },
    {
     "data": {
      "application/vnd.jupyter.widget-view+json": {
       "model_id": "0b1a2ab38fe046549c2cc9f1b38c372c",
       "version_major": 2,
       "version_minor": 0
      },
      "text/plain": [
       "Export report to file:   0%|          | 0/1 [00:00<?, ?it/s]"
      ]
     },
     "metadata": {},
     "output_type": "display_data"
    }
   ],
   "source": [
    "profile = ProfileReport(task_motivation.iloc[:,2:], title=f\"Task Motivation Run {run_num} | Pandas Profiling Report\")\n",
    "profile.to_file(eda_reports_path + f\"task_motivation_run{run_num}.html\")"
   ]
  },
  {
   "cell_type": "markdown",
   "metadata": {},
   "source": [
    "### NASA TLX"
   ]
  },
  {
   "cell_type": "markdown",
   "metadata": {},
   "source": [
    "#### Load Data"
   ]
  },
  {
   "cell_type": "code",
   "execution_count": 137,
   "metadata": {},
   "outputs": [
    {
     "name": "stdout",
     "output_type": "stream",
     "text": [
      "deleted existing df\n"
     ]
    }
   ],
   "source": [
    "# erase df if it already exists\n",
    "if 'df' in globals():\n",
    "    del(df)\n",
    "    print('deleted existing df')\n",
    "\n",
    "if 'nasa_tlx' in globals():\n",
    "    del(nasa_tlx)\n",
    "    print('deleted nasa_tlx')"
   ]
  },
  {
   "cell_type": "code",
   "execution_count": 138,
   "metadata": {},
   "outputs": [],
   "source": [
    "if run_num ==1:\n",
    "    # run 1\n",
    "    df = pd.read_csv(save_path + 'run1_app_survey_results.csv')\n",
    "if run_num ==2:\n",
    "    # run 2\n",
    "    df = pd.read_csv(save_path + 'run2_app_survey_results.csv')\n",
    "    \n",
    "# Convert the date column back to datetime.date\n",
    "df['trial_date'] = pd.to_datetime(df['trial_date']).dt.date"
   ]
  },
  {
   "cell_type": "code",
   "execution_count": 139,
   "metadata": {},
   "outputs": [],
   "source": [
    "nasa_tlx = df.loc[df.ResultIdentifier.str.contains('nasa_')].reset_index(drop=True)"
   ]
  },
  {
   "cell_type": "markdown",
   "metadata": {},
   "source": [
    "#### Format Data"
   ]
  },
  {
   "cell_type": "code",
   "execution_count": 140,
   "metadata": {},
   "outputs": [
    {
     "data": {
      "text/html": [
       "<div>\n",
       "<style scoped>\n",
       "    .dataframe tbody tr th:only-of-type {\n",
       "        vertical-align: middle;\n",
       "    }\n",
       "\n",
       "    .dataframe tbody tr th {\n",
       "        vertical-align: top;\n",
       "    }\n",
       "\n",
       "    .dataframe thead th {\n",
       "        text-align: right;\n",
       "    }\n",
       "</style>\n",
       "<table border=\"1\" class=\"dataframe\">\n",
       "  <thead>\n",
       "    <tr style=\"text-align: right;\">\n",
       "      <th></th>\n",
       "      <th>ParticipantIdentifier</th>\n",
       "      <th>ResultIdentifier</th>\n",
       "      <th>Answers</th>\n",
       "      <th>EndDate</th>\n",
       "      <th>datetime</th>\n",
       "      <th>trial_date</th>\n",
       "      <th>time</th>\n",
       "    </tr>\n",
       "  </thead>\n",
       "  <tbody>\n",
       "    <tr>\n",
       "      <th>0</th>\n",
       "      <td>c62ae7a2-6fe6-4fd5-9b9e-93773b08d8b9</td>\n",
       "      <td>nasa_mental_demand</td>\n",
       "      <td>2</td>\n",
       "      <td>2022-10-24T07:09:03-04:00</td>\n",
       "      <td>2022-10-24 07:09:03-04:00</td>\n",
       "      <td>2022-10-24</td>\n",
       "      <td>07:09:03</td>\n",
       "    </tr>\n",
       "    <tr>\n",
       "      <th>1</th>\n",
       "      <td>c62ae7a2-6fe6-4fd5-9b9e-93773b08d8b9</td>\n",
       "      <td>nasa_temporal_demand</td>\n",
       "      <td>0</td>\n",
       "      <td>2022-10-24T07:09:04-04:00</td>\n",
       "      <td>2022-10-24 07:09:04-04:00</td>\n",
       "      <td>2022-10-24</td>\n",
       "      <td>07:09:04</td>\n",
       "    </tr>\n",
       "    <tr>\n",
       "      <th>2</th>\n",
       "      <td>c62ae7a2-6fe6-4fd5-9b9e-93773b08d8b9</td>\n",
       "      <td>nasa_performance</td>\n",
       "      <td>17</td>\n",
       "      <td>2022-10-24T07:09:06-04:00</td>\n",
       "      <td>2022-10-24 07:09:06-04:00</td>\n",
       "      <td>2022-10-24</td>\n",
       "      <td>07:09:06</td>\n",
       "    </tr>\n",
       "    <tr>\n",
       "      <th>3</th>\n",
       "      <td>c62ae7a2-6fe6-4fd5-9b9e-93773b08d8b9</td>\n",
       "      <td>nasa_effort</td>\n",
       "      <td>2</td>\n",
       "      <td>2022-10-24T07:09:10-04:00</td>\n",
       "      <td>2022-10-24 07:09:10-04:00</td>\n",
       "      <td>2022-10-24</td>\n",
       "      <td>07:09:10</td>\n",
       "    </tr>\n",
       "    <tr>\n",
       "      <th>4</th>\n",
       "      <td>c62ae7a2-6fe6-4fd5-9b9e-93773b08d8b9</td>\n",
       "      <td>nasa_frustration</td>\n",
       "      <td>0</td>\n",
       "      <td>2022-10-24T07:09:12-04:00</td>\n",
       "      <td>2022-10-24 07:09:12-04:00</td>\n",
       "      <td>2022-10-24</td>\n",
       "      <td>07:09:12</td>\n",
       "    </tr>\n",
       "  </tbody>\n",
       "</table>\n",
       "</div>"
      ],
      "text/plain": [
       "                  ParticipantIdentifier      ResultIdentifier Answers  \\\n",
       "0  c62ae7a2-6fe6-4fd5-9b9e-93773b08d8b9    nasa_mental_demand       2   \n",
       "1  c62ae7a2-6fe6-4fd5-9b9e-93773b08d8b9  nasa_temporal_demand       0   \n",
       "2  c62ae7a2-6fe6-4fd5-9b9e-93773b08d8b9      nasa_performance      17   \n",
       "3  c62ae7a2-6fe6-4fd5-9b9e-93773b08d8b9           nasa_effort       2   \n",
       "4  c62ae7a2-6fe6-4fd5-9b9e-93773b08d8b9      nasa_frustration       0   \n",
       "\n",
       "                     EndDate                   datetime  trial_date      time  \n",
       "0  2022-10-24T07:09:03-04:00  2022-10-24 07:09:03-04:00  2022-10-24  07:09:03  \n",
       "1  2022-10-24T07:09:04-04:00  2022-10-24 07:09:04-04:00  2022-10-24  07:09:04  \n",
       "2  2022-10-24T07:09:06-04:00  2022-10-24 07:09:06-04:00  2022-10-24  07:09:06  \n",
       "3  2022-10-24T07:09:10-04:00  2022-10-24 07:09:10-04:00  2022-10-24  07:09:10  \n",
       "4  2022-10-24T07:09:12-04:00  2022-10-24 07:09:12-04:00  2022-10-24  07:09:12  "
      ]
     },
     "execution_count": 140,
     "metadata": {},
     "output_type": "execute_result"
    }
   ],
   "source": [
    "nasa_tlx.head()"
   ]
  },
  {
   "cell_type": "code",
   "execution_count": 141,
   "metadata": {},
   "outputs": [],
   "source": [
    "# convert to wide\n",
    "nasa_tlx = nasa_tlx.pivot_table(index = ['ParticipantIdentifier', 'trial_date'],\n",
    "                         columns = 'ResultIdentifier',\n",
    "                         values = 'Answers').reset_index()\n",
    "\n",
    "# remove index name\n",
    "nasa_tlx = nasa_tlx.rename_axis(None, axis=1)"
   ]
  },
  {
   "cell_type": "code",
   "execution_count": 142,
   "metadata": {},
   "outputs": [
    {
     "data": {
      "text/plain": [
       "['task_nasa_distraction',\n",
       " 'task_nasa_effort',\n",
       " 'task_nasa_frustration',\n",
       " 'task_nasa_luck',\n",
       " 'task_nasa_mental_demand',\n",
       " 'task_nasa_performance',\n",
       " 'task_nasa_temporal_demand']"
      ]
     },
     "execution_count": 142,
     "metadata": {},
     "output_type": "execute_result"
    }
   ],
   "source": [
    "# tweak column names\n",
    "list(nasa_tlx.iloc[:, 2:].add_prefix('task_').columns)"
   ]
  },
  {
   "cell_type": "code",
   "execution_count": 143,
   "metadata": {},
   "outputs": [],
   "source": [
    "new_cols = [\n",
    "    'ParticipantIdentifier',\n",
    "    'trial_date',\n",
    "    'task_nasa_distraction',\n",
    "    'task_nasa_effort',\n",
    "    'task_nasa_frustration',\n",
    "    'task_nasa_luck',\n",
    "    'task_nasa_mental_demand',\n",
    "    'task_nasa_performance',\n",
    "    'task_nasa_temporal_demand'\n",
    "]"
   ]
  },
  {
   "cell_type": "code",
   "execution_count": 144,
   "metadata": {},
   "outputs": [
    {
     "data": {
      "text/html": [
       "<div>\n",
       "<style scoped>\n",
       "    .dataframe tbody tr th:only-of-type {\n",
       "        vertical-align: middle;\n",
       "    }\n",
       "\n",
       "    .dataframe tbody tr th {\n",
       "        vertical-align: top;\n",
       "    }\n",
       "\n",
       "    .dataframe thead th {\n",
       "        text-align: right;\n",
       "    }\n",
       "</style>\n",
       "<table border=\"1\" class=\"dataframe\">\n",
       "  <thead>\n",
       "    <tr style=\"text-align: right;\">\n",
       "      <th></th>\n",
       "      <th>ParticipantIdentifier</th>\n",
       "      <th>trial_date</th>\n",
       "      <th>task_nasa_distraction</th>\n",
       "      <th>task_nasa_effort</th>\n",
       "      <th>task_nasa_frustration</th>\n",
       "      <th>task_nasa_luck</th>\n",
       "      <th>task_nasa_mental_demand</th>\n",
       "      <th>task_nasa_performance</th>\n",
       "      <th>task_nasa_temporal_demand</th>\n",
       "    </tr>\n",
       "  </thead>\n",
       "  <tbody>\n",
       "    <tr>\n",
       "      <th>0</th>\n",
       "      <td>0501ba67-3406-4779-aff1-878a0e9f7885</td>\n",
       "      <td>2022-10-01</td>\n",
       "      <td>6.0</td>\n",
       "      <td>18.0</td>\n",
       "      <td>6.0</td>\n",
       "      <td>0.0</td>\n",
       "      <td>14.0</td>\n",
       "      <td>15.0</td>\n",
       "      <td>7.0</td>\n",
       "    </tr>\n",
       "    <tr>\n",
       "      <th>1</th>\n",
       "      <td>0501ba67-3406-4779-aff1-878a0e9f7885</td>\n",
       "      <td>2022-10-02</td>\n",
       "      <td>5.0</td>\n",
       "      <td>15.0</td>\n",
       "      <td>0.0</td>\n",
       "      <td>7.0</td>\n",
       "      <td>11.0</td>\n",
       "      <td>13.0</td>\n",
       "      <td>6.0</td>\n",
       "    </tr>\n",
       "  </tbody>\n",
       "</table>\n",
       "</div>"
      ],
      "text/plain": [
       "                  ParticipantIdentifier  trial_date task_nasa_distraction  \\\n",
       "0  0501ba67-3406-4779-aff1-878a0e9f7885  2022-10-01                   6.0   \n",
       "1  0501ba67-3406-4779-aff1-878a0e9f7885  2022-10-02                   5.0   \n",
       "\n",
       "  task_nasa_effort task_nasa_frustration task_nasa_luck  \\\n",
       "0             18.0                   6.0            0.0   \n",
       "1             15.0                   0.0            7.0   \n",
       "\n",
       "  task_nasa_mental_demand task_nasa_performance task_nasa_temporal_demand  \n",
       "0                    14.0                  15.0                       7.0  \n",
       "1                    11.0                  13.0                       6.0  "
      ]
     },
     "execution_count": 144,
     "metadata": {},
     "output_type": "execute_result"
    }
   ],
   "source": [
    "nasa_tlx.columns = new_cols\n",
    "\n",
    "nasa_tlx.head(2)"
   ]
  },
  {
   "cell_type": "markdown",
   "metadata": {},
   "source": [
    "#### EDA"
   ]
  },
  {
   "cell_type": "code",
   "execution_count": null,
   "metadata": {},
   "outputs": [
    {
     "name": "stderr",
     "output_type": "stream",
     "text": [
      "/Users/djw/Documents/pCloud_synced/Academics/Projects/2020_thesis/thesis_experiments/3_experiments/3_3_experience_sampling/.venv/lib/python3.11/site-packages/ydata_profiling/utils/dataframe.py:137: SettingWithCopyWarning: \n",
      "A value is trying to be set on a copy of a slice from a DataFrame\n",
      "\n",
      "See the caveats in the documentation: https://pandas.pydata.org/pandas-docs/stable/user_guide/indexing.html#returning-a-view-versus-a-copy\n",
      "  df.rename(columns={\"index\": \"df_index\"}, inplace=True)\n"
     ]
    },
    {
     "data": {
      "application/vnd.jupyter.widget-view+json": {
       "model_id": "8119337d08f4459b96268de595a57922",
       "version_major": 2,
       "version_minor": 0
      },
      "text/plain": [
       "Summarize dataset:   0%|          | 0/5 [00:00<?, ?it/s]"
      ]
     },
     "metadata": {},
     "output_type": "display_data"
    },
    {
     "data": {
      "application/vnd.jupyter.widget-view+json": {
       "model_id": "6396ea300fe74425993cf2e41219c0b2",
       "version_major": 2,
       "version_minor": 0
      },
      "text/plain": [
       "Generate report structure:   0%|          | 0/1 [00:00<?, ?it/s]"
      ]
     },
     "metadata": {},
     "output_type": "display_data"
    },
    {
     "data": {
      "application/vnd.jupyter.widget-view+json": {
       "model_id": "b71fb1cc05fc442c90b66b4dba4272e7",
       "version_major": 2,
       "version_minor": 0
      },
      "text/plain": [
       "Render HTML:   0%|          | 0/1 [00:00<?, ?it/s]"
      ]
     },
     "metadata": {},
     "output_type": "display_data"
    },
    {
     "data": {
      "application/vnd.jupyter.widget-view+json": {
       "model_id": "0df09aedf83a465eb0f49db4b80ee335",
       "version_major": 2,
       "version_minor": 0
      },
      "text/plain": [
       "Export report to file:   0%|          | 0/1 [00:00<?, ?it/s]"
      ]
     },
     "metadata": {},
     "output_type": "display_data"
    }
   ],
   "source": [
    "profile = ProfileReport(nasa_tlx.iloc[:,2:], title=f\"NASA TLX Run {run_num} | Pandas Profiling Report\")\n",
    "profile.to_file(eda_reports_path + f\"NASA_tlx_run{run_num}.html\")"
   ]
  },
  {
   "cell_type": "markdown",
   "metadata": {},
   "source": [
    "#### Clean\n",
    "\n",
    "There are maximimum values over 600 which doesn't make sense since the max is 20"
   ]
  },
  {
   "cell_type": "code",
   "execution_count": 145,
   "metadata": {},
   "outputs": [],
   "source": [
    "nasa_tlx.to_csv('nasa.csv', index=False)"
   ]
  },
  {
   "cell_type": "code",
   "execution_count": 146,
   "metadata": {},
   "outputs": [],
   "source": [
    "# Replace values greater than 20 in numeric columns with NaN\n",
    "nasa_tlx.iloc[:,2:] = nasa_tlx.iloc[:,2:].where(lambda x: x <= 20, other=pd.NA)\n"
   ]
  },
  {
   "cell_type": "code",
   "execution_count": null,
   "metadata": {},
   "outputs": [
    {
     "name": "stderr",
     "output_type": "stream",
     "text": [
      "/Users/djw/Documents/pCloud_synced/Academics/Projects/2020_thesis/thesis_experiments/3_experiments/3_3_experience_sampling/.venv/lib/python3.11/site-packages/ydata_profiling/utils/dataframe.py:137: SettingWithCopyWarning: \n",
      "A value is trying to be set on a copy of a slice from a DataFrame\n",
      "\n",
      "See the caveats in the documentation: https://pandas.pydata.org/pandas-docs/stable/user_guide/indexing.html#returning-a-view-versus-a-copy\n",
      "  df.rename(columns={\"index\": \"df_index\"}, inplace=True)\n"
     ]
    },
    {
     "data": {
      "application/vnd.jupyter.widget-view+json": {
       "model_id": "244402d6696f44a88e3673ed7457e513",
       "version_major": 2,
       "version_minor": 0
      },
      "text/plain": [
       "Summarize dataset:   0%|          | 0/5 [00:00<?, ?it/s]"
      ]
     },
     "metadata": {},
     "output_type": "display_data"
    },
    {
     "data": {
      "application/vnd.jupyter.widget-view+json": {
       "model_id": "7d2ab5014fa34706a55c2e0b8f434dd0",
       "version_major": 2,
       "version_minor": 0
      },
      "text/plain": [
       "Generate report structure:   0%|          | 0/1 [00:00<?, ?it/s]"
      ]
     },
     "metadata": {},
     "output_type": "display_data"
    },
    {
     "data": {
      "application/vnd.jupyter.widget-view+json": {
       "model_id": "2ffd2af3a3434df98a8e90e3dd9ab39c",
       "version_major": 2,
       "version_minor": 0
      },
      "text/plain": [
       "Render HTML:   0%|          | 0/1 [00:00<?, ?it/s]"
      ]
     },
     "metadata": {},
     "output_type": "display_data"
    },
    {
     "data": {
      "application/vnd.jupyter.widget-view+json": {
       "model_id": "0afdf9b9e005437998248a98ea32e680",
       "version_major": 2,
       "version_minor": 0
      },
      "text/plain": [
       "Export report to file:   0%|          | 0/1 [00:00<?, ?it/s]"
      ]
     },
     "metadata": {},
     "output_type": "display_data"
    }
   ],
   "source": [
    "# rerun EDA\n",
    "profile = ProfileReport(nasa_tlx.iloc[:,2:], title=f\"NASA TLX Run {run_num} - Clean | Pandas Profiling Report\")\n",
    "profile.to_file(eda_reports_path + f\"NASA_tlx_run{run_num}_clean.html\")"
   ]
  },
  {
   "cell_type": "markdown",
   "metadata": {},
   "source": [
    "### Join Custom Tasks"
   ]
  },
  {
   "cell_type": "code",
   "execution_count": 147,
   "metadata": {},
   "outputs": [
    {
     "data": {
      "text/plain": [
       "(3823, 8)"
      ]
     },
     "execution_count": 147,
     "metadata": {},
     "output_type": "execute_result"
    }
   ],
   "source": [
    "gng_df.shape"
   ]
  },
  {
   "cell_type": "code",
   "execution_count": 148,
   "metadata": {},
   "outputs": [
    {
     "data": {
      "text/plain": [
       "(3937, 18)"
      ]
     },
     "execution_count": 148,
     "metadata": {},
     "output_type": "execute_result"
    }
   ],
   "source": [
    "nback_df.shape"
   ]
  },
  {
   "cell_type": "code",
   "execution_count": 149,
   "metadata": {},
   "outputs": [
    {
     "data": {
      "text/plain": [
       "(4105, 7)"
      ]
     },
     "execution_count": 149,
     "metadata": {},
     "output_type": "execute_result"
    }
   ],
   "source": [
    "bart_df.shape"
   ]
  },
  {
   "cell_type": "code",
   "execution_count": 150,
   "metadata": {},
   "outputs": [
    {
     "data": {
      "text/plain": [
       "(3087, 6)"
      ]
     },
     "execution_count": 150,
     "metadata": {},
     "output_type": "execute_result"
    }
   ],
   "source": [
    "emoStroop_df.shape"
   ]
  },
  {
   "cell_type": "code",
   "execution_count": 151,
   "metadata": {},
   "outputs": [
    {
     "data": {
      "text/plain": [
       "(4296, 4)"
      ]
     },
     "execution_count": 151,
     "metadata": {},
     "output_type": "execute_result"
    }
   ],
   "source": [
    "task_motivation.shape"
   ]
  },
  {
   "cell_type": "code",
   "execution_count": 152,
   "metadata": {},
   "outputs": [
    {
     "data": {
      "text/plain": [
       "(4095, 9)"
      ]
     },
     "execution_count": 152,
     "metadata": {},
     "output_type": "execute_result"
    }
   ],
   "source": [
    "nasa_tlx.shape"
   ]
  },
  {
   "cell_type": "code",
   "execution_count": 153,
   "metadata": {},
   "outputs": [],
   "source": [
    "# Create df with one participant ID for every trial_date\n",
    "\n",
    "# Create a series of dates from '2022-09-27' to '2022-12-20'\n",
    "if run_num == 1:\n",
    "    date_series = pd.date_range(start='2022-09-27', end='2022-12-20')\n",
    "elif run_num == 2:\n",
    "    date_series = pd.date_range(start='2023-01-30', end='2023-04-24')\n",
    "\n",
    "ids_series = subjects\n",
    "\n",
    "# Create a dataframe using a cartesian product of the two series\n",
    "df_complete_idDate = pd.DataFrame({\n",
    "    'ParticipantIdentifier': np.repeat(ids_series, len(date_series)),\n",
    "    'trial_date': date_series.tolist() * len(ids_series)\n",
    "}).reset_index(drop=True)\n",
    "\n",
    "# Convert trial_date to datetime.date\n",
    "df_complete_idDate['trial_date'] = pd.to_datetime(df_complete_idDate['trial_date']).dt.date\n",
    "df_daily_affect_wide['trial_date'] = pd.to_datetime(df_daily_affect_wide['trial_date']).dt.date\n",
    "\n",
    "# Join with affect df\n",
    "df_complete = df_complete_idDate.merge(df_daily_affect_wide, how='left', on=['ParticipantIdentifier', 'trial_date'])"
   ]
  },
  {
   "cell_type": "code",
   "execution_count": 154,
   "metadata": {},
   "outputs": [],
   "source": [
    "# Join app self report\n",
    "df_complete = df_complete.merge(df_daily_sr_wide, how='left', on=['ParticipantIdentifier', 'trial_date'] )\n",
    "\n",
    "if run_num == 2:\n",
    "    # Join social support weekly\n",
    "    df_complete = df_complete.merge(ss_df, how='left', on=['ParticipantIdentifier', 'trial_date'] )\n",
    "\n",
    "    # join social support daily\n",
    "    df_complete = df_complete.merge(df_daily_ss_wide, how='left', on=['ParticipantIdentifier', 'trial_date'] )\n",
    "\n",
    "    # Join food task\n",
    "    df_complete = df_complete.merge(food_df_wide, how='left', on=['ParticipantIdentifier', 'trial_date'] )\n",
    "\n",
    "# Join motivation\n",
    "df_complete = df_complete.merge(task_motivation, how='left', on=['ParticipantIdentifier', 'trial_date'] )\n",
    "# Motivation had a number of duplicate entries where there were two entries on the same day a few seconds apart\n",
    "df_complete = df_complete.drop_duplicates(subset=['ParticipantIdentifier', 'trial_date'], keep='last')\n",
    "\n",
    "# Join gng\n",
    "df_complete = df_complete.merge(gng_df, how='left', on=['ParticipantIdentifier', 'trial_date'] )"
   ]
  },
  {
   "cell_type": "code",
   "execution_count": 155,
   "metadata": {},
   "outputs": [],
   "source": [
    "df_complete = df_complete.merge(bart_df, how='left', on=['ParticipantIdentifier', 'trial_date'])\n",
    "df_complete = df_complete.merge(emoStroop_df, how='left', on=['ParticipantIdentifier', 'trial_date'])\n",
    "df_complete = df_complete.merge(nback_df, how='left', on=['ParticipantIdentifier', 'trial_date'])\n",
    "df_complete = df_complete.merge(nasa_tlx, how='left', on=['ParticipantIdentifier', 'trial_date'])\n",
    "\n",
    "# remove duplicates\n",
    "df_complete = df_complete.drop_duplicates(subset=['ParticipantIdentifier', 'trial_date'], keep='last')\n",
    "\n",
    "# remove data outliers\n",
    "if run_num == 2:\n",
    "    df_complete = df_complete.loc[df_complete['trial_date']>= datetime.date(2023, 1, 30)]"
   ]
  },
  {
   "cell_type": "code",
   "execution_count": 156,
   "metadata": {},
   "outputs": [
    {
     "data": {
      "text/html": [
       "<div>\n",
       "<style scoped>\n",
       "    .dataframe tbody tr th:only-of-type {\n",
       "        vertical-align: middle;\n",
       "    }\n",
       "\n",
       "    .dataframe tbody tr th {\n",
       "        vertical-align: top;\n",
       "    }\n",
       "\n",
       "    .dataframe thead th {\n",
       "        text-align: right;\n",
       "    }\n",
       "</style>\n",
       "<table border=\"1\" class=\"dataframe\">\n",
       "  <thead>\n",
       "    <tr style=\"text-align: right;\">\n",
       "      <th></th>\n",
       "      <th>ParticipantIdentifier</th>\n",
       "      <th>trial_date</th>\n",
       "      <th>affect_neg_angry</th>\n",
       "      <th>affect_neg_ashamed</th>\n",
       "      <th>affect_neg_bored</th>\n",
       "      <th>affect_neg_depressed</th>\n",
       "      <th>affect_neg_embarrassed</th>\n",
       "      <th>affect_neg_frustrated</th>\n",
       "      <th>affect_neg_guilty</th>\n",
       "      <th>affect_neg_lazy</th>\n",
       "      <th>...</th>\n",
       "      <th>task_nback_F1</th>\n",
       "      <th>task_nback_MCC</th>\n",
       "      <th>task_nback_bias</th>\n",
       "      <th>task_nasa_distraction</th>\n",
       "      <th>task_nasa_effort</th>\n",
       "      <th>task_nasa_frustration</th>\n",
       "      <th>task_nasa_luck</th>\n",
       "      <th>task_nasa_mental_demand</th>\n",
       "      <th>task_nasa_performance</th>\n",
       "      <th>task_nasa_temporal_demand</th>\n",
       "    </tr>\n",
       "  </thead>\n",
       "  <tbody>\n",
       "    <tr>\n",
       "      <th>0</th>\n",
       "      <td>d92cdaf1-cc3e-4408-bcdf-7be602cc5c3b</td>\n",
       "      <td>2022-09-27</td>\n",
       "      <td>3.0</td>\n",
       "      <td>3.0</td>\n",
       "      <td>1.0</td>\n",
       "      <td>5.0</td>\n",
       "      <td>5.0</td>\n",
       "      <td>2.0</td>\n",
       "      <td>4.0</td>\n",
       "      <td>5.0</td>\n",
       "      <td>...</td>\n",
       "      <td>0.666667</td>\n",
       "      <td>0.527102</td>\n",
       "      <td>0.310441</td>\n",
       "      <td>4.0</td>\n",
       "      <td>11.0</td>\n",
       "      <td>9.0</td>\n",
       "      <td>5.0</td>\n",
       "      <td>15.0</td>\n",
       "      <td>5.0</td>\n",
       "      <td>10.0</td>\n",
       "    </tr>\n",
       "    <tr>\n",
       "      <th>1</th>\n",
       "      <td>d92cdaf1-cc3e-4408-bcdf-7be602cc5c3b</td>\n",
       "      <td>2022-09-28</td>\n",
       "      <td>1.0</td>\n",
       "      <td>4.0</td>\n",
       "      <td>1.0</td>\n",
       "      <td>5.0</td>\n",
       "      <td>1.0</td>\n",
       "      <td>3.0</td>\n",
       "      <td>1.0</td>\n",
       "      <td>5.0</td>\n",
       "      <td>...</td>\n",
       "      <td>0.857143</td>\n",
       "      <td>0.801587</td>\n",
       "      <td>0.262824</td>\n",
       "      <td>8.0</td>\n",
       "      <td>11.0</td>\n",
       "      <td>12.0</td>\n",
       "      <td>12.0</td>\n",
       "      <td>19.0</td>\n",
       "      <td>9.0</td>\n",
       "      <td>11.0</td>\n",
       "    </tr>\n",
       "  </tbody>\n",
       "</table>\n",
       "<p>2 rows × 169 columns</p>\n",
       "</div>"
      ],
      "text/plain": [
       "                  ParticipantIdentifier  trial_date affect_neg_angry  \\\n",
       "0  d92cdaf1-cc3e-4408-bcdf-7be602cc5c3b  2022-09-27              3.0   \n",
       "1  d92cdaf1-cc3e-4408-bcdf-7be602cc5c3b  2022-09-28              1.0   \n",
       "\n",
       "  affect_neg_ashamed affect_neg_bored affect_neg_depressed  \\\n",
       "0                3.0              1.0                  5.0   \n",
       "1                4.0              1.0                  5.0   \n",
       "\n",
       "  affect_neg_embarrassed affect_neg_frustrated affect_neg_guilty  \\\n",
       "0                    5.0                   2.0               4.0   \n",
       "1                    1.0                   3.0               1.0   \n",
       "\n",
       "  affect_neg_lazy  ... task_nback_F1 task_nback_MCC task_nback_bias  \\\n",
       "0             5.0  ...      0.666667       0.527102        0.310441   \n",
       "1             5.0  ...      0.857143       0.801587        0.262824   \n",
       "\n",
       "  task_nasa_distraction task_nasa_effort task_nasa_frustration task_nasa_luck  \\\n",
       "0                   4.0             11.0                   9.0            5.0   \n",
       "1                   8.0             11.0                  12.0           12.0   \n",
       "\n",
       "  task_nasa_mental_demand task_nasa_performance task_nasa_temporal_demand  \n",
       "0                    15.0                   5.0                      10.0  \n",
       "1                    19.0                   9.0                      11.0  \n",
       "\n",
       "[2 rows x 169 columns]"
      ]
     },
     "execution_count": 156,
     "metadata": {},
     "output_type": "execute_result"
    }
   ],
   "source": [
    "df_complete.head(2)"
   ]
  },
  {
   "cell_type": "markdown",
   "metadata": {},
   "source": [
    "## HK Tasks"
   ]
  },
  {
   "cell_type": "markdown",
   "metadata": {},
   "source": [
    "### Trail Making"
   ]
  },
  {
   "cell_type": "markdown",
   "metadata": {},
   "source": [
    "[RKStudio Documentation](https://rkstudio-support.careevolution.com/hc/en-us/articles/1500002201361-Trailmaking-Active-Task-Export-Format)"
   ]
  },
  {
   "cell_type": "markdown",
   "metadata": {},
   "source": [
    "What is trailmaking task really measuring?\n",
    "\n",
    ">The Trail Making Test is a neuropsychological test of visual attention and task switching. It consists of two parts in which the subject is instructed to connect a set of 25 dots as quickly as possible while still maintaining accuracy. The test can provide information about visual search speed, scanning, speed of processing, mental flexibility, as well as executive functioning.[[1](https://doi.apa.org/doiLanding?doi=10.1037%2F1040-3590.7.2.220)]\n",
    "\n",
    "- visual attention\n",
    "- task switching\n",
    "- fluid intelligence/cognitive abilities\n",
    "\n",
    "**Reference**\n",
    "\n",
    "[1] [Salthouse, 2011](https://www.ncbi.nlm.nih.gov/pmc/articles/PMC3141679/)"
   ]
  },
  {
   "cell_type": "markdown",
   "metadata": {},
   "source": [
    "<div class=\"alert alert-block alert-warning\">\n",
    "<b>Note:</b><br>\n",
    "<ul> \n",
    "    <li>We are using fewer \"dots\" (12)</li>\n",
    "    <li>We are using both a number only and a letter/number version (e.g. 1-A-2-B-3-C...).</li>\n",
    "<ul>\n",
    "</div>"
   ]
  },
  {
   "cell_type": "code",
   "execution_count": 175,
   "metadata": {},
   "outputs": [
    {
     "name": "stdout",
     "output_type": "stream",
     "text": [
      "deleted existing df\n"
     ]
    }
   ],
   "source": [
    "# erase df if it already exists\n",
    "if 'df' in globals():\n",
    "    del(df)\n",
    "    print('deleted existing df')\n",
    "\n",
    "if 'trailmaking_df' in globals():\n",
    "    del(trailmaking_df)\n",
    "    print('deleted trailmaking_df')"
   ]
  },
  {
   "cell_type": "code",
   "execution_count": 176,
   "metadata": {},
   "outputs": [
    {
     "name": "stdout",
     "output_type": "stream",
     "text": [
      "Loading cohort 1...\n"
     ]
    }
   ],
   "source": [
    "print(f'Loading cohort {run_num}...')"
   ]
  },
  {
   "cell_type": "code",
   "execution_count": 177,
   "metadata": {},
   "outputs": [
    {
     "name": "stderr",
     "output_type": "stream",
     "text": [
      " 10%|█         | 9/87 [00:00<00:00, 86.31it/s]"
     ]
    },
    {
     "name": "stderr",
     "output_type": "stream",
     "text": [
      "100%|██████████| 87/87 [00:00<00:00, 87.04it/s]\n"
     ]
    }
   ],
   "source": [
    "# loop through all days\n",
    "days = [i for i in os.listdir(path) if i.startswith('RK')]\n",
    "days.sort()\n",
    "for day in tqdm(days):\n",
    "    files = os.listdir(path + day)\n",
    "    surveyQuestions = [i for i in files if i.startswith('SurveyTrailmakingResults')]\n",
    "    versionInfo = [i for i in files if i.startswith('SurveyResults')]\n",
    "    # there should be only one\n",
    "    for file in surveyQuestions:\n",
    "        if 'df' not in globals():\n",
    "            df = pd.read_csv(path + day + '/' + file)\n",
    "            df_version = pd.read_csv(path + day + '/' + versionInfo[0])\n",
    "        else:\n",
    "            temp_df = pd.read_csv(path + day + '/' + file)\n",
    "            temp_df_version = pd.read_csv(path + day + '/' + versionInfo[0])\n",
    "            df = pd.concat([df,temp_df], axis=0)\n",
    "            df_version = pd.concat([df_version,temp_df_version], axis=0)"
   ]
  },
  {
   "cell_type": "code",
   "execution_count": 178,
   "metadata": {},
   "outputs": [],
   "source": [
    "# Identify the numeric and alphanumeric versions\n",
    "df_version = df_version[['SurveyResultKey', 'SurveyName']]\n",
    "df_version = df_version.loc[df_version.SurveyName.str.contains('_trail')][['SurveyResultKey', 'SurveyName']]\n",
    "df = pd.merge(df, df_version, how='left', on='SurveyResultKey')\n",
    "\n",
    "# rename SurveyName\n",
    "d = {'task_hk_trail_making': 'task_hk_trailmaking_alphaNumeric', 'task_hk_trailmaking_a1': 'task_hk_trailmaking_numeric'}\n",
    "\n",
    "df = df.replace({\"SurveyName\": d})\n",
    "\n",
    "df = df.dropna(subset=['EndDate']).reset_index(drop=True)"
   ]
  },
  {
   "cell_type": "code",
   "execution_count": 179,
   "metadata": {},
   "outputs": [],
   "source": [
    "# Select subjects from correct run\n",
    "df = df.loc[df.ParticipantIdentifier.isin(subjects)].reset_index(drop=True)"
   ]
  },
  {
   "cell_type": "code",
   "execution_count": 180,
   "metadata": {},
   "outputs": [
    {
     "name": "stderr",
     "output_type": "stream",
     "text": [
      "100%|██████████| 8384/8384 [00:00<00:00, 9582.09it/s]\n"
     ]
    }
   ],
   "source": [
    "# add trial date and time columns\n",
    "for i in tqdm(range(df.shape[0])):\n",
    "    dt = parser.parse(df.loc[i, 'EndDate'])\n",
    "    df.loc[i, 'datetime'] = dt\n",
    "    df.loc[i, 'trial_date'] = (dt + datetime.timedelta(hours = -4)).date() # trial day associated with sample (4am is when the day flips)\n",
    "    df.loc[i, 'time'] = dt.time()"
   ]
  },
  {
   "cell_type": "code",
   "execution_count": 181,
   "metadata": {},
   "outputs": [
    {
     "data": {
      "text/html": [
       "<div>\n",
       "<style scoped>\n",
       "    .dataframe tbody tr th:only-of-type {\n",
       "        vertical-align: middle;\n",
       "    }\n",
       "\n",
       "    .dataframe tbody tr th {\n",
       "        vertical-align: top;\n",
       "    }\n",
       "\n",
       "    .dataframe thead th {\n",
       "        text-align: right;\n",
       "    }\n",
       "</style>\n",
       "<table border=\"1\" class=\"dataframe\">\n",
       "  <thead>\n",
       "    <tr style=\"text-align: right;\">\n",
       "      <th></th>\n",
       "      <th>SurveyTrailmakingResultKey</th>\n",
       "      <th>SurveyStepResultKey</th>\n",
       "      <th>SurveyResultKey</th>\n",
       "      <th>ParticipantIdentifier</th>\n",
       "      <th>NumberOfErrors</th>\n",
       "      <th>StartDate</th>\n",
       "      <th>EndDate</th>\n",
       "      <th>Taps</th>\n",
       "      <th>SurveyName</th>\n",
       "      <th>datetime</th>\n",
       "      <th>trial_date</th>\n",
       "      <th>time</th>\n",
       "    </tr>\n",
       "  </thead>\n",
       "  <tbody>\n",
       "    <tr>\n",
       "      <th>0</th>\n",
       "      <td>0867718d-533e-ed11-aac0-0afb9334277d</td>\n",
       "      <td>e766718d-533e-ed11-aac0-0afb9334277d</td>\n",
       "      <td>c766718d-533e-ed11-aac0-0afb9334277d</td>\n",
       "      <td>2f32cd19-e9c5-4aad-8999-6f4646169ab6</td>\n",
       "      <td>0</td>\n",
       "      <td>2022-09-27T06:59:58-04:00</td>\n",
       "      <td>2022-09-27T07:00:10-04:00</td>\n",
       "      <td>[{\"TapTimestamp\":1.1142810583114624,\"TapIndex\"...</td>\n",
       "      <td>task_hk_trailmaking_numeric</td>\n",
       "      <td>2022-09-27 07:00:10-04:00</td>\n",
       "      <td>2022-09-27</td>\n",
       "      <td>07:00:10</td>\n",
       "    </tr>\n",
       "    <tr>\n",
       "      <th>1</th>\n",
       "      <td>bac0dc28-543e-ed11-aac0-0afb9334277d</td>\n",
       "      <td>a1c0dc28-543e-ed11-aac0-0afb9334277d</td>\n",
       "      <td>93c0dc28-543e-ed11-aac0-0afb9334277d</td>\n",
       "      <td>0ca43379-41b5-47fb-90ba-0a22e6bf5586</td>\n",
       "      <td>1</td>\n",
       "      <td>2022-09-27T07:04:18-04:00</td>\n",
       "      <td>2022-09-27T07:04:33-04:00</td>\n",
       "      <td>[{\"TapTimestamp\":1.8917070627212524,\"TapIndex\"...</td>\n",
       "      <td>task_hk_trailmaking_numeric</td>\n",
       "      <td>2022-09-27 07:04:33-04:00</td>\n",
       "      <td>2022-09-27</td>\n",
       "      <td>07:04:33</td>\n",
       "    </tr>\n",
       "  </tbody>\n",
       "</table>\n",
       "</div>"
      ],
      "text/plain": [
       "             SurveyTrailmakingResultKey                   SurveyStepResultKey  \\\n",
       "0  0867718d-533e-ed11-aac0-0afb9334277d  e766718d-533e-ed11-aac0-0afb9334277d   \n",
       "1  bac0dc28-543e-ed11-aac0-0afb9334277d  a1c0dc28-543e-ed11-aac0-0afb9334277d   \n",
       "\n",
       "                        SurveyResultKey                 ParticipantIdentifier  \\\n",
       "0  c766718d-533e-ed11-aac0-0afb9334277d  2f32cd19-e9c5-4aad-8999-6f4646169ab6   \n",
       "1  93c0dc28-543e-ed11-aac0-0afb9334277d  0ca43379-41b5-47fb-90ba-0a22e6bf5586   \n",
       "\n",
       "   NumberOfErrors                  StartDate                    EndDate  \\\n",
       "0               0  2022-09-27T06:59:58-04:00  2022-09-27T07:00:10-04:00   \n",
       "1               1  2022-09-27T07:04:18-04:00  2022-09-27T07:04:33-04:00   \n",
       "\n",
       "                                                Taps  \\\n",
       "0  [{\"TapTimestamp\":1.1142810583114624,\"TapIndex\"...   \n",
       "1  [{\"TapTimestamp\":1.8917070627212524,\"TapIndex\"...   \n",
       "\n",
       "                    SurveyName                   datetime  trial_date  \\\n",
       "0  task_hk_trailmaking_numeric  2022-09-27 07:00:10-04:00  2022-09-27   \n",
       "1  task_hk_trailmaking_numeric  2022-09-27 07:04:33-04:00  2022-09-27   \n",
       "\n",
       "       time  \n",
       "0  07:00:10  \n",
       "1  07:04:33  "
      ]
     },
     "execution_count": 181,
     "metadata": {},
     "output_type": "execute_result"
    }
   ],
   "source": [
    "df.head(2)"
   ]
  },
  {
   "cell_type": "markdown",
   "metadata": {},
   "source": [
    "The important data is in `Taps` where we have:\n",
    "- `TapTimestamp`\n",
    "- `TapIndex`\n",
    "- `TapIncorrect`\n",
    "\n",
    "I want to get the last `TapTimestamp` to calculate total timing"
   ]
  },
  {
   "cell_type": "code",
   "execution_count": 182,
   "metadata": {},
   "outputs": [
    {
     "data": {
      "text/plain": [
       "'[{\"TapTimestamp\":2.0672110319137573,\"TapIndex\":0,\"TapIncorrect\":false},{\"TapTimestamp\":3.3330730199813843,\"TapIndex\":1,\"TapIncorrect\":false},{\"TapTimestamp\":4.3167099952697754,\"TapIndex\":2,\"TapIncorrect\":false},{\"TapTimestamp\":6.08289897441864,\"TapIndex\":3,\"TapIncorrect\":false},{\"TapTimestamp\":6.7010899782180786,\"TapIndex\":4,\"TapIncorrect\":false},{\"TapTimestamp\":7.3834370374679565,\"TapIndex\":5,\"TapIncorrect\":false},{\"TapTimestamp\":8.11682403087616,\"TapIndex\":6,\"TapIncorrect\":false},{\"TapTimestamp\":8.8669099807739258,\"TapIndex\":7,\"TapIncorrect\":false},{\"TapTimestamp\":9.3168929815292358,\"TapIndex\":8,\"TapIncorrect\":false},{\"TapTimestamp\":9.8836699724197388,\"TapIndex\":9,\"TapIncorrect\":false},{\"TapTimestamp\":10.367033958435059,\"TapIndex\":10,\"TapIncorrect\":false},{\"TapTimestamp\":10.850473046302795,\"TapIndex\":11,\"TapIncorrect\":false},{\"TapTimestamp\":11.283805012702942,\"TapIndex\":12,\"TapIncorrect\":false}]'"
      ]
     },
     "execution_count": 182,
     "metadata": {},
     "output_type": "execute_result"
    }
   ],
   "source": [
    "# Taps is a string of a list of dictionaries\n",
    "df.Taps[250]"
   ]
  },
  {
   "cell_type": "code",
   "execution_count": 183,
   "metadata": {},
   "outputs": [
    {
     "name": "stdout",
     "output_type": "stream",
     "text": [
      "{'TapTimestamp': 11.237926006317139, 'TapIndex': 12, 'TapIncorrect': False}\n"
     ]
    },
    {
     "data": {
      "text/plain": [
       "11.237926006317139"
      ]
     },
     "execution_count": 183,
     "metadata": {},
     "output_type": "execute_result"
    }
   ],
   "source": [
    "# Can convert to list of dicts and then access an individual dict\n",
    "data = json.loads(df.Taps[0])\n",
    "print(data[-1])\n",
    "data[-1]['TapTimestamp']"
   ]
  },
  {
   "cell_type": "code",
   "execution_count": 184,
   "metadata": {},
   "outputs": [
    {
     "name": "stdout",
     "output_type": "stream",
     "text": [
      "2187\n"
     ]
    }
   ],
   "source": [
    "# convert string Taps to list of dicts\n",
    "df['TapsList'] = df['Taps'].apply(json.loads)\n",
    "\n",
    "# test if any lists are empty...\n",
    "for i in range(len(df.TapsList)):\n",
    "    if df.TapsList[i]:\n",
    "        x = df.TapsList[i][-1]['TapTimestamp']\n",
    "    else:\n",
    "        print(i)"
   ]
  },
  {
   "cell_type": "code",
   "execution_count": 185,
   "metadata": {},
   "outputs": [],
   "source": [
    "if run_num == 1:\n",
    "    # drop rows with empty lists\n",
    "    df = df.drop(df.index[[\n",
    "        2187\n",
    "        ]])\n",
    "\n",
    "if run_num == 2:\n",
    "    # drop rows with empty lists\n",
    "    df = df.drop(df.index[[\n",
    "        1667,\n",
    "        11010\n",
    "        ]])"
   ]
  },
  {
   "cell_type": "code",
   "execution_count": 186,
   "metadata": {},
   "outputs": [
    {
     "data": {
      "text/plain": [
       "(8383, 13)"
      ]
     },
     "execution_count": 186,
     "metadata": {},
     "output_type": "execute_result"
    }
   ],
   "source": [
    "df.shape"
   ]
  },
  {
   "cell_type": "code",
   "execution_count": 187,
   "metadata": {},
   "outputs": [],
   "source": [
    "# Add variance\n",
    "def variance_of_differences(taps_str):\n",
    "    # Convert string to list of dictionaries\n",
    "    taps_list = json.loads(taps_str)\n",
    "    \n",
    "    # Extract TapTimestamp values\n",
    "    timestamps = [tap['TapTimestamp'] for tap in taps_list]\n",
    "    \n",
    "    # Calculate the differences between consecutive timestamps\n",
    "    differences = np.diff(timestamps)[1:] # diff between first two taps not relevant\n",
    "    \n",
    "    # Return variance of differences\n",
    "    return np.var(differences)\n",
    "\n",
    "# Apply the function to the TapsList column\n",
    "df['variance_of_diff'] = df['Taps'].apply(variance_of_differences)"
   ]
  },
  {
   "cell_type": "code",
   "execution_count": 188,
   "metadata": {},
   "outputs": [],
   "source": [
    "# assign new columns with final value from TapsList\n",
    "# rename column\n",
    "df = df.assign(task_trailmaking_time=lambda x: x.TapsList.apply(lambda x: x[-1]['TapTimestamp'] - x[1]['TapTimestamp']),\n",
    "               task_trailmaking_errors=lambda x: x.NumberOfErrors)\n",
    "\n",
    "# keep relevant columns\n",
    "trailmaking_df = df[['ParticipantIdentifier', 'trial_date', 'time', 'SurveyName', 'task_trailmaking_time', 'task_trailmaking_errors', 'variance_of_diff']]"
   ]
  },
  {
   "cell_type": "code",
   "execution_count": 189,
   "metadata": {},
   "outputs": [],
   "source": [
    "# CLEAN DATA (see cleaning heading for detail)\n",
    "trailmaking_df = trailmaking_df.loc[(trailmaking_df['task_trailmaking_time'] < 30) & (trailmaking_df['task_trailmaking_time'] !=0) & (trailmaking_df['task_trailmaking_errors'] <=10)]"
   ]
  },
  {
   "cell_type": "code",
   "execution_count": 190,
   "metadata": {},
   "outputs": [
    {
     "data": {
      "text/html": [
       "<div>\n",
       "<style scoped>\n",
       "    .dataframe tbody tr th:only-of-type {\n",
       "        vertical-align: middle;\n",
       "    }\n",
       "\n",
       "    .dataframe tbody tr th {\n",
       "        vertical-align: top;\n",
       "    }\n",
       "\n",
       "    .dataframe thead th {\n",
       "        text-align: right;\n",
       "    }\n",
       "</style>\n",
       "<table border=\"1\" class=\"dataframe\">\n",
       "  <thead>\n",
       "    <tr style=\"text-align: right;\">\n",
       "      <th></th>\n",
       "      <th>ParticipantIdentifier</th>\n",
       "      <th>trial_date</th>\n",
       "      <th>time</th>\n",
       "      <th>SurveyName</th>\n",
       "      <th>task_trailmaking_time</th>\n",
       "      <th>task_trailmaking_errors</th>\n",
       "      <th>variance_of_diff</th>\n",
       "    </tr>\n",
       "  </thead>\n",
       "  <tbody>\n",
       "    <tr>\n",
       "      <th>0</th>\n",
       "      <td>2f32cd19-e9c5-4aad-8999-6f4646169ab6</td>\n",
       "      <td>2022-09-27</td>\n",
       "      <td>07:00:10</td>\n",
       "      <td>task_hk_trailmaking_numeric</td>\n",
       "      <td>9.556804</td>\n",
       "      <td>0</td>\n",
       "      <td>0.278111</td>\n",
       "    </tr>\n",
       "    <tr>\n",
       "      <th>1</th>\n",
       "      <td>0ca43379-41b5-47fb-90ba-0a22e6bf5586</td>\n",
       "      <td>2022-09-27</td>\n",
       "      <td>07:04:33</td>\n",
       "      <td>task_hk_trailmaking_numeric</td>\n",
       "      <td>10.499643</td>\n",
       "      <td>1</td>\n",
       "      <td>0.271957</td>\n",
       "    </tr>\n",
       "    <tr>\n",
       "      <th>3</th>\n",
       "      <td>412330b3-cc02-4030-96cd-f4cfdcc45fa6</td>\n",
       "      <td>2022-09-27</td>\n",
       "      <td>07:07:11</td>\n",
       "      <td>task_hk_trailmaking_numeric</td>\n",
       "      <td>11.782398</td>\n",
       "      <td>2</td>\n",
       "      <td>0.242148</td>\n",
       "    </tr>\n",
       "    <tr>\n",
       "      <th>4</th>\n",
       "      <td>0ca43379-41b5-47fb-90ba-0a22e6bf5586</td>\n",
       "      <td>2022-09-27</td>\n",
       "      <td>07:09:36</td>\n",
       "      <td>task_hk_trailmaking_alphaNumeric</td>\n",
       "      <td>12.533077</td>\n",
       "      <td>1</td>\n",
       "      <td>0.229768</td>\n",
       "    </tr>\n",
       "    <tr>\n",
       "      <th>5</th>\n",
       "      <td>3bb57dd9-1d69-471c-b769-b3323748bb9f</td>\n",
       "      <td>2022-09-27</td>\n",
       "      <td>07:23:09</td>\n",
       "      <td>task_hk_trailmaking_alphaNumeric</td>\n",
       "      <td>13.851104</td>\n",
       "      <td>0</td>\n",
       "      <td>0.597770</td>\n",
       "    </tr>\n",
       "  </tbody>\n",
       "</table>\n",
       "</div>"
      ],
      "text/plain": [
       "                  ParticipantIdentifier  trial_date      time  \\\n",
       "0  2f32cd19-e9c5-4aad-8999-6f4646169ab6  2022-09-27  07:00:10   \n",
       "1  0ca43379-41b5-47fb-90ba-0a22e6bf5586  2022-09-27  07:04:33   \n",
       "3  412330b3-cc02-4030-96cd-f4cfdcc45fa6  2022-09-27  07:07:11   \n",
       "4  0ca43379-41b5-47fb-90ba-0a22e6bf5586  2022-09-27  07:09:36   \n",
       "5  3bb57dd9-1d69-471c-b769-b3323748bb9f  2022-09-27  07:23:09   \n",
       "\n",
       "                         SurveyName  task_trailmaking_time  \\\n",
       "0       task_hk_trailmaking_numeric               9.556804   \n",
       "1       task_hk_trailmaking_numeric              10.499643   \n",
       "3       task_hk_trailmaking_numeric              11.782398   \n",
       "4  task_hk_trailmaking_alphaNumeric              12.533077   \n",
       "5  task_hk_trailmaking_alphaNumeric              13.851104   \n",
       "\n",
       "   task_trailmaking_errors  variance_of_diff  \n",
       "0                        0          0.278111  \n",
       "1                        1          0.271957  \n",
       "3                        2          0.242148  \n",
       "4                        1          0.229768  \n",
       "5                        0          0.597770  "
      ]
     },
     "execution_count": 190,
     "metadata": {},
     "output_type": "execute_result"
    }
   ],
   "source": [
    "trailmaking_df.head()"
   ]
  },
  {
   "cell_type": "code",
   "execution_count": 191,
   "metadata": {},
   "outputs": [],
   "source": [
    "# make wide\n",
    "trailmaking_df = trailmaking_df.pivot_table(index=['trial_date', 'ParticipantIdentifier'],\n",
    "                                            columns='SurveyName', \n",
    "                                            values=['task_trailmaking_time', 'task_trailmaking_errors', 'variance_of_diff']).reset_index()"
   ]
  },
  {
   "cell_type": "code",
   "execution_count": 192,
   "metadata": {},
   "outputs": [],
   "source": [
    "# flatten columns\n",
    "trailmaking_df.columns = trailmaking_df.columns.to_series().str.join('_')"
   ]
  },
  {
   "cell_type": "code",
   "execution_count": 193,
   "metadata": {},
   "outputs": [],
   "source": [
    "# rename columns\n",
    "trailmaking_df.columns = ['trial_date', 'ParticipantIdentifier', 'task_trailmaking_alphaNumeric_errors', 'task_trailmaking_numeric_errors', 'task_trailmaking_alphaNumeric_time', 'task_trailmaking_numeric_time', 'task_trailmaking_alphaNumeric_var', 'task_trailmaking_numeric_var']"
   ]
  },
  {
   "cell_type": "code",
   "execution_count": 194,
   "metadata": {},
   "outputs": [
    {
     "data": {
      "text/html": [
       "<div>\n",
       "<style scoped>\n",
       "    .dataframe tbody tr th:only-of-type {\n",
       "        vertical-align: middle;\n",
       "    }\n",
       "\n",
       "    .dataframe tbody tr th {\n",
       "        vertical-align: top;\n",
       "    }\n",
       "\n",
       "    .dataframe thead th {\n",
       "        text-align: right;\n",
       "    }\n",
       "</style>\n",
       "<table border=\"1\" class=\"dataframe\">\n",
       "  <thead>\n",
       "    <tr style=\"text-align: right;\">\n",
       "      <th></th>\n",
       "      <th>trial_date</th>\n",
       "      <th>ParticipantIdentifier</th>\n",
       "      <th>task_trailmaking_alphaNumeric_errors</th>\n",
       "      <th>task_trailmaking_numeric_errors</th>\n",
       "      <th>task_trailmaking_alphaNumeric_time</th>\n",
       "      <th>task_trailmaking_numeric_time</th>\n",
       "      <th>task_trailmaking_alphaNumeric_var</th>\n",
       "      <th>task_trailmaking_numeric_var</th>\n",
       "    </tr>\n",
       "  </thead>\n",
       "  <tbody>\n",
       "    <tr>\n",
       "      <th>0</th>\n",
       "      <td>2022-09-27</td>\n",
       "      <td>099765a5-a9c9-4fff-b297-a39eab517267</td>\n",
       "      <td>1.0</td>\n",
       "      <td>2.0</td>\n",
       "      <td>17.782964</td>\n",
       "      <td>8.057159</td>\n",
       "      <td>1.611959</td>\n",
       "      <td>0.103868</td>\n",
       "    </tr>\n",
       "    <tr>\n",
       "      <th>1</th>\n",
       "      <td>2022-09-27</td>\n",
       "      <td>0ca43379-41b5-47fb-90ba-0a22e6bf5586</td>\n",
       "      <td>1.0</td>\n",
       "      <td>1.0</td>\n",
       "      <td>12.533077</td>\n",
       "      <td>10.499643</td>\n",
       "      <td>0.229768</td>\n",
       "      <td>0.271957</td>\n",
       "    </tr>\n",
       "    <tr>\n",
       "      <th>2</th>\n",
       "      <td>2022-09-27</td>\n",
       "      <td>146e1ab8-c4ca-4a52-9261-e108b38eea53</td>\n",
       "      <td>NaN</td>\n",
       "      <td>0.0</td>\n",
       "      <td>NaN</td>\n",
       "      <td>4.950253</td>\n",
       "      <td>NaN</td>\n",
       "      <td>0.002129</td>\n",
       "    </tr>\n",
       "    <tr>\n",
       "      <th>3</th>\n",
       "      <td>2022-09-27</td>\n",
       "      <td>147400db-43d9-4155-8bf2-b85b8adf4315</td>\n",
       "      <td>1.0</td>\n",
       "      <td>0.0</td>\n",
       "      <td>16.690687</td>\n",
       "      <td>6.503019</td>\n",
       "      <td>0.407312</td>\n",
       "      <td>0.015242</td>\n",
       "    </tr>\n",
       "    <tr>\n",
       "      <th>4</th>\n",
       "      <td>2022-09-27</td>\n",
       "      <td>14b58072-ae3b-491e-a8ca-207f0d27ccf6</td>\n",
       "      <td>1.0</td>\n",
       "      <td>0.0</td>\n",
       "      <td>23.364913</td>\n",
       "      <td>7.081511</td>\n",
       "      <td>1.523848</td>\n",
       "      <td>0.151730</td>\n",
       "    </tr>\n",
       "  </tbody>\n",
       "</table>\n",
       "</div>"
      ],
      "text/plain": [
       "   trial_date                 ParticipantIdentifier  \\\n",
       "0  2022-09-27  099765a5-a9c9-4fff-b297-a39eab517267   \n",
       "1  2022-09-27  0ca43379-41b5-47fb-90ba-0a22e6bf5586   \n",
       "2  2022-09-27  146e1ab8-c4ca-4a52-9261-e108b38eea53   \n",
       "3  2022-09-27  147400db-43d9-4155-8bf2-b85b8adf4315   \n",
       "4  2022-09-27  14b58072-ae3b-491e-a8ca-207f0d27ccf6   \n",
       "\n",
       "   task_trailmaking_alphaNumeric_errors  task_trailmaking_numeric_errors  \\\n",
       "0                                   1.0                              2.0   \n",
       "1                                   1.0                              1.0   \n",
       "2                                   NaN                              0.0   \n",
       "3                                   1.0                              0.0   \n",
       "4                                   1.0                              0.0   \n",
       "\n",
       "   task_trailmaking_alphaNumeric_time  task_trailmaking_numeric_time  \\\n",
       "0                           17.782964                       8.057159   \n",
       "1                           12.533077                      10.499643   \n",
       "2                                 NaN                       4.950253   \n",
       "3                           16.690687                       6.503019   \n",
       "4                           23.364913                       7.081511   \n",
       "\n",
       "   task_trailmaking_alphaNumeric_var  task_trailmaking_numeric_var  \n",
       "0                           1.611959                      0.103868  \n",
       "1                           0.229768                      0.271957  \n",
       "2                                NaN                      0.002129  \n",
       "3                           0.407312                      0.015242  \n",
       "4                           1.523848                      0.151730  "
      ]
     },
     "execution_count": 194,
     "metadata": {},
     "output_type": "execute_result"
    }
   ],
   "source": [
    "trailmaking_df.head()"
   ]
  },
  {
   "cell_type": "code",
   "execution_count": 195,
   "metadata": {},
   "outputs": [
    {
     "data": {
      "text/plain": [
       "task_trailmaking_numeric_errors       0.391064\n",
       "task_trailmaking_alphaNumeric_time    8.404549\n",
       "task_trailmaking_numeric_time         6.663877\n",
       "task_trailmaking_alphaNumeric_var     0.274284\n",
       "task_trailmaking_numeric_var          0.168276\n",
       "dtype: float64"
      ]
     },
     "execution_count": 195,
     "metadata": {},
     "output_type": "execute_result"
    }
   ],
   "source": [
    "trailmaking_df.iloc[:,3:].mean()"
   ]
  },
  {
   "cell_type": "code",
   "execution_count": 196,
   "metadata": {},
   "outputs": [
    {
     "data": {
      "text/plain": [
       "(4184, 8)"
      ]
     },
     "execution_count": 196,
     "metadata": {},
     "output_type": "execute_result"
    }
   ],
   "source": [
    "trailmaking_df.shape"
   ]
  },
  {
   "cell_type": "markdown",
   "metadata": {},
   "source": [
    "#### EDA"
   ]
  },
  {
   "cell_type": "code",
   "execution_count": null,
   "metadata": {},
   "outputs": [
    {
     "data": {
      "application/vnd.jupyter.widget-view+json": {
       "model_id": "c7ac34f167a7493fbb59e2ea91445e48",
       "version_major": 2,
       "version_minor": 0
      },
      "text/plain": [
       "Summarize dataset:   0%|          | 0/5 [00:00<?, ?it/s]"
      ]
     },
     "metadata": {},
     "output_type": "display_data"
    },
    {
     "data": {
      "application/vnd.jupyter.widget-view+json": {
       "model_id": "487af87f1df44f15b8166704a17ab716",
       "version_major": 2,
       "version_minor": 0
      },
      "text/plain": [
       "Generate report structure:   0%|          | 0/1 [00:00<?, ?it/s]"
      ]
     },
     "metadata": {},
     "output_type": "display_data"
    },
    {
     "data": {
      "application/vnd.jupyter.widget-view+json": {
       "model_id": "83cc88f80ea94772b64c4ac09c1ab4d4",
       "version_major": 2,
       "version_minor": 0
      },
      "text/plain": [
       "Render HTML:   0%|          | 0/1 [00:00<?, ?it/s]"
      ]
     },
     "metadata": {},
     "output_type": "display_data"
    },
    {
     "data": {
      "application/vnd.jupyter.widget-view+json": {
       "model_id": "a76f6bcdbb494db2bde5f650d6700ec4",
       "version_major": 2,
       "version_minor": 0
      },
      "text/plain": [
       "Export report to file:   0%|          | 0/1 [00:00<?, ?it/s]"
      ]
     },
     "metadata": {},
     "output_type": "display_data"
    }
   ],
   "source": [
    "profile = ProfileReport(trailmaking_df.iloc[:,2:], title=f\"Trailmaking Task Run {run_num} | Pandas Profiling Report\")\n",
    "profile.to_file(eda_reports_path + f\"task_trailmaking_run{run_num}.html\")"
   ]
  },
  {
   "cell_type": "markdown",
   "metadata": {},
   "source": [
    "#### Clean\n",
    "\n",
    "We had numerous outlier values.\n",
    "\n",
    "**ERRORS**\n",
    "\n",
    "Given that there were only 12 responses in a given trial and that the mean error rate was close to 0.5, maximum values such as 54 seem a bit unlikely and may indicate either someone was not trying or not understanding the task.\n",
    "\n",
    "Given that we are dealing with a zero-inflated skewed distribution removing outliers appropriately is challenging.\n",
    "\n",
    "I used an ad-hoc decision to remove those trials with more than 10 errors. This was total of 26 out fo the 6498 total trials.\n",
    "\n",
    "**RTs**\n",
    "\n",
    "We used median absolute deviation to remove outliers (see [Leys et al., 2013](https://www.sciencedirect.com/science/article/abs/pii/S0022103113000668)).\n",
    "\n",
    "We set the flag threshold to 3.\n",
    "\n",
    "However this removed more than 10% of the obervations.\n",
    "\n",
    "Therefore we decided to again use an ad-hoc approach setting the maximum RT threshold to 30 seconds which removes less than 1% of trials.\n",
    "\n",
    "**Also** there were a number of trials with RTs of 0. These were removed.\n",
    "\n",
    "<div class=\"alert alert-block alert-info\">\n",
    "<b>📝 Note:</b><br>\n",
    "    I went back and applied these cleaning heuristics to the data in long format so as not to remove both trials in the event they were not both outliers.\n",
    "</div>"
   ]
  },
  {
   "cell_type": "code",
   "execution_count": 197,
   "metadata": {},
   "outputs": [
    {
     "name": "stdout",
     "output_type": "stream",
     "text": [
      "NUMERIC\n",
      "Setting a threshold of 10 removes 0 trials out of 4184 total numeric trials.\n",
      "This is 0.0% of the trials.\n",
      "\n",
      "ALPHANUMERIC\n",
      "Setting a threshold of 10 removes 0 trials out of 4184 total alpha-numeric trials.\n",
      "This is 0.0% of the trials.\n"
     ]
    }
   ],
   "source": [
    "# Remove high error trials\n",
    "\n",
    "threshold = 10\n",
    "\n",
    "count = (trailmaking_df.task_trailmaking_numeric_errors > threshold).sum()\n",
    "total_n =  len(trailmaking_df)\n",
    "\n",
    "print(f'NUMERIC')\n",
    "print(f'Setting a threshold of {threshold} removes {count} trials out of {total_n} total numeric trials.')\n",
    "print(f'This is {(count/total_n)*100:.1f}% of the trials.\\n')\n",
    "\n",
    "count = (trailmaking_df.task_trailmaking_alphaNumeric_errors > threshold).sum()\n",
    "\n",
    "print(f'ALPHANUMERIC')\n",
    "print(f'Setting a threshold of {threshold} removes {count} trials out of {total_n} total alpha-numeric trials.')\n",
    "print(f'This is {(count/total_n)*100:.1f}% of the trials.')"
   ]
  },
  {
   "cell_type": "code",
   "execution_count": 198,
   "metadata": {},
   "outputs": [
    {
     "name": "stdout",
     "output_type": "stream",
     "text": [
      "NUMERIC:\n",
      "Using a threshold of 3.0 with MAD we find 379 outliers in the 4184 observations.\n",
      "\n",
      "ALPHANUMERIC:\n",
      "Using a threshold of 3.0 with MAD we find 434 outliers in the 4184 observations.\n"
     ]
    }
   ],
   "source": [
    "# MAD approach to RT outlier removal\n",
    "\n",
    "# Calculate MAD for the specified columns\n",
    "def mad(series):\n",
    "    median_value = series.median()\n",
    "    return (series - median_value).abs().median()\n",
    "\n",
    "# MAD-based outlier detection\n",
    "def detect_outliers(series, threshold):\n",
    "    median_value = series.median()\n",
    "    mad_value = mad(series)\n",
    "    \n",
    "    # Detect outliers\n",
    "    outliers = ((series - median_value).abs() > threshold * mad_value)\n",
    "    return outliers\n",
    "\n",
    "threshold = 3.0\n",
    "\n",
    "# Detect outliers in the 'task_trailmaking_numeric_time' column\n",
    "x = detect_outliers(trailmaking_df['task_trailmaking_numeric_time'], threshold=threshold).sum()\n",
    "print(f'NUMERIC:\\nUsing a threshold of {threshold} with MAD we find {x} outliers in the {trailmaking_df.shape[0]} observations.\\n')\n",
    "\n",
    "# Detect outliers in the 'task_trailmaking_alphaNumeric_time' column\n",
    "x = detect_outliers(trailmaking_df['task_trailmaking_alphaNumeric_time'], threshold=threshold).sum()\n",
    "print(f'ALPHANUMERIC:\\nUsing a threshold of {threshold} with MAD we find {x} outliers in the {trailmaking_df.shape[0]} observations.')"
   ]
  },
  {
   "cell_type": "code",
   "execution_count": 199,
   "metadata": {},
   "outputs": [
    {
     "name": "stdout",
     "output_type": "stream",
     "text": [
      "NUMERIC\n",
      "Setting a threshold of 30 removes 0 trials out of 4184 total numeric trials.\n",
      "This is 0.0% of the trials.\n",
      "\n",
      "ALPHANUMERIC\n",
      "Setting a threshold of 30 removes 0 trials out of 4184 total alpha-numeric trials.\n",
      "This is 0.0% of the trials.\n"
     ]
    }
   ],
   "source": [
    "# Ad hoc approach to RT outlier removal\n",
    "threshold = 30\n",
    "\n",
    "count = (trailmaking_df.task_trailmaking_numeric_time > threshold).sum()\n",
    "total_n = trailmaking_df.shape[0]\n",
    "\n",
    "print(f'NUMERIC')\n",
    "print(f'Setting a threshold of {threshold} removes {count} trials out of {total_n} total numeric trials.')\n",
    "print(f'This is {(count/total_n)*100:.1f}% of the trials.\\n')\n",
    "\n",
    "count = (trailmaking_df.task_trailmaking_alphaNumeric_time > threshold).sum()\n",
    "\n",
    "print(f'ALPHANUMERIC')\n",
    "print(f'Setting a threshold of {threshold} removes {count} trials out of {total_n} total alpha-numeric trials.')\n",
    "print(f'This is {(count/total_n)*100:.1f}% of the trials.')"
   ]
  },
  {
   "cell_type": "markdown",
   "metadata": {},
   "source": [
    "### Stroop\n",
    "\n",
    "[RK Studio Documentation](http://researchkit.org/docs/docs/ActiveTasks/ActiveTasks.html#stroophttp://researchkit.org/docs/docs/ActiveTasks/ActiveTasks.html#stroop)\n",
    "\n",
    "[Scarpina & Tagini, 2017](https://www.frontiersin.org/articles/10.3389/fpsyg.2017.00557/full) on scoring in their paper The Stroop Color and Words Test.\n",
    "\n",
    ">The Stroop Color and Word Test (SCWT) is a neuropsychological test extensively used to assess the ability to inhibit cognitive interference that occurs when the processing of a specific stimulus feature impedes the simultaneous processing of a second stimulus attribute, well-known as the Stroop Effect.\n",
    "\n",
    "**Interpretation**\n",
    ">While the SCWT is widelyused to measure the ability to inhibit cognitive interference; previous literature also reports itsapplication to measure other cognitive functions such as attention, processing speed, cognitive flexibility (Jensen and Rohwer, 1966), and working memory(Kane and Engle, 2003). Thus, it may be possible to use the SCWTto measure multiple cognitive functions.\n",
    "\n",
    ">According to the review, the studies with Italian normativedata present different theoretical interpretations of the SCWTscores.Amato et al. (2006)andCaffarra et al. (2002)describe theSCWT score as a measure of the fronto-executive functioning,while others use it as an index of the attentional functioning(Barbarotto et al., 1998; Valgimigli et al., 2010) or of generalcognitive efficiency (Brugnolo et al., 2015). Slowing to a responseconflict would be due to a failure of selective attention or a lack inthe cognitive efficiency instead of a failure of response inhibition(Chafetz and Matthews, 2004); however, the performance inthe SCWT is not exclusively related to concentration, attentionor cognitive effectiveness, but it relies to a more specificexecutive-frontal domain. Indeed, subjects have to processselectively a specific visual feature blocking out continuouslythe automatic processing of reading (Zajano and Gorman, 1986;Shum et al., 1990), in order to solve correctly the task. The specificinvolvement of executive processes is supported by clinical data.Patients with anterior frontal lesions, and not with posteriorcerebral damages, report significant difficulties in maintaining aconsistent activation of the intended response (Valgimigli et al.,2010). Furthermore, Parkinson’s Disease patients, characterizedby executive dysfunction due to the disruption of dopaminergicpathway (Fera et al., 2007), reported difficulties in SCWT despiteunimpaired attentional abilities (Fera et al., 2007; Djamshidianet al., 2011)."
   ]
  },
  {
   "cell_type": "markdown",
   "metadata": {},
   "source": [
    "#### Load Data"
   ]
  },
  {
   "cell_type": "code",
   "execution_count": 200,
   "metadata": {},
   "outputs": [
    {
     "name": "stdout",
     "output_type": "stream",
     "text": [
      "deleted existing df\n"
     ]
    }
   ],
   "source": [
    "# erase df if it already exists\n",
    "if 'df' in globals():\n",
    "    del(df)\n",
    "    print('deleted existing df')\n",
    "    \n",
    "if 'stroop_df' in globals():\n",
    "    del(stroop_df)\n",
    "    print('deleted existing stroop_df')"
   ]
  },
  {
   "cell_type": "code",
   "execution_count": 201,
   "metadata": {},
   "outputs": [
    {
     "name": "stderr",
     "output_type": "stream",
     "text": [
      "100%|██████████| 87/87 [00:00<00:00, 138.27it/s]\n"
     ]
    }
   ],
   "source": [
    "# loop through all days\n",
    "days = [i for i in os.listdir(path) if i.startswith('RK')]\n",
    "for day in tqdm(days):\n",
    "    files = os.listdir(path + day)\n",
    "    surveyQuestions = [i for i in files if i.startswith('SurveyStroopResults')]\n",
    "    # there should be only one\n",
    "    for file in surveyQuestions:\n",
    "        if 'df' not in globals():\n",
    "            df = pd.read_csv(path + day + '/' + file)\n",
    "        else:\n",
    "            temp_df = pd.read_csv(path + day + '/' + file)\n",
    "            df = pd.concat([df,temp_df], axis=0)"
   ]
  },
  {
   "cell_type": "markdown",
   "metadata": {},
   "source": [
    "#### Format Data"
   ]
  },
  {
   "cell_type": "code",
   "execution_count": 202,
   "metadata": {},
   "outputs": [
    {
     "data": {
      "text/plain": [
       "SurveyStroopResultKey        0\n",
       "SurveyStepResultKey          0\n",
       "SurveyResultKey              0\n",
       "ParticipantIdentifier        0\n",
       "StartTime                    0\n",
       "EndTime                      0\n",
       "ColorSelected                0\n",
       "Color                        0\n",
       "Text                         0\n",
       "StroopStyle              85044\n",
       "StartDate                    0\n",
       "EndDate                      0\n",
       "dtype: int64"
      ]
     },
     "execution_count": 202,
     "metadata": {},
     "output_type": "execute_result"
    }
   ],
   "source": [
    "# check for na dates...\n",
    "df.isna().sum()"
   ]
  },
  {
   "cell_type": "code",
   "execution_count": 203,
   "metadata": {},
   "outputs": [],
   "source": [
    "df = df.dropna(subset=['EndDate']).reset_index(drop=True)"
   ]
  },
  {
   "cell_type": "code",
   "execution_count": 204,
   "metadata": {},
   "outputs": [],
   "source": [
    "# Select only subjects in correct cohort\n",
    "df = df.loc[df.ParticipantIdentifier.isin(subjects)].reset_index(drop=True)\n",
    "\n",
    "# # temporarily removing spanish participant\n",
    "# df = df.loc[df.ParticipantIdentifier!='35d11ffc-7034-4708-a086-cd4bd47b51fd'].reset_index(drop=True)"
   ]
  },
  {
   "cell_type": "code",
   "execution_count": 205,
   "metadata": {},
   "outputs": [
    {
     "name": "stderr",
     "output_type": "stream",
     "text": [
      "100%|██████████| 83447/83447 [00:08<00:00, 9701.26it/s] \n"
     ]
    }
   ],
   "source": [
    "# add trial date and time columns\n",
    "for i in tqdm(range(df.shape[0])):\n",
    "    dt = parser.parse(df.loc[i, 'EndDate'])\n",
    "    df.loc[i, 'datetime'] = dt\n",
    "    df.loc[i, 'trial_date'] = (dt + datetime.timedelta(hours = -4)).date() # trial day associated with sample (4am is when the day flips)\n",
    "    df.loc[i, 'time'] = dt.time()"
   ]
  },
  {
   "cell_type": "code",
   "execution_count": 206,
   "metadata": {},
   "outputs": [
    {
     "data": {
      "text/html": [
       "<div>\n",
       "<style scoped>\n",
       "    .dataframe tbody tr th:only-of-type {\n",
       "        vertical-align: middle;\n",
       "    }\n",
       "\n",
       "    .dataframe tbody tr th {\n",
       "        vertical-align: top;\n",
       "    }\n",
       "\n",
       "    .dataframe thead th {\n",
       "        text-align: right;\n",
       "    }\n",
       "</style>\n",
       "<table border=\"1\" class=\"dataframe\">\n",
       "  <thead>\n",
       "    <tr style=\"text-align: right;\">\n",
       "      <th></th>\n",
       "      <th>SurveyStroopResultKey</th>\n",
       "      <th>SurveyStepResultKey</th>\n",
       "      <th>SurveyResultKey</th>\n",
       "      <th>ParticipantIdentifier</th>\n",
       "      <th>StartTime</th>\n",
       "      <th>EndTime</th>\n",
       "      <th>ColorSelected</th>\n",
       "      <th>Color</th>\n",
       "      <th>Text</th>\n",
       "      <th>StroopStyle</th>\n",
       "      <th>StartDate</th>\n",
       "      <th>EndDate</th>\n",
       "      <th>datetime</th>\n",
       "      <th>trial_date</th>\n",
       "      <th>time</th>\n",
       "    </tr>\n",
       "  </thead>\n",
       "  <tbody>\n",
       "    <tr>\n",
       "      <th>0</th>\n",
       "      <td>89742a1e-8b53-ed11-aac1-0afb9334277d</td>\n",
       "      <td>4e742a1e-8b53-ed11-aac1-0afb9334277d</td>\n",
       "      <td>29742a1e-8b53-ed11-aac1-0afb9334277d</td>\n",
       "      <td>c62ae7a2-6fe6-4fd5-9b9e-93773b08d8b9</td>\n",
       "      <td>309203.635967</td>\n",
       "      <td>309204.352445</td>\n",
       "      <td>GREEN</td>\n",
       "      <td>GREEN</td>\n",
       "      <td>GREEN</td>\n",
       "      <td>NaN</td>\n",
       "      <td>2022-10-24T07:00:26-04:00</td>\n",
       "      <td>2022-10-24T07:00:26-04:00</td>\n",
       "      <td>2022-10-24 07:00:26-04:00</td>\n",
       "      <td>2022-10-24</td>\n",
       "      <td>07:00:26</td>\n",
       "    </tr>\n",
       "    <tr>\n",
       "      <th>1</th>\n",
       "      <td>8f742a1e-8b53-ed11-aac1-0afb9334277d</td>\n",
       "      <td>4e742a1e-8b53-ed11-aac1-0afb9334277d</td>\n",
       "      <td>29742a1e-8b53-ed11-aac1-0afb9334277d</td>\n",
       "      <td>c62ae7a2-6fe6-4fd5-9b9e-93773b08d8b9</td>\n",
       "      <td>309204.855281</td>\n",
       "      <td>309205.381077</td>\n",
       "      <td>YELLOW</td>\n",
       "      <td>YELLOW</td>\n",
       "      <td>YELLOW</td>\n",
       "      <td>NaN</td>\n",
       "      <td>2022-10-24T07:00:27-04:00</td>\n",
       "      <td>2022-10-24T07:00:27-04:00</td>\n",
       "      <td>2022-10-24 07:00:27-04:00</td>\n",
       "      <td>2022-10-24</td>\n",
       "      <td>07:00:27</td>\n",
       "    </tr>\n",
       "  </tbody>\n",
       "</table>\n",
       "</div>"
      ],
      "text/plain": [
       "                  SurveyStroopResultKey                   SurveyStepResultKey  \\\n",
       "0  89742a1e-8b53-ed11-aac1-0afb9334277d  4e742a1e-8b53-ed11-aac1-0afb9334277d   \n",
       "1  8f742a1e-8b53-ed11-aac1-0afb9334277d  4e742a1e-8b53-ed11-aac1-0afb9334277d   \n",
       "\n",
       "                        SurveyResultKey                 ParticipantIdentifier  \\\n",
       "0  29742a1e-8b53-ed11-aac1-0afb9334277d  c62ae7a2-6fe6-4fd5-9b9e-93773b08d8b9   \n",
       "1  29742a1e-8b53-ed11-aac1-0afb9334277d  c62ae7a2-6fe6-4fd5-9b9e-93773b08d8b9   \n",
       "\n",
       "       StartTime        EndTime ColorSelected   Color    Text  StroopStyle  \\\n",
       "0  309203.635967  309204.352445         GREEN   GREEN   GREEN          NaN   \n",
       "1  309204.855281  309205.381077        YELLOW  YELLOW  YELLOW          NaN   \n",
       "\n",
       "                   StartDate                    EndDate  \\\n",
       "0  2022-10-24T07:00:26-04:00  2022-10-24T07:00:26-04:00   \n",
       "1  2022-10-24T07:00:27-04:00  2022-10-24T07:00:27-04:00   \n",
       "\n",
       "                    datetime  trial_date      time  \n",
       "0  2022-10-24 07:00:26-04:00  2022-10-24  07:00:26  \n",
       "1  2022-10-24 07:00:27-04:00  2022-10-24  07:00:27  "
      ]
     },
     "execution_count": 206,
     "metadata": {},
     "output_type": "execute_result"
    }
   ],
   "source": [
    "df.head(2)"
   ]
  },
  {
   "cell_type": "code",
   "execution_count": 207,
   "metadata": {},
   "outputs": [],
   "source": [
    "# replace commas with dots\n",
    "df['StartTime'] = df['StartTime'].replace(',', '.', regex=True)\n",
    "df.StartTime = df.StartTime.astype('float')\n",
    "\n",
    "df['EndTime'] = df['EndTime'].replace(',', '.', regex=True)\n",
    "df.EndTime = df.EndTime.astype('float')"
   ]
  },
  {
   "cell_type": "code",
   "execution_count": 208,
   "metadata": {},
   "outputs": [
    {
     "data": {
      "text/html": [
       "<div>\n",
       "<style scoped>\n",
       "    .dataframe tbody tr th:only-of-type {\n",
       "        vertical-align: middle;\n",
       "    }\n",
       "\n",
       "    .dataframe tbody tr th {\n",
       "        vertical-align: top;\n",
       "    }\n",
       "\n",
       "    .dataframe thead th {\n",
       "        text-align: right;\n",
       "    }\n",
       "</style>\n",
       "<table border=\"1\" class=\"dataframe\">\n",
       "  <thead>\n",
       "    <tr style=\"text-align: right;\">\n",
       "      <th></th>\n",
       "      <th>ParticipantIdentifier</th>\n",
       "      <th>trial_date</th>\n",
       "      <th>StartTime</th>\n",
       "      <th>EndTime</th>\n",
       "      <th>ColorSelected</th>\n",
       "      <th>Color</th>\n",
       "      <th>Text</th>\n",
       "      <th>congruent</th>\n",
       "      <th>correct</th>\n",
       "      <th>rt</th>\n",
       "    </tr>\n",
       "  </thead>\n",
       "  <tbody>\n",
       "    <tr>\n",
       "      <th>0</th>\n",
       "      <td>c62ae7a2-6fe6-4fd5-9b9e-93773b08d8b9</td>\n",
       "      <td>2022-10-24</td>\n",
       "      <td>309203.635967</td>\n",
       "      <td>309204.352445</td>\n",
       "      <td>GREEN</td>\n",
       "      <td>GREEN</td>\n",
       "      <td>GREEN</td>\n",
       "      <td>True</td>\n",
       "      <td>True</td>\n",
       "      <td>0.716479</td>\n",
       "    </tr>\n",
       "    <tr>\n",
       "      <th>1</th>\n",
       "      <td>c62ae7a2-6fe6-4fd5-9b9e-93773b08d8b9</td>\n",
       "      <td>2022-10-24</td>\n",
       "      <td>309204.855281</td>\n",
       "      <td>309205.381077</td>\n",
       "      <td>YELLOW</td>\n",
       "      <td>YELLOW</td>\n",
       "      <td>YELLOW</td>\n",
       "      <td>True</td>\n",
       "      <td>True</td>\n",
       "      <td>0.525796</td>\n",
       "    </tr>\n",
       "    <tr>\n",
       "      <th>2</th>\n",
       "      <td>c62ae7a2-6fe6-4fd5-9b9e-93773b08d8b9</td>\n",
       "      <td>2022-10-24</td>\n",
       "      <td>309205.883879</td>\n",
       "      <td>309206.448313</td>\n",
       "      <td>BLUE</td>\n",
       "      <td>BLUE</td>\n",
       "      <td>BLUE</td>\n",
       "      <td>True</td>\n",
       "      <td>True</td>\n",
       "      <td>0.564434</td>\n",
       "    </tr>\n",
       "  </tbody>\n",
       "</table>\n",
       "</div>"
      ],
      "text/plain": [
       "                  ParticipantIdentifier  trial_date      StartTime  \\\n",
       "0  c62ae7a2-6fe6-4fd5-9b9e-93773b08d8b9  2022-10-24  309203.635967   \n",
       "1  c62ae7a2-6fe6-4fd5-9b9e-93773b08d8b9  2022-10-24  309204.855281   \n",
       "2  c62ae7a2-6fe6-4fd5-9b9e-93773b08d8b9  2022-10-24  309205.883879   \n",
       "\n",
       "         EndTime ColorSelected   Color    Text  congruent  correct        rt  \n",
       "0  309204.352445         GREEN   GREEN   GREEN       True     True  0.716479  \n",
       "1  309205.381077        YELLOW  YELLOW  YELLOW       True     True  0.525796  \n",
       "2  309206.448313          BLUE    BLUE    BLUE       True     True  0.564434  "
      ]
     },
     "execution_count": 208,
     "metadata": {},
     "output_type": "execute_result"
    }
   ],
   "source": [
    "# create correct, congruous and time columns\n",
    "df = df[['ParticipantIdentifier', 'trial_date', 'StartTime', 'EndTime', 'ColorSelected', 'Color', 'Text']]\n",
    "df = df.assign(congruent=lambda x: x.Color == x.Text,\n",
    "               correct=lambda x: x.Color == x.ColorSelected,\n",
    "               rt=lambda x: (x.EndTime - x.StartTime)\n",
    "              )\n",
    "df.head(3)"
   ]
  },
  {
   "cell_type": "code",
   "execution_count": 209,
   "metadata": {},
   "outputs": [],
   "source": [
    "# Add additional columns\n",
    "# define function that returns a Series of all aggregations\n",
    "\n",
    "def f(x):\n",
    "    d = {}\n",
    "    \n",
    "    d['task_stroop_totalCorrectProp'] = x['correct'].sum()/len(x['correct'])\n",
    "    d['task_stroop_congruentCorrectProp'] = len(x.loc[(x.congruent==True) & (x.correct==True)])/ (x.congruent == True).sum()\n",
    "    d['task_stroop_incongruentCorrectProp'] = len(x.loc[(x.congruent==False) & (x.correct==True)])/ (x.congruent == False).sum()\n",
    "    d['task_stroop_totalAvgRT'] = x['rt'].sum()/len(x['rt'])    \n",
    "    d['task_stroop_congruentAvgRT'] = x.loc[x.congruent==True,'rt'].sum()/ (x.congruent == True).sum()\n",
    "    d['task_stroop_incongruentAvgRT'] = x.loc[x.congruent==False,'rt'].sum()/ (x.congruent == False).sum()\n",
    "    \n",
    "    return pd.Series(d, index=['task_stroop_totalCorrectProp', 'task_stroop_congruentCorrectProp',\n",
    "                               'task_stroop_incongruentCorrectProp', 'task_stroop_totalAvgRT',\n",
    "                               'task_stroop_congruentAvgRT', 'task_stroop_incongruentAvgRT'\n",
    "                              ])\n",
    "\n",
    "# note that value_counts gives us the number of trues and falses for boolean columns\n",
    "# then indexing into 0 for false and 1 for true"
   ]
  },
  {
   "cell_type": "code",
   "execution_count": 210,
   "metadata": {},
   "outputs": [
    {
     "data": {
      "text/html": [
       "<div>\n",
       "<style scoped>\n",
       "    .dataframe tbody tr th:only-of-type {\n",
       "        vertical-align: middle;\n",
       "    }\n",
       "\n",
       "    .dataframe tbody tr th {\n",
       "        vertical-align: top;\n",
       "    }\n",
       "\n",
       "    .dataframe thead th {\n",
       "        text-align: right;\n",
       "    }\n",
       "</style>\n",
       "<table border=\"1\" class=\"dataframe\">\n",
       "  <thead>\n",
       "    <tr style=\"text-align: right;\">\n",
       "      <th></th>\n",
       "      <th>ParticipantIdentifier</th>\n",
       "      <th>trial_date</th>\n",
       "      <th>task_stroop_totalCorrectProp</th>\n",
       "      <th>task_stroop_congruentCorrectProp</th>\n",
       "      <th>task_stroop_incongruentCorrectProp</th>\n",
       "      <th>task_stroop_totalAvgRT</th>\n",
       "      <th>task_stroop_congruentAvgRT</th>\n",
       "      <th>task_stroop_incongruentAvgRT</th>\n",
       "    </tr>\n",
       "  </thead>\n",
       "  <tbody>\n",
       "    <tr>\n",
       "      <th>0</th>\n",
       "      <td>0501ba67-3406-4779-aff1-878a0e9f7885</td>\n",
       "      <td>2022-09-30</td>\n",
       "      <td>1.0</td>\n",
       "      <td>1.0</td>\n",
       "      <td>1.0</td>\n",
       "      <td>1.566986</td>\n",
       "      <td>1.624938</td>\n",
       "      <td>1.393131</td>\n",
       "    </tr>\n",
       "    <tr>\n",
       "      <th>1</th>\n",
       "      <td>0501ba67-3406-4779-aff1-878a0e9f7885</td>\n",
       "      <td>2022-10-01</td>\n",
       "      <td>1.0</td>\n",
       "      <td>1.0</td>\n",
       "      <td>1.0</td>\n",
       "      <td>0.991799</td>\n",
       "      <td>0.940324</td>\n",
       "      <td>1.026115</td>\n",
       "    </tr>\n",
       "    <tr>\n",
       "      <th>2</th>\n",
       "      <td>0501ba67-3406-4779-aff1-878a0e9f7885</td>\n",
       "      <td>2022-10-02</td>\n",
       "      <td>1.0</td>\n",
       "      <td>1.0</td>\n",
       "      <td>1.0</td>\n",
       "      <td>0.991220</td>\n",
       "      <td>0.927535</td>\n",
       "      <td>1.109492</td>\n",
       "    </tr>\n",
       "  </tbody>\n",
       "</table>\n",
       "</div>"
      ],
      "text/plain": [
       "                  ParticipantIdentifier  trial_date  \\\n",
       "0  0501ba67-3406-4779-aff1-878a0e9f7885  2022-09-30   \n",
       "1  0501ba67-3406-4779-aff1-878a0e9f7885  2022-10-01   \n",
       "2  0501ba67-3406-4779-aff1-878a0e9f7885  2022-10-02   \n",
       "\n",
       "   task_stroop_totalCorrectProp  task_stroop_congruentCorrectProp  \\\n",
       "0                           1.0                               1.0   \n",
       "1                           1.0                               1.0   \n",
       "2                           1.0                               1.0   \n",
       "\n",
       "   task_stroop_incongruentCorrectProp  task_stroop_totalAvgRT  \\\n",
       "0                                 1.0                1.566986   \n",
       "1                                 1.0                0.991799   \n",
       "2                                 1.0                0.991220   \n",
       "\n",
       "   task_stroop_congruentAvgRT  task_stroop_incongruentAvgRT  \n",
       "0                    1.624938                      1.393131  \n",
       "1                    0.940324                      1.026115  \n",
       "2                    0.927535                      1.109492  "
      ]
     },
     "execution_count": 210,
     "metadata": {},
     "output_type": "execute_result"
    }
   ],
   "source": [
    "stroop_df = df.groupby(['ParticipantIdentifier', 'trial_date']).apply(f).reset_index()\n",
    "stroop_df.head(3)"
   ]
  },
  {
   "cell_type": "code",
   "execution_count": 211,
   "metadata": {},
   "outputs": [
    {
     "data": {
      "text/plain": [
       "task_stroop_totalCorrectProp          0.895491\n",
       "task_stroop_congruentCorrectProp      0.966339\n",
       "task_stroop_incongruentCorrectProp    0.822726\n",
       "task_stroop_totalAvgRT                1.057124\n",
       "task_stroop_congruentAvgRT            0.840355\n",
       "task_stroop_incongruentAvgRT          1.245894\n",
       "dtype: float64"
      ]
     },
     "execution_count": 211,
     "metadata": {},
     "output_type": "execute_result"
    }
   ],
   "source": [
    "stroop_df.iloc[:,2:].mean()"
   ]
  },
  {
   "cell_type": "markdown",
   "metadata": {},
   "source": [
    "#### EDA"
   ]
  },
  {
   "cell_type": "code",
   "execution_count": null,
   "metadata": {},
   "outputs": [
    {
     "data": {
      "application/vnd.jupyter.widget-view+json": {
       "model_id": "41ec6104eb6e4612977a30e30ba7e33a",
       "version_major": 2,
       "version_minor": 0
      },
      "text/plain": [
       "Summarize dataset:   0%|          | 0/5 [00:00<?, ?it/s]"
      ]
     },
     "metadata": {},
     "output_type": "display_data"
    },
    {
     "data": {
      "application/vnd.jupyter.widget-view+json": {
       "model_id": "aa2afc3641254ab6b11211ad9bded722",
       "version_major": 2,
       "version_minor": 0
      },
      "text/plain": [
       "Generate report structure:   0%|          | 0/1 [00:00<?, ?it/s]"
      ]
     },
     "metadata": {},
     "output_type": "display_data"
    },
    {
     "data": {
      "application/vnd.jupyter.widget-view+json": {
       "model_id": "fb0c5e012ae5449090bf292e0879755e",
       "version_major": 2,
       "version_minor": 0
      },
      "text/plain": [
       "Render HTML:   0%|          | 0/1 [00:00<?, ?it/s]"
      ]
     },
     "metadata": {},
     "output_type": "display_data"
    },
    {
     "data": {
      "application/vnd.jupyter.widget-view+json": {
       "model_id": "60ad36fa1d774bc29c00faf28cdc9530",
       "version_major": 2,
       "version_minor": 0
      },
      "text/plain": [
       "Export report to file:   0%|          | 0/1 [00:00<?, ?it/s]"
      ]
     },
     "metadata": {},
     "output_type": "display_data"
    }
   ],
   "source": [
    "profile = ProfileReport(stroop_df.iloc[:,2:], title=f\"Stroop Task Run {run_num} | Pandas Profiling Report\")\n",
    "profile.to_file(eda_reports_path + f\"task_stroop_run{run_num}.html\")"
   ]
  },
  {
   "cell_type": "markdown",
   "metadata": {},
   "source": [
    "#### Clean\n",
    "\n",
    "We had some clear RT outlier values given that the mean of the trials' average RT (even with outliers) was less than 1 second, and yet there where maxmum average RT that were multiple minutes.\n",
    "\n",
    "**RTs**\n",
    "\n",
    "We first used median absolute deviation to remove outliers (see [Leys et al., 2013](https://www.sciencedirect.com/science/article/abs/pii/S0022103113000668)).\n",
    "\n",
    "We set the flag threshold to 3.\n",
    "\n",
    "However this would remove more than 10% of the obervations.\n",
    "\n",
    "Therefore we decided to use an ad-hoc approach setting the maximum RT threshold to 3 seconds which removes less than 1% of trials.\n",
    "\n",
    "We also know from the work of Luce (1984) and Whelan (2008) that RTs below 100ms are not realistic.\n",
    "\n",
    "Therefore all trials with average RTs below 100 were also removed (this only removed one trial)."
   ]
  },
  {
   "cell_type": "code",
   "execution_count": 212,
   "metadata": {},
   "outputs": [
    {
     "name": "stdout",
     "output_type": "stream",
     "text": [
      "NUMERIC:\n",
      "Using a threshold of 3.0 with MAD we find 527 outliers in the 4184 observations.\n",
      "\n"
     ]
    }
   ],
   "source": [
    "# MAD approach to RT outlier removal\n",
    "\n",
    "# Calculate MAD for the specified columns\n",
    "def mad(series):\n",
    "    median_value = series.median()\n",
    "    return (series - median_value).abs().median()\n",
    "\n",
    "# MAD-based outlier detection\n",
    "def detect_outliers(series, threshold):\n",
    "    median_value = series.median()\n",
    "    mad_value = mad(series)\n",
    "    \n",
    "    # Detect outliers\n",
    "    outliers = ((series - median_value).abs() > threshold * mad_value)\n",
    "    return outliers\n",
    "\n",
    "threshold = 3.0\n",
    "\n",
    "# Detect outliers in the 'task_trailmaking_numeric_time' column\n",
    "x = detect_outliers(stroop_df['task_stroop_totalAvgRT'], threshold=threshold).sum()\n",
    "print(f'NUMERIC:\\nUsing a threshold of {threshold} with MAD we find {x} outliers in the {trailmaking_df.shape[0]} observations.\\n')\n",
    "\n",
    "# # Detect outliers in the 'task_trailmaking_alphaNumeric_time' column\n",
    "# x = detect_outliers(trailmaking_df['task_trailmaking_alphaNumeric_time'], threshold=threshold).sum()\n",
    "# print(f'ALPHANUMERIC:\\nUsing a threshold of {threshold} with MAD we find {x} outliers in the {trailmaking_df.shape[0]} observations.')"
   ]
  },
  {
   "cell_type": "code",
   "execution_count": 213,
   "metadata": {},
   "outputs": [
    {
     "name": "stdout",
     "output_type": "stream",
     "text": [
      "CEILING\n",
      "Setting a threshold of 3s removes 30 trials out of 4195 total numeric trials.\n",
      "This is 0.7% of the trials.\n",
      "\n",
      "FLOOR\n",
      "Setting a threshold of 0.1s removes 0 trials out of 4195 total alpha-numeric trials.\n",
      "This is 0.0% of the trials.\n"
     ]
    }
   ],
   "source": [
    "# Ad hoc approach to RT outlier removal\n",
    "threshold = 3\n",
    "\n",
    "count = (stroop_df.task_stroop_totalAvgRT > threshold).sum()\n",
    "total_n = stroop_df.shape[0]\n",
    "\n",
    "print(f'CEILING')\n",
    "print(f'Setting a threshold of {threshold}s removes {count} trials out of {total_n} total numeric trials.')\n",
    "print(f'This is {(count/total_n)*100:.1f}% of the trials.\\n')\n",
    "\n",
    "# Remove values based on these thresholds\n",
    "stroop_df = stroop_df.loc[stroop_df.task_stroop_totalAvgRT <= threshold]\n",
    "\n",
    "threshold = .1\n",
    "count = (stroop_df.task_stroop_totalAvgRT < threshold).sum()\n",
    "\n",
    "print(f'FLOOR')\n",
    "print(f'Setting a threshold of {threshold}s removes {count} trials out of {total_n} total alpha-numeric trials.')\n",
    "print(f'This is {(count/total_n)*100:.1f}% of the trials.')\n",
    "\n",
    "stroop_df = stroop_df.loc[stroop_df.task_stroop_totalAvgRT > threshold]"
   ]
  },
  {
   "cell_type": "code",
   "execution_count": 530,
   "metadata": {},
   "outputs": [
    {
     "data": {
      "application/vnd.jupyter.widget-view+json": {
       "model_id": "e9de2177878c404aa45e59a174803428",
       "version_major": 2,
       "version_minor": 0
      },
      "text/plain": [
       "Summarize dataset:   0%|          | 0/5 [00:00<?, ?it/s]"
      ]
     },
     "metadata": {},
     "output_type": "display_data"
    },
    {
     "data": {
      "application/vnd.jupyter.widget-view+json": {
       "model_id": "0bebb4339c85472ebdee314055e8282a",
       "version_major": 2,
       "version_minor": 0
      },
      "text/plain": [
       "Generate report structure:   0%|          | 0/1 [00:00<?, ?it/s]"
      ]
     },
     "metadata": {},
     "output_type": "display_data"
    },
    {
     "data": {
      "application/vnd.jupyter.widget-view+json": {
       "model_id": "876e8d2b92ae4ce99bb10fead3ed9dcd",
       "version_major": 2,
       "version_minor": 0
      },
      "text/plain": [
       "Render HTML:   0%|          | 0/1 [00:00<?, ?it/s]"
      ]
     },
     "metadata": {},
     "output_type": "display_data"
    },
    {
     "data": {
      "application/vnd.jupyter.widget-view+json": {
       "model_id": "2b578e184021425f86401105029cd317",
       "version_major": 2,
       "version_minor": 0
      },
      "text/plain": [
       "Export report to file:   0%|          | 0/1 [00:00<?, ?it/s]"
      ]
     },
     "metadata": {},
     "output_type": "display_data"
    }
   ],
   "source": [
    "# Rerun EDA with clean df\n",
    "profile = ProfileReport(stroop_df.iloc[:,2:], title=f\"Stroop Task Run {run_num} - Clean | Pandas Profiling Report\")\n",
    "profile.to_file(eda_reports_path + f\"task_stroop_run{run_num}_clean.html\")"
   ]
  },
  {
   "cell_type": "markdown",
   "metadata": {},
   "source": [
    "### PSAT\n",
    "\n",
    "[RKStudio Documentation](https://rkstudio-support.careevolution.com/hc/en-us/articles/1500002352262-Paced-Serial-Addition-Test-PSAT-Active-Task-Export-Format)"
   ]
  },
  {
   "cell_type": "markdown",
   "metadata": {},
   "source": [
    "#### Load Data"
   ]
  },
  {
   "cell_type": "code",
   "execution_count": 214,
   "metadata": {},
   "outputs": [
    {
     "name": "stdout",
     "output_type": "stream",
     "text": [
      "deleted existing df\n"
     ]
    }
   ],
   "source": [
    "# erase df if it already exists\n",
    "if 'df' in globals():\n",
    "    del(df)\n",
    "    print('deleted existing df')\n",
    "    \n",
    "if 'psat_df' in globals():\n",
    "    del(psat_df)\n",
    "    print('deleted existing psat_df')"
   ]
  },
  {
   "cell_type": "code",
   "execution_count": 215,
   "metadata": {},
   "outputs": [
    {
     "name": "stderr",
     "output_type": "stream",
     "text": [
      "100%|██████████| 87/87 [00:00<00:00, 428.54it/s]\n"
     ]
    }
   ],
   "source": [
    "# loop through all days\n",
    "days = [i for i in os.listdir(path) if i.startswith('RK')]\n",
    "for day in tqdm(days):\n",
    "    files = os.listdir(path + day)\n",
    "    surveyQuestions = [i for i in files if i.startswith('SurveyPSATResults')]\n",
    "    # there should be only one\n",
    "    for file in surveyQuestions:\n",
    "        if 'df' not in globals():\n",
    "            df = pd.read_csv(path + day + '/' + file)\n",
    "        else:\n",
    "            temp_df = pd.read_csv(path + day + '/' + file)\n",
    "            df = pd.concat([df,temp_df], axis=0)"
   ]
  },
  {
   "cell_type": "markdown",
   "metadata": {},
   "source": [
    "#### Format Data"
   ]
  },
  {
   "cell_type": "code",
   "execution_count": 216,
   "metadata": {},
   "outputs": [
    {
     "data": {
      "text/plain": [
       "SurveyPSATResultKey      0\n",
       "SurveyStepResultKey      0\n",
       "SurveyResultKey          0\n",
       "ParticipantIdentifier    0\n",
       "PresentationMode         0\n",
       "InterStimulusInterval    0\n",
       "StimulusDuration         0\n",
       "Length                   0\n",
       "TotalCorrect             0\n",
       "TotalDyad                0\n",
       "TotalTime                0\n",
       "InitialDigit             0\n",
       "StartDate                0\n",
       "EndDate                  0\n",
       "Samples                  0\n",
       "dtype: int64"
      ]
     },
     "execution_count": 216,
     "metadata": {},
     "output_type": "execute_result"
    }
   ],
   "source": [
    "# check for na dates...\n",
    "df.isna().sum()"
   ]
  },
  {
   "cell_type": "code",
   "execution_count": 217,
   "metadata": {},
   "outputs": [],
   "source": [
    "df = df.dropna(subset=['EndDate']).reset_index(drop=True)"
   ]
  },
  {
   "cell_type": "code",
   "execution_count": 218,
   "metadata": {},
   "outputs": [],
   "source": [
    "# Select only subjects in current run\n",
    "df = df.loc[df.ParticipantIdentifier.isin(subjects)].reset_index(drop=True)"
   ]
  },
  {
   "cell_type": "code",
   "execution_count": 219,
   "metadata": {},
   "outputs": [
    {
     "name": "stderr",
     "output_type": "stream",
     "text": [
      "  0%|          | 0/4113 [00:00<?, ?it/s]"
     ]
    },
    {
     "name": "stderr",
     "output_type": "stream",
     "text": [
      "100%|██████████| 4113/4113 [00:00<00:00, 9685.05it/s]\n"
     ]
    }
   ],
   "source": [
    "# add trial date and time columns\n",
    "for i in tqdm(range(df.shape[0])):\n",
    "    dt = parser.parse(df.loc[i, 'EndDate'])\n",
    "    df.loc[i, 'datetime'] = dt\n",
    "    df.loc[i, 'trial_date'] = (dt + datetime.timedelta(hours = -4)).date() # trial day associated with sample (4am is when the day flips)\n",
    "    df.loc[i, 'time'] = dt.time()"
   ]
  },
  {
   "cell_type": "code",
   "execution_count": 220,
   "metadata": {},
   "outputs": [
    {
     "data": {
      "text/html": [
       "<div>\n",
       "<style scoped>\n",
       "    .dataframe tbody tr th:only-of-type {\n",
       "        vertical-align: middle;\n",
       "    }\n",
       "\n",
       "    .dataframe tbody tr th {\n",
       "        vertical-align: top;\n",
       "    }\n",
       "\n",
       "    .dataframe thead th {\n",
       "        text-align: right;\n",
       "    }\n",
       "</style>\n",
       "<table border=\"1\" class=\"dataframe\">\n",
       "  <thead>\n",
       "    <tr style=\"text-align: right;\">\n",
       "      <th></th>\n",
       "      <th>SurveyPSATResultKey</th>\n",
       "      <th>SurveyStepResultKey</th>\n",
       "      <th>SurveyResultKey</th>\n",
       "      <th>ParticipantIdentifier</th>\n",
       "      <th>PresentationMode</th>\n",
       "      <th>InterStimulusInterval</th>\n",
       "      <th>StimulusDuration</th>\n",
       "      <th>Length</th>\n",
       "      <th>TotalCorrect</th>\n",
       "      <th>TotalDyad</th>\n",
       "      <th>TotalTime</th>\n",
       "      <th>InitialDigit</th>\n",
       "      <th>StartDate</th>\n",
       "      <th>EndDate</th>\n",
       "      <th>Samples</th>\n",
       "      <th>datetime</th>\n",
       "      <th>trial_date</th>\n",
       "      <th>time</th>\n",
       "    </tr>\n",
       "  </thead>\n",
       "  <tbody>\n",
       "    <tr>\n",
       "      <th>0</th>\n",
       "      <td>0440c97d-8b53-ed11-aac1-0afb9334277d</td>\n",
       "      <td>f43fc97d-8b53-ed11-aac1-0afb9334277d</td>\n",
       "      <td>ea3fc97d-8b53-ed11-aac1-0afb9334277d</td>\n",
       "      <td>c62ae7a2-6fe6-4fd5-9b9e-93773b08d8b9</td>\n",
       "      <td>Visual</td>\n",
       "      <td>3</td>\n",
       "      <td>1</td>\n",
       "      <td>30</td>\n",
       "      <td>30</td>\n",
       "      <td>29</td>\n",
       "      <td>36.382437</td>\n",
       "      <td>6</td>\n",
       "      <td>2022-10-24T07:03:37-04:00</td>\n",
       "      <td>2022-10-24T07:03:37-04:00</td>\n",
       "      <td>[{\"Answer\":15,\"Correct\":true,\"Time\":1.28411066...</td>\n",
       "      <td>2022-10-24 07:03:37-04:00</td>\n",
       "      <td>2022-10-24</td>\n",
       "      <td>07:03:37</td>\n",
       "    </tr>\n",
       "    <tr>\n",
       "      <th>1</th>\n",
       "      <td>7c2fccdd-8b53-ed11-aac1-0afb9334277d</td>\n",
       "      <td>6c2fccdd-8b53-ed11-aac1-0afb9334277d</td>\n",
       "      <td>602fccdd-8b53-ed11-aac1-0afb9334277d</td>\n",
       "      <td>39d785c6-9e3d-44c2-88ec-2ce14ef923f9</td>\n",
       "      <td>Visual</td>\n",
       "      <td>3</td>\n",
       "      <td>1</td>\n",
       "      <td>30</td>\n",
       "      <td>23</td>\n",
       "      <td>18</td>\n",
       "      <td>46.628217</td>\n",
       "      <td>2</td>\n",
       "      <td>2022-10-24T07:06:10-04:00</td>\n",
       "      <td>2022-10-24T07:06:10-04:00</td>\n",
       "      <td>[{\"Answer\":6,\"Correct\":true,\"Time\":1.073050333...</td>\n",
       "      <td>2022-10-24 07:06:10-04:00</td>\n",
       "      <td>2022-10-24</td>\n",
       "      <td>07:06:10</td>\n",
       "    </tr>\n",
       "  </tbody>\n",
       "</table>\n",
       "</div>"
      ],
      "text/plain": [
       "                    SurveyPSATResultKey                   SurveyStepResultKey  \\\n",
       "0  0440c97d-8b53-ed11-aac1-0afb9334277d  f43fc97d-8b53-ed11-aac1-0afb9334277d   \n",
       "1  7c2fccdd-8b53-ed11-aac1-0afb9334277d  6c2fccdd-8b53-ed11-aac1-0afb9334277d   \n",
       "\n",
       "                        SurveyResultKey                 ParticipantIdentifier  \\\n",
       "0  ea3fc97d-8b53-ed11-aac1-0afb9334277d  c62ae7a2-6fe6-4fd5-9b9e-93773b08d8b9   \n",
       "1  602fccdd-8b53-ed11-aac1-0afb9334277d  39d785c6-9e3d-44c2-88ec-2ce14ef923f9   \n",
       "\n",
       "  PresentationMode  InterStimulusInterval  StimulusDuration  Length  \\\n",
       "0           Visual                      3                 1      30   \n",
       "1           Visual                      3                 1      30   \n",
       "\n",
       "   TotalCorrect  TotalDyad  TotalTime  InitialDigit  \\\n",
       "0            30         29  36.382437             6   \n",
       "1            23         18  46.628217             2   \n",
       "\n",
       "                   StartDate                    EndDate  \\\n",
       "0  2022-10-24T07:03:37-04:00  2022-10-24T07:03:37-04:00   \n",
       "1  2022-10-24T07:06:10-04:00  2022-10-24T07:06:10-04:00   \n",
       "\n",
       "                                             Samples  \\\n",
       "0  [{\"Answer\":15,\"Correct\":true,\"Time\":1.28411066...   \n",
       "1  [{\"Answer\":6,\"Correct\":true,\"Time\":1.073050333...   \n",
       "\n",
       "                    datetime  trial_date      time  \n",
       "0  2022-10-24 07:03:37-04:00  2022-10-24  07:03:37  \n",
       "1  2022-10-24 07:06:10-04:00  2022-10-24  07:06:10  "
      ]
     },
     "execution_count": 220,
     "metadata": {},
     "output_type": "execute_result"
    }
   ],
   "source": [
    "df.head(2)"
   ]
  },
  {
   "cell_type": "markdown",
   "metadata": {},
   "source": [
    "---\n",
    "\n",
    "The important data is:\n",
    "- `Length` + `TotalCorrect` to determine accuracy\n",
    "- `TotalTime` / `Length` to get time/trial \n",
    "    - (use this instead of `TotalTime` in case we change number of trials"
   ]
  },
  {
   "cell_type": "code",
   "execution_count": 221,
   "metadata": {},
   "outputs": [],
   "source": [
    "# Replace commas with decimals (for European participants)\n",
    "df['TotalTime'] = df['TotalTime'].replace(',', '.', regex=True)\n",
    "df.TotalTime = df.TotalTime.astype('float')"
   ]
  },
  {
   "cell_type": "code",
   "execution_count": 222,
   "metadata": {},
   "outputs": [
    {
     "data": {
      "text/html": [
       "<div>\n",
       "<style scoped>\n",
       "    .dataframe tbody tr th:only-of-type {\n",
       "        vertical-align: middle;\n",
       "    }\n",
       "\n",
       "    .dataframe tbody tr th {\n",
       "        vertical-align: top;\n",
       "    }\n",
       "\n",
       "    .dataframe thead th {\n",
       "        text-align: right;\n",
       "    }\n",
       "</style>\n",
       "<table border=\"1\" class=\"dataframe\">\n",
       "  <thead>\n",
       "    <tr style=\"text-align: right;\">\n",
       "      <th></th>\n",
       "      <th>ParticipantIdentifier</th>\n",
       "      <th>trial_date</th>\n",
       "      <th>task_psat_accuracy</th>\n",
       "      <th>task_psat_avgRT</th>\n",
       "      <th>task_psat_varRT</th>\n",
       "      <th>task_psat_flag_sub100RT_n</th>\n",
       "      <th>task_psat_flag_3plusRT_n</th>\n",
       "    </tr>\n",
       "  </thead>\n",
       "  <tbody>\n",
       "    <tr>\n",
       "      <th>0</th>\n",
       "      <td>c62ae7a2-6fe6-4fd5-9b9e-93773b08d8b9</td>\n",
       "      <td>2022-10-24</td>\n",
       "      <td>1.000000</td>\n",
       "      <td>1.212748</td>\n",
       "      <td>0.263278</td>\n",
       "      <td>0</td>\n",
       "      <td>0</td>\n",
       "    </tr>\n",
       "    <tr>\n",
       "      <th>1</th>\n",
       "      <td>39d785c6-9e3d-44c2-88ec-2ce14ef923f9</td>\n",
       "      <td>2022-10-24</td>\n",
       "      <td>0.766667</td>\n",
       "      <td>1.554274</td>\n",
       "      <td>0.241998</td>\n",
       "      <td>0</td>\n",
       "      <td>0</td>\n",
       "    </tr>\n",
       "  </tbody>\n",
       "</table>\n",
       "</div>"
      ],
      "text/plain": [
       "                  ParticipantIdentifier  trial_date  task_psat_accuracy  \\\n",
       "0  c62ae7a2-6fe6-4fd5-9b9e-93773b08d8b9  2022-10-24            1.000000   \n",
       "1  39d785c6-9e3d-44c2-88ec-2ce14ef923f9  2022-10-24            0.766667   \n",
       "\n",
       "   task_psat_avgRT  task_psat_varRT  task_psat_flag_sub100RT_n  \\\n",
       "0         1.212748         0.263278                          0   \n",
       "1         1.554274         0.241998                          0   \n",
       "\n",
       "   task_psat_flag_3plusRT_n  \n",
       "0                         0  \n",
       "1                         0  "
      ]
     },
     "execution_count": 222,
     "metadata": {},
     "output_type": "execute_result"
    }
   ],
   "source": [
    "# Calculate 'task_psat_accuracy' column\n",
    "df['task_psat_accuracy'] = df['TotalCorrect'] / df['Length']\n",
    "\n",
    "# Define a function to calculate 'task_psat_avgRT', 'task_psat_flag_3plusRT_n', 'task_psat_flag_sub100RT_n' and 'task_psat_varRT'\n",
    "def calculate_avgRT_and_flag(samples, length):\n",
    "    # Convert the string representation of the samples list into a list of dictionaries\n",
    "    samples_list = json.loads(samples)\n",
    "    \n",
    "    # Extract all 'Time' values\n",
    "    times = [item[\"Time\"] for item in samples_list]\n",
    "    \n",
    "    # Count the number of 'Time' values greater than 3.0\n",
    "    flag_count = sum(1 for time in times if time > 3.0)\n",
    "    \n",
    "    # Replace 'Time' values greater than 3.0 with 3.0\n",
    "    times = [min(time, 3.0) for time in times]\n",
    "    \n",
    "    # Calculate the average 'Time' value\n",
    "    avgRT = sum(times) / length\n",
    "    \n",
    "    # Flag 'Time' values less than 100ms\n",
    "    min100_count = sum(1 for time in times if time < 0.1)\n",
    "    \n",
    "    # Calculate the variance of 'Time' values\n",
    "    varRT = np.var(times)\n",
    "    \n",
    "    return avgRT, flag_count, varRT, min100_count\n",
    "\n",
    "# Apply the function to the DataFrame and split the results into two new columns\n",
    "df['task_psat_avgRT'], df['task_psat_flag_3plusRT_n'], df['task_psat_varRT'], df['task_psat_flag_sub100RT_n'] = zip(*df.apply(lambda row: calculate_avgRT_and_flag(row['Samples'], row['Length']), axis=1))\n",
    "\n",
    "# keep relevant columns\n",
    "psat_df = df[['ParticipantIdentifier', 'trial_date', 'task_psat_accuracy', 'task_psat_avgRT', 'task_psat_varRT', 'task_psat_flag_sub100RT_n', 'task_psat_flag_3plusRT_n']]\n",
    "psat_df.head(2)\n"
   ]
  },
  {
   "cell_type": "markdown",
   "metadata": {},
   "source": [
    "#### EDA"
   ]
  },
  {
   "cell_type": "code",
   "execution_count": null,
   "metadata": {},
   "outputs": [
    {
     "data": {
      "application/vnd.jupyter.widget-view+json": {
       "model_id": "456a8755116441e3bc8b606c5d88017b",
       "version_major": 2,
       "version_minor": 0
      },
      "text/plain": [
       "Summarize dataset:   0%|          | 0/5 [00:00<?, ?it/s]"
      ]
     },
     "metadata": {},
     "output_type": "display_data"
    },
    {
     "data": {
      "application/vnd.jupyter.widget-view+json": {
       "model_id": "1de88cb10bf54bf5bb6465f7974ad657",
       "version_major": 2,
       "version_minor": 0
      },
      "text/plain": [
       "Generate report structure:   0%|          | 0/1 [00:00<?, ?it/s]"
      ]
     },
     "metadata": {},
     "output_type": "display_data"
    },
    {
     "data": {
      "application/vnd.jupyter.widget-view+json": {
       "model_id": "ecaf8ede11f4419ea66cfa7cf0f0903c",
       "version_major": 2,
       "version_minor": 0
      },
      "text/plain": [
       "Render HTML:   0%|          | 0/1 [00:00<?, ?it/s]"
      ]
     },
     "metadata": {},
     "output_type": "display_data"
    },
    {
     "data": {
      "application/vnd.jupyter.widget-view+json": {
       "model_id": "0960602d4a9d4a5bbb7ebe69b16a3332",
       "version_major": 2,
       "version_minor": 0
      },
      "text/plain": [
       "Export report to file:   0%|          | 0/1 [00:00<?, ?it/s]"
      ]
     },
     "metadata": {},
     "output_type": "display_data"
    }
   ],
   "source": [
    "profile = ProfileReport(psat_df.iloc[:,2:], title=f\"PSAT Task Run {run_num} | Pandas Profiling Report\")\n",
    "profile.to_file(eda_reports_path + f\"task_psat_run{run_num}.html\")"
   ]
  },
  {
   "cell_type": "markdown",
   "metadata": {},
   "source": [
    "#### Clean\n",
    "\n",
    "We had some clear RT outlier values given that the mean of the trials' average RT (even with outliers) was less than 1 second, and yet there where maxmum average RT that were multiple minutes.\n",
    "\n",
    "Going back it appeared that there were glitches as on some trials there were response times above 3.0 seconds which should have been the in-app limit. \n",
    "\n",
    "I replaced any values above 3.0 with 3.0 before calculating the average RT time per trial.\n",
    "I also created a column called `task_psat_flag_3plusRT_n` that indicated how many responses had an RT greater than 3.0 orginally, for each trial. For cohort 2, for example, 212 trials (out of 6418) had at least one RT greater than 3.0.\n",
    "\n",
    "**RTs**\n",
    "\n",
    "We also know from the work of Luce (1984) and Whelan (2008) that RTs below 100ms are not realistic.\n",
    "\n",
    "We therefore also counted up how many responses in each trial had RTs BELOW 100ms and indicated the numebr in the column `task_psat_flag_sub100RT_n`"
   ]
  },
  {
   "cell_type": "markdown",
   "metadata": {},
   "source": [
    "### Tower of Hanoi\n",
    "\n",
    "[RK Studio Documentation](http://researchkit.org/docs/docs/ActiveTasks/ActiveTasks.html#towerhttp://researchkit.org/docs/docs/ActiveTasks/ActiveTasks.html#tower)\n",
    "\n",
    ">In the Tower of Hanoi task the user is asked to solve the classic Tower of Hanoi puzzle in a minimum number of moves. To solve the puzzle, the user must move the entire stack to the highlighted platform in as few moves as possible. This task measures the user’s problem solving skills. A Tower of Hanoi task finishes when the user completes the puzzle correctly or concedes that they cannot solve the puzzle.\n",
    "\n",
    ">Data collected by this task is in the form of an ORKTowerOfHanoiResult object. It contains every move taken by the user and indicates whether the puzzle was successfully completed or not."
   ]
  },
  {
   "cell_type": "markdown",
   "metadata": {},
   "source": [
    "#### Load Data"
   ]
  },
  {
   "cell_type": "code",
   "execution_count": 223,
   "metadata": {},
   "outputs": [
    {
     "name": "stdout",
     "output_type": "stream",
     "text": [
      "deleted existing df\n"
     ]
    }
   ],
   "source": [
    "# erase df if it already exists\n",
    "if 'df' in globals():\n",
    "    del(df)\n",
    "    print('deleted existing df')\n",
    "    \n",
    "if 'toh_df' in globals():\n",
    "    del(toh_df)\n",
    "    print('deleted existing toh_df')"
   ]
  },
  {
   "cell_type": "code",
   "execution_count": 224,
   "metadata": {},
   "outputs": [
    {
     "name": "stderr",
     "output_type": "stream",
     "text": [
      "100%|██████████| 87/87 [00:00<00:00, 348.75it/s]\n"
     ]
    }
   ],
   "source": [
    "# loop through all days\n",
    "days = [i for i in os.listdir(path) if i.startswith('RK')]\n",
    "for day in tqdm(days):\n",
    "    files = os.listdir(path + day)\n",
    "    surveyQuestions = [i for i in files if i.startswith('SurveyTowerOfHanoiResults')]\n",
    "    # there should be only one\n",
    "    for file in surveyQuestions:\n",
    "        if 'df' not in globals():\n",
    "            df = pd.read_csv(path + day + '/' + file)\n",
    "        else:\n",
    "            temp_df = pd.read_csv(path + day + '/' + file)\n",
    "            df = pd.concat([df,temp_df], axis=0)"
   ]
  },
  {
   "cell_type": "markdown",
   "metadata": {},
   "source": [
    "#### Format Data"
   ]
  },
  {
   "cell_type": "code",
   "execution_count": 225,
   "metadata": {},
   "outputs": [
    {
     "data": {
      "text/plain": [
       "SurveyTowerOfHanoiResultKey    0\n",
       "SurveyStepResultKey            0\n",
       "SurveyResultKey                0\n",
       "ParticipantIdentifier          0\n",
       "PuzzleWasSolved                0\n",
       "StartDate                      0\n",
       "EndDate                        0\n",
       "Moves                          0\n",
       "dtype: int64"
      ]
     },
     "execution_count": 225,
     "metadata": {},
     "output_type": "execute_result"
    }
   ],
   "source": [
    "# check for na dates...\n",
    "df.isna().sum()"
   ]
  },
  {
   "cell_type": "code",
   "execution_count": 226,
   "metadata": {},
   "outputs": [],
   "source": [
    "df = df.dropna(subset=['EndDate']).reset_index(drop=True)"
   ]
  },
  {
   "cell_type": "code",
   "execution_count": 227,
   "metadata": {},
   "outputs": [],
   "source": [
    "# Select only subjects in current run\n",
    "df = df.loc[df.ParticipantIdentifier.isin(subjects)].reset_index(drop=True)"
   ]
  },
  {
   "cell_type": "code",
   "execution_count": 228,
   "metadata": {},
   "outputs": [
    {
     "name": "stderr",
     "output_type": "stream",
     "text": [
      "  0%|          | 0/4206 [00:00<?, ?it/s]"
     ]
    },
    {
     "name": "stderr",
     "output_type": "stream",
     "text": [
      "100%|██████████| 4206/4206 [00:00<00:00, 9675.50it/s]\n"
     ]
    },
    {
     "data": {
      "text/html": [
       "<div>\n",
       "<style scoped>\n",
       "    .dataframe tbody tr th:only-of-type {\n",
       "        vertical-align: middle;\n",
       "    }\n",
       "\n",
       "    .dataframe tbody tr th {\n",
       "        vertical-align: top;\n",
       "    }\n",
       "\n",
       "    .dataframe thead th {\n",
       "        text-align: right;\n",
       "    }\n",
       "</style>\n",
       "<table border=\"1\" class=\"dataframe\">\n",
       "  <thead>\n",
       "    <tr style=\"text-align: right;\">\n",
       "      <th></th>\n",
       "      <th>SurveyTowerOfHanoiResultKey</th>\n",
       "      <th>SurveyStepResultKey</th>\n",
       "      <th>SurveyResultKey</th>\n",
       "      <th>ParticipantIdentifier</th>\n",
       "      <th>PuzzleWasSolved</th>\n",
       "      <th>StartDate</th>\n",
       "      <th>EndDate</th>\n",
       "      <th>Moves</th>\n",
       "      <th>datetime</th>\n",
       "      <th>trial_date</th>\n",
       "      <th>time</th>\n",
       "    </tr>\n",
       "  </thead>\n",
       "  <tbody>\n",
       "    <tr>\n",
       "      <th>0</th>\n",
       "      <td>03111c2a-8b53-ed11-aac1-0afb9334277d</td>\n",
       "      <td>ef101c2a-8b53-ed11-aac1-0afb9334277d</td>\n",
       "      <td>dd101c2a-8b53-ed11-aac1-0afb9334277d</td>\n",
       "      <td>c62ae7a2-6fe6-4fd5-9b9e-93773b08d8b9</td>\n",
       "      <td>True</td>\n",
       "      <td>2022-10-24T07:00:57-04:00</td>\n",
       "      <td>2022-10-24T07:01:13-04:00</td>\n",
       "      <td>[{\"Timestamp\":0.0,\"DonorTowerIndex\":0,\"Recipie...</td>\n",
       "      <td>2022-10-24 07:01:13-04:00</td>\n",
       "      <td>2022-10-24</td>\n",
       "      <td>07:01:13</td>\n",
       "    </tr>\n",
       "    <tr>\n",
       "      <th>1</th>\n",
       "      <td>da3ce753-8b53-ed11-aac1-0afb9334277d</td>\n",
       "      <td>ce3ce753-8b53-ed11-aac1-0afb9334277d</td>\n",
       "      <td>c53ce753-8b53-ed11-aac1-0afb9334277d</td>\n",
       "      <td>39d785c6-9e3d-44c2-88ec-2ce14ef923f9</td>\n",
       "      <td>True</td>\n",
       "      <td>2022-10-24T07:01:31-04:00</td>\n",
       "      <td>2022-10-24T07:02:19-04:00</td>\n",
       "      <td>[{\"Timestamp\":0.0,\"DonorTowerIndex\":0,\"Recipie...</td>\n",
       "      <td>2022-10-24 07:02:19-04:00</td>\n",
       "      <td>2022-10-24</td>\n",
       "      <td>07:02:19</td>\n",
       "    </tr>\n",
       "    <tr>\n",
       "      <th>2</th>\n",
       "      <td>ca1d92df-8c53-ed11-aac1-0afb9334277d</td>\n",
       "      <td>b41d92df-8c53-ed11-aac1-0afb9334277d</td>\n",
       "      <td>a31d92df-8c53-ed11-aac1-0afb9334277d</td>\n",
       "      <td>6b827de8-fe47-4007-aad3-202655b954e3</td>\n",
       "      <td>True</td>\n",
       "      <td>2022-10-24T07:12:32-04:00</td>\n",
       "      <td>2022-10-24T07:13:30-04:00</td>\n",
       "      <td>[{\"Timestamp\":0.0,\"DonorTowerIndex\":0,\"Recipie...</td>\n",
       "      <td>2022-10-24 07:13:30-04:00</td>\n",
       "      <td>2022-10-24</td>\n",
       "      <td>07:13:30</td>\n",
       "    </tr>\n",
       "  </tbody>\n",
       "</table>\n",
       "</div>"
      ],
      "text/plain": [
       "            SurveyTowerOfHanoiResultKey                   SurveyStepResultKey  \\\n",
       "0  03111c2a-8b53-ed11-aac1-0afb9334277d  ef101c2a-8b53-ed11-aac1-0afb9334277d   \n",
       "1  da3ce753-8b53-ed11-aac1-0afb9334277d  ce3ce753-8b53-ed11-aac1-0afb9334277d   \n",
       "2  ca1d92df-8c53-ed11-aac1-0afb9334277d  b41d92df-8c53-ed11-aac1-0afb9334277d   \n",
       "\n",
       "                        SurveyResultKey                 ParticipantIdentifier  \\\n",
       "0  dd101c2a-8b53-ed11-aac1-0afb9334277d  c62ae7a2-6fe6-4fd5-9b9e-93773b08d8b9   \n",
       "1  c53ce753-8b53-ed11-aac1-0afb9334277d  39d785c6-9e3d-44c2-88ec-2ce14ef923f9   \n",
       "2  a31d92df-8c53-ed11-aac1-0afb9334277d  6b827de8-fe47-4007-aad3-202655b954e3   \n",
       "\n",
       "   PuzzleWasSolved                  StartDate                    EndDate  \\\n",
       "0             True  2022-10-24T07:00:57-04:00  2022-10-24T07:01:13-04:00   \n",
       "1             True  2022-10-24T07:01:31-04:00  2022-10-24T07:02:19-04:00   \n",
       "2             True  2022-10-24T07:12:32-04:00  2022-10-24T07:13:30-04:00   \n",
       "\n",
       "                                               Moves  \\\n",
       "0  [{\"Timestamp\":0.0,\"DonorTowerIndex\":0,\"Recipie...   \n",
       "1  [{\"Timestamp\":0.0,\"DonorTowerIndex\":0,\"Recipie...   \n",
       "2  [{\"Timestamp\":0.0,\"DonorTowerIndex\":0,\"Recipie...   \n",
       "\n",
       "                    datetime  trial_date      time  \n",
       "0  2022-10-24 07:01:13-04:00  2022-10-24  07:01:13  \n",
       "1  2022-10-24 07:02:19-04:00  2022-10-24  07:02:19  \n",
       "2  2022-10-24 07:13:30-04:00  2022-10-24  07:13:30  "
      ]
     },
     "execution_count": 228,
     "metadata": {},
     "output_type": "execute_result"
    }
   ],
   "source": [
    "# add trial date and time columns\n",
    "for i in tqdm(range(df.shape[0])):\n",
    "    dt = parser.parse(df.loc[i, 'EndDate'])\n",
    "    df.loc[i, 'datetime'] = dt\n",
    "    df.loc[i, 'trial_date'] = (dt + datetime.timedelta(hours = -4)).date() # trial day associated with sample (4am is when the day flips)\n",
    "    df.loc[i, 'time'] = dt.time()\n",
    "    \n",
    "df.head(3)"
   ]
  },
  {
   "cell_type": "markdown",
   "metadata": {},
   "source": [
    "The important data is in `Moves` where we have:\n",
    "- `TapTimestamp`\n",
    "- `TapIndex`\n",
    "- `TapIncorrect`\n",
    "\n",
    "I want to get the last `TapTimestamp` to calculate total timing"
   ]
  },
  {
   "cell_type": "code",
   "execution_count": 229,
   "metadata": {},
   "outputs": [
    {
     "data": {
      "text/plain": [
       "'[{\"Timestamp\":0.0,\"DonorTowerIndex\":0,\"RecipientTowerIndex\":2},{\"Timestamp\":0.44844293594360352,\"DonorTowerIndex\":0,\"RecipientTowerIndex\":1},{\"Timestamp\":0.79825496673583984,\"DonorTowerIndex\":2,\"RecipientTowerIndex\":1},{\"Timestamp\":1.2141859531402588,\"DonorTowerIndex\":0,\"RecipientTowerIndex\":2},{\"Timestamp\":1.6481199264526367,\"DonorTowerIndex\":1,\"RecipientTowerIndex\":0},{\"Timestamp\":2.0084099769592285,\"DonorTowerIndex\":1,\"RecipientTowerIndex\":2},{\"Timestamp\":2.4056679010391235,\"DonorTowerIndex\":0,\"RecipientTowerIndex\":2},{\"Timestamp\":2.8057299852371216,\"DonorTowerIndex\":0,\"RecipientTowerIndex\":1},{\"Timestamp\":3.2057470083236694,\"DonorTowerIndex\":2,\"RecipientTowerIndex\":1},{\"Timestamp\":3.5718460083007812,\"DonorTowerIndex\":2,\"RecipientTowerIndex\":0},{\"Timestamp\":7.4691159725189209,\"DonorTowerIndex\":1,\"RecipientTowerIndex\":0},{\"Timestamp\":7.8433569669723511,\"DonorTowerIndex\":2,\"RecipientTowerIndex\":1},{\"Timestamp\":8.24301290512085,\"DonorTowerIndex\":0,\"RecipientTowerIndex\":2},{\"Timestamp\":8.6092379093170166,\"DonorTowerIndex\":0,\"RecipientTowerIndex\":1},{\"Timestamp\":9.0175319910049438,\"DonorTowerIndex\":2,\"RecipientTowerIndex\":1},{\"Timestamp\":9.5074919462203979,\"DonorTowerIndex\":0,\"RecipientTowerIndex\":2},{\"Timestamp\":9.8993649482727051,\"DonorTowerIndex\":1,\"RecipientTowerIndex\":0},{\"Timestamp\":10.31508195400238,\"DonorTowerIndex\":1,\"RecipientTowerIndex\":2},{\"Timestamp\":10.955944895744324,\"DonorTowerIndex\":0,\"RecipientTowerIndex\":2},{\"Timestamp\":11.373016953468323,\"DonorTowerIndex\":1,\"RecipientTowerIndex\":0},{\"Timestamp\":11.781189918518066,\"DonorTowerIndex\":2,\"RecipientTowerIndex\":1},{\"Timestamp\":12.197211980819702,\"DonorTowerIndex\":2,\"RecipientTowerIndex\":0},{\"Timestamp\":12.572218894958496,\"DonorTowerIndex\":1,\"RecipientTowerIndex\":0},{\"Timestamp\":13.122085928916931,\"DonorTowerIndex\":1,\"RecipientTowerIndex\":2},{\"Timestamp\":13.5540030002594,\"DonorTowerIndex\":0,\"RecipientTowerIndex\":2},{\"Timestamp\":13.996248006820679,\"DonorTowerIndex\":0,\"RecipientTowerIndex\":1},{\"Timestamp\":14.420886993408203,\"DonorTowerIndex\":2,\"RecipientTowerIndex\":1},{\"Timestamp\":14.786671996116638,\"DonorTowerIndex\":0,\"RecipientTowerIndex\":2},{\"Timestamp\":15.27804696559906,\"DonorTowerIndex\":1,\"RecipientTowerIndex\":0},{\"Timestamp\":15.636812925338745,\"DonorTowerIndex\":1,\"RecipientTowerIndex\":2},{\"Timestamp\":15.945243000984192,\"DonorTowerIndex\":0,\"RecipientTowerIndex\":2}]'"
      ]
     },
     "execution_count": 229,
     "metadata": {},
     "output_type": "execute_result"
    }
   ],
   "source": [
    "# Taps is a string of a list of dictionaries\n",
    "df.Moves[0]"
   ]
  },
  {
   "cell_type": "code",
   "execution_count": 230,
   "metadata": {},
   "outputs": [
    {
     "name": "stdout",
     "output_type": "stream",
     "text": [
      "{'Timestamp': 15.945243000984192, 'DonorTowerIndex': 0, 'RecipientTowerIndex': 2}\n"
     ]
    },
    {
     "data": {
      "text/plain": [
       "15.945243000984192"
      ]
     },
     "execution_count": 230,
     "metadata": {},
     "output_type": "execute_result"
    }
   ],
   "source": [
    "# Can convert to list of dicts and then access an individual dict\n",
    "data = json.loads(df.Moves[0])\n",
    "\n",
    "# print last dict\n",
    "print(data[-1])\n",
    "\n",
    "# extract the time\n",
    "data[-1]['Timestamp']"
   ]
  },
  {
   "cell_type": "code",
   "execution_count": 231,
   "metadata": {},
   "outputs": [
    {
     "data": {
      "text/plain": [
       "31"
      ]
     },
     "execution_count": 231,
     "metadata": {},
     "output_type": "execute_result"
    }
   ],
   "source": [
    "# numbmer of moves\n",
    "len(data)"
   ]
  },
  {
   "cell_type": "code",
   "execution_count": 232,
   "metadata": {},
   "outputs": [],
   "source": [
    "# convert string Taps to list of dicts\n",
    "df['MovesList'] = df['Moves'].apply(json.loads)\n",
    "\n",
    "# test if any lists are empty...this means NO MOVES\n",
    "drop_ix = []\n",
    "\n",
    "for i in range(len(df.MovesList)):\n",
    "    if df.MovesList[i]:\n",
    "        x = df.MovesList[i][-1]['Timestamp']\n",
    "    else:\n",
    "        drop_ix.append(i)"
   ]
  },
  {
   "cell_type": "code",
   "execution_count": 233,
   "metadata": {},
   "outputs": [],
   "source": [
    "# drop rows with empty move lists\n",
    "df = df.drop(df.index[drop_ix]).reset_index(drop=True)"
   ]
  },
  {
   "cell_type": "markdown",
   "metadata": {},
   "source": [
    "---\n",
    "\n",
    "The important data is:\n",
    "- `PuzzleWasSolved`\n",
    "    - just to indicate completion\n",
    "- Get total time required\n",
    "    - `Timestamp` in last dictionary\n",
    "- Get number of moves\n",
    "    - 1 dict/move so get count of dicts)"
   ]
  },
  {
   "cell_type": "code",
   "execution_count": 234,
   "metadata": {},
   "outputs": [
    {
     "name": "stderr",
     "output_type": "stream",
     "text": [
      "/var/folders/lw/ys_1b9sj08s904m4402qr0bm0000gn/T/ipykernel_9812/698439430.py:11: SettingWithCopyWarning: \n",
      "A value is trying to be set on a copy of a slice from a DataFrame.\n",
      "Try using .loc[row_indexer,col_indexer] = value instead\n",
      "\n",
      "See the caveats in the documentation: https://pandas.pydata.org/pandas-docs/stable/user_guide/indexing.html#returning-a-view-versus-a-copy\n",
      "  toh_df['task_hanoi_extraMoves'] = toh_df['task_hanoi_moves'] - 31\n"
     ]
    },
    {
     "data": {
      "text/html": [
       "<div>\n",
       "<style scoped>\n",
       "    .dataframe tbody tr th:only-of-type {\n",
       "        vertical-align: middle;\n",
       "    }\n",
       "\n",
       "    .dataframe tbody tr th {\n",
       "        vertical-align: top;\n",
       "    }\n",
       "\n",
       "    .dataframe thead th {\n",
       "        text-align: right;\n",
       "    }\n",
       "</style>\n",
       "<table border=\"1\" class=\"dataframe\">\n",
       "  <thead>\n",
       "    <tr style=\"text-align: right;\">\n",
       "      <th></th>\n",
       "      <th>ParticipantIdentifier</th>\n",
       "      <th>trial_date</th>\n",
       "      <th>task_hanoi_solved</th>\n",
       "      <th>task_hanoi_time</th>\n",
       "      <th>task_hanoi_moves</th>\n",
       "      <th>task_hanoi_extraMoves</th>\n",
       "    </tr>\n",
       "  </thead>\n",
       "  <tbody>\n",
       "    <tr>\n",
       "      <th>0</th>\n",
       "      <td>c62ae7a2-6fe6-4fd5-9b9e-93773b08d8b9</td>\n",
       "      <td>2022-10-24</td>\n",
       "      <td>True</td>\n",
       "      <td>15.945243</td>\n",
       "      <td>31</td>\n",
       "      <td>0</td>\n",
       "    </tr>\n",
       "    <tr>\n",
       "      <th>1</th>\n",
       "      <td>39d785c6-9e3d-44c2-88ec-2ce14ef923f9</td>\n",
       "      <td>2022-10-24</td>\n",
       "      <td>True</td>\n",
       "      <td>48.495506</td>\n",
       "      <td>48</td>\n",
       "      <td>17</td>\n",
       "    </tr>\n",
       "  </tbody>\n",
       "</table>\n",
       "</div>"
      ],
      "text/plain": [
       "                  ParticipantIdentifier  trial_date  task_hanoi_solved  \\\n",
       "0  c62ae7a2-6fe6-4fd5-9b9e-93773b08d8b9  2022-10-24               True   \n",
       "1  39d785c6-9e3d-44c2-88ec-2ce14ef923f9  2022-10-24               True   \n",
       "\n",
       "   task_hanoi_time  task_hanoi_moves  task_hanoi_extraMoves  \n",
       "0        15.945243                31                      0  \n",
       "1        48.495506                48                     17  "
      ]
     },
     "execution_count": 234,
     "metadata": {},
     "output_type": "execute_result"
    }
   ],
   "source": [
    "# assign new columns\n",
    "df = df.assign(task_hanoi_solved=lambda x: x.PuzzleWasSolved,\n",
    "               task_hanoi_time=lambda x: x.MovesList.apply(lambda x: x[-1]['Timestamp']),\n",
    "               task_hanoi_moves=[len(moves) for moves in df.MovesList] # maybe give this as a multiple on optimality (ideal = 1)?\n",
    "              )\n",
    "\n",
    "# keep relevant columns\n",
    "toh_df = df[['ParticipantIdentifier', 'trial_date', 'task_hanoi_solved', 'task_hanoi_time', 'task_hanoi_moves']]\n",
    "\n",
    "# add extra moves column\n",
    "toh_df['task_hanoi_extraMoves'] = toh_df['task_hanoi_moves'] - 31\n",
    "toh_df.head(2)"
   ]
  },
  {
   "cell_type": "code",
   "execution_count": 235,
   "metadata": {},
   "outputs": [
    {
     "data": {
      "text/plain": [
       "task_hanoi_solved         0.907474\n",
       "task_hanoi_time          51.748870\n",
       "task_hanoi_moves         46.648513\n",
       "task_hanoi_extraMoves    15.648513\n",
       "dtype: float64"
      ]
     },
     "execution_count": 235,
     "metadata": {},
     "output_type": "execute_result"
    }
   ],
   "source": [
    "toh_df.iloc[:, 2:].mean()"
   ]
  },
  {
   "cell_type": "code",
   "execution_count": 273,
   "metadata": {},
   "outputs": [],
   "source": [
    "# if the puzzle was not solved then extraMoves does not make sense\n",
    "toh_df.loc[toh_df['task_hanoi_solved']==False, 'task_hanoi_extraMoves'] = np.nan"
   ]
  },
  {
   "cell_type": "markdown",
   "metadata": {},
   "source": [
    "#### EDA"
   ]
  },
  {
   "cell_type": "code",
   "execution_count": null,
   "metadata": {},
   "outputs": [
    {
     "data": {
      "application/vnd.jupyter.widget-view+json": {
       "model_id": "aaff2e9ceeca4074852929aea67dd638",
       "version_major": 2,
       "version_minor": 0
      },
      "text/plain": [
       "Summarize dataset:   0%|          | 0/5 [00:00<?, ?it/s]"
      ]
     },
     "metadata": {},
     "output_type": "display_data"
    },
    {
     "data": {
      "application/vnd.jupyter.widget-view+json": {
       "model_id": "409d8c496a4f4e41bff99d18df083097",
       "version_major": 2,
       "version_minor": 0
      },
      "text/plain": [
       "Generate report structure:   0%|          | 0/1 [00:00<?, ?it/s]"
      ]
     },
     "metadata": {},
     "output_type": "display_data"
    },
    {
     "data": {
      "application/vnd.jupyter.widget-view+json": {
       "model_id": "f15527f016164aa0bbc3226916055896",
       "version_major": 2,
       "version_minor": 0
      },
      "text/plain": [
       "Render HTML:   0%|          | 0/1 [00:00<?, ?it/s]"
      ]
     },
     "metadata": {},
     "output_type": "display_data"
    },
    {
     "data": {
      "application/vnd.jupyter.widget-view+json": {
       "model_id": "2a96ad06fba548158350089e62537b6e",
       "version_major": 2,
       "version_minor": 0
      },
      "text/plain": [
       "Export report to file:   0%|          | 0/1 [00:00<?, ?it/s]"
      ]
     },
     "metadata": {},
     "output_type": "display_data"
    }
   ],
   "source": [
    "profile = ProfileReport(toh_df.iloc[:,2:], title=f\"TOH Task Run {run_num} | Pandas Profiling Report\")\n",
    "profile.to_file(eda_reports_path + f\"task_toh_run{run_num}.html\")"
   ]
  },
  {
   "cell_type": "markdown",
   "metadata": {},
   "source": [
    "#### Clean\n",
    "\n",
    "**RTs**\n",
    "\n",
    "While our mean time to solve the puzzle was about 48 seconds (without removing outliers), we have extreme values of over 12,000 seconds.\n",
    "\n",
    "We chose to use an ad-hoc method of removing trials where we cut out any trials that took longer than 10 minutes. This only removed 13 trials (out of 6333) in cohort 2.\n",
    "\n",
    "---\n",
    "\n",
    "We also have values of zero (95 in cohort 2). Most of these actually indicate that the puzzle was solved, which is of course impossible.\n",
    "\n",
    "All rows with a `task_hanoi_time` of zero are removed.\n",
    "\n",
    "---"
   ]
  },
  {
   "cell_type": "code",
   "execution_count": 236,
   "metadata": {},
   "outputs": [
    {
     "data": {
      "application/vnd.jupyter.widget-view+json": {
       "model_id": "e1e3a8f725e14118ad6b7da745c65f26",
       "version_major": 2,
       "version_minor": 0
      },
      "text/plain": [
       "Summarize dataset:   0%|          | 0/5 [00:00<?, ?it/s]"
      ]
     },
     "metadata": {},
     "output_type": "display_data"
    },
    {
     "data": {
      "application/vnd.jupyter.widget-view+json": {
       "model_id": "3b08e9ab8eb74f7f8ee0d50c0b1f2621",
       "version_major": 2,
       "version_minor": 0
      },
      "text/plain": [
       "Generate report structure:   0%|          | 0/1 [00:00<?, ?it/s]"
      ]
     },
     "metadata": {},
     "output_type": "display_data"
    },
    {
     "data": {
      "application/vnd.jupyter.widget-view+json": {
       "model_id": "3e6a820d7c5445b7bf089daf83e1ac01",
       "version_major": 2,
       "version_minor": 0
      },
      "text/plain": [
       "Render HTML:   0%|          | 0/1 [00:00<?, ?it/s]"
      ]
     },
     "metadata": {},
     "output_type": "display_data"
    },
    {
     "data": {
      "application/vnd.jupyter.widget-view+json": {
       "model_id": "b8f54e040976485fab504fa95251c527",
       "version_major": 2,
       "version_minor": 0
      },
      "text/plain": [
       "Export report to file:   0%|          | 0/1 [00:00<?, ?it/s]"
      ]
     },
     "metadata": {},
     "output_type": "display_data"
    }
   ],
   "source": [
    "# Remove all trials with zero time\n",
    "toh_df = toh_df.loc[toh_df['task_hanoi_time'] >0]\n",
    "\n",
    "# Remove all trials with more than 10 minutes time\n",
    "toh_df = toh_df.loc[toh_df['task_hanoi_time'] <=600]\n",
    "\n",
    "# Rerun EDA\n",
    "profile = ProfileReport(toh_df.iloc[:,2:], title=f\"TOH Task Run {run_num} - Clean | Pandas Profiling Report\")\n",
    "profile.to_file(eda_reports_path + f\"task_toh_run{run_num}_clean.html\")"
   ]
  },
  {
   "cell_type": "markdown",
   "metadata": {},
   "source": [
    "### Reaction Time\n",
    "\n",
    "This was **Not Working** for at least the first half of **Run 1**.\n",
    "\n",
    "A new task has been created by RK Studio, called the **Normalized Reaction Time** task.\n",
    "\n",
    "The data export format info is [here](https://support.mydatahelps.org/hc/en-us/articles/1500002230281-Normalized-Reaction-Time-Active-Task-Export-Format)."
   ]
  },
  {
   "cell_type": "markdown",
   "metadata": {},
   "source": [
    "#### Load Data"
   ]
  },
  {
   "cell_type": "code",
   "execution_count": 237,
   "metadata": {},
   "outputs": [
    {
     "name": "stdout",
     "output_type": "stream",
     "text": [
      "deleted existing df\n"
     ]
    }
   ],
   "source": [
    "# erase df if it already exists\n",
    "if 'df' in globals():\n",
    "    del(df)\n",
    "    print('deleted existing df')\n",
    "    \n",
    "if 'rt_df' in globals():\n",
    "    del(rt_df)\n",
    "    print('deleted existing rt_df')"
   ]
  },
  {
   "cell_type": "code",
   "execution_count": 238,
   "metadata": {},
   "outputs": [
    {
     "name": "stderr",
     "output_type": "stream",
     "text": [
      "100%|██████████| 87/87 [00:00<00:00, 515.34it/s]\n"
     ]
    }
   ],
   "source": [
    "# loop through all days\n",
    "days = [i for i in os.listdir(path) if i.startswith('RK')]\n",
    "for day in tqdm(days):\n",
    "    files = os.listdir(path + day)\n",
    "    surveyQuestions = [i for i in files if i.startswith('SurveyNormalizedReactionTime')]\n",
    "    # there should be only one\n",
    "    for file in surveyQuestions:\n",
    "        if 'df' not in globals():\n",
    "            df = pd.read_csv(path + day + '/' + file)\n",
    "        else:\n",
    "            temp_df = pd.read_csv(path + day + '/' + file)\n",
    "            df = pd.concat([df,temp_df], axis=0)"
   ]
  },
  {
   "cell_type": "markdown",
   "metadata": {},
   "source": [
    "#### Format Data"
   ]
  },
  {
   "cell_type": "code",
   "execution_count": 239,
   "metadata": {},
   "outputs": [
    {
     "data": {
      "text/plain": [
       "SurveyNormalizedReactionTimeResultKey    0\n",
       "SurveyStepResultKey                      0\n",
       "SurveyResultKey                          0\n",
       "ParticipantIdentifier                    0\n",
       "ReactionDate                             0\n",
       "StimulusStartDate                        0\n",
       "TimerStartDate                           0\n",
       "TimerEndDate                             0\n",
       "CurrentInterval                          0\n",
       "StartDate                                0\n",
       "EndDate                                  0\n",
       "dtype: int64"
      ]
     },
     "execution_count": 239,
     "metadata": {},
     "output_type": "execute_result"
    }
   ],
   "source": [
    "# check for na dates...\n",
    "df.isna().sum()"
   ]
  },
  {
   "cell_type": "code",
   "execution_count": 240,
   "metadata": {},
   "outputs": [],
   "source": [
    "df = df.dropna(subset=['EndDate']).reset_index(drop=True)"
   ]
  },
  {
   "cell_type": "code",
   "execution_count": 241,
   "metadata": {},
   "outputs": [],
   "source": [
    "# Select only subjects in current run\n",
    "df = df.loc[df.ParticipantIdentifier.isin(subjects)].reset_index(drop=True)"
   ]
  },
  {
   "cell_type": "code",
   "execution_count": 242,
   "metadata": {},
   "outputs": [
    {
     "name": "stderr",
     "output_type": "stream",
     "text": [
      "100%|██████████| 22917/22917 [00:02<00:00, 9414.92it/s]\n"
     ]
    }
   ],
   "source": [
    "# add trial date and time columns\n",
    "for i in tqdm(range(df.shape[0])):\n",
    "    dt = parser.parse(df.loc[i, 'EndDate'])\n",
    "    df.loc[i, 'datetime'] = dt\n",
    "    df.loc[i, 'trial_date'] = (dt + datetime.timedelta(hours = -4)).date() # trial day associated with sample (4am is when the day flips)\n",
    "    df.loc[i, 'time'] = dt.time()"
   ]
  },
  {
   "cell_type": "code",
   "execution_count": 243,
   "metadata": {},
   "outputs": [
    {
     "data": {
      "text/html": [
       "<div>\n",
       "<style scoped>\n",
       "    .dataframe tbody tr th:only-of-type {\n",
       "        vertical-align: middle;\n",
       "    }\n",
       "\n",
       "    .dataframe tbody tr th {\n",
       "        vertical-align: top;\n",
       "    }\n",
       "\n",
       "    .dataframe thead th {\n",
       "        text-align: right;\n",
       "    }\n",
       "</style>\n",
       "<table border=\"1\" class=\"dataframe\">\n",
       "  <thead>\n",
       "    <tr style=\"text-align: right;\">\n",
       "      <th></th>\n",
       "      <th>SurveyNormalizedReactionTimeResultKey</th>\n",
       "      <th>SurveyStepResultKey</th>\n",
       "      <th>SurveyResultKey</th>\n",
       "      <th>ParticipantIdentifier</th>\n",
       "      <th>ReactionDate</th>\n",
       "      <th>StimulusStartDate</th>\n",
       "      <th>TimerStartDate</th>\n",
       "      <th>TimerEndDate</th>\n",
       "      <th>CurrentInterval</th>\n",
       "      <th>StartDate</th>\n",
       "      <th>EndDate</th>\n",
       "      <th>datetime</th>\n",
       "      <th>trial_date</th>\n",
       "      <th>time</th>\n",
       "    </tr>\n",
       "  </thead>\n",
       "  <tbody>\n",
       "    <tr>\n",
       "      <th>0</th>\n",
       "      <td>837212da-315c-ed11-aac1-0afb9334277d</td>\n",
       "      <td>707212da-315c-ed11-aac1-0afb9334277d</td>\n",
       "      <td>627212da-315c-ed11-aac1-0afb9334277d</td>\n",
       "      <td>39d785c6-9e3d-44c2-88ec-2ce14ef923f9</td>\n",
       "      <td>27766.579012</td>\n",
       "      <td>27765.938280</td>\n",
       "      <td>27766.279159</td>\n",
       "      <td>27766.579085</td>\n",
       "      <td>6</td>\n",
       "      <td>2022-11-04T07:13:18-04:00</td>\n",
       "      <td>2022-11-04T07:13:18-04:00</td>\n",
       "      <td>2022-11-04 07:13:18-04:00</td>\n",
       "      <td>2022-11-04</td>\n",
       "      <td>07:13:18</td>\n",
       "    </tr>\n",
       "    <tr>\n",
       "      <th>1</th>\n",
       "      <td>847212da-315c-ed11-aac1-0afb9334277d</td>\n",
       "      <td>707212da-315c-ed11-aac1-0afb9334277d</td>\n",
       "      <td>627212da-315c-ed11-aac1-0afb9334277d</td>\n",
       "      <td>39d785c6-9e3d-44c2-88ec-2ce14ef923f9</td>\n",
       "      <td>27774.257387</td>\n",
       "      <td>27773.614597</td>\n",
       "      <td>27773.940479</td>\n",
       "      <td>27774.257411</td>\n",
       "      <td>4</td>\n",
       "      <td>2022-11-04T07:13:26-04:00</td>\n",
       "      <td>2022-11-04T07:13:26-04:00</td>\n",
       "      <td>2022-11-04 07:13:26-04:00</td>\n",
       "      <td>2022-11-04</td>\n",
       "      <td>07:13:26</td>\n",
       "    </tr>\n",
       "  </tbody>\n",
       "</table>\n",
       "</div>"
      ],
      "text/plain": [
       "  SurveyNormalizedReactionTimeResultKey                   SurveyStepResultKey  \\\n",
       "0  837212da-315c-ed11-aac1-0afb9334277d  707212da-315c-ed11-aac1-0afb9334277d   \n",
       "1  847212da-315c-ed11-aac1-0afb9334277d  707212da-315c-ed11-aac1-0afb9334277d   \n",
       "\n",
       "                        SurveyResultKey                 ParticipantIdentifier  \\\n",
       "0  627212da-315c-ed11-aac1-0afb9334277d  39d785c6-9e3d-44c2-88ec-2ce14ef923f9   \n",
       "1  627212da-315c-ed11-aac1-0afb9334277d  39d785c6-9e3d-44c2-88ec-2ce14ef923f9   \n",
       "\n",
       "   ReactionDate  StimulusStartDate  TimerStartDate  TimerEndDate  \\\n",
       "0  27766.579012       27765.938280    27766.279159  27766.579085   \n",
       "1  27774.257387       27773.614597    27773.940479  27774.257411   \n",
       "\n",
       "   CurrentInterval                  StartDate                    EndDate  \\\n",
       "0                6  2022-11-04T07:13:18-04:00  2022-11-04T07:13:18-04:00   \n",
       "1                4  2022-11-04T07:13:26-04:00  2022-11-04T07:13:26-04:00   \n",
       "\n",
       "                    datetime  trial_date      time  \n",
       "0  2022-11-04 07:13:18-04:00  2022-11-04  07:13:18  \n",
       "1  2022-11-04 07:13:26-04:00  2022-11-04  07:13:26  "
      ]
     },
     "execution_count": 243,
     "metadata": {},
     "output_type": "execute_result"
    }
   ],
   "source": [
    "df.head(2)"
   ]
  },
  {
   "cell_type": "code",
   "execution_count": 244,
   "metadata": {},
   "outputs": [],
   "source": [
    "# replace commas with dots\n",
    "df['ReactionDate'] = df['ReactionDate'].replace(',', '.', regex=True)\n",
    "df.ReactionDate = df.ReactionDate.astype('float')\n",
    "\n",
    "df['StimulusStartDate'] = df['StimulusStartDate'].replace(',', '.', regex=True)\n",
    "df.StimulusStartDate = df.StimulusStartDate.astype('float')"
   ]
  },
  {
   "cell_type": "code",
   "execution_count": 245,
   "metadata": {},
   "outputs": [],
   "source": [
    "df['task_rt_time'] = df.ReactionDate - df.StimulusStartDate"
   ]
  },
  {
   "cell_type": "code",
   "execution_count": 246,
   "metadata": {},
   "outputs": [
    {
     "data": {
      "text/html": [
       "<div>\n",
       "<style scoped>\n",
       "    .dataframe tbody tr th:only-of-type {\n",
       "        vertical-align: middle;\n",
       "    }\n",
       "\n",
       "    .dataframe tbody tr th {\n",
       "        vertical-align: top;\n",
       "    }\n",
       "\n",
       "    .dataframe thead th {\n",
       "        text-align: right;\n",
       "    }\n",
       "</style>\n",
       "<table border=\"1\" class=\"dataframe\">\n",
       "  <thead>\n",
       "    <tr style=\"text-align: right;\">\n",
       "      <th></th>\n",
       "      <th>ParticipantIdentifier</th>\n",
       "      <th>trial_date</th>\n",
       "      <th>task_rt_time</th>\n",
       "    </tr>\n",
       "  </thead>\n",
       "  <tbody>\n",
       "    <tr>\n",
       "      <th>0</th>\n",
       "      <td>39d785c6-9e3d-44c2-88ec-2ce14ef923f9</td>\n",
       "      <td>2022-11-04</td>\n",
       "      <td>0.640732</td>\n",
       "    </tr>\n",
       "    <tr>\n",
       "      <th>1</th>\n",
       "      <td>39d785c6-9e3d-44c2-88ec-2ce14ef923f9</td>\n",
       "      <td>2022-11-04</td>\n",
       "      <td>0.642790</td>\n",
       "    </tr>\n",
       "    <tr>\n",
       "      <th>2</th>\n",
       "      <td>39d785c6-9e3d-44c2-88ec-2ce14ef923f9</td>\n",
       "      <td>2022-11-04</td>\n",
       "      <td>0.710502</td>\n",
       "    </tr>\n",
       "    <tr>\n",
       "      <th>3</th>\n",
       "      <td>39d785c6-9e3d-44c2-88ec-2ce14ef923f9</td>\n",
       "      <td>2022-11-04</td>\n",
       "      <td>0.656859</td>\n",
       "    </tr>\n",
       "    <tr>\n",
       "      <th>4</th>\n",
       "      <td>39d785c6-9e3d-44c2-88ec-2ce14ef923f9</td>\n",
       "      <td>2022-11-04</td>\n",
       "      <td>0.710456</td>\n",
       "    </tr>\n",
       "    <tr>\n",
       "      <th>5</th>\n",
       "      <td>39d785c6-9e3d-44c2-88ec-2ce14ef923f9</td>\n",
       "      <td>2022-11-04</td>\n",
       "      <td>0.744159</td>\n",
       "    </tr>\n",
       "    <tr>\n",
       "      <th>6</th>\n",
       "      <td>39d785c6-9e3d-44c2-88ec-2ce14ef923f9</td>\n",
       "      <td>2022-11-04</td>\n",
       "      <td>0.643986</td>\n",
       "    </tr>\n",
       "    <tr>\n",
       "      <th>7</th>\n",
       "      <td>39d785c6-9e3d-44c2-88ec-2ce14ef923f9</td>\n",
       "      <td>2022-11-04</td>\n",
       "      <td>0.694111</td>\n",
       "    </tr>\n",
       "    <tr>\n",
       "      <th>8</th>\n",
       "      <td>39d785c6-9e3d-44c2-88ec-2ce14ef923f9</td>\n",
       "      <td>2022-11-04</td>\n",
       "      <td>0.608330</td>\n",
       "    </tr>\n",
       "    <tr>\n",
       "      <th>9</th>\n",
       "      <td>39d785c6-9e3d-44c2-88ec-2ce14ef923f9</td>\n",
       "      <td>2022-11-04</td>\n",
       "      <td>0.659535</td>\n",
       "    </tr>\n",
       "  </tbody>\n",
       "</table>\n",
       "</div>"
      ],
      "text/plain": [
       "                  ParticipantIdentifier  trial_date  task_rt_time\n",
       "0  39d785c6-9e3d-44c2-88ec-2ce14ef923f9  2022-11-04      0.640732\n",
       "1  39d785c6-9e3d-44c2-88ec-2ce14ef923f9  2022-11-04      0.642790\n",
       "2  39d785c6-9e3d-44c2-88ec-2ce14ef923f9  2022-11-04      0.710502\n",
       "3  39d785c6-9e3d-44c2-88ec-2ce14ef923f9  2022-11-04      0.656859\n",
       "4  39d785c6-9e3d-44c2-88ec-2ce14ef923f9  2022-11-04      0.710456\n",
       "5  39d785c6-9e3d-44c2-88ec-2ce14ef923f9  2022-11-04      0.744159\n",
       "6  39d785c6-9e3d-44c2-88ec-2ce14ef923f9  2022-11-04      0.643986\n",
       "7  39d785c6-9e3d-44c2-88ec-2ce14ef923f9  2022-11-04      0.694111\n",
       "8  39d785c6-9e3d-44c2-88ec-2ce14ef923f9  2022-11-04      0.608330\n",
       "9  39d785c6-9e3d-44c2-88ec-2ce14ef923f9  2022-11-04      0.659535"
      ]
     },
     "execution_count": 246,
     "metadata": {},
     "output_type": "execute_result"
    }
   ],
   "source": [
    "# keep relevant columns\n",
    "rt_df = df[['ParticipantIdentifier', 'trial_date', 'task_rt_time']]\n",
    "# If negative it was a missed/error trial\n",
    "rt_df.loc[rt_df.task_rt_time <=0, 'task_rt_time'] = None\n",
    "\n",
    "rt_df.head(10)"
   ]
  },
  {
   "cell_type": "code",
   "execution_count": 247,
   "metadata": {},
   "outputs": [],
   "source": [
    "labels = [\n",
    "    'task_rt_1',\n",
    "    'task_rt_2',\n",
    "    'task_rt_3',\n",
    "    'task_rt_4',\n",
    "]"
   ]
  },
  {
   "cell_type": "code",
   "execution_count": 248,
   "metadata": {},
   "outputs": [
    {
     "name": "stderr",
     "output_type": "stream",
     "text": [
      "/var/folders/lw/ys_1b9sj08s904m4402qr0bm0000gn/T/ipykernel_9812/1635772240.py:4: SettingWithCopyWarning: \n",
      "A value is trying to be set on a copy of a slice from a DataFrame.\n",
      "Try using .loc[row_indexer,col_indexer] = value instead\n",
      "\n",
      "See the caveats in the documentation: https://pandas.pydata.org/pandas-docs/stable/user_guide/indexing.html#returning-a-view-versus-a-copy\n",
      "  rt_df['label'] = None\n"
     ]
    }
   ],
   "source": [
    "oldSub = None\n",
    "oldDay = None\n",
    "i = 1\n",
    "rt_df['label'] = None\n",
    "\n",
    "for row in range(len(df)):\n",
    "    sub = rt_df.loc[row,'ParticipantIdentifier']\n",
    "    day = rt_df.loc[row, 'trial_date']\n",
    "    if (sub == oldSub) & (day == oldDay):\n",
    "        if i >3:\n",
    "            continue\n",
    "        else:\n",
    "            rt_df.loc[row, 'label'] = labels[i]\n",
    "            oldSub = sub\n",
    "            oldDay = day\n",
    "            i+=1\n",
    "    else:\n",
    "        rt_df.loc[row, 'label'] = labels[0]\n",
    "        i = 1\n",
    "        oldSub = sub\n",
    "        oldDay = day\n",
    "        "
   ]
  },
  {
   "cell_type": "code",
   "execution_count": 249,
   "metadata": {},
   "outputs": [],
   "source": [
    "rt_df = rt_df.dropna(subset=['label'])"
   ]
  },
  {
   "cell_type": "code",
   "execution_count": 250,
   "metadata": {},
   "outputs": [
    {
     "data": {
      "text/plain": [
       "1749"
      ]
     },
     "execution_count": 250,
     "metadata": {},
     "output_type": "execute_result"
    }
   ],
   "source": [
    "rt_df.duplicated(subset=['ParticipantIdentifier', 'trial_date', 'label']).sum()"
   ]
  },
  {
   "cell_type": "code",
   "execution_count": 251,
   "metadata": {},
   "outputs": [],
   "source": [
    "rt_df = rt_df.drop_duplicates(subset=['ParticipantIdentifier', 'trial_date', 'label'], keep='last')"
   ]
  },
  {
   "cell_type": "code",
   "execution_count": 252,
   "metadata": {},
   "outputs": [
    {
     "data": {
      "text/html": [
       "<div>\n",
       "<style scoped>\n",
       "    .dataframe tbody tr th:only-of-type {\n",
       "        vertical-align: middle;\n",
       "    }\n",
       "\n",
       "    .dataframe tbody tr th {\n",
       "        vertical-align: top;\n",
       "    }\n",
       "\n",
       "    .dataframe thead th {\n",
       "        text-align: right;\n",
       "    }\n",
       "</style>\n",
       "<table border=\"1\" class=\"dataframe\">\n",
       "  <thead>\n",
       "    <tr style=\"text-align: right;\">\n",
       "      <th></th>\n",
       "      <th>ParticipantIdentifier</th>\n",
       "      <th>trial_date</th>\n",
       "      <th>task_rt_1</th>\n",
       "      <th>task_rt_2</th>\n",
       "      <th>task_rt_3</th>\n",
       "      <th>task_rt_4</th>\n",
       "    </tr>\n",
       "  </thead>\n",
       "  <tbody>\n",
       "    <tr>\n",
       "      <th>0</th>\n",
       "      <td>0501ba67-3406-4779-aff1-878a0e9f7885</td>\n",
       "      <td>2022-11-02</td>\n",
       "      <td>1.024102</td>\n",
       "      <td>0.474680</td>\n",
       "      <td>0.475108</td>\n",
       "      <td>0.651219</td>\n",
       "    </tr>\n",
       "    <tr>\n",
       "      <th>1</th>\n",
       "      <td>0501ba67-3406-4779-aff1-878a0e9f7885</td>\n",
       "      <td>2022-11-03</td>\n",
       "      <td>0.676700</td>\n",
       "      <td>0.659689</td>\n",
       "      <td>0.985539</td>\n",
       "      <td>NaN</td>\n",
       "    </tr>\n",
       "    <tr>\n",
       "      <th>2</th>\n",
       "      <td>0501ba67-3406-4779-aff1-878a0e9f7885</td>\n",
       "      <td>2022-11-04</td>\n",
       "      <td>NaN</td>\n",
       "      <td>0.551622</td>\n",
       "      <td>0.473626</td>\n",
       "      <td>0.509821</td>\n",
       "    </tr>\n",
       "    <tr>\n",
       "      <th>3</th>\n",
       "      <td>0501ba67-3406-4779-aff1-878a0e9f7885</td>\n",
       "      <td>2022-11-05</td>\n",
       "      <td>0.593008</td>\n",
       "      <td>0.883007</td>\n",
       "      <td>NaN</td>\n",
       "      <td>0.599112</td>\n",
       "    </tr>\n",
       "    <tr>\n",
       "      <th>4</th>\n",
       "      <td>0501ba67-3406-4779-aff1-878a0e9f7885</td>\n",
       "      <td>2022-11-06</td>\n",
       "      <td>NaN</td>\n",
       "      <td>NaN</td>\n",
       "      <td>NaN</td>\n",
       "      <td>0.508961</td>\n",
       "    </tr>\n",
       "  </tbody>\n",
       "</table>\n",
       "</div>"
      ],
      "text/plain": [
       "                  ParticipantIdentifier  trial_date  task_rt_1  task_rt_2  \\\n",
       "0  0501ba67-3406-4779-aff1-878a0e9f7885  2022-11-02   1.024102   0.474680   \n",
       "1  0501ba67-3406-4779-aff1-878a0e9f7885  2022-11-03   0.676700   0.659689   \n",
       "2  0501ba67-3406-4779-aff1-878a0e9f7885  2022-11-04        NaN   0.551622   \n",
       "3  0501ba67-3406-4779-aff1-878a0e9f7885  2022-11-05   0.593008   0.883007   \n",
       "4  0501ba67-3406-4779-aff1-878a0e9f7885  2022-11-06        NaN        NaN   \n",
       "\n",
       "   task_rt_3  task_rt_4  \n",
       "0   0.475108   0.651219  \n",
       "1   0.985539        NaN  \n",
       "2   0.473626   0.509821  \n",
       "3        NaN   0.599112  \n",
       "4        NaN   0.508961  "
      ]
     },
     "execution_count": 252,
     "metadata": {},
     "output_type": "execute_result"
    }
   ],
   "source": [
    "rt_df = rt_df.pivot(index=['ParticipantIdentifier', 'trial_date'], columns='label', values='task_rt_time').reset_index()\n",
    "\n",
    "# Remove index name\n",
    "rt_df = rt_df.rename_axis(None, axis=1)\n",
    "\n",
    "rt_df.head()"
   ]
  },
  {
   "cell_type": "code",
   "execution_count": 253,
   "metadata": {},
   "outputs": [],
   "source": [
    "# Extract columns starting with \"task_rt_\"\n",
    "task_rt_columns = [col for col in rt_df.columns if col.startswith(\"task_rt_\")]\n",
    "\n",
    "# Replace values in task_rt_columns that are below 0.1 with NaN\n",
    "rt_df[task_rt_columns] = rt_df[task_rt_columns].applymap(lambda x: x if x >= 0.1 else float('nan'))\n",
    "\n",
    "# Calculate 'task_rt_avgRT' column\n",
    "rt_df['task_rt_avgRT'] = rt_df[task_rt_columns].mean(axis=1)\n",
    "\n",
    "# Calculate 'task_rt_flag_plus2_n' column\n",
    "rt_df['task_rt_flag_plus2_n'] = rt_df[task_rt_columns].apply(lambda row: sum(row > 2), axis=1)"
   ]
  },
  {
   "cell_type": "markdown",
   "metadata": {},
   "source": [
    "#### EDA"
   ]
  },
  {
   "cell_type": "code",
   "execution_count": null,
   "metadata": {},
   "outputs": [
    {
     "data": {
      "application/vnd.jupyter.widget-view+json": {
       "model_id": "737a953cc88c426ea81e222f53f7c041",
       "version_major": 2,
       "version_minor": 0
      },
      "text/plain": [
       "Summarize dataset:   0%|          | 0/5 [00:00<?, ?it/s]"
      ]
     },
     "metadata": {},
     "output_type": "display_data"
    },
    {
     "data": {
      "application/vnd.jupyter.widget-view+json": {
       "model_id": "240b1b72aff84caba3a0c48d31c8c2f5",
       "version_major": 2,
       "version_minor": 0
      },
      "text/plain": [
       "Generate report structure:   0%|          | 0/1 [00:00<?, ?it/s]"
      ]
     },
     "metadata": {},
     "output_type": "display_data"
    },
    {
     "data": {
      "application/vnd.jupyter.widget-view+json": {
       "model_id": "68620a4c50e14f618e97e85194c00042",
       "version_major": 2,
       "version_minor": 0
      },
      "text/plain": [
       "Render HTML:   0%|          | 0/1 [00:00<?, ?it/s]"
      ]
     },
     "metadata": {},
     "output_type": "display_data"
    },
    {
     "data": {
      "application/vnd.jupyter.widget-view+json": {
       "model_id": "aa7c0ffa7caa48878c05a65a8643994e",
       "version_major": 2,
       "version_minor": 0
      },
      "text/plain": [
       "Export report to file:   0%|          | 0/1 [00:00<?, ?it/s]"
      ]
     },
     "metadata": {},
     "output_type": "display_data"
    }
   ],
   "source": [
    "profile = ProfileReport(rt_df.iloc[:,2:], title=f\"RT Task Run {run_num} | Pandas Profiling Report\")\n",
    "profile.to_file(eda_reports_path + f\"task_rt_run{run_num}.html\")"
   ]
  },
  {
   "cell_type": "markdown",
   "metadata": {},
   "source": [
    "#### Clean\n",
    "\n",
    "**RTs**\n",
    "\n",
    "We have some very long RTs (many minutes long). Clearly people are distracted for these trials. \n",
    "\n",
    "We leave these in but create a column called `task_rt_flag_plus2_n` that indicates how many trials had rts greater than 2 seconds.\n",
    "\n",
    "We also know from the work of Luce (1984) and Whelan (2008) that RTs below 100ms are not realistic, so we remove those values and replace with NaN"
   ]
  },
  {
   "cell_type": "code",
   "execution_count": 571,
   "metadata": {},
   "outputs": [
    {
     "data": {
      "application/vnd.jupyter.widget-view+json": {
       "model_id": "f66ee485b93f42d1bfd332b4ba358ee2",
       "version_major": 2,
       "version_minor": 0
      },
      "text/plain": [
       "Summarize dataset:   0%|          | 0/5 [00:00<?, ?it/s]"
      ]
     },
     "metadata": {},
     "output_type": "display_data"
    },
    {
     "data": {
      "application/vnd.jupyter.widget-view+json": {
       "model_id": "618eef2b85674e17be4a962e8cc0b967",
       "version_major": 2,
       "version_minor": 0
      },
      "text/plain": [
       "Generate report structure:   0%|          | 0/1 [00:00<?, ?it/s]"
      ]
     },
     "metadata": {},
     "output_type": "display_data"
    },
    {
     "data": {
      "application/vnd.jupyter.widget-view+json": {
       "model_id": "8d13f291116348b7bd1866ba993a51e0",
       "version_major": 2,
       "version_minor": 0
      },
      "text/plain": [
       "Render HTML:   0%|          | 0/1 [00:00<?, ?it/s]"
      ]
     },
     "metadata": {},
     "output_type": "display_data"
    },
    {
     "data": {
      "application/vnd.jupyter.widget-view+json": {
       "model_id": "92f1cc15fae74ec2beb041bb3b6b3b40",
       "version_major": 2,
       "version_minor": 0
      },
      "text/plain": [
       "Export report to file:   0%|          | 0/1 [00:00<?, ?it/s]"
      ]
     },
     "metadata": {},
     "output_type": "display_data"
    }
   ],
   "source": [
    "# Rerun EDA filtering out flagged trials\n",
    "profile = ProfileReport(rt_df.loc[rt_df['task_rt_flag_plus2_n']==0, \"task_rt_1\":], title=f\"RT Task Run {run_num} - Cleaned | Pandas Profiling Report\")\n",
    "profile.to_file(eda_reports_path + f\"task_rt_run{run_num}_clean.html\")"
   ]
  },
  {
   "cell_type": "markdown",
   "metadata": {},
   "source": [
    "### Spatial Span Memory\n",
    "\n",
    "\n",
    "[RK Studio Documentation](http://researchkit.org/docs/docs/ActiveTasks/ActiveTasks.html#spatialhttp://researchkit.org/docs/docs/ActiveTasks/ActiveTasks.html#spatial)\n",
    "\n",
    "> In the spatial memory task the user is asked to observe and then recall pattern sequences of increasing length in a game-like environment. The task collects data that can be used to assess visuospatial memory and executive function.\n",
    "\n",
    ">The span (that is, the length of the pattern sequence) is automatically varied during the task, increasing after successful completion of a sequence, and decreasing after failures, in the range from minimumSpan to maximumSpan. The playSpeed property lets you control the speed of sequence playback, and the customTargetImage property lets you customize the shape of the tap target. The game finishes when either maxTests tests have been completed, or the user has made maxConsecutiveFailures errors in a row.\n",
    "\n",
    ">The results collected are scores derived from the game, the details of the game, and the touch inputs made by the user."
   ]
  },
  {
   "cell_type": "markdown",
   "metadata": {},
   "source": [
    "#### Load Data"
   ]
  },
  {
   "cell_type": "code",
   "execution_count": 254,
   "metadata": {},
   "outputs": [
    {
     "name": "stdout",
     "output_type": "stream",
     "text": [
      "deleted existing df\n"
     ]
    }
   ],
   "source": [
    "# erase df if it already exists\n",
    "if 'df' in globals():\n",
    "    del(df)\n",
    "    print('deleted existing df')\n",
    "    \n",
    "if 'spatialSpan_df' in globals():\n",
    "    del(spatialSpan_df)\n",
    "    print('deleted existing spatialSpan_df')"
   ]
  },
  {
   "cell_type": "code",
   "execution_count": 255,
   "metadata": {},
   "outputs": [
    {
     "name": "stderr",
     "output_type": "stream",
     "text": [
      "100%|██████████| 87/87 [00:00<00:00, 153.04it/s]\n"
     ]
    }
   ],
   "source": [
    "# loop through all days\n",
    "days = [i for i in os.listdir(path) if i.startswith('RK')]\n",
    "for day in tqdm(days):\n",
    "    files = os.listdir(path + day)\n",
    "    surveyQuestions = [i for i in files if i.startswith('SurveySpatialSpanMemoryResults')]\n",
    "    # there should be only one\n",
    "    for file in surveyQuestions:\n",
    "        if 'df' not in globals():\n",
    "            df = pd.read_csv(path + day + '/' + file)\n",
    "        else:\n",
    "            temp_df = pd.read_csv(path + day + '/' + file)\n",
    "            df = pd.concat([df,temp_df], axis=0)"
   ]
  },
  {
   "cell_type": "markdown",
   "metadata": {},
   "source": [
    "#### Format Data"
   ]
  },
  {
   "cell_type": "code",
   "execution_count": 256,
   "metadata": {},
   "outputs": [
    {
     "data": {
      "text/plain": [
       "SurveySpatialSpanMemoryResultKey    0\n",
       "SurveyStepResultKey                 0\n",
       "SurveyResultKey                     0\n",
       "ParticipantIdentifier               0\n",
       "Score                               0\n",
       "NumberOfGames                       0\n",
       "NumberOfFailures                    0\n",
       "StartDate                           0\n",
       "EndDate                             0\n",
       "GameRecords                         0\n",
       "dtype: int64"
      ]
     },
     "execution_count": 256,
     "metadata": {},
     "output_type": "execute_result"
    }
   ],
   "source": [
    "# check for na dates...\n",
    "df.isna().sum()"
   ]
  },
  {
   "cell_type": "code",
   "execution_count": 257,
   "metadata": {},
   "outputs": [],
   "source": [
    "df = df.dropna(subset=['EndDate']).reset_index(drop=True)"
   ]
  },
  {
   "cell_type": "code",
   "execution_count": 258,
   "metadata": {},
   "outputs": [],
   "source": [
    "# Select correct subjects\n",
    "df = df.loc[df.ParticipantIdentifier.isin(subjects)].reset_index(drop=True)"
   ]
  },
  {
   "cell_type": "code",
   "execution_count": 259,
   "metadata": {},
   "outputs": [
    {
     "name": "stderr",
     "output_type": "stream",
     "text": [
      "  0%|          | 0/4117 [00:00<?, ?it/s]"
     ]
    },
    {
     "name": "stderr",
     "output_type": "stream",
     "text": [
      "100%|██████████| 4117/4117 [00:00<00:00, 8960.83it/s]\n"
     ]
    }
   ],
   "source": [
    "# add trial date and time columns\n",
    "for i in tqdm(range(df.shape[0])):\n",
    "    dt = parser.parse(df.loc[i, 'EndDate'])\n",
    "    df.loc[i, 'datetime'] = dt\n",
    "    df.loc[i, 'trial_date'] = (dt + datetime.timedelta(hours = -4)).date() # trial day associated with sample (4am is when the day flips)\n",
    "    df.loc[i, 'time'] = dt.time()"
   ]
  },
  {
   "cell_type": "code",
   "execution_count": 260,
   "metadata": {},
   "outputs": [
    {
     "data": {
      "text/html": [
       "<div>\n",
       "<style scoped>\n",
       "    .dataframe tbody tr th:only-of-type {\n",
       "        vertical-align: middle;\n",
       "    }\n",
       "\n",
       "    .dataframe tbody tr th {\n",
       "        vertical-align: top;\n",
       "    }\n",
       "\n",
       "    .dataframe thead th {\n",
       "        text-align: right;\n",
       "    }\n",
       "</style>\n",
       "<table border=\"1\" class=\"dataframe\">\n",
       "  <thead>\n",
       "    <tr style=\"text-align: right;\">\n",
       "      <th></th>\n",
       "      <th>SurveySpatialSpanMemoryResultKey</th>\n",
       "      <th>SurveyStepResultKey</th>\n",
       "      <th>SurveyResultKey</th>\n",
       "      <th>ParticipantIdentifier</th>\n",
       "      <th>Score</th>\n",
       "      <th>NumberOfGames</th>\n",
       "      <th>NumberOfFailures</th>\n",
       "      <th>StartDate</th>\n",
       "      <th>EndDate</th>\n",
       "      <th>GameRecords</th>\n",
       "      <th>datetime</th>\n",
       "      <th>trial_date</th>\n",
       "      <th>time</th>\n",
       "    </tr>\n",
       "  </thead>\n",
       "  <tbody>\n",
       "    <tr>\n",
       "      <th>0</th>\n",
       "      <td>4c40ca9b-8b53-ed11-aac1-0afb9334277d</td>\n",
       "      <td>4040ca9b-8b53-ed11-aac1-0afb9334277d</td>\n",
       "      <td>3740ca9b-8b53-ed11-aac1-0afb9334277d</td>\n",
       "      <td>39d785c6-9e3d-44c2-88ec-2ce14ef923f9</td>\n",
       "      <td>330</td>\n",
       "      <td>6</td>\n",
       "      <td>1</td>\n",
       "      <td>2022-10-24T07:03:32-04:00</td>\n",
       "      <td>2022-10-24T07:04:19-04:00</td>\n",
       "      <td>[{\"Seed\":1595374595,\"Sequence\":[2,6,8],\"GameSi...</td>\n",
       "      <td>2022-10-24 07:04:19-04:00</td>\n",
       "      <td>2022-10-24</td>\n",
       "      <td>07:04:19</td>\n",
       "    </tr>\n",
       "    <tr>\n",
       "      <th>1</th>\n",
       "      <td>999cc2a1-8b53-ed11-aac1-0afb9334277d</td>\n",
       "      <td>8c9cc2a1-8b53-ed11-aac1-0afb9334277d</td>\n",
       "      <td>829cc2a1-8b53-ed11-aac1-0afb9334277d</td>\n",
       "      <td>c62ae7a2-6fe6-4fd5-9b9e-93773b08d8b9</td>\n",
       "      <td>385</td>\n",
       "      <td>6</td>\n",
       "      <td>1</td>\n",
       "      <td>2022-10-24T07:03:42-04:00</td>\n",
       "      <td>2022-10-24T07:04:31-04:00</td>\n",
       "      <td>[{\"Seed\":0,\"Sequence\":[6,2,1],\"GameSize\":9,\"Ga...</td>\n",
       "      <td>2022-10-24 07:04:31-04:00</td>\n",
       "      <td>2022-10-24</td>\n",
       "      <td>07:04:31</td>\n",
       "    </tr>\n",
       "  </tbody>\n",
       "</table>\n",
       "</div>"
      ],
      "text/plain": [
       "       SurveySpatialSpanMemoryResultKey                   SurveyStepResultKey  \\\n",
       "0  4c40ca9b-8b53-ed11-aac1-0afb9334277d  4040ca9b-8b53-ed11-aac1-0afb9334277d   \n",
       "1  999cc2a1-8b53-ed11-aac1-0afb9334277d  8c9cc2a1-8b53-ed11-aac1-0afb9334277d   \n",
       "\n",
       "                        SurveyResultKey                 ParticipantIdentifier  \\\n",
       "0  3740ca9b-8b53-ed11-aac1-0afb9334277d  39d785c6-9e3d-44c2-88ec-2ce14ef923f9   \n",
       "1  829cc2a1-8b53-ed11-aac1-0afb9334277d  c62ae7a2-6fe6-4fd5-9b9e-93773b08d8b9   \n",
       "\n",
       "   Score  NumberOfGames  NumberOfFailures                  StartDate  \\\n",
       "0    330              6                 1  2022-10-24T07:03:32-04:00   \n",
       "1    385              6                 1  2022-10-24T07:03:42-04:00   \n",
       "\n",
       "                     EndDate  \\\n",
       "0  2022-10-24T07:04:19-04:00   \n",
       "1  2022-10-24T07:04:31-04:00   \n",
       "\n",
       "                                         GameRecords  \\\n",
       "0  [{\"Seed\":1595374595,\"Sequence\":[2,6,8],\"GameSi...   \n",
       "1  [{\"Seed\":0,\"Sequence\":[6,2,1],\"GameSize\":9,\"Ga...   \n",
       "\n",
       "                    datetime  trial_date      time  \n",
       "0  2022-10-24 07:04:19-04:00  2022-10-24  07:04:19  \n",
       "1  2022-10-24 07:04:31-04:00  2022-10-24  07:04:31  "
      ]
     },
     "execution_count": 260,
     "metadata": {},
     "output_type": "execute_result"
    }
   ],
   "source": [
    "df.head(2)"
   ]
  },
  {
   "cell_type": "markdown",
   "metadata": {},
   "source": [
    "---\n",
    "\n",
    "To capture performance we are using:\n",
    "- `Score` \n",
    "\n",
    "**NB** | Might be worth checking out exactly how this is calculated, but for our purposes it seems to be a good proxy of how well you actually do on the task (e.g. you get a better score if you fail on the last attempt (to get 8 in a row) then if you fail on the second attempt and only make it to 6 in a row...)"
   ]
  },
  {
   "cell_type": "code",
   "execution_count": 261,
   "metadata": {},
   "outputs": [
    {
     "data": {
      "text/html": [
       "<div>\n",
       "<style scoped>\n",
       "    .dataframe tbody tr th:only-of-type {\n",
       "        vertical-align: middle;\n",
       "    }\n",
       "\n",
       "    .dataframe tbody tr th {\n",
       "        vertical-align: top;\n",
       "    }\n",
       "\n",
       "    .dataframe thead th {\n",
       "        text-align: right;\n",
       "    }\n",
       "</style>\n",
       "<table border=\"1\" class=\"dataframe\">\n",
       "  <thead>\n",
       "    <tr style=\"text-align: right;\">\n",
       "      <th></th>\n",
       "      <th>ParticipantIdentifier</th>\n",
       "      <th>trial_date</th>\n",
       "      <th>task_spatialSpan_score</th>\n",
       "      <th>task_spatialSpan_tod</th>\n",
       "    </tr>\n",
       "  </thead>\n",
       "  <tbody>\n",
       "    <tr>\n",
       "      <th>0</th>\n",
       "      <td>39d785c6-9e3d-44c2-88ec-2ce14ef923f9</td>\n",
       "      <td>2022-10-24</td>\n",
       "      <td>330</td>\n",
       "      <td>07:04:19</td>\n",
       "    </tr>\n",
       "    <tr>\n",
       "      <th>1</th>\n",
       "      <td>c62ae7a2-6fe6-4fd5-9b9e-93773b08d8b9</td>\n",
       "      <td>2022-10-24</td>\n",
       "      <td>385</td>\n",
       "      <td>07:04:31</td>\n",
       "    </tr>\n",
       "  </tbody>\n",
       "</table>\n",
       "</div>"
      ],
      "text/plain": [
       "                  ParticipantIdentifier  trial_date  task_spatialSpan_score  \\\n",
       "0  39d785c6-9e3d-44c2-88ec-2ce14ef923f9  2022-10-24                     330   \n",
       "1  c62ae7a2-6fe6-4fd5-9b9e-93773b08d8b9  2022-10-24                     385   \n",
       "\n",
       "  task_spatialSpan_tod  \n",
       "0             07:04:19  \n",
       "1             07:04:31  "
      ]
     },
     "execution_count": 261,
     "metadata": {},
     "output_type": "execute_result"
    }
   ],
   "source": [
    "# assign new column with accuracy value\n",
    "df = df.assign(task_spatialSpan_score=lambda x: x.Score,\n",
    "               task_spatialSpan_tod=lambda x: x.time\n",
    "              )\n",
    "\n",
    "# keep relevant columns\n",
    "spatialSpan_df = df[['ParticipantIdentifier', 'trial_date', 'task_spatialSpan_score', 'task_spatialSpan_tod']]\n",
    "spatialSpan_df.head(2)"
   ]
  },
  {
   "cell_type": "markdown",
   "metadata": {},
   "source": [
    "#### EDA"
   ]
  },
  {
   "cell_type": "code",
   "execution_count": null,
   "metadata": {},
   "outputs": [
    {
     "data": {
      "application/vnd.jupyter.widget-view+json": {
       "model_id": "9642f90a86914099a68ff878b0845548",
       "version_major": 2,
       "version_minor": 0
      },
      "text/plain": [
       "Summarize dataset:   0%|          | 0/5 [00:00<?, ?it/s]"
      ]
     },
     "metadata": {},
     "output_type": "display_data"
    },
    {
     "data": {
      "application/vnd.jupyter.widget-view+json": {
       "model_id": "3671ecb61ed441a684eab67d532bf52a",
       "version_major": 2,
       "version_minor": 0
      },
      "text/plain": [
       "Generate report structure:   0%|          | 0/1 [00:00<?, ?it/s]"
      ]
     },
     "metadata": {},
     "output_type": "display_data"
    },
    {
     "data": {
      "application/vnd.jupyter.widget-view+json": {
       "model_id": "c3c15eeb38b6401a98666b433ac3730f",
       "version_major": 2,
       "version_minor": 0
      },
      "text/plain": [
       "Render HTML:   0%|          | 0/1 [00:00<?, ?it/s]"
      ]
     },
     "metadata": {},
     "output_type": "display_data"
    },
    {
     "data": {
      "application/vnd.jupyter.widget-view+json": {
       "model_id": "e6cacb6570544edd9de2c4a286d4b172",
       "version_major": 2,
       "version_minor": 0
      },
      "text/plain": [
       "Export report to file:   0%|          | 0/1 [00:00<?, ?it/s]"
      ]
     },
     "metadata": {},
     "output_type": "display_data"
    }
   ],
   "source": [
    "profile = ProfileReport(spatialSpan_df.iloc[:,2:], title=f\"Spatial Span Task Run {run_num} | Pandas Profiling Report\")\n",
    "profile.to_file(eda_reports_path + f\"task_spatialSpan_run{run_num}.html\")"
   ]
  },
  {
   "cell_type": "markdown",
   "metadata": {},
   "source": [
    "#### Clean\n",
    "\n",
    "No cleaning necessary"
   ]
  },
  {
   "cell_type": "markdown",
   "metadata": {},
   "source": [
    "### Join Tasks"
   ]
  },
  {
   "cell_type": "code",
   "execution_count": 263,
   "metadata": {},
   "outputs": [],
   "source": [
    "df_complete = df_complete.merge(trailmaking_df, how='left', on=['ParticipantIdentifier', 'trial_date'])\n",
    "df_complete = df_complete.merge(stroop_df, how='left', on=['ParticipantIdentifier', 'trial_date'])\n",
    "df_complete = df_complete.merge(psat_df, how='left', on=['ParticipantIdentifier', 'trial_date'])\n",
    "df_complete = df_complete.merge(toh_df, how='left', on=['ParticipantIdentifier', 'trial_date'])\n",
    "df_complete = df_complete.merge(rt_df, how='left', on=['ParticipantIdentifier', 'trial_date'])\n",
    "df_complete = df_complete.merge(spatialSpan_df, how='left', on=['ParticipantIdentifier', 'trial_date'])"
   ]
  },
  {
   "cell_type": "code",
   "execution_count": 278,
   "metadata": {},
   "outputs": [],
   "source": [
    "# A lot of extra rows added...removing these\n",
    "# Note that I have not looked closely into WHY there are the extra rows\n",
    "df_complete = df_complete.drop_duplicates(subset=['ParticipantIdentifier', 'trial_date'], keep='last')"
   ]
  },
  {
   "cell_type": "code",
   "execution_count": 279,
   "metadata": {},
   "outputs": [
    {
     "data": {
      "text/html": [
       "<div>\n",
       "<style scoped>\n",
       "    .dataframe tbody tr th:only-of-type {\n",
       "        vertical-align: middle;\n",
       "    }\n",
       "\n",
       "    .dataframe tbody tr th {\n",
       "        vertical-align: top;\n",
       "    }\n",
       "\n",
       "    .dataframe thead th {\n",
       "        text-align: right;\n",
       "    }\n",
       "</style>\n",
       "<table border=\"1\" class=\"dataframe\">\n",
       "  <thead>\n",
       "    <tr style=\"text-align: right;\">\n",
       "      <th></th>\n",
       "      <th>ParticipantIdentifier</th>\n",
       "      <th>trial_date</th>\n",
       "      <th>affect_neg_angry</th>\n",
       "      <th>affect_neg_ashamed</th>\n",
       "      <th>affect_neg_bored</th>\n",
       "      <th>affect_neg_depressed</th>\n",
       "      <th>affect_neg_embarrassed</th>\n",
       "      <th>affect_neg_frustrated</th>\n",
       "      <th>affect_neg_guilty</th>\n",
       "      <th>affect_neg_lazy</th>\n",
       "      <th>...</th>\n",
       "      <th>task_rt_3</th>\n",
       "      <th>task_rt_4</th>\n",
       "      <th>task_rt_avgRT</th>\n",
       "      <th>task_rt_flag_plus2_n</th>\n",
       "      <th>task_spatialSpan_score</th>\n",
       "      <th>task_spatialSpan_tod</th>\n",
       "      <th>task_hanoi_solved</th>\n",
       "      <th>task_hanoi_time</th>\n",
       "      <th>task_hanoi_moves</th>\n",
       "      <th>task_hanoi_extraMoves</th>\n",
       "    </tr>\n",
       "  </thead>\n",
       "  <tbody>\n",
       "    <tr>\n",
       "      <th>0</th>\n",
       "      <td>d92cdaf1-cc3e-4408-bcdf-7be602cc5c3b</td>\n",
       "      <td>2022-09-27</td>\n",
       "      <td>3.0</td>\n",
       "      <td>3.0</td>\n",
       "      <td>1.0</td>\n",
       "      <td>5.0</td>\n",
       "      <td>5.0</td>\n",
       "      <td>2.0</td>\n",
       "      <td>4.0</td>\n",
       "      <td>5.0</td>\n",
       "      <td>...</td>\n",
       "      <td>NaN</td>\n",
       "      <td>NaN</td>\n",
       "      <td>NaN</td>\n",
       "      <td>NaN</td>\n",
       "      <td>280.0</td>\n",
       "      <td>09:09:20</td>\n",
       "      <td>False</td>\n",
       "      <td>18.734397</td>\n",
       "      <td>4.0</td>\n",
       "      <td>NaN</td>\n",
       "    </tr>\n",
       "    <tr>\n",
       "      <th>1</th>\n",
       "      <td>d92cdaf1-cc3e-4408-bcdf-7be602cc5c3b</td>\n",
       "      <td>2022-09-28</td>\n",
       "      <td>1.0</td>\n",
       "      <td>4.0</td>\n",
       "      <td>1.0</td>\n",
       "      <td>5.0</td>\n",
       "      <td>1.0</td>\n",
       "      <td>3.0</td>\n",
       "      <td>1.0</td>\n",
       "      <td>5.0</td>\n",
       "      <td>...</td>\n",
       "      <td>NaN</td>\n",
       "      <td>NaN</td>\n",
       "      <td>NaN</td>\n",
       "      <td>NaN</td>\n",
       "      <td>315.0</td>\n",
       "      <td>11:05:24</td>\n",
       "      <td>False</td>\n",
       "      <td>25.741186</td>\n",
       "      <td>6.0</td>\n",
       "      <td>NaN</td>\n",
       "    </tr>\n",
       "    <tr>\n",
       "      <th>2</th>\n",
       "      <td>d92cdaf1-cc3e-4408-bcdf-7be602cc5c3b</td>\n",
       "      <td>2022-09-29</td>\n",
       "      <td>NaN</td>\n",
       "      <td>NaN</td>\n",
       "      <td>NaN</td>\n",
       "      <td>NaN</td>\n",
       "      <td>NaN</td>\n",
       "      <td>NaN</td>\n",
       "      <td>NaN</td>\n",
       "      <td>NaN</td>\n",
       "      <td>...</td>\n",
       "      <td>NaN</td>\n",
       "      <td>NaN</td>\n",
       "      <td>NaN</td>\n",
       "      <td>NaN</td>\n",
       "      <td>355.0</td>\n",
       "      <td>09:27:19</td>\n",
       "      <td>False</td>\n",
       "      <td>1.858064</td>\n",
       "      <td>2.0</td>\n",
       "      <td>NaN</td>\n",
       "    </tr>\n",
       "    <tr>\n",
       "      <th>3</th>\n",
       "      <td>d92cdaf1-cc3e-4408-bcdf-7be602cc5c3b</td>\n",
       "      <td>2022-09-30</td>\n",
       "      <td>NaN</td>\n",
       "      <td>NaN</td>\n",
       "      <td>NaN</td>\n",
       "      <td>NaN</td>\n",
       "      <td>NaN</td>\n",
       "      <td>NaN</td>\n",
       "      <td>NaN</td>\n",
       "      <td>NaN</td>\n",
       "      <td>...</td>\n",
       "      <td>NaN</td>\n",
       "      <td>NaN</td>\n",
       "      <td>NaN</td>\n",
       "      <td>NaN</td>\n",
       "      <td>315.0</td>\n",
       "      <td>19:09:25</td>\n",
       "      <td>False</td>\n",
       "      <td>2.050316</td>\n",
       "      <td>2.0</td>\n",
       "      <td>NaN</td>\n",
       "    </tr>\n",
       "    <tr>\n",
       "      <th>4</th>\n",
       "      <td>d92cdaf1-cc3e-4408-bcdf-7be602cc5c3b</td>\n",
       "      <td>2022-10-01</td>\n",
       "      <td>4.0</td>\n",
       "      <td>4.0</td>\n",
       "      <td>3.0</td>\n",
       "      <td>4.0</td>\n",
       "      <td>1.0</td>\n",
       "      <td>3.0</td>\n",
       "      <td>4.0</td>\n",
       "      <td>1.0</td>\n",
       "      <td>...</td>\n",
       "      <td>NaN</td>\n",
       "      <td>NaN</td>\n",
       "      <td>NaN</td>\n",
       "      <td>NaN</td>\n",
       "      <td>380.0</td>\n",
       "      <td>00:22:08</td>\n",
       "      <td>False</td>\n",
       "      <td>68.897515</td>\n",
       "      <td>13.0</td>\n",
       "      <td>NaN</td>\n",
       "    </tr>\n",
       "  </tbody>\n",
       "</table>\n",
       "<p>5 rows × 198 columns</p>\n",
       "</div>"
      ],
      "text/plain": [
       "                  ParticipantIdentifier  trial_date affect_neg_angry  \\\n",
       "0  d92cdaf1-cc3e-4408-bcdf-7be602cc5c3b  2022-09-27              3.0   \n",
       "1  d92cdaf1-cc3e-4408-bcdf-7be602cc5c3b  2022-09-28              1.0   \n",
       "2  d92cdaf1-cc3e-4408-bcdf-7be602cc5c3b  2022-09-29              NaN   \n",
       "3  d92cdaf1-cc3e-4408-bcdf-7be602cc5c3b  2022-09-30              NaN   \n",
       "4  d92cdaf1-cc3e-4408-bcdf-7be602cc5c3b  2022-10-01              4.0   \n",
       "\n",
       "  affect_neg_ashamed affect_neg_bored affect_neg_depressed  \\\n",
       "0                3.0              1.0                  5.0   \n",
       "1                4.0              1.0                  5.0   \n",
       "2                NaN              NaN                  NaN   \n",
       "3                NaN              NaN                  NaN   \n",
       "4                4.0              3.0                  4.0   \n",
       "\n",
       "  affect_neg_embarrassed affect_neg_frustrated affect_neg_guilty  \\\n",
       "0                    5.0                   2.0               4.0   \n",
       "1                    1.0                   3.0               1.0   \n",
       "2                    NaN                   NaN               NaN   \n",
       "3                    NaN                   NaN               NaN   \n",
       "4                    1.0                   3.0               4.0   \n",
       "\n",
       "  affect_neg_lazy  ... task_rt_3 task_rt_4 task_rt_avgRT task_rt_flag_plus2_n  \\\n",
       "0             5.0  ...       NaN       NaN           NaN                  NaN   \n",
       "1             5.0  ...       NaN       NaN           NaN                  NaN   \n",
       "2             NaN  ...       NaN       NaN           NaN                  NaN   \n",
       "3             NaN  ...       NaN       NaN           NaN                  NaN   \n",
       "4             1.0  ...       NaN       NaN           NaN                  NaN   \n",
       "\n",
       "  task_spatialSpan_score task_spatialSpan_tod task_hanoi_solved  \\\n",
       "0                  280.0             09:09:20             False   \n",
       "1                  315.0             11:05:24             False   \n",
       "2                  355.0             09:27:19             False   \n",
       "3                  315.0             19:09:25             False   \n",
       "4                  380.0             00:22:08             False   \n",
       "\n",
       "  task_hanoi_time task_hanoi_moves task_hanoi_extraMoves  \n",
       "0       18.734397              4.0                   NaN  \n",
       "1       25.741186              6.0                   NaN  \n",
       "2        1.858064              2.0                   NaN  \n",
       "3        2.050316              2.0                   NaN  \n",
       "4       68.897515             13.0                   NaN  \n",
       "\n",
       "[5 rows x 198 columns]"
      ]
     },
     "execution_count": 279,
     "metadata": {},
     "output_type": "execute_result"
    }
   ],
   "source": [
    "df_complete.head()"
   ]
  },
  {
   "cell_type": "markdown",
   "metadata": {},
   "source": [
    "# Passive Data"
   ]
  },
  {
   "cell_type": "markdown",
   "metadata": {},
   "source": [
    "## Health Kit"
   ]
  },
  {
   "cell_type": "markdown",
   "metadata": {},
   "source": [
    "### Load Data"
   ]
  },
  {
   "cell_type": "code",
   "execution_count": 270,
   "metadata": {},
   "outputs": [
    {
     "name": "stdout",
     "output_type": "stream",
     "text": [
      "deleted existing df\n"
     ]
    }
   ],
   "source": [
    "# erase df if it already exists\n",
    "if 'df' in globals():\n",
    "    del(df)\n",
    "    print('deleted existing df')"
   ]
  },
  {
   "cell_type": "code",
   "execution_count": 271,
   "metadata": {},
   "outputs": [
    {
     "name": "stderr",
     "output_type": "stream",
     "text": [
      "  0%|          | 0/87 [00:00<?, ?it/s]/var/folders/lw/ys_1b9sj08s904m4402qr0bm0000gn/T/ipykernel_70796/354494015.py:9: DtypeWarning: Columns (17) have mixed types. Specify dtype option on import or set low_memory=False.\n",
      "  df = pd.read_csv(path + day + '/' + file)\n",
      "  1%|          | 1/87 [00:00<00:33,  2.57it/s]/var/folders/lw/ys_1b9sj08s904m4402qr0bm0000gn/T/ipykernel_70796/354494015.py:11: DtypeWarning: Columns (17) have mixed types. Specify dtype option on import or set low_memory=False.\n",
      "  temp_df = pd.read_csv(path + day + '/' + file)\n",
      "  3%|▎         | 3/87 [00:01<00:33,  2.51it/s]/var/folders/lw/ys_1b9sj08s904m4402qr0bm0000gn/T/ipykernel_70796/354494015.py:11: DtypeWarning: Columns (17) have mixed types. Specify dtype option on import or set low_memory=False.\n",
      "  temp_df = pd.read_csv(path + day + '/' + file)\n",
      "  7%|▋         | 6/87 [00:02<00:26,  3.11it/s]/var/folders/lw/ys_1b9sj08s904m4402qr0bm0000gn/T/ipykernel_70796/354494015.py:11: DtypeWarning: Columns (17) have mixed types. Specify dtype option on import or set low_memory=False.\n",
      "  temp_df = pd.read_csv(path + day + '/' + file)\n",
      " 11%|█▏        | 10/87 [00:03<00:31,  2.46it/s]/var/folders/lw/ys_1b9sj08s904m4402qr0bm0000gn/T/ipykernel_70796/354494015.py:11: DtypeWarning: Columns (17) have mixed types. Specify dtype option on import or set low_memory=False.\n",
      "  temp_df = pd.read_csv(path + day + '/' + file)\n",
      " 14%|█▍        | 12/87 [00:04<00:29,  2.59it/s]/var/folders/lw/ys_1b9sj08s904m4402qr0bm0000gn/T/ipykernel_70796/354494015.py:11: DtypeWarning: Columns (17) have mixed types. Specify dtype option on import or set low_memory=False.\n",
      "  temp_df = pd.read_csv(path + day + '/' + file)\n",
      " 16%|█▌        | 14/87 [00:05<00:29,  2.48it/s]/var/folders/lw/ys_1b9sj08s904m4402qr0bm0000gn/T/ipykernel_70796/354494015.py:11: DtypeWarning: Columns (17) have mixed types. Specify dtype option on import or set low_memory=False.\n",
      "  temp_df = pd.read_csv(path + day + '/' + file)\n",
      " 17%|█▋        | 15/87 [00:05<00:29,  2.44it/s]/var/folders/lw/ys_1b9sj08s904m4402qr0bm0000gn/T/ipykernel_70796/354494015.py:11: DtypeWarning: Columns (17) have mixed types. Specify dtype option on import or set low_memory=False.\n",
      "  temp_df = pd.read_csv(path + day + '/' + file)\n",
      " 18%|█▊        | 16/87 [00:06<00:32,  2.20it/s]/var/folders/lw/ys_1b9sj08s904m4402qr0bm0000gn/T/ipykernel_70796/354494015.py:11: DtypeWarning: Columns (17) have mixed types. Specify dtype option on import or set low_memory=False.\n",
      "  temp_df = pd.read_csv(path + day + '/' + file)\n",
      " 20%|█▉        | 17/87 [00:07<00:36,  1.93it/s]/var/folders/lw/ys_1b9sj08s904m4402qr0bm0000gn/T/ipykernel_70796/354494015.py:11: DtypeWarning: Columns (17) have mixed types. Specify dtype option on import or set low_memory=False.\n",
      "  temp_df = pd.read_csv(path + day + '/' + file)\n",
      " 21%|██        | 18/87 [00:07<00:34,  1.99it/s]/var/folders/lw/ys_1b9sj08s904m4402qr0bm0000gn/T/ipykernel_70796/354494015.py:11: DtypeWarning: Columns (17) have mixed types. Specify dtype option on import or set low_memory=False.\n",
      "  temp_df = pd.read_csv(path + day + '/' + file)\n",
      " 26%|██▋       | 23/87 [00:10<00:34,  1.84it/s]/var/folders/lw/ys_1b9sj08s904m4402qr0bm0000gn/T/ipykernel_70796/354494015.py:11: DtypeWarning: Columns (17) have mixed types. Specify dtype option on import or set low_memory=False.\n",
      "  temp_df = pd.read_csv(path + day + '/' + file)\n",
      " 28%|██▊       | 24/87 [00:10<00:33,  1.87it/s]/var/folders/lw/ys_1b9sj08s904m4402qr0bm0000gn/T/ipykernel_70796/354494015.py:11: DtypeWarning: Columns (17) have mixed types. Specify dtype option on import or set low_memory=False.\n",
      "  temp_df = pd.read_csv(path + day + '/' + file)\n",
      " 29%|██▊       | 25/87 [00:11<00:36,  1.69it/s]/var/folders/lw/ys_1b9sj08s904m4402qr0bm0000gn/T/ipykernel_70796/354494015.py:11: DtypeWarning: Columns (17) have mixed types. Specify dtype option on import or set low_memory=False.\n",
      "  temp_df = pd.read_csv(path + day + '/' + file)\n",
      " 30%|██▉       | 26/87 [00:11<00:35,  1.71it/s]/var/folders/lw/ys_1b9sj08s904m4402qr0bm0000gn/T/ipykernel_70796/354494015.py:11: DtypeWarning: Columns (17) have mixed types. Specify dtype option on import or set low_memory=False.\n",
      "  temp_df = pd.read_csv(path + day + '/' + file)\n",
      " 31%|███       | 27/87 [00:12<00:35,  1.68it/s]/var/folders/lw/ys_1b9sj08s904m4402qr0bm0000gn/T/ipykernel_70796/354494015.py:11: DtypeWarning: Columns (17) have mixed types. Specify dtype option on import or set low_memory=False.\n",
      "  temp_df = pd.read_csv(path + day + '/' + file)\n",
      " 33%|███▎      | 29/87 [00:13<00:37,  1.57it/s]/var/folders/lw/ys_1b9sj08s904m4402qr0bm0000gn/T/ipykernel_70796/354494015.py:11: DtypeWarning: Columns (5,17) have mixed types. Specify dtype option on import or set low_memory=False.\n",
      "  temp_df = pd.read_csv(path + day + '/' + file)\n",
      " 34%|███▍      | 30/87 [00:14<00:36,  1.56it/s]/var/folders/lw/ys_1b9sj08s904m4402qr0bm0000gn/T/ipykernel_70796/354494015.py:11: DtypeWarning: Columns (17) have mixed types. Specify dtype option on import or set low_memory=False.\n",
      "  temp_df = pd.read_csv(path + day + '/' + file)\n",
      " 38%|███▊      | 33/87 [00:16<00:37,  1.45it/s]/var/folders/lw/ys_1b9sj08s904m4402qr0bm0000gn/T/ipykernel_70796/354494015.py:11: DtypeWarning: Columns (17) have mixed types. Specify dtype option on import or set low_memory=False.\n",
      "  temp_df = pd.read_csv(path + day + '/' + file)\n",
      " 41%|████▏     | 36/87 [00:18<00:33,  1.52it/s]/var/folders/lw/ys_1b9sj08s904m4402qr0bm0000gn/T/ipykernel_70796/354494015.py:11: DtypeWarning: Columns (17) have mixed types. Specify dtype option on import or set low_memory=False.\n",
      "  temp_df = pd.read_csv(path + day + '/' + file)\n",
      " 48%|████▊     | 42/87 [00:23<00:35,  1.28it/s]/var/folders/lw/ys_1b9sj08s904m4402qr0bm0000gn/T/ipykernel_70796/354494015.py:11: DtypeWarning: Columns (17) have mixed types. Specify dtype option on import or set low_memory=False.\n",
      "  temp_df = pd.read_csv(path + day + '/' + file)\n",
      " 49%|████▉     | 43/87 [00:24<00:35,  1.24it/s]/var/folders/lw/ys_1b9sj08s904m4402qr0bm0000gn/T/ipykernel_70796/354494015.py:11: DtypeWarning: Columns (17) have mixed types. Specify dtype option on import or set low_memory=False.\n",
      "  temp_df = pd.read_csv(path + day + '/' + file)\n",
      " 52%|█████▏    | 45/87 [00:25<00:34,  1.20it/s]/var/folders/lw/ys_1b9sj08s904m4402qr0bm0000gn/T/ipykernel_70796/354494015.py:11: DtypeWarning: Columns (17) have mixed types. Specify dtype option on import or set low_memory=False.\n",
      "  temp_df = pd.read_csv(path + day + '/' + file)\n",
      " 53%|█████▎    | 46/87 [00:26<00:34,  1.19it/s]/var/folders/lw/ys_1b9sj08s904m4402qr0bm0000gn/T/ipykernel_70796/354494015.py:11: DtypeWarning: Columns (17) have mixed types. Specify dtype option on import or set low_memory=False.\n",
      "  temp_df = pd.read_csv(path + day + '/' + file)\n",
      " 54%|█████▍    | 47/87 [00:27<00:33,  1.19it/s]/var/folders/lw/ys_1b9sj08s904m4402qr0bm0000gn/T/ipykernel_70796/354494015.py:11: DtypeWarning: Columns (5,17) have mixed types. Specify dtype option on import or set low_memory=False.\n",
      "  temp_df = pd.read_csv(path + day + '/' + file)\n",
      " 55%|█████▌    | 48/87 [00:28<00:30,  1.26it/s]/var/folders/lw/ys_1b9sj08s904m4402qr0bm0000gn/T/ipykernel_70796/354494015.py:11: DtypeWarning: Columns (17) have mixed types. Specify dtype option on import or set low_memory=False.\n",
      "  temp_df = pd.read_csv(path + day + '/' + file)\n",
      " 57%|█████▋    | 50/87 [00:29<00:31,  1.19it/s]/var/folders/lw/ys_1b9sj08s904m4402qr0bm0000gn/T/ipykernel_70796/354494015.py:11: DtypeWarning: Columns (17) have mixed types. Specify dtype option on import or set low_memory=False.\n",
      "  temp_df = pd.read_csv(path + day + '/' + file)\n",
      " 59%|█████▊    | 51/87 [00:30<00:30,  1.18it/s]/var/folders/lw/ys_1b9sj08s904m4402qr0bm0000gn/T/ipykernel_70796/354494015.py:11: DtypeWarning: Columns (17) have mixed types. Specify dtype option on import or set low_memory=False.\n",
      "  temp_df = pd.read_csv(path + day + '/' + file)\n",
      " 61%|██████    | 53/87 [00:32<00:29,  1.16it/s]/var/folders/lw/ys_1b9sj08s904m4402qr0bm0000gn/T/ipykernel_70796/354494015.py:11: DtypeWarning: Columns (17) have mixed types. Specify dtype option on import or set low_memory=False.\n",
      "  temp_df = pd.read_csv(path + day + '/' + file)\n",
      " 62%|██████▏   | 54/87 [00:33<00:28,  1.17it/s]/var/folders/lw/ys_1b9sj08s904m4402qr0bm0000gn/T/ipykernel_70796/354494015.py:11: DtypeWarning: Columns (17) have mixed types. Specify dtype option on import or set low_memory=False.\n",
      "  temp_df = pd.read_csv(path + day + '/' + file)\n",
      " 63%|██████▎   | 55/87 [00:34<00:27,  1.16it/s]/var/folders/lw/ys_1b9sj08s904m4402qr0bm0000gn/T/ipykernel_70796/354494015.py:11: DtypeWarning: Columns (17) have mixed types. Specify dtype option on import or set low_memory=False.\n",
      "  temp_df = pd.read_csv(path + day + '/' + file)\n",
      " 64%|██████▍   | 56/87 [00:34<00:24,  1.24it/s]/var/folders/lw/ys_1b9sj08s904m4402qr0bm0000gn/T/ipykernel_70796/354494015.py:11: DtypeWarning: Columns (17) have mixed types. Specify dtype option on import or set low_memory=False.\n",
      "  temp_df = pd.read_csv(path + day + '/' + file)\n",
      " 66%|██████▌   | 57/87 [00:35<00:24,  1.22it/s]/var/folders/lw/ys_1b9sj08s904m4402qr0bm0000gn/T/ipykernel_70796/354494015.py:11: DtypeWarning: Columns (17) have mixed types. Specify dtype option on import or set low_memory=False.\n",
      "  temp_df = pd.read_csv(path + day + '/' + file)\n",
      " 67%|██████▋   | 58/87 [00:36<00:24,  1.17it/s]/var/folders/lw/ys_1b9sj08s904m4402qr0bm0000gn/T/ipykernel_70796/354494015.py:11: DtypeWarning: Columns (17) have mixed types. Specify dtype option on import or set low_memory=False.\n",
      "  temp_df = pd.read_csv(path + day + '/' + file)\n",
      " 68%|██████▊   | 59/87 [00:37<00:26,  1.07it/s]/var/folders/lw/ys_1b9sj08s904m4402qr0bm0000gn/T/ipykernel_70796/354494015.py:11: DtypeWarning: Columns (17) have mixed types. Specify dtype option on import or set low_memory=False.\n",
      "  temp_df = pd.read_csv(path + day + '/' + file)\n",
      " 75%|███████▍  | 65/87 [00:42<00:18,  1.17it/s]/var/folders/lw/ys_1b9sj08s904m4402qr0bm0000gn/T/ipykernel_70796/354494015.py:11: DtypeWarning: Columns (17) have mixed types. Specify dtype option on import or set low_memory=False.\n",
      "  temp_df = pd.read_csv(path + day + '/' + file)\n",
      " 76%|███████▌  | 66/87 [00:43<00:18,  1.13it/s]/var/folders/lw/ys_1b9sj08s904m4402qr0bm0000gn/T/ipykernel_70796/354494015.py:11: DtypeWarning: Columns (17) have mixed types. Specify dtype option on import or set low_memory=False.\n",
      "  temp_df = pd.read_csv(path + day + '/' + file)\n",
      " 80%|████████  | 70/87 [00:47<00:14,  1.14it/s]/var/folders/lw/ys_1b9sj08s904m4402qr0bm0000gn/T/ipykernel_70796/354494015.py:11: DtypeWarning: Columns (17) have mixed types. Specify dtype option on import or set low_memory=False.\n",
      "  temp_df = pd.read_csv(path + day + '/' + file)\n",
      " 83%|████████▎ | 72/87 [00:49<00:13,  1.08it/s]/var/folders/lw/ys_1b9sj08s904m4402qr0bm0000gn/T/ipykernel_70796/354494015.py:11: DtypeWarning: Columns (17) have mixed types. Specify dtype option on import or set low_memory=False.\n",
      "  temp_df = pd.read_csv(path + day + '/' + file)\n",
      " 85%|████████▌ | 74/87 [00:51<00:12,  1.04it/s]/var/folders/lw/ys_1b9sj08s904m4402qr0bm0000gn/T/ipykernel_70796/354494015.py:11: DtypeWarning: Columns (17) have mixed types. Specify dtype option on import or set low_memory=False.\n",
      "  temp_df = pd.read_csv(path + day + '/' + file)\n",
      " 87%|████████▋ | 76/87 [00:53<00:10,  1.02it/s]/var/folders/lw/ys_1b9sj08s904m4402qr0bm0000gn/T/ipykernel_70796/354494015.py:11: DtypeWarning: Columns (17) have mixed types. Specify dtype option on import or set low_memory=False.\n",
      "  temp_df = pd.read_csv(path + day + '/' + file)\n",
      " 91%|█████████ | 79/87 [00:56<00:08,  1.03s/it]/var/folders/lw/ys_1b9sj08s904m4402qr0bm0000gn/T/ipykernel_70796/354494015.py:11: DtypeWarning: Columns (17) have mixed types. Specify dtype option on import or set low_memory=False.\n",
      "  temp_df = pd.read_csv(path + day + '/' + file)\n",
      " 92%|█████████▏| 80/87 [00:57<00:07,  1.08s/it]/var/folders/lw/ys_1b9sj08s904m4402qr0bm0000gn/T/ipykernel_70796/354494015.py:11: DtypeWarning: Columns (17) have mixed types. Specify dtype option on import or set low_memory=False.\n",
      "  temp_df = pd.read_csv(path + day + '/' + file)\n",
      " 93%|█████████▎| 81/87 [00:58<00:06,  1.12s/it]/var/folders/lw/ys_1b9sj08s904m4402qr0bm0000gn/T/ipykernel_70796/354494015.py:11: DtypeWarning: Columns (17) have mixed types. Specify dtype option on import or set low_memory=False.\n",
      "  temp_df = pd.read_csv(path + day + '/' + file)\n",
      " 94%|█████████▍| 82/87 [00:59<00:05,  1.12s/it]/var/folders/lw/ys_1b9sj08s904m4402qr0bm0000gn/T/ipykernel_70796/354494015.py:11: DtypeWarning: Columns (17) have mixed types. Specify dtype option on import or set low_memory=False.\n",
      "  temp_df = pd.read_csv(path + day + '/' + file)\n",
      " 95%|█████████▌| 83/87 [01:01<00:04,  1.14s/it]/var/folders/lw/ys_1b9sj08s904m4402qr0bm0000gn/T/ipykernel_70796/354494015.py:11: DtypeWarning: Columns (17) have mixed types. Specify dtype option on import or set low_memory=False.\n",
      "  temp_df = pd.read_csv(path + day + '/' + file)\n",
      " 98%|█████████▊| 85/87 [01:03<00:02,  1.10s/it]/var/folders/lw/ys_1b9sj08s904m4402qr0bm0000gn/T/ipykernel_70796/354494015.py:11: DtypeWarning: Columns (17) have mixed types. Specify dtype option on import or set low_memory=False.\n",
      "  temp_df = pd.read_csv(path + day + '/' + file)\n",
      " 99%|█████████▉| 86/87 [01:04<00:01,  1.20s/it]/var/folders/lw/ys_1b9sj08s904m4402qr0bm0000gn/T/ipykernel_70796/354494015.py:11: DtypeWarning: Columns (17) have mixed types. Specify dtype option on import or set low_memory=False.\n",
      "  temp_df = pd.read_csv(path + day + '/' + file)\n",
      "100%|██████████| 87/87 [01:05<00:00,  1.32it/s]\n"
     ]
    }
   ],
   "source": [
    "# loop through all days\n",
    "days = [i for i in os.listdir(path) if i.startswith('RK')]\n",
    "for day in tqdm(days):\n",
    "    files = os.listdir(path + day)\n",
    "    surveyQuestions = [i for i in files if i.startswith('HealthKitSamples')]\n",
    "    # there should be only one\n",
    "    for file in surveyQuestions:\n",
    "        if 'df' not in globals():\n",
    "            df = pd.read_csv(path + day + '/' + file)\n",
    "        else:\n",
    "            temp_df = pd.read_csv(path + day + '/' + file)\n",
    "            df = pd.concat([df,temp_df], axis=0)"
   ]
  },
  {
   "cell_type": "markdown",
   "metadata": {},
   "source": [
    "### Format Data"
   ]
  },
  {
   "cell_type": "code",
   "execution_count": 272,
   "metadata": {},
   "outputs": [
    {
     "data": {
      "text/html": [
       "<div>\n",
       "<style scoped>\n",
       "    .dataframe tbody tr th:only-of-type {\n",
       "        vertical-align: middle;\n",
       "    }\n",
       "\n",
       "    .dataframe tbody tr th {\n",
       "        vertical-align: top;\n",
       "    }\n",
       "\n",
       "    .dataframe thead th {\n",
       "        text-align: right;\n",
       "    }\n",
       "</style>\n",
       "<table border=\"1\" class=\"dataframe\">\n",
       "  <thead>\n",
       "    <tr style=\"text-align: right;\">\n",
       "      <th></th>\n",
       "      <th>HealthKitSampleKey</th>\n",
       "      <th>ParticipantIdentifier</th>\n",
       "      <th>StartDate</th>\n",
       "      <th>Date</th>\n",
       "      <th>Type</th>\n",
       "      <th>Value</th>\n",
       "      <th>Units</th>\n",
       "      <th>SourceIdentifier</th>\n",
       "      <th>SourceName</th>\n",
       "      <th>SourceVersion</th>\n",
       "      <th>DeviceName</th>\n",
       "      <th>DeviceModel</th>\n",
       "      <th>DeviceManufacturer</th>\n",
       "      <th>DeviceHardwareVersion</th>\n",
       "      <th>DeviceSoftwareVersion</th>\n",
       "      <th>DeviceFirmwareVersion</th>\n",
       "      <th>DeviceFDAIdentifier</th>\n",
       "      <th>DeviceLocalIdentifier</th>\n",
       "      <th>Metadata</th>\n",
       "      <th>InsertedDate</th>\n",
       "    </tr>\n",
       "  </thead>\n",
       "  <tbody>\n",
       "    <tr>\n",
       "      <th>0</th>\n",
       "      <td>0c41e753-8b53-ed11-aac1-0afb9334277d</td>\n",
       "      <td>6e86c427-c679-4acd-aeb4-19ada9022b66</td>\n",
       "      <td>2022-10-24T06:12:01-04:00</td>\n",
       "      <td>2022-10-24T06:12:01-04:00</td>\n",
       "      <td>HeartRate</td>\n",
       "      <td>71</td>\n",
       "      <td>count/min</td>\n",
       "      <td>com.apple.health.B7883FAE-4E44-4B37-B142-2D969...</td>\n",
       "      <td>Tamera’s Apple Watch</td>\n",
       "      <td>9.0.2</td>\n",
       "      <td>Apple Watch</td>\n",
       "      <td>Watch</td>\n",
       "      <td>Apple Inc.</td>\n",
       "      <td>Watch5,9</td>\n",
       "      <td>9.0.2</td>\n",
       "      <td>NaN</td>\n",
       "      <td>NaN</td>\n",
       "      <td>NaN</td>\n",
       "      <td>{\"HKMetadataKeyHeartRateMotionContext\":\"0\"}</td>\n",
       "      <td>2022-10-24T11:02:29Z</td>\n",
       "    </tr>\n",
       "    <tr>\n",
       "      <th>1</th>\n",
       "      <td>0b41e753-8b53-ed11-aac1-0afb9334277d</td>\n",
       "      <td>6e86c427-c679-4acd-aeb4-19ada9022b66</td>\n",
       "      <td>2022-10-24T06:08:16-04:00</td>\n",
       "      <td>2022-10-24T06:08:16-04:00</td>\n",
       "      <td>HeartRate</td>\n",
       "      <td>71</td>\n",
       "      <td>count/min</td>\n",
       "      <td>com.apple.health.B7883FAE-4E44-4B37-B142-2D969...</td>\n",
       "      <td>Tamera’s Apple Watch</td>\n",
       "      <td>9.0.2</td>\n",
       "      <td>Apple Watch</td>\n",
       "      <td>Watch</td>\n",
       "      <td>Apple Inc.</td>\n",
       "      <td>Watch5,9</td>\n",
       "      <td>9.0.2</td>\n",
       "      <td>NaN</td>\n",
       "      <td>NaN</td>\n",
       "      <td>NaN</td>\n",
       "      <td>{\"HKMetadataKeyHeartRateMotionContext\":\"0\"}</td>\n",
       "      <td>2022-10-24T11:02:29Z</td>\n",
       "    </tr>\n",
       "    <tr>\n",
       "      <th>2</th>\n",
       "      <td>0a41e753-8b53-ed11-aac1-0afb9334277d</td>\n",
       "      <td>6e86c427-c679-4acd-aeb4-19ada9022b66</td>\n",
       "      <td>2022-10-24T06:04:35-04:00</td>\n",
       "      <td>2022-10-24T06:04:35-04:00</td>\n",
       "      <td>HeartRate</td>\n",
       "      <td>72</td>\n",
       "      <td>count/min</td>\n",
       "      <td>com.apple.health.B7883FAE-4E44-4B37-B142-2D969...</td>\n",
       "      <td>Tamera’s Apple Watch</td>\n",
       "      <td>9.0.2</td>\n",
       "      <td>Apple Watch</td>\n",
       "      <td>Watch</td>\n",
       "      <td>Apple Inc.</td>\n",
       "      <td>Watch5,9</td>\n",
       "      <td>9.0.2</td>\n",
       "      <td>NaN</td>\n",
       "      <td>NaN</td>\n",
       "      <td>NaN</td>\n",
       "      <td>{\"HKMetadataKeyHeartRateMotionContext\":\"0\"}</td>\n",
       "      <td>2022-10-24T11:02:29Z</td>\n",
       "    </tr>\n",
       "  </tbody>\n",
       "</table>\n",
       "</div>"
      ],
      "text/plain": [
       "                     HealthKitSampleKey                 ParticipantIdentifier  \\\n",
       "0  0c41e753-8b53-ed11-aac1-0afb9334277d  6e86c427-c679-4acd-aeb4-19ada9022b66   \n",
       "1  0b41e753-8b53-ed11-aac1-0afb9334277d  6e86c427-c679-4acd-aeb4-19ada9022b66   \n",
       "2  0a41e753-8b53-ed11-aac1-0afb9334277d  6e86c427-c679-4acd-aeb4-19ada9022b66   \n",
       "\n",
       "                   StartDate                       Date       Type Value  \\\n",
       "0  2022-10-24T06:12:01-04:00  2022-10-24T06:12:01-04:00  HeartRate    71   \n",
       "1  2022-10-24T06:08:16-04:00  2022-10-24T06:08:16-04:00  HeartRate    71   \n",
       "2  2022-10-24T06:04:35-04:00  2022-10-24T06:04:35-04:00  HeartRate    72   \n",
       "\n",
       "       Units                                   SourceIdentifier  \\\n",
       "0  count/min  com.apple.health.B7883FAE-4E44-4B37-B142-2D969...   \n",
       "1  count/min  com.apple.health.B7883FAE-4E44-4B37-B142-2D969...   \n",
       "2  count/min  com.apple.health.B7883FAE-4E44-4B37-B142-2D969...   \n",
       "\n",
       "             SourceName SourceVersion   DeviceName DeviceModel  \\\n",
       "0  Tamera’s Apple Watch         9.0.2  Apple Watch       Watch   \n",
       "1  Tamera’s Apple Watch         9.0.2  Apple Watch       Watch   \n",
       "2  Tamera’s Apple Watch         9.0.2  Apple Watch       Watch   \n",
       "\n",
       "  DeviceManufacturer DeviceHardwareVersion DeviceSoftwareVersion  \\\n",
       "0         Apple Inc.              Watch5,9                 9.0.2   \n",
       "1         Apple Inc.              Watch5,9                 9.0.2   \n",
       "2         Apple Inc.              Watch5,9                 9.0.2   \n",
       "\n",
       "   DeviceFirmwareVersion  DeviceFDAIdentifier DeviceLocalIdentifier  \\\n",
       "0                    NaN                  NaN                   NaN   \n",
       "1                    NaN                  NaN                   NaN   \n",
       "2                    NaN                  NaN                   NaN   \n",
       "\n",
       "                                      Metadata          InsertedDate  \n",
       "0  {\"HKMetadataKeyHeartRateMotionContext\":\"0\"}  2022-10-24T11:02:29Z  \n",
       "1  {\"HKMetadataKeyHeartRateMotionContext\":\"0\"}  2022-10-24T11:02:29Z  \n",
       "2  {\"HKMetadataKeyHeartRateMotionContext\":\"0\"}  2022-10-24T11:02:29Z  "
      ]
     },
     "execution_count": 272,
     "metadata": {},
     "output_type": "execute_result"
    }
   ],
   "source": [
    "df.head(3)"
   ]
  },
  {
   "cell_type": "code",
   "execution_count": 273,
   "metadata": {},
   "outputs": [
    {
     "data": {
      "text/plain": [
       "Index(['HealthKitSampleKey', 'ParticipantIdentifier', 'StartDate', 'Date',\n",
       "       'Type', 'Value', 'Units', 'SourceIdentifier', 'SourceName',\n",
       "       'SourceVersion', 'DeviceName', 'DeviceModel', 'DeviceManufacturer',\n",
       "       'DeviceHardwareVersion', 'DeviceSoftwareVersion',\n",
       "       'DeviceFirmwareVersion', 'DeviceFDAIdentifier', 'DeviceLocalIdentifier',\n",
       "       'Metadata', 'InsertedDate'],\n",
       "      dtype='object')"
      ]
     },
     "execution_count": 273,
     "metadata": {},
     "output_type": "execute_result"
    }
   ],
   "source": [
    "df.columns"
   ]
  },
  {
   "cell_type": "code",
   "execution_count": 274,
   "metadata": {},
   "outputs": [],
   "source": [
    "# rename Date to EndDate\n",
    "df.rename(columns={'Date': 'EndDate'}, inplace=True)"
   ]
  },
  {
   "cell_type": "code",
   "execution_count": 275,
   "metadata": {},
   "outputs": [],
   "source": [
    "keep_cols = [\n",
    "    'ParticipantIdentifier', \n",
    "    'StartDate',\n",
    "    'EndDate',\n",
    "    'Type', \n",
    "    'Value', \n",
    "    'Units',       \n",
    "    'SourceVersion', \n",
    "    'DeviceName', \n",
    "    'DeviceModel'\n",
    "]"
   ]
  },
  {
   "cell_type": "code",
   "execution_count": 276,
   "metadata": {},
   "outputs": [],
   "source": [
    "df = df[keep_cols]"
   ]
  },
  {
   "cell_type": "code",
   "execution_count": 277,
   "metadata": {},
   "outputs": [
    {
     "data": {
      "text/plain": [
       "ParticipantIdentifier         0\n",
       "StartDate                     0\n",
       "EndDate                       0\n",
       "Type                          0\n",
       "Value                         0\n",
       "Units                    110826\n",
       "SourceVersion              6653\n",
       "DeviceName               217698\n",
       "DeviceModel              237851\n",
       "dtype: int64"
      ]
     },
     "execution_count": 277,
     "metadata": {},
     "output_type": "execute_result"
    }
   ],
   "source": [
    "# check for na dates...\n",
    "df.isna().sum()"
   ]
  },
  {
   "cell_type": "code",
   "execution_count": 278,
   "metadata": {},
   "outputs": [],
   "source": [
    "# Select appropriate subjects\n",
    "df = df.loc[df.ParticipantIdentifier.isin(subjects)].reset_index(drop=True)"
   ]
  },
  {
   "cell_type": "code",
   "execution_count": 279,
   "metadata": {},
   "outputs": [
    {
     "data": {
      "text/plain": [
       "(7560564, 9)"
      ]
     },
     "execution_count": 279,
     "metadata": {},
     "output_type": "execute_result"
    }
   ],
   "source": [
    "df.shape"
   ]
  },
  {
   "cell_type": "code",
   "execution_count": 280,
   "metadata": {},
   "outputs": [
    {
     "name": "stdout",
     "output_type": "stream",
     "text": [
      "CPU times: user 2min 51s, sys: 246 ms, total: 2min 51s\n",
      "Wall time: 2min 52s\n"
     ]
    }
   ],
   "source": [
    "%%time\n",
    "\n",
    "# vectorized version\n",
    "\n",
    "# datetime col based on EndDate\n",
    "def foo(x):\n",
    "    try:\n",
    "        return parser.parse(x)\n",
    "    except (ValueError, KeyError):\n",
    "        return None\n",
    "\n",
    "v = np.vectorize(foo)\n",
    "df['datetime'] = v(df.StartDate)\n",
    "\n",
    "# trial_date col, based on sleep before 6pm...\n",
    "def foo(x):\n",
    "    try:\n",
    "        return (x + datetime.timedelta(hours = -4)).date()\n",
    "    except (ValueError, KeyError):\n",
    "        return None\n",
    "\n",
    "v = np.vectorize(foo)\n",
    "df['trial_date'] = v(df.datetime)\n",
    "\n",
    "# time col\n",
    "def foo(x):\n",
    "    try:\n",
    "        return x.time()\n",
    "    except (ValueError, KeyError):\n",
    "        return None\n",
    "\n",
    "v = np.vectorize(foo)\n",
    "df['time'] = v(df.datetime)"
   ]
  },
  {
   "cell_type": "code",
   "execution_count": 281,
   "metadata": {},
   "outputs": [
    {
     "data": {
      "text/plain": [
       "array(['ActiveEnergyBurned', 'AppleStandTime', 'AudioExposureEvent',\n",
       "       'DailySteps', 'DistanceCycling', 'DistanceWalkingRunning',\n",
       "       'EnvironmentalAudioExposure', 'HandwashingEvent',\n",
       "       'HeadphoneAudioExposure', 'HeartRate', 'HeartRateVariability',\n",
       "       'MindfulSession', 'RestingEnergyBurned', 'RestingHeartRate',\n",
       "       'SleepAnalysisInterval', 'StandHourInterval', 'Steps',\n",
       "       'WalkingHeartRateAverage', 'WalkingSpeed'], dtype=object)"
      ]
     },
     "execution_count": 281,
     "metadata": {},
     "output_type": "execute_result"
    }
   ],
   "source": [
    "np.unique(df.Type)"
   ]
  },
  {
   "cell_type": "code",
   "execution_count": 282,
   "metadata": {},
   "outputs": [
    {
     "data": {
      "text/plain": [
       "datetime.date(2022, 10, 24)"
      ]
     },
     "execution_count": 282,
     "metadata": {},
     "output_type": "execute_result"
    }
   ],
   "source": [
    "df['trial_date'][0]"
   ]
  },
  {
   "cell_type": "markdown",
   "metadata": {},
   "source": [
    "### Activity\n",
    "\n",
    "We will take:\n",
    "\n",
    "- `ActiveEnergyBurned`\n",
    "- `RestingEnergyBurned`\n",
    "- `DistanceWalkingRunning`\n",
    "- `DistanceCycling`\n",
    "- `AppleStandTime`\n",
    "- `WalkingSpeed`\n",
    "- `Steps`\n",
    "\n",
    "---\n",
    "\n",
    "**Note**: for some of these it makes sense to take the daily sum (e.g. `AppleStandTime`) while others make more sense as a daily average (e.g. `WalkingSpeed`)"
   ]
  },
  {
   "cell_type": "code",
   "execution_count": 283,
   "metadata": {},
   "outputs": [
    {
     "data": {
      "text/html": [
       "<div>\n",
       "<style scoped>\n",
       "    .dataframe tbody tr th:only-of-type {\n",
       "        vertical-align: middle;\n",
       "    }\n",
       "\n",
       "    .dataframe tbody tr th {\n",
       "        vertical-align: top;\n",
       "    }\n",
       "\n",
       "    .dataframe thead th {\n",
       "        text-align: right;\n",
       "    }\n",
       "</style>\n",
       "<table border=\"1\" class=\"dataframe\">\n",
       "  <thead>\n",
       "    <tr style=\"text-align: right;\">\n",
       "      <th></th>\n",
       "      <th>ParticipantIdentifier</th>\n",
       "      <th>StartDate</th>\n",
       "      <th>EndDate</th>\n",
       "      <th>Type</th>\n",
       "      <th>Value</th>\n",
       "      <th>Units</th>\n",
       "      <th>SourceVersion</th>\n",
       "      <th>DeviceName</th>\n",
       "      <th>DeviceModel</th>\n",
       "      <th>datetime</th>\n",
       "      <th>trial_date</th>\n",
       "      <th>time</th>\n",
       "    </tr>\n",
       "  </thead>\n",
       "  <tbody>\n",
       "    <tr>\n",
       "      <th>0</th>\n",
       "      <td>fed3a16b-c5a3-4a84-a111-32b7574e04b5</td>\n",
       "      <td>2022-10-24T06:01:08-04:00</td>\n",
       "      <td>2022-10-24T06:01:18-04:00</td>\n",
       "      <td>DistanceWalkingRunning</td>\n",
       "      <td>4.9299999999930151</td>\n",
       "      <td>m</td>\n",
       "      <td>9.0.2</td>\n",
       "      <td>Apple Watch</td>\n",
       "      <td>Watch</td>\n",
       "      <td>2022-10-24 06:01:08-04:00</td>\n",
       "      <td>2022-10-24</td>\n",
       "      <td>06:01:08</td>\n",
       "    </tr>\n",
       "    <tr>\n",
       "      <th>1</th>\n",
       "      <td>fed3a16b-c5a3-4a84-a111-32b7574e04b5</td>\n",
       "      <td>2022-10-24T06:04:55-04:00</td>\n",
       "      <td>2022-10-24T06:05:44-04:00</td>\n",
       "      <td>DistanceWalkingRunning</td>\n",
       "      <td>18.272000026714522</td>\n",
       "      <td>m</td>\n",
       "      <td>9.0.2</td>\n",
       "      <td>Apple Watch</td>\n",
       "      <td>Watch</td>\n",
       "      <td>2022-10-24 06:04:55-04:00</td>\n",
       "      <td>2022-10-24</td>\n",
       "      <td>06:04:55</td>\n",
       "    </tr>\n",
       "    <tr>\n",
       "      <th>2</th>\n",
       "      <td>fed3a16b-c5a3-4a84-a111-32b7574e04b5</td>\n",
       "      <td>2022-10-24T06:06:04-04:00</td>\n",
       "      <td>2022-10-24T06:06:17-04:00</td>\n",
       "      <td>DistanceWalkingRunning</td>\n",
       "      <td>20.730000000010477</td>\n",
       "      <td>m</td>\n",
       "      <td>9.0.2</td>\n",
       "      <td>Apple Watch</td>\n",
       "      <td>Watch</td>\n",
       "      <td>2022-10-24 06:06:04-04:00</td>\n",
       "      <td>2022-10-24</td>\n",
       "      <td>06:06:04</td>\n",
       "    </tr>\n",
       "  </tbody>\n",
       "</table>\n",
       "</div>"
      ],
      "text/plain": [
       "                  ParticipantIdentifier                  StartDate  \\\n",
       "0  fed3a16b-c5a3-4a84-a111-32b7574e04b5  2022-10-24T06:01:08-04:00   \n",
       "1  fed3a16b-c5a3-4a84-a111-32b7574e04b5  2022-10-24T06:04:55-04:00   \n",
       "2  fed3a16b-c5a3-4a84-a111-32b7574e04b5  2022-10-24T06:06:04-04:00   \n",
       "\n",
       "                     EndDate                    Type               Value  \\\n",
       "0  2022-10-24T06:01:18-04:00  DistanceWalkingRunning  4.9299999999930151   \n",
       "1  2022-10-24T06:05:44-04:00  DistanceWalkingRunning  18.272000026714522   \n",
       "2  2022-10-24T06:06:17-04:00  DistanceWalkingRunning  20.730000000010477   \n",
       "\n",
       "  Units SourceVersion   DeviceName DeviceModel                   datetime  \\\n",
       "0     m         9.0.2  Apple Watch       Watch  2022-10-24 06:01:08-04:00   \n",
       "1     m         9.0.2  Apple Watch       Watch  2022-10-24 06:04:55-04:00   \n",
       "2     m         9.0.2  Apple Watch       Watch  2022-10-24 06:06:04-04:00   \n",
       "\n",
       "   trial_date      time  \n",
       "0  2022-10-24  06:01:08  \n",
       "1  2022-10-24  06:04:55  \n",
       "2  2022-10-24  06:06:04  "
      ]
     },
     "execution_count": 283,
     "metadata": {},
     "output_type": "execute_result"
    }
   ],
   "source": [
    "type_vals_mean = ['WalkingSpeed']\n",
    "\n",
    "type_vals_sum = ['ActiveEnergyBurned', 'RestingEnergyBurned', 'DistanceWalkingRunning',\n",
    "                  'DistanceCycling', 'AppleStandTime', 'Steps']\n",
    "\n",
    "df_activity_mean = df.loc[df.Type.isin(type_vals_mean)].reset_index(drop=True)\n",
    "df_activity_sum = df.loc[df.Type.isin(type_vals_sum)].reset_index(drop=True)\n",
    "\n",
    "df_activity_sum.head(3)"
   ]
  },
  {
   "cell_type": "code",
   "execution_count": 284,
   "metadata": {},
   "outputs": [],
   "source": [
    "# cast Value to numeric\n",
    "df_activity_mean.Value = pd.to_numeric(df_activity_mean.Value)\n",
    "df_activity_sum.Value = pd.to_numeric(df_activity_sum.Value)\n",
    "\n",
    "# Calculate sums and means\n",
    "df_activity_mean = pd.DataFrame(df_activity_mean.groupby(['trial_date','ParticipantIdentifier', 'Type'])['Value'].mean()).reset_index()\n",
    "df_activity_sum = pd.DataFrame(df_activity_sum.groupby(['trial_date','ParticipantIdentifier', 'Type'])['Value'].sum()).reset_index()\n",
    "\n",
    "# convert from long to wide\n",
    "df_activity_mean = df_activity_mean.pivot_table(index=['trial_date', 'ParticipantIdentifier'],\n",
    "                                                columns='Type', \n",
    "                                                values='Value').reset_index()\n",
    "df_activity_sum = df_activity_sum.pivot_table(index=['trial_date', 'ParticipantIdentifier'],\n",
    "                                              columns='Type', \n",
    "                                              values='Value').reset_index()\n"
   ]
  },
  {
   "cell_type": "code",
   "execution_count": 285,
   "metadata": {},
   "outputs": [],
   "source": [
    "# Get rid of index name (set to \"Type\")\n",
    "df_activity_mean.columns.name = None\n",
    "df_activity_sum.columns.name = None\n",
    "\n",
    "# Rename columns\n",
    "df_activity_mean.rename(columns={'WalkingSpeed': 'passive_hk_activity_averageWalkingSpeed'\n",
    "                                }, inplace=True)\n",
    "\n",
    "df_activity_sum.rename(columns={'ActiveEnergyBurned': 'passive_hk_activity_activeEnergyBurned',\n",
    "                                'RestingEnergyBurned': 'passive_hk_activity_restingEnergyBurned',\n",
    "                                'Steps': 'passive_hk_activity_steps',\n",
    "                                'DistanceWalkingRunning': 'passive_hk_activity_distanceWalkingRunning',\n",
    "                                'DistanceCycling': 'passive_hk_activity_distanceCycling',\n",
    "                                'AppleStandTime': 'passive_hk_activity_appleStandTime'\n",
    "                       }, inplace=True)"
   ]
  },
  {
   "cell_type": "code",
   "execution_count": 286,
   "metadata": {},
   "outputs": [
    {
     "data": {
      "text/html": [
       "<div>\n",
       "<style scoped>\n",
       "    .dataframe tbody tr th:only-of-type {\n",
       "        vertical-align: middle;\n",
       "    }\n",
       "\n",
       "    .dataframe tbody tr th {\n",
       "        vertical-align: top;\n",
       "    }\n",
       "\n",
       "    .dataframe thead th {\n",
       "        text-align: right;\n",
       "    }\n",
       "</style>\n",
       "<table border=\"1\" class=\"dataframe\">\n",
       "  <thead>\n",
       "    <tr style=\"text-align: right;\">\n",
       "      <th></th>\n",
       "      <th>trial_date</th>\n",
       "      <th>ParticipantIdentifier</th>\n",
       "      <th>passive_hk_activity_activeEnergyBurned</th>\n",
       "      <th>passive_hk_activity_appleStandTime</th>\n",
       "      <th>passive_hk_activity_distanceCycling</th>\n",
       "      <th>passive_hk_activity_distanceWalkingRunning</th>\n",
       "      <th>passive_hk_activity_restingEnergyBurned</th>\n",
       "      <th>passive_hk_activity_steps</th>\n",
       "    </tr>\n",
       "  </thead>\n",
       "  <tbody>\n",
       "    <tr>\n",
       "      <th>0</th>\n",
       "      <td>2022-09-08</td>\n",
       "      <td>b032c7ad-4287-4c23-8078-f75d3da262b8</td>\n",
       "      <td>NaN</td>\n",
       "      <td>NaN</td>\n",
       "      <td>NaN</td>\n",
       "      <td>346.660000</td>\n",
       "      <td>NaN</td>\n",
       "      <td>545.0</td>\n",
       "    </tr>\n",
       "    <tr>\n",
       "      <th>1</th>\n",
       "      <td>2022-09-09</td>\n",
       "      <td>147400db-43d9-4155-8bf2-b85b8adf4315</td>\n",
       "      <td>194.443</td>\n",
       "      <td>71.0</td>\n",
       "      <td>NaN</td>\n",
       "      <td>4002.801667</td>\n",
       "      <td>948.472</td>\n",
       "      <td>6043.0</td>\n",
       "    </tr>\n",
       "    <tr>\n",
       "      <th>2</th>\n",
       "      <td>2022-09-09</td>\n",
       "      <td>25ca39d7-4279-48fd-903f-d0927adadb77</td>\n",
       "      <td>8.030</td>\n",
       "      <td>1.0</td>\n",
       "      <td>NaN</td>\n",
       "      <td>51.543363</td>\n",
       "      <td>784.065</td>\n",
       "      <td>61.0</td>\n",
       "    </tr>\n",
       "  </tbody>\n",
       "</table>\n",
       "</div>"
      ],
      "text/plain": [
       "   trial_date                 ParticipantIdentifier  \\\n",
       "0  2022-09-08  b032c7ad-4287-4c23-8078-f75d3da262b8   \n",
       "1  2022-09-09  147400db-43d9-4155-8bf2-b85b8adf4315   \n",
       "2  2022-09-09  25ca39d7-4279-48fd-903f-d0927adadb77   \n",
       "\n",
       "   passive_hk_activity_activeEnergyBurned  passive_hk_activity_appleStandTime  \\\n",
       "0                                     NaN                                 NaN   \n",
       "1                                 194.443                                71.0   \n",
       "2                                   8.030                                 1.0   \n",
       "\n",
       "   passive_hk_activity_distanceCycling  \\\n",
       "0                                  NaN   \n",
       "1                                  NaN   \n",
       "2                                  NaN   \n",
       "\n",
       "   passive_hk_activity_distanceWalkingRunning  \\\n",
       "0                                  346.660000   \n",
       "1                                 4002.801667   \n",
       "2                                   51.543363   \n",
       "\n",
       "   passive_hk_activity_restingEnergyBurned  passive_hk_activity_steps  \n",
       "0                                      NaN                      545.0  \n",
       "1                                  948.472                     6043.0  \n",
       "2                                  784.065                       61.0  "
      ]
     },
     "execution_count": 286,
     "metadata": {},
     "output_type": "execute_result"
    }
   ],
   "source": [
    "df_activity_sum.head(3)"
   ]
  },
  {
   "cell_type": "code",
   "execution_count": 287,
   "metadata": {},
   "outputs": [
    {
     "data": {
      "text/html": [
       "<div>\n",
       "<style scoped>\n",
       "    .dataframe tbody tr th:only-of-type {\n",
       "        vertical-align: middle;\n",
       "    }\n",
       "\n",
       "    .dataframe tbody tr th {\n",
       "        vertical-align: top;\n",
       "    }\n",
       "\n",
       "    .dataframe thead th {\n",
       "        text-align: right;\n",
       "    }\n",
       "</style>\n",
       "<table border=\"1\" class=\"dataframe\">\n",
       "  <thead>\n",
       "    <tr style=\"text-align: right;\">\n",
       "      <th></th>\n",
       "      <th>trial_date</th>\n",
       "      <th>ParticipantIdentifier</th>\n",
       "      <th>passive_hk_activity_activeEnergyBurned</th>\n",
       "      <th>passive_hk_activity_appleStandTime</th>\n",
       "      <th>passive_hk_activity_distanceCycling</th>\n",
       "      <th>passive_hk_activity_distanceWalkingRunning</th>\n",
       "      <th>passive_hk_activity_restingEnergyBurned</th>\n",
       "      <th>passive_hk_activity_steps</th>\n",
       "      <th>passive_hk_activity_averageWalkingSpeed</th>\n",
       "    </tr>\n",
       "  </thead>\n",
       "  <tbody>\n",
       "    <tr>\n",
       "      <th>0</th>\n",
       "      <td>2022-09-08</td>\n",
       "      <td>b032c7ad-4287-4c23-8078-f75d3da262b8</td>\n",
       "      <td>NaN</td>\n",
       "      <td>NaN</td>\n",
       "      <td>NaN</td>\n",
       "      <td>346.660000</td>\n",
       "      <td>NaN</td>\n",
       "      <td>545.0</td>\n",
       "      <td>0.895</td>\n",
       "    </tr>\n",
       "    <tr>\n",
       "      <th>1</th>\n",
       "      <td>2022-09-09</td>\n",
       "      <td>147400db-43d9-4155-8bf2-b85b8adf4315</td>\n",
       "      <td>194.443</td>\n",
       "      <td>71.0</td>\n",
       "      <td>NaN</td>\n",
       "      <td>4002.801667</td>\n",
       "      <td>948.472</td>\n",
       "      <td>6043.0</td>\n",
       "      <td>1.009</td>\n",
       "    </tr>\n",
       "    <tr>\n",
       "      <th>2</th>\n",
       "      <td>2022-09-09</td>\n",
       "      <td>25ca39d7-4279-48fd-903f-d0927adadb77</td>\n",
       "      <td>8.030</td>\n",
       "      <td>1.0</td>\n",
       "      <td>NaN</td>\n",
       "      <td>51.543363</td>\n",
       "      <td>784.065</td>\n",
       "      <td>61.0</td>\n",
       "      <td>NaN</td>\n",
       "    </tr>\n",
       "  </tbody>\n",
       "</table>\n",
       "</div>"
      ],
      "text/plain": [
       "   trial_date                 ParticipantIdentifier  \\\n",
       "0  2022-09-08  b032c7ad-4287-4c23-8078-f75d3da262b8   \n",
       "1  2022-09-09  147400db-43d9-4155-8bf2-b85b8adf4315   \n",
       "2  2022-09-09  25ca39d7-4279-48fd-903f-d0927adadb77   \n",
       "\n",
       "   passive_hk_activity_activeEnergyBurned  passive_hk_activity_appleStandTime  \\\n",
       "0                                     NaN                                 NaN   \n",
       "1                                 194.443                                71.0   \n",
       "2                                   8.030                                 1.0   \n",
       "\n",
       "   passive_hk_activity_distanceCycling  \\\n",
       "0                                  NaN   \n",
       "1                                  NaN   \n",
       "2                                  NaN   \n",
       "\n",
       "   passive_hk_activity_distanceWalkingRunning  \\\n",
       "0                                  346.660000   \n",
       "1                                 4002.801667   \n",
       "2                                   51.543363   \n",
       "\n",
       "   passive_hk_activity_restingEnergyBurned  passive_hk_activity_steps  \\\n",
       "0                                      NaN                      545.0   \n",
       "1                                  948.472                     6043.0   \n",
       "2                                  784.065                       61.0   \n",
       "\n",
       "   passive_hk_activity_averageWalkingSpeed  \n",
       "0                                    0.895  \n",
       "1                                    1.009  \n",
       "2                                      NaN  "
      ]
     },
     "execution_count": 287,
     "metadata": {},
     "output_type": "execute_result"
    }
   ],
   "source": [
    "# join\n",
    "df_activity = df_activity_sum.merge(df_activity_mean, how='left', on=['ParticipantIdentifier', 'trial_date'])\n",
    "df_activity.head(3)"
   ]
  },
  {
   "cell_type": "markdown",
   "metadata": {},
   "source": [
    "#### EDA"
   ]
  },
  {
   "cell_type": "code",
   "execution_count": null,
   "metadata": {},
   "outputs": [
    {
     "data": {
      "application/vnd.jupyter.widget-view+json": {
       "model_id": "fbe33c39676446ae94b16d4ea103f1d6",
       "version_major": 2,
       "version_minor": 0
      },
      "text/plain": [
       "Summarize dataset:   0%|          | 0/5 [00:00<?, ?it/s]"
      ]
     },
     "metadata": {},
     "output_type": "display_data"
    },
    {
     "data": {
      "application/vnd.jupyter.widget-view+json": {
       "model_id": "409602ccd8364c4cbe6963ace5416255",
       "version_major": 2,
       "version_minor": 0
      },
      "text/plain": [
       "Generate report structure:   0%|          | 0/1 [00:00<?, ?it/s]"
      ]
     },
     "metadata": {},
     "output_type": "display_data"
    },
    {
     "data": {
      "application/vnd.jupyter.widget-view+json": {
       "model_id": "474d685895c948e6b93a722413efd0bc",
       "version_major": 2,
       "version_minor": 0
      },
      "text/plain": [
       "Render HTML:   0%|          | 0/1 [00:00<?, ?it/s]"
      ]
     },
     "metadata": {},
     "output_type": "display_data"
    },
    {
     "data": {
      "application/vnd.jupyter.widget-view+json": {
       "model_id": "4ef63687dc224da6b692214a8b5f6eb1",
       "version_major": 2,
       "version_minor": 0
      },
      "text/plain": [
       "Export report to file:   0%|          | 0/1 [00:00<?, ?it/s]"
      ]
     },
     "metadata": {},
     "output_type": "display_data"
    }
   ],
   "source": [
    "profile = ProfileReport(df_activity.iloc[:,2:], title=f\"HK Activity Run {run_num} | Pandas Profiling Report\")\n",
    "profile.to_file(eda_reports_path + f\"passive_hkActivity_run{run_num}.html\")"
   ]
  },
  {
   "cell_type": "markdown",
   "metadata": {},
   "source": [
    "#### Clean\n",
    "\n",
    "No cleaning necessary"
   ]
  },
  {
   "cell_type": "markdown",
   "metadata": {},
   "source": [
    "### Heart Rate\n",
    "\n",
    "We will take:\n",
    "\n",
    "- `RestingHeartRate`\n",
    "- `WalkingHeartRateAverage`\n",
    "- `HeartRateVariability`\n",
    "\n",
    "Should we consider max heart rate?"
   ]
  },
  {
   "cell_type": "code",
   "execution_count": 288,
   "metadata": {},
   "outputs": [
    {
     "data": {
      "text/html": [
       "<div>\n",
       "<style scoped>\n",
       "    .dataframe tbody tr th:only-of-type {\n",
       "        vertical-align: middle;\n",
       "    }\n",
       "\n",
       "    .dataframe tbody tr th {\n",
       "        vertical-align: top;\n",
       "    }\n",
       "\n",
       "    .dataframe thead th {\n",
       "        text-align: right;\n",
       "    }\n",
       "</style>\n",
       "<table border=\"1\" class=\"dataframe\">\n",
       "  <thead>\n",
       "    <tr style=\"text-align: right;\">\n",
       "      <th></th>\n",
       "      <th>ParticipantIdentifier</th>\n",
       "      <th>StartDate</th>\n",
       "      <th>EndDate</th>\n",
       "      <th>Type</th>\n",
       "      <th>Value</th>\n",
       "      <th>Units</th>\n",
       "      <th>SourceVersion</th>\n",
       "      <th>DeviceName</th>\n",
       "      <th>DeviceModel</th>\n",
       "      <th>datetime</th>\n",
       "      <th>trial_date</th>\n",
       "      <th>time</th>\n",
       "    </tr>\n",
       "  </thead>\n",
       "  <tbody>\n",
       "    <tr>\n",
       "      <th>0</th>\n",
       "      <td>0ca43379-41b5-47fb-90ba-0a22e6bf5586</td>\n",
       "      <td>2022-10-24T00:03:22-04:00</td>\n",
       "      <td>2022-10-24T10:51:30-04:00</td>\n",
       "      <td>RestingHeartRate</td>\n",
       "      <td>73</td>\n",
       "      <td>count/min</td>\n",
       "      <td>8.5.1</td>\n",
       "      <td>NaN</td>\n",
       "      <td>NaN</td>\n",
       "      <td>2022-10-24 00:03:22-04:00</td>\n",
       "      <td>2022-10-23</td>\n",
       "      <td>00:03:22</td>\n",
       "    </tr>\n",
       "    <tr>\n",
       "      <th>1</th>\n",
       "      <td>ff129772-aeab-4432-8136-8f94027b8504</td>\n",
       "      <td>2022-10-24T09:36:36-04:00</td>\n",
       "      <td>2022-10-24T11:07:55-04:00</td>\n",
       "      <td>RestingHeartRate</td>\n",
       "      <td>82</td>\n",
       "      <td>count/min</td>\n",
       "      <td>8.5.1</td>\n",
       "      <td>NaN</td>\n",
       "      <td>NaN</td>\n",
       "      <td>2022-10-24 09:36:36-04:00</td>\n",
       "      <td>2022-10-24</td>\n",
       "      <td>09:36:36</td>\n",
       "    </tr>\n",
       "    <tr>\n",
       "      <th>2</th>\n",
       "      <td>d11241a0-932e-4931-83ee-f3d28f66875f</td>\n",
       "      <td>2022-10-24T00:02:28-04:00</td>\n",
       "      <td>2022-10-24T10:35:58-04:00</td>\n",
       "      <td>RestingHeartRate</td>\n",
       "      <td>76</td>\n",
       "      <td>count/min</td>\n",
       "      <td>9.0.2</td>\n",
       "      <td>NaN</td>\n",
       "      <td>NaN</td>\n",
       "      <td>2022-10-24 00:02:28-04:00</td>\n",
       "      <td>2022-10-23</td>\n",
       "      <td>00:02:28</td>\n",
       "    </tr>\n",
       "  </tbody>\n",
       "</table>\n",
       "</div>"
      ],
      "text/plain": [
       "                  ParticipantIdentifier                  StartDate  \\\n",
       "0  0ca43379-41b5-47fb-90ba-0a22e6bf5586  2022-10-24T00:03:22-04:00   \n",
       "1  ff129772-aeab-4432-8136-8f94027b8504  2022-10-24T09:36:36-04:00   \n",
       "2  d11241a0-932e-4931-83ee-f3d28f66875f  2022-10-24T00:02:28-04:00   \n",
       "\n",
       "                     EndDate              Type Value      Units SourceVersion  \\\n",
       "0  2022-10-24T10:51:30-04:00  RestingHeartRate    73  count/min         8.5.1   \n",
       "1  2022-10-24T11:07:55-04:00  RestingHeartRate    82  count/min         8.5.1   \n",
       "2  2022-10-24T10:35:58-04:00  RestingHeartRate    76  count/min         9.0.2   \n",
       "\n",
       "  DeviceName DeviceModel                   datetime  trial_date      time  \n",
       "0        NaN         NaN  2022-10-24 00:03:22-04:00  2022-10-23  00:03:22  \n",
       "1        NaN         NaN  2022-10-24 09:36:36-04:00  2022-10-24  09:36:36  \n",
       "2        NaN         NaN  2022-10-24 00:02:28-04:00  2022-10-23  00:02:28  "
      ]
     },
     "execution_count": 288,
     "metadata": {},
     "output_type": "execute_result"
    }
   ],
   "source": [
    "type_vals = ['RestingHeartRate', 'WalkingHeartRateAverage', 'HeartRateVariability']\n",
    "\n",
    "df_hr = df.loc[df.Type.isin(type_vals)].reset_index(drop=True)\n",
    "df_hr.head(3)"
   ]
  },
  {
   "cell_type": "code",
   "execution_count": 289,
   "metadata": {},
   "outputs": [],
   "source": [
    "# cast Value to numeric\n",
    "df_hr.Value = pd.to_numeric(df_hr.Value)\n",
    "\n",
    "# Get mean for each type for each participant for each day\n",
    "df_hr = pd.DataFrame(df_hr.groupby(['trial_date','ParticipantIdentifier', 'Type'])['Value'].mean()).reset_index()\n",
    "\n",
    "# convert from long to wide\n",
    "df_hr = df_hr.pivot_table(index=['trial_date', 'ParticipantIdentifier'],\n",
    "                          columns='Type', \n",
    "                          values='Value').reset_index()"
   ]
  },
  {
   "cell_type": "code",
   "execution_count": 290,
   "metadata": {},
   "outputs": [
    {
     "data": {
      "text/html": [
       "<div>\n",
       "<style scoped>\n",
       "    .dataframe tbody tr th:only-of-type {\n",
       "        vertical-align: middle;\n",
       "    }\n",
       "\n",
       "    .dataframe tbody tr th {\n",
       "        vertical-align: top;\n",
       "    }\n",
       "\n",
       "    .dataframe thead th {\n",
       "        text-align: right;\n",
       "    }\n",
       "</style>\n",
       "<table border=\"1\" class=\"dataframe\">\n",
       "  <thead>\n",
       "    <tr style=\"text-align: right;\">\n",
       "      <th></th>\n",
       "      <th>trial_date</th>\n",
       "      <th>ParticipantIdentifier</th>\n",
       "      <th>passive_hk_hr_variability</th>\n",
       "      <th>passive_hk_hr_resting</th>\n",
       "      <th>passive_hk_hr_averageWalking</th>\n",
       "    </tr>\n",
       "  </thead>\n",
       "  <tbody>\n",
       "    <tr>\n",
       "      <th>0</th>\n",
       "      <td>2022-09-09</td>\n",
       "      <td>147400db-43d9-4155-8bf2-b85b8adf4315</td>\n",
       "      <td>27.943125</td>\n",
       "      <td>NaN</td>\n",
       "      <td>NaN</td>\n",
       "    </tr>\n",
       "    <tr>\n",
       "      <th>1</th>\n",
       "      <td>2022-09-10</td>\n",
       "      <td>147400db-43d9-4155-8bf2-b85b8adf4315</td>\n",
       "      <td>32.898518</td>\n",
       "      <td>71.0</td>\n",
       "      <td>95.0</td>\n",
       "    </tr>\n",
       "    <tr>\n",
       "      <th>2</th>\n",
       "      <td>2022-09-11</td>\n",
       "      <td>147400db-43d9-4155-8bf2-b85b8adf4315</td>\n",
       "      <td>31.765743</td>\n",
       "      <td>68.0</td>\n",
       "      <td>88.5</td>\n",
       "    </tr>\n",
       "  </tbody>\n",
       "</table>\n",
       "</div>"
      ],
      "text/plain": [
       "   trial_date                 ParticipantIdentifier  \\\n",
       "0  2022-09-09  147400db-43d9-4155-8bf2-b85b8adf4315   \n",
       "1  2022-09-10  147400db-43d9-4155-8bf2-b85b8adf4315   \n",
       "2  2022-09-11  147400db-43d9-4155-8bf2-b85b8adf4315   \n",
       "\n",
       "   passive_hk_hr_variability  passive_hk_hr_resting  \\\n",
       "0                  27.943125                    NaN   \n",
       "1                  32.898518                   71.0   \n",
       "2                  31.765743                   68.0   \n",
       "\n",
       "   passive_hk_hr_averageWalking  \n",
       "0                           NaN  \n",
       "1                          95.0  \n",
       "2                          88.5  "
      ]
     },
     "execution_count": 290,
     "metadata": {},
     "output_type": "execute_result"
    }
   ],
   "source": [
    "# Get rid of index name (set to \"Type\")\n",
    "df_hr.columns.name = None\n",
    "\n",
    "# Rename columns\n",
    "df_hr.rename(columns={'HeartRateVariability': 'passive_hk_hr_variability',\n",
    "                      'RestingHeartRate' : 'passive_hk_hr_resting',\n",
    "                      'WalkingHeartRateAverage':'passive_hk_hr_averageWalking'\n",
    "                     }, inplace=True)\n",
    "\n",
    "df_hr.head(3)"
   ]
  },
  {
   "cell_type": "markdown",
   "metadata": {},
   "source": [
    "#### EDA"
   ]
  },
  {
   "cell_type": "code",
   "execution_count": null,
   "metadata": {},
   "outputs": [
    {
     "data": {
      "application/vnd.jupyter.widget-view+json": {
       "model_id": "dfb93b9ede9542b0aabe6804a5729589",
       "version_major": 2,
       "version_minor": 0
      },
      "text/plain": [
       "Summarize dataset:   0%|          | 0/5 [00:00<?, ?it/s]"
      ]
     },
     "metadata": {},
     "output_type": "display_data"
    },
    {
     "data": {
      "application/vnd.jupyter.widget-view+json": {
       "model_id": "ec6ea97473dd465f9a5c8439d9005ba0",
       "version_major": 2,
       "version_minor": 0
      },
      "text/plain": [
       "Generate report structure:   0%|          | 0/1 [00:00<?, ?it/s]"
      ]
     },
     "metadata": {},
     "output_type": "display_data"
    },
    {
     "data": {
      "application/vnd.jupyter.widget-view+json": {
       "model_id": "0fa49733d1f348b6af82b37e12c83915",
       "version_major": 2,
       "version_minor": 0
      },
      "text/plain": [
       "Render HTML:   0%|          | 0/1 [00:00<?, ?it/s]"
      ]
     },
     "metadata": {},
     "output_type": "display_data"
    },
    {
     "data": {
      "application/vnd.jupyter.widget-view+json": {
       "model_id": "2502475be7b948ba8b9eb663de116327",
       "version_major": 2,
       "version_minor": 0
      },
      "text/plain": [
       "Export report to file:   0%|          | 0/1 [00:00<?, ?it/s]"
      ]
     },
     "metadata": {},
     "output_type": "display_data"
    }
   ],
   "source": [
    "profile = ProfileReport(df_hr.iloc[:,2:], title=f\"HK Heart Rate Run {run_num} | Pandas Profiling Report\")\n",
    "profile.to_file(eda_reports_path + f\"passive_hkHeart_run{run_num}.html\")"
   ]
  },
  {
   "cell_type": "markdown",
   "metadata": {},
   "source": [
    "#### Clean\n",
    "\n",
    "No cleaning necessary"
   ]
  },
  {
   "cell_type": "markdown",
   "metadata": {},
   "source": [
    "### Sleep\n",
    "\n",
    "Apple `HKCategoryValueSleepAnalysis` [documentation](https://developer.apple.com/documentation/healthkit/hkcategoryvaluesleepanalysis)\n",
    "\n",
    "- `awake`: The user is awake.\n",
    "- `inBed`: The user is in bed.\n",
    "- `asleepCore`: The user is in light or intermediate sleep.\n",
    "> This value corresponds to stage N2 of the American Academy of Sleep Medicine’s scoring model. Stage N2 is also referred to as light or intermediate sleep. It accounts for a major part of the time spent asleep. It also includes stage N1, which makes up only a small portion of the night.\n",
    "- `asleepDeep`: The user is in deep sleep.\n",
    "> This value corresponds to stage N3 of the American Academy of Sleep Medicine’s scoring model.\n",
    "- `asleepREM`: The user is in REM sleep.\n",
    "> This value corresponds to the rapid eye movement (REM) stage of the American Academy of Sleep Medicine’s scoring model.\n",
    "\n",
    "---\n",
    "\n",
    "Note that final dataframe is in **minutes**"
   ]
  },
  {
   "cell_type": "markdown",
   "metadata": {},
   "source": [
    "#### Format Data"
   ]
  },
  {
   "cell_type": "code",
   "execution_count": 291,
   "metadata": {},
   "outputs": [
    {
     "data": {
      "text/html": [
       "<div>\n",
       "<style scoped>\n",
       "    .dataframe tbody tr th:only-of-type {\n",
       "        vertical-align: middle;\n",
       "    }\n",
       "\n",
       "    .dataframe tbody tr th {\n",
       "        vertical-align: top;\n",
       "    }\n",
       "\n",
       "    .dataframe thead th {\n",
       "        text-align: right;\n",
       "    }\n",
       "</style>\n",
       "<table border=\"1\" class=\"dataframe\">\n",
       "  <thead>\n",
       "    <tr style=\"text-align: right;\">\n",
       "      <th></th>\n",
       "      <th>ParticipantIdentifier</th>\n",
       "      <th>StartDate</th>\n",
       "      <th>EndDate</th>\n",
       "      <th>Type</th>\n",
       "      <th>Value</th>\n",
       "      <th>Units</th>\n",
       "      <th>SourceVersion</th>\n",
       "      <th>DeviceName</th>\n",
       "      <th>DeviceModel</th>\n",
       "      <th>datetime</th>\n",
       "      <th>trial_date</th>\n",
       "      <th>time</th>\n",
       "    </tr>\n",
       "  </thead>\n",
       "  <tbody>\n",
       "    <tr>\n",
       "      <th>0</th>\n",
       "      <td>2db37fd7-2694-4b46-80f9-9f4b58d57bfa</td>\n",
       "      <td>2022-10-23T22:21:00-04:00</td>\n",
       "      <td>2022-10-23T22:31:55-04:00</td>\n",
       "      <td>SleepAnalysisInterval</td>\n",
       "      <td>InBed</td>\n",
       "      <td>NaN</td>\n",
       "      <td>16.0.2</td>\n",
       "      <td>NaN</td>\n",
       "      <td>NaN</td>\n",
       "      <td>2022-10-23 22:21:00-04:00</td>\n",
       "      <td>2022-10-23</td>\n",
       "      <td>22:21:00</td>\n",
       "    </tr>\n",
       "    <tr>\n",
       "      <th>1</th>\n",
       "      <td>2db37fd7-2694-4b46-80f9-9f4b58d57bfa</td>\n",
       "      <td>2022-10-23T22:35:33-04:00</td>\n",
       "      <td>2022-10-23T22:39:29-04:00</td>\n",
       "      <td>SleepAnalysisInterval</td>\n",
       "      <td>InBed</td>\n",
       "      <td>NaN</td>\n",
       "      <td>16.0.2</td>\n",
       "      <td>NaN</td>\n",
       "      <td>NaN</td>\n",
       "      <td>2022-10-23 22:35:33-04:00</td>\n",
       "      <td>2022-10-23</td>\n",
       "      <td>22:35:33</td>\n",
       "    </tr>\n",
       "    <tr>\n",
       "      <th>2</th>\n",
       "      <td>2db37fd7-2694-4b46-80f9-9f4b58d57bfa</td>\n",
       "      <td>2022-10-23T22:43:53-04:00</td>\n",
       "      <td>2022-10-23T22:45:53-04:00</td>\n",
       "      <td>SleepAnalysisInterval</td>\n",
       "      <td>InBed</td>\n",
       "      <td>NaN</td>\n",
       "      <td>16.0.2</td>\n",
       "      <td>NaN</td>\n",
       "      <td>NaN</td>\n",
       "      <td>2022-10-23 22:43:53-04:00</td>\n",
       "      <td>2022-10-23</td>\n",
       "      <td>22:43:53</td>\n",
       "    </tr>\n",
       "  </tbody>\n",
       "</table>\n",
       "</div>"
      ],
      "text/plain": [
       "                  ParticipantIdentifier                  StartDate  \\\n",
       "0  2db37fd7-2694-4b46-80f9-9f4b58d57bfa  2022-10-23T22:21:00-04:00   \n",
       "1  2db37fd7-2694-4b46-80f9-9f4b58d57bfa  2022-10-23T22:35:33-04:00   \n",
       "2  2db37fd7-2694-4b46-80f9-9f4b58d57bfa  2022-10-23T22:43:53-04:00   \n",
       "\n",
       "                     EndDate                   Type  Value Units  \\\n",
       "0  2022-10-23T22:31:55-04:00  SleepAnalysisInterval  InBed   NaN   \n",
       "1  2022-10-23T22:39:29-04:00  SleepAnalysisInterval  InBed   NaN   \n",
       "2  2022-10-23T22:45:53-04:00  SleepAnalysisInterval  InBed   NaN   \n",
       "\n",
       "  SourceVersion DeviceName DeviceModel                   datetime  trial_date  \\\n",
       "0        16.0.2        NaN         NaN  2022-10-23 22:21:00-04:00  2022-10-23   \n",
       "1        16.0.2        NaN         NaN  2022-10-23 22:35:33-04:00  2022-10-23   \n",
       "2        16.0.2        NaN         NaN  2022-10-23 22:43:53-04:00  2022-10-23   \n",
       "\n",
       "       time  \n",
       "0  22:21:00  \n",
       "1  22:35:33  \n",
       "2  22:43:53  "
      ]
     },
     "execution_count": 291,
     "metadata": {},
     "output_type": "execute_result"
    }
   ],
   "source": [
    "type_vals = ['SleepAnalysisInterval']\n",
    "\n",
    "sleep_df = df.loc[df.Type.isin(type_vals)].reset_index(drop=True)\n",
    "sleep_df.head(3)"
   ]
  },
  {
   "cell_type": "markdown",
   "metadata": {},
   "source": [
    "---\n",
    "Sleep is a bit tricky as:\n",
    "1. Sleeping often bridges two days\n",
    "2. There are people that sleep in late and/or nap\n",
    "\n",
    "To try and deal with this we label all sleep that **starts** before 6pm as belonging to the **previous day**"
   ]
  },
  {
   "cell_type": "code",
   "execution_count": 292,
   "metadata": {},
   "outputs": [],
   "source": [
    "# sleep date col\n",
    "def foo(x):\n",
    "    try:\n",
    "        return (x + datetime.timedelta(hours = -18)).date()\n",
    "    except (ValueError, KeyError):\n",
    "        return None\n",
    "\n",
    "v = np.vectorize(foo)\n",
    "sleep_df['trial_date'] = v(sleep_df.datetime)"
   ]
  },
  {
   "cell_type": "markdown",
   "metadata": {},
   "source": [
    "---\n",
    "Now we want to calculate the duration of each `InBed` and `Asleep` `Value`...\n"
   ]
  },
  {
   "cell_type": "code",
   "execution_count": 293,
   "metadata": {},
   "outputs": [],
   "source": [
    "sleep_df['duration'] = [(datetime.datetime.fromisoformat(finish) - \n",
    "                         datetime.datetime.fromisoformat(start)).seconds/60\n",
    "                        for start,finish in zip(sleep_df['StartDate'],sleep_df['EndDate'])]\n"
   ]
  },
  {
   "cell_type": "code",
   "execution_count": 294,
   "metadata": {},
   "outputs": [],
   "source": [
    "# Get sum for each value (InBed, Asleep) for each participant for each SLEEP day\n",
    "sleep_df = pd.DataFrame(sleep_df.groupby(['trial_date','ParticipantIdentifier', 'Value'])['duration'].sum()).reset_index()\n",
    "\n",
    "# convert from long to wide\n",
    "sleep_df = sleep_df.pivot_table(index=['trial_date', 'ParticipantIdentifier'],\n",
    "                    columns='Value', \n",
    "                    values='duration').reset_index()"
   ]
  },
  {
   "cell_type": "markdown",
   "metadata": {},
   "source": [
    "---\n",
    "`SleepDay` was essentially a proxy for `StudyDay` but with additional hours (until 18h00) to account for long sleepers and naps.\n",
    "\n",
    "So we will change it back to `SleepDay` to join later."
   ]
  },
  {
   "cell_type": "code",
   "execution_count": 295,
   "metadata": {},
   "outputs": [
    {
     "data": {
      "text/plain": [
       "Index(['trial_date', 'ParticipantIdentifier', 'Asleep', 'AsleepCore',\n",
       "       'AsleepDeep', 'AsleepREM', 'Awake', 'InBed'],\n",
       "      dtype='object', name='Value')"
      ]
     },
     "execution_count": 295,
     "metadata": {},
     "output_type": "execute_result"
    }
   ],
   "source": [
    "sleep_df.columns"
   ]
  },
  {
   "cell_type": "code",
   "execution_count": 296,
   "metadata": {},
   "outputs": [
    {
     "data": {
      "text/html": [
       "<div>\n",
       "<style scoped>\n",
       "    .dataframe tbody tr th:only-of-type {\n",
       "        vertical-align: middle;\n",
       "    }\n",
       "\n",
       "    .dataframe tbody tr th {\n",
       "        vertical-align: top;\n",
       "    }\n",
       "\n",
       "    .dataframe thead th {\n",
       "        text-align: right;\n",
       "    }\n",
       "</style>\n",
       "<table border=\"1\" class=\"dataframe\">\n",
       "  <thead>\n",
       "    <tr style=\"text-align: right;\">\n",
       "      <th></th>\n",
       "      <th>trial_date</th>\n",
       "      <th>ParticipantIdentifier</th>\n",
       "      <th>passive_hk_sleep_asleep</th>\n",
       "      <th>passive_hk_sleep_core</th>\n",
       "      <th>passive_hk_sleep_deep</th>\n",
       "      <th>passive_hk_sleep_REM</th>\n",
       "      <th>passive_hk_sleep_awake</th>\n",
       "      <th>passive_hk_sleep_inBed</th>\n",
       "    </tr>\n",
       "  </thead>\n",
       "  <tbody>\n",
       "    <tr>\n",
       "      <th>0</th>\n",
       "      <td>2022-09-08</td>\n",
       "      <td>b032c7ad-4287-4c23-8078-f75d3da262b8</td>\n",
       "      <td>NaN</td>\n",
       "      <td>NaN</td>\n",
       "      <td>NaN</td>\n",
       "      <td>NaN</td>\n",
       "      <td>NaN</td>\n",
       "      <td>225.050000</td>\n",
       "    </tr>\n",
       "    <tr>\n",
       "      <th>1</th>\n",
       "      <td>2022-09-09</td>\n",
       "      <td>b032c7ad-4287-4c23-8078-f75d3da262b8</td>\n",
       "      <td>NaN</td>\n",
       "      <td>NaN</td>\n",
       "      <td>NaN</td>\n",
       "      <td>NaN</td>\n",
       "      <td>NaN</td>\n",
       "      <td>430.266667</td>\n",
       "    </tr>\n",
       "    <tr>\n",
       "      <th>2</th>\n",
       "      <td>2022-09-10</td>\n",
       "      <td>b032c7ad-4287-4c23-8078-f75d3da262b8</td>\n",
       "      <td>NaN</td>\n",
       "      <td>NaN</td>\n",
       "      <td>NaN</td>\n",
       "      <td>NaN</td>\n",
       "      <td>NaN</td>\n",
       "      <td>438.116667</td>\n",
       "    </tr>\n",
       "  </tbody>\n",
       "</table>\n",
       "</div>"
      ],
      "text/plain": [
       "   trial_date                 ParticipantIdentifier  passive_hk_sleep_asleep  \\\n",
       "0  2022-09-08  b032c7ad-4287-4c23-8078-f75d3da262b8                      NaN   \n",
       "1  2022-09-09  b032c7ad-4287-4c23-8078-f75d3da262b8                      NaN   \n",
       "2  2022-09-10  b032c7ad-4287-4c23-8078-f75d3da262b8                      NaN   \n",
       "\n",
       "   passive_hk_sleep_core  passive_hk_sleep_deep  passive_hk_sleep_REM  \\\n",
       "0                    NaN                    NaN                   NaN   \n",
       "1                    NaN                    NaN                   NaN   \n",
       "2                    NaN                    NaN                   NaN   \n",
       "\n",
       "   passive_hk_sleep_awake  passive_hk_sleep_inBed  \n",
       "0                     NaN              225.050000  \n",
       "1                     NaN              430.266667  \n",
       "2                     NaN              438.116667  "
      ]
     },
     "execution_count": 296,
     "metadata": {},
     "output_type": "execute_result"
    }
   ],
   "source": [
    "# Get rid of index name (set to \"Value\")\n",
    "sleep_df.columns.name = None\n",
    "\n",
    "# Rename columns\n",
    "sleep_df.rename(columns={'Asleep': 'passive_hk_sleep_asleep',\n",
    "                         'InBed' : 'passive_hk_sleep_inBed',\n",
    "                         'AsleepCore': 'passive_hk_sleep_core',\n",
    "                         'AsleepDeep': 'passive_hk_sleep_deep',\n",
    "                         'AsleepREM': 'passive_hk_sleep_REM',\n",
    "                         'Awake': 'passive_hk_sleep_awake'\n",
    "                         \n",
    "                  }, inplace=True)\n",
    "\n",
    "sleep_df.head(3)"
   ]
  },
  {
   "cell_type": "markdown",
   "metadata": {},
   "source": [
    "#### EDA"
   ]
  },
  {
   "cell_type": "code",
   "execution_count": null,
   "metadata": {},
   "outputs": [
    {
     "data": {
      "application/vnd.jupyter.widget-view+json": {
       "model_id": "4552393226064b5fbc4aebf9424e57c9",
       "version_major": 2,
       "version_minor": 0
      },
      "text/plain": [
       "Summarize dataset:   0%|          | 0/5 [00:00<?, ?it/s]"
      ]
     },
     "metadata": {},
     "output_type": "display_data"
    },
    {
     "data": {
      "application/vnd.jupyter.widget-view+json": {
       "model_id": "bb794c67b1b1420592353d027aa2ed12",
       "version_major": 2,
       "version_minor": 0
      },
      "text/plain": [
       "Generate report structure:   0%|          | 0/1 [00:00<?, ?it/s]"
      ]
     },
     "metadata": {},
     "output_type": "display_data"
    },
    {
     "data": {
      "application/vnd.jupyter.widget-view+json": {
       "model_id": "0f321c95d5ae438e8297311c3db58390",
       "version_major": 2,
       "version_minor": 0
      },
      "text/plain": [
       "Render HTML:   0%|          | 0/1 [00:00<?, ?it/s]"
      ]
     },
     "metadata": {},
     "output_type": "display_data"
    },
    {
     "data": {
      "application/vnd.jupyter.widget-view+json": {
       "model_id": "764b01dd7f2e47dd8902ceb3e0005680",
       "version_major": 2,
       "version_minor": 0
      },
      "text/plain": [
       "Export report to file:   0%|          | 0/1 [00:00<?, ?it/s]"
      ]
     },
     "metadata": {},
     "output_type": "display_data"
    }
   ],
   "source": [
    "profile = ProfileReport(sleep_df.iloc[:,2:], title=f\"HK Sleep Run {run_num} | Pandas Profiling Report\")\n",
    "profile.to_file(eda_reports_path + f\"passive_hkSleep_run{run_num}.html\")"
   ]
  },
  {
   "cell_type": "markdown",
   "metadata": {},
   "source": [
    "#### Clean\n",
    "\n",
    "We have issues with a number of values.\n",
    "\n",
    "---\n",
    "`passive_hk_sleep_asleep` has a max of 6449 minutes, which would be over 100 hours (in run 2), so clearly not possible.\n",
    "\n",
    "We did minimal cleaning on this, just removing entries where the amount of sleep time exceeded 24 hours.\n",
    "- this is 35 entries in run 2\n",
    "\n",
    "---\n",
    "`passive_hk_sleep_inBed` also has a max of over 100 hours so we again remove entries over 24 hours.\n",
    "- this is 50 entries in run 2\n"
   ]
  },
  {
   "cell_type": "code",
   "execution_count": 297,
   "metadata": {},
   "outputs": [
    {
     "data": {
      "application/vnd.jupyter.widget-view+json": {
       "model_id": "9597424b93e347deb56c19384c77e933",
       "version_major": 2,
       "version_minor": 0
      },
      "text/plain": [
       "Summarize dataset:   0%|          | 0/5 [00:00<?, ?it/s]"
      ]
     },
     "metadata": {},
     "output_type": "display_data"
    },
    {
     "data": {
      "application/vnd.jupyter.widget-view+json": {
       "model_id": "46642a7bfd3c424992cc86eb2d6c37e0",
       "version_major": 2,
       "version_minor": 0
      },
      "text/plain": [
       "Generate report structure:   0%|          | 0/1 [00:00<?, ?it/s]"
      ]
     },
     "metadata": {},
     "output_type": "display_data"
    },
    {
     "data": {
      "application/vnd.jupyter.widget-view+json": {
       "model_id": "d83bc1d7c84d4154942e4871b24892e1",
       "version_major": 2,
       "version_minor": 0
      },
      "text/plain": [
       "Render HTML:   0%|          | 0/1 [00:00<?, ?it/s]"
      ]
     },
     "metadata": {},
     "output_type": "display_data"
    },
    {
     "data": {
      "application/vnd.jupyter.widget-view+json": {
       "model_id": "681fab276c96434a8935cd0d4feaaf79",
       "version_major": 2,
       "version_minor": 0
      },
      "text/plain": [
       "Export report to file:   0%|          | 0/1 [00:00<?, ?it/s]"
      ]
     },
     "metadata": {},
     "output_type": "display_data"
    }
   ],
   "source": [
    "# remove values above 24 hours\n",
    "sleep_df = sleep_df.loc[~(sleep_df.passive_hk_sleep_asleep > (24 * 60))]\n",
    "sleep_df = sleep_df.loc[~(sleep_df.passive_hk_sleep_inBed > (24 * 60))]\n",
    "\n",
    "# Rerun EDA\n",
    "profile = ProfileReport(sleep_df.iloc[:,2:], title=f\"HK Sleep Run {run_num} - Clean | Pandas Profiling Report\")\n",
    "profile.to_file(eda_reports_path + f\"passive_hkSleep_run{run_num}_clean.html\")"
   ]
  },
  {
   "cell_type": "markdown",
   "metadata": {},
   "source": [
    "### Join HK"
   ]
  },
  {
   "cell_type": "code",
   "execution_count": 298,
   "metadata": {},
   "outputs": [
    {
     "data": {
      "text/plain": [
       "<module 'utils' from '/Users/djw/Documents/pCloud_synced/Academics/Projects/2020_thesis/thesis_experiments/3_experiments/3_3_experience_sampling/3_3_3_data_analysis/01_data munge/utils.py'>"
      ]
     },
     "execution_count": 298,
     "metadata": {},
     "output_type": "execute_result"
    }
   ],
   "source": [
    "import utils\n",
    "reload(utils)"
   ]
  },
  {
   "cell_type": "code",
   "execution_count": 301,
   "metadata": {},
   "outputs": [
    {
     "data": {
      "text/plain": [
       "(7820, 214)"
      ]
     },
     "execution_count": 301,
     "metadata": {},
     "output_type": "execute_result"
    }
   ],
   "source": [
    "df_complete.shape"
   ]
  },
  {
   "cell_type": "code",
   "execution_count": 300,
   "metadata": {},
   "outputs": [
    {
     "data": {
      "text/html": [
       "<div>\n",
       "<style scoped>\n",
       "    .dataframe tbody tr th:only-of-type {\n",
       "        vertical-align: middle;\n",
       "    }\n",
       "\n",
       "    .dataframe tbody tr th {\n",
       "        vertical-align: top;\n",
       "    }\n",
       "\n",
       "    .dataframe thead th {\n",
       "        text-align: right;\n",
       "    }\n",
       "</style>\n",
       "<table border=\"1\" class=\"dataframe\">\n",
       "  <thead>\n",
       "    <tr style=\"text-align: right;\">\n",
       "      <th></th>\n",
       "      <th>ParticipantIdentifier</th>\n",
       "      <th>trial_date</th>\n",
       "      <th>affect_neg_angry</th>\n",
       "      <th>affect_neg_ashamed</th>\n",
       "      <th>affect_neg_bored</th>\n",
       "      <th>affect_neg_depressed</th>\n",
       "      <th>affect_neg_embarrassed</th>\n",
       "      <th>affect_neg_frustrated</th>\n",
       "      <th>affect_neg_guilty</th>\n",
       "      <th>affect_neg_lazy</th>\n",
       "      <th>...</th>\n",
       "      <th>passive_hk_activity_averageWalkingSpeed</th>\n",
       "      <th>passive_hk_hr_variability</th>\n",
       "      <th>passive_hk_hr_resting</th>\n",
       "      <th>passive_hk_hr_averageWalking</th>\n",
       "      <th>passive_hk_sleep_asleep</th>\n",
       "      <th>passive_hk_sleep_core</th>\n",
       "      <th>passive_hk_sleep_deep</th>\n",
       "      <th>passive_hk_sleep_REM</th>\n",
       "      <th>passive_hk_sleep_awake</th>\n",
       "      <th>passive_hk_sleep_inBed</th>\n",
       "    </tr>\n",
       "  </thead>\n",
       "  <tbody>\n",
       "    <tr>\n",
       "      <th>0</th>\n",
       "      <td>d92cdaf1-cc3e-4408-bcdf-7be602cc5c3b</td>\n",
       "      <td>2022-09-27</td>\n",
       "      <td>3.0</td>\n",
       "      <td>3.0</td>\n",
       "      <td>1.0</td>\n",
       "      <td>5.0</td>\n",
       "      <td>5.0</td>\n",
       "      <td>2.0</td>\n",
       "      <td>4.0</td>\n",
       "      <td>5.0</td>\n",
       "      <td>...</td>\n",
       "      <td>1.272807</td>\n",
       "      <td>NaN</td>\n",
       "      <td>NaN</td>\n",
       "      <td>NaN</td>\n",
       "      <td>NaN</td>\n",
       "      <td>NaN</td>\n",
       "      <td>NaN</td>\n",
       "      <td>NaN</td>\n",
       "      <td>NaN</td>\n",
       "      <td>NaN</td>\n",
       "    </tr>\n",
       "    <tr>\n",
       "      <th>1</th>\n",
       "      <td>d92cdaf1-cc3e-4408-bcdf-7be602cc5c3b</td>\n",
       "      <td>2022-09-28</td>\n",
       "      <td>1.0</td>\n",
       "      <td>4.0</td>\n",
       "      <td>1.0</td>\n",
       "      <td>5.0</td>\n",
       "      <td>1.0</td>\n",
       "      <td>3.0</td>\n",
       "      <td>1.0</td>\n",
       "      <td>5.0</td>\n",
       "      <td>...</td>\n",
       "      <td>1.269057</td>\n",
       "      <td>NaN</td>\n",
       "      <td>NaN</td>\n",
       "      <td>NaN</td>\n",
       "      <td>NaN</td>\n",
       "      <td>NaN</td>\n",
       "      <td>NaN</td>\n",
       "      <td>NaN</td>\n",
       "      <td>NaN</td>\n",
       "      <td>NaN</td>\n",
       "    </tr>\n",
       "    <tr>\n",
       "      <th>2</th>\n",
       "      <td>d92cdaf1-cc3e-4408-bcdf-7be602cc5c3b</td>\n",
       "      <td>2022-09-29</td>\n",
       "      <td>NaN</td>\n",
       "      <td>NaN</td>\n",
       "      <td>NaN</td>\n",
       "      <td>NaN</td>\n",
       "      <td>NaN</td>\n",
       "      <td>NaN</td>\n",
       "      <td>NaN</td>\n",
       "      <td>NaN</td>\n",
       "      <td>...</td>\n",
       "      <td>1.297391</td>\n",
       "      <td>NaN</td>\n",
       "      <td>NaN</td>\n",
       "      <td>NaN</td>\n",
       "      <td>NaN</td>\n",
       "      <td>NaN</td>\n",
       "      <td>NaN</td>\n",
       "      <td>NaN</td>\n",
       "      <td>NaN</td>\n",
       "      <td>NaN</td>\n",
       "    </tr>\n",
       "  </tbody>\n",
       "</table>\n",
       "<p>3 rows × 214 columns</p>\n",
       "</div>"
      ],
      "text/plain": [
       "                  ParticipantIdentifier  trial_date affect_neg_angry  \\\n",
       "0  d92cdaf1-cc3e-4408-bcdf-7be602cc5c3b  2022-09-27              3.0   \n",
       "1  d92cdaf1-cc3e-4408-bcdf-7be602cc5c3b  2022-09-28              1.0   \n",
       "2  d92cdaf1-cc3e-4408-bcdf-7be602cc5c3b  2022-09-29              NaN   \n",
       "\n",
       "  affect_neg_ashamed affect_neg_bored affect_neg_depressed  \\\n",
       "0                3.0              1.0                  5.0   \n",
       "1                4.0              1.0                  5.0   \n",
       "2                NaN              NaN                  NaN   \n",
       "\n",
       "  affect_neg_embarrassed affect_neg_frustrated affect_neg_guilty  \\\n",
       "0                    5.0                   2.0               4.0   \n",
       "1                    1.0                   3.0               1.0   \n",
       "2                    NaN                   NaN               NaN   \n",
       "\n",
       "  affect_neg_lazy  ... passive_hk_activity_averageWalkingSpeed  \\\n",
       "0             5.0  ...                                1.272807   \n",
       "1             5.0  ...                                1.269057   \n",
       "2             NaN  ...                                1.297391   \n",
       "\n",
       "  passive_hk_hr_variability passive_hk_hr_resting  \\\n",
       "0                       NaN                   NaN   \n",
       "1                       NaN                   NaN   \n",
       "2                       NaN                   NaN   \n",
       "\n",
       "  passive_hk_hr_averageWalking passive_hk_sleep_asleep passive_hk_sleep_core  \\\n",
       "0                          NaN                     NaN                   NaN   \n",
       "1                          NaN                     NaN                   NaN   \n",
       "2                          NaN                     NaN                   NaN   \n",
       "\n",
       "  passive_hk_sleep_deep passive_hk_sleep_REM passive_hk_sleep_awake  \\\n",
       "0                   NaN                  NaN                    NaN   \n",
       "1                   NaN                  NaN                    NaN   \n",
       "2                   NaN                  NaN                    NaN   \n",
       "\n",
       "  passive_hk_sleep_inBed  \n",
       "0                    NaN  \n",
       "1                    NaN  \n",
       "2                    NaN  \n",
       "\n",
       "[3 rows x 214 columns]"
      ]
     },
     "execution_count": 300,
     "metadata": {},
     "output_type": "execute_result"
    }
   ],
   "source": [
    "df_complete = df_complete.merge(df_activity, how='left', on=['ParticipantIdentifier', 'trial_date'])\n",
    "df_complete = df_complete.merge(df_hr, how='left', on=['ParticipantIdentifier', 'trial_date'])\n",
    "df_complete = df_complete.merge(sleep_df, how='left', on=['ParticipantIdentifier', 'trial_date'])\n",
    "df_complete.head(3)"
   ]
  },
  {
   "cell_type": "markdown",
   "metadata": {},
   "source": [
    "## Sensor Kit\n",
    "\n",
    "Note that **SensorKit** processing is done in a separate notebook.\n",
    "\n",
    "Here we aggregate the data by day"
   ]
  },
  {
   "cell_type": "markdown",
   "metadata": {},
   "source": [
    "### Device Usage"
   ]
  },
  {
   "cell_type": "code",
   "execution_count": 302,
   "metadata": {},
   "outputs": [],
   "source": [
    "sk_device = pd.read_csv(save_path + 'run' + str(run_num) + '_sk_deviceUsage.csv')"
   ]
  },
  {
   "cell_type": "code",
   "execution_count": 303,
   "metadata": {},
   "outputs": [
    {
     "data": {
      "text/html": [
       "<div>\n",
       "<style scoped>\n",
       "    .dataframe tbody tr th:only-of-type {\n",
       "        vertical-align: middle;\n",
       "    }\n",
       "\n",
       "    .dataframe tbody tr th {\n",
       "        vertical-align: top;\n",
       "    }\n",
       "\n",
       "    .dataframe thead th {\n",
       "        text-align: right;\n",
       "    }\n",
       "</style>\n",
       "<table border=\"1\" class=\"dataframe\">\n",
       "  <thead>\n",
       "    <tr style=\"text-align: right;\">\n",
       "      <th></th>\n",
       "      <th>ParticipantIdentifier</th>\n",
       "      <th>date_time</th>\n",
       "      <th>trial_date</th>\n",
       "      <th>passive_sk_device_time</th>\n",
       "      <th>passive_sk_device_duration</th>\n",
       "      <th>passive_sk_device_total_unlocks</th>\n",
       "      <th>passive_sk_device_total_screen_wakes</th>\n",
       "      <th>passive_sk_device_total_unlock_duration</th>\n",
       "      <th>passive_sk_device_app_usage_books</th>\n",
       "      <th>passive_sk_device_app_usage_business</th>\n",
       "      <th>...</th>\n",
       "      <th>passive_sk_device_web_usage_productivity</th>\n",
       "      <th>passive_sk_device_web_usage_reference</th>\n",
       "      <th>passive_sk_device_web_usage_shopping</th>\n",
       "      <th>passive_sk_device_web_usage_social_networking</th>\n",
       "      <th>passive_sk_device_web_usage_sports</th>\n",
       "      <th>passive_sk_device_web_usage_stickers</th>\n",
       "      <th>passive_sk_device_web_usage_travel</th>\n",
       "      <th>passive_sk_device_web_usage_utilities</th>\n",
       "      <th>passive_sk_device_web_usage_weather</th>\n",
       "      <th>passive_sk_device_time_diff</th>\n",
       "    </tr>\n",
       "  </thead>\n",
       "  <tbody>\n",
       "    <tr>\n",
       "      <th>0</th>\n",
       "      <td>01801252-3a7e-4f5f-8b6d-49e8da3902f3</td>\n",
       "      <td>2022-09-29 13:45:00+01:00</td>\n",
       "      <td>2022-09-29</td>\n",
       "      <td>13:45:00</td>\n",
       "      <td>900</td>\n",
       "      <td>5</td>\n",
       "      <td>4</td>\n",
       "      <td>423.0</td>\n",
       "      <td>NaN</td>\n",
       "      <td>NaN</td>\n",
       "      <td>...</td>\n",
       "      <td>NaN</td>\n",
       "      <td>NaN</td>\n",
       "      <td>NaN</td>\n",
       "      <td>NaN</td>\n",
       "      <td>NaN</td>\n",
       "      <td>NaN</td>\n",
       "      <td>NaN</td>\n",
       "      <td>NaN</td>\n",
       "      <td>NaN</td>\n",
       "      <td>NaN</td>\n",
       "    </tr>\n",
       "    <tr>\n",
       "      <th>1</th>\n",
       "      <td>01801252-3a7e-4f5f-8b6d-49e8da3902f3</td>\n",
       "      <td>2022-09-29 13:59:59+01:00</td>\n",
       "      <td>2022-09-29</td>\n",
       "      <td>13:59:59</td>\n",
       "      <td>900</td>\n",
       "      <td>3</td>\n",
       "      <td>6</td>\n",
       "      <td>65.0</td>\n",
       "      <td>NaN</td>\n",
       "      <td>NaN</td>\n",
       "      <td>...</td>\n",
       "      <td>NaN</td>\n",
       "      <td>NaN</td>\n",
       "      <td>NaN</td>\n",
       "      <td>NaN</td>\n",
       "      <td>NaN</td>\n",
       "      <td>NaN</td>\n",
       "      <td>NaN</td>\n",
       "      <td>NaN</td>\n",
       "      <td>NaN</td>\n",
       "      <td>899.0</td>\n",
       "    </tr>\n",
       "  </tbody>\n",
       "</table>\n",
       "<p>2 rows × 67 columns</p>\n",
       "</div>"
      ],
      "text/plain": [
       "                  ParticipantIdentifier                  date_time  \\\n",
       "0  01801252-3a7e-4f5f-8b6d-49e8da3902f3  2022-09-29 13:45:00+01:00   \n",
       "1  01801252-3a7e-4f5f-8b6d-49e8da3902f3  2022-09-29 13:59:59+01:00   \n",
       "\n",
       "   trial_date passive_sk_device_time  passive_sk_device_duration  \\\n",
       "0  2022-09-29               13:45:00                         900   \n",
       "1  2022-09-29               13:59:59                         900   \n",
       "\n",
       "   passive_sk_device_total_unlocks  passive_sk_device_total_screen_wakes  \\\n",
       "0                                5                                     4   \n",
       "1                                3                                     6   \n",
       "\n",
       "   passive_sk_device_total_unlock_duration  passive_sk_device_app_usage_books  \\\n",
       "0                                    423.0                                NaN   \n",
       "1                                     65.0                                NaN   \n",
       "\n",
       "   passive_sk_device_app_usage_business  ...  \\\n",
       "0                                   NaN  ...   \n",
       "1                                   NaN  ...   \n",
       "\n",
       "   passive_sk_device_web_usage_productivity  \\\n",
       "0                                       NaN   \n",
       "1                                       NaN   \n",
       "\n",
       "   passive_sk_device_web_usage_reference  \\\n",
       "0                                    NaN   \n",
       "1                                    NaN   \n",
       "\n",
       "   passive_sk_device_web_usage_shopping  \\\n",
       "0                                   NaN   \n",
       "1                                   NaN   \n",
       "\n",
       "   passive_sk_device_web_usage_social_networking  \\\n",
       "0                                            NaN   \n",
       "1                                            NaN   \n",
       "\n",
       "   passive_sk_device_web_usage_sports  passive_sk_device_web_usage_stickers  \\\n",
       "0                                 NaN                                   NaN   \n",
       "1                                 NaN                                   NaN   \n",
       "\n",
       "   passive_sk_device_web_usage_travel  passive_sk_device_web_usage_utilities  \\\n",
       "0                                 NaN                                    NaN   \n",
       "1                                 NaN                                    NaN   \n",
       "\n",
       "   passive_sk_device_web_usage_weather  passive_sk_device_time_diff  \n",
       "0                                  NaN                          NaN  \n",
       "1                                  NaN                        899.0  \n",
       "\n",
       "[2 rows x 67 columns]"
      ]
     },
     "execution_count": 303,
     "metadata": {},
     "output_type": "execute_result"
    }
   ],
   "source": [
    "sk_device.head(2)"
   ]
  },
  {
   "cell_type": "markdown",
   "metadata": {},
   "source": [
    "#### Aggregate by Day"
   ]
  },
  {
   "cell_type": "code",
   "execution_count": 304,
   "metadata": {},
   "outputs": [
    {
     "data": {
      "text/html": [
       "<div>\n",
       "<style scoped>\n",
       "    .dataframe tbody tr th:only-of-type {\n",
       "        vertical-align: middle;\n",
       "    }\n",
       "\n",
       "    .dataframe tbody tr th {\n",
       "        vertical-align: top;\n",
       "    }\n",
       "\n",
       "    .dataframe thead th {\n",
       "        text-align: right;\n",
       "    }\n",
       "</style>\n",
       "<table border=\"1\" class=\"dataframe\">\n",
       "  <thead>\n",
       "    <tr style=\"text-align: right;\">\n",
       "      <th></th>\n",
       "      <th>ParticipantIdentifier</th>\n",
       "      <th>trial_date</th>\n",
       "      <th>passive_sk_device_total_unlocks</th>\n",
       "      <th>passive_sk_device_total_screen_wakes</th>\n",
       "      <th>passive_sk_device_total_unlock_duration</th>\n",
       "      <th>passive_sk_device_app_usage_books</th>\n",
       "      <th>passive_sk_device_app_usage_business</th>\n",
       "      <th>passive_sk_device_app_usage_catalogs</th>\n",
       "      <th>passive_sk_device_app_usage_developer_tools</th>\n",
       "      <th>passive_sk_device_app_usage_education</th>\n",
       "      <th>...</th>\n",
       "      <th>passive_sk_device_web_usage_photo_and_video</th>\n",
       "      <th>passive_sk_device_web_usage_productivity</th>\n",
       "      <th>passive_sk_device_web_usage_reference</th>\n",
       "      <th>passive_sk_device_web_usage_shopping</th>\n",
       "      <th>passive_sk_device_web_usage_social_networking</th>\n",
       "      <th>passive_sk_device_web_usage_sports</th>\n",
       "      <th>passive_sk_device_web_usage_stickers</th>\n",
       "      <th>passive_sk_device_web_usage_travel</th>\n",
       "      <th>passive_sk_device_web_usage_utilities</th>\n",
       "      <th>passive_sk_device_web_usage_weather</th>\n",
       "    </tr>\n",
       "  </thead>\n",
       "  <tbody>\n",
       "    <tr>\n",
       "      <th>0</th>\n",
       "      <td>01801252-3a7e-4f5f-8b6d-49e8da3902f3</td>\n",
       "      <td>2022-09-29</td>\n",
       "      <td>94</td>\n",
       "      <td>154</td>\n",
       "      <td>6204.0</td>\n",
       "      <td>58.0</td>\n",
       "      <td>7.0</td>\n",
       "      <td>0.0</td>\n",
       "      <td>0.0</td>\n",
       "      <td>0.0</td>\n",
       "      <td>...</td>\n",
       "      <td>0.0</td>\n",
       "      <td>0.0</td>\n",
       "      <td>0.0</td>\n",
       "      <td>0.0</td>\n",
       "      <td>0.0</td>\n",
       "      <td>0.0</td>\n",
       "      <td>0.0</td>\n",
       "      <td>0.0</td>\n",
       "      <td>0.0</td>\n",
       "      <td>0.0</td>\n",
       "    </tr>\n",
       "    <tr>\n",
       "      <th>1</th>\n",
       "      <td>01801252-3a7e-4f5f-8b6d-49e8da3902f3</td>\n",
       "      <td>2022-09-30</td>\n",
       "      <td>137</td>\n",
       "      <td>301</td>\n",
       "      <td>13606.0</td>\n",
       "      <td>139.0</td>\n",
       "      <td>53.0</td>\n",
       "      <td>0.0</td>\n",
       "      <td>0.0</td>\n",
       "      <td>0.0</td>\n",
       "      <td>...</td>\n",
       "      <td>0.0</td>\n",
       "      <td>0.0</td>\n",
       "      <td>0.0</td>\n",
       "      <td>0.0</td>\n",
       "      <td>0.0</td>\n",
       "      <td>0.0</td>\n",
       "      <td>0.0</td>\n",
       "      <td>22.0</td>\n",
       "      <td>0.0</td>\n",
       "      <td>0.0</td>\n",
       "    </tr>\n",
       "  </tbody>\n",
       "</table>\n",
       "<p>2 rows × 63 columns</p>\n",
       "</div>"
      ],
      "text/plain": [
       "                  ParticipantIdentifier  trial_date  \\\n",
       "0  01801252-3a7e-4f5f-8b6d-49e8da3902f3  2022-09-29   \n",
       "1  01801252-3a7e-4f5f-8b6d-49e8da3902f3  2022-09-30   \n",
       "\n",
       "   passive_sk_device_total_unlocks  passive_sk_device_total_screen_wakes  \\\n",
       "0                               94                                   154   \n",
       "1                              137                                   301   \n",
       "\n",
       "   passive_sk_device_total_unlock_duration  passive_sk_device_app_usage_books  \\\n",
       "0                                   6204.0                               58.0   \n",
       "1                                  13606.0                              139.0   \n",
       "\n",
       "   passive_sk_device_app_usage_business  passive_sk_device_app_usage_catalogs  \\\n",
       "0                                   7.0                                   0.0   \n",
       "1                                  53.0                                   0.0   \n",
       "\n",
       "   passive_sk_device_app_usage_developer_tools  \\\n",
       "0                                          0.0   \n",
       "1                                          0.0   \n",
       "\n",
       "   passive_sk_device_app_usage_education  ...  \\\n",
       "0                                    0.0  ...   \n",
       "1                                    0.0  ...   \n",
       "\n",
       "   passive_sk_device_web_usage_photo_and_video  \\\n",
       "0                                          0.0   \n",
       "1                                          0.0   \n",
       "\n",
       "   passive_sk_device_web_usage_productivity  \\\n",
       "0                                       0.0   \n",
       "1                                       0.0   \n",
       "\n",
       "   passive_sk_device_web_usage_reference  \\\n",
       "0                                    0.0   \n",
       "1                                    0.0   \n",
       "\n",
       "   passive_sk_device_web_usage_shopping  \\\n",
       "0                                   0.0   \n",
       "1                                   0.0   \n",
       "\n",
       "   passive_sk_device_web_usage_social_networking  \\\n",
       "0                                            0.0   \n",
       "1                                            0.0   \n",
       "\n",
       "   passive_sk_device_web_usage_sports  passive_sk_device_web_usage_stickers  \\\n",
       "0                                 0.0                                   0.0   \n",
       "1                                 0.0                                   0.0   \n",
       "\n",
       "   passive_sk_device_web_usage_travel  passive_sk_device_web_usage_utilities  \\\n",
       "0                                 0.0                                    0.0   \n",
       "1                                22.0                                    0.0   \n",
       "\n",
       "   passive_sk_device_web_usage_weather  \n",
       "0                                  0.0  \n",
       "1                                  0.0  \n",
       "\n",
       "[2 rows x 63 columns]"
      ]
     },
     "execution_count": 304,
     "metadata": {},
     "output_type": "execute_result"
    }
   ],
   "source": [
    "sk_device = pd.DataFrame(sk_device.groupby(['ParticipantIdentifier', 'trial_date']).sum().loc[:, 'passive_sk_device_total_unlocks':'passive_sk_device_web_usage_weather']).reset_index()\n",
    "sk_device.head(2)"
   ]
  },
  {
   "cell_type": "markdown",
   "metadata": {},
   "source": [
    "#### Join"
   ]
  },
  {
   "cell_type": "code",
   "execution_count": 305,
   "metadata": {},
   "outputs": [],
   "source": [
    "df_complete = df_complete.merge(sk_device, how='left', on=['ParticipantIdentifier', 'trial_date'])"
   ]
  },
  {
   "cell_type": "markdown",
   "metadata": {},
   "source": [
    "### Keyboard Data"
   ]
  },
  {
   "cell_type": "code",
   "execution_count": 306,
   "metadata": {},
   "outputs": [],
   "source": [
    "sk_keyboard = pd.read_csv(save_path + 'run' + str(run_num) + '_sk_keyboard.csv')"
   ]
  },
  {
   "cell_type": "code",
   "execution_count": 307,
   "metadata": {},
   "outputs": [
    {
     "data": {
      "text/plain": [
       "Index(['ParticipantIdentifier', 'date_time', 'trial_date',\n",
       "       'passive_sk_keyboard_time', 'passive_sk_keyboard_total_words',\n",
       "       'passive_sk_keyboard_total_autocorrections',\n",
       "       'passive_sk_keyboard_total_typing_duration',\n",
       "       'passive_sk_keyboard_total_emojis', 'passive_sk_keyboard_total_deletes',\n",
       "       'passive_sk_keyboard_typing_speed', 'passive_sk_keyboard_total_pauses',\n",
       "       'passive_sk_keyboard_total_typing_episodes',\n",
       "       'passive_sk_keyboard_sentiment_emoji_absolutist',\n",
       "       'passive_sk_keyboard_sentiment_emoji_down',\n",
       "       'passive_sk_keyboard_sentiment_emoji_death',\n",
       "       'passive_sk_keyboard_sentiment_emoji_anxiety',\n",
       "       'passive_sk_keyboard_sentiment_emoji_anger',\n",
       "       'passive_sk_keyboard_sentiment_emoji_health',\n",
       "       'passive_sk_keyboard_sentiment_emoji_positive',\n",
       "       'passive_sk_keyboard_sentiment_emoji_sad',\n",
       "       'passive_sk_keyboard_sentiment_emoji_lowEnergy',\n",
       "       'passive_sk_keyboard_sentiment_emoji_confused',\n",
       "       'passive_sk_keyboard_sentiment_word_absolutist',\n",
       "       'passive_sk_keyboard_sentiment_word_down',\n",
       "       'passive_sk_keyboard_sentiment_word_death',\n",
       "       'passive_sk_keyboard_sentiment_word_anxiety',\n",
       "       'passive_sk_keyboard_sentiment_word_anger',\n",
       "       'passive_sk_keyboard_sentiment_word_health',\n",
       "       'passive_sk_keyboard_sentiment_word_positive',\n",
       "       'passive_sk_keyboard_sentiment_word_sad',\n",
       "       'passive_sk_keyboard_sentiment_word_lowEnergy',\n",
       "       'passive_sk_keyboard_sentiment_word_confused'],\n",
       "      dtype='object')"
      ]
     },
     "execution_count": 307,
     "metadata": {},
     "output_type": "execute_result"
    }
   ],
   "source": [
    "sk_keyboard.columns"
   ]
  },
  {
   "cell_type": "code",
   "execution_count": 308,
   "metadata": {},
   "outputs": [
    {
     "data": {
      "text/html": [
       "<div>\n",
       "<style scoped>\n",
       "    .dataframe tbody tr th:only-of-type {\n",
       "        vertical-align: middle;\n",
       "    }\n",
       "\n",
       "    .dataframe tbody tr th {\n",
       "        vertical-align: top;\n",
       "    }\n",
       "\n",
       "    .dataframe thead th {\n",
       "        text-align: right;\n",
       "    }\n",
       "</style>\n",
       "<table border=\"1\" class=\"dataframe\">\n",
       "  <thead>\n",
       "    <tr style=\"text-align: right;\">\n",
       "      <th></th>\n",
       "      <th>ParticipantIdentifier</th>\n",
       "      <th>date_time</th>\n",
       "      <th>trial_date</th>\n",
       "      <th>passive_sk_keyboard_time</th>\n",
       "      <th>passive_sk_keyboard_total_words</th>\n",
       "      <th>passive_sk_keyboard_total_autocorrections</th>\n",
       "      <th>passive_sk_keyboard_total_typing_duration</th>\n",
       "      <th>passive_sk_keyboard_total_emojis</th>\n",
       "      <th>passive_sk_keyboard_total_deletes</th>\n",
       "      <th>passive_sk_keyboard_typing_speed</th>\n",
       "      <th>...</th>\n",
       "      <th>passive_sk_keyboard_sentiment_word_absolutist</th>\n",
       "      <th>passive_sk_keyboard_sentiment_word_down</th>\n",
       "      <th>passive_sk_keyboard_sentiment_word_death</th>\n",
       "      <th>passive_sk_keyboard_sentiment_word_anxiety</th>\n",
       "      <th>passive_sk_keyboard_sentiment_word_anger</th>\n",
       "      <th>passive_sk_keyboard_sentiment_word_health</th>\n",
       "      <th>passive_sk_keyboard_sentiment_word_positive</th>\n",
       "      <th>passive_sk_keyboard_sentiment_word_sad</th>\n",
       "      <th>passive_sk_keyboard_sentiment_word_lowEnergy</th>\n",
       "      <th>passive_sk_keyboard_sentiment_word_confused</th>\n",
       "    </tr>\n",
       "  </thead>\n",
       "  <tbody>\n",
       "    <tr>\n",
       "      <th>0</th>\n",
       "      <td>099765a5-a9c9-4fff-b297-a39eab517267</td>\n",
       "      <td>2022-09-26 13:36:21-04:00</td>\n",
       "      <td>2022-09-26</td>\n",
       "      <td>13:36:21</td>\n",
       "      <td>28</td>\n",
       "      <td>0</td>\n",
       "      <td>51.0</td>\n",
       "      <td>8</td>\n",
       "      <td>16</td>\n",
       "      <td>3.106007</td>\n",
       "      <td>...</td>\n",
       "      <td>0.0</td>\n",
       "      <td>0.0</td>\n",
       "      <td>0.0</td>\n",
       "      <td>0.0</td>\n",
       "      <td>1.0</td>\n",
       "      <td>0.0</td>\n",
       "      <td>0.0</td>\n",
       "      <td>0.0</td>\n",
       "      <td>0.0</td>\n",
       "      <td>0.0</td>\n",
       "    </tr>\n",
       "    <tr>\n",
       "      <th>1</th>\n",
       "      <td>099765a5-a9c9-4fff-b297-a39eab517267</td>\n",
       "      <td>2022-09-26 14:40:47-04:00</td>\n",
       "      <td>2022-09-26</td>\n",
       "      <td>14:40:47</td>\n",
       "      <td>26</td>\n",
       "      <td>0</td>\n",
       "      <td>27.0</td>\n",
       "      <td>3</td>\n",
       "      <td>15</td>\n",
       "      <td>4.629528</td>\n",
       "      <td>...</td>\n",
       "      <td>0.0</td>\n",
       "      <td>0.0</td>\n",
       "      <td>0.0</td>\n",
       "      <td>0.0</td>\n",
       "      <td>0.0</td>\n",
       "      <td>0.0</td>\n",
       "      <td>1.0</td>\n",
       "      <td>0.0</td>\n",
       "      <td>0.0</td>\n",
       "      <td>0.0</td>\n",
       "    </tr>\n",
       "  </tbody>\n",
       "</table>\n",
       "<p>2 rows × 32 columns</p>\n",
       "</div>"
      ],
      "text/plain": [
       "                  ParticipantIdentifier                  date_time  \\\n",
       "0  099765a5-a9c9-4fff-b297-a39eab517267  2022-09-26 13:36:21-04:00   \n",
       "1  099765a5-a9c9-4fff-b297-a39eab517267  2022-09-26 14:40:47-04:00   \n",
       "\n",
       "   trial_date passive_sk_keyboard_time  passive_sk_keyboard_total_words  \\\n",
       "0  2022-09-26                 13:36:21                               28   \n",
       "1  2022-09-26                 14:40:47                               26   \n",
       "\n",
       "   passive_sk_keyboard_total_autocorrections  \\\n",
       "0                                          0   \n",
       "1                                          0   \n",
       "\n",
       "   passive_sk_keyboard_total_typing_duration  \\\n",
       "0                                       51.0   \n",
       "1                                       27.0   \n",
       "\n",
       "   passive_sk_keyboard_total_emojis  passive_sk_keyboard_total_deletes  \\\n",
       "0                                 8                                 16   \n",
       "1                                 3                                 15   \n",
       "\n",
       "   passive_sk_keyboard_typing_speed  ...  \\\n",
       "0                          3.106007  ...   \n",
       "1                          4.629528  ...   \n",
       "\n",
       "   passive_sk_keyboard_sentiment_word_absolutist  \\\n",
       "0                                            0.0   \n",
       "1                                            0.0   \n",
       "\n",
       "   passive_sk_keyboard_sentiment_word_down  \\\n",
       "0                                      0.0   \n",
       "1                                      0.0   \n",
       "\n",
       "   passive_sk_keyboard_sentiment_word_death  \\\n",
       "0                                       0.0   \n",
       "1                                       0.0   \n",
       "\n",
       "   passive_sk_keyboard_sentiment_word_anxiety  \\\n",
       "0                                         0.0   \n",
       "1                                         0.0   \n",
       "\n",
       "   passive_sk_keyboard_sentiment_word_anger  \\\n",
       "0                                       1.0   \n",
       "1                                       0.0   \n",
       "\n",
       "   passive_sk_keyboard_sentiment_word_health  \\\n",
       "0                                        0.0   \n",
       "1                                        0.0   \n",
       "\n",
       "   passive_sk_keyboard_sentiment_word_positive  \\\n",
       "0                                          0.0   \n",
       "1                                          1.0   \n",
       "\n",
       "   passive_sk_keyboard_sentiment_word_sad  \\\n",
       "0                                     0.0   \n",
       "1                                     0.0   \n",
       "\n",
       "   passive_sk_keyboard_sentiment_word_lowEnergy  \\\n",
       "0                                           0.0   \n",
       "1                                           0.0   \n",
       "\n",
       "   passive_sk_keyboard_sentiment_word_confused  \n",
       "0                                          0.0  \n",
       "1                                          0.0  \n",
       "\n",
       "[2 rows x 32 columns]"
      ]
     },
     "execution_count": 308,
     "metadata": {},
     "output_type": "execute_result"
    }
   ],
   "source": [
    "sk_keyboard.head(2)"
   ]
  },
  {
   "cell_type": "markdown",
   "metadata": {},
   "source": [
    "#### Aggregate by Day"
   ]
  },
  {
   "cell_type": "code",
   "execution_count": 309,
   "metadata": {},
   "outputs": [
    {
     "data": {
      "text/html": [
       "<div>\n",
       "<style scoped>\n",
       "    .dataframe tbody tr th:only-of-type {\n",
       "        vertical-align: middle;\n",
       "    }\n",
       "\n",
       "    .dataframe tbody tr th {\n",
       "        vertical-align: top;\n",
       "    }\n",
       "\n",
       "    .dataframe thead th {\n",
       "        text-align: right;\n",
       "    }\n",
       "</style>\n",
       "<table border=\"1\" class=\"dataframe\">\n",
       "  <thead>\n",
       "    <tr style=\"text-align: right;\">\n",
       "      <th></th>\n",
       "      <th>trial_date</th>\n",
       "      <th>ParticipantIdentifier</th>\n",
       "      <th>passive_sk_keyboard_total_words</th>\n",
       "      <th>passive_sk_keyboard_total_autocorrections</th>\n",
       "      <th>passive_sk_keyboard_total_typing_duration</th>\n",
       "      <th>passive_sk_keyboard_total_emojis</th>\n",
       "      <th>passive_sk_keyboard_total_deletes</th>\n",
       "      <th>passive_sk_keyboard_total_pauses</th>\n",
       "      <th>passive_sk_keyboard_total_typing_episodes</th>\n",
       "      <th>passive_sk_keyboard_sentiment_emoji_absolutist</th>\n",
       "      <th>...</th>\n",
       "      <th>passive_sk_keyboard_sentiment_word_down</th>\n",
       "      <th>passive_sk_keyboard_sentiment_word_death</th>\n",
       "      <th>passive_sk_keyboard_sentiment_word_anxiety</th>\n",
       "      <th>passive_sk_keyboard_sentiment_word_anger</th>\n",
       "      <th>passive_sk_keyboard_sentiment_word_health</th>\n",
       "      <th>passive_sk_keyboard_sentiment_word_positive</th>\n",
       "      <th>passive_sk_keyboard_sentiment_word_sad</th>\n",
       "      <th>passive_sk_keyboard_sentiment_word_lowEnergy</th>\n",
       "      <th>passive_sk_keyboard_sentiment_word_confused</th>\n",
       "      <th>passive_sk_keyboard_typing_speed</th>\n",
       "    </tr>\n",
       "  </thead>\n",
       "  <tbody>\n",
       "    <tr>\n",
       "      <th>0</th>\n",
       "      <td>2022-09-23</td>\n",
       "      <td>099765a5-a9c9-4fff-b297-a39eab517267</td>\n",
       "      <td>357</td>\n",
       "      <td>0</td>\n",
       "      <td>374.019829</td>\n",
       "      <td>11</td>\n",
       "      <td>189</td>\n",
       "      <td>38.0</td>\n",
       "      <td>61.0</td>\n",
       "      <td>0.0</td>\n",
       "      <td>...</td>\n",
       "      <td>0.0</td>\n",
       "      <td>0.0</td>\n",
       "      <td>2.0</td>\n",
       "      <td>1.0</td>\n",
       "      <td>0.0</td>\n",
       "      <td>1.0</td>\n",
       "      <td>0.0</td>\n",
       "      <td>0.0</td>\n",
       "      <td>0.0</td>\n",
       "      <td>4.916200</td>\n",
       "    </tr>\n",
       "    <tr>\n",
       "      <th>1</th>\n",
       "      <td>2022-09-23</td>\n",
       "      <td>3b692f4d-2f21-4869-b87f-c134c918e18f</td>\n",
       "      <td>176</td>\n",
       "      <td>13</td>\n",
       "      <td>127.000000</td>\n",
       "      <td>7</td>\n",
       "      <td>62</td>\n",
       "      <td>0.0</td>\n",
       "      <td>28.0</td>\n",
       "      <td>0.0</td>\n",
       "      <td>...</td>\n",
       "      <td>0.0</td>\n",
       "      <td>0.0</td>\n",
       "      <td>0.0</td>\n",
       "      <td>3.0</td>\n",
       "      <td>2.0</td>\n",
       "      <td>5.0</td>\n",
       "      <td>0.0</td>\n",
       "      <td>0.0</td>\n",
       "      <td>0.0</td>\n",
       "      <td>6.514057</td>\n",
       "    </tr>\n",
       "    <tr>\n",
       "      <th>2</th>\n",
       "      <td>2022-09-24</td>\n",
       "      <td>099765a5-a9c9-4fff-b297-a39eab517267</td>\n",
       "      <td>2298</td>\n",
       "      <td>0</td>\n",
       "      <td>2281.574644</td>\n",
       "      <td>29</td>\n",
       "      <td>907</td>\n",
       "      <td>203.0</td>\n",
       "      <td>237.0</td>\n",
       "      <td>0.0</td>\n",
       "      <td>...</td>\n",
       "      <td>6.0</td>\n",
       "      <td>0.0</td>\n",
       "      <td>3.0</td>\n",
       "      <td>1.0</td>\n",
       "      <td>5.0</td>\n",
       "      <td>11.0</td>\n",
       "      <td>0.0</td>\n",
       "      <td>0.0</td>\n",
       "      <td>0.0</td>\n",
       "      <td>5.025940</td>\n",
       "    </tr>\n",
       "    <tr>\n",
       "      <th>3</th>\n",
       "      <td>2022-09-24</td>\n",
       "      <td>156895d9-0f71-4844-92dd-3fb298f84f2b</td>\n",
       "      <td>61</td>\n",
       "      <td>16</td>\n",
       "      <td>118.000000</td>\n",
       "      <td>0</td>\n",
       "      <td>46</td>\n",
       "      <td>12.0</td>\n",
       "      <td>43.0</td>\n",
       "      <td>0.0</td>\n",
       "      <td>...</td>\n",
       "      <td>1.0</td>\n",
       "      <td>0.0</td>\n",
       "      <td>0.0</td>\n",
       "      <td>0.0</td>\n",
       "      <td>0.0</td>\n",
       "      <td>0.0</td>\n",
       "      <td>0.0</td>\n",
       "      <td>0.0</td>\n",
       "      <td>0.0</td>\n",
       "      <td>3.406593</td>\n",
       "    </tr>\n",
       "    <tr>\n",
       "      <th>4</th>\n",
       "      <td>2022-09-24</td>\n",
       "      <td>1b9b62f1-095b-4819-92a0-ea8e7abee884</td>\n",
       "      <td>33</td>\n",
       "      <td>3</td>\n",
       "      <td>64.000000</td>\n",
       "      <td>1</td>\n",
       "      <td>32</td>\n",
       "      <td>11.0</td>\n",
       "      <td>6.0</td>\n",
       "      <td>0.0</td>\n",
       "      <td>...</td>\n",
       "      <td>0.0</td>\n",
       "      <td>0.0</td>\n",
       "      <td>0.0</td>\n",
       "      <td>0.0</td>\n",
       "      <td>0.0</td>\n",
       "      <td>3.0</td>\n",
       "      <td>0.0</td>\n",
       "      <td>0.0</td>\n",
       "      <td>0.0</td>\n",
       "      <td>3.001927</td>\n",
       "    </tr>\n",
       "  </tbody>\n",
       "</table>\n",
       "<p>5 rows × 30 columns</p>\n",
       "</div>"
      ],
      "text/plain": [
       "   trial_date                 ParticipantIdentifier  \\\n",
       "0  2022-09-23  099765a5-a9c9-4fff-b297-a39eab517267   \n",
       "1  2022-09-23  3b692f4d-2f21-4869-b87f-c134c918e18f   \n",
       "2  2022-09-24  099765a5-a9c9-4fff-b297-a39eab517267   \n",
       "3  2022-09-24  156895d9-0f71-4844-92dd-3fb298f84f2b   \n",
       "4  2022-09-24  1b9b62f1-095b-4819-92a0-ea8e7abee884   \n",
       "\n",
       "   passive_sk_keyboard_total_words  passive_sk_keyboard_total_autocorrections  \\\n",
       "0                              357                                          0   \n",
       "1                              176                                         13   \n",
       "2                             2298                                          0   \n",
       "3                               61                                         16   \n",
       "4                               33                                          3   \n",
       "\n",
       "   passive_sk_keyboard_total_typing_duration  \\\n",
       "0                                 374.019829   \n",
       "1                                 127.000000   \n",
       "2                                2281.574644   \n",
       "3                                 118.000000   \n",
       "4                                  64.000000   \n",
       "\n",
       "   passive_sk_keyboard_total_emojis  passive_sk_keyboard_total_deletes  \\\n",
       "0                                11                                189   \n",
       "1                                 7                                 62   \n",
       "2                                29                                907   \n",
       "3                                 0                                 46   \n",
       "4                                 1                                 32   \n",
       "\n",
       "   passive_sk_keyboard_total_pauses  \\\n",
       "0                              38.0   \n",
       "1                               0.0   \n",
       "2                             203.0   \n",
       "3                              12.0   \n",
       "4                              11.0   \n",
       "\n",
       "   passive_sk_keyboard_total_typing_episodes  \\\n",
       "0                                       61.0   \n",
       "1                                       28.0   \n",
       "2                                      237.0   \n",
       "3                                       43.0   \n",
       "4                                        6.0   \n",
       "\n",
       "   passive_sk_keyboard_sentiment_emoji_absolutist  ...  \\\n",
       "0                                             0.0  ...   \n",
       "1                                             0.0  ...   \n",
       "2                                             0.0  ...   \n",
       "3                                             0.0  ...   \n",
       "4                                             0.0  ...   \n",
       "\n",
       "   passive_sk_keyboard_sentiment_word_down  \\\n",
       "0                                      0.0   \n",
       "1                                      0.0   \n",
       "2                                      6.0   \n",
       "3                                      1.0   \n",
       "4                                      0.0   \n",
       "\n",
       "   passive_sk_keyboard_sentiment_word_death  \\\n",
       "0                                       0.0   \n",
       "1                                       0.0   \n",
       "2                                       0.0   \n",
       "3                                       0.0   \n",
       "4                                       0.0   \n",
       "\n",
       "   passive_sk_keyboard_sentiment_word_anxiety  \\\n",
       "0                                         2.0   \n",
       "1                                         0.0   \n",
       "2                                         3.0   \n",
       "3                                         0.0   \n",
       "4                                         0.0   \n",
       "\n",
       "   passive_sk_keyboard_sentiment_word_anger  \\\n",
       "0                                       1.0   \n",
       "1                                       3.0   \n",
       "2                                       1.0   \n",
       "3                                       0.0   \n",
       "4                                       0.0   \n",
       "\n",
       "   passive_sk_keyboard_sentiment_word_health  \\\n",
       "0                                        0.0   \n",
       "1                                        2.0   \n",
       "2                                        5.0   \n",
       "3                                        0.0   \n",
       "4                                        0.0   \n",
       "\n",
       "   passive_sk_keyboard_sentiment_word_positive  \\\n",
       "0                                          1.0   \n",
       "1                                          5.0   \n",
       "2                                         11.0   \n",
       "3                                          0.0   \n",
       "4                                          3.0   \n",
       "\n",
       "   passive_sk_keyboard_sentiment_word_sad  \\\n",
       "0                                     0.0   \n",
       "1                                     0.0   \n",
       "2                                     0.0   \n",
       "3                                     0.0   \n",
       "4                                     0.0   \n",
       "\n",
       "   passive_sk_keyboard_sentiment_word_lowEnergy  \\\n",
       "0                                           0.0   \n",
       "1                                           0.0   \n",
       "2                                           0.0   \n",
       "3                                           0.0   \n",
       "4                                           0.0   \n",
       "\n",
       "   passive_sk_keyboard_sentiment_word_confused  \\\n",
       "0                                          0.0   \n",
       "1                                          0.0   \n",
       "2                                          0.0   \n",
       "3                                          0.0   \n",
       "4                                          0.0   \n",
       "\n",
       "   passive_sk_keyboard_typing_speed  \n",
       "0                          4.916200  \n",
       "1                          6.514057  \n",
       "2                          5.025940  \n",
       "3                          3.406593  \n",
       "4                          3.001927  \n",
       "\n",
       "[5 rows x 30 columns]"
      ]
     },
     "execution_count": 309,
     "metadata": {},
     "output_type": "execute_result"
    }
   ],
   "source": [
    "# Columns to sum (all columns starting from 'passive_sk_keyboard_total_words' except for 'passive_sk_keyboard_typing_speed')\n",
    "columns_to_sum = [col for col in sk_keyboard.columns if col.startswith('passive_sk_') and col != 'passive_sk_keyboard_time' and col != 'passive_sk_keyboard_typing_speed']\n",
    "\n",
    "# Creating a dictionary for aggregation\n",
    "agg_dict = {col: 'sum' for col in columns_to_sum}\n",
    "agg_dict['passive_sk_keyboard_typing_speed'] = 'mean'\n",
    "\n",
    "# Apply the groupby with aggregation\n",
    "sk_keyboard = pd.DataFrame(sk_keyboard.groupby(['trial_date', 'ParticipantIdentifier']).agg(agg_dict)).reset_index()\n",
    "sk_keyboard.head()"
   ]
  },
  {
   "cell_type": "markdown",
   "metadata": {},
   "source": [
    "#### Join"
   ]
  },
  {
   "cell_type": "code",
   "execution_count": 310,
   "metadata": {},
   "outputs": [],
   "source": [
    "df_complete = df_complete.merge(sk_keyboard, how='left', on=['ParticipantIdentifier', 'trial_date'])"
   ]
  },
  {
   "cell_type": "markdown",
   "metadata": {},
   "source": [
    "### Visits"
   ]
  },
  {
   "cell_type": "code",
   "execution_count": 311,
   "metadata": {},
   "outputs": [],
   "source": [
    "sk_visits = pd.read_csv(save_path + 'run' + str(run_num) + '_sk_visits.csv')"
   ]
  },
  {
   "cell_type": "code",
   "execution_count": 312,
   "metadata": {},
   "outputs": [
    {
     "data": {
      "text/html": [
       "<div>\n",
       "<style scoped>\n",
       "    .dataframe tbody tr th:only-of-type {\n",
       "        vertical-align: middle;\n",
       "    }\n",
       "\n",
       "    .dataframe tbody tr th {\n",
       "        vertical-align: top;\n",
       "    }\n",
       "\n",
       "    .dataframe thead th {\n",
       "        text-align: right;\n",
       "    }\n",
       "</style>\n",
       "<table border=\"1\" class=\"dataframe\">\n",
       "  <thead>\n",
       "    <tr style=\"text-align: right;\">\n",
       "      <th></th>\n",
       "      <th>ParticipantIdentifier</th>\n",
       "      <th>date_time</th>\n",
       "      <th>trial_date</th>\n",
       "      <th>passive_sk_visits_time</th>\n",
       "      <th>passive_sk_visits_gym_startTime</th>\n",
       "      <th>passive_sk_visits_gym_endTime</th>\n",
       "      <th>passive_sk_visits_gym_elapsed</th>\n",
       "      <th>passive_sk_visits_gym_distance</th>\n",
       "      <th>passive_sk_visits_home_startTime</th>\n",
       "      <th>passive_sk_visits_home_endTime</th>\n",
       "      <th>...</th>\n",
       "      <th>passive_sk_visits_school_distance</th>\n",
       "      <th>passive_sk_visits_unknown_startTime</th>\n",
       "      <th>passive_sk_visits_unknown_endTime</th>\n",
       "      <th>passive_sk_visits_unknown_elapsed</th>\n",
       "      <th>passive_sk_visits_unknown_distance</th>\n",
       "      <th>passive_sk_visits_work_startTime</th>\n",
       "      <th>passive_sk_visits_work_endTime</th>\n",
       "      <th>passive_sk_visits_work_elapsed</th>\n",
       "      <th>passive_sk_visits_work_distance</th>\n",
       "      <th>passive_sk_visits_unknown_distance_flag</th>\n",
       "    </tr>\n",
       "  </thead>\n",
       "  <tbody>\n",
       "    <tr>\n",
       "      <th>0</th>\n",
       "      <td>099765a5-a9c9-4fff-b297-a39eab517267</td>\n",
       "      <td>2022-09-21 21:00:00-04:00</td>\n",
       "      <td>2022-09-21</td>\n",
       "      <td>21:00:00</td>\n",
       "      <td>NaN</td>\n",
       "      <td>NaN</td>\n",
       "      <td>NaN</td>\n",
       "      <td>NaN</td>\n",
       "      <td>2022-09-21 21:00:00-04:00</td>\n",
       "      <td>2022-09-21 23:59:59-04:00</td>\n",
       "      <td>...</td>\n",
       "      <td>NaN</td>\n",
       "      <td>NaN</td>\n",
       "      <td>NaN</td>\n",
       "      <td>NaN</td>\n",
       "      <td>NaN</td>\n",
       "      <td>NaN</td>\n",
       "      <td>NaN</td>\n",
       "      <td>NaN</td>\n",
       "      <td>NaN</td>\n",
       "      <td>False</td>\n",
       "    </tr>\n",
       "    <tr>\n",
       "      <th>1</th>\n",
       "      <td>099765a5-a9c9-4fff-b297-a39eab517267</td>\n",
       "      <td>2022-09-22 19:30:00-04:00</td>\n",
       "      <td>2022-09-22</td>\n",
       "      <td>19:30:00</td>\n",
       "      <td>NaN</td>\n",
       "      <td>NaN</td>\n",
       "      <td>NaN</td>\n",
       "      <td>NaN</td>\n",
       "      <td>2022-09-22 19:30:00-04:00</td>\n",
       "      <td>2022-09-22 23:59:59-04:00</td>\n",
       "      <td>...</td>\n",
       "      <td>NaN</td>\n",
       "      <td>NaN</td>\n",
       "      <td>NaN</td>\n",
       "      <td>NaN</td>\n",
       "      <td>NaN</td>\n",
       "      <td>NaN</td>\n",
       "      <td>NaN</td>\n",
       "      <td>NaN</td>\n",
       "      <td>NaN</td>\n",
       "      <td>False</td>\n",
       "    </tr>\n",
       "  </tbody>\n",
       "</table>\n",
       "<p>2 rows × 25 columns</p>\n",
       "</div>"
      ],
      "text/plain": [
       "                  ParticipantIdentifier                  date_time  \\\n",
       "0  099765a5-a9c9-4fff-b297-a39eab517267  2022-09-21 21:00:00-04:00   \n",
       "1  099765a5-a9c9-4fff-b297-a39eab517267  2022-09-22 19:30:00-04:00   \n",
       "\n",
       "   trial_date passive_sk_visits_time  passive_sk_visits_gym_startTime  \\\n",
       "0  2022-09-21               21:00:00                              NaN   \n",
       "1  2022-09-22               19:30:00                              NaN   \n",
       "\n",
       "   passive_sk_visits_gym_endTime  passive_sk_visits_gym_elapsed  \\\n",
       "0                            NaN                            NaN   \n",
       "1                            NaN                            NaN   \n",
       "\n",
       "   passive_sk_visits_gym_distance passive_sk_visits_home_startTime  \\\n",
       "0                             NaN        2022-09-21 21:00:00-04:00   \n",
       "1                             NaN        2022-09-22 19:30:00-04:00   \n",
       "\n",
       "  passive_sk_visits_home_endTime  ...  passive_sk_visits_school_distance  \\\n",
       "0      2022-09-21 23:59:59-04:00  ...                                NaN   \n",
       "1      2022-09-22 23:59:59-04:00  ...                                NaN   \n",
       "\n",
       "   passive_sk_visits_unknown_startTime passive_sk_visits_unknown_endTime  \\\n",
       "0                                  NaN                               NaN   \n",
       "1                                  NaN                               NaN   \n",
       "\n",
       "  passive_sk_visits_unknown_elapsed  passive_sk_visits_unknown_distance  \\\n",
       "0                               NaN                                 NaN   \n",
       "1                               NaN                                 NaN   \n",
       "\n",
       "   passive_sk_visits_work_startTime passive_sk_visits_work_endTime  \\\n",
       "0                               NaN                            NaN   \n",
       "1                               NaN                            NaN   \n",
       "\n",
       "  passive_sk_visits_work_elapsed  passive_sk_visits_work_distance  \\\n",
       "0                            NaN                              NaN   \n",
       "1                            NaN                              NaN   \n",
       "\n",
       "   passive_sk_visits_unknown_distance_flag  \n",
       "0                                    False  \n",
       "1                                    False  \n",
       "\n",
       "[2 rows x 25 columns]"
      ]
     },
     "execution_count": 312,
     "metadata": {},
     "output_type": "execute_result"
    }
   ],
   "source": [
    "sk_visits.head(2)"
   ]
  },
  {
   "cell_type": "markdown",
   "metadata": {},
   "source": [
    "#### Aggregate by Day"
   ]
  },
  {
   "cell_type": "code",
   "execution_count": 313,
   "metadata": {},
   "outputs": [
    {
     "data": {
      "text/plain": [
       "Index(['ParticipantIdentifier', 'date_time', 'trial_date',\n",
       "       'passive_sk_visits_time', 'passive_sk_visits_gym_startTime',\n",
       "       'passive_sk_visits_gym_endTime', 'passive_sk_visits_gym_elapsed',\n",
       "       'passive_sk_visits_gym_distance', 'passive_sk_visits_home_startTime',\n",
       "       'passive_sk_visits_home_endTime', 'passive_sk_visits_home_elapsed',\n",
       "       'passive_sk_visits_home_distance', 'passive_sk_visits_school_startTime',\n",
       "       'passive_sk_visits_school_endTime', 'passive_sk_visits_school_elapsed',\n",
       "       'passive_sk_visits_school_distance',\n",
       "       'passive_sk_visits_unknown_startTime',\n",
       "       'passive_sk_visits_unknown_endTime',\n",
       "       'passive_sk_visits_unknown_elapsed',\n",
       "       'passive_sk_visits_unknown_distance',\n",
       "       'passive_sk_visits_work_startTime', 'passive_sk_visits_work_endTime',\n",
       "       'passive_sk_visits_work_elapsed', 'passive_sk_visits_work_distance',\n",
       "       'passive_sk_visits_unknown_distance_flag'],\n",
       "      dtype='object')"
      ]
     },
     "execution_count": 313,
     "metadata": {},
     "output_type": "execute_result"
    }
   ],
   "source": [
    "sk_visits.columns"
   ]
  },
  {
   "cell_type": "code",
   "execution_count": 314,
   "metadata": {},
   "outputs": [
    {
     "data": {
      "text/html": [
       "<div>\n",
       "<style scoped>\n",
       "    .dataframe tbody tr th:only-of-type {\n",
       "        vertical-align: middle;\n",
       "    }\n",
       "\n",
       "    .dataframe tbody tr th {\n",
       "        vertical-align: top;\n",
       "    }\n",
       "\n",
       "    .dataframe thead th {\n",
       "        text-align: right;\n",
       "    }\n",
       "</style>\n",
       "<table border=\"1\" class=\"dataframe\">\n",
       "  <thead>\n",
       "    <tr style=\"text-align: right;\">\n",
       "      <th></th>\n",
       "      <th>ParticipantIdentifier</th>\n",
       "      <th>date_time</th>\n",
       "      <th>trial_date</th>\n",
       "      <th>passive_sk_visits_time</th>\n",
       "      <th>passive_sk_visits_gym_startTime</th>\n",
       "      <th>passive_sk_visits_gym_endTime</th>\n",
       "      <th>passive_sk_visits_gym_elapsed</th>\n",
       "      <th>passive_sk_visits_gym_distance</th>\n",
       "      <th>passive_sk_visits_home_startTime</th>\n",
       "      <th>passive_sk_visits_home_endTime</th>\n",
       "      <th>...</th>\n",
       "      <th>passive_sk_visits_school_distance</th>\n",
       "      <th>passive_sk_visits_unknown_startTime</th>\n",
       "      <th>passive_sk_visits_unknown_endTime</th>\n",
       "      <th>passive_sk_visits_unknown_elapsed</th>\n",
       "      <th>passive_sk_visits_unknown_distance</th>\n",
       "      <th>passive_sk_visits_work_startTime</th>\n",
       "      <th>passive_sk_visits_work_endTime</th>\n",
       "      <th>passive_sk_visits_work_elapsed</th>\n",
       "      <th>passive_sk_visits_work_distance</th>\n",
       "      <th>passive_sk_visits_unknown_distance_flag</th>\n",
       "    </tr>\n",
       "  </thead>\n",
       "  <tbody>\n",
       "    <tr>\n",
       "      <th>0</th>\n",
       "      <td>099765a5-a9c9-4fff-b297-a39eab517267</td>\n",
       "      <td>2022-09-21 21:00:00-04:00</td>\n",
       "      <td>2022-09-21</td>\n",
       "      <td>21:00:00</td>\n",
       "      <td>NaN</td>\n",
       "      <td>NaN</td>\n",
       "      <td>NaN</td>\n",
       "      <td>NaN</td>\n",
       "      <td>2022-09-21 21:00:00-04:00</td>\n",
       "      <td>2022-09-21 23:59:59-04:00</td>\n",
       "      <td>...</td>\n",
       "      <td>NaN</td>\n",
       "      <td>NaN</td>\n",
       "      <td>NaN</td>\n",
       "      <td>NaN</td>\n",
       "      <td>NaN</td>\n",
       "      <td>NaN</td>\n",
       "      <td>NaN</td>\n",
       "      <td>NaN</td>\n",
       "      <td>NaN</td>\n",
       "      <td>False</td>\n",
       "    </tr>\n",
       "    <tr>\n",
       "      <th>1</th>\n",
       "      <td>099765a5-a9c9-4fff-b297-a39eab517267</td>\n",
       "      <td>2022-09-22 19:30:00-04:00</td>\n",
       "      <td>2022-09-22</td>\n",
       "      <td>19:30:00</td>\n",
       "      <td>NaN</td>\n",
       "      <td>NaN</td>\n",
       "      <td>NaN</td>\n",
       "      <td>NaN</td>\n",
       "      <td>2022-09-22 19:30:00-04:00</td>\n",
       "      <td>2022-09-22 23:59:59-04:00</td>\n",
       "      <td>...</td>\n",
       "      <td>NaN</td>\n",
       "      <td>NaN</td>\n",
       "      <td>NaN</td>\n",
       "      <td>NaN</td>\n",
       "      <td>NaN</td>\n",
       "      <td>NaN</td>\n",
       "      <td>NaN</td>\n",
       "      <td>NaN</td>\n",
       "      <td>NaN</td>\n",
       "      <td>False</td>\n",
       "    </tr>\n",
       "    <tr>\n",
       "      <th>2</th>\n",
       "      <td>14b58072-ae3b-491e-a8ca-207f0d27ccf6</td>\n",
       "      <td>2022-09-24 20:00:00-04:00</td>\n",
       "      <td>2022-09-24</td>\n",
       "      <td>20:00:00</td>\n",
       "      <td>NaN</td>\n",
       "      <td>NaN</td>\n",
       "      <td>NaN</td>\n",
       "      <td>NaN</td>\n",
       "      <td>2022-09-24 20:00:00-04:00</td>\n",
       "      <td>2022-09-24 23:59:59-04:00</td>\n",
       "      <td>...</td>\n",
       "      <td>NaN</td>\n",
       "      <td>NaN</td>\n",
       "      <td>NaN</td>\n",
       "      <td>NaN</td>\n",
       "      <td>NaN</td>\n",
       "      <td>NaN</td>\n",
       "      <td>NaN</td>\n",
       "      <td>NaN</td>\n",
       "      <td>NaN</td>\n",
       "      <td>False</td>\n",
       "    </tr>\n",
       "    <tr>\n",
       "      <th>3</th>\n",
       "      <td>14b58072-ae3b-491e-a8ca-207f0d27ccf6</td>\n",
       "      <td>2022-09-25 20:45:00-04:00</td>\n",
       "      <td>2022-09-25</td>\n",
       "      <td>20:45:00</td>\n",
       "      <td>NaN</td>\n",
       "      <td>NaN</td>\n",
       "      <td>NaN</td>\n",
       "      <td>NaN</td>\n",
       "      <td>NaN</td>\n",
       "      <td>NaN</td>\n",
       "      <td>...</td>\n",
       "      <td>NaN</td>\n",
       "      <td>2022-09-25 20:45:00-04:00</td>\n",
       "      <td>2022-09-25 21:00:00-04:00</td>\n",
       "      <td>0.25</td>\n",
       "      <td>3809.591619</td>\n",
       "      <td>NaN</td>\n",
       "      <td>NaN</td>\n",
       "      <td>NaN</td>\n",
       "      <td>NaN</td>\n",
       "      <td>False</td>\n",
       "    </tr>\n",
       "    <tr>\n",
       "      <th>4</th>\n",
       "      <td>14b58072-ae3b-491e-a8ca-207f0d27ccf6</td>\n",
       "      <td>2022-09-25 16:00:00-04:00</td>\n",
       "      <td>2022-09-25</td>\n",
       "      <td>16:00:00</td>\n",
       "      <td>NaN</td>\n",
       "      <td>NaN</td>\n",
       "      <td>NaN</td>\n",
       "      <td>NaN</td>\n",
       "      <td>NaN</td>\n",
       "      <td>NaN</td>\n",
       "      <td>...</td>\n",
       "      <td>NaN</td>\n",
       "      <td>2022-09-25 16:00:00-04:00</td>\n",
       "      <td>2022-09-25 20:30:00-04:00</td>\n",
       "      <td>4.50</td>\n",
       "      <td>6780.377390</td>\n",
       "      <td>NaN</td>\n",
       "      <td>NaN</td>\n",
       "      <td>NaN</td>\n",
       "      <td>NaN</td>\n",
       "      <td>False</td>\n",
       "    </tr>\n",
       "  </tbody>\n",
       "</table>\n",
       "<p>5 rows × 25 columns</p>\n",
       "</div>"
      ],
      "text/plain": [
       "                  ParticipantIdentifier                  date_time  \\\n",
       "0  099765a5-a9c9-4fff-b297-a39eab517267  2022-09-21 21:00:00-04:00   \n",
       "1  099765a5-a9c9-4fff-b297-a39eab517267  2022-09-22 19:30:00-04:00   \n",
       "2  14b58072-ae3b-491e-a8ca-207f0d27ccf6  2022-09-24 20:00:00-04:00   \n",
       "3  14b58072-ae3b-491e-a8ca-207f0d27ccf6  2022-09-25 20:45:00-04:00   \n",
       "4  14b58072-ae3b-491e-a8ca-207f0d27ccf6  2022-09-25 16:00:00-04:00   \n",
       "\n",
       "   trial_date passive_sk_visits_time  passive_sk_visits_gym_startTime  \\\n",
       "0  2022-09-21               21:00:00                              NaN   \n",
       "1  2022-09-22               19:30:00                              NaN   \n",
       "2  2022-09-24               20:00:00                              NaN   \n",
       "3  2022-09-25               20:45:00                              NaN   \n",
       "4  2022-09-25               16:00:00                              NaN   \n",
       "\n",
       "   passive_sk_visits_gym_endTime  passive_sk_visits_gym_elapsed  \\\n",
       "0                            NaN                            NaN   \n",
       "1                            NaN                            NaN   \n",
       "2                            NaN                            NaN   \n",
       "3                            NaN                            NaN   \n",
       "4                            NaN                            NaN   \n",
       "\n",
       "   passive_sk_visits_gym_distance passive_sk_visits_home_startTime  \\\n",
       "0                             NaN        2022-09-21 21:00:00-04:00   \n",
       "1                             NaN        2022-09-22 19:30:00-04:00   \n",
       "2                             NaN        2022-09-24 20:00:00-04:00   \n",
       "3                             NaN                              NaN   \n",
       "4                             NaN                              NaN   \n",
       "\n",
       "  passive_sk_visits_home_endTime  ...  passive_sk_visits_school_distance  \\\n",
       "0      2022-09-21 23:59:59-04:00  ...                                NaN   \n",
       "1      2022-09-22 23:59:59-04:00  ...                                NaN   \n",
       "2      2022-09-24 23:59:59-04:00  ...                                NaN   \n",
       "3                            NaN  ...                                NaN   \n",
       "4                            NaN  ...                                NaN   \n",
       "\n",
       "   passive_sk_visits_unknown_startTime passive_sk_visits_unknown_endTime  \\\n",
       "0                                  NaN                               NaN   \n",
       "1                                  NaN                               NaN   \n",
       "2                                  NaN                               NaN   \n",
       "3            2022-09-25 20:45:00-04:00         2022-09-25 21:00:00-04:00   \n",
       "4            2022-09-25 16:00:00-04:00         2022-09-25 20:30:00-04:00   \n",
       "\n",
       "  passive_sk_visits_unknown_elapsed  passive_sk_visits_unknown_distance  \\\n",
       "0                               NaN                                 NaN   \n",
       "1                               NaN                                 NaN   \n",
       "2                               NaN                                 NaN   \n",
       "3                              0.25                         3809.591619   \n",
       "4                              4.50                         6780.377390   \n",
       "\n",
       "   passive_sk_visits_work_startTime passive_sk_visits_work_endTime  \\\n",
       "0                               NaN                            NaN   \n",
       "1                               NaN                            NaN   \n",
       "2                               NaN                            NaN   \n",
       "3                               NaN                            NaN   \n",
       "4                               NaN                            NaN   \n",
       "\n",
       "  passive_sk_visits_work_elapsed  passive_sk_visits_work_distance  \\\n",
       "0                            NaN                              NaN   \n",
       "1                            NaN                              NaN   \n",
       "2                            NaN                              NaN   \n",
       "3                            NaN                              NaN   \n",
       "4                            NaN                              NaN   \n",
       "\n",
       "   passive_sk_visits_unknown_distance_flag  \n",
       "0                                    False  \n",
       "1                                    False  \n",
       "2                                    False  \n",
       "3                                    False  \n",
       "4                                    False  \n",
       "\n",
       "[5 rows x 25 columns]"
      ]
     },
     "execution_count": 314,
     "metadata": {},
     "output_type": "execute_result"
    }
   ],
   "source": [
    "sk_visits.head()"
   ]
  },
  {
   "cell_type": "code",
   "execution_count": 315,
   "metadata": {},
   "outputs": [
    {
     "data": {
      "text/html": [
       "<div>\n",
       "<style scoped>\n",
       "    .dataframe tbody tr th:only-of-type {\n",
       "        vertical-align: middle;\n",
       "    }\n",
       "\n",
       "    .dataframe tbody tr th {\n",
       "        vertical-align: top;\n",
       "    }\n",
       "\n",
       "    .dataframe thead th {\n",
       "        text-align: right;\n",
       "    }\n",
       "</style>\n",
       "<table border=\"1\" class=\"dataframe\">\n",
       "  <thead>\n",
       "    <tr style=\"text-align: right;\">\n",
       "      <th></th>\n",
       "      <th>ParticipantIdentifier</th>\n",
       "      <th>trial_date</th>\n",
       "      <th>passive_sk_visits_gym_distance</th>\n",
       "      <th>passive_sk_visits_home_distance</th>\n",
       "      <th>passive_sk_visits_school_distance</th>\n",
       "      <th>passive_sk_visits_unknown_distance</th>\n",
       "      <th>passive_sk_visits_work_distance</th>\n",
       "      <th>passive_sk_visits_gym_elapsed</th>\n",
       "      <th>passive_sk_visits_home_elapsed</th>\n",
       "      <th>passive_sk_visits_school_elapsed</th>\n",
       "      <th>passive_sk_visits_unknown_elapsed</th>\n",
       "      <th>passive_sk_visits_work_elapsed</th>\n",
       "      <th>passive_sk_visits_unknown_count</th>\n",
       "      <th>passive_sk_visits_unknown_distance_flag</th>\n",
       "    </tr>\n",
       "  </thead>\n",
       "  <tbody>\n",
       "    <tr>\n",
       "      <th>0</th>\n",
       "      <td>01801252-3a7e-4f5f-8b6d-49e8da3902f3</td>\n",
       "      <td>2022-09-24</td>\n",
       "      <td>NaN</td>\n",
       "      <td>0.0</td>\n",
       "      <td>NaN</td>\n",
       "      <td>NaN</td>\n",
       "      <td>NaN</td>\n",
       "      <td>0.0</td>\n",
       "      <td>4.499722</td>\n",
       "      <td>0.0</td>\n",
       "      <td>0.0</td>\n",
       "      <td>0.0</td>\n",
       "      <td>0</td>\n",
       "      <td>False</td>\n",
       "    </tr>\n",
       "    <tr>\n",
       "      <th>1</th>\n",
       "      <td>01801252-3a7e-4f5f-8b6d-49e8da3902f3</td>\n",
       "      <td>2022-09-25</td>\n",
       "      <td>NaN</td>\n",
       "      <td>0.0</td>\n",
       "      <td>NaN</td>\n",
       "      <td>NaN</td>\n",
       "      <td>NaN</td>\n",
       "      <td>0.0</td>\n",
       "      <td>18.750000</td>\n",
       "      <td>0.0</td>\n",
       "      <td>0.0</td>\n",
       "      <td>0.0</td>\n",
       "      <td>0</td>\n",
       "      <td>False</td>\n",
       "    </tr>\n",
       "  </tbody>\n",
       "</table>\n",
       "</div>"
      ],
      "text/plain": [
       "                  ParticipantIdentifier  trial_date  \\\n",
       "0  01801252-3a7e-4f5f-8b6d-49e8da3902f3  2022-09-24   \n",
       "1  01801252-3a7e-4f5f-8b6d-49e8da3902f3  2022-09-25   \n",
       "\n",
       "   passive_sk_visits_gym_distance  passive_sk_visits_home_distance  \\\n",
       "0                             NaN                              0.0   \n",
       "1                             NaN                              0.0   \n",
       "\n",
       "   passive_sk_visits_school_distance  passive_sk_visits_unknown_distance  \\\n",
       "0                                NaN                                 NaN   \n",
       "1                                NaN                                 NaN   \n",
       "\n",
       "   passive_sk_visits_work_distance  passive_sk_visits_gym_elapsed  \\\n",
       "0                              NaN                            0.0   \n",
       "1                              NaN                            0.0   \n",
       "\n",
       "   passive_sk_visits_home_elapsed  passive_sk_visits_school_elapsed  \\\n",
       "0                        4.499722                               0.0   \n",
       "1                       18.750000                               0.0   \n",
       "\n",
       "   passive_sk_visits_unknown_elapsed  passive_sk_visits_work_elapsed  \\\n",
       "0                                0.0                             0.0   \n",
       "1                                0.0                             0.0   \n",
       "\n",
       "   passive_sk_visits_unknown_count  passive_sk_visits_unknown_distance_flag  \n",
       "0                                0                                    False  \n",
       "1                                0                                    False  "
      ]
     },
     "execution_count": 315,
     "metadata": {},
     "output_type": "execute_result"
    }
   ],
   "source": [
    "# we lose a fair bit of information when aggregating since all the start and end times have to go and we no longer know how many \"unknown\" locations may have been visited\n",
    "\n",
    "# Split the column names based on their endings\n",
    "distance_columns = [col for col in sk_visits.columns if col.endswith('_distance')]\n",
    "elapsed_columns = [col for col in sk_visits.columns if col.endswith('_elapsed')]\n",
    "flag_columns = [col for col in sk_visits.columns if col.endswith('_flag')]\n",
    "unknown_start_time_column = 'passive_sk_visits_unknown_startTime' # This column exists as verified\n",
    "\n",
    "# Aggregate the dataframe\n",
    "sk_visits = sk_visits.groupby(['ParticipantIdentifier', 'trial_date']).agg({\n",
    "    **{col: 'mean' for col in distance_columns},\n",
    "    **{col: 'sum' for col in elapsed_columns},\n",
    "    unknown_start_time_column: 'count',\n",
    "    **{col: 'any' for col in flag_columns}\n",
    "}).reset_index()\n",
    "\n",
    "# rename column\n",
    "sk_visits = sk_visits.rename(columns={'passive_sk_visits_unknown_startTime': 'passive_sk_visits_unknown_count'})\n",
    "\n",
    "sk_visits.head(2)"
   ]
  },
  {
   "cell_type": "markdown",
   "metadata": {},
   "source": [
    "#### Join"
   ]
  },
  {
   "cell_type": "code",
   "execution_count": 316,
   "metadata": {},
   "outputs": [],
   "source": [
    "df_complete = df_complete.merge(sk_visits, how='left', on=['ParticipantIdentifier', 'trial_date'])"
   ]
  },
  {
   "cell_type": "markdown",
   "metadata": {},
   "source": [
    "### Telephony"
   ]
  },
  {
   "cell_type": "code",
   "execution_count": 317,
   "metadata": {},
   "outputs": [],
   "source": [
    "sk_telephony = pd.read_csv(save_path + 'run' + str(run_num) + '_sk_telephony_small.csv')"
   ]
  },
  {
   "cell_type": "code",
   "execution_count": 318,
   "metadata": {},
   "outputs": [
    {
     "data": {
      "text/html": [
       "<div>\n",
       "<style scoped>\n",
       "    .dataframe tbody tr th:only-of-type {\n",
       "        vertical-align: middle;\n",
       "    }\n",
       "\n",
       "    .dataframe tbody tr th {\n",
       "        vertical-align: top;\n",
       "    }\n",
       "\n",
       "    .dataframe thead th {\n",
       "        text-align: right;\n",
       "    }\n",
       "</style>\n",
       "<table border=\"1\" class=\"dataframe\">\n",
       "  <thead>\n",
       "    <tr style=\"text-align: right;\">\n",
       "      <th></th>\n",
       "      <th>ParticipantIdentifier</th>\n",
       "      <th>date_time</th>\n",
       "      <th>trial_date</th>\n",
       "      <th>passive_sk_telephony_time</th>\n",
       "      <th>passive_sk_telephony_speakingRate</th>\n",
       "      <th>passive_sk_telephony_averagePauseDuration</th>\n",
       "      <th>passive_sk_telephony_speechDuration</th>\n",
       "    </tr>\n",
       "  </thead>\n",
       "  <tbody>\n",
       "    <tr>\n",
       "      <th>0</th>\n",
       "      <td>099765a5-a9c9-4fff-b297-a39eab517267</td>\n",
       "      <td>2022-09-24 07:44:25-04:00</td>\n",
       "      <td>2022-09-24</td>\n",
       "      <td>07:44:25</td>\n",
       "      <td>258.064516</td>\n",
       "      <td>0.20</td>\n",
       "      <td>0.94</td>\n",
       "    </tr>\n",
       "    <tr>\n",
       "      <th>1</th>\n",
       "      <td>099765a5-a9c9-4fff-b297-a39eab517267</td>\n",
       "      <td>2022-09-24 07:44:25-04:00</td>\n",
       "      <td>2022-09-24</td>\n",
       "      <td>07:44:25</td>\n",
       "      <td>80.000000</td>\n",
       "      <td>0.39</td>\n",
       "      <td>2.25</td>\n",
       "    </tr>\n",
       "  </tbody>\n",
       "</table>\n",
       "</div>"
      ],
      "text/plain": [
       "                  ParticipantIdentifier                  date_time  \\\n",
       "0  099765a5-a9c9-4fff-b297-a39eab517267  2022-09-24 07:44:25-04:00   \n",
       "1  099765a5-a9c9-4fff-b297-a39eab517267  2022-09-24 07:44:25-04:00   \n",
       "\n",
       "   trial_date passive_sk_telephony_time  passive_sk_telephony_speakingRate  \\\n",
       "0  2022-09-24                  07:44:25                         258.064516   \n",
       "1  2022-09-24                  07:44:25                          80.000000   \n",
       "\n",
       "   passive_sk_telephony_averagePauseDuration  \\\n",
       "0                                       0.20   \n",
       "1                                       0.39   \n",
       "\n",
       "   passive_sk_telephony_speechDuration  \n",
       "0                                 0.94  \n",
       "1                                 2.25  "
      ]
     },
     "execution_count": 318,
     "metadata": {},
     "output_type": "execute_result"
    }
   ],
   "source": [
    "sk_telephony.head(2)"
   ]
  },
  {
   "cell_type": "markdown",
   "metadata": {},
   "source": [
    "#### Aggregate by Day"
   ]
  },
  {
   "cell_type": "code",
   "execution_count": 319,
   "metadata": {},
   "outputs": [
    {
     "data": {
      "text/html": [
       "<div>\n",
       "<style scoped>\n",
       "    .dataframe tbody tr th:only-of-type {\n",
       "        vertical-align: middle;\n",
       "    }\n",
       "\n",
       "    .dataframe tbody tr th {\n",
       "        vertical-align: top;\n",
       "    }\n",
       "\n",
       "    .dataframe thead th {\n",
       "        text-align: right;\n",
       "    }\n",
       "</style>\n",
       "<table border=\"1\" class=\"dataframe\">\n",
       "  <thead>\n",
       "    <tr style=\"text-align: right;\">\n",
       "      <th></th>\n",
       "      <th>ParticipantIdentifier</th>\n",
       "      <th>trial_date</th>\n",
       "      <th>passive_sk_telephony_speakingRate_mean</th>\n",
       "      <th>passive_sk_telephony_speakingRate_variance</th>\n",
       "      <th>passive_sk_telephony_averagePauseDuration_mean</th>\n",
       "      <th>passive_sk_telephony_averagePauseDuration_variance</th>\n",
       "      <th>passive_sk_telephony_speechDuration_sum</th>\n",
       "    </tr>\n",
       "  </thead>\n",
       "  <tbody>\n",
       "    <tr>\n",
       "      <th>0</th>\n",
       "      <td>01801252-3a7e-4f5f-8b6d-49e8da3902f3</td>\n",
       "      <td>2022-09-27</td>\n",
       "      <td>174.508127</td>\n",
       "      <td>0.000000</td>\n",
       "      <td>0.236061</td>\n",
       "      <td>0.000000</td>\n",
       "      <td>23.38</td>\n",
       "    </tr>\n",
       "    <tr>\n",
       "      <th>1</th>\n",
       "      <td>01801252-3a7e-4f5f-8b6d-49e8da3902f3</td>\n",
       "      <td>2022-09-28</td>\n",
       "      <td>185.112941</td>\n",
       "      <td>4150.094405</td>\n",
       "      <td>0.101709</td>\n",
       "      <td>0.195204</td>\n",
       "      <td>1150.41</td>\n",
       "    </tr>\n",
       "  </tbody>\n",
       "</table>\n",
       "</div>"
      ],
      "text/plain": [
       "                  ParticipantIdentifier  trial_date  \\\n",
       "0  01801252-3a7e-4f5f-8b6d-49e8da3902f3  2022-09-27   \n",
       "1  01801252-3a7e-4f5f-8b6d-49e8da3902f3  2022-09-28   \n",
       "\n",
       "   passive_sk_telephony_speakingRate_mean  \\\n",
       "0                              174.508127   \n",
       "1                              185.112941   \n",
       "\n",
       "   passive_sk_telephony_speakingRate_variance  \\\n",
       "0                                    0.000000   \n",
       "1                                 4150.094405   \n",
       "\n",
       "   passive_sk_telephony_averagePauseDuration_mean  \\\n",
       "0                                        0.236061   \n",
       "1                                        0.101709   \n",
       "\n",
       "   passive_sk_telephony_averagePauseDuration_variance  \\\n",
       "0                                           0.000000    \n",
       "1                                           0.195204    \n",
       "\n",
       "   passive_sk_telephony_speechDuration_sum  \n",
       "0                                    23.38  \n",
       "1                                  1150.41  "
      ]
     },
     "execution_count": 319,
     "metadata": {},
     "output_type": "execute_result"
    }
   ],
   "source": [
    "# Grouping the dataframe\n",
    "grouped_df = sk_telephony.groupby(['ParticipantIdentifier', 'trial_date'])\n",
    "\n",
    "# Calculating the required statistics\n",
    "sk_telephony = grouped_df.agg(\n",
    "    passive_sk_telephony_speakingRate_mean=('passive_sk_telephony_speakingRate', 'mean'),\n",
    "    passive_sk_telephony_speakingRate_variance=('passive_sk_telephony_speakingRate', 'var'),\n",
    "    passive_sk_telephony_averagePauseDuration_mean=('passive_sk_telephony_averagePauseDuration', 'mean'),\n",
    "    passive_sk_telephony_averagePauseDuration_variance=('passive_sk_telephony_averagePauseDuration', 'var'),\n",
    "    passive_sk_telephony_speechDuration_sum=('passive_sk_telephony_speechDuration', 'sum')\n",
    ").reset_index()\n",
    "\n",
    "\n",
    "sk_telephony.head(2)"
   ]
  },
  {
   "cell_type": "markdown",
   "metadata": {},
   "source": [
    "#### Join"
   ]
  },
  {
   "cell_type": "code",
   "execution_count": 320,
   "metadata": {},
   "outputs": [],
   "source": [
    "df_complete = df_complete.merge(sk_telephony, how='left', on=['ParticipantIdentifier', 'trial_date'])"
   ]
  },
  {
   "cell_type": "markdown",
   "metadata": {},
   "source": [
    "### Messages + Calls"
   ]
  },
  {
   "cell_type": "code",
   "execution_count": 321,
   "metadata": {},
   "outputs": [],
   "source": [
    "sk_messagesCalls = pd.read_csv(save_path + 'run' + str(run_num) + '_sk_messagesCalls.csv')"
   ]
  },
  {
   "cell_type": "code",
   "execution_count": 322,
   "metadata": {},
   "outputs": [
    {
     "data": {
      "text/html": [
       "<div>\n",
       "<style scoped>\n",
       "    .dataframe tbody tr th:only-of-type {\n",
       "        vertical-align: middle;\n",
       "    }\n",
       "\n",
       "    .dataframe tbody tr th {\n",
       "        vertical-align: top;\n",
       "    }\n",
       "\n",
       "    .dataframe thead th {\n",
       "        text-align: right;\n",
       "    }\n",
       "</style>\n",
       "<table border=\"1\" class=\"dataframe\">\n",
       "  <thead>\n",
       "    <tr style=\"text-align: right;\">\n",
       "      <th></th>\n",
       "      <th>ParticipantIdentifier</th>\n",
       "      <th>date_time</th>\n",
       "      <th>trial_date</th>\n",
       "      <th>passive_sk_messageCall_time</th>\n",
       "      <th>passive_sk_messageCall_timespan</th>\n",
       "      <th>passive_sk_messages_incoming</th>\n",
       "      <th>passive_sk_messages_outgoing</th>\n",
       "      <th>passive_sk_messages_uniqueContacts</th>\n",
       "      <th>passive_sk_calls_incoming</th>\n",
       "      <th>passive_sk_calls_outgoing</th>\n",
       "      <th>passive_sk_calls_duration</th>\n",
       "      <th>passive_sk_calls_uniqueContacts</th>\n",
       "    </tr>\n",
       "  </thead>\n",
       "  <tbody>\n",
       "    <tr>\n",
       "      <th>0</th>\n",
       "      <td>099765a5-a9c9-4fff-b297-a39eab517267</td>\n",
       "      <td>2022-09-25 23:59:59-04:00</td>\n",
       "      <td>2022-09-25</td>\n",
       "      <td>23:59:59</td>\n",
       "      <td>86400</td>\n",
       "      <td>NaN</td>\n",
       "      <td>NaN</td>\n",
       "      <td>NaN</td>\n",
       "      <td>6.0</td>\n",
       "      <td>6.0</td>\n",
       "      <td>630.833643</td>\n",
       "      <td>5.0</td>\n",
       "    </tr>\n",
       "    <tr>\n",
       "      <th>1</th>\n",
       "      <td>099765a5-a9c9-4fff-b297-a39eab517267</td>\n",
       "      <td>2022-09-22 23:59:58-04:00</td>\n",
       "      <td>2022-09-22</td>\n",
       "      <td>23:59:58</td>\n",
       "      <td>86400</td>\n",
       "      <td>NaN</td>\n",
       "      <td>NaN</td>\n",
       "      <td>NaN</td>\n",
       "      <td>4.0</td>\n",
       "      <td>4.0</td>\n",
       "      <td>346.256107</td>\n",
       "      <td>3.0</td>\n",
       "    </tr>\n",
       "  </tbody>\n",
       "</table>\n",
       "</div>"
      ],
      "text/plain": [
       "                  ParticipantIdentifier                  date_time  \\\n",
       "0  099765a5-a9c9-4fff-b297-a39eab517267  2022-09-25 23:59:59-04:00   \n",
       "1  099765a5-a9c9-4fff-b297-a39eab517267  2022-09-22 23:59:58-04:00   \n",
       "\n",
       "   trial_date passive_sk_messageCall_time  passive_sk_messageCall_timespan  \\\n",
       "0  2022-09-25                    23:59:59                            86400   \n",
       "1  2022-09-22                    23:59:58                            86400   \n",
       "\n",
       "   passive_sk_messages_incoming  passive_sk_messages_outgoing  \\\n",
       "0                           NaN                           NaN   \n",
       "1                           NaN                           NaN   \n",
       "\n",
       "   passive_sk_messages_uniqueContacts  passive_sk_calls_incoming  \\\n",
       "0                                 NaN                        6.0   \n",
       "1                                 NaN                        4.0   \n",
       "\n",
       "   passive_sk_calls_outgoing  passive_sk_calls_duration  \\\n",
       "0                        6.0                 630.833643   \n",
       "1                        4.0                 346.256107   \n",
       "\n",
       "   passive_sk_calls_uniqueContacts  \n",
       "0                              5.0  \n",
       "1                              3.0  "
      ]
     },
     "execution_count": 322,
     "metadata": {},
     "output_type": "execute_result"
    }
   ],
   "source": [
    "sk_messagesCalls.head(2)"
   ]
  },
  {
   "cell_type": "markdown",
   "metadata": {},
   "source": [
    "#### Aggregate by Day"
   ]
  },
  {
   "cell_type": "code",
   "execution_count": 323,
   "metadata": {},
   "outputs": [
    {
     "data": {
      "text/html": [
       "<div>\n",
       "<style scoped>\n",
       "    .dataframe tbody tr th:only-of-type {\n",
       "        vertical-align: middle;\n",
       "    }\n",
       "\n",
       "    .dataframe tbody tr th {\n",
       "        vertical-align: top;\n",
       "    }\n",
       "\n",
       "    .dataframe thead th {\n",
       "        text-align: right;\n",
       "    }\n",
       "</style>\n",
       "<table border=\"1\" class=\"dataframe\">\n",
       "  <thead>\n",
       "    <tr style=\"text-align: right;\">\n",
       "      <th></th>\n",
       "      <th>ParticipantIdentifier</th>\n",
       "      <th>trial_date</th>\n",
       "      <th>passive_sk_messages_incoming</th>\n",
       "      <th>passive_sk_messages_outgoing</th>\n",
       "      <th>passive_sk_messages_uniqueContacts</th>\n",
       "      <th>passive_sk_calls_incoming</th>\n",
       "      <th>passive_sk_calls_outgoing</th>\n",
       "      <th>passive_sk_calls_duration</th>\n",
       "      <th>passive_sk_calls_uniqueContacts</th>\n",
       "    </tr>\n",
       "  </thead>\n",
       "  <tbody>\n",
       "    <tr>\n",
       "      <th>0</th>\n",
       "      <td>01801252-3a7e-4f5f-8b6d-49e8da3902f3</td>\n",
       "      <td>2022-09-27</td>\n",
       "      <td>49.0</td>\n",
       "      <td>4.0</td>\n",
       "      <td>4.0</td>\n",
       "      <td>0.0</td>\n",
       "      <td>0.0</td>\n",
       "      <td>0.0</td>\n",
       "      <td>NaN</td>\n",
       "    </tr>\n",
       "    <tr>\n",
       "      <th>1</th>\n",
       "      <td>01801252-3a7e-4f5f-8b6d-49e8da3902f3</td>\n",
       "      <td>2022-09-28</td>\n",
       "      <td>66.0</td>\n",
       "      <td>44.0</td>\n",
       "      <td>10.0</td>\n",
       "      <td>0.0</td>\n",
       "      <td>1.0</td>\n",
       "      <td>0.0</td>\n",
       "      <td>1.0</td>\n",
       "    </tr>\n",
       "  </tbody>\n",
       "</table>\n",
       "</div>"
      ],
      "text/plain": [
       "                  ParticipantIdentifier  trial_date  \\\n",
       "0  01801252-3a7e-4f5f-8b6d-49e8da3902f3  2022-09-27   \n",
       "1  01801252-3a7e-4f5f-8b6d-49e8da3902f3  2022-09-28   \n",
       "\n",
       "   passive_sk_messages_incoming  passive_sk_messages_outgoing  \\\n",
       "0                          49.0                           4.0   \n",
       "1                          66.0                          44.0   \n",
       "\n",
       "   passive_sk_messages_uniqueContacts  passive_sk_calls_incoming  \\\n",
       "0                                 4.0                        0.0   \n",
       "1                                10.0                        0.0   \n",
       "\n",
       "   passive_sk_calls_outgoing  passive_sk_calls_duration  \\\n",
       "0                        0.0                        0.0   \n",
       "1                        1.0                        0.0   \n",
       "\n",
       "   passive_sk_calls_uniqueContacts  \n",
       "0                              NaN  \n",
       "1                              1.0  "
      ]
     },
     "execution_count": 323,
     "metadata": {},
     "output_type": "execute_result"
    }
   ],
   "source": [
    "# Dropping unnecessary columns\n",
    "columns_to_drop = ['date_time', 'passive_sk_messageCall_time', 'passive_sk_messageCall_timespan']\n",
    "sk_messagesCalls.drop(columns=columns_to_drop, inplace=True)\n",
    "\n",
    "\n",
    "# Grouping the dataframe\n",
    "grouped_message_call_df = sk_messagesCalls.groupby(['ParticipantIdentifier', 'trial_date'])\n",
    "\n",
    "# Defining a custom aggregation function\n",
    "def custom_agg(series):\n",
    "    if series.name.endswith('_uniqueContacts'):\n",
    "        return series.max()\n",
    "    else:\n",
    "        return series.sum()\n",
    "\n",
    "# Applying the custom aggregation\n",
    "sk_messagesCalls = grouped_message_call_df.agg(custom_agg).reset_index()\n",
    "sk_messagesCalls.head(2)"
   ]
  },
  {
   "cell_type": "markdown",
   "metadata": {},
   "source": [
    "#### Join"
   ]
  },
  {
   "cell_type": "code",
   "execution_count": 324,
   "metadata": {},
   "outputs": [],
   "source": [
    "df_complete = df_complete.merge(sk_messagesCalls, how='left', on=['ParticipantIdentifier', 'trial_date'])"
   ]
  },
  {
   "cell_type": "markdown",
   "metadata": {},
   "source": [
    "# Save Full"
   ]
  },
  {
   "cell_type": "code",
   "execution_count": 326,
   "metadata": {},
   "outputs": [],
   "source": [
    "# consolidate df to make it contiguous in memory\n",
    "df_complete = df_complete.copy()"
   ]
  },
  {
   "cell_type": "code",
   "execution_count": 327,
   "metadata": {},
   "outputs": [
    {
     "data": {
      "text/plain": [
       "(7820, 327)"
      ]
     },
     "execution_count": 327,
     "metadata": {},
     "output_type": "execute_result"
    }
   ],
   "source": [
    "df_complete.shape"
   ]
  },
  {
   "cell_type": "code",
   "execution_count": 328,
   "metadata": {},
   "outputs": [],
   "source": [
    "# save to csv\n",
    "if run_num ==1:\n",
    "    # run 1\n",
    "    # Label cohort\n",
    "    df_complete['cohort'] = 'cohort 1'\n",
    "    df_complete.to_csv(save_path + 'run1_full_daily_df.csv', index=False)\n",
    "if run_num ==2:\n",
    "    # run 2\n",
    "    # Label cohort\n",
    "    df_complete['cohort'] = 'cohort 2'\n",
    "    df_complete.to_csv(save_path + 'run2_full_daily_df.csv', index=False)"
   ]
  },
  {
   "cell_type": "markdown",
   "metadata": {},
   "source": [
    "# Grades"
   ]
  },
  {
   "cell_type": "code",
   "execution_count": 341,
   "metadata": {},
   "outputs": [],
   "source": [
    "run_num = 2"
   ]
  },
  {
   "cell_type": "code",
   "execution_count": 342,
   "metadata": {},
   "outputs": [],
   "source": [
    "# Function to replace 'CR' with NaN\n",
    "def replace_cr_with_nan(df):\n",
    "    return df.replace('CR', np.nan)\n",
    "\n",
    "# Function to calculate row-wise mean, ignoring NaN values\n",
    "def rowwise_mean(df):\n",
    "    return df.mean(axis=1, skipna=True)\n",
    "\n",
    "if run_num == 1:\n",
    "    # 1st Cohort\n",
    "    cohort1 = pd.read_csv('/Users/djw/Documents/pCloud_synced/Academics/Projects/2020_thesis/thesis_experiments/3_experiments/3_3_experience_sampling/3_3_1_raw_data/run_1/run1_subjects.csv')\n",
    "        \n",
    "    # Reading CSV file\n",
    "    grades1 = pd.read_csv('/Users/djw/Documents/pCloud_synced/Academics/Projects/2020_thesis/thesis_experiments/3_experiments/3_3_experience_sampling/3_3_2_processed_data/run_1/run1_grades.csv')  # Change path as needed\n",
    "    grades1 = grades1[['ParticipantIdentifier', 'grades_avg']]\n",
    "\n",
    "    # Merge with cohort1 data (assuming cohort1 is a DataFrame you have)\n",
    "    grades1 = pd.merge(grades1, cohort1, on='ParticipantIdentifier')\n",
    "    grades1 = grades1[['Student Number', 'grades_avg', 'ParticipantIdentifier']]\n",
    "\n",
    "    # Drop rows with NA in the 'Student.Number' column\n",
    "    grades1.dropna(subset=['Student Number'], inplace=True)\n",
    "\n",
    "    # Label cohort\n",
    "    grades1['cohort'] = 'cohort 1'\n",
    "\n",
    "    # Convert grade avg\n",
    "    grades1['grades_avg'] *= 100\n",
    "\n",
    "elif run_num == 2:\n",
    "    # 2nd Cohort\n",
    "    cohort2 = pd.read_csv('/Users/djw/Documents/pCloud_synced/Academics/Projects/2020_thesis/thesis_experiments/3_experiments/3_3_experience_sampling/3_3_1_raw_data/run_2/run2_subjects.csv')\n",
    "    \n",
    "    # Reading Excel file\n",
    "    grades2 = pd.read_excel('/Users/djw/Documents/pCloud_synced/Academics/Projects/2020_thesis/thesis_experiments/3_experiments/3_3_experience_sampling/3_3_1_raw_data/run_2/grades/ACADEMIC_ACTIVITIES_230509.xlsx')  # Change path as needed\n",
    "\n",
    "    # Convert to wide format\n",
    "    grades2 = grades2.pivot(index='PERSON_ID', columns='ACAD_ACT_CD', values='ENTERED_MARK')\n",
    "\n",
    "    # Replace 'CR' with NaN and convert to numeric\n",
    "    grades2 = replace_cr_with_nan(grades2).apply(pd.to_numeric, errors='coerce')\n",
    "\n",
    "    # Calculate row average, ignoring NAs\n",
    "    grades2['grades_avg'] = rowwise_mean(grades2)\n",
    "\n",
    "    # Add Student Number\n",
    "    grades2['Student Number'] = grades2.index\n",
    "\n",
    "    # Select columns\n",
    "    grades2 = grades2[['Student Number', 'grades_avg']]\n",
    "\n",
    "    # Merge with cohort2 data (assuming cohort2 is a DataFrame you have)\n",
    "    grades2 = pd.merge(grades2, cohort2[['Student Number', 'ParticipantIdentifier']], on='Student Number')\n",
    "\n",
    "    # Drop rows with NA in the 'Student.Number' column\n",
    "    grades2.dropna(subset=['Student Number'], inplace=True)"
   ]
  },
  {
   "cell_type": "markdown",
   "metadata": {},
   "source": [
    "## Save"
   ]
  },
  {
   "cell_type": "code",
   "execution_count": 346,
   "metadata": {},
   "outputs": [],
   "source": [
    "# save to csv\n",
    "if run_num ==1:\n",
    "    # run 1\n",
    "    grades1 = grades1[['ParticipantIdentifier', 'grades_avg']]\n",
    "    # Label cohort\n",
    "    grades1['cohort'] = 'cohort 1'\n",
    "    grades1.to_csv(save_path + 'run1_grades_df.csv', index=False)\n",
    "if run_num ==2:\n",
    "    # run 2\n",
    "    grades2 = grades2[['ParticipantIdentifier', 'grades_avg']]\n",
    "    # Label cohort\n",
    "    grades2['cohort'] = 'cohort 2'\n",
    "    grades2.to_csv(save_path + 'run2_grades_df.csv', index=False)"
   ]
  },
  {
   "cell_type": "code",
   "execution_count": null,
   "metadata": {},
   "outputs": [],
   "source": []
  }
 ],
 "metadata": {
  "kernelspec": {
   "display_name": ".venv",
   "language": "python",
   "name": "python3"
  },
  "language_info": {
   "codemirror_mode": {
    "name": "ipython",
    "version": 3
   },
   "file_extension": ".py",
   "mimetype": "text/x-python",
   "name": "python",
   "nbconvert_exporter": "python",
   "pygments_lexer": "ipython3",
   "version": "3.11.4"
  },
  "orig_nbformat": 4
 },
 "nbformat": 4,
 "nbformat_minor": 2
}
