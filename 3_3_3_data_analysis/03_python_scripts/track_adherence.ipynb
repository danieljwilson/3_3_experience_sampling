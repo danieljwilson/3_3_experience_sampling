{
 "cells": [
  {
   "cell_type": "markdown",
   "metadata": {},
   "source": [
    "# Imports"
   ]
  },
  {
   "cell_type": "markdown",
   "metadata": {},
   "source": [
    "## Libraries"
   ]
  },
  {
   "cell_type": "code",
   "execution_count": 1,
   "metadata": {},
   "outputs": [],
   "source": [
    "import pandas as pd\n",
    "import numpy as np\n",
    "import pickle"
   ]
  },
  {
   "cell_type": "markdown",
   "metadata": {},
   "source": [
    "## Import Data"
   ]
  },
  {
   "cell_type": "code",
   "execution_count": 6,
   "metadata": {},
   "outputs": [],
   "source": [
    "save_path = \"/Users/djw/Documents/pCloud_synced/Academics/Projects/2020_thesis/thesis_experiments/3_experiments/3_3_experience_sampling/3_3_2_processed_data/\"\n",
    "\n",
    "# in_file = open(save_path + \"pilot_1_data.pkl\", \"rb\")\n",
    "# app_data = pickle.load(in_file)"
   ]
  },
  {
   "cell_type": "code",
   "execution_count": 3,
   "metadata": {},
   "outputs": [],
   "source": [
    "import zipfile\n",
    "import glob\n",
    "import os\n",
    "import pandas as pd\n",
    "import pickle"
   ]
  },
  {
   "cell_type": "code",
   "execution_count": 13,
   "metadata": {},
   "outputs": [],
   "source": [
    "# path to RKStudio exported data\n",
    "file_path = \"/Users/djw/Documents/pCloud_synced/Academics/Projects/2020_thesis/thesis_experiments/3_experiments/3_3_experience_sampling/3_3_1_raw_data/pilot_1/\""
   ]
  },
  {
   "cell_type": "markdown",
   "metadata": {},
   "source": [
    "Something wierd happened where we started getting additional files named like:\n",
    "\n",
    "`SurveyData/01801252-3a7e-4f5f-8b6d-49e8da3902f3/0b3181d1-4bb8-eb11-aaaa-0afb9334277d/reactionTime/DeviceMotion`\n",
    "\n",
    "These seemed perhaps to be `.json`? For example:\n",
    "\n",
    "```\n",
    "Index(['{\"items\":[{\"attitude\":{\"y\":-0.015030415521581996032',\n",
    "       'w:0.9316986828576702464', 'z:0.00000000000000011102230246251565056',\n",
    "       'x:0.362920855519224064}', 'timestamp:3568168.594124125184',\n",
    "       'rotationRate:{\"x\":0.03503423929214477312', 'y:-0.04006228968501091328',\n",
    "       'z:0.0013012606650590896128}',\n",
    "       'userAcceleration:{\"x\":-0.002143738791346550016',\n",
    "       'y:-0.0015905499458312988672',\n",
    "       ...\n",
    "       'z:-0.4993825852870940672}',\n",
    "       'userAcceleration:{\"x\":-0.2922154068946837504',\n",
    "       'y:0.2403054237365722112', 'z:-0.389307737350464}',\n",
    "       'gravity:{\"x\":0.09684188663959502848', 'y:-0.7316384911537170432',\n",
    "       'z:-0.6747791767120361472}', 'magneticField:{\"y\":0.884', 'z:0.885',\n",
    "       'x:0.884'],\n",
    "      dtype='object', length=30590)\n",
    "```\n",
    "\n",
    "I am assuming this is an error and there isn't anything meaningful here (we already have a score for the **Reaction Time** task), so am removing from the `app_data` dataframe."
   ]
  },
  {
   "cell_type": "code",
   "execution_count": 17,
   "metadata": {},
   "outputs": [],
   "source": [
    " data_files = glob.glob(f'{file_path}/*.zip')"
   ]
  },
  {
   "cell_type": "code",
   "execution_count": 19,
   "metadata": {},
   "outputs": [
    {
     "data": {
      "text/plain": [
       "['/Users/djw/Documents/pCloud_synced/Academics/Projects/2020_thesis/thesis_experiments/3_experiments/3_3_experience_sampling/3_3_1_raw_data/pilot_1/RK.8D1DBFAD.DJW Thesis_20220822-20220823.zip',\n",
       " '/Users/djw/Documents/pCloud_synced/Academics/Projects/2020_thesis/thesis_experiments/3_experiments/3_3_experience_sampling/3_3_1_raw_data/pilot_1/RK.8D1DBFAD.DJW Thesis_20220821-20220822.zip',\n",
       " '/Users/djw/Documents/pCloud_synced/Academics/Projects/2020_thesis/thesis_experiments/3_experiments/3_3_experience_sampling/3_3_1_raw_data/pilot_1/RK.8D1DBFAD.DJW Thesis_20220819-20220820.zip',\n",
       " '/Users/djw/Documents/pCloud_synced/Academics/Projects/2020_thesis/thesis_experiments/3_experiments/3_3_experience_sampling/3_3_1_raw_data/pilot_1/RK.8D1DBFAD.DJW Thesis_20220818-20220819.zip',\n",
       " '/Users/djw/Documents/pCloud_synced/Academics/Projects/2020_thesis/thesis_experiments/3_experiments/3_3_experience_sampling/3_3_1_raw_data/pilot_1/RK.8D1DBFAD.DJW Thesis_20220816-20220817.zip',\n",
       " '/Users/djw/Documents/pCloud_synced/Academics/Projects/2020_thesis/thesis_experiments/3_experiments/3_3_experience_sampling/3_3_1_raw_data/pilot_1/RK.8D1DBFAD.DJW Thesis_20220815-20220816.zip',\n",
       " '/Users/djw/Documents/pCloud_synced/Academics/Projects/2020_thesis/thesis_experiments/3_experiments/3_3_experience_sampling/3_3_1_raw_data/pilot_1/RK.8D1DBFAD.DJW Thesis_20220814-20220815.zip',\n",
       " '/Users/djw/Documents/pCloud_synced/Academics/Projects/2020_thesis/thesis_experiments/3_experiments/3_3_experience_sampling/3_3_1_raw_data/pilot_1/RK.8D1DBFAD.DJW Thesis_20220813-20220814.zip',\n",
       " '/Users/djw/Documents/pCloud_synced/Academics/Projects/2020_thesis/thesis_experiments/3_experiments/3_3_experience_sampling/3_3_1_raw_data/pilot_1/RK.8D1DBFAD.DJW Thesis_20220812-20220813.zip']"
      ]
     },
     "execution_count": 19,
     "metadata": {},
     "output_type": "execute_result"
    }
   ],
   "source": [
    "data_files.sort(reverse=True)\n",
    "data_files"
   ]
  },
  {
   "cell_type": "code",
   "execution_count": 33,
   "metadata": {},
   "outputs": [],
   "source": [
    "zf = zipfile.ZipFile(data_files[0])"
   ]
  },
  {
   "cell_type": "code",
   "execution_count": 98,
   "metadata": {},
   "outputs": [
    {
     "data": {
      "text/plain": [
       "['SurveyTasks_20220822-20220823.csv', 'StudyParticipants_20220823.csv']"
      ]
     },
     "execution_count": 98,
     "metadata": {},
     "output_type": "execute_result"
    }
   ],
   "source": [
    "zf.namelist()[1:3]"
   ]
  },
  {
   "cell_type": "code",
   "execution_count": 116,
   "metadata": {},
   "outputs": [],
   "source": [
    "file = zf.namelist()[2]\n",
    "\n",
    "subjects = pd.read_csv(zf.open(file), parse_dates=True, low_memory=False)\n",
    "# clean up filename to use as key\n",
    "sep = '_'\n",
    "file = file.replace('.', '_')\n",
    "file = file.split(sep,1)[0]"
   ]
  },
  {
   "cell_type": "code",
   "execution_count": 117,
   "metadata": {},
   "outputs": [
    {
     "data": {
      "text/html": [
       "<div>\n",
       "<style scoped>\n",
       "    .dataframe tbody tr th:only-of-type {\n",
       "        vertical-align: middle;\n",
       "    }\n",
       "\n",
       "    .dataframe tbody tr th {\n",
       "        vertical-align: top;\n",
       "    }\n",
       "\n",
       "    .dataframe thead th {\n",
       "        text-align: right;\n",
       "    }\n",
       "</style>\n",
       "<table border=\"1\" class=\"dataframe\">\n",
       "  <thead>\n",
       "    <tr style=\"text-align: right;\">\n",
       "      <th></th>\n",
       "      <th>ParticipantIdentifier</th>\n",
       "      <th>GlobalKey</th>\n",
       "      <th>EmailAddress</th>\n",
       "      <th>FirstName</th>\n",
       "      <th>MiddleName</th>\n",
       "      <th>LastName</th>\n",
       "      <th>Gender</th>\n",
       "      <th>DateOfBirth</th>\n",
       "      <th>SecondaryIdentifier</th>\n",
       "      <th>PostalCode</th>\n",
       "      <th>EnrollmentDate</th>\n",
       "      <th>EventDates</th>\n",
       "      <th>CustomFields</th>\n",
       "      <th>UtcOffset</th>\n",
       "      <th>TimeZone</th>\n",
       "      <th>PreferredLanguage</th>\n",
       "    </tr>\n",
       "  </thead>\n",
       "  <tbody>\n",
       "    <tr>\n",
       "      <th>0</th>\n",
       "      <td>48396d3f-058f-4526-b7e7-b260c92774ea</td>\n",
       "      <td>1853e799-3e5a-4953-89c3-292e8e952472</td>\n",
       "      <td>sabrinasw.chan@mail.utoronto.ca</td>\n",
       "      <td>Sabrina</td>\n",
       "      <td>NaN</td>\n",
       "      <td>Chan</td>\n",
       "      <td>F</td>\n",
       "      <td>2000-06-05</td>\n",
       "      <td>recvK4dCyWqdYhMyf</td>\n",
       "      <td>NaN</td>\n",
       "      <td>2022-08-11T23:25:55Z</td>\n",
       "      <td>{}</td>\n",
       "      <td>{\"exp_version\":\"app_pilot_1\",\"goal_1\":\"Work\",\"...</td>\n",
       "      <td>-04:00:00</td>\n",
       "      <td>America/Toronto</td>\n",
       "      <td>NaN</td>\n",
       "    </tr>\n",
       "    <tr>\n",
       "      <th>1</th>\n",
       "      <td>90a04229-610a-4d4f-a5c9-78b388065cfb</td>\n",
       "      <td>41c10c57-eb07-49c3-aea7-2777ad8b39e5</td>\n",
       "      <td>shobikasathiaseelan@icloud.com</td>\n",
       "      <td>Shobi</td>\n",
       "      <td>NaN</td>\n",
       "      <td>Seelan</td>\n",
       "      <td>NaN</td>\n",
       "      <td>2000-02-24</td>\n",
       "      <td>rec2lh6RxBej33YvS</td>\n",
       "      <td>NaN</td>\n",
       "      <td>2022-08-16T22:40:51Z</td>\n",
       "      <td>{}</td>\n",
       "      <td>{\"exp_version\":\"app_pilot_1\",\"goal_1\":\"Mental ...</td>\n",
       "      <td>-04:00:00</td>\n",
       "      <td>America/Toronto</td>\n",
       "      <td>NaN</td>\n",
       "    </tr>\n",
       "    <tr>\n",
       "      <th>2</th>\n",
       "      <td>5408f8eb-b5f6-4334-a9af-f0244b3f4432</td>\n",
       "      <td>3840bfa2-3dfb-48e3-8921-d8c6432ed605</td>\n",
       "      <td>miraleighdhaliwal@gmail.com</td>\n",
       "      <td>Mira</td>\n",
       "      <td>NaN</td>\n",
       "      <td>Dhaliwal</td>\n",
       "      <td>F</td>\n",
       "      <td>1997-10-04</td>\n",
       "      <td>recLZDlVSRjqbZVIU</td>\n",
       "      <td>NaN</td>\n",
       "      <td>2022-08-16T16:15:15Z</td>\n",
       "      <td>{}</td>\n",
       "      <td>{\"exp_version\":\"app_pilot_1\",\"goal_1\":\"Workout...</td>\n",
       "      <td>-04:00:00</td>\n",
       "      <td>America/Toronto</td>\n",
       "      <td>NaN</td>\n",
       "    </tr>\n",
       "    <tr>\n",
       "      <th>3</th>\n",
       "      <td>01801252-3a7e-4f5f-8b6d-49e8da3902f3</td>\n",
       "      <td>598d6735-9465-eb11-aaa4-0afb9334277d</td>\n",
       "      <td>dw@danieljwilson.com</td>\n",
       "      <td>Daniel</td>\n",
       "      <td>J</td>\n",
       "      <td>Wilson</td>\n",
       "      <td>M</td>\n",
       "      <td>NaN</td>\n",
       "      <td>NaN</td>\n",
       "      <td>NaN</td>\n",
       "      <td>2021-02-02T20:23:01Z</td>\n",
       "      <td>{\"date_test\":\"\"}</td>\n",
       "      <td>{\"date_test\":\"\",\"exp_version\":\"djw\",\"goal_1\":\"...</td>\n",
       "      <td>-07:00:00</td>\n",
       "      <td>America/Vancouver</td>\n",
       "      <td>en</td>\n",
       "    </tr>\n",
       "    <tr>\n",
       "      <th>4</th>\n",
       "      <td>d9139666-0f9d-42b3-9ec4-c8d9d0a69aa8</td>\n",
       "      <td>faba0758-e75a-4592-8829-de44d18d0c0c</td>\n",
       "      <td>michaelreed1615@gmail.com</td>\n",
       "      <td>Michael</td>\n",
       "      <td>NaN</td>\n",
       "      <td>Reed</td>\n",
       "      <td>M</td>\n",
       "      <td>1995-03-04</td>\n",
       "      <td>recMMt1MJtVg8dSZz</td>\n",
       "      <td>NaN</td>\n",
       "      <td>2022-08-15T22:41:34Z</td>\n",
       "      <td>{}</td>\n",
       "      <td>{\"exp_version\":\"app_pilot_1\",\"goal_1\":\"Excerci...</td>\n",
       "      <td>-04:00:00</td>\n",
       "      <td>America/New_York</td>\n",
       "      <td>NaN</td>\n",
       "    </tr>\n",
       "  </tbody>\n",
       "</table>\n",
       "</div>"
      ],
      "text/plain": [
       "                  ParticipantIdentifier                             GlobalKey  \\\n",
       "0  48396d3f-058f-4526-b7e7-b260c92774ea  1853e799-3e5a-4953-89c3-292e8e952472   \n",
       "1  90a04229-610a-4d4f-a5c9-78b388065cfb  41c10c57-eb07-49c3-aea7-2777ad8b39e5   \n",
       "2  5408f8eb-b5f6-4334-a9af-f0244b3f4432  3840bfa2-3dfb-48e3-8921-d8c6432ed605   \n",
       "3  01801252-3a7e-4f5f-8b6d-49e8da3902f3  598d6735-9465-eb11-aaa4-0afb9334277d   \n",
       "4  d9139666-0f9d-42b3-9ec4-c8d9d0a69aa8  faba0758-e75a-4592-8829-de44d18d0c0c   \n",
       "\n",
       "                      EmailAddress FirstName MiddleName  LastName Gender  \\\n",
       "0  sabrinasw.chan@mail.utoronto.ca   Sabrina        NaN      Chan      F   \n",
       "1   shobikasathiaseelan@icloud.com     Shobi        NaN    Seelan    NaN   \n",
       "2      miraleighdhaliwal@gmail.com      Mira        NaN  Dhaliwal      F   \n",
       "3             dw@danieljwilson.com    Daniel          J    Wilson      M   \n",
       "4        michaelreed1615@gmail.com   Michael        NaN      Reed      M   \n",
       "\n",
       "  DateOfBirth SecondaryIdentifier  PostalCode        EnrollmentDate  \\\n",
       "0  2000-06-05   recvK4dCyWqdYhMyf         NaN  2022-08-11T23:25:55Z   \n",
       "1  2000-02-24   rec2lh6RxBej33YvS         NaN  2022-08-16T22:40:51Z   \n",
       "2  1997-10-04   recLZDlVSRjqbZVIU         NaN  2022-08-16T16:15:15Z   \n",
       "3         NaN                 NaN         NaN  2021-02-02T20:23:01Z   \n",
       "4  1995-03-04   recMMt1MJtVg8dSZz         NaN  2022-08-15T22:41:34Z   \n",
       "\n",
       "         EventDates                                       CustomFields  \\\n",
       "0                {}  {\"exp_version\":\"app_pilot_1\",\"goal_1\":\"Work\",\"...   \n",
       "1                {}  {\"exp_version\":\"app_pilot_1\",\"goal_1\":\"Mental ...   \n",
       "2                {}  {\"exp_version\":\"app_pilot_1\",\"goal_1\":\"Workout...   \n",
       "3  {\"date_test\":\"\"}  {\"date_test\":\"\",\"exp_version\":\"djw\",\"goal_1\":\"...   \n",
       "4                {}  {\"exp_version\":\"app_pilot_1\",\"goal_1\":\"Excerci...   \n",
       "\n",
       "   UtcOffset           TimeZone PreferredLanguage  \n",
       "0  -04:00:00    America/Toronto               NaN  \n",
       "1  -04:00:00    America/Toronto               NaN  \n",
       "2  -04:00:00    America/Toronto               NaN  \n",
       "3  -07:00:00  America/Vancouver                en  \n",
       "4  -04:00:00   America/New_York               NaN  "
      ]
     },
     "execution_count": 117,
     "metadata": {},
     "output_type": "execute_result"
    }
   ],
   "source": [
    "subjects.head()"
   ]
  },
  {
   "cell_type": "code",
   "execution_count": 118,
   "metadata": {},
   "outputs": [],
   "source": [
    "# extract exp_version\n",
    "subjects['ExpVersion'] = subjects['CustomFields'].apply(json.loads)\n",
    "subjects = subjects.assign(exp_version=lambda x: x.ExpVersion.apply(lambda x: x['exp_version']))"
   ]
  },
  {
   "cell_type": "code",
   "execution_count": 119,
   "metadata": {},
   "outputs": [],
   "source": [
    "subjects = subjects[['ParticipantIdentifier', 'UtcOffset', 'TimeZone', 'exp_version']]\n",
    "subjects = subjects.loc[subjects.exp_version=='app_pilot_1',]"
   ]
  },
  {
   "cell_type": "code",
   "execution_count": 120,
   "metadata": {},
   "outputs": [],
   "source": [
    "file = zf.namelist()[1]\n",
    "\n",
    "df = pd.read_csv(zf.open(file), parse_dates=True, low_memory=False)\n",
    "# clean up filename to use as key\n",
    "sep = '_'\n",
    "file = file.replace('.', '_')\n",
    "file = file.split(sep,1)[0]"
   ]
  },
  {
   "cell_type": "code",
   "execution_count": 121,
   "metadata": {},
   "outputs": [],
   "source": [
    "df = pd.merge(df, subjects, on='ParticipantIdentifier')"
   ]
  },
  {
   "cell_type": "code",
   "execution_count": 251,
   "metadata": {},
   "outputs": [
    {
     "data": {
      "text/html": [
       "<div>\n",
       "<style scoped>\n",
       "    .dataframe tbody tr th:only-of-type {\n",
       "        vertical-align: middle;\n",
       "    }\n",
       "\n",
       "    .dataframe tbody tr th {\n",
       "        vertical-align: top;\n",
       "    }\n",
       "\n",
       "    .dataframe thead th {\n",
       "        text-align: right;\n",
       "    }\n",
       "</style>\n",
       "<table border=\"1\" class=\"dataframe\">\n",
       "  <thead>\n",
       "    <tr style=\"text-align: right;\">\n",
       "      <th></th>\n",
       "      <th>SurveyTaskKey</th>\n",
       "      <th>ParticipantIdentifier</th>\n",
       "      <th>SurveyKey</th>\n",
       "      <th>SurveyName</th>\n",
       "      <th>Status</th>\n",
       "      <th>DueDate</th>\n",
       "      <th>InsertedDate</th>\n",
       "      <th>CreatedBy</th>\n",
       "      <th>ModifiedDate</th>\n",
       "      <th>UtcOffset</th>\n",
       "      <th>TimeZone</th>\n",
       "      <th>exp_version</th>\n",
       "      <th>SurveyDay</th>\n",
       "    </tr>\n",
       "  </thead>\n",
       "  <tbody>\n",
       "    <tr>\n",
       "      <th>0</th>\n",
       "      <td>d5949d3d-b412-ed11-aabd-0afb9334277d</td>\n",
       "      <td>f1ee447d-70b3-4228-8f9b-2f6a8f2391fb</td>\n",
       "      <td>3abac5ee-7241-eb11-aa9f-0afb9334277d</td>\n",
       "      <td>Baseline Demographic Status</td>\n",
       "      <td>Complete</td>\n",
       "      <td>2022-08-02T22:41:31Z</td>\n",
       "      <td>2022-08-02T22:41:31Z</td>\n",
       "      <td>RKStudio Survey Scheduler</td>\n",
       "      <td>2022-08-22T21:02:01Z</td>\n",
       "      <td>-04:00:00</td>\n",
       "      <td>America/Toronto</td>\n",
       "      <td>app_pilot_1</td>\n",
       "      <td>2022-08-02</td>\n",
       "    </tr>\n",
       "    <tr>\n",
       "      <th>1</th>\n",
       "      <td>39ac485e-3021-ed11-aabf-0afb9334277d</td>\n",
       "      <td>f1ee447d-70b3-4228-8f9b-2f6a8f2391fb</td>\n",
       "      <td>65539085-f331-ec11-aab2-0afb9334277d</td>\n",
       "      <td>task_survey_motivation</td>\n",
       "      <td>Closed</td>\n",
       "      <td>2022-08-21T09:05:23Z</td>\n",
       "      <td>2022-08-21T09:05:24Z</td>\n",
       "      <td>RKStudio Survey Scheduler</td>\n",
       "      <td>2022-08-22T09:00:11Z</td>\n",
       "      <td>-04:00:00</td>\n",
       "      <td>America/Toronto</td>\n",
       "      <td>app_pilot_1</td>\n",
       "      <td>2022-08-21</td>\n",
       "    </tr>\n",
       "    <tr>\n",
       "      <th>2</th>\n",
       "      <td>d4ac485e-3021-ed11-aabf-0afb9334277d</td>\n",
       "      <td>f1ee447d-70b3-4228-8f9b-2f6a8f2391fb</td>\n",
       "      <td>a440594e-cf64-eb11-aaa4-0afb9334277d</td>\n",
       "      <td>task_hk_reaction_time</td>\n",
       "      <td>Closed</td>\n",
       "      <td>2022-08-21T09:05:23Z</td>\n",
       "      <td>2022-08-21T09:05:24Z</td>\n",
       "      <td>RKStudio Survey Scheduler</td>\n",
       "      <td>2022-08-22T09:00:09Z</td>\n",
       "      <td>-04:00:00</td>\n",
       "      <td>America/Toronto</td>\n",
       "      <td>app_pilot_1</td>\n",
       "      <td>2022-08-21</td>\n",
       "    </tr>\n",
       "    <tr>\n",
       "      <th>3</th>\n",
       "      <td>29ad485e-3021-ed11-aabf-0afb9334277d</td>\n",
       "      <td>f1ee447d-70b3-4228-8f9b-2f6a8f2391fb</td>\n",
       "      <td>956c3f6c-cf64-eb11-aaa4-0afb9334277d</td>\n",
       "      <td>task_hk_stroop</td>\n",
       "      <td>Closed</td>\n",
       "      <td>2022-08-21T09:05:23Z</td>\n",
       "      <td>2022-08-21T09:05:24Z</td>\n",
       "      <td>RKStudio Survey Scheduler</td>\n",
       "      <td>2022-08-22T09:00:10Z</td>\n",
       "      <td>-04:00:00</td>\n",
       "      <td>America/Toronto</td>\n",
       "      <td>app_pilot_1</td>\n",
       "      <td>2022-08-21</td>\n",
       "    </tr>\n",
       "    <tr>\n",
       "      <th>4</th>\n",
       "      <td>81ad485e-3021-ed11-aabf-0afb9334277d</td>\n",
       "      <td>f1ee447d-70b3-4228-8f9b-2f6a8f2391fb</td>\n",
       "      <td>30b5277e-cf64-eb11-aaa4-0afb9334277d</td>\n",
       "      <td>task_hk_tower_of_hanoi</td>\n",
       "      <td>Closed</td>\n",
       "      <td>2022-08-21T09:05:23Z</td>\n",
       "      <td>2022-08-21T09:05:25Z</td>\n",
       "      <td>RKStudio Survey Scheduler</td>\n",
       "      <td>2022-08-22T09:00:09Z</td>\n",
       "      <td>-04:00:00</td>\n",
       "      <td>America/Toronto</td>\n",
       "      <td>app_pilot_1</td>\n",
       "      <td>2022-08-21</td>\n",
       "    </tr>\n",
       "  </tbody>\n",
       "</table>\n",
       "</div>"
      ],
      "text/plain": [
       "                          SurveyTaskKey                 ParticipantIdentifier  \\\n",
       "0  d5949d3d-b412-ed11-aabd-0afb9334277d  f1ee447d-70b3-4228-8f9b-2f6a8f2391fb   \n",
       "1  39ac485e-3021-ed11-aabf-0afb9334277d  f1ee447d-70b3-4228-8f9b-2f6a8f2391fb   \n",
       "2  d4ac485e-3021-ed11-aabf-0afb9334277d  f1ee447d-70b3-4228-8f9b-2f6a8f2391fb   \n",
       "3  29ad485e-3021-ed11-aabf-0afb9334277d  f1ee447d-70b3-4228-8f9b-2f6a8f2391fb   \n",
       "4  81ad485e-3021-ed11-aabf-0afb9334277d  f1ee447d-70b3-4228-8f9b-2f6a8f2391fb   \n",
       "\n",
       "                              SurveyKey                   SurveyName  \\\n",
       "0  3abac5ee-7241-eb11-aa9f-0afb9334277d  Baseline Demographic Status   \n",
       "1  65539085-f331-ec11-aab2-0afb9334277d       task_survey_motivation   \n",
       "2  a440594e-cf64-eb11-aaa4-0afb9334277d        task_hk_reaction_time   \n",
       "3  956c3f6c-cf64-eb11-aaa4-0afb9334277d               task_hk_stroop   \n",
       "4  30b5277e-cf64-eb11-aaa4-0afb9334277d       task_hk_tower_of_hanoi   \n",
       "\n",
       "     Status               DueDate          InsertedDate  \\\n",
       "0  Complete  2022-08-02T22:41:31Z  2022-08-02T22:41:31Z   \n",
       "1    Closed  2022-08-21T09:05:23Z  2022-08-21T09:05:24Z   \n",
       "2    Closed  2022-08-21T09:05:23Z  2022-08-21T09:05:24Z   \n",
       "3    Closed  2022-08-21T09:05:23Z  2022-08-21T09:05:24Z   \n",
       "4    Closed  2022-08-21T09:05:23Z  2022-08-21T09:05:25Z   \n",
       "\n",
       "                   CreatedBy          ModifiedDate  UtcOffset  \\\n",
       "0  RKStudio Survey Scheduler  2022-08-22T21:02:01Z  -04:00:00   \n",
       "1  RKStudio Survey Scheduler  2022-08-22T09:00:11Z  -04:00:00   \n",
       "2  RKStudio Survey Scheduler  2022-08-22T09:00:09Z  -04:00:00   \n",
       "3  RKStudio Survey Scheduler  2022-08-22T09:00:10Z  -04:00:00   \n",
       "4  RKStudio Survey Scheduler  2022-08-22T09:00:09Z  -04:00:00   \n",
       "\n",
       "          TimeZone  exp_version   SurveyDay  \n",
       "0  America/Toronto  app_pilot_1  2022-08-02  \n",
       "1  America/Toronto  app_pilot_1  2022-08-21  \n",
       "2  America/Toronto  app_pilot_1  2022-08-21  \n",
       "3  America/Toronto  app_pilot_1  2022-08-21  \n",
       "4  America/Toronto  app_pilot_1  2022-08-21  "
      ]
     },
     "execution_count": 251,
     "metadata": {},
     "output_type": "execute_result"
    }
   ],
   "source": [
    "df.head()"
   ]
  },
  {
   "cell_type": "markdown",
   "metadata": {},
   "source": [
    "`InsertedDate` : The creation date of the task, in ISO 8601 format. Is always in UTC."
   ]
  },
  {
   "cell_type": "code",
   "execution_count": 114,
   "metadata": {},
   "outputs": [],
   "source": [
    "import datetime\n",
    "import pytz\n",
    "from dateutil import parser"
   ]
  },
  {
   "cell_type": "code",
   "execution_count": 249,
   "metadata": {},
   "outputs": [],
   "source": [
    "# make SurveyDay column\n",
    "df['SurveyDay'] = None\n",
    "\n",
    "for i in df.index:\n",
    "    iso = parser.isoparse(df.InsertedDate[i])\n",
    "    date = iso.astimezone(pytz.timezone(df.TimeZone[i])).date()\n",
    "    df.SurveyDay[i] = date"
   ]
  },
  {
   "cell_type": "code",
   "execution_count": 258,
   "metadata": {},
   "outputs": [
    {
     "data": {
      "text/plain": [
       "SurveyDay   ParticipantIdentifier               \n",
       "2022-08-02  f1ee447d-70b3-4228-8f9b-2f6a8f2391fb     1\n",
       "2022-08-21  64ea1889-52d2-409b-a954-fed089584380     3\n",
       "            79939a12-9002-468d-a41b-15c3b66d3de5     1\n",
       "            9346be24-faf8-489d-abe8-4e6be832fe3b     1\n",
       "            a2a5c70f-4d45-4f4a-bec5-5e2c1776689b     3\n",
       "            f1ee447d-70b3-4228-8f9b-2f6a8f2391fb    16\n",
       "2022-08-22  12ab9c18-0f56-401e-8e53-2b9092677fb9    17\n",
       "            2b10f0e0-ef05-41a6-99cb-a543d0e6cb4e    17\n",
       "            48396d3f-058f-4526-b7e7-b260c92774ea    17\n",
       "            4c320674-cf23-4c88-a952-58b6600c59ab    17\n",
       "            5408f8eb-b5f6-4334-a9af-f0244b3f4432    17\n",
       "            55305f62-57a2-469e-a2cd-d90f210a6dff    17\n",
       "            64ea1889-52d2-409b-a954-fed089584380    17\n",
       "            79939a12-9002-468d-a41b-15c3b66d3de5    17\n",
       "            8a5145e5-6977-4beb-b7be-18e4ce6451bb    17\n",
       "            90a04229-610a-4d4f-a5c9-78b388065cfb    17\n",
       "            9346be24-faf8-489d-abe8-4e6be832fe3b    17\n",
       "            a2a5c70f-4d45-4f4a-bec5-5e2c1776689b    17\n",
       "            a4e70990-a323-4974-acbc-a90d230b74fa    17\n",
       "            ba7605ab-ed0b-4212-a0cd-bd2e550c6507    17\n",
       "            c8892869-a3c8-4dfa-be25-3220d10f48c6    17\n",
       "            d39e1b95-ab17-4d80-a25f-10ab76736632    17\n",
       "            d7c678bb-10ed-472e-9ef2-dadb65c3ec67     3\n",
       "            d88ca7d8-2aa4-4752-a2be-4988409bb675    17\n",
       "            d9139666-0f9d-42b3-9ec4-c8d9d0a69aa8    17\n",
       "            d9d34d8e-046f-475c-baa5-e49552148aff     3\n",
       "            f1ee447d-70b3-4228-8f9b-2f6a8f2391fb    17\n",
       "2022-08-23  d7c678bb-10ed-472e-9ef2-dadb65c3ec67    14\n",
       "            d9d34d8e-046f-475c-baa5-e49552148aff    14\n",
       "Name: Status, dtype: int64"
      ]
     },
     "execution_count": 258,
     "metadata": {},
     "output_type": "execute_result"
    }
   ],
   "source": [
    "# group by day, group by subject, value count\n",
    "\n",
    "df.groupby(['SurveyDay', 'ParticipantIdentifier'])['Status'].count()"
   ]
  },
  {
   "cell_type": "code",
   "execution_count": null,
   "metadata": {},
   "outputs": [],
   "source": [
    "\n",
    "# did they do all tasks? Is incomplete/closed non-zero?\n",
    "# did they do the evening surveys?\n",
    "# could have 1 column\n",
    "# 0 = didn't do surveys and not all tasks, 1 = surveys but not all tasks, 2 = surveys and all tasks\n",
    "# but probably simpler to have two columms...1 or 0 in each...though could just multiply 1.5 by the column described above...\n",
    "\n"
   ]
  },
  {
   "cell_type": "code",
   "execution_count": 32,
   "metadata": {},
   "outputs": [
    {
     "name": "stdout",
     "output_type": "stream",
     "text": [
      "'NoneType' object is not subscriptable\n",
      "handled successfully\n"
     ]
    },
    {
     "ename": "TypeError",
     "evalue": "'NoneType' object does not support item assignment",
     "output_type": "error",
     "traceback": [
      "\u001b[0;31m---------------------------------------------------------------------------\u001b[0m",
      "\u001b[0;31mTypeError\u001b[0m                                 Traceback (most recent call last)",
      "\u001b[0;32m<ipython-input-32-54d3747bd225>\u001b[0m in \u001b[0;36m<module>\u001b[0;34m\u001b[0m\n\u001b[1;32m     23\u001b[0m                     \u001b[0;32mtry\u001b[0m\u001b[0;34m:\u001b[0m\u001b[0;34m\u001b[0m\u001b[0;34m\u001b[0m\u001b[0m\n\u001b[0;32m---> 24\u001b[0;31m                         \u001b[0mapp_data\u001b[0m\u001b[0;34m[\u001b[0m\u001b[0mfile\u001b[0m\u001b[0;34m]\u001b[0m \u001b[0;34m=\u001b[0m \u001b[0mapp_data\u001b[0m\u001b[0;34m[\u001b[0m\u001b[0mfile\u001b[0m\u001b[0;34m]\u001b[0m\u001b[0;34m.\u001b[0m\u001b[0mappend\u001b[0m\u001b[0;34m(\u001b[0m\u001b[0mdf\u001b[0m\u001b[0;34m,\u001b[0m \u001b[0mignore_index\u001b[0m\u001b[0;34m=\u001b[0m\u001b[0;32mTrue\u001b[0m\u001b[0;34m)\u001b[0m\u001b[0;34m\u001b[0m\u001b[0;34m\u001b[0m\u001b[0m\n\u001b[0m\u001b[1;32m     25\u001b[0m                     \u001b[0;32mexcept\u001b[0m \u001b[0mKeyError\u001b[0m\u001b[0;34m:\u001b[0m\u001b[0;34m\u001b[0m\u001b[0;34m\u001b[0m\u001b[0m\n",
      "\u001b[0;31mTypeError\u001b[0m: 'NoneType' object is not subscriptable",
      "\nDuring handling of the above exception, another exception occurred:\n",
      "\u001b[0;31mTypeError\u001b[0m                                 Traceback (most recent call last)",
      "\u001b[0;32m<ipython-input-32-54d3747bd225>\u001b[0m in \u001b[0;36m<module>\u001b[0;34m\u001b[0m\n\u001b[1;32m     28\u001b[0m                         \u001b[0mprint\u001b[0m\u001b[0;34m(\u001b[0m\u001b[0me\u001b[0m\u001b[0;34m)\u001b[0m\u001b[0;34m\u001b[0m\u001b[0;34m\u001b[0m\u001b[0m\n\u001b[1;32m     29\u001b[0m                         \u001b[0mprint\u001b[0m\u001b[0;34m(\u001b[0m\u001b[0;34m\"handled successfully\"\u001b[0m\u001b[0;34m)\u001b[0m\u001b[0;34m\u001b[0m\u001b[0;34m\u001b[0m\u001b[0m\n\u001b[0;32m---> 30\u001b[0;31m                         \u001b[0mapp_data\u001b[0m\u001b[0;34m[\u001b[0m\u001b[0mfile\u001b[0m\u001b[0;34m]\u001b[0m \u001b[0;34m=\u001b[0m \u001b[0mdf\u001b[0m\u001b[0;34m\u001b[0m\u001b[0;34m\u001b[0m\u001b[0m\n\u001b[0m",
      "\u001b[0;31mTypeError\u001b[0m: 'NoneType' object does not support item assignment"
     ]
    }
   ],
   "source": [
    "for zip_file in data_files:\n",
    "        zf = zipfile.ZipFile(zip_file)\n",
    "\n",
    "        # list of .csv files in zip\n",
    "        file_names = zf.namelist()\n",
    "\n",
    "        # loop through .csv files\n",
    "        for file in file_names:\n",
    "                # added because there seemed to be some weird files being included\n",
    "                if not file.startswith('SurveyData/'):\n",
    "                    try:\n",
    "                        df = pd.read_csv(zf.open(file), parse_dates=True, low_memory=False)\n",
    "                        # clean up filename to use as key\n",
    "                        sep = '_'\n",
    "                        file = file.replace('.', '_')\n",
    "                        file = file.split(sep,1)[0]\n",
    "\n",
    "                    # some files are sometimes empty (e.g. notifications)\n",
    "                    except pd.errors.EmptyDataError:\n",
    "                        continue # will skip the rest of the block and move to next file\n",
    "\n",
    "                    # append each day to df\n",
    "                    try:\n",
    "                        app_data[file] = app_data[file].append(df, ignore_index=True)\n",
    "                    except KeyError:\n",
    "                        app_data[file] = df\n"
   ]
  },
  {
   "cell_type": "code",
   "execution_count": 26,
   "metadata": {},
   "outputs": [],
   "source": [
    "list_example = [1, 11, 14, 10, 5, 3, 2, 15, 77]\n",
    "list_sorted = list_example.sort()"
   ]
  },
  {
   "cell_type": "code",
   "execution_count": 31,
   "metadata": {},
   "outputs": [],
   "source": [
    "list_example.sort()"
   ]
  },
  {
   "cell_type": "code",
   "execution_count": 24,
   "metadata": {},
   "outputs": [
    {
     "name": "stdout",
     "output_type": "stream",
     "text": [
      "'NoneType' object is not subscriptable\n",
      "handled successfully\n"
     ]
    }
   ],
   "source": [
    "try:\n",
    "    list_example = [1, 11, 14, 10, 5, 3, 2, 15, 77]\n",
    "    list_sorted = list_example.sort()\n",
    "    print(list_sorted[0])\n",
    "except TypeError as e:\n",
    "    print(e)\n",
    "    print(\"handled successfully\")"
   ]
  },
  {
   "cell_type": "code",
   "execution_count": 14,
   "metadata": {},
   "outputs": [],
   "source": [
    "def create_df_dict(file_path, save_path):\n",
    "    # starts with empty dictionary\n",
    "    app_data = {}\n",
    "\n",
    "    # create list of zip files\n",
    "    data_files = glob.glob(f'{file_path}/*.zip')\n",
    "    data_files.sort(reverse=True)\n",
    "\n",
    "    # extract all csv files from zip\n",
    "    for zip_file in data_files:\n",
    "        zf = zipfile.ZipFile(zip_file)\n",
    "\n",
    "        # list of .csv files in zip\n",
    "        file_names = zf.namelist()\n",
    "\n",
    "        # loop through .csv files\n",
    "        for file in file_names:\n",
    "                # added because there seemed to be some weird files being included\n",
    "                if not file.startswith('SurveyData/'):\n",
    "                    try:\n",
    "                        df = pd.read_csv(zf.open(file), parse_dates=True, low_memory=False)\n",
    "                        # clean up filename to use as key\n",
    "                        sep = '_'\n",
    "                        file = file.replace('.', '_')\n",
    "                        file = file.split(sep,1)[0]\n",
    "\n",
    "                    # some files are sometimes empty (e.g. notifications)\n",
    "                    except pd.errors.EmptyDataError:\n",
    "                        continue # will skip the rest of the block and move to next file\n",
    "\n",
    "                    # append each day to df\n",
    "                    try:\n",
    "                        app_data[file] = app_data[file].append(df, ignore_index=True)\n",
    "                    except KeyError:\n",
    "                        app_data[file] = df"
   ]
  },
  {
   "cell_type": "code",
   "execution_count": 15,
   "metadata": {},
   "outputs": [],
   "source": [
    "app_data = create_df_dict(file_path, save_path)"
   ]
  },
  {
   "cell_type": "code",
   "execution_count": 16,
   "metadata": {},
   "outputs": [],
   "source": [
    "save_path = \"/Users/djw/Documents/pCloud_synced/Academics/Projects/2020_thesis/thesis_experiments/3_experiments/3_3_experience_sampling/3_3_2_processed_data/\"\n",
    "\n",
    "out_file = open(save_path + \"pilot_1.pkl\", \"wb\")\n",
    "pickle.dump(app_data, out_file)\n",
    "out_file.close()"
   ]
  },
  {
   "cell_type": "markdown",
   "metadata": {},
   "source": [
    "## Load Data"
   ]
  },
  {
   "cell_type": "code",
   "execution_count": 3,
   "metadata": {},
   "outputs": [],
   "source": [
    "save_path = \"/Users/djw/Documents/pCloud_synced/Academics/Projects/2020_thesis/thesis_experiments/3_experiments/3_3_experience_sampling/3_3_2_processed_data/\"\n",
    "\n",
    "# load pickle\n",
    "in_file = open(save_path + \"app_data.pkl\", \"rb\")\n",
    "app_data = pickle.load(in_file)\n",
    "\n",
    "# just need the indication of survey task completion\n",
    "df = app_data['SurveyTasks']\n",
    "\n",
    "# for tasks/surveys pull out dates after March 1\n",
    "df['DueDate'] = pd.to_datetime(df.DueDate)\n",
    "cols = df['DueDate']>pd.to_datetime('28/2/2021').tz_localize('US/Eastern')\n",
    "df = df[cols]"
   ]
  },
  {
   "cell_type": "markdown",
   "metadata": {},
   "source": [
    "## Load Participant Info"
   ]
  },
  {
   "cell_type": "markdown",
   "metadata": {},
   "source": [
    "Note that for some reason the `StudyParticipants` data does not contain telephone number information...\n",
    "\n",
    "We use a google doc that has all cell phone numbers and emails matched with `ParticipantIdentifier`\n",
    "\n",
    "- [API Documentation](https://developers.google.com/sheets/api/samples/reading)\n",
    "- [Tutorial](https://www.youtube.com/watch?v=4ssigWmExak) on linking Python and Google Docs\n",
    "- Can also write to the sheet"
   ]
  },
  {
   "cell_type": "code",
   "execution_count": 5,
   "metadata": {},
   "outputs": [],
   "source": [
    "from googleapiclient.discovery import build\n",
    "from google.oauth2 import service_account\n",
    "\n",
    "# path to google sheets \n",
    "cred_path = '/Users/djw/Documents/pCloud_synced/Academics/Projects/2020_thesis/thesis_experiments/3_experiments/3_3_experience_sampling/3_3_3_data_analysis/resources/client_secret.json'\n",
    "\n",
    "SCOPES = ['https://www.googleapis.com/auth/spreadsheets']\n",
    "SERVICE_ACCOUNT_FILE = cred_path\n",
    "\n",
    "creds = None\n",
    "creds = service_account.Credentials.from_service_account_file(\n",
    "    SERVICE_ACCOUNT_FILE, scopes=SCOPES\n",
    ")\n",
    "\n",
    "# The spreadsheet ID\n",
    "SPREADSHEET_ID = '1NXMvrji3WeLm5JvVO2BJNkoEpj2HmDXuvqTenDsi1i4'\n",
    "\n",
    "service = build('sheets', 'v4', credentials=creds)\n",
    "\n",
    "# Call the Sheets API\n",
    "sheet = service.spreadsheets()\n",
    "result = sheet.values().get(spreadsheetId=SPREADSHEET_ID,\n",
    "                            range=\"Sheet1!A:D\").execute()\n",
    "\n",
    "values = result.get('values', [])\n",
    "contacts = pd.DataFrame(values[1:], columns=values[0])"
   ]
  },
  {
   "cell_type": "code",
   "execution_count": 6,
   "metadata": {},
   "outputs": [
    {
     "data": {
      "text/html": [
       "<div>\n",
       "<style scoped>\n",
       "    .dataframe tbody tr th:only-of-type {\n",
       "        vertical-align: middle;\n",
       "    }\n",
       "\n",
       "    .dataframe tbody tr th {\n",
       "        vertical-align: top;\n",
       "    }\n",
       "\n",
       "    .dataframe thead th {\n",
       "        text-align: right;\n",
       "    }\n",
       "</style>\n",
       "<table border=\"1\" class=\"dataframe\">\n",
       "  <thead>\n",
       "    <tr style=\"text-align: right;\">\n",
       "      <th></th>\n",
       "      <th>ParticipantIdentifier</th>\n",
       "      <th>EmailAddress</th>\n",
       "      <th>PhoneNumber</th>\n",
       "      <th>Category</th>\n",
       "    </tr>\n",
       "  </thead>\n",
       "  <tbody>\n",
       "    <tr>\n",
       "      <th>0</th>\n",
       "      <td>01801252-3a7e-4f5f-8b6d-49e8da3902f3</td>\n",
       "      <td>dw@danieljwilson.com</td>\n",
       "      <td>3109909163</td>\n",
       "      <td>pilot</td>\n",
       "    </tr>\n",
       "    <tr>\n",
       "      <th>1</th>\n",
       "      <td>531d7f6d-b880-4a0b-b467-80005a316f1c</td>\n",
       "      <td>donna.vakalis@olympian.org</td>\n",
       "      <td>4164271077</td>\n",
       "      <td>pilot</td>\n",
       "    </tr>\n",
       "    <tr>\n",
       "      <th>2</th>\n",
       "      <td>d26d4b78-7fcf-488e-b687-2d1c93c47b74</td>\n",
       "      <td>medialpfc@gmail.com</td>\n",
       "      <td>6477745286</td>\n",
       "      <td>pilot</td>\n",
       "    </tr>\n",
       "  </tbody>\n",
       "</table>\n",
       "</div>"
      ],
      "text/plain": [
       "                  ParticipantIdentifier                EmailAddress  \\\n",
       "0  01801252-3a7e-4f5f-8b6d-49e8da3902f3        dw@danieljwilson.com   \n",
       "1  531d7f6d-b880-4a0b-b467-80005a316f1c  donna.vakalis@olympian.org   \n",
       "2  d26d4b78-7fcf-488e-b687-2d1c93c47b74         medialpfc@gmail.com   \n",
       "\n",
       "  PhoneNumber Category  \n",
       "0  3109909163    pilot  \n",
       "1  4164271077    pilot  \n",
       "2  6477745286    pilot  "
      ]
     },
     "execution_count": 6,
     "metadata": {},
     "output_type": "execute_result"
    }
   ],
   "source": [
    "contacts"
   ]
  },
  {
   "cell_type": "markdown",
   "metadata": {},
   "source": [
    "# Adherence"
   ]
  },
  {
   "cell_type": "markdown",
   "metadata": {},
   "source": [
    "## Response Rate"
   ]
  },
  {
   "cell_type": "markdown",
   "metadata": {},
   "source": [
    "Note that the response rate is not just based on the day (i.e. did they complete \"a\" task that day), but on the ensemble of tasks (i.e. how many of the tasks did they complete out of all possible tasks that they were assigned)."
   ]
  },
  {
   "cell_type": "code",
   "execution_count": 7,
   "metadata": {},
   "outputs": [],
   "source": [
    "# Dataframe giving counts of each status (Complete, Incomplete, Closed)\n",
    "dfg = pd.DataFrame(df.groupby('ParticipantIdentifier')['Status'].apply(lambda x: x.value_counts())).reset_index()"
   ]
  },
  {
   "cell_type": "code",
   "execution_count": 8,
   "metadata": {},
   "outputs": [
    {
     "data": {
      "text/html": [
       "<div>\n",
       "<style scoped>\n",
       "    .dataframe tbody tr th:only-of-type {\n",
       "        vertical-align: middle;\n",
       "    }\n",
       "\n",
       "    .dataframe tbody tr th {\n",
       "        vertical-align: top;\n",
       "    }\n",
       "\n",
       "    .dataframe thead th {\n",
       "        text-align: right;\n",
       "    }\n",
       "</style>\n",
       "<table border=\"1\" class=\"dataframe\">\n",
       "  <thead>\n",
       "    <tr style=\"text-align: right;\">\n",
       "      <th></th>\n",
       "      <th>ParticipantIdentifier</th>\n",
       "      <th>level_1</th>\n",
       "      <th>Status</th>\n",
       "    </tr>\n",
       "  </thead>\n",
       "  <tbody>\n",
       "    <tr>\n",
       "      <th>0</th>\n",
       "      <td>01801252-3a7e-4f5f-8b6d-49e8da3902f3</td>\n",
       "      <td>Complete</td>\n",
       "      <td>385</td>\n",
       "    </tr>\n",
       "    <tr>\n",
       "      <th>1</th>\n",
       "      <td>01801252-3a7e-4f5f-8b6d-49e8da3902f3</td>\n",
       "      <td>Incomplete</td>\n",
       "      <td>35</td>\n",
       "    </tr>\n",
       "    <tr>\n",
       "      <th>2</th>\n",
       "      <td>01801252-3a7e-4f5f-8b6d-49e8da3902f3</td>\n",
       "      <td>Closed</td>\n",
       "      <td>16</td>\n",
       "    </tr>\n",
       "    <tr>\n",
       "      <th>3</th>\n",
       "      <td>531d7f6d-b880-4a0b-b467-80005a316f1c</td>\n",
       "      <td>Complete</td>\n",
       "      <td>256</td>\n",
       "    </tr>\n",
       "    <tr>\n",
       "      <th>4</th>\n",
       "      <td>531d7f6d-b880-4a0b-b467-80005a316f1c</td>\n",
       "      <td>Incomplete</td>\n",
       "      <td>154</td>\n",
       "    </tr>\n",
       "  </tbody>\n",
       "</table>\n",
       "</div>"
      ],
      "text/plain": [
       "                  ParticipantIdentifier     level_1  Status\n",
       "0  01801252-3a7e-4f5f-8b6d-49e8da3902f3    Complete     385\n",
       "1  01801252-3a7e-4f5f-8b6d-49e8da3902f3  Incomplete      35\n",
       "2  01801252-3a7e-4f5f-8b6d-49e8da3902f3      Closed      16\n",
       "3  531d7f6d-b880-4a0b-b467-80005a316f1c    Complete     256\n",
       "4  531d7f6d-b880-4a0b-b467-80005a316f1c  Incomplete     154"
      ]
     },
     "execution_count": 8,
     "metadata": {},
     "output_type": "execute_result"
    }
   ],
   "source": [
    "dfg.head()"
   ]
  },
  {
   "cell_type": "code",
   "execution_count": 9,
   "metadata": {},
   "outputs": [],
   "source": [
    "# Find completed tasks by subject\n",
    "# rename columns (notice that I am effectively \"moving\" the status column...)\n",
    "dfg = dfg.rename(columns={'Status': 'CompleteCount', 'level_1': 'Status'})\n",
    "# df that only has the complete count\n",
    "completes = dfg.loc[dfg.Status=='Complete',['ParticipantIdentifier','CompleteCount']]\n",
    "\n",
    "# Find total tasks by subject\n",
    "totals = pd.DataFrame(dfg.groupby('ParticipantIdentifier')['CompleteCount'].agg(np.sum)).reset_index()\n",
    "# df that has the total assigned tasks for each participant\n",
    "totals = totals.rename(columns={'CompleteCount': 'TotalCount'})\n",
    "\n",
    "# left join complete and total columns\n",
    "response_rate = totals.merge(completes, how='left', on='ParticipantIdentifier')\n",
    "\n",
    "# Calculate completion rate by subject\n",
    "response_rate['CompRate'] = response_rate.CompleteCount/response_rate.TotalCount"
   ]
  },
  {
   "cell_type": "code",
   "execution_count": 10,
   "metadata": {},
   "outputs": [
    {
     "data": {
      "text/html": [
       "<div>\n",
       "<style scoped>\n",
       "    .dataframe tbody tr th:only-of-type {\n",
       "        vertical-align: middle;\n",
       "    }\n",
       "\n",
       "    .dataframe tbody tr th {\n",
       "        vertical-align: top;\n",
       "    }\n",
       "\n",
       "    .dataframe thead th {\n",
       "        text-align: right;\n",
       "    }\n",
       "</style>\n",
       "<table border=\"1\" class=\"dataframe\">\n",
       "  <thead>\n",
       "    <tr style=\"text-align: right;\">\n",
       "      <th></th>\n",
       "      <th>ParticipantIdentifier</th>\n",
       "      <th>TotalCount</th>\n",
       "      <th>CompleteCount</th>\n",
       "      <th>CompRate</th>\n",
       "    </tr>\n",
       "  </thead>\n",
       "  <tbody>\n",
       "    <tr>\n",
       "      <th>0</th>\n",
       "      <td>01801252-3a7e-4f5f-8b6d-49e8da3902f3</td>\n",
       "      <td>436</td>\n",
       "      <td>385.0</td>\n",
       "      <td>0.883028</td>\n",
       "    </tr>\n",
       "    <tr>\n",
       "      <th>1</th>\n",
       "      <td>531d7f6d-b880-4a0b-b467-80005a316f1c</td>\n",
       "      <td>554</td>\n",
       "      <td>256.0</td>\n",
       "      <td>0.462094</td>\n",
       "    </tr>\n",
       "    <tr>\n",
       "      <th>2</th>\n",
       "      <td>aa537073-0535-401a-b9c8-7ec1c802e0d0</td>\n",
       "      <td>21</td>\n",
       "      <td>NaN</td>\n",
       "      <td>NaN</td>\n",
       "    </tr>\n",
       "    <tr>\n",
       "      <th>3</th>\n",
       "      <td>bcc701e1-c93e-43a1-9f2f-663423f67334</td>\n",
       "      <td>215</td>\n",
       "      <td>23.0</td>\n",
       "      <td>0.106977</td>\n",
       "    </tr>\n",
       "    <tr>\n",
       "      <th>4</th>\n",
       "      <td>d26d4b78-7fcf-488e-b687-2d1c93c47b74</td>\n",
       "      <td>712</td>\n",
       "      <td>122.0</td>\n",
       "      <td>0.171348</td>\n",
       "    </tr>\n",
       "  </tbody>\n",
       "</table>\n",
       "</div>"
      ],
      "text/plain": [
       "                  ParticipantIdentifier  TotalCount  CompleteCount  CompRate\n",
       "0  01801252-3a7e-4f5f-8b6d-49e8da3902f3         436          385.0  0.883028\n",
       "1  531d7f6d-b880-4a0b-b467-80005a316f1c         554          256.0  0.462094\n",
       "2  aa537073-0535-401a-b9c8-7ec1c802e0d0          21            NaN       NaN\n",
       "3  bcc701e1-c93e-43a1-9f2f-663423f67334         215           23.0  0.106977\n",
       "4  d26d4b78-7fcf-488e-b687-2d1c93c47b74         712          122.0  0.171348"
      ]
     },
     "execution_count": 10,
     "metadata": {},
     "output_type": "execute_result"
    }
   ],
   "source": [
    "response_rate.head()"
   ]
  },
  {
   "cell_type": "code",
   "execution_count": 11,
   "metadata": {},
   "outputs": [],
   "source": [
    "# remove unneccesary columns\n",
    "response_rate = response_rate[['ParticipantIdentifier', 'CompRate']]"
   ]
  },
  {
   "cell_type": "markdown",
   "metadata": {},
   "source": [
    "## Streaks"
   ]
  },
  {
   "cell_type": "markdown",
   "metadata": {},
   "source": [
    "[Tutorial](https://joshdevlin.com/blog/calculate-streaks-in-pandas/) on calculating streaks...\n",
    "\n",
    "Note that for Streaks I am looking at the first \"task\" and seeing if it was done. So does not take into account if they did all their tasks...\n",
    "\n",
    "Perhaps need to rewrite to include the core tasks?"
   ]
  },
  {
   "cell_type": "code",
   "execution_count": 12,
   "metadata": {},
   "outputs": [],
   "source": [
    "# simplify timestamp\n",
    "df = df.assign(DueDate2 = df.DueDate.apply(lambda x: str(x).split(' ')[0]))"
   ]
  },
  {
   "cell_type": "code",
   "execution_count": 13,
   "metadata": {},
   "outputs": [],
   "source": [
    "# get status by participant and day\n",
    "dfg = pd.DataFrame(df.groupby(['ParticipantIdentifier', 'DueDate2'])['Status'].apply(lambda x: x.value_counts())).reset_index()"
   ]
  },
  {
   "cell_type": "code",
   "execution_count": 14,
   "metadata": {},
   "outputs": [],
   "source": [
    "# remove and rename columns\n",
    "dfg = dfg.drop(columns='Status')\n",
    "dfg = dfg.rename(columns={'level_2': 'Status'})\n",
    "\n",
    "# clean things up and get the first version of status\n",
    "dfg = dfg.drop_duplicates(['ParticipantIdentifier','DueDate2'],keep= 'first').reset_index(drop=True)"
   ]
  },
  {
   "cell_type": "code",
   "execution_count": 15,
   "metadata": {},
   "outputs": [
    {
     "data": {
      "text/html": [
       "<div>\n",
       "<style scoped>\n",
       "    .dataframe tbody tr th:only-of-type {\n",
       "        vertical-align: middle;\n",
       "    }\n",
       "\n",
       "    .dataframe tbody tr th {\n",
       "        vertical-align: top;\n",
       "    }\n",
       "\n",
       "    .dataframe thead th {\n",
       "        text-align: right;\n",
       "    }\n",
       "</style>\n",
       "<table border=\"1\" class=\"dataframe\">\n",
       "  <thead>\n",
       "    <tr style=\"text-align: right;\">\n",
       "      <th></th>\n",
       "      <th>ParticipantIdentifier</th>\n",
       "      <th>DueDate2</th>\n",
       "      <th>Status</th>\n",
       "    </tr>\n",
       "  </thead>\n",
       "  <tbody>\n",
       "    <tr>\n",
       "      <th>0</th>\n",
       "      <td>01801252-3a7e-4f5f-8b6d-49e8da3902f3</td>\n",
       "      <td>2021-03-01</td>\n",
       "      <td>Complete</td>\n",
       "    </tr>\n",
       "    <tr>\n",
       "      <th>1</th>\n",
       "      <td>01801252-3a7e-4f5f-8b6d-49e8da3902f3</td>\n",
       "      <td>2021-03-02</td>\n",
       "      <td>Complete</td>\n",
       "    </tr>\n",
       "    <tr>\n",
       "      <th>2</th>\n",
       "      <td>01801252-3a7e-4f5f-8b6d-49e8da3902f3</td>\n",
       "      <td>2021-03-03</td>\n",
       "      <td>Complete</td>\n",
       "    </tr>\n",
       "    <tr>\n",
       "      <th>3</th>\n",
       "      <td>01801252-3a7e-4f5f-8b6d-49e8da3902f3</td>\n",
       "      <td>2021-03-04</td>\n",
       "      <td>Complete</td>\n",
       "    </tr>\n",
       "    <tr>\n",
       "      <th>4</th>\n",
       "      <td>01801252-3a7e-4f5f-8b6d-49e8da3902f3</td>\n",
       "      <td>2021-03-05</td>\n",
       "      <td>Complete</td>\n",
       "    </tr>\n",
       "  </tbody>\n",
       "</table>\n",
       "</div>"
      ],
      "text/plain": [
       "                  ParticipantIdentifier    DueDate2    Status\n",
       "0  01801252-3a7e-4f5f-8b6d-49e8da3902f3  2021-03-01  Complete\n",
       "1  01801252-3a7e-4f5f-8b6d-49e8da3902f3  2021-03-02  Complete\n",
       "2  01801252-3a7e-4f5f-8b6d-49e8da3902f3  2021-03-03  Complete\n",
       "3  01801252-3a7e-4f5f-8b6d-49e8da3902f3  2021-03-04  Complete\n",
       "4  01801252-3a7e-4f5f-8b6d-49e8da3902f3  2021-03-05  Complete"
      ]
     },
     "execution_count": 15,
     "metadata": {},
     "output_type": "execute_result"
    }
   ],
   "source": [
    "dfg.head()"
   ]
  },
  {
   "cell_type": "code",
   "execution_count": 16,
   "metadata": {},
   "outputs": [],
   "source": [
    "# replace Status with 1 for complete and 0 otherwise\n",
    "di = {\"Complete\": 1, \"Closed\": 0, \"Incomplete\":0}\n",
    "dfg = dfg.replace({'Status': di})"
   ]
  },
  {
   "cell_type": "code",
   "execution_count": 17,
   "metadata": {},
   "outputs": [],
   "source": [
    "# find start of streak by comparing with next row (is it the same?)\n",
    "dfg['StartOfStreak'] = dfg.groupby('ParticipantIdentifier')['Status'].apply(lambda x: x.ne(x.shift()))\n",
    "\n",
    "# indicate whether given row is \"start\" of streak\n",
    "dfg['StreakID'] = dfg['StartOfStreak'].cumsum()\n",
    "\n",
    "# sum up length of streak\n",
    "dfg['StreakCounter'] = dfg.groupby('StreakID').cumcount() + 1\n",
    "\n",
    "# find each subjects current streak\n",
    "streaks = dfg.groupby('ParticipantIdentifier').apply(lambda x:x.iloc[-1]).reset_index(drop=True)"
   ]
  },
  {
   "cell_type": "code",
   "execution_count": 18,
   "metadata": {},
   "outputs": [],
   "source": [
    "# remove unneccessary columns\n",
    "streaks = streaks[['ParticipantIdentifier', 'Status', 'StreakCounter']]"
   ]
  },
  {
   "cell_type": "markdown",
   "metadata": {},
   "source": [
    "## Combine"
   ]
  },
  {
   "cell_type": "code",
   "execution_count": 19,
   "metadata": {},
   "outputs": [],
   "source": [
    "adherence = streaks.merge(response_rate, how='left', on='ParticipantIdentifier')\n",
    "\n",
    "# Merge w/ contacts dataframe (2.1)\n",
    "adherence = contacts.merge(adherence, how='left', on='ParticipantIdentifier')"
   ]
  },
  {
   "cell_type": "markdown",
   "metadata": {},
   "source": [
    "# Rewards"
   ]
  },
  {
   "cell_type": "code",
   "execution_count": 20,
   "metadata": {},
   "outputs": [],
   "source": [
    "# define thresholds and payments for response\n",
    "response_rates = [50,60,70,80,90,95]\n",
    "reward_rates = [25,35,50,70,100,150]\n",
    "\n",
    "# define reward for streak (they could select this on input...)\n",
    "streak_reward = \"$5 Amazon gift card\""
   ]
  },
  {
   "cell_type": "markdown",
   "metadata": {},
   "source": [
    "## Response Reward"
   ]
  },
  {
   "cell_type": "markdown",
   "metadata": {},
   "source": [
    "Need to add logic to email me if someone misses 6 days in a row...\n",
    "\n",
    "Need to deal with rewarding completed streaks"
   ]
  },
  {
   "cell_type": "code",
   "execution_count": 21,
   "metadata": {},
   "outputs": [],
   "source": [
    "# response\n",
    "adherence['Reward']=0\n",
    "adherence['NextRate']=response_rates[0]\n",
    "adherence['NextReward']=reward_rates[0]\n",
    "# streak\n",
    "adherence['StreakText']=''\n",
    "\n",
    "# Calculate rewards\n",
    "for subject in range(len(adherence)):\n",
    "    # response\n",
    "    for i in range(len(response_rates)):\n",
    "        if adherence.loc[subject,'CompRate']*100>=response_rates[i]:\n",
    "            adherence.loc[subject,'Reward']=reward_rates[i]\n",
    "            adherence.loc[subject, 'NextRate']=response_rates[i+1]\n",
    "            adherence.loc[subject, 'NextReward']=reward_rates[i+1]\n",
    "    \n",
    "    # streak\n",
    "    if adherence.loc[subject,'Status']==1:\n",
    "        current_streak = adherence.loc[subject,'StreakCounter']%7\n",
    "        if current_streak==0:\n",
    "            adherence.loc[subject, 'StreakText'] = f'Congrats, you just completed a 7 day streak!\\n\\nThis means you win a {streak_reward}\\n\\nYou can start another streak today to win more!'\n",
    "            # need to automatically send out gift card, and perhaps keep track...(e.g. streaks_complete +=1)\n",
    "        elif current_streak>=5:\n",
    "            adherence.loc[subject, 'StreakText'] = f'Congrats, you have completed {current_streak} days in a row!\\n\\nJust {7-current_streak} more day(s) and you win {streak_reward}!'\n",
    "        else:\n",
    "            adherence.loc[subject, 'StreakText'] = f'Good job, you have a {current_streak} day streak going...'\n",
    "    if adherence.loc[subject,'Status']==0:\n",
    "        current_streak = adherence.loc[subject,'StreakCounter']\n",
    "        if current_streak>1 and current_streak<6:\n",
    "            adherence.loc[subject, 'StreakText'] = f'Hi, just a reminder that you have missed the last {current_streak} days in a row.\\n\\nIf you miss 6 days in a row we will no longer be able to use your data and will have to remove you from the experiment.'\n",
    "        if current_streak==6:\n",
    "            adherence.loc[subject, 'StreakText'] = f'You have missed {current_streak} days in a row. We will no longer be able to use you data. You will be contacted by the experimenter and removed from the study.'\n",
    "            # email/text to me\n",
    "        if current_streak>6:\n",
    "            adherence.loc[subject, 'StreakText'] = ''"
   ]
  },
  {
   "cell_type": "code",
   "execution_count": 22,
   "metadata": {},
   "outputs": [
    {
     "data": {
      "text/html": [
       "<div>\n",
       "<style scoped>\n",
       "    .dataframe tbody tr th:only-of-type {\n",
       "        vertical-align: middle;\n",
       "    }\n",
       "\n",
       "    .dataframe tbody tr th {\n",
       "        vertical-align: top;\n",
       "    }\n",
       "\n",
       "    .dataframe thead th {\n",
       "        text-align: right;\n",
       "    }\n",
       "</style>\n",
       "<table border=\"1\" class=\"dataframe\">\n",
       "  <thead>\n",
       "    <tr style=\"text-align: right;\">\n",
       "      <th></th>\n",
       "      <th>ParticipantIdentifier</th>\n",
       "      <th>EmailAddress</th>\n",
       "      <th>PhoneNumber</th>\n",
       "      <th>Category</th>\n",
       "      <th>Status</th>\n",
       "      <th>StreakCounter</th>\n",
       "      <th>CompRate</th>\n",
       "      <th>Reward</th>\n",
       "      <th>NextRate</th>\n",
       "      <th>NextReward</th>\n",
       "      <th>StreakText</th>\n",
       "    </tr>\n",
       "  </thead>\n",
       "  <tbody>\n",
       "    <tr>\n",
       "      <th>0</th>\n",
       "      <td>01801252-3a7e-4f5f-8b6d-49e8da3902f3</td>\n",
       "      <td>dw@danieljwilson.com</td>\n",
       "      <td>3109909163</td>\n",
       "      <td>pilot</td>\n",
       "      <td>1</td>\n",
       "      <td>11</td>\n",
       "      <td>0.883028</td>\n",
       "      <td>70</td>\n",
       "      <td>90</td>\n",
       "      <td>100</td>\n",
       "      <td>Good job, you have a 4 day streak going...</td>\n",
       "    </tr>\n",
       "    <tr>\n",
       "      <th>1</th>\n",
       "      <td>531d7f6d-b880-4a0b-b467-80005a316f1c</td>\n",
       "      <td>donna.vakalis@olympian.org</td>\n",
       "      <td>4164271077</td>\n",
       "      <td>pilot</td>\n",
       "      <td>0</td>\n",
       "      <td>5</td>\n",
       "      <td>0.462094</td>\n",
       "      <td>0</td>\n",
       "      <td>50</td>\n",
       "      <td>25</td>\n",
       "      <td>Hi, just a reminder that you have missed the l...</td>\n",
       "    </tr>\n",
       "    <tr>\n",
       "      <th>2</th>\n",
       "      <td>d26d4b78-7fcf-488e-b687-2d1c93c47b74</td>\n",
       "      <td>medialpfc@gmail.com</td>\n",
       "      <td>6477745286</td>\n",
       "      <td>pilot</td>\n",
       "      <td>1</td>\n",
       "      <td>1</td>\n",
       "      <td>0.171348</td>\n",
       "      <td>0</td>\n",
       "      <td>50</td>\n",
       "      <td>25</td>\n",
       "      <td>Good job, you have a 1 day streak going...</td>\n",
       "    </tr>\n",
       "  </tbody>\n",
       "</table>\n",
       "</div>"
      ],
      "text/plain": [
       "                  ParticipantIdentifier                EmailAddress  \\\n",
       "0  01801252-3a7e-4f5f-8b6d-49e8da3902f3        dw@danieljwilson.com   \n",
       "1  531d7f6d-b880-4a0b-b467-80005a316f1c  donna.vakalis@olympian.org   \n",
       "2  d26d4b78-7fcf-488e-b687-2d1c93c47b74         medialpfc@gmail.com   \n",
       "\n",
       "  PhoneNumber Category  Status  StreakCounter  CompRate  Reward  NextRate  \\\n",
       "0  3109909163    pilot       1             11  0.883028      70        90   \n",
       "1  4164271077    pilot       0              5  0.462094       0        50   \n",
       "2  6477745286    pilot       1              1  0.171348       0        50   \n",
       "\n",
       "   NextReward                                         StreakText  \n",
       "0         100         Good job, you have a 4 day streak going...  \n",
       "1          25  Hi, just a reminder that you have missed the l...  \n",
       "2          25         Good job, you have a 1 day streak going...  "
      ]
     },
     "execution_count": 22,
     "metadata": {},
     "output_type": "execute_result"
    }
   ],
   "source": [
    "adherence"
   ]
  },
  {
   "cell_type": "markdown",
   "metadata": {},
   "source": [
    "# Notifications"
   ]
  },
  {
   "cell_type": "markdown",
   "metadata": {},
   "source": [
    "## Twilio"
   ]
  },
  {
   "cell_type": "markdown",
   "metadata": {},
   "source": [
    "[Some info](https://www.twilio.com/blog/2017/01/how-to-set-environment-variables.html) on setting environment variables.\n",
    "\n",
    "And [how to use](https://github.com/theskumar/python-dotenv) `dotenv`...\n",
    "\n",
    "[Guide](https://www.twilio.com/docs/sms/tutorials/how-to-send-sms-messages-python) to sending SMS and MMS messgeas in Python with Twilio"
   ]
  },
  {
   "cell_type": "code",
   "execution_count": 23,
   "metadata": {},
   "outputs": [],
   "source": [
    "import os\n",
    "from twilio.rest import Client\n",
    "\n",
    "from dotenv import load_dotenv # for loading .env file with account info"
   ]
  },
  {
   "cell_type": "code",
   "execution_count": 24,
   "metadata": {},
   "outputs": [],
   "source": [
    "def adherence_notification(df):\n",
    "    \"\"\"Send messages to all subjects about their adherence rates.\"\"\"\n",
    "    \n",
    "    for i in range(len(df)):\n",
    "        # Get info on subject\n",
    "        tel_number = df.loc[i,'PhoneNumber']\n",
    "        \n",
    "        current_rate = df.loc[i,'CompRate']*100 # convert to %\n",
    "        current_reward = df.loc[i,'Reward']\n",
    "        next_rate = df.loc[i,'NextRate']\n",
    "        next_reward = df.loc[i,'NextReward']\n",
    "        streak = df.loc[i,'StreakText']\n",
    "        \n",
    "        # create message text\n",
    "        body1 = f'STREAK\\n{streak}\\n\\n'\n",
    "        body2 = f'COMPLETION RATE\\nYour current rate is {current_rate:.0f}%...\\nBased on your current rate you will receive a ${current_reward} bonus when you finish.\\n\\n'\n",
    "        body3 = f'If you can increase your rate to {next_rate}% you will receive a bonus of ${next_reward}!\\n\\n'\n",
    "        \n",
    "        # Send message using Twilio\n",
    "        load_dotenv()  # take environment variables from .env file\n",
    "\n",
    "        account_sid = os.environ['TWILIO_ACCOUNT_SID']\n",
    "        auth_token = os.environ['TWILIO_AUTH_TOKEN']\n",
    "        client = Client(account_sid, auth_token) \n",
    "\n",
    "        message = client.messages \\\n",
    "            .create(\n",
    "                 body=body1+body2+body3,\n",
    "                 from_='+12897242427', # my Twilio number\n",
    "                 to=tel_number\n",
    "             )\n",
    "\n",
    "        # print(message.sid)"
   ]
  },
  {
   "cell_type": "code",
   "execution_count": 25,
   "metadata": {},
   "outputs": [],
   "source": [
    "adherence_notification(adherence)"
   ]
  },
  {
   "cell_type": "code",
   "execution_count": null,
   "metadata": {},
   "outputs": [],
   "source": []
  }
 ],
 "metadata": {
  "kernelspec": {
   "display_name": "Python 3",
   "language": "python",
   "name": "python3"
  },
  "language_info": {
   "codemirror_mode": {
    "name": "ipython",
    "version": 3
   },
   "file_extension": ".py",
   "mimetype": "text/x-python",
   "name": "python",
   "nbconvert_exporter": "python",
   "pygments_lexer": "ipython3",
   "version": "3.8.3"
  },
  "toc-autonumbering": true,
  "toc-showcode": false,
  "toc-showmarkdowntxt": false
 },
 "nbformat": 4,
 "nbformat_minor": 4
}
