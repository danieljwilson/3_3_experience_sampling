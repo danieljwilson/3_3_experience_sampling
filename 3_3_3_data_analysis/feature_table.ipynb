{
 "cells": [
  {
   "cell_type": "markdown",
   "metadata": {},
   "source": [
    "# Logic"
   ]
  },
  {
   "cell_type": "markdown",
   "metadata": {},
   "source": [
    "We need (what we think are) meaningful values for each measure.\n",
    "\n",
    "For example, for each of the health kit tasks (e.g. **Stroop**) find out what people feel are the most meaningful ways to summarize the input into an interpretable output value.\n",
    "\n",
    "With these values we then create features that compare them to themselves. For example to the day(s) before, to the measure's mean, etc.\n",
    "\n",
    "This part needs a more rigorous understanding of predictive modeling with timeseries data."
   ]
  },
  {
   "cell_type": "markdown",
   "metadata": {},
   "source": [
    "# Start Up"
   ]
  },
  {
   "cell_type": "markdown",
   "metadata": {},
   "source": [
    "## Imports"
   ]
  },
  {
   "cell_type": "code",
   "execution_count": 27,
   "metadata": {},
   "outputs": [],
   "source": [
    "import numpy as np\n",
    "import pandas as pd\n",
    "import pickle\n",
    "import datetime\n",
    "\n",
    "import seaborn as sns"
   ]
  },
  {
   "cell_type": "markdown",
   "metadata": {},
   "source": [
    "## Load Data"
   ]
  },
  {
   "cell_type": "code",
   "execution_count": 28,
   "metadata": {},
   "outputs": [],
   "source": [
    "save_path = \"/Users/djw/Documents/pCloud_synced/Academics/Projects/2020_thesis/thesis_experiments/3_experiments/3_3_experience_sampling/3_3_2_processed_data/\"\n",
    "\n",
    "in_file = open(save_path + \"app_data.pkl\", \"rb\")\n",
    "app_data = pickle.load(in_file)"
   ]
  },
  {
   "cell_type": "markdown",
   "metadata": {},
   "source": [
    "# Table"
   ]
  },
  {
   "cell_type": "markdown",
   "metadata": {},
   "source": [
    "## Add Basic Features"
   ]
  },
  {
   "cell_type": "markdown",
   "metadata": {},
   "source": [
    "### Add Date Sent Out"
   ]
  },
  {
   "cell_type": "markdown",
   "metadata": {},
   "source": [
    "---\n",
    "**NB** | This should be the day when the survey is **sent out**...\n",
    "\n",
    "Let's make sure that the `DueDate` refers to the correct day, since it references **UTC**, or \"zero\" offset (hence the `Z` at the end of the datetime string, e.g. `2021-05-01T23:55:04Z`)."
   ]
  },
  {
   "cell_type": "code",
   "execution_count": 48,
   "metadata": {},
   "outputs": [
    {
     "data": {
      "text/plain": [
       "'2021-10-10T11:55:00Z'"
      ]
     },
     "execution_count": 48,
     "metadata": {},
     "output_type": "execute_result"
    }
   ],
   "source": [
    "app_data['SurveyTasks'].DueDate[0]"
   ]
  },
  {
   "cell_type": "markdown",
   "metadata": {},
   "source": [
    "---\n",
    "\n",
    "So we need to:\n",
    "- convert `DueDate` to datetime object\n",
    "- convert the time to `US/Eastern` (this will account for daylight savings...nice!)\n",
    "- convert to just the date (ignore time component)\n",
    "- save to `ActualDueDate` column"
   ]
  },
  {
   "cell_type": "code",
   "execution_count": 49,
   "metadata": {},
   "outputs": [],
   "source": [
    "app_data['SurveyTasks']['ActualDueDate'] = pd.to_datetime(app_data['SurveyTasks'].DueDate, format= '%Y-%m-%d').dt.tz_convert('US/Eastern').dt.date"
   ]
  },
  {
   "cell_type": "markdown",
   "metadata": {},
   "source": [
    "### Add Day of Week"
   ]
  },
  {
   "cell_type": "markdown",
   "metadata": {},
   "source": [
    "---\n",
    "Now we also need to label the day of the week.\n",
    "\n",
    "Similar process:\n",
    "- convert `DueDate` to datetime object\n",
    "- convert the time to `US/Eastern` (this will account for daylight savings...nice!)\n",
    "- convert to day of the week\n",
    "- save to `ActualWeekday`\n",
    "\n",
    "**Important**\n",
    "- 0 = Monday\n",
    "- ...\n",
    "- 6 = Sunday"
   ]
  },
  {
   "cell_type": "code",
   "execution_count": 50,
   "metadata": {},
   "outputs": [],
   "source": [
    "# add day of week information\n",
    "app_data['SurveyTasks']['DayOfWeek'] = pd.to_datetime(app_data['SurveyTasks'].DueDate, format= '%Y-%m-%d').dt.tz_convert('US/Eastern').dt.weekday"
   ]
  },
  {
   "cell_type": "markdown",
   "metadata": {},
   "source": [
    "### Weekday/Weekend"
   ]
  },
  {
   "cell_type": "code",
   "execution_count": 51,
   "metadata": {},
   "outputs": [],
   "source": [
    "# Saturday/Sunday take value 0\n",
    "app_data['SurveyTasks']['IsWeekday'] = [1 if day<5 else 0 for day in app_data['SurveyTasks']['DayOfWeek']]\n",
    "\n",
    "# Make categorical variable\n",
    "app_data['SurveyTasks']['IsWeekday'] = app_data['SurveyTasks']['IsWeekday'].astype('category')"
   ]
  },
  {
   "cell_type": "code",
   "execution_count": 52,
   "metadata": {},
   "outputs": [],
   "source": [
    "# remove duplicates (want one row for each participant/date combo)\n",
    "df = app_data['SurveyTasks'].drop_duplicates(subset=['ParticipantIdentifier', 'ActualDueDate'])"
   ]
  },
  {
   "cell_type": "code",
   "execution_count": 53,
   "metadata": {},
   "outputs": [
    {
     "data": {
      "text/html": [
       "<div>\n",
       "<style scoped>\n",
       "    .dataframe tbody tr th:only-of-type {\n",
       "        vertical-align: middle;\n",
       "    }\n",
       "\n",
       "    .dataframe tbody tr th {\n",
       "        vertical-align: top;\n",
       "    }\n",
       "\n",
       "    .dataframe thead th {\n",
       "        text-align: right;\n",
       "    }\n",
       "</style>\n",
       "<table border=\"1\" class=\"dataframe\">\n",
       "  <thead>\n",
       "    <tr style=\"text-align: right;\">\n",
       "      <th></th>\n",
       "      <th>ParticipantIdentifier</th>\n",
       "      <th>ActualDueDate</th>\n",
       "      <th>DayOfWeek</th>\n",
       "      <th>IsWeekday</th>\n",
       "    </tr>\n",
       "  </thead>\n",
       "  <tbody>\n",
       "    <tr>\n",
       "      <th>0</th>\n",
       "      <td>e7b2c780-2e2c-4181-8075-0719e0434215</td>\n",
       "      <td>2021-10-10</td>\n",
       "      <td>6</td>\n",
       "      <td>0</td>\n",
       "    </tr>\n",
       "    <tr>\n",
       "      <th>1</th>\n",
       "      <td>01801252-3a7e-4f5f-8b6d-49e8da3902f3</td>\n",
       "      <td>2021-10-16</td>\n",
       "      <td>5</td>\n",
       "      <td>0</td>\n",
       "    </tr>\n",
       "    <tr>\n",
       "      <th>2</th>\n",
       "      <td>229876e0-c6b0-42b7-9d83-85f07f12eb05</td>\n",
       "      <td>2021-10-16</td>\n",
       "      <td>5</td>\n",
       "      <td>0</td>\n",
       "    </tr>\n",
       "    <tr>\n",
       "      <th>3</th>\n",
       "      <td>531d7f6d-b880-4a0b-b467-80005a316f1c</td>\n",
       "      <td>2021-10-16</td>\n",
       "      <td>5</td>\n",
       "      <td>0</td>\n",
       "    </tr>\n",
       "    <tr>\n",
       "      <th>4</th>\n",
       "      <td>d26d4b78-7fcf-488e-b687-2d1c93c47b74</td>\n",
       "      <td>2021-10-16</td>\n",
       "      <td>5</td>\n",
       "      <td>0</td>\n",
       "    </tr>\n",
       "  </tbody>\n",
       "</table>\n",
       "</div>"
      ],
      "text/plain": [
       "                  ParticipantIdentifier ActualDueDate  DayOfWeek IsWeekday\n",
       "0  e7b2c780-2e2c-4181-8075-0719e0434215    2021-10-10          6         0\n",
       "1  01801252-3a7e-4f5f-8b6d-49e8da3902f3    2021-10-16          5         0\n",
       "2  229876e0-c6b0-42b7-9d83-85f07f12eb05    2021-10-16          5         0\n",
       "3  531d7f6d-b880-4a0b-b467-80005a316f1c    2021-10-16          5         0\n",
       "4  d26d4b78-7fcf-488e-b687-2d1c93c47b74    2021-10-16          5         0"
      ]
     },
     "execution_count": 53,
     "metadata": {},
     "output_type": "execute_result"
    }
   ],
   "source": [
    "# remove unneeded columns\n",
    "df = df[['ParticipantIdentifier', 'ActualDueDate', 'DayOfWeek', 'IsWeekday']].reset_index(drop=True)\n",
    "df.head()"
   ]
  },
  {
   "cell_type": "markdown",
   "metadata": {},
   "source": [
    "### Number of tasks completed"
   ]
  },
  {
   "cell_type": "code",
   "execution_count": 54,
   "metadata": {},
   "outputs": [
    {
     "data": {
      "text/html": [
       "<div>\n",
       "<style scoped>\n",
       "    .dataframe tbody tr th:only-of-type {\n",
       "        vertical-align: middle;\n",
       "    }\n",
       "\n",
       "    .dataframe tbody tr th {\n",
       "        vertical-align: top;\n",
       "    }\n",
       "\n",
       "    .dataframe thead th {\n",
       "        text-align: right;\n",
       "    }\n",
       "</style>\n",
       "<table border=\"1\" class=\"dataframe\">\n",
       "  <thead>\n",
       "    <tr style=\"text-align: right;\">\n",
       "      <th></th>\n",
       "      <th>ParticipantIdentifier</th>\n",
       "      <th>ActualDueDate</th>\n",
       "      <th>CompleteCount</th>\n",
       "    </tr>\n",
       "  </thead>\n",
       "  <tbody>\n",
       "    <tr>\n",
       "      <th>0</th>\n",
       "      <td>01801252-3a7e-4f5f-8b6d-49e8da3902f3</td>\n",
       "      <td>2021-02-02</td>\n",
       "      <td>6</td>\n",
       "    </tr>\n",
       "    <tr>\n",
       "      <th>1</th>\n",
       "      <td>01801252-3a7e-4f5f-8b6d-49e8da3902f3</td>\n",
       "      <td>2021-02-04</td>\n",
       "      <td>6</td>\n",
       "    </tr>\n",
       "  </tbody>\n",
       "</table>\n",
       "</div>"
      ],
      "text/plain": [
       "                  ParticipantIdentifier ActualDueDate  CompleteCount\n",
       "0  01801252-3a7e-4f5f-8b6d-49e8da3902f3    2021-02-02              6\n",
       "1  01801252-3a7e-4f5f-8b6d-49e8da3902f3    2021-02-04              6"
      ]
     },
     "execution_count": 54,
     "metadata": {},
     "output_type": "execute_result"
    }
   ],
   "source": [
    "# take the rows where Status is Complete\n",
    "# group by participant and date\n",
    "# sum (this is summing the number of survey's completed by subject and day)\n",
    "df_completions = pd.DataFrame(app_data['SurveyTasks'].loc[app_data['SurveyTasks'].Status=='Complete'].groupby(['ParticipantIdentifier', 'ActualDueDate'])['Status'].count()).reset_index()\n",
    "df_completions = df_completions.rename(columns={'Status': 'CompleteCount'})\n",
    "df_completions.head(2)"
   ]
  },
  {
   "cell_type": "code",
   "execution_count": 55,
   "metadata": {},
   "outputs": [
    {
     "data": {
      "text/html": [
       "<div>\n",
       "<style scoped>\n",
       "    .dataframe tbody tr th:only-of-type {\n",
       "        vertical-align: middle;\n",
       "    }\n",
       "\n",
       "    .dataframe tbody tr th {\n",
       "        vertical-align: top;\n",
       "    }\n",
       "\n",
       "    .dataframe thead th {\n",
       "        text-align: right;\n",
       "    }\n",
       "</style>\n",
       "<table border=\"1\" class=\"dataframe\">\n",
       "  <thead>\n",
       "    <tr style=\"text-align: right;\">\n",
       "      <th></th>\n",
       "      <th>ParticipantIdentifier</th>\n",
       "      <th>ActualDueDate</th>\n",
       "      <th>DayOfWeek</th>\n",
       "      <th>IsWeekday</th>\n",
       "      <th>CompleteCount</th>\n",
       "    </tr>\n",
       "  </thead>\n",
       "  <tbody>\n",
       "    <tr>\n",
       "      <th>0</th>\n",
       "      <td>e7b2c780-2e2c-4181-8075-0719e0434215</td>\n",
       "      <td>2021-10-10</td>\n",
       "      <td>6</td>\n",
       "      <td>0</td>\n",
       "      <td>NaN</td>\n",
       "    </tr>\n",
       "    <tr>\n",
       "      <th>1</th>\n",
       "      <td>01801252-3a7e-4f5f-8b6d-49e8da3902f3</td>\n",
       "      <td>2021-10-16</td>\n",
       "      <td>5</td>\n",
       "      <td>0</td>\n",
       "      <td>NaN</td>\n",
       "    </tr>\n",
       "    <tr>\n",
       "      <th>2</th>\n",
       "      <td>229876e0-c6b0-42b7-9d83-85f07f12eb05</td>\n",
       "      <td>2021-10-16</td>\n",
       "      <td>5</td>\n",
       "      <td>0</td>\n",
       "      <td>9.0</td>\n",
       "    </tr>\n",
       "    <tr>\n",
       "      <th>3</th>\n",
       "      <td>531d7f6d-b880-4a0b-b467-80005a316f1c</td>\n",
       "      <td>2021-10-16</td>\n",
       "      <td>5</td>\n",
       "      <td>0</td>\n",
       "      <td>NaN</td>\n",
       "    </tr>\n",
       "  </tbody>\n",
       "</table>\n",
       "</div>"
      ],
      "text/plain": [
       "                  ParticipantIdentifier ActualDueDate  DayOfWeek IsWeekday  \\\n",
       "0  e7b2c780-2e2c-4181-8075-0719e0434215    2021-10-10          6         0   \n",
       "1  01801252-3a7e-4f5f-8b6d-49e8da3902f3    2021-10-16          5         0   \n",
       "2  229876e0-c6b0-42b7-9d83-85f07f12eb05    2021-10-16          5         0   \n",
       "3  531d7f6d-b880-4a0b-b467-80005a316f1c    2021-10-16          5         0   \n",
       "\n",
       "   CompleteCount  \n",
       "0            NaN  \n",
       "1            NaN  \n",
       "2            9.0  \n",
       "3            NaN  "
      ]
     },
     "execution_count": 55,
     "metadata": {},
     "output_type": "execute_result"
    }
   ],
   "source": [
    "# join\n",
    "df = df.merge(df_completions, how='left', on=['ParticipantIdentifier', 'ActualDueDate'])\n",
    "df.head(4)"
   ]
  },
  {
   "cell_type": "markdown",
   "metadata": {},
   "source": [
    "### Task Duration"
   ]
  },
  {
   "cell_type": "markdown",
   "metadata": {},
   "source": [
    "---\n",
    "\n",
    "How long from starting to finishing the task?\n",
    "- Perhaps a measure of distraction?\n",
    "\n",
    "Need to calculate the `EndDate` for the **last** task from the `StartDate` for the **first** task (for a given participant on a given day)."
   ]
  },
  {
   "cell_type": "code",
   "execution_count": 56,
   "metadata": {},
   "outputs": [
    {
     "data": {
      "text/html": [
       "<div>\n",
       "<style scoped>\n",
       "    .dataframe tbody tr th:only-of-type {\n",
       "        vertical-align: middle;\n",
       "    }\n",
       "\n",
       "    .dataframe tbody tr th {\n",
       "        vertical-align: top;\n",
       "    }\n",
       "\n",
       "    .dataframe thead th {\n",
       "        text-align: right;\n",
       "    }\n",
       "</style>\n",
       "<table border=\"1\" class=\"dataframe\">\n",
       "  <thead>\n",
       "    <tr style=\"text-align: right;\">\n",
       "      <th></th>\n",
       "      <th>SurveyStepResultKey</th>\n",
       "      <th>SurveyResultKey</th>\n",
       "      <th>ParticipantIdentifier</th>\n",
       "      <th>StepIdentifier</th>\n",
       "      <th>StartDate</th>\n",
       "      <th>EndDate</th>\n",
       "      <th>ActualDueDate</th>\n",
       "      <th>DiffDate</th>\n",
       "      <th>TaskTime</th>\n",
       "    </tr>\n",
       "  </thead>\n",
       "  <tbody>\n",
       "    <tr>\n",
       "      <th>0</th>\n",
       "      <td>af755c8f-0c2f-ec11-aab2-0afb9334277d</td>\n",
       "      <td>a6755c8f-0c2f-ec11-aab2-0afb9334277d</td>\n",
       "      <td>229876e0-c6b0-42b7-9d83-85f07f12eb05</td>\n",
       "      <td>DAILY_survey_situation1</td>\n",
       "      <td>2021-10-17T01:38:29-04:00</td>\n",
       "      <td>2021-10-17T01:38:32-04:00</td>\n",
       "      <td>2021-10-16</td>\n",
       "      <td>00:00:03</td>\n",
       "      <td>00:10:44</td>\n",
       "    </tr>\n",
       "    <tr>\n",
       "      <th>1</th>\n",
       "      <td>b0755c8f-0c2f-ec11-aab2-0afb9334277d</td>\n",
       "      <td>a6755c8f-0c2f-ec11-aab2-0afb9334277d</td>\n",
       "      <td>229876e0-c6b0-42b7-9d83-85f07f12eb05</td>\n",
       "      <td>DAILY_survey_situation2</td>\n",
       "      <td>2021-10-17T01:38:32-04:00</td>\n",
       "      <td>2021-10-17T01:38:35-04:00</td>\n",
       "      <td>2021-10-16</td>\n",
       "      <td>00:00:03</td>\n",
       "      <td>00:10:44</td>\n",
       "    </tr>\n",
       "  </tbody>\n",
       "</table>\n",
       "</div>"
      ],
      "text/plain": [
       "                    SurveyStepResultKey                       SurveyResultKey  \\\n",
       "0  af755c8f-0c2f-ec11-aab2-0afb9334277d  a6755c8f-0c2f-ec11-aab2-0afb9334277d   \n",
       "1  b0755c8f-0c2f-ec11-aab2-0afb9334277d  a6755c8f-0c2f-ec11-aab2-0afb9334277d   \n",
       "\n",
       "                  ParticipantIdentifier           StepIdentifier  \\\n",
       "0  229876e0-c6b0-42b7-9d83-85f07f12eb05  DAILY_survey_situation1   \n",
       "1  229876e0-c6b0-42b7-9d83-85f07f12eb05  DAILY_survey_situation2   \n",
       "\n",
       "                   StartDate                    EndDate ActualDueDate  \\\n",
       "0  2021-10-17T01:38:29-04:00  2021-10-17T01:38:32-04:00    2021-10-16   \n",
       "1  2021-10-17T01:38:32-04:00  2021-10-17T01:38:35-04:00    2021-10-16   \n",
       "\n",
       "  DiffDate TaskTime  \n",
       "0 00:00:03 00:10:44  \n",
       "1 00:00:03 00:10:44  "
      ]
     },
     "execution_count": 56,
     "metadata": {},
     "output_type": "execute_result"
    }
   ],
   "source": [
    "# group by participant and day\n",
    "# find min(StartDate) and max(EndDate) and the time difference between\n",
    "app_data['SurveyStepResults'].head(2)"
   ]
  },
  {
   "cell_type": "markdown",
   "metadata": {},
   "source": [
    "---\n",
    "\n",
    "**For Evening Survey Schedule**\n",
    "- alert goes out at 19:55, and expires at 05:00\n",
    "- entries in this window all count as the same day\n",
    "\n",
    "**For Morning Survey Schedule**\n",
    "- alert goes out at 7:55, and expires at 14:00\n",
    "- entries do not need to be adjusted to get the correct day\n",
    "\n",
    "Therefore *any entries between 0:00 and 5:00 should be assigned to the* ***previous day***"
   ]
  },
  {
   "cell_type": "code",
   "execution_count": 57,
   "metadata": {},
   "outputs": [
    {
     "name": "stderr",
     "output_type": "stream",
     "text": [
      "<ipython-input-57-e9ee9341f895>:10: SettingWithCopyWarning: \n",
      "A value is trying to be set on a copy of a slice from a DataFrame\n",
      "\n",
      "See the caveats in the documentation: https://pandas.pydata.org/pandas-docs/stable/user_guide/indexing.html#returning-a-view-versus-a-copy\n",
      "  app_data['SurveyStepResults']['ActualDueDate'][i] = pd.to_datetime(app_data['SurveyStepResults'].EndDate[i], format= '%Y-%m-%d', utc=True).tz_convert('US/Eastern').date() - datetime.timedelta(days=1)\n",
      "<ipython-input-57-e9ee9341f895>:12: SettingWithCopyWarning: \n",
      "A value is trying to be set on a copy of a slice from a DataFrame\n",
      "\n",
      "See the caveats in the documentation: https://pandas.pydata.org/pandas-docs/stable/user_guide/indexing.html#returning-a-view-versus-a-copy\n",
      "  app_data['SurveyStepResults']['ActualDueDate'][i] = pd.to_datetime(app_data['SurveyStepResults'].EndDate[i], format= '%Y-%m-%d', utc=True).tz_convert('US/Eastern').date()\n"
     ]
    }
   ],
   "source": [
    "# Add date column\n",
    "app_data['SurveyStepResults']['ActualDueDate'] = 0\n",
    "x=0\n",
    "# Faster way than loop to do this?\n",
    "for i in range(len(app_data['SurveyStepResults'].EndDate)):\n",
    "\n",
    "    if pd.to_datetime(app_data['SurveyStepResults'].EndDate[i], format= '%Y-%m-%d', utc=True).tz_convert('US/Eastern').hour < 5:\n",
    "        x+=1\n",
    "        # subtract one day from date\n",
    "        app_data['SurveyStepResults']['ActualDueDate'][i] = pd.to_datetime(app_data['SurveyStepResults'].EndDate[i], format= '%Y-%m-%d', utc=True).tz_convert('US/Eastern').date() - datetime.timedelta(days=1)\n",
    "    else:\n",
    "        app_data['SurveyStepResults']['ActualDueDate'][i] = pd.to_datetime(app_data['SurveyStepResults'].EndDate[i], format= '%Y-%m-%d', utc=True).tz_convert('US/Eastern').date()"
   ]
  },
  {
   "cell_type": "code",
   "execution_count": 58,
   "metadata": {},
   "outputs": [
    {
     "data": {
      "text/html": [
       "<div>\n",
       "<style scoped>\n",
       "    .dataframe tbody tr th:only-of-type {\n",
       "        vertical-align: middle;\n",
       "    }\n",
       "\n",
       "    .dataframe tbody tr th {\n",
       "        vertical-align: top;\n",
       "    }\n",
       "\n",
       "    .dataframe thead th {\n",
       "        text-align: right;\n",
       "    }\n",
       "</style>\n",
       "<table border=\"1\" class=\"dataframe\">\n",
       "  <thead>\n",
       "    <tr style=\"text-align: right;\">\n",
       "      <th></th>\n",
       "      <th>SurveyStepResultKey</th>\n",
       "      <th>SurveyResultKey</th>\n",
       "      <th>ParticipantIdentifier</th>\n",
       "      <th>StepIdentifier</th>\n",
       "      <th>StartDate</th>\n",
       "      <th>EndDate</th>\n",
       "      <th>ActualDueDate</th>\n",
       "      <th>DiffDate</th>\n",
       "      <th>TaskTime</th>\n",
       "    </tr>\n",
       "  </thead>\n",
       "  <tbody>\n",
       "    <tr>\n",
       "      <th>0</th>\n",
       "      <td>af755c8f-0c2f-ec11-aab2-0afb9334277d</td>\n",
       "      <td>a6755c8f-0c2f-ec11-aab2-0afb9334277d</td>\n",
       "      <td>229876e0-c6b0-42b7-9d83-85f07f12eb05</td>\n",
       "      <td>DAILY_survey_situation1</td>\n",
       "      <td>2021-10-17T01:38:29-04:00</td>\n",
       "      <td>2021-10-17T01:38:32-04:00</td>\n",
       "      <td>2021-10-16</td>\n",
       "      <td>00:00:03</td>\n",
       "      <td>00:10:44</td>\n",
       "    </tr>\n",
       "    <tr>\n",
       "      <th>1</th>\n",
       "      <td>b0755c8f-0c2f-ec11-aab2-0afb9334277d</td>\n",
       "      <td>a6755c8f-0c2f-ec11-aab2-0afb9334277d</td>\n",
       "      <td>229876e0-c6b0-42b7-9d83-85f07f12eb05</td>\n",
       "      <td>DAILY_survey_situation2</td>\n",
       "      <td>2021-10-17T01:38:32-04:00</td>\n",
       "      <td>2021-10-17T01:38:35-04:00</td>\n",
       "      <td>2021-10-16</td>\n",
       "      <td>00:00:03</td>\n",
       "      <td>00:10:44</td>\n",
       "    </tr>\n",
       "  </tbody>\n",
       "</table>\n",
       "</div>"
      ],
      "text/plain": [
       "                    SurveyStepResultKey                       SurveyResultKey  \\\n",
       "0  af755c8f-0c2f-ec11-aab2-0afb9334277d  a6755c8f-0c2f-ec11-aab2-0afb9334277d   \n",
       "1  b0755c8f-0c2f-ec11-aab2-0afb9334277d  a6755c8f-0c2f-ec11-aab2-0afb9334277d   \n",
       "\n",
       "                  ParticipantIdentifier           StepIdentifier  \\\n",
       "0  229876e0-c6b0-42b7-9d83-85f07f12eb05  DAILY_survey_situation1   \n",
       "1  229876e0-c6b0-42b7-9d83-85f07f12eb05  DAILY_survey_situation2   \n",
       "\n",
       "                   StartDate                    EndDate ActualDueDate  \\\n",
       "0  2021-10-17T01:38:29-04:00  2021-10-17T01:38:32-04:00    2021-10-16   \n",
       "1  2021-10-17T01:38:32-04:00  2021-10-17T01:38:35-04:00    2021-10-16   \n",
       "\n",
       "  DiffDate TaskTime  \n",
       "0 00:00:03 00:10:44  \n",
       "1 00:00:03 00:10:44  "
      ]
     },
     "execution_count": 58,
     "metadata": {},
     "output_type": "execute_result"
    }
   ],
   "source": [
    "app_data['SurveyStepResults'].head(2)"
   ]
  },
  {
   "cell_type": "markdown",
   "metadata": {},
   "source": [
    "---\n",
    "\n",
    "Just out of curiousity lets see what proportion of survey's are being completed after midnight...😉"
   ]
  },
  {
   "cell_type": "code",
   "execution_count": 59,
   "metadata": {},
   "outputs": [
    {
     "name": "stdout",
     "output_type": "stream",
     "text": [
      "Percentage of entries that are happening after midnight: 31.0%\n"
     ]
    }
   ],
   "source": [
    "# calculate % of post midnight entries\n",
    "pct = x/app_data['SurveyStepResults'].shape[0]*100\n",
    "\n",
    "print(f'Percentage of entries that are happening after midnight: {pct:.1f}%')"
   ]
  },
  {
   "cell_type": "markdown",
   "metadata": {},
   "source": [
    "---\n",
    "\n",
    "We want to get **both**:\n",
    "1. `TaskTime`: Time spent on the tasks, total\n",
    "2. `TotalTime`: Elapsed time from starting the task to completion\n",
    "3. `OffTaskTime`: The difference between these two ($TotalTime - TaskTime$) as a possible proxy for distraction\n"
   ]
  },
  {
   "cell_type": "code",
   "execution_count": 60,
   "metadata": {},
   "outputs": [
    {
     "data": {
      "text/html": [
       "<div>\n",
       "<style scoped>\n",
       "    .dataframe tbody tr th:only-of-type {\n",
       "        vertical-align: middle;\n",
       "    }\n",
       "\n",
       "    .dataframe tbody tr th {\n",
       "        vertical-align: top;\n",
       "    }\n",
       "\n",
       "    .dataframe thead th {\n",
       "        text-align: right;\n",
       "    }\n",
       "</style>\n",
       "<table border=\"1\" class=\"dataframe\">\n",
       "  <thead>\n",
       "    <tr style=\"text-align: right;\">\n",
       "      <th></th>\n",
       "      <th>ParticipantIdentifier</th>\n",
       "      <th>ActualDueDate</th>\n",
       "      <th>TaskTime</th>\n",
       "    </tr>\n",
       "  </thead>\n",
       "  <tbody>\n",
       "    <tr>\n",
       "      <th>0</th>\n",
       "      <td>229876e0-c6b0-42b7-9d83-85f07f12eb05</td>\n",
       "      <td>2021-10-16</td>\n",
       "      <td>00:10:44</td>\n",
       "    </tr>\n",
       "    <tr>\n",
       "      <th>1</th>\n",
       "      <td>ff6860f4-c110-4545-9297-95f8888d2e03</td>\n",
       "      <td>2021-10-17</td>\n",
       "      <td>00:09:30</td>\n",
       "    </tr>\n",
       "  </tbody>\n",
       "</table>\n",
       "</div>"
      ],
      "text/plain": [
       "                  ParticipantIdentifier ActualDueDate TaskTime\n",
       "0  229876e0-c6b0-42b7-9d83-85f07f12eb05    2021-10-16 00:10:44\n",
       "1  ff6860f4-c110-4545-9297-95f8888d2e03    2021-10-17 00:09:30"
      ]
     },
     "execution_count": 60,
     "metadata": {},
     "output_type": "execute_result"
    }
   ],
   "source": [
    "# add elapsed time column for each step\n",
    "app_data['SurveyStepResults']['DiffDate'] = pd.to_datetime(app_data['SurveyStepResults'].EndDate, format= '%Y-%m-%d', utc=True) -\\\n",
    "pd.to_datetime(app_data['SurveyStepResults'].StartDate, format= '%Y-%m-%d', utc=True)\n",
    "\n",
    "# sum up time on each task step\n",
    "app_data['SurveyStepResults']['TaskTime'] = app_data['SurveyStepResults'].groupby(\n",
    "    ['ActualDueDate', 'ParticipantIdentifier']\n",
    ")['DiffDate'].transform('sum')\n",
    "\n",
    "# create new df with total TaskTime\n",
    "df_task_time = app_data['SurveyStepResults'][['ParticipantIdentifier', 'ActualDueDate', 'TaskTime']].drop_duplicates(subset=['ActualDueDate', 'ParticipantIdentifier']).reset_index(drop=True)\n",
    "df_task_time.head(2)"
   ]
  },
  {
   "cell_type": "code",
   "execution_count": 61,
   "metadata": {},
   "outputs": [
    {
     "data": {
      "text/html": [
       "<div>\n",
       "<style scoped>\n",
       "    .dataframe tbody tr th:only-of-type {\n",
       "        vertical-align: middle;\n",
       "    }\n",
       "\n",
       "    .dataframe tbody tr th {\n",
       "        vertical-align: top;\n",
       "    }\n",
       "\n",
       "    .dataframe thead th {\n",
       "        text-align: right;\n",
       "    }\n",
       "</style>\n",
       "<table border=\"1\" class=\"dataframe\">\n",
       "  <thead>\n",
       "    <tr style=\"text-align: right;\">\n",
       "      <th></th>\n",
       "      <th>ParticipantIdentifier</th>\n",
       "      <th>ActualDueDate</th>\n",
       "      <th>DayOfWeek</th>\n",
       "      <th>IsWeekday</th>\n",
       "      <th>CompleteCount</th>\n",
       "      <th>TaskTime</th>\n",
       "    </tr>\n",
       "  </thead>\n",
       "  <tbody>\n",
       "    <tr>\n",
       "      <th>0</th>\n",
       "      <td>e7b2c780-2e2c-4181-8075-0719e0434215</td>\n",
       "      <td>2021-10-10</td>\n",
       "      <td>6</td>\n",
       "      <td>0</td>\n",
       "      <td>NaN</td>\n",
       "      <td>NaT</td>\n",
       "    </tr>\n",
       "    <tr>\n",
       "      <th>1</th>\n",
       "      <td>01801252-3a7e-4f5f-8b6d-49e8da3902f3</td>\n",
       "      <td>2021-10-16</td>\n",
       "      <td>5</td>\n",
       "      <td>0</td>\n",
       "      <td>NaN</td>\n",
       "      <td>NaT</td>\n",
       "    </tr>\n",
       "    <tr>\n",
       "      <th>2</th>\n",
       "      <td>229876e0-c6b0-42b7-9d83-85f07f12eb05</td>\n",
       "      <td>2021-10-16</td>\n",
       "      <td>5</td>\n",
       "      <td>0</td>\n",
       "      <td>9.0</td>\n",
       "      <td>00:10:44</td>\n",
       "    </tr>\n",
       "    <tr>\n",
       "      <th>3</th>\n",
       "      <td>531d7f6d-b880-4a0b-b467-80005a316f1c</td>\n",
       "      <td>2021-10-16</td>\n",
       "      <td>5</td>\n",
       "      <td>0</td>\n",
       "      <td>NaN</td>\n",
       "      <td>NaT</td>\n",
       "    </tr>\n",
       "  </tbody>\n",
       "</table>\n",
       "</div>"
      ],
      "text/plain": [
       "                  ParticipantIdentifier ActualDueDate  DayOfWeek IsWeekday  \\\n",
       "0  e7b2c780-2e2c-4181-8075-0719e0434215    2021-10-10          6         0   \n",
       "1  01801252-3a7e-4f5f-8b6d-49e8da3902f3    2021-10-16          5         0   \n",
       "2  229876e0-c6b0-42b7-9d83-85f07f12eb05    2021-10-16          5         0   \n",
       "3  531d7f6d-b880-4a0b-b467-80005a316f1c    2021-10-16          5         0   \n",
       "\n",
       "   CompleteCount TaskTime  \n",
       "0            NaN      NaT  \n",
       "1            NaN      NaT  \n",
       "2            9.0 00:10:44  \n",
       "3            NaN      NaT  "
      ]
     },
     "execution_count": 61,
     "metadata": {},
     "output_type": "execute_result"
    }
   ],
   "source": [
    "# join\n",
    "df = df.merge(df_task_time, how='left', on=['ParticipantIdentifier', 'ActualDueDate'])\n",
    "df.head(4)"
   ]
  },
  {
   "cell_type": "code",
   "execution_count": 62,
   "metadata": {},
   "outputs": [],
   "source": [
    "# Subtract the completion of the last event by a given participant on a given day from the start of their first event.\n",
    "df_duration = pd.DataFrame(pd.to_datetime(app_data['SurveyStepResults'].groupby(['ActualDueDate', 'ParticipantIdentifier'])['EndDate'].max(), format= '%Y-%m-%d', utc=True) -\\\n",
    "pd.to_datetime(app_data['SurveyStepResults'].groupby(['ActualDueDate', 'ParticipantIdentifier'])['StartDate'].min(), format= '%Y-%m-%d', utc=True)).reset_index()\n",
    "\n",
    "# rename column\n",
    "df_duration = df_duration.rename(columns={0: 'TotalTime'})"
   ]
  },
  {
   "cell_type": "code",
   "execution_count": 63,
   "metadata": {},
   "outputs": [
    {
     "data": {
      "text/html": [
       "<div>\n",
       "<style scoped>\n",
       "    .dataframe tbody tr th:only-of-type {\n",
       "        vertical-align: middle;\n",
       "    }\n",
       "\n",
       "    .dataframe tbody tr th {\n",
       "        vertical-align: top;\n",
       "    }\n",
       "\n",
       "    .dataframe thead th {\n",
       "        text-align: right;\n",
       "    }\n",
       "</style>\n",
       "<table border=\"1\" class=\"dataframe\">\n",
       "  <thead>\n",
       "    <tr style=\"text-align: right;\">\n",
       "      <th></th>\n",
       "      <th>ActualDueDate</th>\n",
       "      <th>ParticipantIdentifier</th>\n",
       "      <th>TotalTime</th>\n",
       "    </tr>\n",
       "  </thead>\n",
       "  <tbody>\n",
       "    <tr>\n",
       "      <th>0</th>\n",
       "      <td>2021-01-26</td>\n",
       "      <td>aa537073-0535-401a-b9c8-7ec1c802e0d0</td>\n",
       "      <td>00:26:40</td>\n",
       "    </tr>\n",
       "    <tr>\n",
       "      <th>1</th>\n",
       "      <td>2021-01-28</td>\n",
       "      <td>aa537073-0535-401a-b9c8-7ec1c802e0d0</td>\n",
       "      <td>07:56:08</td>\n",
       "    </tr>\n",
       "  </tbody>\n",
       "</table>\n",
       "</div>"
      ],
      "text/plain": [
       "  ActualDueDate                 ParticipantIdentifier TotalTime\n",
       "0    2021-01-26  aa537073-0535-401a-b9c8-7ec1c802e0d0  00:26:40\n",
       "1    2021-01-28  aa537073-0535-401a-b9c8-7ec1c802e0d0  07:56:08"
      ]
     },
     "execution_count": 63,
     "metadata": {},
     "output_type": "execute_result"
    }
   ],
   "source": [
    "df_duration.head(2)"
   ]
  },
  {
   "cell_type": "code",
   "execution_count": 64,
   "metadata": {},
   "outputs": [
    {
     "data": {
      "text/html": [
       "<div>\n",
       "<style scoped>\n",
       "    .dataframe tbody tr th:only-of-type {\n",
       "        vertical-align: middle;\n",
       "    }\n",
       "\n",
       "    .dataframe tbody tr th {\n",
       "        vertical-align: top;\n",
       "    }\n",
       "\n",
       "    .dataframe thead th {\n",
       "        text-align: right;\n",
       "    }\n",
       "</style>\n",
       "<table border=\"1\" class=\"dataframe\">\n",
       "  <thead>\n",
       "    <tr style=\"text-align: right;\">\n",
       "      <th></th>\n",
       "      <th>ParticipantIdentifier</th>\n",
       "      <th>ActualDueDate</th>\n",
       "      <th>DayOfWeek</th>\n",
       "      <th>IsWeekday</th>\n",
       "      <th>CompleteCount</th>\n",
       "      <th>TaskTime</th>\n",
       "      <th>TotalTime</th>\n",
       "    </tr>\n",
       "  </thead>\n",
       "  <tbody>\n",
       "    <tr>\n",
       "      <th>0</th>\n",
       "      <td>e7b2c780-2e2c-4181-8075-0719e0434215</td>\n",
       "      <td>2021-10-10</td>\n",
       "      <td>6</td>\n",
       "      <td>0</td>\n",
       "      <td>NaN</td>\n",
       "      <td>NaT</td>\n",
       "      <td>NaT</td>\n",
       "    </tr>\n",
       "    <tr>\n",
       "      <th>1</th>\n",
       "      <td>01801252-3a7e-4f5f-8b6d-49e8da3902f3</td>\n",
       "      <td>2021-10-16</td>\n",
       "      <td>5</td>\n",
       "      <td>0</td>\n",
       "      <td>NaN</td>\n",
       "      <td>NaT</td>\n",
       "      <td>NaT</td>\n",
       "    </tr>\n",
       "    <tr>\n",
       "      <th>2</th>\n",
       "      <td>229876e0-c6b0-42b7-9d83-85f07f12eb05</td>\n",
       "      <td>2021-10-16</td>\n",
       "      <td>5</td>\n",
       "      <td>0</td>\n",
       "      <td>9.0</td>\n",
       "      <td>00:10:44</td>\n",
       "      <td>00:12:35</td>\n",
       "    </tr>\n",
       "    <tr>\n",
       "      <th>3</th>\n",
       "      <td>531d7f6d-b880-4a0b-b467-80005a316f1c</td>\n",
       "      <td>2021-10-16</td>\n",
       "      <td>5</td>\n",
       "      <td>0</td>\n",
       "      <td>NaN</td>\n",
       "      <td>NaT</td>\n",
       "      <td>NaT</td>\n",
       "    </tr>\n",
       "  </tbody>\n",
       "</table>\n",
       "</div>"
      ],
      "text/plain": [
       "                  ParticipantIdentifier ActualDueDate  DayOfWeek IsWeekday  \\\n",
       "0  e7b2c780-2e2c-4181-8075-0719e0434215    2021-10-10          6         0   \n",
       "1  01801252-3a7e-4f5f-8b6d-49e8da3902f3    2021-10-16          5         0   \n",
       "2  229876e0-c6b0-42b7-9d83-85f07f12eb05    2021-10-16          5         0   \n",
       "3  531d7f6d-b880-4a0b-b467-80005a316f1c    2021-10-16          5         0   \n",
       "\n",
       "   CompleteCount TaskTime TotalTime  \n",
       "0            NaN      NaT       NaT  \n",
       "1            NaN      NaT       NaT  \n",
       "2            9.0 00:10:44  00:12:35  \n",
       "3            NaN      NaT       NaT  "
      ]
     },
     "execution_count": 64,
     "metadata": {},
     "output_type": "execute_result"
    }
   ],
   "source": [
    "# join\n",
    "df = df.merge(df_duration, how='left', on=['ParticipantIdentifier', 'ActualDueDate'])\n",
    "df.head(4)"
   ]
  },
  {
   "cell_type": "code",
   "execution_count": 65,
   "metadata": {},
   "outputs": [],
   "source": [
    "# calculate off task time\n",
    "df['OffTaskTime'] = df.TotalTime - df.TaskTime"
   ]
  },
  {
   "cell_type": "markdown",
   "metadata": {},
   "source": [
    "Not sure if this is the best approach but I now convert:\n",
    "- `TaskTime`\n",
    "- `TotalTime`\n",
    "- `OffTaskTime`\n",
    "\n",
    "Into a float that represents **minutes**"
   ]
  },
  {
   "cell_type": "code",
   "execution_count": 66,
   "metadata": {},
   "outputs": [
    {
     "data": {
      "text/html": [
       "<div>\n",
       "<style scoped>\n",
       "    .dataframe tbody tr th:only-of-type {\n",
       "        vertical-align: middle;\n",
       "    }\n",
       "\n",
       "    .dataframe tbody tr th {\n",
       "        vertical-align: top;\n",
       "    }\n",
       "\n",
       "    .dataframe thead th {\n",
       "        text-align: right;\n",
       "    }\n",
       "</style>\n",
       "<table border=\"1\" class=\"dataframe\">\n",
       "  <thead>\n",
       "    <tr style=\"text-align: right;\">\n",
       "      <th></th>\n",
       "      <th>ParticipantIdentifier</th>\n",
       "      <th>ActualDueDate</th>\n",
       "      <th>DayOfWeek</th>\n",
       "      <th>IsWeekday</th>\n",
       "      <th>CompleteCount</th>\n",
       "      <th>TaskTime</th>\n",
       "      <th>TotalTime</th>\n",
       "      <th>OffTaskTime</th>\n",
       "    </tr>\n",
       "  </thead>\n",
       "  <tbody>\n",
       "    <tr>\n",
       "      <th>0</th>\n",
       "      <td>e7b2c780-2e2c-4181-8075-0719e0434215</td>\n",
       "      <td>2021-10-10</td>\n",
       "      <td>6</td>\n",
       "      <td>0</td>\n",
       "      <td>NaN</td>\n",
       "      <td>NaN</td>\n",
       "      <td>NaN</td>\n",
       "      <td>NaN</td>\n",
       "    </tr>\n",
       "    <tr>\n",
       "      <th>1</th>\n",
       "      <td>01801252-3a7e-4f5f-8b6d-49e8da3902f3</td>\n",
       "      <td>2021-10-16</td>\n",
       "      <td>5</td>\n",
       "      <td>0</td>\n",
       "      <td>NaN</td>\n",
       "      <td>NaN</td>\n",
       "      <td>NaN</td>\n",
       "      <td>NaN</td>\n",
       "    </tr>\n",
       "    <tr>\n",
       "      <th>2</th>\n",
       "      <td>229876e0-c6b0-42b7-9d83-85f07f12eb05</td>\n",
       "      <td>2021-10-16</td>\n",
       "      <td>5</td>\n",
       "      <td>0</td>\n",
       "      <td>9.0</td>\n",
       "      <td>10.733333</td>\n",
       "      <td>12.583333</td>\n",
       "      <td>1.85</td>\n",
       "    </tr>\n",
       "    <tr>\n",
       "      <th>3</th>\n",
       "      <td>531d7f6d-b880-4a0b-b467-80005a316f1c</td>\n",
       "      <td>2021-10-16</td>\n",
       "      <td>5</td>\n",
       "      <td>0</td>\n",
       "      <td>NaN</td>\n",
       "      <td>NaN</td>\n",
       "      <td>NaN</td>\n",
       "      <td>NaN</td>\n",
       "    </tr>\n",
       "    <tr>\n",
       "      <th>4</th>\n",
       "      <td>d26d4b78-7fcf-488e-b687-2d1c93c47b74</td>\n",
       "      <td>2021-10-16</td>\n",
       "      <td>5</td>\n",
       "      <td>0</td>\n",
       "      <td>NaN</td>\n",
       "      <td>NaN</td>\n",
       "      <td>NaN</td>\n",
       "      <td>NaN</td>\n",
       "    </tr>\n",
       "  </tbody>\n",
       "</table>\n",
       "</div>"
      ],
      "text/plain": [
       "                  ParticipantIdentifier ActualDueDate  DayOfWeek IsWeekday  \\\n",
       "0  e7b2c780-2e2c-4181-8075-0719e0434215    2021-10-10          6         0   \n",
       "1  01801252-3a7e-4f5f-8b6d-49e8da3902f3    2021-10-16          5         0   \n",
       "2  229876e0-c6b0-42b7-9d83-85f07f12eb05    2021-10-16          5         0   \n",
       "3  531d7f6d-b880-4a0b-b467-80005a316f1c    2021-10-16          5         0   \n",
       "4  d26d4b78-7fcf-488e-b687-2d1c93c47b74    2021-10-16          5         0   \n",
       "\n",
       "   CompleteCount   TaskTime  TotalTime  OffTaskTime  \n",
       "0            NaN        NaN        NaN          NaN  \n",
       "1            NaN        NaN        NaN          NaN  \n",
       "2            9.0  10.733333  12.583333         1.85  \n",
       "3            NaN        NaN        NaN          NaN  \n",
       "4            NaN        NaN        NaN          NaN  "
      ]
     },
     "execution_count": 66,
     "metadata": {},
     "output_type": "execute_result"
    }
   ],
   "source": [
    "# convert times to minutes as a float\n",
    "df['TaskTime'] = df['TaskTime'].dt.seconds/60\n",
    "df['TotalTime'] = df['TotalTime'].dt.seconds/60\n",
    "df['OffTaskTime'] = df['OffTaskTime'].dt.seconds/60\n",
    "\n",
    "df.head()"
   ]
  },
  {
   "cell_type": "markdown",
   "metadata": {},
   "source": [
    "### Plot"
   ]
  },
  {
   "cell_type": "markdown",
   "metadata": {},
   "source": [
    "---\n",
    "First select \"good\" subjects (in this case Donna, Cendri and I)"
   ]
  },
  {
   "cell_type": "code",
   "execution_count": 22,
   "metadata": {},
   "outputs": [],
   "source": [
    "good_subjects = ['01801252-3a7e-4f5f-8b6d-49e8da3902f3',\n",
    "                 'd26d4b78-7fcf-488e-b687-2d1c93c47b74',\n",
    "                 '531d7f6d-b880-4a0b-b467-80005a316f1c']\n",
    "\n",
    "df_good = df[df.ParticipantIdentifier.isin(good_subjects)].reset_index(drop=True)"
   ]
  },
  {
   "cell_type": "markdown",
   "metadata": {},
   "source": [
    "---\n",
    "\n",
    "This is hacky but just grabbing dates after March 1 as the iterating stabilized a bit around that point..."
   ]
  },
  {
   "cell_type": "code",
   "execution_count": 23,
   "metadata": {},
   "outputs": [],
   "source": [
    "# subset based on date\n",
    "df_good = df_good.loc[df_good.ActualDueDate > datetime.date(year=2021,month=3,day=1)].reset_index(drop=True)"
   ]
  },
  {
   "cell_type": "code",
   "execution_count": 24,
   "metadata": {},
   "outputs": [
    {
     "data": {
      "image/png": "[encoded data removed]",
      "text/plain": [
       "<Figure size 432x288 with 1 Axes>"
      ]
     },
     "metadata": {
      "needs_background": "light"
     },
     "output_type": "display_data"
    }
   ],
   "source": [
    "_ = sns.histplot(df_good.TaskTime, binrange=[0,50])"
   ]
  },
  {
   "cell_type": "code",
   "execution_count": 25,
   "metadata": {},
   "outputs": [
    {
     "data": {
      "image/png": "[encoded data removed]",
      "text/plain": [
       "<Figure size 432x288 with 1 Axes>"
      ]
     },
     "metadata": {
      "needs_background": "light"
     },
     "output_type": "display_data"
    }
   ],
   "source": [
    "_ = sns.histplot(df_good.CompleteCount)"
   ]
  },
  {
   "cell_type": "code",
   "execution_count": 28,
   "metadata": {},
   "outputs": [
    {
     "data": {
      "image/png": "[encoded data removed]",
      "text/plain": [
       "<Figure size 1111.25x864 with 20 Axes>"
      ]
     },
     "metadata": {
      "needs_background": "light"
     },
     "output_type": "display_data"
    }
   ],
   "source": [
    "columns = ['CompleteCount', 'TaskTime', 'TotalTime', 'OffTaskTime']\n",
    "\n",
    "\n",
    "_ = sns.pairplot(data=df_good, vars=columns,\n",
    "                 hue='ParticipantIdentifier', plot_kws={'alpha': 0.5},\n",
    "                 height=3, diag_kind='hist', diag_kws={'bins': 7})"
   ]
  },
  {
   "cell_type": "code",
   "execution_count": 29,
   "metadata": {},
   "outputs": [
    {
     "data": {
      "image/png": "[encoded data removed]",
      "text/plain": [
       "<Figure size 864x864 with 20 Axes>"
      ]
     },
     "metadata": {
      "needs_background": "light"
     },
     "output_type": "display_data"
    }
   ],
   "source": [
    "# look at reg line\n",
    "\n",
    "_ = sns.pairplot(data=df_good, kind=\"reg\",\n",
    "                 vars=columns, plot_kws={'line_kws':{'color':'red'}},\n",
    "                 height=3, diag_kind='hist', diag_kws={'bins': 7})"
   ]
  },
  {
   "cell_type": "markdown",
   "metadata": {},
   "source": [
    "## Add Passive Features"
   ]
  },
  {
   "cell_type": "code",
   "execution_count": null,
   "metadata": {},
   "outputs": [],
   "source": []
  },
  {
   "cell_type": "markdown",
   "metadata": {},
   "source": [
    "## Add Self Report"
   ]
  },
  {
   "cell_type": "code",
   "execution_count": null,
   "metadata": {},
   "outputs": [],
   "source": []
  },
  {
   "cell_type": "markdown",
   "metadata": {},
   "source": [
    "## Add Tasks"
   ]
  },
  {
   "cell_type": "code",
   "execution_count": null,
   "metadata": {},
   "outputs": [],
   "source": []
  }
 ],
 "metadata": {
  "kernelspec": {
   "display_name": "Python 3",
   "language": "python",
   "name": "python3"
  },
  "language_info": {
   "codemirror_mode": {
    "name": "ipython",
    "version": 3
   },
   "file_extension": ".py",
   "mimetype": "text/x-python",
   "name": "python",
   "nbconvert_exporter": "python",
   "pygments_lexer": "ipython3",
   "version": "3.8.3"
  },
  "toc-autonumbering": true
 },
 "nbformat": 4,
 "nbformat_minor": 4
}
