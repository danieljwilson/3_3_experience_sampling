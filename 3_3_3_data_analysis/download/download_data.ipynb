{
 "cells": [
  {
   "cell_type": "markdown",
   "metadata": {},
   "source": [
    "Note...would be good to do a test for the version of Chrome and provide an error if the Chromedriver version doesn't match that includes the link to download the chromedriver and also directions on where to put it (path)"
   ]
  },
  {
   "cell_type": "markdown",
   "metadata": {},
   "source": [
    "# Imports"
   ]
  },
  {
   "cell_type": "markdown",
   "metadata": {},
   "source": [
    "## Selenium"
   ]
  },
  {
   "cell_type": "code",
   "execution_count": 1,
   "metadata": {},
   "outputs": [],
   "source": [
    "from selenium import webdriver\n",
    "from selenium.webdriver.common.by import By\n",
    "from selenium.webdriver.support.ui import WebDriverWait\n",
    "from selenium.webdriver.support import expected_conditions as EC\n",
    "\n",
    "import os\n",
    "import time\n",
    "from datetime import datetime\n",
    "import pyotp # for 2 factor"
   ]
  },
  {
   "cell_type": "code",
   "execution_count": 2,
   "metadata": {},
   "outputs": [],
   "source": [
    "def rk_studio_login(username, password, otp_code):\n",
    "    # go to site\n",
    "    driver.get('https://rkstudio.careevolution.com/inv')\n",
    "    \n",
    "    # enter username and password, then submit\n",
    "    driver.find_element_by_id('Username').send_keys(username)\n",
    "    driver.find_element_by_id ('Password').send_keys(password)\n",
    "    driver.find_element_by_id('login-button').click()\n",
    "    \n",
    "    # get 2 factor authorization code, then submit\n",
    "    totp = pyotp.TOTP(otp_code)\n",
    "    two_factor = totp.now()\n",
    "    driver.find_element_by_id ('Code').send_keys(two_factor)\n",
    "    driver.find_element_by_id('provide-one-time-password-submit').click()\n",
    "    \n",
    "    # navigate to project\n",
    "    try:\n",
    "        # make sure page is loaded first, then pull link\n",
    "        link = WebDriverWait(driver, 10).until(\n",
    "            EC.presence_of_element_located((By.LINK_TEXT, \"DJW Thesis\"))\n",
    "        )\n",
    "        link.click()\n",
    "        \n",
    "    except:\n",
    "        print(\"Something went wrong going to Thesis project...\")\n",
    "        driver.quit()\n",
    "\n",
    "    # navigate to downloads\n",
    "    try:\n",
    "        # make sure page is loaded first, then pull link\n",
    "        link = WebDriverWait(driver, 10).until(\n",
    "            EC.presence_of_element_located((By.LINK_TEXT, \"Export History\"))\n",
    "        )\n",
    "        link.click()\n",
    "        \n",
    "    except:\n",
    "        print(\"Something went wrong going to Export History...\")\n",
    "        driver.quit()\n",
    "    \n",
    "    #-----------------------------------#\n",
    "    # find date of last downloaded file #\n",
    "    #-----------------------------------#\n",
    "    current_files = []\n",
    "\n",
    "    # find all files in raw_data/testing directory\n",
    "    for root, dirs, files in os.walk(download_path):\n",
    "        for filename in files:\n",
    "            if filename.endswith('.zip'):\n",
    "                filename = filename.split('-')[1].split('.')[0]\n",
    "                current_files.append(filename)\n",
    "\n",
    "    # put files in order by date\n",
    "    current_files.sort()\n",
    "\n",
    "    # get the last element in sorted list and convert to datetime\n",
    "    last_download = datetime.strptime(current_files[-1], '%Y%m%d')\n",
    "    \n",
    "    #----------------------------------#\n",
    "    # Download new data from RK Studio #\n",
    "    #----------------------------------#\n",
    "    \n",
    "    # get buttons of files (to click)\n",
    "    try:\n",
    "        # make sure page loads first...\n",
    "        buttons = WebDriverWait(driver, 10).until(\n",
    "            EC.presence_of_all_elements_located((By.XPATH, \"//button[@class='editor-controls-button' and @title='Download']\"))\n",
    "        )\n",
    "        # buttons = driver.find_elements_by_xpath(\"//button[@class='editor-controls-button' and @title='Download']\")\n",
    "    \n",
    "        # get dates of files\n",
    "        dates = driver.find_elements_by_xpath(\"//*[contains(text(),'Incremental')]\")\n",
    "    except:\n",
    "        print(\"Something went wrong getting buttons...\")\n",
    "    \n",
    "    # create list of dates to check against\n",
    "    file_dates = []\n",
    "\n",
    "    for date in dates:\n",
    "        # check if empty\n",
    "        if date.text:\n",
    "            date_text = date.text.split(',')[1].split('to ')[-1] + ' ' +  date.text.split(',')[2].split(' ')[1]\n",
    "            date_dt = datetime.strptime(date_text, '%b %d %Y')\n",
    "            file_dates.append(date_dt)\n",
    "\n",
    "    # download files more recent than `last_download`\n",
    "    for i in range(len(file_dates)):\n",
    "        if file_dates[i] > last_download:\n",
    "            buttons[i].click()\n",
    "    \n",
    "    # give it time to download\n",
    "    time.sleep(30)\n",
    "\n",
    "    # output time completed\n",
    "    now = datetime.now()\n",
    "    # dd/mm/YY H:M:S\n",
    "    dt_string = now.strftime(\"%d/%m/%Y %H:%M:%S\")\n",
    "    print(\"Download completed: \", dt_string)\n",
    "\n",
    "\n",
    "    # end session \n",
    "    driver.quit()"
   ]
  },
  {
   "cell_type": "code",
   "execution_count": 3,
   "metadata": {},
   "outputs": [],
   "source": [
    "# Chromedriver path\n",
    "PATH = \"/Users/djw/Documents/pCloud_synced/Academics/Projects/2020_thesis/thesis_experiments/3_experiments/3_3_experience_sampling/3_3_3_data_analysis/resources/chromedriver\"\n",
    "\n",
    "# Login credentials\n",
    "user_auth = {'Username': 'djw',\n",
    "             'Password': 'nFs3NdlXTKat65Auv!4Z!i#',\n",
    "             'OTP code': 'dp2dL56du3nmoL2prv6x7ryfyowu5pLo'\n",
    "            }"
   ]
  },
  {
   "cell_type": "code",
   "execution_count": 4,
   "metadata": {},
   "outputs": [],
   "source": [
    "download_path = \"/Users/djw/Documents/pCloud_synced/Academics/Projects/2020_thesis/thesis_experiments/3_experiments/3_3_experience_sampling/3_3_1_raw_data/testing\"\n",
    "\n",
    "chrome_options = webdriver.ChromeOptions()\n",
    "prefs = {'download.default_directory' : download_path}\n",
    "chrome_options.add_experimental_option('prefs', prefs)\n",
    "driver = webdriver.Chrome(PATH, options=chrome_options)\n",
    "\n",
    "# login\n",
    "rk_studio_login(user_auth['Username'], user_auth['Password'], user_auth['OTP code'])"
   ]
  },
  {
   "cell_type": "markdown",
   "metadata": {},
   "source": [
    "## 2 Factor Auth"
   ]
  },
  {
   "cell_type": "markdown",
   "metadata": {},
   "source": [
    "[PyOTP](https://pyauth.github.io/pyotp/) is a Python library for generating and verifying one-time passwords. It can be used to implement two-factor (2FA) or multi-factor (MFA) authentication methods in web applications and in other systems that require users to log in."
   ]
  },
  {
   "cell_type": "code",
   "execution_count": null,
   "metadata": {},
   "outputs": [],
   "source": []
  }
 ],
 "metadata": {
  "kernelspec": {
   "display_name": "Python 3",
   "language": "python",
   "name": "python3"
  },
  "language_info": {
   "codemirror_mode": {
    "name": "ipython",
    "version": 3
   },
   "file_extension": ".py",
   "mimetype": "text/x-python",
   "name": "python",
   "nbconvert_exporter": "python",
   "pygments_lexer": "ipython3",
   "version": "3.8.3"
  }
 },
 "nbformat": 4,
 "nbformat_minor": 4
}
